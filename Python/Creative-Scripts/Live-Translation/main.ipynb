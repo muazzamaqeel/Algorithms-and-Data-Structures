{
 "cells": [
  {
   "cell_type": "code",
   "execution_count": 1,
   "metadata": {},
   "outputs": [
    {
     "ename": "ModuleNotFoundError",
     "evalue": "No module named 'speech_recognition'",
     "output_type": "error",
     "traceback": [
      "\u001b[1;31m---------------------------------------------------------------------------\u001b[0m",
      "\u001b[1;31mModuleNotFoundError\u001b[0m                       Traceback (most recent call last)",
      "Cell \u001b[1;32mIn[1], line 1\u001b[0m\n\u001b[1;32m----> 1\u001b[0m \u001b[38;5;28;01mimport\u001b[39;00m \u001b[38;5;21;01mspeech_recognition\u001b[39;00m \u001b[38;5;28;01mas\u001b[39;00m \u001b[38;5;21;01msr\u001b[39;00m\n\u001b[0;32m      2\u001b[0m \u001b[38;5;28;01mfrom\u001b[39;00m \u001b[38;5;21;01mgoogletrans\u001b[39;00m \u001b[38;5;28;01mimport\u001b[39;00m Translator, LANGUAGES\n\u001b[0;32m      3\u001b[0m \u001b[38;5;28;01mimport\u001b[39;00m \u001b[38;5;21;01mpyaudio\u001b[39;00m\n",
      "\u001b[1;31mModuleNotFoundError\u001b[0m: No module named 'speech_recognition'"
     ]
    }
   ],
   "source": [
    "import speech_recognition as sr\n",
    "from googletrans import Translator, LANGUAGES\n",
    "import pyaudio\n",
    "\n",
    "# Initialize the recognizer and translator\n",
    "recognizer = sr.Recognizer()\n",
    "translator = Translator()\n",
    "\n",
    "def translate_speech_from_microphone(language=\"de\"):\n",
    "    # Use the default microphone as the audio source\n",
    "    with sr.Microphone() as source:\n",
    "        print(\"Please start speaking in German...\")\n",
    "\n",
    "        # Adjust the recognizer sensitivity to ambient noise\n",
    "        recognizer.adjust_for_ambient_noise(source, duration=1)\n",
    "\n",
    "        # Capture the audio\n",
    "        audio = recognizer.listen(source)\n",
    "\n",
    "        try:\n",
    "            # Recognize speech using Google Web Speech API\n",
    "            text = recognizer.recognize_google(audio, language=language)\n",
    "            print(\"German detected: \" + text)\n",
    "\n",
    "            # Translate the recognized text to English\n",
    "            translated = translator.translate(text, dest='en')\n",
    "            print(\"Translated to English: \" + translated.text)\n",
    "\n",
    "        except sr.UnknownValueError:\n",
    "            print(\"Google Web Speech API could not understand the audio\")\n",
    "        except sr.RequestError as e:\n",
    "            print(f\"Could not request results from Google Web Speech API; {e}\")\n",
    "\n",
    "# Specify the language code for German\n",
    "language_code = \"de-DE\"  # German (Germany)\n",
    "\n",
    "# Start the translation process\n",
    "translate_speech_from_microphone(language_code)\n"
   ]
  },
  {
   "cell_type": "code",
   "execution_count": null,
   "metadata": {},
   "outputs": [],
   "source": []
  }
 ],
 "metadata": {
  "kernelspec": {
   "display_name": "Python 3 (ipykernel)",
   "language": "python",
   "name": "python3"
  },
  "language_info": {
   "codemirror_mode": {
    "name": "ipython",
    "version": 3
   },
   "file_extension": ".py",
   "mimetype": "text/x-python",
   "name": "python",
   "nbconvert_exporter": "python",
   "pygments_lexer": "ipython3",
   "version": "3.11.3"
  }
 },
 "nbformat": 4,
 "nbformat_minor": 4
}
