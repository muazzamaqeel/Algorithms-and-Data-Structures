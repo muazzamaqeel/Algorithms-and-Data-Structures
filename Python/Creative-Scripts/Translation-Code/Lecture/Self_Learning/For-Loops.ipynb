{
 "cells": [
  {
   "cell_type": "code",
   "execution_count": 2,
   "metadata": {},
   "outputs": [
    {
     "name": "stdout",
     "output_type": "stream",
     "text": [
      "apple\n",
      "banana\n",
      "cherry\n"
     ]
    }
   ],
   "source": [
    "#Basic For Loop\n",
    "furits = [\"apple\", \"banana\", \"cherry\"]\n",
    "for i in furits:\n",
    "    print(i)"
   ]
  },
  {
   "cell_type": "code",
   "execution_count": 16,
   "metadata": {},
   "outputs": [
    {
     "name": "stdout",
     "output_type": "stream",
     "text": [
      "0\n",
      "1\n",
      "2\n",
      "3\n",
      "4\n",
      "5\n",
      "6\n",
      "7\n",
      "8\n",
      "9\n"
     ]
    }
   ],
   "source": [
    "#Using the range() function\n",
    "for i in range(10):\n",
    "    print(i+0)"
   ]
  },
  {
   "cell_type": "code",
   "execution_count": 20,
   "metadata": {},
   "outputs": [
    {
     "name": "stdout",
     "output_type": "stream",
     "text": [
      "100\n",
      "110\n",
      "120\n",
      "130\n",
      "140\n",
      "150\n",
      "160\n",
      "170\n",
      "180\n",
      "190\n"
     ]
    }
   ],
   "source": [
    "#Using the start parameter\n",
    "for i in range(100, 200, 10): #start from 100 to 200, increment by 10\n",
    "    print(i)"
   ]
  },
  {
   "cell_type": "code",
   "execution_count": 26,
   "metadata": {},
   "outputs": [
    {
     "name": "stdout",
     "output_type": "stream",
     "text": [
      "i is less than 5\n",
      "Value of O: 0\n",
      "i is less than 5\n",
      "Value of O: 1\n",
      "i is less than 5\n",
      "Value of O: 2\n",
      "i is less than 5\n",
      "Value of O: 3\n",
      "i is less than 5\n",
      "Value of O: 4\n",
      "i is less than 5\n",
      "Value of O: 5\n",
      "i is greater than 5\n",
      "Value of O: 6\n",
      "i is greater than 5\n",
      "Value of O: 7\n",
      "i is greater than 5\n",
      "Value of O: 8\n",
      "i is greater than 5\n",
      "Value of O: 9\n"
     ]
    }
   ],
   "source": [
    "#Using the else statement\n",
    "for O in range(10):\n",
    "    if O>5:\n",
    "        print(\"i is greater than 5\") \n",
    "        print(\"Value of O: \" + str(O))\n",
    "    else:\n",
    "        print(\"i is less than 5\")\n",
    "        print(\"Value of O: \" + str(O))\n"
   ]
  },
  {
   "cell_type": "code",
   "execution_count": 30,
   "metadata": {},
   "outputs": [
    {
     "name": "stdout",
     "output_type": "stream",
     "text": [
      "apple 1\n",
      "banana 2\n",
      "cherry 3\n",
      "apple 1\n",
      "banana 2\n",
      "cherry 3\n"
     ]
    }
   ],
   "source": [
    "#iterating over a Dictionary\n",
    "furits = {\"apple\": 1, \"banana\": 2, \"cherry\": 3}\n",
    "for key, value in furits.items():\n",
    "    print(key, value)\n",
    "\n",
    "furits = {\"apple\": 1, \"banana\": 2, \"cherry\": 3}\n",
    "for x in furits:\n",
    "    print(x, furits[x])"
   ]
  },
  {
   "cell_type": "code",
   "execution_count": 31,
   "metadata": {},
   "outputs": [
    {
     "name": "stdout",
     "output_type": "stream",
     "text": [
      "b\n",
      "a\n",
      "n\n",
      "a\n",
      "n\n",
      "a\n"
     ]
    }
   ],
   "source": [
    "#iterating over a string\n",
    "for x in \"banana\":\n",
    "    print(x)\n",
    "    "
   ]
  },
  {
   "cell_type": "code",
   "execution_count": 34,
   "metadata": {},
   "outputs": [
    {
     "name": "stdout",
     "output_type": "stream",
     "text": [
      "cherry\n",
      "banana\n",
      "apple\n"
     ]
    }
   ],
   "source": [
    "furits = {\"apple\", \"banana\", \"cherry\"}\n",
    "for x in furits:\n",
    "    print(x)\n"
   ]
  },
  {
   "cell_type": "code",
   "execution_count": 35,
   "metadata": {},
   "outputs": [
    {
     "name": "stdout",
     "output_type": "stream",
     "text": [
      "1\n",
      "2\n",
      "3\n",
      "4\n",
      "5\n",
      "6\n",
      "7\n",
      "8\n",
      "9\n"
     ]
    }
   ],
   "source": [
    "#nested loops\n",
    "matrix = [[1, 2, 3], [4, 5, 6], [7, 8, 9]]\n",
    "for i in matrix:\n",
    "    for j in i:\n",
    "        print(j)\n"
   ]
  },
  {
   "cell_type": "code",
   "execution_count": 39,
   "metadata": {},
   "outputs": [
    {
     "name": "stdout",
     "output_type": "stream",
     "text": [
      "Available: apple\n",
      "Available: banana\n",
      "Not Available: cherry\n",
      "Not Available: kiwi\n",
      "Available: mango\n"
     ]
    }
   ],
   "source": [
    "#list comprehension\n",
    "furits = [\"apple\", \"banana\", \"cherry\", \"kiwi\", \"mango\"]\n",
    "for x in furits:\n",
    "    if x == \"cherry\" or x == \"kiwi\":\n",
    "        print(\"Not Available: \" + x)\n",
    "    else:\n",
    "        print(\"Available: \" + x)"
   ]
  },
  {
   "cell_type": "code",
   "execution_count": 45,
   "metadata": {},
   "outputs": [
    {
     "name": "stdout",
     "output_type": "stream",
     "text": [
      "0\n",
      "1\n",
      "2\n"
     ]
    }
   ],
   "source": [
    "#Using the pass statement\n",
    "for x in [0, 1, 2]:\n",
    "    pass            #use pass statement to avoid getting an error\n",
    "    print(x)\n",
    "    \n"
   ]
  },
  {
   "cell_type": "code",
   "execution_count": 54,
   "metadata": {},
   "outputs": [
    {
     "name": "stdout",
     "output_type": "stream",
     "text": [
      "apple ['apple', 'banana', 'cherry']\n",
      "banana ['apple', 'banana', 'cherry']\n",
      "cherry ['apple', 'banana', 'cherry']\n"
     ]
    }
   ],
   "source": [
    "#Using 'enumerate\n",
    "furits = [\"apple\", \"banana\", \"cherry\"]\n",
    "for ooo, hooo in enumerate(furits):\n",
    "    print(hooo, furits)"
   ]
  },
  {
   "cell_type": "code",
   "execution_count": 57,
   "metadata": {},
   "outputs": [
    {
     "name": "stdout",
     "output_type": "stream",
     "text": [
      "0\n",
      "10\n",
      "20\n",
      "30\n",
      "40\n",
      "50\n",
      "60\n",
      "70\n",
      "80\n",
      "90\n",
      "100\n",
      "110\n",
      "120\n",
      "130\n",
      "140\n",
      "150\n",
      "160\n",
      "170\n",
      "180\n",
      "190\n",
      "200\n",
      "210\n",
      "220\n",
      "230\n",
      "240\n",
      "250\n",
      "260\n",
      "270\n",
      "280\n",
      "290\n",
      "300\n",
      "310\n",
      "320\n",
      "330\n",
      "340\n",
      "350\n",
      "360\n",
      "370\n",
      "380\n",
      "390\n",
      "400\n",
      "410\n",
      "420\n",
      "430\n",
      "440\n",
      "450\n",
      "460\n",
      "470\n",
      "480\n",
      "490\n",
      "500\n"
     ]
    }
   ],
   "source": [
    "import itertools #import the itertools module. This module is used to iterate over data structures.\n",
    "#It provides various functions to work with iterators to generate complex iterators.\n",
    "\n",
    "for i in itertools.count(0, 10):\n",
    "    print(i)\n",
    "    if i >= 500:\n",
    "        break"
   ]
  },
  {
   "cell_type": "code",
   "execution_count": 60,
   "metadata": {},
   "outputs": [
    {
     "name": "stdout",
     "output_type": "stream",
     "text": [
      "10\n",
      "12\n",
      "14\n",
      "16\n",
      "18\n"
     ]
    }
   ],
   "source": [
    "for i in range(10, 20, 2):\n",
    "    print(i)"
   ]
  },
  {
   "cell_type": "code",
   "execution_count": null,
   "metadata": {},
   "outputs": [],
   "source": []
  }
 ],
 "metadata": {
  "kernelspec": {
   "display_name": "Python 3",
   "language": "python",
   "name": "python3"
  },
  "language_info": {
   "codemirror_mode": {
    "name": "ipython",
    "version": 3
   },
   "file_extension": ".py",
   "mimetype": "text/x-python",
   "name": "python",
   "nbconvert_exporter": "python",
   "pygments_lexer": "ipython3",
   "version": "3.11.3"
  }
 },
 "nbformat": 4,
 "nbformat_minor": 2
}
