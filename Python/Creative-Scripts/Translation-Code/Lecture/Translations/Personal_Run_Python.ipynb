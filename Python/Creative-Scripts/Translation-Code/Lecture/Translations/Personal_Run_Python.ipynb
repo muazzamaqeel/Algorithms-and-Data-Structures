{
 "cells": [
  {
   "cell_type": "code",
   "execution_count": 79,
   "metadata": {},
   "outputs": [
    {
     "name": "stdout",
     "output_type": "stream",
     "text": [
      "25\n",
      "Muazam\n",
      "c\n",
      "[1, 2, 3, 4]\n",
      "(1, 2, 3, 4)\n",
      "{'name': 'Muazzam', 'age': 25, 'Degree': 'BSCS'}\n"
     ]
    }
   ],
   "source": [
    "# Printing different data types in python\n",
    "number_example = 25\n",
    "string_example = \"Muazam\"\n",
    "char_example = 'c'\n",
    "array_example = [1,2,3,4]\n",
    "tuple_example = (1,2,3,4)\n",
    "dictionary_example = {'name': 'Muazzam', 'age': 25, 'Degree': 'BSCS'}\n",
    "print(number_example)\n",
    "print(string_example)\n",
    "print(char_example)\n",
    "print(array_example)\n",
    "print(tuple_example)\n",
    "print(dictionary_example)\n"
   ]
  },
  {
   "cell_type": "code",
   "execution_count": 80,
   "metadata": {},
   "outputs": [
    {
     "name": "stdout",
     "output_type": "stream",
     "text": [
      "1\n",
      "2\n",
      "3\n",
      "4\n",
      "5\n",
      "6\n",
      "7\n",
      "8\n",
      "9\n",
      "9\n",
      "10\n",
      "11\n",
      "12\n",
      "13\n",
      "14\n",
      "15\n",
      "16\n",
      "17\n",
      "18\n",
      "19\n",
      "20\n",
      "21\n",
      "22\n",
      "23\n",
      "24\n",
      "25\n",
      "26\n",
      "27\n",
      "28\n",
      "29\n",
      "30\n",
      "31\n",
      "32\n",
      "33\n",
      "34\n",
      "35\n",
      "36\n",
      "37\n",
      "38\n",
      "39\n",
      "40\n",
      "41\n",
      "42\n",
      "43\n",
      "44\n",
      "End of the loop: 45\n",
      "i is equal to 45\n"
     ]
    }
   ],
   "source": [
    "#for loop\n",
    "for i in range(1, 10):\n",
    "    print(i)\n",
    "while i < 45:\n",
    "    print(i)\n",
    "    i += 1\n",
    "print(\"End of the loop:\", i)\n",
    "# if else statement\n",
    "\n",
    "if i>45:\n",
    "    print(\"i is greater than 45\")\n",
    "if i == 45:\n",
    "    print(\"i is equal to 45\")\n",
    "else:\n",
    "    print(\"i is less than 45\")\n"
   ]
  },
  {
   "cell_type": "code",
   "execution_count": 81,
   "metadata": {},
   "outputs": [
    {
     "name": "stdout",
     "output_type": "stream",
     "text": [
      "0\n",
      "1\n",
      "2\n",
      "3\n",
      "Loop is ended 4\n",
      "Loop is ended 5\n",
      "Loop is ended 6\n",
      "Loop is ended 7\n",
      "Loop is ended 8\n",
      "Loop is ended 9\n"
     ]
    }
   ],
   "source": [
    "#for loop\n",
    "j=0\n",
    "for i in range(10):\n",
    "    if i <= 3:\n",
    "        print(i)\n",
    "        i += 1\n",
    "        j=i\n",
    "    else:\n",
    "        print(\"Loop is ended\",j)\n",
    "        j+=1\n"
   ]
  },
  {
   "cell_type": "code",
   "execution_count": 82,
   "metadata": {},
   "outputs": [
    {
     "name": "stdout",
     "output_type": "stream",
     "text": [
      "<class 'int'>\n",
      "140717378496040\n",
      "2127420790464\n",
      "2127421308352\n",
      "[1, 2, 3, 4] [1, 2, 3, 4]\n",
      "hello\n"
     ]
    }
   ],
   "source": [
    "print(type(number_example))\n",
    "print(id(number_example))\n",
    "x1= [1,2,3,4]\n",
    "y1 = x1[:]\n",
    "print(id(x1))\n",
    "print(id(y1))\n",
    "print(x1, y1)\n",
    "\n",
    "s1 = \"hello\"\n",
    "s2 = s1[:]\n",
    "print(s2)  # Output: hello\n"
   ]
  },
  {
   "cell_type": "code",
   "execution_count": 83,
   "metadata": {},
   "outputs": [
    {
     "name": "stdout",
     "output_type": "stream",
     "text": [
      "Please select operation -\n",
      "\n",
      "Press '1' for addition\n",
      "Press '2' for subtraction\n",
      "Press '3' for multiplication\n",
      "Press '4' for division\n",
      "Press '5' for power\n"
     ]
    },
    {
     "ename": "KeyboardInterrupt",
     "evalue": "Interrupted by user",
     "output_type": "error",
     "traceback": [
      "\u001b[1;31m---------------------------------------------------------------------------\u001b[0m",
      "\u001b[1;31mKeyboardInterrupt\u001b[0m                         Traceback (most recent call last)",
      "Cell \u001b[1;32mIn[83], line 36\u001b[0m\n\u001b[0;32m     34\u001b[0m \u001b[38;5;28mprint\u001b[39m(\u001b[38;5;124m\"\u001b[39m\u001b[38;5;124mPress \u001b[39m\u001b[38;5;124m'\u001b[39m\u001b[38;5;124m4\u001b[39m\u001b[38;5;124m'\u001b[39m\u001b[38;5;124m for division\u001b[39m\u001b[38;5;124m\"\u001b[39m)\n\u001b[0;32m     35\u001b[0m \u001b[38;5;28mprint\u001b[39m(\u001b[38;5;124m\"\u001b[39m\u001b[38;5;124mPress \u001b[39m\u001b[38;5;124m'\u001b[39m\u001b[38;5;124m5\u001b[39m\u001b[38;5;124m'\u001b[39m\u001b[38;5;124m for power\u001b[39m\u001b[38;5;124m\"\u001b[39m)\n\u001b[1;32m---> 36\u001b[0m selection \u001b[38;5;241m=\u001b[39m \u001b[38;5;28mint\u001b[39m(\u001b[38;5;28;43minput\u001b[39;49m\u001b[43m(\u001b[49m\u001b[38;5;124;43m\"\u001b[39;49m\u001b[38;5;124;43mPlease enter the operation: \u001b[39;49m\u001b[38;5;124;43m\"\u001b[39;49m\u001b[43m)\u001b[49m)\n\u001b[0;32m     37\u001b[0m x \u001b[38;5;241m=\u001b[39m         \u001b[38;5;28mint\u001b[39m(\u001b[38;5;28minput\u001b[39m(\u001b[38;5;124m\"\u001b[39m\u001b[38;5;124mPlease enter the first number: \u001b[39m\u001b[38;5;124m\"\u001b[39m))\n\u001b[0;32m     38\u001b[0m y \u001b[38;5;241m=\u001b[39m         \u001b[38;5;28mint\u001b[39m(\u001b[38;5;28minput\u001b[39m(\u001b[38;5;124m\"\u001b[39m\u001b[38;5;124mPlease enter the second number: \u001b[39m\u001b[38;5;124m\"\u001b[39m))\n",
      "File \u001b[1;32m~\\AppData\\Roaming\\Python\\Python311\\site-packages\\ipykernel\\kernelbase.py:1202\u001b[0m, in \u001b[0;36mKernel.raw_input\u001b[1;34m(self, prompt)\u001b[0m\n\u001b[0;32m   1200\u001b[0m     msg \u001b[38;5;241m=\u001b[39m \u001b[38;5;124m\"\u001b[39m\u001b[38;5;124mraw_input was called, but this frontend does not support input requests.\u001b[39m\u001b[38;5;124m\"\u001b[39m\n\u001b[0;32m   1201\u001b[0m     \u001b[38;5;28;01mraise\u001b[39;00m StdinNotImplementedError(msg)\n\u001b[1;32m-> 1202\u001b[0m \u001b[38;5;28;01mreturn\u001b[39;00m \u001b[38;5;28;43mself\u001b[39;49m\u001b[38;5;241;43m.\u001b[39;49m\u001b[43m_input_request\u001b[49m\u001b[43m(\u001b[49m\n\u001b[0;32m   1203\u001b[0m \u001b[43m    \u001b[49m\u001b[38;5;28;43mstr\u001b[39;49m\u001b[43m(\u001b[49m\u001b[43mprompt\u001b[49m\u001b[43m)\u001b[49m\u001b[43m,\u001b[49m\n\u001b[0;32m   1204\u001b[0m \u001b[43m    \u001b[49m\u001b[38;5;28;43mself\u001b[39;49m\u001b[38;5;241;43m.\u001b[39;49m\u001b[43m_parent_ident\u001b[49m\u001b[43m[\u001b[49m\u001b[38;5;124;43m\"\u001b[39;49m\u001b[38;5;124;43mshell\u001b[39;49m\u001b[38;5;124;43m\"\u001b[39;49m\u001b[43m]\u001b[49m\u001b[43m,\u001b[49m\n\u001b[0;32m   1205\u001b[0m \u001b[43m    \u001b[49m\u001b[38;5;28;43mself\u001b[39;49m\u001b[38;5;241;43m.\u001b[39;49m\u001b[43mget_parent\u001b[49m\u001b[43m(\u001b[49m\u001b[38;5;124;43m\"\u001b[39;49m\u001b[38;5;124;43mshell\u001b[39;49m\u001b[38;5;124;43m\"\u001b[39;49m\u001b[43m)\u001b[49m\u001b[43m,\u001b[49m\n\u001b[0;32m   1206\u001b[0m \u001b[43m    \u001b[49m\u001b[43mpassword\u001b[49m\u001b[38;5;241;43m=\u001b[39;49m\u001b[38;5;28;43;01mFalse\u001b[39;49;00m\u001b[43m,\u001b[49m\n\u001b[0;32m   1207\u001b[0m \u001b[43m\u001b[49m\u001b[43m)\u001b[49m\n",
      "File \u001b[1;32m~\\AppData\\Roaming\\Python\\Python311\\site-packages\\ipykernel\\kernelbase.py:1245\u001b[0m, in \u001b[0;36mKernel._input_request\u001b[1;34m(self, prompt, ident, parent, password)\u001b[0m\n\u001b[0;32m   1242\u001b[0m \u001b[38;5;28;01mexcept\u001b[39;00m \u001b[38;5;167;01mKeyboardInterrupt\u001b[39;00m:\n\u001b[0;32m   1243\u001b[0m     \u001b[38;5;66;03m# re-raise KeyboardInterrupt, to truncate traceback\u001b[39;00m\n\u001b[0;32m   1244\u001b[0m     msg \u001b[38;5;241m=\u001b[39m \u001b[38;5;124m\"\u001b[39m\u001b[38;5;124mInterrupted by user\u001b[39m\u001b[38;5;124m\"\u001b[39m\n\u001b[1;32m-> 1245\u001b[0m     \u001b[38;5;28;01mraise\u001b[39;00m \u001b[38;5;167;01mKeyboardInterrupt\u001b[39;00m(msg) \u001b[38;5;28;01mfrom\u001b[39;00m \u001b[38;5;28;01mNone\u001b[39;00m\n\u001b[0;32m   1246\u001b[0m \u001b[38;5;28;01mexcept\u001b[39;00m \u001b[38;5;167;01mException\u001b[39;00m:\n\u001b[0;32m   1247\u001b[0m     \u001b[38;5;28mself\u001b[39m\u001b[38;5;241m.\u001b[39mlog\u001b[38;5;241m.\u001b[39mwarning(\u001b[38;5;124m\"\u001b[39m\u001b[38;5;124mInvalid Message:\u001b[39m\u001b[38;5;124m\"\u001b[39m, exc_info\u001b[38;5;241m=\u001b[39m\u001b[38;5;28;01mTrue\u001b[39;00m)\n",
      "\u001b[1;31mKeyboardInterrupt\u001b[0m: Interrupted by user"
     ]
    }
   ],
   "source": [
    "# Caclulator program\n",
    "def add(x,y):\n",
    "    return x+y\n",
    "def multiply(x,y):\n",
    "    return x*y\n",
    "def divide(x,y):\n",
    "    return x/y\n",
    "def subtract(x,y):\n",
    "    return x-y\n",
    "def power(x,y):\n",
    "    return x**y\n",
    "\n",
    "def calculator(x,y,selection):\n",
    "    if(selection==1):\n",
    "        print(\"The addition of two numbers is: \", add(x,y))\n",
    "    elif(selection==2):\n",
    "        print(\"The subtraction of two numbers is: \", subtract(x,y))\n",
    "    elif(selection==3):\n",
    "        print(\"The multiplication of two numbers is: \", multiply(x,y))\n",
    "    elif(selection==4):\n",
    "        print(\"The division of two numbers is: \", divide(x,y))\n",
    "    elif(selection==5):\n",
    "        print(\"The power of two numbers is: \", power(x,y))\n",
    "    else:\n",
    "        print(\"Invalid selection\")\n",
    "\n",
    "\n",
    "\n",
    "# Take input from the user\n",
    "print(\"Please select operation -\\n\")\n",
    "print(\"Press '1' for addition\")\n",
    "print(\"Press '2' for subtraction\")\n",
    "print(\"Press '3' for multiplication\")\n",
    "print(\"Press '4' for division\")\n",
    "print(\"Press '5' for power\")\n",
    "selection = int(input(\"Please enter the operation: \"))\n",
    "x =         int(input(\"Please enter the first number: \"))\n",
    "y =         int(input(\"Please enter the second number: \"))\n",
    "calculator(x,y,selection)\n"
   ]
  },
  {
   "cell_type": "code",
   "execution_count": 85,
   "metadata": {},
   "outputs": [
    {
     "name": "stdout",
     "output_type": "stream",
     "text": [
      "The addtion of two numbers is:  11\n",
      "Both objects are equal\n",
      "The power of two numbers is:  984770902183611232881\n",
      "Both objects are not equal\n",
      "The program is ended\n"
     ]
    }
   ],
   "source": [
    "# Calculator using class\n",
    "class NormalCalculator:\n",
    "    x = 0\n",
    "    y = 0\n",
    "    def __init__(self,x,y):\n",
    "        self.x = x\n",
    "        self.y = y\n",
    "    def add(self):\n",
    "        return self.x + self.y\n",
    "    def subtract(self):\n",
    "        return self.x - self.y\n",
    "    def multiply(self):\n",
    "        return self.x + self.y\n",
    "    def divide(self):\n",
    "        return self.x / self.y\n",
    "    def power(self):\n",
    "        return self.x ** self.y\n",
    "    \n",
    "    def __eq__(self,other):\n",
    "        return self.x == other.x and self.y == other.y\n",
    "    def __ne__(self, other):\n",
    "        return self.x != other.x and self.y != other.y\n",
    "    def __lt__(self, other):\n",
    "        return self.x < other.x and self.y < other.y\n",
    "    def __gt__(self, other):\n",
    "        return self.x > other.x and self.y > other.y\n",
    "    def __le__(self, other):\n",
    "        return self.x <= other.x and self.y <= other.y\n",
    "    def __ge__(self, other):\n",
    "        return self.x >= other.x and self.y >= other.y\n",
    "        \n",
    "def Selection():\n",
    "    #print(\"Please select operation -\\n\")\n",
    "    #print(\"Press '1' for addition\")\n",
    "    #print(\"Press '2' for subtraction\")\n",
    "    #print(\"Press '3' for multiplication\")\n",
    "    #print(\"Press '4' for division\")\n",
    "    #print(\"Press '5' for power\")\n",
    "    selection = int(input(\"Please enter the operation: \"))\n",
    "    return selection\n",
    "\n",
    "def flow():\n",
    "    x= int(input(\"Please enter the first number: \"))\n",
    "    y= int(input(\"Please enter the second number: \"))\n",
    "    selection = Selection()\n",
    "    Object_1 = NormalCalculator(x,y)\n",
    "    if selection == 1:\n",
    "        print(\"The addtion of two numbers is: \", Object_1.add())\n",
    "    elif selection == 2:\n",
    "        print(\"The subtraction of two numbers is: \", Object_1.subtract())\n",
    "    elif selection == 3:\n",
    "        print(\"The multiplication of two numbers is: \", Object_1.multiply())\n",
    "    elif selection == 4:\n",
    "        print(\"The division of two numbers is: \", Object_1.divide())\n",
    "    elif selection == 5:\n",
    "        print(\"The power of two numbers is: \", Object_1.power())\n",
    "    else:\n",
    "        print(\"Invalid selection\")\n",
    "\n",
    "    # The reason we write elif instead of if is that we want to check only one condition at a time and if the condition is true then we don't want to check the other conditions.\n",
    "    # If we use if instead of elif then it will check all the conditions and it will print the output of all the conditions which are true.\n",
    "    Object_2 = NormalCalculator(5,6)\n",
    "    if (Object_1==Object_2):\n",
    "        print(\"Both objects are equal\")\n",
    "    elif (Object_1!=Object_2):\n",
    "        print(\"Both objects are not equal\")\n",
    "    elif (Object_1<Object_2):\n",
    "        print(\"Object 1 is less than Object 2\")\n",
    "    elif (Object_1>Object_2):\n",
    "        print(\"Object 1 is greater than Object 2\")\n",
    "    elif (Object_1<=Object_2):\n",
    "        print(\"Object 1 is less than or equal to Object 2\")\n",
    "\n",
    "\n",
    "def main():\n",
    "    times = int(input(\"Please enter the number of times you want to run the calculator: \"))\n",
    "    while times>0:\n",
    "        flow()\n",
    "        times-=1\n",
    "\n",
    "main()\n",
    "print(\"The program is ended\")"
   ]
  },
  {
   "cell_type": "code",
   "execution_count": 111,
   "metadata": {},
   "outputs": [
    {
     "name": "stdout",
     "output_type": "stream",
     "text": [
      "Muazzam2\n",
      "Muazzam2\n",
      "12.566370614359172\n",
      "12.566\n"
     ]
    }
   ],
   "source": [
    "s= \"Muazzam\"\n",
    "a = 2\n",
    "\n",
    "print (str(s)+str(a))\n",
    "print (s+str(a))\n",
    "#print (s+a) # This will give an error because we can't concatenate string with integer\n",
    "\n",
    "import math\n",
    "r=int(2.222)\n",
    "areaofCircle = math.pi *r**2\n",
    "print(areaofCircle)\n",
    "areaofCircle2 = round(areaofCircle,3)\n",
    "print(areaofCircle2)"
   ]
  },
  {
   "cell_type": "markdown",
   "metadata": {},
   "source": [
    "1.  History of Python\n",
    "    Python is an object oriented Programming Langauge\n",
    "<br>\n",
    "2.  In object-oriented programming, data is represented by objects. Each object has an identity, a value and a type\n",
    "\n",
    "3.  The following table lists all Python operators in order of priority from highest to lowest:\n",
    "\n",
    "| Operator | Description|\n",
    "| ----------- | :----------- |\n",
    "| ** | potency |\n",
    "| ~ + - | Binary complement, unary plus, unary minus|\n",
    "|* / % //| Multiplication, division, modulo, integer division |\n",
    "|+ - | Addition, subfraction|\n",
    "|>> <<| Bitwise right or left shift|\n",
    "|&| Bitwise AND operation|\n",
    "|^ \\| | Bitwise exclusive-OR operation (antivalence), bitwise OR operation|\n",
    "| <= < > >= | Comparison operators|\n",
    "| <> == != | Equality operators|\n",
    "| = %= /= //= -= += *= **=| Assignment operators|\n",
    "|`is` `is not`| Identity operators|\n",
    "|`in` `not in`| Contain operators|\n",
    "|`not` `or` `and`| Logical not, or, and operator|"
   ]
  },
  {
   "cell_type": "code",
   "execution_count": null,
   "metadata": {},
   "outputs": [],
   "source": [
    "#functions"
   ]
  }
 ],
 "metadata": {
  "kernelspec": {
   "display_name": "Python 3",
   "language": "python",
   "name": "python3"
  },
  "language_info": {
   "codemirror_mode": {
    "name": "ipython",
    "version": 3
   },
   "file_extension": ".py",
   "mimetype": "text/x-python",
   "name": "python",
   "nbconvert_exporter": "python",
   "pygments_lexer": "ipython3",
   "version": "3.11.3"
  }
 },
 "nbformat": 4,
 "nbformat_minor": 2
}
