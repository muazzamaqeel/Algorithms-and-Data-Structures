{
 "cells": [
  {
   "cell_type": "markdown",
   "id": "b738544e",
   "metadata": {
    "slideshow": {
     "slide_type": "slide"
    }
   },
   "source": [
    "# Python"
   ]
  },
  {
   "cell_type": "markdown",
   "id": "b176e887",
   "metadata": {
    "slideshow": {
     "slide_type": "fragment"
    }
   },
   "source": [
    "## Organizational matters\n",
    "\n",
    "- Lecturers\n",
    "  - Florian Hillitzer (hillitzer@mail.hs-ulm.de)\n",
    "  - Johannes Eble (johannes.eble@thu.de)\n",
    "- Date and location\n",
    "  - Lecture: Wednesdays at 5:30 p.m. in the PC pool in W1.301\n",
    "  - Exercise: Wednesdays after the lecture\n",
    "- Lecture notes\n",
    "  - are available in Moodle\n",
    "- Examination modalities\n",
    "  - written exam (either on the last day of lectures or on the first Saturday of the exam phase)\n",
    "  - **no technical aids** such as calculators, tablets, smartphones, etc. allowed\n",
    "  - Only **issued table templates** are permitted\n",
    "- Requirements\n",
    "  - Lecture \"Programming in C++\" (or comparable)"
   ]
  },
  {
   "cell_type": "markdown",
   "id": "08e75eb3",
   "metadata": {
    "slideshow": {
     "slide_type": "slide"
    }
   },
   "source": [
    "## 1 Introduction"
   ]
  },
  {
   "cell_type": "markdown",
   "id": "693142b5",
   "metadata": {
    "slideshow": {
     "slide_type": "fragment"
    }
   },
   "source": [
    "### 1.1 Introduction to Jupyter Notebook as an IDE"
   ]
  },
  {
   "cell_type": "markdown",
   "id": "1ffd6b4f",
   "metadata": {
    "slideshow": {
     "slide_type": "subslide"
    }
   },
   "source": [
    "1. Start the installed **Anaconda Navigator**\n",
    "2. Start (*Launch*) **VS Code** via the navigator\n",
    "3. Using Explorer in VS Code, open the notebook file **(.ipynb)**\n",
    "4. Choose a suitable kernel (of the Anaconda *base* environment)\n",
    "5. Click *Clear All Outputs*"
   ]
  },
  {
   "cell_type": "markdown",
   "id": "02305761",
   "metadata": {
    "slideshow": {
     "slide_type": "subslide"
    }
   },
   "source": [
    "There are cell types `code` and `markdown`"
   ]
  },
  {
   "cell_type": "code",
   "execution_count": null,
   "id": "c968e57c",
   "metadata": {
    "scrolled": true,
    "slideshow": {
     "slide_type": "fragment"
    }
   },
   "outputs": [],
   "source": [
    "print('Das ist eine Code-Zelle, wähle mich an und drücke STRG+ENTER')"
   ]
  },
  {
   "cell_type": "code",
   "execution_count": null,
   "id": "7d3fb4e8",
   "metadata": {
    "slideshow": {
     "slide_type": "fragment"
    }
   },
   "outputs": [],
   "source": [
    "#Ausgabemöglichkeiten\n",
    "i=42   \n",
    "print(2*i)\n",
    "i\n",
    "3*i"
   ]
  },
  {
   "cell_type": "markdown",
   "id": "76f704c4",
   "metadata": {
    "slideshow": {
     "slide_type": "fragment"
    }
   },
   "source": [
    "? the last evaluation in a cell is also output"
   ]
  },
  {
   "cell_type": "markdown",
   "id": "d116ac7c",
   "metadata": {
    "slideshow": {
     "slide_type": "subslide"
    }
   },
   "source": [
    "For the use of mathematical descriptions, Jupyter has a LaTeX notation, e.g.\n",
    "\n",
    "$$\\sum_{k=1}^{42} k \\quad or \\quad f(x) = \\int_{-\\infty}^{\\infty} e^{-x^2} dx \\quad or \\quad c = \\sqrt{a^2 + b^2}$$"
   ]
  },
  {
   "cell_type": "markdown",
   "id": "1cc585db",
   "metadata": {
    "slideshow": {
     "slide_type": "subslide"
    }
   },
   "source": [
    "Jupyter Notebook is also great for visualizing data, as seen in the following examples (ignore code for now):"
   ]
  },
  {
   "cell_type": "code",
   "execution_count": null,
   "id": "f7bea20c",
   "metadata": {
    "slideshow": {
     "slide_type": "fragment"
    }
   },
   "outputs": [],
   "source": [
    "import matplotlib.pyplot as plt\n",
    "%matplotlib inline\n",
    "data = {'Leute, die Python mögen': 93, 'Leute, die keinen Geschmack haben': 7}\n",
    "names = list(data.keys())\n",
    "values = list(data.values())\n",
    "plt.ylabel('Prozent')\n",
    "plt.bar(names, values)"
   ]
  },
  {
   "cell_type": "code",
   "execution_count": null,
   "id": "cdca2cb6",
   "metadata": {
    "slideshow": {
     "slide_type": "subslide"
    }
   },
   "outputs": [],
   "source": [
    "import altair as alt\n",
    "\n",
    "# load a simple dataset as a pandas DataFrame\n",
    "from vega_datasets import data\n",
    "cars = data.cars()\n",
    "source = data.cars()\n",
    "\n",
    "alt.Chart(cars).mark_point().encode(\n",
    "    x='Horsepower',\n",
    "    y='Miles_per_Gallon',\n",
    "    color='Origin',\n",
    ").interactive()"
   ]
  },
  {
   "cell_type": "code",
   "execution_count": null,
   "id": "990f5ebb",
   "metadata": {
    "slideshow": {
     "slide_type": "subslide"
    }
   },
   "outputs": [],
   "source": [
    "alt.Chart(source).mark_circle().encode(\n",
    "    alt.X(alt.repeat(\"column\"), type='quantitative'),\n",
    "    alt.Y(alt.repeat(\"row\"), type='quantitative'),\n",
    "    color='Origin:N'\n",
    ").properties(\n",
    "    width=150,\n",
    "    height=150\n",
    ").repeat(\n",
    "    row=['Horsepower', 'Acceleration', 'Miles_per_Gallon'],\n",
    "    column=['Miles_per_Gallon', 'Acceleration', 'Horsepower']\n",
    ").interactive()"
   ]
  },
  {
   "cell_type": "markdown",
   "id": "336fdeca",
   "metadata": {
    "slideshow": {
     "slide_type": "subslide"
    }
   },
   "source": [
    "**Program status**"
   ]
  },
  {
   "cell_type": "code",
   "execution_count": null,
   "id": "f8650c97",
   "metadata": {
    "slideshow": {
     "slide_type": "fragment"
    }
   },
   "outputs": [],
   "source": [
    "y = 12"
   ]
  },
  {
   "cell_type": "code",
   "execution_count": null,
   "id": "380e9fc7",
   "metadata": {},
   "outputs": [],
   "source": [
    "#Ist der Zustand von i aus einer anderen Zelle noch vorhanden?\n",
    "i"
   ]
  },
  {
   "cell_type": "markdown",
   "id": "3afc5cdd",
   "metadata": {
    "slideshow": {
     "slide_type": "fragment"
    }
   },
   "source": [
    "- The state of the program is updated with every cell executed. This quality can be a blessing or a curse. For example, if you forget to execute a previous but relevant cell, the program will produce an unexpected result."
   ]
  },
  {
   "cell_type": "markdown",
   "id": "8ec7d992",
   "metadata": {
    "slideshow": {
     "slide_type": "fragment"
    }
   },
   "source": [
    "- **if in doubt:** Click on the *Restart* button and then on the *Run All* button to restart the kernel and run all cells one after the other. If the error is still there, it's up to you ;-)"
   ]
  },
  {
   "cell_type": "markdown",
   "id": "cd5817fd",
   "metadata": {
    "slideshow": {
     "slide_type": "fragment"
    }
   },
   "source": [
    "- **on the other hand**: Jupyter Notebooks are particularly well suited for prototyping and *small-scale development*. It is a mix of program code, Markdown/LaTeX and program output or graphical output"
   ]
  },
  {
   "cell_type": "markdown",
   "id": "9b686e0d",
   "metadata": {
    "slideshow": {
     "slide_type": "slide"
    }
   },
   "source": [
    "### 1.2 History of Python"
   ]
  },
  {
   "cell_type": "markdown",
   "id": "143c00d7",
   "metadata": {
    "slideshow": {
     "slide_type": "fragment"
    }
   },
   "source": [
    "- Python is an **object-oriented programming language**\n",
    "   - 1962 - 1967: first simulation language SIMULA in Oslo\n",
    "   - 1970 - 1989: first universally usable object-oriented language\n",
    "   - shortly afterwards: C++ as an object-oriented extension of C\n",
    "   - not until 1989: development of Python in Amsterdam\n",
    "     - today: coordinated by non-commercial organization PSF (Python Software Foundation)\n",
    "  - approximately in time: Development of object-oriented analysis and design methods for the visual representation of software systems\n",
    "  ? Unified Modeling Language (UML)"
   ]
  },
  {
   "cell_type": "markdown",
   "id": "c12da396",
   "metadata": {
    "slideshow": {
     "slide_type": "fragment"
    }
   },
   "source": [
    "- the name **Python** historically has nothing to do with snakes, but was created by Python developer Guido van Rossum, who is a big fan of the British comedy troupe *Monty Python*, out of \"a somewhat irreverent mood\" [1] freely chosen.\n",
    "\n",
    "<sub>[1]: B. Klein, “Introduction to Python 3”, in Introduction to Python 3, Carl Hanser Verlag GmbH & Co. KG, 2020, p. 4. doi: 10.3139/9783446465565.fm. </sub>"
   ]
  },
  {
   "cell_type": "markdown",
   "id": "f5427db9",
   "metadata": {
    "slideshow": {
     "slide_type": "slide"
    }
   },
   "source": [
    "## 2. Basics of Python"
   ]
  },
  {
   "cell_type": "markdown",
   "id": "aa21271f",
   "metadata": {
    "slideshow": {
     "slide_type": "subslide"
    }
   },
   "source": [
    "### 2.1 Syntax and Semantics"
   ]
  },
  {
   "cell_type": "markdown",
   "id": "8f9a01f8",
   "metadata": {
    "slideshow": {
     "slide_type": "fragment"
    }
   },
   "source": [
    "In a programming language - as in any language - it is defined by *syntax and semantics*.\n",
    "\n",
    "- The syntax determines which character string corresponds to a program text in the respective language.\n",
    "  - Example 1 is `a = 2! 5` is not valid Python program code because Python syntax requires an arithmetic operator to appear between two numbers. The exclamation mark is not such an operator.\n",
    "  - Example 2 `print(\"Python is great!\")`, on the other hand, is a correct Python program.\n",
    "- Semantics defines the meaning of a program.\n",
    "  - The semantics of Example 2 say that the string “Python is great” is printed on the screen."
   ]
  },
  {
   "cell_type": "code",
   "execution_count": null,
   "id": "44f98dd2",
   "metadata": {},
   "outputs": [],
   "source": [
    "# TODO Syntaxtest"
   ]
  },
  {
   "cell_type": "markdown",
   "id": "77c9b558",
   "metadata": {
    "slideshow": {
     "slide_type": "subslide"
    }
   },
   "source": [
    "#### 2.1.1 Variablennamen"
   ]
  },
  {
   "cell_type": "markdown",
   "id": "59b9f457",
   "metadata": {
    "slideshow": {
     "slide_type": "fragment"
    }
   },
   "source": [
    "There are two things to consider when assigning variable names:\n",
    "- Name must meet syntactic requirements\n",
    "- Name must comply with usual customs and conventions"
   ]
  },
  {
   "cell_type": "markdown",
   "id": "96457654",
   "metadata": {
    "slideshow": {
     "slide_type": "fragment"
    }
   },
   "source": [
    "**Syntactically valid names** must begin with a letter (Latin or any other Unicode letter) or underscore. Variable names are **case sensitive**:"
   ]
  },
  {
   "cell_type": "code",
   "execution_count": null,
   "id": "2da81c19",
   "metadata": {
    "slideshow": {
     "slide_type": "fragment"
    }
   },
   "outputs": [],
   "source": [
    "# TODO distinction between lowercase and uppercase letters\n"
   ]
  },
  {
   "cell_type": "markdown",
   "id": "2b513c28",
   "metadata": {
    "slideshow": {
     "slide_type": "fragment"
    }
   },
   "source": [
    "**Name conventions** can be derived from the Python community:\n",
    "1. **camelCase**\n",
    "2. **snake_case** or **lower_case_with_underscore**\n",
    "\n",
    "Important: Variables always start with lowercase letters and should have a *descript name*, e.g. `current_account_balance` and not `ak`."
   ]
  },
  {
   "cell_type": "markdown",
   "id": "cdb418fd",
   "metadata": {
    "slideshow": {
     "slide_type": "subslide"
    }
   },
   "source": [
    "#### 2.1.2 Assignments"
   ]
  },
  {
   "cell_type": "markdown",
   "id": "1ae36079",
   "metadata": {
    "slideshow": {
     "slide_type": "fragment"
    }
   },
   "source": [
    "A central concept is assignment (*assignment*). The simplest form of assignment has the form: `name = value`. The assignment operator is the equal sign `=` (not to be confused with the comparison operator `==`)."
   ]
  },
  {
   "cell_type": "markdown",
   "id": "b7d43117",
   "metadata": {
    "slideshow": {
     "slide_type": "subslide"
    }
   },
   "source": [
    "#### 2.1.3 Statement blocks and indentations"
   ]
  },
  {
   "cell_type": "markdown",
   "id": "2d61f6f1",
   "metadata": {
    "slideshow": {
     "slide_type": "fragment"
    }
   },
   "source": [
    "A *statement block* is a sequence of related statements. Every simple Python script (or code cell so far) is a block of instructions."
   ]
  },
  {
   "cell_type": "code",
   "execution_count": null,
   "id": "e10b5b09",
   "metadata": {},
   "outputs": [],
   "source": [
    "#Summe der Zahlen von 1 bis 5\n",
    "summe = 0\n",
    "for i in range(5):\n",
    "    summe = summe + 1\n",
    "    print(\"Summe von 1 bis\", i+1, \":\", summe)\n",
    "print(\"Ende der Rechnung\")\n"
   ]
  },
  {
   "cell_type": "markdown",
   "id": "18139d24",
   "metadata": {
    "slideshow": {
     "slide_type": "fragment"
    }
   },
   "source": [
    "**Important**: All related statements in a block must be indented by exactly the same number of places. At the end of the script, the blocks are terminated by the interpreter."
   ]
  },
  {
   "cell_type": "markdown",
   "id": "202d9c82",
   "metadata": {},
   "source": [
    "**Conclusion**: The layout of the Python script is not only for better readability, but also has a *meaning*: the start and end of a block are determined by indentation (*indent*), and not with curly brackets `{.. .}`like in C or Java:"
   ]
  },
  {
   "cell_type": "markdown",
   "id": "d96ec796",
   "metadata": {},
   "source": [
    "```cpp\n",
    "#include <stdio.h>\n",
    "\n",
    "int main(){\n",
    "    int summe = 0;\n",
    "    for (int i = 0; i < 5; i++)\n",
    "    {\n",
    "        summe = summe + 1;\n",
    "        printf(\"Summe von 1 bis %i: %i\\n\", i+1, summe);\n",
    "    }\n",
    "}\n",
    "\n",
    "```"
   ]
  },
  {
   "cell_type": "markdown",
   "id": "0de3d75d",
   "metadata": {
    "slideshow": {
     "slide_type": "slide"
    }
   },
   "source": [
    "#### 2.1.4 Operators"
   ]
  },
  {
   "cell_type": "markdown",
   "id": "413cf694",
   "metadata": {
    "slideshow": {
     "slide_type": "fragment"
    }
   },
   "source": [
    "The following table lists all Python operators in order of priority from highest to lowest:\n",
    "\n",
    "| Operator | Description|\n",
    "| ----------- | :----------- |\n",
    "| ** | potency |\n",
    "| ~ + - | Binary complement, unary plus, unary minus|\n",
    "|* / % //| Multiplication, division, modulo, integer division |\n",
    "|+ - | Addition, subfraction|\n",
    "|>> <<| Bitwise right or left shift|\n",
    "|&| Bitwise AND operation|\n",
    "|^ \\| | Bitwise exclusive-OR operation (antivalence), bitwise OR operation|\n",
    "| <= < > >= | Comparison operators|\n",
    "| <> == != | Equality operators|\n",
    "| = %= /= //= -= += *= **=| Assignment operators|\n",
    "|`is` `is not`| Identity operators|\n",
    "|`in` `not in`| Contain operators|\n",
    "|`not` `or` `and`| Logical not, or, and operator|"
   ]
  },
  {
   "cell_type": "markdown",
   "id": "6dd78416",
   "metadata": {
    "slideshow": {
     "slide_type": "slide"
    }
   },
   "source": [
    "### 2.2 Standard data types"
   ]
  },
  {
   "cell_type": "markdown",
   "id": "4273aed8",
   "metadata": {
    "slideshow": {
     "slide_type": "fragment"
    }
   },
   "source": [
    "#### 2.2.1 Data as Objects"
   ]
  },
  {
   "cell_type": "markdown",
   "id": "9b65ed48",
   "metadata": {
    "slideshow": {
     "slide_type": "fragment"
    }
   },
   "source": [
    "In object-oriented programming, data is represented by *objects*. Each object has an **Identity**, a **Value** and a **Type**.\n",
    "\n",
    "- Values ​​are represented by *literals*: character strings that are built according to certain rules.\n",
    "  - Literals such as `123` or ``word'` belong to different data types"
   ]
  },
  {
   "cell_type": "code",
   "execution_count": null,
   "id": "0f751144",
   "metadata": {
    "slideshow": {
     "slide_type": "fragment"
    }
   },
   "outputs": [],
   "source": [
    "# TODO value output"
   ]
  },
  {
   "cell_type": "markdown",
   "id": "1416a1d0",
   "metadata": {
    "slideshow": {
     "slide_type": "subslide"
    }
   },
   "source": [
    "- The type of an object determines how it is processed in a Python script and can be determined using the `type()` method."
   ]
  },
  {
   "cell_type": "code",
   "execution_count": null,
   "id": "9319f2a7",
   "metadata": {
    "slideshow": {
     "slide_type": "fragment"
    }
   },
   "outputs": [],
   "source": [
    "# TODO type determination"
   ]
  },
  {
   "cell_type": "markdown",
   "id": "3299bf7a",
   "metadata": {
    "slideshow": {
     "slide_type": "subslide"
    }
   },
   "source": [
    "- The identity of an object is represented by a (unique) integer. This can be determined using the `id()` method:"
   ]
  },
  {
   "cell_type": "code",
   "execution_count": 1,
   "id": "ca7355a1",
   "metadata": {
    "slideshow": {
     "slide_type": "fragment"
    }
   },
   "outputs": [],
   "source": [
    "# TODO Output of the identity"
   ]
  },
  {
   "cell_type": "markdown",
   "id": "c2f617f0",
   "metadata": {
    "slideshow": {
     "slide_type": "fragment"
    }
   },
   "source": [
    "It may be that two objects have the same value but different identities. This means that they are *the same*, but not *identical*."
   ]
  },
  {
   "cell_type": "markdown",
   "id": "89736e45",
   "metadata": {
    "slideshow": {
     "slide_type": "subslide"
    }
   },
   "source": [
    "#### 2.2.2 Fundamental data types"
   ]
  },
  {
   "cell_type": "markdown",
   "id": "2907e2be",
   "metadata": {
    "slideshow": {
     "slide_type": "fragment"
    }
   },
   "source": [
    "- integers (`int`)\n",
    "- Floating point numbers (`float`)\n",
    "- complex numbers (`complex`)\n",
    "- Truth values ​​(*True* or *False*) (`bool`)"
   ]
  },
  {
   "cell_type": "code",
   "execution_count": null,
   "id": "74b159b2",
   "metadata": {
    "slideshow": {
     "slide_type": "fragment"
    }
   },
   "outputs": [],
   "source": [
    "# TODO examples for simple data types\n"
   ]
  },
  {
   "cell_type": "markdown",
   "id": "6e646aee",
   "metadata": {
    "slideshow": {
     "slide_type": "fragment"
    }
   },
   "source": [
    "- the \"Nothing type\" (`NoneType`) has only one literal: `None`. \\\n",
    "  ? `None` is really “nothing”"
   ]
  },
  {
   "cell_type": "code",
   "execution_count": null,
   "id": "a07873f2",
   "metadata": {
    "slideshow": {
     "slide_type": "fragment"
    }
   },
   "outputs": [],
   "source": [
    "x = None\n",
    "x"
   ]
  },
  {
   "cell_type": "markdown",
   "id": "ec026e90",
   "metadata": {
    "slideshow": {
     "slide_type": "subslide"
    }
   },
   "source": [
    "#### 2.2.3 Sequential data types\n",
    "\n",
    "These include:\n",
    "- thongs\n",
    "- Lists\n",
    "- Tuple\n",
    "-bytes\n",
    "- byte arrays\n",
    "\n",
    "*(Will be discussed in more detail in a later lecture)*"
   ]
  },
  {
   "cell_type": "markdown",
   "id": "3ede6c8b",
   "metadata": {
    "slideshow": {
     "slide_type": "subslide"
    }
   },
   "source": [
    "#### 2.2.4 Static and dynamic type declaration\n",
    "\n",
    "- **static** typing: the variable must first be assigned a type before it is used or defined for the first time. It maintains this type throughout the entire program. (e.g. with C, C++)\n",
    "\n",
    "- **dynamic** typing: variables *do not* have a specific type, but rather the object. The type of an object is automatically assigned in Python. This can also happen during runtime."
   ]
  },
  {
   "cell_type": "markdown",
   "id": "57dcd6a3",
   "metadata": {
    "slideshow": {
     "slide_type": "fragment"
    }
   },
   "source": [
    "You can also use static annotation in Python if necessary. For this purpose, Python (>3.6) offers a system of type annotations (*Type Hints*), e.g.:"
   ]
  },
  {
   "cell_type": "code",
   "execution_count": null,
   "id": "fd102ae6",
   "metadata": {
    "slideshow": {
     "slide_type": "fragment"
    }
   },
   "outputs": [],
   "source": [
    "# TODO Type Hint"
   ]
  },
  {
   "cell_type": "markdown",
   "id": "2398ba6c",
   "metadata": {
    "slideshow": {
     "slide_type": "slide"
    }
   },
   "source": [
    "### 2.3 Control structures"
   ]
  },
  {
   "cell_type": "markdown",
   "id": "b44d01f6",
   "metadata": {
    "slideshow": {
     "slide_type": "fragment"
    }
   },
   "source": [
    "Control structures determine the sequence of instructions to be processed in a program. The simplest control structure is the *sequence*. The instructions are processed one after the other - from top to bottom. Such a program is also called *linear*. The following control structures are presented in this introductory subchapter:\n",
    "\n",
    "- Program branches (`if`, `if-else`, `if-elif`)\n",
    "- Loops (`while`, `for`)"
   ]
  },
  {
   "cell_type": "markdown",
   "id": "60952f5a",
   "metadata": {
    "slideshow": {
     "slide_type": "subslide"
    }
   },
   "source": [
    "#### 2.3.1 Conditional Statements\n",
    "\n",
    "**Simplest if statement**"
   ]
  },
  {
   "cell_type": "code",
   "execution_count": null,
   "id": "79b59913",
   "metadata": {
    "slideshow": {
     "slide_type": "fragment"
    }
   },
   "outputs": [],
   "source": [
    "alter = int(input(\"Dein Alter? \")) # Einlesen eines int Objekts\n",
    "\n",
    "if alter < 12:\n",
    "    print(\"Sorry, der Film ist erst ab 12!\")"
   ]
  },
  {
   "cell_type": "markdown",
   "id": "7fd691be",
   "metadata": {
    "slideshow": {
     "slide_type": "fragment"
    }
   },
   "source": [
    "**if statement with else branch**"
   ]
  },
  {
   "cell_type": "code",
   "execution_count": null,
   "id": "1380b77b",
   "metadata": {
    "slideshow": {
     "slide_type": "fragment"
    }
   },
   "outputs": [],
   "source": [
    "alter = int(input(\"Dein Alter? \"))\n",
    "\n",
    "if alter < 12:\n",
    "    print(\"Sorry, der Film ist erst ab 12!\")\n",
    "else:\n",
    "    print(\"Okey, viel Spaß!\")"
   ]
  },
  {
   "cell_type": "markdown",
   "id": "a3f67f27",
   "metadata": {
    "slideshow": {
     "slide_type": "fragment"
    }
   },
   "source": [
    "**elif branches**"
   ]
  },
  {
   "cell_type": "code",
   "execution_count": null,
   "id": "ac5ff9ee",
   "metadata": {
    "slideshow": {
     "slide_type": "fragment"
    }
   },
   "outputs": [],
   "source": [
    "alter = int(input(\"Dein Alter? \"))\n",
    "\n",
    "if alter < 4:\n",
    "    print(\"Film ist zu kompliziert!\")\n",
    "else:\n",
    "    if alter < 12:\n",
    "        print(\"Okey, viel Spaß!\")\n",
    "    else:\n",
    "        if alter < 16:\n",
    "            print(\"Bist du dir sicher, ob das der richtige Film ist?\")\n",
    "        else:\n",
    "            print(\"Wollen Sie sich das wirklich antun?\")"
   ]
  },
  {
   "cell_type": "markdown",
   "id": "915e5cc2",
   "metadata": {},
   "source": [
    "Better:"
   ]
  },
  {
   "cell_type": "code",
   "execution_count": null,
   "id": "44fe4299",
   "metadata": {
    "slideshow": {
     "slide_type": "fragment"
    }
   },
   "outputs": [],
   "source": [
    "alter = int(input(\"Dein Alter? \"))\n",
    "\n",
    "if alter < 4:\n",
    "    print(\"Film ist zu kompliziert!\")\n",
    "elif alter < 12:\n",
    "        print(\"Okey, viel Spaß!\")\n",
    "elif alter < 16:\n",
    "    print(\"Bist du dir sicher, ob das der richtige Film ist?\")\n",
    "else:\n",
    "    print(\"Wollen Sie sich das wirklich antun?\")"
   ]
  },
  {
   "cell_type": "markdown",
   "id": "d9b2da80",
   "metadata": {
    "slideshow": {
     "slide_type": "subslide"
    }
   },
   "source": [
    "#### 2.3.2 Loops\n",
    "\n",
    "**Conditional repeat**"
   ]
  },
  {
   "cell_type": "code",
   "execution_count": 2,
   "id": "7a190894",
   "metadata": {
    "slideshow": {
     "slide_type": "fragment"
    }
   },
   "outputs": [],
   "source": [
    "# TODO example while loop"
   ]
  },
  {
   "cell_type": "code",
   "execution_count": 3,
   "id": "2c24d4dc",
   "metadata": {
    "slideshow": {
     "slide_type": "fragment"
    }
   },
   "outputs": [],
   "source": [
    "# TODO Example of a do-while loop\n"
   ]
  },
  {
   "cell_type": "code",
   "execution_count": null,
   "id": "b5ac8951",
   "metadata": {
    "slideshow": {
     "slide_type": "subslide"
    }
   },
   "outputs": [],
   "source": [
    "# Number guessing game\n",
    "# Guess a number that is between 1 and 20\n",
    "# To give up, enter 0\n",
    "\n",
    "import random\n",
    "n = 20\n",
    "to_be_guessed = random.randint(1,n)\n",
    "guess = 0\n",
    "while guess != to_be_guessed:\n",
    "    guess = int(input(\"Neuer Versuch: \"))\n",
    "    if guess > 0:\n",
    "        if guess > to_be_guessed:\n",
    "            print(\"Zu groß\")\n",
    "        elif guess < to_be_guessed:\n",
    "            print(\"Zu klein\")\n",
    "    elif guess == 0: \n",
    "        print(\"Schade, dass Du aufgibst\")\n",
    "        break\n",
    "else: print(\"Gratuliere, das war's\")"
   ]
  },
  {
   "cell_type": "markdown",
   "id": "6390ebfb",
   "metadata": {
    "slideshow": {
     "slide_type": "subslide"
    }
   },
   "source": [
    "**Iterative Wiederholungen**\n",
    "\n",
    "- die \"klassische\" `for`-Schleife (C/C++):\n",
    "```cpp\n",
    "for (int i = 0; i < 10; i++)\n",
    "{\n",
    "    printf(\"i: %d\\n\", i);\n",
    "}\n",
    "```"
   ]
  },
  {
   "cell_type": "markdown",
   "id": "cf64eaaa",
   "metadata": {
    "slideshow": {
     "slide_type": "fragment"
    }
   },
   "source": [
    "- in Python the `for` loop is more like a so-called `foreach` loop:\n",
    "\n",
    "```python\n",
    "for element in collection:\n",
    "    instruction block\n",
    "```\n",
    "\n",
    "Collections are, for example, lists, tuples, strings, sets (*rarr; sequential data types*)\n",
    "\n",
    "Therefore, to simulate a \"classic\" `for` loop, the `range()` function is used:"
   ]
  },
  {
   "cell_type": "code",
   "execution_count": null,
   "id": "69822220",
   "metadata": {
    "slideshow": {
     "slide_type": "fragment"
    }
   },
   "outputs": [],
   "source": [
    "for i in range(10):\n",
    "    print(i)"
   ]
  },
  {
   "cell_type": "markdown",
   "id": "ea89ce40",
   "metadata": {
    "slideshow": {
     "slide_type": "fragment"
    }
   },
   "source": [
    "The syntax of this function is: `range(start, stop, step)`, where:\n",
    "- `start`: Optional. Default = 0.\n",
    "- `stop`: Necessary. Exclusive.\n",
    "- `step`: Optional. Default = 1."
   ]
  },
  {
   "cell_type": "code",
   "execution_count": null,
   "id": "1accb1bd",
   "metadata": {
    "slideshow": {
     "slide_type": "fragment"
    }
   },
   "outputs": [],
   "source": [
    "# TODO example with strings"
   ]
  },
  {
   "cell_type": "code",
   "execution_count": null,
   "id": "b0e003c8",
   "metadata": {
    "slideshow": {
     "slide_type": "fragment"
    }
   },
   "outputs": [],
   "source": [
    "# TODO example with range()"
   ]
  },
  {
   "cell_type": "markdown",
   "id": "2259d2ea",
   "metadata": {
    "slideshow": {
     "slide_type": "slide"
    }
   },
   "source": [
    "### 2.4 issue"
   ]
  },
  {
   "cell_type": "markdown",
   "id": "8f7ccbbe",
   "metadata": {
    "slideshow": {
     "slide_type": "fragment"
    }
   },
   "source": [
    "We have already used the `print()` function a few times for the output. Your default calling behavior is defined as follows:\n",
    "```python\n",
    "    print(object(s), sep=' ', end'\\n', file=sys.stdout, flush=False)\n",
    "```\n",
    "- `object(s)`: any number of objects, separated by commas, are converted to type `str` before output.\n",
    "- `sep = 'seperator'`: Optional. Prescribes how the individual `objects` are separated. Default = `' ''` (space)\n",
    "- `end = 'end'`: Optional. Prescribes what is written at the end of the `print` statement. Default = `'\\n'` (new line)\n",
    "- `file`: Optional. There must be a writing method there. Default: `sys.stdout`\n",
    "- `flush`: Optional. Boolean value that dictates whether the output should be *flushed* or *buffered*."
   ]
  },
  {
   "cell_type": "code",
   "execution_count": 4,
   "id": "0b79d521",
   "metadata": {
    "slideshow": {
     "slide_type": "fragment"
    }
   },
   "outputs": [],
   "source": [
    "# TODO configuration options for the print() function"
   ]
  },
  {
   "cell_type": "markdown",
   "id": "8d7f4419",
   "metadata": {
    "slideshow": {
     "slide_type": "slide"
    }
   },
   "source": [
    "### 2.5 Mathematical functions"
   ]
  },
  {
   "cell_type": "markdown",
   "id": "e6673e0a",
   "metadata": {
    "slideshow": {
     "slide_type": "fragment"
    }
   },
   "source": [
    "Mathematical functions are required for many computational applications. For this purpose, Python provides the `math` library, which can be integrated into the program using the following command:\n",
    "```python\n",
    "import math # for real numbers\n",
    "import cmath # for complex numbers\n",
    "```"
   ]
  },
  {
   "cell_type": "markdown",
   "id": "4696fdd6",
   "metadata": {
    "slideshow": {
     "slide_type": "fragment"
    }
   },
   "source": [
    "The most important `math()` functions can be found [here](https://www.w3schools.com/python/module_math.asp)"
   ]
  },
  {
   "cell_type": "markdown",
   "id": "b1b8c519",
   "metadata": {
    "slideshow": {
     "slide_type": "fragment"
    }
   },
   "source": [
    "Not to forget, the most important constants are also there:\n",
    "- `math.e`&rarr; 2.7182... (Euler's number)\n",
    "- `math.pi`&rarr; 3.1415... ($\\pi$)\n",
    "- `math.inf`&rarr; *floating-point* (plus) infinity\n",
    "- `math.nan`&rarr; NaN = Not a Number"
   ]
  },
  {
   "cell_type": "code",
   "execution_count": 5,
   "id": "aa236c3f",
   "metadata": {
    "slideshow": {
     "slide_type": "fragment"
    }
   },
   "outputs": [],
   "source": [
    "# TODO examples for the math library"
   ]
  }
 ],
 "metadata": {
  "kernelspec": {
   "display_name": "Python 3 (ipykernel)",
   "language": "python",
   "name": "python3"
  },
  "language_info": {
   "codemirror_mode": {
    "name": "ipython",
    "version": 3
   },
   "file_extension": ".py",
   "mimetype": "text/x-python",
   "name": "python",
   "nbconvert_exporter": "python",
   "pygments_lexer": "ipython3",
   "version": "3.11.7"
  },
  "varInspector": {
   "cols": {
    "lenName": 16,
    "lenType": 16,
    "lenVar": 40
   },
   "kernels_config": {
    "python": {
     "delete_cmd_postfix": "",
     "delete_cmd_prefix": "del ",
     "library": "var_list.py",
     "varRefreshCmd": "print(var_dic_list())"
    },
    "r": {
     "delete_cmd_postfix": ") ",
     "delete_cmd_prefix": "rm(",
     "library": "var_list.r",
     "varRefreshCmd": "cat(var_dic_list()) "
    }
   },
   "types_to_exclude": [
    "module",
    "function",
    "builtin_function_or_method",
    "instance",
    "_Feature"
   ],
   "window_display": false
  }
 },
 "nbformat": 4,
 "nbformat_minor": 5
}
