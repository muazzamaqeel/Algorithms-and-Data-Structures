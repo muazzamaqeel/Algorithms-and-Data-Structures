{
 "cells": [
  {
   "cell_type": "markdown",
   "metadata": {
    "slideshow": {
     "slide_type": "slide"
    }
   },
   "source": [
    "## 4. Data Structures in Python"
   ]
  },
  {
   "cell_type": "markdown",
   "metadata": {
    "slideshow": {
     "slide_type": "fragment"
    }
   },
   "source": [
    "Difference between *data structures* and *simple data types*:\n",
    "- Data structures are composed of objects of *simple data type* and are therefore much more complex\n",
    "- If the objects in a data structure are arranged continuously, one speaks of *sequential data types*, e.g. string, lists, tuples, etc.\n",
    "- In addition to their *objects*, data structures have suitable *operators* in order to access them as efficiently as possible\n",
    "- There are both mutable (*mutable*) and immutable (*immutable*) data structures, the simple data types are all immutable (*immutable*)"
   ]
  },
  {
   "cell_type": "markdown",
   "metadata": {
    "slideshow": {
     "slide_type": "fragment"
    }
   },
   "source": [
    "Examples of data structure operators using strings:"
   ]
  },
  {
   "cell_type": "code",
   "execution_count": null,
   "metadata": {
    "slideshow": {
     "slide_type": "fragment"
    }
   },
   "outputs": [],
   "source": [
    "# Example\n",
    "wort = \"Koeffizenten\"\n",
    "print(wort[0])              # Zugriff auf Elemente über []-Klammer\n",
    "print(\"ente\" in wort)       # Anwendung des Enthalten-Operators\n",
    "print(\"Ambi\" + wort[7:11])  # Konkatenation nur bei gleichartigen Datenstrukturen und Slicing\n",
    "print(3*\"bla\")              # Vervielfältigung\n",
    "print(len(wort))            # Jede Datenstruktur hat eine Länge, die ermittelt werden kann"
   ]
  },
  {
   "cell_type": "markdown",
   "metadata": {
    "slideshow": {
     "slide_type": "subslide"
    }
   },
   "source": [
    "##### Note on string formatting\n",
    "\n",
    "The newest/current way to format a string is via `f-String`. `f` stands for *formatted*. Advantages over old formatting methods (e.g. `format()` or `%` operator):\n",
    "- more concise and readable\n",
    "- more quickly"
   ]
  },
  {
   "cell_type": "code",
   "execution_count": null,
   "metadata": {
    "slideshow": {
     "slide_type": "fragment"
    }
   },
   "outputs": [],
   "source": [
    "# Examples of the f-string\n",
    "goldenerSchnitt = 1597/987      # Verhältnis einer Fibonaccizahl zu ihrem Vorgänger\n",
    "print(f\"Mit dem Verhältnis zweier Fibonaccizahlen kann man den goldenen Schnitt annähern. Dieser beträgt {goldenerSchnitt}\")\n",
    "print(f\"Man kann aber auch schreiben, dass {goldenerSchnitt=}\")\n",
    "print(f\"Schöner wäre: {goldenerSchnitt = }\")\n",
    "print(f\"Wenn man nur die ersten vier Nachkommastellen braucht: {goldenerSchnitt = :.4f}\")\n",
    "print(f\"In Exponentialschreibweise wäre es: {goldenerSchnitt = :.4e}\")"
   ]
  },
  {
   "cell_type": "markdown",
   "metadata": {
    "slideshow": {
     "slide_type": "fragment"
    }
   },
   "source": [
    "There are many more formatting options using the [Format Specification Mini-Language](https://docs.python.org/3.4/library/string.html#format-specification-mini-language)\n",
    "\n",
    "There are also separate [string methods](https://docs.python.org/3/library/stdtypes.html#string-methods), which are of no further importance for this lecture."
   ]
  },
  {
   "cell_type": "markdown",
   "metadata": {
    "slideshow": {
     "slide_type": "slide"
    }
   },
   "source": [
    "### 4.1 Listen"
   ]
  },
  {
   "cell_type": "markdown",
   "metadata": {
    "slideshow": {
     "slide_type": "fragment"
    }
   },
   "source": [
    "The `list` data structure is an ordered summary of **various** objects. It can be changed at runtime and is therefore *mutable*. The Python interpreter recognizes a list definition by the square brackets `[]`. The counting always starts at index $0$."
   ]
  },
  {
   "cell_type": "code",
   "execution_count": null,
   "metadata": {
    "slideshow": {
     "slide_type": "fragment"
    }
   },
   "outputs": [],
   "source": [
    "# TODO list declaration and standard operators\n",
    "x = [3, 99, \"Ein Text\"]     # kann verschiedene Datentypen enthalten\n",
    "y = [0b110, 8.5, x, \"Wort\"] # kann auch Listen in Listen geben\n"
   ]
  },
  {
   "cell_type": "markdown",
   "metadata": {
    "slideshow": {
     "slide_type": "subslide"
    }
   },
   "source": [
    "#### 4.1.1 Operations on lists"
   ]
  },
  {
   "cell_type": "markdown",
   "metadata": {
    "slideshow": {
     "slide_type": "fragment"
    }
   },
   "source": [
    "| Method | Description |\n",
    "|:-------|:-------|\n",
    "| `list.append(x)` | The list list is expanded by the object x |\n",
    "| `list.extend(L)` | The list list is expanded to include the elements of the data structure L |\n",
    "| `list.insert(i, x)` | Object x is inserted into the list list at position i\n",
    "| `list.remove(x)` | Deletes the *first* element with value x from the list |\n",
    "| `list.pop()` | The last element is deleted from the list **and** returned (batch processing) |\n",
    "| `list.pop(i)` | The ith element is deleted from the list **and** returned |\n",
    "| `list.index(x)` | The index i of the first list element where `list[i] == x` | is returned\n",
    "| `list.count(x)` | Number of objects with the value x |\n",
    "| `list.sort()` | The elements of the list are sorted in ascending order |\n",
    "| `list.reverse()` | Reverses the order of the objects in the list |\n",
    "| `del list` | Deletes the **entire** list |\n",
    "|`del list[i]` | Deletes the list element with index i **without** returning it as a function value. You can also delete areas `[i:j]`. |"
   ]
  },
  {
   "cell_type": "code",
   "execution_count": null,
   "metadata": {
    "slideshow": {
     "slide_type": "fragment"
    }
   },
   "outputs": [],
   "source": [
    "# TODO examples of list operations\n",
    "\n"
   ]
  },
  {
   "cell_type": "code",
   "execution_count": null,
   "metadata": {
    "slideshow": {
     "slide_type": "fragment"
    }
   },
   "outputs": [],
   "source": [
    "# TODO example list as a stack\n",
    "     "
   ]
  },
  {
   "cell_type": "markdown",
   "metadata": {
    "slideshow": {
     "slide_type": "subslide"
    }
   },
   "source": [
    "#### 4.1.2 Listenabstraktion (*list comprehension*)"
   ]
  },
  {
   "cell_type": "markdown",
   "metadata": {
    "slideshow": {
     "slide_type": "fragment"
    }
   },
   "source": [
    "If inventor Guido van Rossum had his way, instead of `lambda` and co. there would only be *List Comprehension* in Python 3. This is just as elegant a method for defining and creating collections in Python. It is therefore also a simple method for creating new lists or sublists, or for executing instructions within a list."
   ]
  },
  {
   "cell_type": "markdown",
   "metadata": {
    "slideshow": {
     "slide_type": "fragment"
    }
   },
   "source": [
    "*List Comprehensions* generate an output list from an input list. The simplest and general form follows the syntax:\n",
    "\n",
    "```python\n",
    "output list = [expression for element in input list]\n",
    "```"
   ]
  },
  {
   "cell_type": "code",
   "execution_count": null,
   "metadata": {
    "slideshow": {
     "slide_type": "fragment"
    }
   },
   "outputs": [],
   "source": [
    "# TODO Create the square numbers from 1 to 9 and save in a list\n",
    "# \"Classic\"\n"
   ]
  },
  {
   "cell_type": "code",
   "execution_count": null,
   "metadata": {
    "slideshow": {
     "slide_type": "fragment"
    }
   },
   "outputs": [],
   "source": [
    "# TODO Create the square numbers from 1 to 9 and save in a list\n",
    "# Via list comprehension\n"
   ]
  },
  {
   "cell_type": "markdown",
   "metadata": {
    "slideshow": {
     "slide_type": "fragment"
    }
   },
   "source": [
    "The syntax can also be supplemented with an `if` statement:\n",
    "```python\n",
    "output list = [expression for element in input list if condition]\n",
    "```"
   ]
  },
  {
   "cell_type": "code",
   "execution_count": null,
   "metadata": {
    "slideshow": {
     "slide_type": "fragment"
    }
   },
   "outputs": [],
   "source": [
    "# TODO all numbers from 10 to 100 that are divisible by 4\n"
   ]
  },
  {
   "cell_type": "markdown",
   "metadata": {
    "slideshow": {
     "slide_type": "subslide"
    }
   },
   "source": [
    "#### 4.1.3 `lambda`, `map`, `filter` and `reduce` as an alternative to list abstraction\n",
    "\n",
    "##### Apply with `map`"
   ]
  },
  {
   "cell_type": "markdown",
   "metadata": {
    "slideshow": {
     "slide_type": "fragment"
    }
   },
   "source": [
    "Using *list comprehension* you can apply an `expression` (or function) to a list (*input list*). Exactly the same thing is possible with the `map` function:\n",
    "\n",
    "```python\n",
    "output = map(func, seq) # func = function, seq = sequential data type\n",
    "```"
   ]
  },
  {
   "cell_type": "code",
   "execution_count": null,
   "metadata": {
    "slideshow": {
     "slide_type": "fragment"
    }
   },
   "outputs": [],
   "source": [
    "# add 2 to all numbers in a list\n",
    "neueListe = list(map(lambda x: x +2, range(10)))\n",
    "print(neueListe)"
   ]
  },
  {
   "cell_type": "code",
   "execution_count": null,
   "metadata": {
    "slideshow": {
     "slide_type": "fragment"
    }
   },
   "outputs": [],
   "source": [
    "# TODO conversion from degrees Celsius to Fahrenheit: °F = (9/5)*°C +32\n",
    "messungenCelsius = [35.4, 36.3, 37.8, 38.0, 39.6, 42.1 ]\n",
    "messungenFahrenheit = pass # TODO"
   ]
  },
  {
   "cell_type": "markdown",
   "metadata": {
    "slideshow": {
     "slide_type": "subslide"
    }
   },
   "source": [
    "##### Filter with `filter`\n",
    "\n",
    "`map` includes all results from the function in the new list. `filter`, on the other hand, only returns those function results that return `True`. It returns a filtered *Iterable*.\n",
    "\n",
    "Syntax:\n",
    "\n",
    "```python\n",
    "output = filter(func, iter) # func = function, iter = seq. data type or iterable object\n",
    "```"
   ]
  },
  {
   "cell_type": "markdown",
   "metadata": {
    "slideshow": {
     "slide_type": "fragment"
    }
   },
   "source": [
    "Inset: What is an *iterable object (itarable)*?\n",
    "> An iterable object is an object that has its\n",
    "Can return elements individually, i.e. one by one. Examples of iterable\n",
    "Objects are all sequential data types such as list, str and tuple), but also the\n",
    "Dictionary class dict.\n",
    "\n",
    "? Every sequential data type is iterable, but not every iterable object has a sequential data type. For sequential data types, there is an **index** to access individual elements"
   ]
  },
  {
   "cell_type": "code",
   "execution_count": null,
   "metadata": {
    "slideshow": {
     "slide_type": "fragment"
    }
   },
   "outputs": [],
   "source": [
    "# TODO all numbers from 10 to 100 that are divisible by 4\n"
   ]
  },
  {
   "cell_type": "markdown",
   "metadata": {
    "slideshow": {
     "slide_type": "subslide"
    }
   },
   "source": [
    "##### Reduce with `reduce`\n",
    "\n",
    "\"aka *annoy Guido*\", because this function has been banned from the standard modules of Python 3. It can therefore only be used if it is first imported from the `functools` module. Syntax:\n",
    "\n",
    "```python\n",
    "from functools import reduce\n",
    "output value = reduce(func, seq) # func = function, seq = sequential data type\n",
    "```"
   ]
  },
  {
   "cell_type": "markdown",
   "metadata": {
    "slideshow": {
     "slide_type": "fragment"
    }
   },
   "source": [
    "Nevertheless, the function can be useful. It is used to *cumulatively* apply a function to the elements of a sequence and reduce them to a single value."
   ]
  },
  {
   "cell_type": "code",
   "execution_count": null,
   "metadata": {
    "slideshow": {
     "slide_type": "fragment"
    }
   },
   "outputs": [],
   "source": [
    "# TODO sum of a list\n"
   ]
  },
  {
   "cell_type": "code",
   "execution_count": null,
   "metadata": {
    "slideshow": {
     "slide_type": "fragment"
    }
   },
   "outputs": [],
   "source": [
    "# TODO maximum of a list\n"
   ]
  },
  {
   "cell_type": "markdown",
   "metadata": {
    "slideshow": {
     "slide_type": "subslide"
    }
   },
   "source": [
    "#### 4.1.4 Copying lists"
   ]
  },
  {
   "cell_type": "code",
   "execution_count": null,
   "metadata": {
    "slideshow": {
     "slide_type": "fragment"
    }
   },
   "outputs": [],
   "source": [
    "# Which has nothing to do with copying\n",
    "x = [ 1, 2, 3, 4, 5]\n",
    "y = x\n",
    "print(\"x: \", x)             \n",
    "print(\"y: \", y)             \n",
    "print(id(x), id(y), \"\\n\")   \n",
    "# Change the list\n",
    "print(\"Veränderung\")\n",
    "x[1] = 33\n",
    "print(\"x: \", x)             \n",
    "print(\"y: \", y)             \n",
    "print(id(x), id(y), \"\\n\")   "
   ]
  },
  {
   "cell_type": "markdown",
   "metadata": {
    "slideshow": {
     "slide_type": "fragment"
    }
   },
   "source": [
    "What happened in the cell above is called *aliasing* because an alias (different name) is created for an already existing name (`y = x`). Both names internally point to the same object, so it cannot be said to be a copy."
   ]
  },
  {
   "cell_type": "code",
   "execution_count": null,
   "metadata": {
    "slideshow": {
     "slide_type": "fragment"
    }
   },
   "outputs": [],
   "source": [
    "# ALL Flache Kopie\n"
   ]
  },
  {
   "cell_type": "markdown",
   "metadata": {
    "slideshow": {
     "slide_type": "fragment"
    }
   },
   "source": [
    "The example above seems to work. Instead of the slicing operator `[:]` you can also write `y = x.copy()`.\n",
    "\n",
    "Does this also work for nested lists?"
   ]
  },
  {
   "cell_type": "code",
   "execution_count": null,
   "metadata": {
    "slideshow": {
     "slide_type": "fragment"
    }
   },
   "outputs": [],
   "source": [
    "# TODO Shallow copy of a nested list\n"
   ]
  },
  {
   "cell_type": "markdown",
   "metadata": {
    "slideshow": {
     "slide_type": "fragment"
    }
   },
   "source": [
    "The answer is **no**. Shallow copies (*shallow copy*) only work with flat lists, i.e. lists that do not contain any sublists. During shallow copying, the pointers to the sublists are also copied, meaning that the copy points to the same sublist as the original."
   ]
  },
  {
   "cell_type": "markdown",
   "metadata": {
    "slideshow": {
     "slide_type": "fragment"
    }
   },
   "source": [
    "In order to also copy the sub-objects and make so-called *deep copies*, you need the `deepcopy()` function. A deep copy is a completely independent system of objects and no longer has any connection to the original."
   ]
  },
  {
   "cell_type": "code",
   "execution_count": null,
   "metadata": {
    "slideshow": {
     "slide_type": "fragment"
    }
   },
   "outputs": [],
   "source": [
    "# TODO deep copy\n"
   ]
  },
  {
   "cell_type": "markdown",
   "metadata": {
    "slideshow": {
     "slide_type": "slide"
    }
   },
   "source": [
    "### 4.2 Tupel"
   ]
  },
  {
   "cell_type": "markdown",
   "metadata": {
    "slideshow": {
     "slide_type": "fragment"
    }
   },
   "source": [
    "A tuple is a sequence of elements that can be iterated but cannot be changed. Tuples are *immutable*. The idea is that lists are a list of many individual objects, whereas tuples emphasize modeling the structure of *a* complex individual object.\n",
    "\n",
    "**Rule of thumb**: Tuples do everything that lists do. BUT they are immutable."
   ]
  },
  {
   "cell_type": "code",
   "execution_count": null,
   "metadata": {
    "slideshow": {
     "slide_type": "fragment"
    }
   },
   "outputs": [],
   "source": [
    "# TODO examples\n"
   ]
  },
  {
   "cell_type": "markdown",
   "metadata": {
    "slideshow": {
     "slide_type": "subslide"
    }
   },
   "source": [
    "#### 4.2.1 Application of tuples"
   ]
  },
  {
   "cell_type": "markdown",
   "metadata": {
    "slideshow": {
     "slide_type": "fragment"
    }
   },
   "source": [
    "Multiple assignments (several assignments in one line) are also possible in Python, which are ideal for swapping variable values, for example:"
   ]
  },
  {
   "cell_type": "code",
   "execution_count": null,
   "metadata": {
    "slideshow": {
     "slide_type": "fragment"
    }
   },
   "outputs": [],
   "source": [
    "# pure multiple assignment\n",
    "minimum, maximum, text = 3, 99, \"Ein Text\"\n",
    "print(minimum, maximum, text)\n",
    "maximum, minimum = minimum, maximum\n",
    "print(minimum, maximum, text)"
   ]
  },
  {
   "cell_type": "markdown",
   "metadata": {
    "slideshow": {
     "slide_type": "fragment"
    }
   },
   "source": [
    "The following is called tuple packing:"
   ]
  },
  {
   "cell_type": "code",
   "execution_count": null,
   "metadata": {
    "slideshow": {
     "slide_type": "fragment"
    }
   },
   "outputs": [],
   "source": [
    "# TODO Tupel-Packing\n"
   ]
  },
  {
   "cell_type": "markdown",
   "metadata": {
    "slideshow": {
     "slide_type": "fragment"
    }
   },
   "source": [
    "Tuple unpacking is when you assign the individual values ​​of a tuple to variables:"
   ]
  },
  {
   "cell_type": "code",
   "execution_count": null,
   "metadata": {
    "slideshow": {
     "slide_type": "fragment"
    }
   },
   "outputs": [],
   "source": [
    "# TODO Tupel-Unpacking\n"
   ]
  },
  {
   "cell_type": "code",
   "execution_count": null,
   "metadata": {
    "slideshow": {
     "slide_type": "fragment"
    }
   },
   "outputs": [],
   "source": [
    "# TODO tuple unpacking in function call\n"
   ]
  },
  {
   "cell_type": "markdown",
   "metadata": {
    "slideshow": {
     "slide_type": "subslide"
    }
   },
   "source": [
    "#### 4.2.2 Using the `enumerate()` function"
   ]
  },
  {
   "cell_type": "markdown",
   "metadata": {
    "slideshow": {
     "slide_type": "fragment"
    }
   },
   "source": [
    "`enumerate()` is a *built-in function* that adds an index/counter to each iterable object (*iterable*) and returns the result in the form of a tuple. The syntax is `enumerate(iterable, start = 0)`, where:\n",
    "- **iterable**: any iterable object\n",
    "- **start**: Optional. Specifies the starting index. Default = 0."
   ]
  },
  {
   "cell_type": "code",
   "execution_count": null,
   "metadata": {
    "slideshow": {
     "slide_type": "fragment"
    }
   },
   "outputs": [],
   "source": [
    "# TODO example\n",
    "liste = [\"eat\", \"sleep\", \"repeat\"]\n"
   ]
  },
  {
   "cell_type": "markdown",
   "metadata": {
    "slideshow": {
     "slide_type": "fragment"
    }
   },
   "source": [
    "The `next()` function:"
   ]
  },
  {
   "cell_type": "code",
   "execution_count": null,
   "metadata": {
    "slideshow": {
     "slide_type": "fragment"
    }
   },
   "outputs": [],
   "source": [
    "fruits = ['apple', 'banana', 'cherry']\n",
    "enum_fruits = enumerate(fruits)\n",
    " \n",
    "next_element = next(enum_fruits)\n",
    "print(f\"Next Element: {next_element}\")\n",
    "next_element = next(enum_fruits)\n",
    "print(f\"Next Element: {next_element}\")\n",
    "next_element = next(enum_fruits)\n",
    "print(f\"Next Element: {next_element}\")\n",
    "# next_element = next(enum_fruits) # doesn't work\n",
    "# print(f\"Next Element: {next_element}\")"
   ]
  },
  {
   "cell_type": "markdown",
   "metadata": {
    "slideshow": {
     "slide_type": "subslide"
    }
   },
   "source": [
    "\"Modifying\" a tuple:"
   ]
  },
  {
   "cell_type": "code",
   "execution_count": null,
   "metadata": {
    "slideshow": {
     "slide_type": "fragment"
    }
   },
   "outputs": [],
   "source": [
    "# Expansion of a tuple\n",
    "t = ( 1, 2, 3 )\n",
    "print(\"Original\", t)\n",
    "# Attempt1, Target: ( 1, 2, 3, 4 )\n",
    "t1 =   # TODO\n",
    "print(\"Versuch 1:\", t1)\n",
    "# Attempt 2, Goal: ( 1, 2, 3, 4 )\n",
    "t2 =   # TODO\n",
    "print(\"Versuch 2:\", t2)\n",
    "# Attempt 3, Goal: ( 1, 2, 3, 4 )\n",
    "\n",
    "t3 =  # TODO\n",
    "print(\"Versuch 3:\", t3)\n",
    "# Attempt 4, Goal: ( 1, 2, 3, 4 )\n",
    "t4 =  # TODO \n",
    "print(\"Versuch 4:\", t4)"
   ]
  },
  {
   "cell_type": "markdown",
   "metadata": {
    "slideshow": {
     "slide_type": "subslide"
    }
   },
   "source": [
    "**Attention**: Adjust your mindset!"
   ]
  },
  {
   "cell_type": "code",
   "execution_count": null,
   "metadata": {
    "slideshow": {
     "slide_type": "fragment"
    }
   },
   "outputs": [],
   "source": [
    "# Iterations with the for loop\n",
    "\n",
    "t1 = ( (1,2,3), (4,5,6) ) # 2x3-Tuple\n",
    "# Array thinking with indexes (bad!)\n",
    "for i in range(2):\n",
    "    for j in range(3) :\n",
    "        print(t1[i][j])"
   ]
  },
  {
   "cell_type": "code",
   "execution_count": null,
   "metadata": {
    "scrolled": true,
    "slideshow": {
     "slide_type": "fragment"
    }
   },
   "outputs": [],
   "source": [
    "# Tuple thinking with elements (good!)\n",
    "for i in t1:\n",
    "    for j in i :\n",
    "        print(j)"
   ]
  },
  {
   "cell_type": "code",
   "execution_count": null,
   "metadata": {
    "slideshow": {
     "slide_type": "fragment"
    }
   },
   "outputs": [],
   "source": [
    "t2 = ( (1,), (2,3), (4,5,6)) # Dreiecks-Tupel\n",
    "# TODO Output the tuple elements of the triangle tuple\n"
   ]
  },
  {
   "cell_type": "markdown",
   "metadata": {
    "slideshow": {
     "slide_type": "slide"
    }
   },
   "source": [
    "### 4.3 Quantity"
   ]
  },
  {
   "cell_type": "markdown",
   "metadata": {
    "slideshow": {
     "slide_type": "fragment"
    }
   },
   "source": [
    "Sets (*sets*) are unordered collections with no duplicates that are iterable and mutable. They are also referred to as *iterable* and *mutable*. The elements of a set have no order and therefore no indices and are therefore not sequential data types."
   ]
  },
  {
   "cell_type": "markdown",
   "metadata": {
    "slideshow": {
     "slide_type": "fragment"
    }
   },
   "source": [
    "To make sets immutable (*immutable*), there is the data type `frozenset`.\n",
    "\n",
    "To create a set, you use curly brackets like in mathematics (alternatively with the keyword `set(...)`)"
   ]
  },
  {
   "cell_type": "code",
   "execution_count": null,
   "metadata": {
    "slideshow": {
     "slide_type": "fragment"
    }
   },
   "outputs": [],
   "source": [
    "# TODO example quantity\n"
   ]
  },
  {
   "cell_type": "markdown",
   "metadata": {
    "slideshow": {
     "slide_type": "fragment"
    }
   },
   "source": [
    "Common operators from mathematics: intersection `&`, union `|` and difference `-`"
   ]
  },
  {
   "cell_type": "code",
   "execution_count": null,
   "metadata": {
    "slideshow": {
     "slide_type": "fragment"
    }
   },
   "outputs": [],
   "source": [
    "# Set operators from mathematics\n",
    "m1 = set(\"Einstein\")\n",
    "m2 = set(\"Relativitaet\")\n",
    "print(m1 & m2)  # Schnittmenge\n",
    "print(m1 | m2)  # Vereinigung\n",
    "print(m1 - m2)  # Differenz"
   ]
  },
  {
   "cell_type": "markdown",
   "metadata": {
    "slideshow": {
     "slide_type": "subslide"
    }
   },
   "source": [
    "Methods for further operations on sets:\n",
    "\n",
    "| Methods|Description|\n",
    "|:----|:----|\n",
    "| `quantity.add(e)` | Inserts the element e into the set set as a new element |\n",
    "| `quantity.clear()` | Removes all elements from the set set |\n",
    "| `quantity.discard(e)` | The element e is removed from the set set. |\n",
    "| `quantity.copy()` | (Flat) copy of quantity quantity |\n",
    "| `quantity.difference(otherQuantity)` | = `quantity - otherQuantity` |\n",
    "| `quantity.intersection(otherQuantity)` | = `quantity & otherQuantity` |\n",
    "| `quantity.union(otherQuantity)` | = `quantity \\| otherQuantity` |"
   ]
  },
  {
   "cell_type": "markdown",
   "metadata": {
    "slideshow": {
     "slide_type": "subslide"
    }
   },
   "source": [
    "##### Set abstraction (*set comprehension*)\n",
    "\n",
    "Comparison of list and set abstraction using the algorithm \"[Sieb of Eratosthenes](https://de.wikipedia.org/wiki/Sieb_des_Eratosthenes#/media/File:Animation_Sieb_des_Eratosthenes_%C3%9Cberarbeit.gif)\" for determining the prime numbers of $2$ to $n$."
   ]
  },
  {
   "cell_type": "code",
   "execution_count": null,
   "metadata": {
    "slideshow": {
     "slide_type": "fragment"
    }
   },
   "outputs": [],
   "source": [
    "# Via list comprehension\n",
    "from math import sqrt\n",
    "n = 75\n",
    "sqrt_n = int(sqrt(n))\n",
    "no_primes = [j for i in range(2, sqrt_n) for j in range(i*2, n, i)]\n",
    "print(no_primes)\n",
    "primes = [i for i in range(2, n) if i not in no_primes]\n",
    "print(primes)"
   ]
  },
  {
   "cell_type": "code",
   "execution_count": null,
   "metadata": {
    "slideshow": {
     "slide_type": "fragment"
    }
   },
   "outputs": [],
   "source": [
    "# Via set comprehension\n",
    "from math import sqrt\n",
    "n = 75\n",
    "sqrt_n = int(sqrt(n))\n",
    "no_primes = {j for i in range(2, sqrt_n) for j in range(i*2, n, i)}\n",
    "print(no_primes)\n",
    "primes = {i for i in range(2, n) if i not in no_primes}\n",
    "print(primes)"
   ]
  },
  {
   "cell_type": "markdown",
   "metadata": {
    "slideshow": {
     "slide_type": "slide"
    }
   },
   "source": [
    "#### 4.4 Dictionary"
   ]
  },
  {
   "cell_type": "markdown",
   "metadata": {
    "slideshow": {
     "slide_type": "fragment"
    }
   },
   "source": [
    "In addition to lists, *Dictionaries* are one of the most important data structures in Python. It is an *unordered collection of key-value pairs*. In programming languages ​​we also speak of an *associative field*."
   ]
  },
  {
   "cell_type": "markdown",
   "metadata": {
    "slideshow": {
     "slide_type": "fragment"
    }
   },
   "source": [
    "The keys (*keys*) may only be immutable (*immutable*) data types. The dictionaries themselves are *mutable*."
   ]
  },
  {
   "cell_type": "markdown",
   "metadata": {
    "slideshow": {
     "slide_type": "fragment"
    }
   },
   "source": [
    "The main methods of operations on dictionaries:\n",
    "\n",
    "| Methods|Description|\n",
    "|:----|:----|\n",
    "| `d.keys()` | Returns the keys of the dictionaries d |\n",
    "| `d.values()` | Returns the values ​​of the dictionary d |\n",
    "| `d.items()` | Returns a list of tuples. Each tuple contains a key-value pair from the dictionary d |\n",
    "| `d.has_key(k)` | Checks whether the key k is contained in the dictionary d |\n",
    "| `del d[k]` | = Deletes the key-value pair with key k from the dictionary d |\n",
    "| `k in d` | = Checks whether k is a key of the dictionary d |"
   ]
  },
  {
   "cell_type": "code",
   "execution_count": null,
   "metadata": {
    "slideshow": {
     "slide_type": "fragment"
    }
   },
   "outputs": [],
   "source": [
    "# Examples of dictionaries\n",
    "# In {} brackets like sets, individual pairs separated by \",\", \":\" distinguishes dict from set\n",
    "waehrungen = {\"Deutschland\" : \"Euro\", \"Indien\" : \"Indische Rupie\", \n",
    "              \"Grossbritannien\" : \"Pfund Sterling\", \"Japan\" : \"Yen\", \n",
    "              \"Frankreich\" : \"Euro\"}\n",
    "\n",
    "# TODO Access an element via key\n",
    "\n",
    "# TODO \"Is key in Dictionary?\"\n",
    "\n",
    "# TODO output key\n",
    "\n",
    "\n",
    "\n",
    "# TODO output values\n",
    "\n",
    "# TODO output pairs\n"
   ]
  },
  {
   "cell_type": "markdown",
   "metadata": {
    "slideshow": {
     "slide_type": "subslide"
    }
   },
   "source": [
    "- Generate dictionary from lists: the `zip` function"
   ]
  },
  {
   "cell_type": "markdown",
   "metadata": {
    "slideshow": {
     "slide_type": "fragment"
    }
   },
   "source": [
    "The `zip()` function can be applied to any number of iterable objects and returns a zip object, which is a tuple iterator. First it returns a tuple with the first elements of the input objects, then the second, third and stops as soon as one of the iterable objects is used up."
   ]
  },
  {
   "cell_type": "code",
   "execution_count": null,
   "metadata": {
    "slideshow": {
     "slide_type": "fragment"
    }
   },
   "outputs": [],
   "source": [
    "# Example with numbers and letters\n",
    "einige_buchstaben = [\"a\", \"b\", \"c\", \"d\", \"e\", \"f\"]\n",
    "einige_zahlen = [5, 3, 7, 9, 11, 2]\n",
    "print(zip(einige_buchstaben, einige_zahlen))\n",
    "print(type(zip(einige_buchstaben, einige_zahlen)))\n",
    "for t in zip(einige_buchstaben, einige_zahlen):\n",
    "    print(t)\n",
    "\n"
   ]
  },
  {
   "cell_type": "code",
   "execution_count": null,
   "metadata": {
    "slideshow": {
     "slide_type": "fragment"
    }
   },
   "outputs": [],
   "source": [
    "# Example of input objects of different lengths\n",
    "ort = [\"Helgoland\", \"Kiel\", \"Berlin-Tegel\"]\n",
    "luftdruck = (1021.2, 1019.9, 1023.7, 1023.1, 1027.7)\n",
    "for ort, ld in zip(ort, luftdruck):\n",
    "    print(f\"Der Luftdruck in {ort} beträgt: {ld:7.1f}\")"
   ]
  },
  {
   "cell_type": "code",
   "execution_count": null,
   "metadata": {
    "slideshow": {
     "slide_type": "fragment"
    }
   },
   "outputs": [],
   "source": [
    "# TODO Dictionary from lists, example currencies\n",
    "l = [\"Deutschland\", \"Indien\", \"Großbritannien\", \"Japan\", \"Frankreich\"]\n",
    "w = [ \"Euro\", \"Indische Rupie\",\"Pfund Sterling\", \"Yen\", \"Euro\" ]\n"
   ]
  }
 ],
 "metadata": {
  "kernelspec": {
   "display_name": "Python 3 (ipykernel)",
   "language": "python",
   "name": "python3"
  },
  "language_info": {
   "codemirror_mode": {
    "name": "ipython",
    "version": 3
   },
   "file_extension": ".py",
   "mimetype": "text/x-python",
   "name": "python",
   "nbconvert_exporter": "python",
   "pygments_lexer": "ipython3",
   "version": "3.11.7"
  }
 },
 "nbformat": 4,
 "nbformat_minor": 2
}
