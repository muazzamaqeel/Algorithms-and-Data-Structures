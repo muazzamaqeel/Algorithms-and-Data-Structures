{
 "cells": [
  {
   "cell_type": "markdown",
   "metadata": {
    "slideshow": {
     "slide_type": "slide"
    }
   },
   "source": [
    "## 5. Ein- und Ausgabe in Python"
   ]
  },
  {
   "cell_type": "markdown",
   "metadata": {
    "slideshow": {
     "slide_type": "fragment"
    }
   },
   "source": [
    "Ein Computer arbeitet nach dem *EVA-Prinzip* (**E**ingabe-**V**erarbeitung-**A**usgabe), d.h. er empfängt Daten über eine Eingabeeinheit, verarbeitet sie und liefert das Ergebnis über ein Ausgabegerät an seine Umgebung. E/A-Operationen sind z.B.:\n",
    "\n"
   ]
  },
  {
   "cell_type": "markdown",
   "metadata": {
    "slideshow": {
     "slide_type": "fragment"
    }
   },
   "source": [
    "Eingabe:\n",
    "\n",
    "- Eingabe von Zeichen über die Tastatur\n",
    "- Lesen von Dateien, die auf Peripheriespeichern gespeichert sind (Festplatte, CD, Memory-Stick, etc.)"
   ]
  },
  {
   "cell_type": "markdown",
   "metadata": {
    "slideshow": {
     "slide_type": "fragment"
    }
   },
   "source": [
    "Ausgabe:\n",
    "\n",
    "- Wiedergabe von Texten und Zahlen auf dem Bildschirm in einem Konsolenfenster\n",
    "- Schreiben in Dateien, die auf Peripheriespeichern gespeichert sind"
   ]
  },
  {
   "cell_type": "markdown",
   "metadata": {
    "slideshow": {
     "slide_type": "fragment"
    }
   },
   "source": [
    "All diese Operationen verlaufen bei Python über Objekte des Typs `file`. "
   ]
  },
  {
   "cell_type": "markdown",
   "metadata": {
    "slideshow": {
     "slide_type": "slide"
    }
   },
   "source": [
    "### 5.1 Files\n",
    "\n",
    "#### 5.1.1 Was ist ein `file`?"
   ]
  },
  {
   "cell_type": "markdown",
   "metadata": {
    "slideshow": {
     "slide_type": "fragment"
    }
   },
   "source": [
    "Ein `file` (deutsch: Datei) ist eine Aneinanderreihung von *Bits*. Eine 8-Bit-Einheit (Oktette) bezeichnen wir als *Byte*. Damit wissen wir also, dass alle Daten im Speicher *binär* abgelegt sind. \n",
    "\n",
    "Diese Pattern aus Nullen und Einsen können je nach Kontext auf unterschiedliche Weise interpretiert werden. Um eine Binärzahl als Ganzzahl zu interpretieren, kann man diese Formel verwenden:\n",
    "\n",
    "$$ z = \\sum_{i=0}^{n-1} 2^i \\;b_i$$"
   ]
  },
  {
   "cell_type": "code",
   "execution_count": null,
   "metadata": {
    "slideshow": {
     "slide_type": "fragment"
    }
   },
   "outputs": [],
   "source": [
    "# TODO Beispiel Binärzahl\n"
   ]
  },
  {
   "cell_type": "markdown",
   "metadata": {
    "slideshow": {
     "slide_type": "fragment"
    }
   },
   "source": [
    "Das gleiche Pattern kann aber auch für ein Schriftzeichen stehen. In diesem Fall wird mittels einer Tabelle übersetzt."
   ]
  },
  {
   "cell_type": "markdown",
   "metadata": {
    "slideshow": {
     "slide_type": "fragment"
    }
   },
   "source": [
    "![](https://upload.wikimedia.org/wikipedia/commons/1/1b/ASCII-Table-wide.svg)\n",
    "\n",
    "Quelle: https://upload.wikimedia.org/wikipedia/commons/1/1b/ASCII-Table-wide.svg"
   ]
  },
  {
   "cell_type": "code",
   "execution_count": null,
   "metadata": {
    "slideshow": {
     "slide_type": "fragment"
    }
   },
   "outputs": [],
   "source": [
    "# TODO Beispiel Schriftzeichen\n"
   ]
  },
  {
   "cell_type": "markdown",
   "metadata": {
    "slideshow": {
     "slide_type": "fragment"
    }
   },
   "source": [
    "Das `file`-Objekt kann (im Prinzip) beliebig lang sein. Das Ende wird durch das Sonderzeichen `eof` (*end of file*, ASCII: `0x04`) gekennzeichnet.\n"
   ]
  },
  {
   "cell_type": "markdown",
   "metadata": {
    "slideshow": {
     "slide_type": "subslide"
    }
   },
   "source": [
    "#### 5.1.2 Ein `file`-Objekt erzeugen, lesen und schließen"
   ]
  },
  {
   "cell_type": "markdown",
   "metadata": {
    "slideshow": {
     "slide_type": "fragment"
    }
   },
   "source": [
    "Ein `file`-Objekt wird durch einen Aufruf der Standardfunktion `open()` erzeugt. Der allgemeine Syntax lautet `open(filename, mode = \"r\")`, wobei:\n",
    "\n",
    "- `filename`: Pfad bestehend aus zwei `string`-Teilen: Bezeichnung des Verzeichnisses (z.B. */python/programme/*) und Dateiname (z.B. *textdatei.txt*)\n",
    "- `mode`: beschreibt in welchem Modus die Datei geöffnet werden soll. Default = `\"r\"`"
   ]
  },
  {
   "cell_type": "markdown",
   "metadata": {
    "slideshow": {
     "slide_type": "fragment"
    }
   },
   "source": [
    "|`mode`|Erklärung|\n",
    "|:---|:---|\n",
    "|`\"r\"`| Datei wird ausschließlich zum Lesen geöffnet. Sie muss bereits existieren|\n",
    "|`\"w\"`| Datei wird ausschließlich zum Schreiben geöffnet, existiert bereits eine Datei gleichen Namens, wird ihre Länge auf null gesetzt und sie wird **überschrieben**|\n",
    "|`\"a\"`| \"append\": Datei wird ausschließlich zum Schreiben geöffnet, existiert bereits eine Datei gleichen Namens, so wird diese **erweitert**|\n",
    "|`\"r+\"`| Die Datei wird zum Lesen und Schreiben geöffnet. Sie muss bereits existieren|\n",
    "|`\"w+\"`| Die Datei wird zum Lesen und Schreiben geöffnet, existiert bereits eine Datei gleichen Namens, so wird diese **überschrieben** |\n",
    "|`\"a+\"`| Die Datei wird zum Lesen und Schreiben geöffnet, existiert bereits eine Datei gleichen Namens, so wird diese **erweitert**|\n",
    "\n",
    "Die Datei wird standardmäßig im *Textformat* geöffnet. Durch das Hinzufügen eines `\"b\"` (z.B. `\"rb\"`, `\"wb\"`, `\"r+b\"`, `\"w+b\"`) wird diese im *Binärformat* geöffnet, d.h. deren Inhalt wird als `byte`-Objekte zurückgegeben."
   ]
  },
  {
   "cell_type": "markdown",
   "metadata": {
    "slideshow": {
     "slide_type": "fragment"
    }
   },
   "source": [
    "Anmerkung zum `filename`: Absolute Pfadangaben sind von Natur aus unflexibel, daher sind stets relative Pfadangaben zu verwenden. Konzipieren Sie nach Möglichkeit Ihre Programme so, dass notwendige Dateien in Unterordnern liegen, die vom Hauptprogramm relativ gesehen einfach zu erreichen sind! "
   ]
  },
  {
   "cell_type": "markdown",
   "metadata": {
    "slideshow": {
     "slide_type": "fragment"
    }
   },
   "source": [
    "Zum Lesen wird die Methode `read(size)` verwendet. `size: int` ist hierbei ein optionales Argument. Wird die Angabe von `size` weggelassen oder ist diese negativ, wird das gesamte `file` gelesen und zurückgegeben, ansonsten wird maximal die übergebene Anzahl an Bytes gelesen.\n",
    "\n",
    "Die offizielle [Python-Dokumentation](https://docs.python.org/3/tutorial/inputoutput.html#methods-of-file-objects) kommentiert hierzu lakonisch:\n",
    "\n",
    "> *It's your problem if the file is twice as large as your machine's memory.*"
   ]
  },
  {
   "cell_type": "code",
   "execution_count": null,
   "metadata": {
    "slideshow": {
     "slide_type": "fragment"
    }
   },
   "outputs": [],
   "source": [
    "# Die Datei \"LICENSE_PYTHON.txt\" muss im Ordner \"daten\", \n",
    "# der auf der gleichen Ebene wie das Workbook ist, liegen\n",
    "daten = open(\"daten/LICENSE_PYTHON.txt\")\n",
    "#print(daten.read(10))\n",
    "#print(daten.read())\n",
    "# print(\"Nach dem Ende\")\n",
    "# print(daten.read())"
   ]
  },
  {
   "cell_type": "markdown",
   "metadata": {
    "slideshow": {
     "slide_type": "fragment"
    }
   },
   "source": [
    "Häufig sollen Textdateien Zeile für Zeile bearbeitet werden. Dafür existiert die Methode `readline(size)`. `size` schreibt die maximal zu lesende Datenmenge vor. Wird dieses Argument ausgelassen, so liest Python *die gesamte Zeile*.\n",
    "\n",
    "Ähnlich ist die Methode `readlines()`. Diese liest die *gesamte Datei*, zerlegt sie dabei aber bereits an den Zeilenumbrüchen und packt die Teile in eine `list`.\n",
    "\n",
    "In Python haben Zeilenumbrüche das Format `\\n`."
   ]
  },
  {
   "cell_type": "code",
   "execution_count": null,
   "metadata": {
    "slideshow": {
     "slide_type": "fragment"
    }
   },
   "outputs": [],
   "source": [
    "print(daten.readline())\n",
    "# TODO readlines()\n"
   ]
  },
  {
   "cell_type": "markdown",
   "metadata": {
    "slideshow": {
     "slide_type": "fragment"
    }
   },
   "source": [
    "Anmerkungen: \n",
    "\n",
    "&rarr; die verschiedenen Betriebssysteme haben verschiedene Zeilenenden (`\\n` unter Linux, `\\r\\n` unter Windows, `\\r` bei Macs)\n",
    "\n",
    "&rarr; Python funktioniert **plattform-unabhängig**, da es beim Lesen die plattformspezifischen Zeilenenden in `\\n` und beim Schreiben wieder zurück konvertiert. \n",
    "\n",
    "&rarr; `file`-Objekte sind *Iteratoren*. Deshalb kann man diese auch nur einmal lesen/durchlaufen."
   ]
  },
  {
   "cell_type": "code",
   "execution_count": null,
   "metadata": {
    "slideshow": {
     "slide_type": "fragment"
    }
   },
   "outputs": [],
   "source": [
    "# weil file-Objekte Iteratoren sind, können diese mit einer\n",
    "# for-Schleife durchlaufen werden\n",
    "daten = open(\"daten/LICENSE_PYTHON.txt\")\n",
    "# TODO\n"
   ]
  },
  {
   "cell_type": "markdown",
   "metadata": {
    "slideshow": {
     "slide_type": "fragment"
    }
   },
   "source": [
    "Jede Datei, die geöffnet wurde, sollte auch wieder geschlossen und gespeichert werden. Dies kann man mit dem Attribut `closed` überprüfen und die Datei mit der Methode `close()` schließen."
   ]
  },
  {
   "cell_type": "code",
   "execution_count": null,
   "metadata": {
    "slideshow": {
     "slide_type": "fragment"
    }
   },
   "outputs": [],
   "source": [
    "# TODO Datei schließen\n",
    "#daten.closed\n",
    "daten.close()\n",
    "daten.closed\n",
    "#daten.read()"
   ]
  },
  {
   "cell_type": "markdown",
   "metadata": {
    "slideshow": {
     "slide_type": "subslide"
    }
   },
   "source": [
    "#### 5.1.3 Schreiben eines `file`- Objekts"
   ]
  },
  {
   "cell_type": "markdown",
   "metadata": {
    "slideshow": {
     "slide_type": "fragment"
    }
   },
   "source": [
    "Während eine Datei im Schreibemodus(!) geöffnet ist (`closed == False`), kann man mit der Methode `write(text)` Text in die Datei schreiben. `text` muss hierbei vom Datentyp `string` sein. Der Rückgabewert ist die Anzahl der geschriebenen Zeichen."
   ]
  },
  {
   "cell_type": "code",
   "execution_count": null,
   "metadata": {
    "slideshow": {
     "slide_type": "fragment"
    }
   },
   "outputs": [],
   "source": [
    "# Erzeugen einer neuen Datei eigeneDatei.txt und Schreiben mit write()\n",
    "eigeneDatei = open(\"daten/eigeneDatei.txt\", \"w\")\n",
    "\n",
    "eigeneDatei.write(\"Sehr geehrte Damen und Herren\\n\")\n",
    "eigeneDatei.write(\"bla\"*5 + \"\\n\")\n",
    "eigeneDatei.write(\"Das war jetzt mit write()\\n\")\n",
    "\n",
    "eigeneDatei.close()     # Speichern und Schließen"
   ]
  },
  {
   "cell_type": "markdown",
   "metadata": {
    "slideshow": {
     "slide_type": "fragment"
    }
   },
   "source": [
    "Alternativ kann man eine Datei auch mit der `print()`-Funktion beschreiben. Wir erinnern uns an den Syntax dieser Funktion und den optionalen Parameter `file`. Damit können wir obige Codezelle auch schreiben als:"
   ]
  },
  {
   "cell_type": "code",
   "execution_count": null,
   "metadata": {
    "slideshow": {
     "slide_type": "fragment"
    }
   },
   "outputs": [],
   "source": [
    "# Erzeugen einer neuen Datei eigeneDatei.txt und Schreiben mit print()\n",
    "eigeneDatei = open(\"daten/eigeneDatei.txt\", \"w\")\n",
    "\n",
    "print(\"Sehr geehrte Damen und Herren\", file=eigeneDatei)\n",
    "print(\"bla\"*5, file=eigeneDatei)\n",
    "print(\"Das war jetzt mit print()\", file=eigeneDatei)\n",
    "\n",
    "eigeneDatei.close()     # Speichern und Schließen"
   ]
  },
  {
   "cell_type": "code",
   "execution_count": null,
   "metadata": {
    "slideshow": {
     "slide_type": "fragment"
    }
   },
   "outputs": [],
   "source": [
    "# Lesen der selbsterstellen Datei \"eigeneDatei.txt\"\n",
    "eigeneDatei = open(\"daten/eigeneDatei.txt\", \"r\")\n",
    "text = eigeneDatei.read()\n",
    "eigeneDatei.close()\n",
    "print(text)"
   ]
  },
  {
   "cell_type": "markdown",
   "metadata": {
    "slideshow": {
     "slide_type": "subslide"
    }
   },
   "source": [
    "#### 5.1.4 Zwischenspeichern, ohne zu schließen"
   ]
  },
  {
   "cell_type": "markdown",
   "metadata": {
    "slideshow": {
     "slide_type": "fragment"
    }
   },
   "source": [
    "Man kann in Python Dateien einfach zwischenspeichern, ohne diese gleich zu schließen. Dies ermöglicht die Methode `flush()`."
   ]
  },
  {
   "cell_type": "code",
   "execution_count": null,
   "metadata": {
    "slideshow": {
     "slide_type": "fragment"
    }
   },
   "outputs": [],
   "source": [
    "# Beispiel zu flush()\n",
    "flush = open(\"daten/flush.txt\", \"w\")\n",
    "flush.write(\"Hello darkness\\n\")\n",
    "#flush.flush()"
   ]
  },
  {
   "cell_type": "code",
   "execution_count": null,
   "metadata": {
    "slideshow": {
     "slide_type": "fragment"
    }
   },
   "outputs": [],
   "source": [
    "# weitere Bearbeitung der Datei\n",
    "print(flush.closed)\n",
    "flush.write(\"my old friend\\n\")\n",
    "flush.close()\n",
    "flush.closed"
   ]
  },
  {
   "cell_type": "code",
   "execution_count": null,
   "metadata": {
    "slideshow": {
     "slide_type": "fragment"
    }
   },
   "outputs": [],
   "source": [
    "# Lesen der Datei\n",
    "song = open(\"daten/flush.txt\")\n",
    "print(song.read())\n",
    "song.close()"
   ]
  },
  {
   "cell_type": "markdown",
   "metadata": {
    "slideshow": {
     "slide_type": "subslide"
    }
   },
   "source": [
    "#### 5.1.5 Dateicursor bewegen und bestimmen"
   ]
  },
  {
   "cell_type": "markdown",
   "metadata": {
    "slideshow": {
     "slide_type": "fragment"
    }
   },
   "source": [
    "Manchmal ist erforderlich, die aktuelle Cursorposition in der Datei zu kennen und zu verändern. Dafür dienen die Methoden `tell()` und `seek(offset, from)`. "
   ]
  },
  {
   "cell_type": "markdown",
   "metadata": {
    "slideshow": {
     "slide_type": "fragment"
    }
   },
   "source": [
    "`tell()` gibt die aktuelle Position des Cursors ab Dateianfang zurück."
   ]
  },
  {
   "cell_type": "markdown",
   "metadata": {
    "slideshow": {
     "slide_type": "fragment"
    }
   },
   "source": [
    "`seek(offset, from)` verschiebt den Cursor, wobei:\n",
    "\n",
    "- `offset`: Erforderlich. Gibt an, um wie viele Bytes der Cursor gegen einen bestimmten Referenzpunkt verschoben werden soll.\n",
    "- `from`: Optional. Kann nur 0, 1 oder 2 sein:\n",
    "    - `from=0`: Default. *offset* bezieht sich auf den Dateianfang.\n",
    "    - `from=1`: *offset* bezieht sich auf die *aktuelle Position*.\n",
    "    - `from=2`: *offset* bezieht sich auf das *Dateiende*"
   ]
  },
  {
   "cell_type": "code",
   "execution_count": null,
   "metadata": {
    "slideshow": {
     "slide_type": "fragment"
    }
   },
   "outputs": [],
   "source": [
    "# TODO Funktion für Länge einer Datei mit Cursorn\n",
    "def laengeFile(datei):\n",
    "    pass # TODO\n",
    "\n",
    "with open(\"daten/LICENSE_PYTHON.txt\", \"r\") as datei:\n",
    "    print(f\"{datei.name} ist {laengeFile(datei)} Bytes lang\")"
   ]
  },
  {
   "cell_type": "markdown",
   "metadata": {
    "slideshow": {
     "slide_type": "fragment"
    }
   },
   "source": [
    "Damit ist es im Vergleich zu *klassischen Iteratoren* möglich, das `file`-Objekt *zurückzuspulen*, und durch dieses beliebig oft zu iterieren."
   ]
  },
  {
   "cell_type": "markdown",
   "metadata": {
    "slideshow": {
     "slide_type": "subslide"
    }
   },
   "source": [
    "#### 5.1.6 Die `with`- Anweisung"
   ]
  },
  {
   "cell_type": "markdown",
   "metadata": {
    "slideshow": {
     "slide_type": "fragment"
    }
   },
   "source": [
    "Wir haben gesehen, dass es für den fehlerfreien Ablauf eines Programms mit `file`-Objekten unerlässlich ist, Dateien kontrolliert zu öffnen und nach Verarbeitung wieder zu schließen, auch wenn zwischendurch etwas schief gehen sollte. Das ist quasi die Idee der `with`-Anweisung, deren Syntax wie folgt aufgebaut ist:\n",
    "\n",
    "```python\n",
    "with objekt as name:\n",
    "    anweisungsblock\n",
    "```\n",
    "\n",
    "oder im Zusammenhang mit Dateien:\n",
    "\n",
    "```python\n",
    "with open(filename, mode) as dateiname:\n",
    "    datei_anweisungsblock\n",
    "```"
   ]
  },
  {
   "cell_type": "markdown",
   "metadata": {
    "slideshow": {
     "slide_type": "fragment"
    }
   },
   "source": [
    "Objekte können zwei besondere Methoden besitzen: \n",
    "\n",
    "- `__enter__()`: öffnet eine Datei\n",
    "- `__exit__()`: schließt die Datei\n",
    "\n",
    "das `with`-Statement garantiert, dass *auf jeden Fall* die `__exit__()`-Methode aufgerufen wird, wenn zuvor die `__enter__()`-Methode erfolgreich ausgeführt werden konnte."
   ]
  },
  {
   "cell_type": "code",
   "execution_count": null,
   "metadata": {
    "slideshow": {
     "slide_type": "fragment"
    }
   },
   "outputs": [],
   "source": [
    "# TODO Lesen mit with-Anweisung\n"
   ]
  },
  {
   "cell_type": "code",
   "execution_count": null,
   "metadata": {
    "slideshow": {
     "slide_type": "fragment"
    }
   },
   "outputs": [],
   "source": [
    "# TODO Lesen mit with-Anweisung alternativ\n"
   ]
  },
  {
   "cell_type": "markdown",
   "metadata": {
    "slideshow": {
     "slide_type": "fragment"
    }
   },
   "source": [
    "#### 5.1.7 Die Pseudofiles `sys.stdin` und `sys.stdout`"
   ]
  },
  {
   "cell_type": "markdown",
   "metadata": {
    "slideshow": {
     "slide_type": "fragment"
    }
   },
   "source": [
    "Eingaben über die Tastatur haben wir bisher bequem mithilfe der `input()`-Funktion abgefragt. Im Hintergrund laufen diese Eingaben über ein *Pseudofile*. Diese sind quasi ein `file`-Objekt mit eingeschränkten Zugriffsmöglichkeiten. Es besitzt keine Schreibmethoden, sondern lediglich die Methode `readline()`. Der Name dieses Pseudofiles lautet `sys.stdin`. Im Deutschen spricht mann auch von der *Standard-Eingabe*."
   ]
  },
  {
   "cell_type": "markdown",
   "metadata": {
    "slideshow": {
     "slide_type": "fragment"
    }
   },
   "source": [
    "```python\n",
    "# input()-Funktion händisch programmiert\n",
    "# funktioniert nur in der interaktiven Python-Shell\n",
    "import sys\n",
    "print(\"Eingabe: \", end = \" \")\n",
    "eingabe = sys.stdin.readline()\n",
    "print(\"Ihre Eingabe war: \", eingabe)\n",
    "```"
   ]
  },
  {
   "cell_type": "markdown",
   "metadata": {
    "slideshow": {
     "slide_type": "fragment"
    }
   },
   "source": [
    "Für die Ausgaben gibt es das Pseudofile `sys.stdout`, welches auch der Default-Parameter der Standard `print()`-Funktion ist. Dieses verhält sich wie ein `file`-Objekt, das nicht gelesen, sonder nur - mittels `write()` - beschreiben werden kann. "
   ]
  },
  {
   "cell_type": "code",
   "execution_count": null,
   "metadata": {
    "slideshow": {
     "slide_type": "fragment"
    }
   },
   "outputs": [],
   "source": [
    "# Beispiel zur Ausgabe eines Strings ohne print()\n",
    "import sys\n",
    "sys.stdout.write(\"Hallo Welt!\")"
   ]
  },
  {
   "cell_type": "markdown",
   "metadata": {
    "slideshow": {
     "slide_type": "slide"
    }
   },
   "source": [
    "### 5.2 Objekte speichern mit `pickle` \n",
    "\n"
   ]
  },
  {
   "cell_type": "markdown",
   "metadata": {
    "slideshow": {
     "slide_type": "fragment"
    }
   },
   "source": [
    "*pickle* bedeutet im Deutschen *Essiggurke* und *to pickle* bedeutet *einlegen*. Das Python-spezifische Modul `pickle` stellt Funktionen bereit, mit denen man Programmdaten über das Programmende oder den Programmabbruch hinaus speichern kann. In der Informatik bezeichnet man diese Art von Daten als *persistente Daten*. "
   ]
  },
  {
   "cell_type": "markdown",
   "metadata": {
    "slideshow": {
     "slide_type": "fragment"
    }
   },
   "source": [
    "Folgende Objekt-Typen können mit dem `pickle`-Mechanismus gespeichert werden:\n",
    "\n",
    "- Zahlen\n",
    "- Strings\n",
    "- Funktionen\n",
    "- beliebige Sequenzen\n",
    "- Dictionaries\n",
    "- Instanzen selbst definierter Klassen (*spätere Vorlesung*)"
   ]
  },
  {
   "cell_type": "markdown",
   "metadata": {
    "slideshow": {
     "slide_type": "subslide"
    }
   },
   "source": [
    "#### 5.2.1 Funktionen zum Speichern und Laden"
   ]
  },
  {
   "cell_type": "markdown",
   "metadata": {
    "slideshow": {
     "slide_type": "fragment"
    }
   },
   "source": [
    "Zum **Speichern** gibt es aus dem Modul die Funktion `dump(object, file)`, wobei:\n",
    "\n",
    "- `object`: beliebiges Objekt aus der obigen Aufzählung\n",
    "- `file`: Name eines `file`-Objekts, das im binären Schreibmodus geöffnet ist (`\"wb\"`)"
   ]
  },
  {
   "cell_type": "code",
   "execution_count": null,
   "metadata": {
    "slideshow": {
     "slide_type": "fragment"
    }
   },
   "outputs": [],
   "source": [
    "# TODO Beispiel zum Speichern\n",
    "telefonbuch = [(\"Tim\", \"85675\"), (\"Jenny\", \"233325\"), (\"Max\", \"89923\")]"
   ]
  },
  {
   "cell_type": "markdown",
   "metadata": {
    "slideshow": {
     "slide_type": "fragment"
    }
   },
   "source": [
    "Zum **Laden** der Datei gibt es die Funktion `load(file)`, wobei:\n",
    "\n",
    "- `file`: Name eines `file`-Objekts, das im binären Lesemodus geöffnet ist (`\"rb\"`)"
   ]
  },
  {
   "cell_type": "code",
   "execution_count": null,
   "metadata": {
    "slideshow": {
     "slide_type": "fragment"
    }
   },
   "outputs": [],
   "source": [
    "# TODO Beispiel zum Laden"
   ]
  },
  {
   "cell_type": "markdown",
   "metadata": {
    "slideshow": {
     "slide_type": "subslide"
    }
   },
   "source": [
    "#### 5.2.2 Wie funktioniert `pickle`? "
   ]
  },
  {
   "cell_type": "markdown",
   "metadata": {
    "slideshow": {
     "slide_type": "fragment"
    }
   },
   "source": [
    "Beim Speichern wird aud dem übergebenen Objekt ein `bytestring` erzeugt, worin die Struktur des Objekts codiert ist. Insbesondere ist zu jedem elementaren Wert auch der Datentyp gespeichert. \n",
    "\n",
    "Die Erzeugung einer Zeichenkette zur Repräsentation einer Datenstruktur nenn man auch *Serialisierung*. "
   ]
  },
  {
   "cell_type": "code",
   "execution_count": null,
   "metadata": {
    "slideshow": {
     "slide_type": "fragment"
    }
   },
   "outputs": [],
   "source": [
    "# Rückgabewert der dumps()-Funktion\n",
    "import pickle\n",
    "s = pickle.dumps(telefonbuch)\n",
    "s"
   ]
  },
  {
   "cell_type": "markdown",
   "metadata": {
    "slideshow": {
     "slide_type": "fragment"
    }
   },
   "source": [
    "Beim Laden wird aus dem `bytestring` das Objekt wiedergewonnen, unter der Voraussetzung, dass der verwendete `bytestring` eine korrekte Repräsentation im Sinne des `pickle`-Protokolls darstellt"
   ]
  },
  {
   "cell_type": "markdown",
   "metadata": {
    "slideshow": {
     "slide_type": "fragment"
    }
   },
   "source": [
    "**Warnung**: \n",
    "> The `pickle` module **is not secure**. Only unpickle data you trust."
   ]
  },
  {
   "cell_type": "markdown",
   "metadata": {
    "slideshow": {
     "slide_type": "slide"
    }
   },
   "source": [
    "### 5.3 CSV-Dateien"
   ]
  },
  {
   "cell_type": "markdown",
   "metadata": {
    "slideshow": {
     "slide_type": "fragment"
    }
   },
   "source": [
    "CSV steht für *comma separated values* und ist ein Datenformat, das uns besonders aus Excel bekannt ist. Es eignet sich daher für die Darstellung von Tabellen, deren Spalten durch Trennzeichen (i.d.R Kommata) voneinander getrennt sind.\n",
    "\n",
    "Das Pythonmodul `csv` mit der Klasse `csv.reader` erlaubt es, Dateien im CSV-Format zu zerlegen"
   ]
  },
  {
   "cell_type": "code",
   "execution_count": null,
   "metadata": {
    "slideshow": {
     "slide_type": "fragment"
    }
   },
   "outputs": [],
   "source": [
    "# TODO Datei mit CSV-Reader lesen"
   ]
  },
  {
   "cell_type": "code",
   "execution_count": null,
   "metadata": {
    "slideshow": {
     "slide_type": "fragment"
    }
   },
   "outputs": [],
   "source": [
    "# TODO Spaltenüberschriften herauslesen"
   ]
  }
 ],
 "metadata": {
  "kernelspec": {
   "display_name": "Python 3 (ipykernel)",
   "language": "python",
   "name": "python3"
  },
  "language_info": {
   "codemirror_mode": {
    "name": "ipython",
    "version": 3
   },
   "file_extension": ".py",
   "mimetype": "text/x-python",
   "name": "python",
   "nbconvert_exporter": "python",
   "pygments_lexer": "ipython3",
   "version": "3.11.7"
  }
 },
 "nbformat": 4,
 "nbformat_minor": 2
}
