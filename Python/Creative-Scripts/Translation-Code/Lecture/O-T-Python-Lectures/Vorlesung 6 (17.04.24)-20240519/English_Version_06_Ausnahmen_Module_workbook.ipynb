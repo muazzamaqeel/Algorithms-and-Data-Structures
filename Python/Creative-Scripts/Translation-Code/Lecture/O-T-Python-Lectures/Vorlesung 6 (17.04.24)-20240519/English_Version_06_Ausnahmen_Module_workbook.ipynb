{
 "cells": [
  {
   "cell_type": "markdown",
   "metadata": {
    "slideshow": {
     "slide_type": "slide"
    }
   },
   "source": [
    "## 6. Exception handling (*exception handling*)"
   ]
  },
  {
   "cell_type": "markdown",
   "metadata": {
    "slideshow": {
     "slide_type": "fragment"
    }
   },
   "source": [
    "The term \"exception\" (*exception*) often means the state of a program that leads to an error and thus a program crash.\n",
    "\n",
    "Exception handling (*exception handling*) is a procedure for forwarding error conditions to other program levels.\n",
    "\n",
    "Program crashes are catastrophes that can even have destructive consequences!"
   ]
  },
  {
   "cell_type": "code",
   "execution_count": null,
   "metadata": {
    "slideshow": {
     "slide_type": "fragment"
    }
   },
   "outputs": [],
   "source": [
    "# TODO example 1\n"
   ]
  },
  {
   "cell_type": "code",
   "execution_count": null,
   "metadata": {
    "slideshow": {
     "slide_type": "fragment"
    }
   },
   "outputs": [],
   "source": [
    "# TODO example 2\n"
   ]
  },
  {
   "cell_type": "code",
   "execution_count": null,
   "metadata": {
    "slideshow": {
     "slide_type": "fragment"
    }
   },
   "outputs": [],
   "source": [
    "# TODO example 3\n"
   ]
  },
  {
   "cell_type": "markdown",
   "metadata": {
    "slideshow": {
     "slide_type": "subslide"
    }
   },
   "source": [
    "Below is the hierarchy of the most common and general exceptions (see also the [documentation](https://docs.python.org/3/library/exceptions.html#exception-hierarchy)):\n",
    "\n",
    "- `Exception` (general error message)\n",
    "    - `StopIteration` (is triggered by *iterable* objects (*Iterables*), e.g. to tell `for` loops that they have finished running)\n",
    "    - `ArithmeticError` (error during calculations)\n",
    "        - `FloatingPointError` (error specific to floating point calculations)\n",
    "        - `OverflowError` (result too large for provided memory)\n",
    "        - `ZeroDivisionError` (division by zero)\n",
    "    - `EOFError` (read access after end of file*)\n",
    "    - `ImportError` (error when editing an `import` line)\n",
    "        - `ModuleNotFoundError` (Specified module was not found)\n",
    "    - `LookupError` (Error accessing a data structure or object)\n",
    "        - `IndexError` (Invalid index)\n",
    "        - `KeyError` (Invalid key in `dictionary`)\n",
    "    - `NameError` (symbol with this name does not exist)\n",
    "    - `OSError` (error when using operating system functions)\n",
    "        - `FileExistsError` (file already exists)\n",
    "        - `FileNotFoundError` (file cannot be found)\n",
    "    - `RuntimeError`\n",
    "        - `NotImplementedError` (method/variant of a method/class was not implemented)\n",
    "        - `RecursionError`\n",
    "    - `SyntaxError`\n",
    "        - `IndentationError`\n",
    "    - `TypeError` (cannot process data type)\n",
    "    - `ValueError` (Illegal value when calling a function)"
   ]
  },
  {
   "cell_type": "markdown",
   "metadata": {
    "slideshow": {
     "slide_type": "subslide"
    }
   },
   "source": [
    "### 6.1 Catching exceptions with `try`"
   ]
  },
  {
   "cell_type": "markdown",
   "metadata": {
    "slideshow": {
     "slide_type": "fragment"
    }
   },
   "source": [
    "#### 6.1.1 `try-except` blocks"
   ]
  },
  {
   "cell_type": "markdown",
   "metadata": {
    "slideshow": {
     "slide_type": "fragment"
    }
   },
   "source": [
    "Syntax in Python:\n",
    "```python\n",
    "try:\n",
    "    Code that could throw an exception\n",
    "except [ExceptionClass [as variable]]:\n",
    "    Error handling code\n",
    "```"
   ]
  },
  {
   "cell_type": "markdown",
   "metadata": {
    "slideshow": {
     "slide_type": "fragment"
    }
   },
   "source": [
    "`ExceptionClass` means the “type of exception”, i.e. which error class is displayed when the program is aborted. The specification is optional, as is the variable name `variable`, with which you can access the data of the `ExceptionClass` instance."
   ]
  },
  {
   "cell_type": "code",
   "execution_count": null,
   "metadata": {
    "slideshow": {
     "slide_type": "fragment"
    }
   },
   "outputs": [],
   "source": [
    "# TODO Example 1 try-except block\n"
   ]
  },
  {
   "cell_type": "code",
   "execution_count": null,
   "metadata": {
    "slideshow": {
     "slide_type": "fragment"
    }
   },
   "outputs": [],
   "source": [
    "# TODO Example 2 try-except block\n"
   ]
  },
  {
   "cell_type": "markdown",
   "metadata": {
    "slideshow": {
     "slide_type": "fragment"
    }
   },
   "source": [
    "How the `try` statement works:\n",
    "\n",
    "- `try` statement block is executed (or at least attempted)\n",
    "- If **no** runtime error occurs, the `except` clause is skipped\n",
    "- If an error occurs, the `try` statement block is aborted immediately (and the rest is skipped), and the `except` statement block is executed instead"
   ]
  },
  {
   "cell_type": "markdown",
   "metadata": {
    "slideshow": {
     "slide_type": "fragment"
    }
   },
   "source": [
    "A `try` statement must always have **at least** one `except` (or the `finally`) clause. If nothing should happen in the event of an error, write the statement “pass” in the “except” block."
   ]
  },
  {
   "cell_type": "markdown",
   "metadata": {
    "slideshow": {
     "slide_type": "subslide"
    }
   },
   "source": [
    "#### 6.1.2 Multipart `except` blocks"
   ]
  },
  {
   "cell_type": "markdown",
   "metadata": {
    "slideshow": {
     "slide_type": "fragment"
    }
   },
   "source": [
    "After `except` there can also be a `tuple` of error classes, each of which is then handled with the same code. The syntax is e.g.:\n",
    "\n",
    "```python\n",
    "except(ZeroDivisionError, ValueError) as e:\n",
    "```"
   ]
  },
  {
   "cell_type": "markdown",
   "metadata": {
    "slideshow": {
     "slide_type": "fragment"
    }
   },
   "source": [
    "If different code is to be executed for different error classes, several `except` blocks can be set one after the other. However, only the **first `except` block** that matches the triggered exception is processed."
   ]
  },
  {
   "cell_type": "code",
   "execution_count": null,
   "metadata": {
    "slideshow": {
     "slide_type": "fragment"
    }
   },
   "outputs": [],
   "source": [
    "# TODO multiple except blocks\n"
   ]
  },
  {
   "cell_type": "markdown",
   "metadata": {
    "slideshow": {
     "slide_type": "subslide"
    }
   },
   "source": [
    "#### 6.1.3 optional `else` clause"
   ]
  },
  {
   "cell_type": "markdown",
   "metadata": {
    "slideshow": {
     "slide_type": "fragment"
    }
   },
   "source": [
    "If you only want to execute code if **no** error occurred in the `try` block, this can be achieved with an additional `else` block. This is syntactically located after the `except` blocks and is only executed after the `try` block has been processed without errors."
   ]
  },
  {
   "cell_type": "code",
   "execution_count": null,
   "metadata": {
    "slideshow": {
     "slide_type": "fragment"
    }
   },
   "outputs": [],
   "source": [
    "# TODO else block for try statement\n",
    "with open(\"neu.txt\", \"w\") as neu:\n",
    "    neu.write(\"eins\\nzwei\\ndrei\")\n",
    "\n",
    "filename = input(\"Dateiname: \")\n",
    "\n"
   ]
  },
  {
   "cell_type": "markdown",
   "metadata": {
    "slideshow": {
     "slide_type": "subslide"
    }
   },
   "source": [
    "#### 6.1.4 optional `finally` clause"
   ]
  },
  {
   "cell_type": "markdown",
   "metadata": {
    "slideshow": {
     "slide_type": "fragment"
    }
   },
   "source": [
    "The `finally` keyword introduces another block of statements that will *in any case* be executed, even if a runtime error previously occurred. This control structure is used, for example, to clean up after program terminations, such as closing and saving files, disconnecting network connections, etc.\n",
    "\n",
    "Syntax:\n",
    "```python\n",
    "try:\n",
    "    instruction block1\n",
    "finally:\n",
    "    instruction block2\n",
    "```"
   ]
  },
  {
   "cell_type": "markdown",
   "metadata": {
    "slideshow": {
     "slide_type": "fragment"
    }
   },
   "source": [
    "- `try` statement block is executed (or at least attempted)\n",
    "- if an error occurs, the system remembers the exception and first executes the `finally` statement (this is also executed if *no* error occurs)\n",
    "- In the event of an error, the program is aborted and the exception is reported"
   ]
  },
  {
   "cell_type": "code",
   "execution_count": null,
   "metadata": {
    "slideshow": {
     "slide_type": "fragment"
    }
   },
   "outputs": [],
   "source": [
    "# TODO example\n"
   ]
  },
  {
   "cell_type": "markdown",
   "metadata": {
    "slideshow": {
     "slide_type": "subslide"
    }
   },
   "source": [
    "### 6.2 Generate exceptions"
   ]
  },
  {
   "cell_type": "markdown",
   "metadata": {
    "slideshow": {
     "slide_type": "fragment"
    }
   },
   "source": [
    "#### 6.2.1 The `raise` clause"
   ]
  },
  {
   "cell_type": "markdown",
   "metadata": {
    "slideshow": {
     "slide_type": "fragment"
    }
   },
   "source": [
    "With a `raise` statement you can trigger targeted exception events. The syntax is:\n",
    "\n",
    "```python\n",
    "raise ExceptionClass (associated value)\n",
    "```\n",
    "\n",
    "where `associated value` is a string that explains the error in more detail and should appear in the error message."
   ]
  },
  {
   "cell_type": "code",
   "execution_count": null,
   "metadata": {
    "slideshow": {
     "slide_type": "fragment"
    }
   },
   "outputs": [],
   "source": [
    "# TODO raise statement\n"
   ]
  },
  {
   "cell_type": "markdown",
   "metadata": {
    "slideshow": {
     "slide_type": "fragment"
    }
   },
   "source": [
    "Exceptions can be “re-raised” after processing. For example, if you want to output a detailed error description but still trigger a program termination, you can do this by executing `raise` again in the `except` block (without further arguments):"
   ]
  },
  {
   "cell_type": "code",
   "execution_count": null,
   "metadata": {
    "slideshow": {
     "slide_type": "fragment"
    }
   },
   "outputs": [],
   "source": [
    "# Detailed error description\n",
    "try:\n",
    "    x = 7\n",
    "    y = 0\n",
    "    print(x/y)\n",
    "except ZeroDivisionError as e:\n",
    "    print(\"Division durch 0 aufgetreten\")\n",
    "    print(\"Fehlerbeschreibung: \", e)\n",
    "    print(\"x = \", x)\n",
    "    print(\"y = \", y)\n",
    "    raise #ZeroDivisionError\n",
    "\n",
    "print(\"Wird nie ausgeführt\")"
   ]
  },
  {
   "cell_type": "markdown",
   "metadata": {
    "slideshow": {
     "slide_type": "fragment"
    }
   },
   "source": [
    "Such a `raise` statement leaves the entire `try-except` block, i.e. subsequent, matching `except` blocks are also ignored. An outer `try` block, however, can still catch the \"re-raised\" statement:"
   ]
  },
  {
   "cell_type": "code",
   "execution_count": null,
   "metadata": {
    "slideshow": {
     "slide_type": "fragment"
    }
   },
   "outputs": [],
   "source": [
    "# Catch re-raise\n",
    "try: \n",
    "    try:\n",
    "        print(1/0)\n",
    "    except ArithmeticError as ae:\n",
    "        print(\"Arithmetic Unit Error\")\n",
    "        raise       # verlässt die gesamte innere Struktur\n",
    "    except ZeroDivisionError as zde:\n",
    "        print(\"Innerer Block wird übersprungen\")\n",
    "except ZeroDivisionError as zde:\n",
    "    print(\"Äußerer Block wird behandelt\")"
   ]
  },
  {
   "cell_type": "markdown",
   "metadata": {
    "slideshow": {
     "slide_type": "subslide"
    }
   },
   "source": [
    "#### 6.2.2 Own exceptions"
   ]
  },
  {
   "cell_type": "markdown",
   "metadata": {
    "slideshow": {
     "slide_type": "fragment"
    }
   },
   "source": [
    "You can also define your own exception classes. (However, classes will be covered later)"
   ]
  },
  {
   "cell_type": "code",
   "execution_count": null,
   "metadata": {
    "slideshow": {
     "slide_type": "fragment"
    }
   },
   "outputs": [],
   "source": [
    "# TODO Own exception class\n"
   ]
  },
  {
   "cell_type": "markdown",
   "metadata": {
    "slideshow": {
     "slide_type": "subslide"
    }
   },
   "source": [
    "#### 6.2.3 Testing pre- and post-conditions"
   ]
  },
  {
   "cell_type": "markdown",
   "metadata": {
    "slideshow": {
     "slide_type": "fragment"
    }
   },
   "source": [
    "Another technique to reduce the risk of errors in Python programs is called *testing pre- and post-conditions*. A function usually only works correctly if the arguments passed meet certain conditions. The conjunction (*and* connection) is called *precondition*.\n",
    "\n",
    "Accordingly, there are also *postconditions*. They define what the function should do. If the postcondition is also met when the precondition is met, the function works correctly."
   ]
  },
  {
   "cell_type": "markdown",
   "metadata": {
    "slideshow": {
     "slide_type": "fragment"
    }
   },
   "source": [
    "In Python, pre- and post-conditions can be tested using the `assert` statement. This ensures that a certain condition is met.\n",
    "\n",
    "```python\n",
    "assert condition [, error message]\n",
    "```\n",
    "\n",
    "This roughly corresponds to the following syntax:\n",
    "\n",
    "```python\n",
    "if not condition:\n",
    "    raise AssertionError(error message)\n",
    "```\n",
    "\n",
    "This means that the 'assert' statement is essentially a conditional 'raise' statement. It should not be used to catch bugs like `x / 0`, because Python detects them itself, but to catch user-defined and semantic restrictions."
   ]
  },
  {
   "cell_type": "code",
   "execution_count": null,
   "metadata": {
    "slideshow": {
     "slide_type": "fragment"
    }
   },
   "outputs": [],
   "source": [
    "# TODO testing for pre- and post-conditions using fiblist()\n",
    "# returns a list of the first n Fibonacci numbers\n",
    "def fiblist(n):\n",
    "# Check precondition\n",
    "# ALL\n",
    "    fib = [0, 1]\n",
    "    for i in range(1, n):\n",
    "        fib += [fib[-1] + fib[-2]]\n",
    "# Check postcondition\n",
    "# ALL\n",
    "    return fib\n",
    "\n",
    "try:\n",
    "    print(fiblist(4))\n",
    "except Exception as e:\n",
    "    print(type(e),e)"
   ]
  },
  {
   "cell_type": "markdown",
   "metadata": {
    "slideshow": {
     "slide_type": "slide"
    }
   },
   "source": [
    "### 6.3 Error information"
   ]
  },
  {
   "cell_type": "markdown",
   "metadata": {
    "slideshow": {
     "slide_type": "fragment"
    }
   },
   "source": [
    "The exact error information can be displayed using the `exc_info()` method of the `sys` module:"
   ]
  },
  {
   "cell_type": "code",
   "execution_count": null,
   "metadata": {
    "slideshow": {
     "slide_type": "fragment"
    }
   },
   "outputs": [],
   "source": [
    "# Display error information\n",
    "import sys\n",
    "\n",
    "try: \n",
    "    i = int(\"Hello\")\n",
    "except Exception:\n",
    "    (type, value, traceback) = sys.exc_info()\n",
    "    print(\"Unexpected Error:\")\n",
    "    print(\"Type: \", type)\n",
    "    print(\"Value: \", value)\n",
    "    print(\"Traceback: \", traceback)"
   ]
  },
  {
   "cell_type": "markdown",
   "metadata": {
    "slideshow": {
     "slide_type": "slide"
    }
   },
   "source": [
    "## 7. Modularization"
   ]
  },
  {
   "cell_type": "markdown",
   "metadata": {
    "slideshow": {
     "slide_type": "fragment"
    }
   },
   "source": [
    "Modular programming is a software design technique. Modular design means breaking down a complex system into smaller, independent units and components. These components are referred to as *modules.* A module can be created and tested independently of the overall system, and in most cases can also be used in other systems."
   ]
  },
  {
   "cell_type": "markdown",
   "metadata": {
    "slideshow": {
     "slide_type": "fragment"
    }
   },
   "source": [
    "There are two types of modules in Python:\n",
    "\n",
    "- Libraries (*Libraries*): Provide data types or functions for all Python programs, these include:\n",
    "    - the extensive standard library\n",
    "    - own modules\n",
    "    - Third party modules\n",
    "- local modules: only available for one program"
   ]
  },
  {
   "cell_type": "markdown",
   "metadata": {
    "slideshow": {
     "slide_type": "subslide"
    }
   },
   "source": [
    "### 7.1 Module types"
   ]
  },
  {
   "cell_type": "markdown",
   "metadata": {
    "slideshow": {
     "slide_type": "fragment"
    }
   },
   "source": [
    "When including a module, Python looks for all files that are importable for Python (\\rarr; `sys.path`). The following file types can be imported:\n",
    "- Modules written in Python: `.py` (normal source code), `.pyc` (bytecode), `.pyo` (optimized bytecode)\n",
    "- dynamically loaded C modules: `.pyd`, `.dll` (DLLs on Windows) and `.so` (dynamic libraries on Linux/Unix systems).\n",
    "\n",
    "*Packages*, which consist of a folder and contain importable files, can also be integrated. These packages can generally be addressed in the form `import folder name`."
   ]
  },
  {
   "cell_type": "markdown",
   "metadata": {
    "slideshow": {
     "slide_type": "subslide"
    }
   },
   "source": [
    "### 7.2 Integrating modules"
   ]
  },
  {
   "cell_type": "markdown",
   "metadata": {
    "slideshow": {
     "slide_type": "fragment"
    }
   },
   "source": [
    "Including modules plays an important role in Python. There are several options for importing modules, and you can specify quite precisely what exactly you want to import."
   ]
  },
  {
   "cell_type": "markdown",
   "metadata": {
    "slideshow": {
     "slide_type": "fragment"
    }
   },
   "source": [
    "- `import modul`: The specified module is completely included in the current namespace and can be addressed under the full name (*fully qualified*) “modul”."
   ]
  },
  {
   "cell_type": "code",
   "execution_count": null,
   "metadata": {
    "slideshow": {
     "slide_type": "fragment"
    }
   },
   "outputs": [],
   "source": [
    "# TODO Example 1\n",
    "\n"
   ]
  },
  {
   "cell_type": "markdown",
   "metadata": {
    "slideshow": {
     "slide_type": "fragment"
    }
   },
   "source": [
    "- `import module as newname`: The specified module is completely included in the current namespace. However, the module can no longer be addressed under the name “module”, but rather as “new name”. So this renames the module for internal use. This is particularly suitable if you want to save yourself some paperwork."
   ]
  },
  {
   "cell_type": "code",
   "execution_count": null,
   "metadata": {
    "slideshow": {
     "slide_type": "fragment"
    }
   },
   "outputs": [],
   "source": [
    "# TODO example 2\n"
   ]
  },
  {
   "cell_type": "markdown",
   "metadata": {
    "slideshow": {
     "slide_type": "fragment"
    }
   },
   "source": [
    "- `from module import name`: With this call, the part “name” is imported from the module “module”. After that, only the imported item can be addressed as “name”."
   ]
  },
  {
   "cell_type": "code",
   "execution_count": null,
   "metadata": {
    "slideshow": {
     "slide_type": "fragment"
    }
   },
   "outputs": [],
   "source": [
    "# TODO example 3\n"
   ]
  },
  {
   "cell_type": "markdown",
   "metadata": {
    "slideshow": {
     "slide_type": "fragment"
    }
   },
   "source": [
    "- `from module import name as new name`: With this call, the part “name” under “new name” is imported from the module “module”. It can then be addressed as “new name”."
   ]
  },
  {
   "cell_type": "code",
   "execution_count": null,
   "metadata": {
    "slideshow": {
     "slide_type": "fragment"
    }
   },
   "outputs": [],
   "source": [
    "# TODO example 4\n"
   ]
  },
  {
   "cell_type": "markdown",
   "metadata": {
    "slideshow": {
     "slide_type": "fragment"
    }
   },
   "source": [
    "- `from modul import *`: The last option is a star import. The star serves as a placeholder and signals that the module in question should be imported completely. At first glance this is convenient because you no longer have to write the module name in front of the functions etc. The disadvantage is that existing objects (functions, classes, etc.) can be overwritten unnoticed."
   ]
  },
  {
   "cell_type": "code",
   "execution_count": null,
   "metadata": {
    "slideshow": {
     "slide_type": "fragment"
    }
   },
   "outputs": [],
   "source": [
    "# TODO Example 5\n"
   ]
  },
  {
   "cell_type": "markdown",
   "metadata": {
    "slideshow": {
     "slide_type": "subslide"
    }
   },
   "source": [
    "### 7.3 Contents of a module"
   ]
  },
  {
   "cell_type": "markdown",
   "metadata": {
    "slideshow": {
     "slide_type": "fragment"
    }
   },
   "source": [
    "With the built-in function `dir()` you can display the names defined in a module:"
   ]
  },
  {
   "cell_type": "code",
   "execution_count": null,
   "metadata": {
    "slideshow": {
     "slide_type": "fragment"
    }
   },
   "outputs": [],
   "source": [
    "import math\n",
    "dir(math)"
   ]
  },
  {
   "cell_type": "markdown",
   "metadata": {
    "slideshow": {
     "slide_type": "fragment"
    }
   },
   "source": [
    "Without arguments, `dir()` returns the names loaded into the namespace. Depending on the situation, the output of this method may vary."
   ]
  },
  {
   "cell_type": "code",
   "execution_count": null,
   "metadata": {
    "slideshow": {
     "slide_type": "fragment"
    }
   },
   "outputs": [],
   "source": [
    "# restart the kernel first\n",
    "#import math\n",
    "dir()"
   ]
  },
  {
   "cell_type": "markdown",
   "metadata": {
    "slideshow": {
     "slide_type": "subslide"
    }
   },
   "source": [
    "### 7.4 Custom modules"
   ]
  },
  {
   "cell_type": "markdown",
   "metadata": {
    "slideshow": {
     "slide_type": "fragment"
    }
   },
   "source": [
    "In Python it is extremely easy to write your own modules. Many people do it without knowing it, because every Python program is automatically a module."
   ]
  },
  {
   "cell_type": "markdown",
   "metadata": {
    "slideshow": {
     "slide_type": "fragment"
    }
   },
   "source": [
    "In dem Python-File `fibonacci.py` befinden sich folgende Funktionen:\n",
    "\n",
    "```python\n",
    "def fib(n):\n",
    "    a, b = 0, 1\n",
    "    for i in range(n):\n",
    "        a, b = b, a + b\n",
    "    return a\n",
    "    \n",
    "def fiblist(n):\n",
    "    fib = [0, 1]\n",
    "    for i in range(1, n):\n",
    "        fib += [fib[-1] + fib[-2]]\n",
    "    return fib\n",
    "```"
   ]
  },
  {
   "cell_type": "code",
   "execution_count": null,
   "metadata": {
    "slideshow": {
     "slide_type": "fragment"
    }
   },
   "outputs": [],
   "source": [
    "# Import TODO's own module fibonacci.py\n"
   ]
  },
  {
   "cell_type": "code",
   "execution_count": null,
   "metadata": {
    "slideshow": {
     "slide_type": "fragment"
    }
   },
   "outputs": [],
   "source": [
    "# Code to reload modules\n",
    "import importlib as imp\n",
    "imp.reload(fibonacci)"
   ]
  },
  {
   "cell_type": "markdown",
   "metadata": {
    "slideshow": {
     "slide_type": "fragment"
    }
   },
   "source": [
    "#### Documentation of your own modules"
   ]
  },
  {
   "cell_type": "code",
   "execution_count": null,
   "metadata": {
    "slideshow": {
     "slide_type": "fragment"
    }
   },
   "outputs": [],
   "source": [
    "# Calling the pydoc module\n",
    "help(fibonacci)"
   ]
  },
  {
   "cell_type": "markdown",
   "metadata": {
    "slideshow": {
     "slide_type": "subslide"
    }
   },
   "source": [
    "### 7.5 Pakete (*Packages*)"
   ]
  },
  {
   "cell_type": "markdown",
   "metadata": {
    "slideshow": {
     "slide_type": "fragment"
    }
   },
   "source": [
    "In order to continue to make programs that consist of several modules comprehensible, Python provides the package concept. This allows you to “put together” any number of modules into a package. The mechanism required for this is very simple:"
   ]
  },
  {
   "cell_type": "markdown",
   "metadata": {
    "slideshow": {
     "slide_type": "fragment"
    }
   },
   "source": [
    "- First you create a subfolder in a directory in which the Python interpreter also expects or searches for modules.\n",
    "\n",
    "- A file with the name `__init__.py` must now be created in the created folder. This file can be empty or contain initialization code that is executed once when the package is included."
   ]
  },
  {
   "cell_type": "code",
   "execution_count": null,
   "metadata": {},
   "outputs": [],
   "source": [
    "# Create new subfolder\n",
    "import os\n",
    "try:\n",
    "    os.mkdir(\"simple_package\")\n",
    "except:\n",
    "    print(\"Bereits vorhanden\")\n"
   ]
  },
  {
   "cell_type": "code",
   "execution_count": null,
   "metadata": {},
   "outputs": [],
   "source": [
    "# Generate the init.py file\n",
    "try:\n",
    "    with open(\"simple_package/__init__.py\", \"w\") as d:\n",
    "        d.write(\"from simple_package import a, b\")\n",
    "#pass\n",
    "\n",
    "except:\n",
    "    print(\"Konnte nicht erzeugt werden\")"
   ]
  },
  {
   "cell_type": "code",
   "execution_count": null,
   "metadata": {},
   "outputs": [],
   "source": [
    "# Create two simple modules\n",
    "try:\n",
    "    with open(\"simple_package/a.py\", \"w\") as a:\n",
    "        a.write(\"def f1():\\n\\t\")\n",
    "        a.write(\"print('Hallo, hier ist f1 von Modul a ')\")\n",
    "except:\n",
    "    print(\"Modul a.py konnte nicht angelegt werden\")\n",
    "\n",
    "try:\n",
    "    with open(\"simple_package/b.py\", \"w\") as b:\n",
    "        b.write(\"def foo():\\n\\t\")\n",
    "        b.write(\"print('Hallo, hier ist foo von Modul b ')\")\n",
    "except:\n",
    "    print(\"Modul b.py konnte nicht angelegt werden\")"
   ]
  },
  {
   "cell_type": "code",
   "execution_count": null,
   "metadata": {
    "slideshow": {
     "slide_type": "fragment"
    }
   },
   "outputs": [],
   "source": [
    "# TODO What doesn't work\n",
    ")"
   ]
  },
  {
   "cell_type": "code",
   "execution_count": null,
   "metadata": {
    "slideshow": {
     "slide_type": "fragment"
    }
   },
   "outputs": [],
   "source": [
    "# Call TODO modules from package\n"
   ]
  },
  {
   "cell_type": "code",
   "execution_count": null,
   "metadata": {
    "slideshow": {
     "slide_type": "fragment"
    }
   },
   "outputs": [],
   "source": [
    "# TODO after the __init__.py has been adjusted\n",
    "imp.reload(simple_package)\n"
   ]
  }
 ],
 "metadata": {
  "celltoolbar": "Slideshow",
  "kernelspec": {
   "display_name": "Python 3 (ipykernel)",
   "language": "python",
   "name": "python3"
  },
  "language_info": {
   "codemirror_mode": {
    "name": "ipython",
    "version": 3
   },
   "file_extension": ".py",
   "mimetype": "text/x-python",
   "name": "python",
   "nbconvert_exporter": "python",
   "pygments_lexer": "ipython3",
   "version": "3.11.7"
  },
  "varInspector": {
   "cols": {
    "lenName": 16,
    "lenType": 16,
    "lenVar": 40
   },
   "kernels_config": {
    "python": {
     "delete_cmd_postfix": "",
     "delete_cmd_prefix": "del ",
     "library": "var_list.py",
     "varRefreshCmd": "print(var_dic_list())"
    },
    "r": {
     "delete_cmd_postfix": ") ",
     "delete_cmd_prefix": "rm(",
     "library": "var_list.r",
     "varRefreshCmd": "cat(var_dic_list()) "
    }
   },
   "types_to_exclude": [
    "module",
    "function",
    "builtin_function_or_method",
    "instance",
    "_Feature"
   ],
   "window_display": false
  }
 },
 "nbformat": 4,
 "nbformat_minor": 2
}
