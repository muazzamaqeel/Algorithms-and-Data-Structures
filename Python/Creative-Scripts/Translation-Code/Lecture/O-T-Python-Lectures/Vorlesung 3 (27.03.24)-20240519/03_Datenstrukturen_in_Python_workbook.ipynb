{
 "cells": [
  {
   "cell_type": "markdown",
   "metadata": {
    "slideshow": {
     "slide_type": "slide"
    }
   },
   "source": [
    "## 4. Datenstrukturen in Python"
   ]
  },
  {
   "cell_type": "markdown",
   "metadata": {
    "slideshow": {
     "slide_type": "fragment"
    }
   },
   "source": [
    "Unterschied zwischen *Datenstrukturen* und *einfachen Datentypen*:\n",
    "- Datenstrukturen sind zusammengesetzt aus Objekten *einfachen Datentyps* und damit wesentlich komplexer aufgebaut\n",
    "- Sind die Objekte in einer Datenstruktur fortlaufend angeordnet, spricht man von *sequentiellen Datentypen*, z.B. String, Listen, Tupel, etc.\n",
    "-  Datenstrukturen besitzen neben ihren *Objekten* geeignete *Operatoren*, um so effizient wie möglich auf diese zugreifen zu können\n",
    "- Es gibt sowohl veränderliche (*mutable*) als auch unveränderliche (*immutable*) Datenstrukturen, die einfachen Datentypen sind alle unveränderbar (*immutable*)"
   ]
  },
  {
   "cell_type": "markdown",
   "metadata": {
    "slideshow": {
     "slide_type": "fragment"
    }
   },
   "source": [
    "Beispiele von Datenstruktur-Operatoren anhand von Strings:"
   ]
  },
  {
   "cell_type": "code",
   "execution_count": null,
   "metadata": {
    "slideshow": {
     "slide_type": "fragment"
    }
   },
   "outputs": [],
   "source": [
    "# Beispiel\n",
    "wort = \"Koeffizenten\"\n",
    "print(wort[0])              # Zugriff auf Elemente über []-Klammer\n",
    "print(\"ente\" in wort)       # Anwendung des Enthalten-Operators\n",
    "print(\"Ambi\" + wort[7:11])  # Konkatenation nur bei gleichartigen Datenstrukturen und Slicing\n",
    "print(3*\"bla\")              # Vervielfältigung\n",
    "print(len(wort))            # Jede Datenstruktur hat eine Länge, die ermittelt werden kann"
   ]
  },
  {
   "cell_type": "markdown",
   "metadata": {
    "slideshow": {
     "slide_type": "subslide"
    }
   },
   "source": [
    "##### Anmerkung zur String-Formatierung\n",
    "\n",
    "Der neuste/aktuellste Weg, einen String zu formatieren, ist via `f-String`. `f` steht für *formatted*. Vorteile gegenüber alten Formatierungsmethoden (z.B. `format()` oder `%`-Operator):\n",
    "- prägnanter und lesbarer\n",
    "- schneller\n"
   ]
  },
  {
   "cell_type": "code",
   "execution_count": null,
   "metadata": {
    "slideshow": {
     "slide_type": "fragment"
    }
   },
   "outputs": [],
   "source": [
    "# Beispiele zum f-String\n",
    "goldenerSchnitt = 1597/987      # Verhältnis einer Fibonaccizahl zu ihrem Vorgänger\n",
    "print(f\"Mit dem Verhältnis zweier Fibonaccizahlen kann man den goldenen Schnitt annähern. Dieser beträgt {goldenerSchnitt}\")\n",
    "print(f\"Man kann aber auch schreiben, dass {goldenerSchnitt=}\")\n",
    "print(f\"Schöner wäre: {goldenerSchnitt = }\")\n",
    "print(f\"Wenn man nur die ersten vier Nachkommastellen braucht: {goldenerSchnitt = :.4f}\")\n",
    "print(f\"In Exponentialschreibweise wäre es: {goldenerSchnitt = :.4e}\")"
   ]
  },
  {
   "cell_type": "markdown",
   "metadata": {
    "slideshow": {
     "slide_type": "fragment"
    }
   },
   "source": [
    "Es gibt noch viele weitere Formatierungsmöglichkeiten mithilfe der [Format Specification Mini-Language](https://docs.python.org/3.4/library/string.html#format-specification-mini-language)\n",
    "\n",
    "Außerdem gibt es noch eigene [String-Methoden](https://docs.python.org/3/library/stdtypes.html#string-methods), die für diese Vorlesung nicht weiter von Bedeutung sind."
   ]
  },
  {
   "cell_type": "markdown",
   "metadata": {
    "slideshow": {
     "slide_type": "slide"
    }
   },
   "source": [
    "### 4.1 Listen"
   ]
  },
  {
   "cell_type": "markdown",
   "metadata": {
    "slideshow": {
     "slide_type": "fragment"
    }
   },
   "source": [
    "Die Datenstruktur `list` ist eine geordnete Zusammenfassung **verschiedener** Objekte. Sie kann während der Laufzeit geändert werden und ist daher *mutable*. Der Python-Interpreter erkennt eine Listendefinition an den eckigen Klammern `[]`. Die Zählung beginnt immer beim Index $0$. "
   ]
  },
  {
   "cell_type": "code",
   "execution_count": null,
   "metadata": {
    "slideshow": {
     "slide_type": "fragment"
    }
   },
   "outputs": [],
   "source": [
    "# TODO Listendeklaration und Standardoperatoren\n",
    "x = [3, 99, \"Ein Text\"]     # kann verschiedene Datentypen enthalten\n",
    "y = [0b110, 8.5, x, \"Wort\"] # kann auch Listen in Listen geben\n"
   ]
  },
  {
   "cell_type": "markdown",
   "metadata": {
    "slideshow": {
     "slide_type": "subslide"
    }
   },
   "source": [
    "#### 4.1.1 Operationen auf Listen"
   ]
  },
  {
   "cell_type": "markdown",
   "metadata": {
    "slideshow": {
     "slide_type": "fragment"
    }
   },
   "source": [
    "\n",
    "|  Methode |  Beschreibung |   \n",
    "|:-------|:-------|\n",
    "|  `list.append(x)` | Die Liste list wird um das objekt x erweitert  |\n",
    "| `list.extend(L)`   | Die Liste list wird um die Elemente der Datenstruktur L erweitert   | \n",
    "| `list.insert(i, x)`  | Objekt x wird and der Stelle i in die Liste list eingefügt   |\n",
    "| `list.remove(x)`  | Löscht das *erste* Element mit dem Wert x aus der Liste   |\n",
    "|  `list.pop()` | Das letzte Element wird aus der Liste gelöscht **und** zurückgegeben (Stapelverarbeitung)   |\n",
    "|  `list.pop(i)` | Das i-te Element wird aus der Liste gelöscht **und** zurückgegeben   |\n",
    "| `list.index(x)`   | Zurückgegeben wird der Index i des ersten Listenelements, bei dem `list[i] == x`   |\n",
    "| `list.count(x)`  | Anzahl der Objekte mit dem Wert x   |\n",
    "|  `list.sort()` | Die Elemente der Liste list werden aufsteigend sortiert  |\n",
    "| `list.reverse()`  | Dreht die Reihenfolge der Objekte in der Liste um   |\n",
    "| `del list`  | Löscht die **gesamte** Liste   |\n",
    "|`del liste[i]`   | Löscht das Listenelement mit Index i, **ohne** es als Funktionswert zurückzugeben. Man kann auch Bereiche `[i:j]` löschen.   |"
   ]
  },
  {
   "cell_type": "code",
   "execution_count": null,
   "metadata": {
    "slideshow": {
     "slide_type": "fragment"
    }
   },
   "outputs": [],
   "source": [
    "# TODO Beispiele zu Listenoperationen\n",
    "\n"
   ]
  },
  {
   "cell_type": "code",
   "execution_count": null,
   "metadata": {
    "slideshow": {
     "slide_type": "fragment"
    }
   },
   "outputs": [],
   "source": [
    "# TODO Beispiel Liste als Stapel\n",
    "     "
   ]
  },
  {
   "cell_type": "markdown",
   "metadata": {
    "slideshow": {
     "slide_type": "subslide"
    }
   },
   "source": [
    "#### 4.1.2 Listenabstraktion (*list comprehension*)"
   ]
  },
  {
   "cell_type": "markdown",
   "metadata": {
    "slideshow": {
     "slide_type": "fragment"
    }
   },
   "source": [
    "Wenn es nach Erfinder Guido van Rossum ginge, gäbe es statt `lambda` und Co. nur noch die *List Comprehension* in Python 3. Diese ist nämlich genauso eine elegante Methode, um Kollektionen in Python zu definieren und zu erzeugen. Demnach ist es auch eine einfache Methode, um neue Listen oder auch Unterlisten zu erzeugen, oder um innerhalb einer Liste, Anweisungen auszuführen."
   ]
  },
  {
   "cell_type": "markdown",
   "metadata": {
    "slideshow": {
     "slide_type": "fragment"
    }
   },
   "source": [
    "*List Comprehensions* erzeugen aus einer Eingabeliste eine Ausgabeliste. Die einfachste und allgemeine Form folgt dem Syntax:\n",
    "\n",
    "```python\n",
    "ausgabeliste = [ausdruck for element in eingabeliste]\n",
    "```"
   ]
  },
  {
   "cell_type": "code",
   "execution_count": null,
   "metadata": {
    "slideshow": {
     "slide_type": "fragment"
    }
   },
   "outputs": [],
   "source": [
    "# TODO Erzeugen der Quadratzahlen von 1 bis 9 und speichern in einer Liste\n",
    "# \"Klassisch\"\n"
   ]
  },
  {
   "cell_type": "code",
   "execution_count": null,
   "metadata": {
    "slideshow": {
     "slide_type": "fragment"
    }
   },
   "outputs": [],
   "source": [
    "# TODO Erzeugen der Quadratzahlen von 1 bis 9 und speichern in einer Liste\n",
    "# Via list comprehension\n"
   ]
  },
  {
   "cell_type": "markdown",
   "metadata": {
    "slideshow": {
     "slide_type": "fragment"
    }
   },
   "source": [
    "Der Syntax kann ebenso um eine `if`-Anweisung ergänzt werden:\n",
    "```python\n",
    "ausgabeliste = [ausdruck for element in eingabeliste if bedingung]\n",
    "```"
   ]
  },
  {
   "cell_type": "code",
   "execution_count": null,
   "metadata": {
    "slideshow": {
     "slide_type": "fragment"
    }
   },
   "outputs": [],
   "source": [
    "# TODO alle Zahlen von 10 bis 100, die durch 4 teilbar sind\n"
   ]
  },
  {
   "cell_type": "markdown",
   "metadata": {
    "slideshow": {
     "slide_type": "subslide"
    }
   },
   "source": [
    "#### 4.1.3 `lambda`, `map`, `filter` und `reduce` als Alternative zur Listenabstraktion\n",
    "\n",
    "##### Anwenden mit `map`"
   ]
  },
  {
   "cell_type": "markdown",
   "metadata": {
    "slideshow": {
     "slide_type": "fragment"
    }
   },
   "source": [
    "Mithilfe der *list comprehension* kann man also einen `ausdruck` (oder Funktion) auf eine Liste (*eingabeliste*) anwenden. Genau dasselbe ist mit der `map`-Funktion möglich:\n",
    "\n",
    "```python\n",
    "ausgabe = map(func, seq)    # func = Funktion, seq = sequentieller Datentyp\n",
    "```"
   ]
  },
  {
   "cell_type": "code",
   "execution_count": null,
   "metadata": {
    "slideshow": {
     "slide_type": "fragment"
    }
   },
   "outputs": [],
   "source": [
    "# zähle zu allen Zahlen einer Liste 2 dazu\n",
    "neueListe = list(map(lambda x: x +2, range(10)))\n",
    "print(neueListe)"
   ]
  },
  {
   "cell_type": "code",
   "execution_count": null,
   "metadata": {
    "slideshow": {
     "slide_type": "fragment"
    }
   },
   "outputs": [],
   "source": [
    "# TODO Umrechnung von Grad Celsius in Fahrenheit: °F = (9/5)*°C +32\n",
    "messungenCelsius = [35.4, 36.3, 37.8, 38.0, 39.6, 42.1 ]\n",
    "messungenFahrenheit = pass # TODO"
   ]
  },
  {
   "cell_type": "markdown",
   "metadata": {
    "slideshow": {
     "slide_type": "subslide"
    }
   },
   "source": [
    "##### Filtern mit `filter`\n",
    "\n",
    "`map` nimmt alle Ergebnisse aus der Funktion in die neue Liste auf. `filter` hingegen nur diejenigen Funktionsergebnisse, die `True` liefern. Sie liefert ein gefiltertes *Iterable* zurück. \n",
    "\n",
    "Syntax:\n",
    "\n",
    "```python\n",
    "ausgabe = filter(func, iter)    # func = Funktion, iter = seq. Datentyp oder iterierbares Objekt\n",
    "```\n",
    "\n"
   ]
  },
  {
   "cell_type": "markdown",
   "metadata": {
    "slideshow": {
     "slide_type": "fragment"
    }
   },
   "source": [
    "Einschub: Was ist ein *iterierbares Objekt (itarable)*?\n",
    "> Bei einem iterierbaren Objekt (englisch: iterable) handelt es sich um ein Objekt, das seine\n",
    "Elemente einzeln zurückgeben kann, d.h. eins nach dem anderen. Beispiele für iterierbare\n",
    "Objekte sind alle sequentiellen Datentypen wie list, str und tuple), aber auch die\n",
    "Dictionary-Klasse dict.\n",
    "\n",
    "&rarr; Jeder sequentielle Datentyp ist iterierbar, aber nicht jedes iterierbare Objekt hat einen sequentiellen Datentyp. Bei sequentiellen Datentypen gibt es einen **Index**, um auf einzelne Elemente zuzugreifen"
   ]
  },
  {
   "cell_type": "code",
   "execution_count": null,
   "metadata": {
    "slideshow": {
     "slide_type": "fragment"
    }
   },
   "outputs": [],
   "source": [
    "# TODO alle Zahlen von 10 bis 100, die durch 4 teilbar sind\n"
   ]
  },
  {
   "cell_type": "markdown",
   "metadata": {
    "slideshow": {
     "slide_type": "subslide"
    }
   },
   "source": [
    "##### Reduzieren mit `reduce`\n",
    "\n",
    "\"aka *Guido ärgern*\", denn diese Funktion wurde aus den Standardmodulen von Python 3 verbannt. Genutzt werden kann es daher nur, wenn sie vorher aus dem Modul `functools` importiert wird. Syntax:\n",
    "\n",
    "```python\n",
    "from functools import reduce\n",
    "ausgabewert = reduce(func, seq)     # func = Funktion, seq = sequentieller Datentyp\n",
    "```"
   ]
  },
  {
   "cell_type": "markdown",
   "metadata": {
    "slideshow": {
     "slide_type": "fragment"
    }
   },
   "source": [
    "Dennoch kann die Funktion nützlich sein. Sie wird verwendet, um eine Funktion auf die Elemente einer Sequenz *kumulativ* anzuwenden und auf einen einzigen Wert zu reduzieren."
   ]
  },
  {
   "cell_type": "code",
   "execution_count": null,
   "metadata": {
    "slideshow": {
     "slide_type": "fragment"
    }
   },
   "outputs": [],
   "source": [
    "# TODO Summe einer Liste\n"
   ]
  },
  {
   "cell_type": "code",
   "execution_count": null,
   "metadata": {
    "slideshow": {
     "slide_type": "fragment"
    }
   },
   "outputs": [],
   "source": [
    "# TODO Maximum einer Liste\n"
   ]
  },
  {
   "cell_type": "markdown",
   "metadata": {
    "slideshow": {
     "slide_type": "subslide"
    }
   },
   "source": [
    "#### 4.1.4 Kopieren von Listen"
   ]
  },
  {
   "cell_type": "code",
   "execution_count": null,
   "metadata": {
    "slideshow": {
     "slide_type": "fragment"
    }
   },
   "outputs": [],
   "source": [
    "# Was nichts mit Kopieren zu tun hat\n",
    "x = [ 1, 2, 3, 4, 5]\n",
    "y = x\n",
    "print(\"x: \", x)             \n",
    "print(\"y: \", y)             \n",
    "print(id(x), id(y), \"\\n\")   \n",
    "# Veränderung der Liste\n",
    "print(\"Veränderung\")\n",
    "x[1] = 33\n",
    "print(\"x: \", x)             \n",
    "print(\"y: \", y)             \n",
    "print(id(x), id(y), \"\\n\")   "
   ]
  },
  {
   "cell_type": "markdown",
   "metadata": {
    "slideshow": {
     "slide_type": "fragment"
    }
   },
   "source": [
    "Was in obiger Zelle geschehen ist, nennt man *Aliasing*, weil ein Alias (anderer Name) für einen bereits existierenden Namen gebildet wird (`y = x`). Beide Namen zeigen intern auf das gleiche Objekt, daher kann nicht von einer Kopie gesprochen werden."
   ]
  },
  {
   "cell_type": "code",
   "execution_count": null,
   "metadata": {
    "slideshow": {
     "slide_type": "fragment"
    }
   },
   "outputs": [],
   "source": [
    "# TODO Flache Kopie\n"
   ]
  },
  {
   "cell_type": "markdown",
   "metadata": {
    "slideshow": {
     "slide_type": "fragment"
    }
   },
   "source": [
    "Das obige Beispiel scheint zu funktionieren. Statt des Slicing-Operators `[:]` kann man auch schreiben `y = x.copy()`. \n",
    "\n",
    "Funktioniert das auch für verschachtelte Listen?"
   ]
  },
  {
   "cell_type": "code",
   "execution_count": null,
   "metadata": {
    "slideshow": {
     "slide_type": "fragment"
    }
   },
   "outputs": [],
   "source": [
    "# TODO Flache Kopie einer verschachtelten Liste\n"
   ]
  },
  {
   "cell_type": "markdown",
   "metadata": {
    "slideshow": {
     "slide_type": "fragment"
    }
   },
   "source": [
    "Die Antwort ist **nein**. Flache Kopien (*shallow copy*) funktionieren auch nur mit flachen Listen, d.h. Listen, die keine Unterlisten enthalten. Beim flachen Kopieren werden werden auch die Zeiger auf die Unterlisten mitkopiert, wodurch die Kopie auf dieselbe Unterliste zeigt, wie das Original."
   ]
  },
  {
   "cell_type": "markdown",
   "metadata": {
    "slideshow": {
     "slide_type": "fragment"
    }
   },
   "source": [
    "Um auch die Unterobjekte mitzukopieren und sog. *tiefe Kopien* anzufertigen, benötigt man die Funktion `deepcopy()`. Eine tiefe Kopie ist ein völlig selbstständiges Sysstem von Objekten und hat keinerlei Zusammenhang mehr zum Original."
   ]
  },
  {
   "cell_type": "code",
   "execution_count": null,
   "metadata": {
    "slideshow": {
     "slide_type": "fragment"
    }
   },
   "outputs": [],
   "source": [
    "# TODO tiefe Kopie\n"
   ]
  },
  {
   "cell_type": "markdown",
   "metadata": {
    "slideshow": {
     "slide_type": "slide"
    }
   },
   "source": [
    "### 4.2 Tupel"
   ]
  },
  {
   "cell_type": "markdown",
   "metadata": {
    "slideshow": {
     "slide_type": "fragment"
    }
   },
   "source": [
    "Ein Tupel ist eine Sequenz von Elementen, die iterierbar sind, aber nicht verändert werden können. Tupel sind *immutable*. Von der Idee her sind Listen eine Aufzählung vieler Einzelobjekte, wohingegen Tupel die Modellierung der Struktur *eines* komplexen Einzelobjektes betonen. \n",
    "\n",
    "**Faustregel**: Tupel machen alles, was Listen auch machen. ABER sie sind unveränderlich."
   ]
  },
  {
   "cell_type": "code",
   "execution_count": null,
   "metadata": {
    "slideshow": {
     "slide_type": "fragment"
    }
   },
   "outputs": [],
   "source": [
    "# TODO Beispiele\n"
   ]
  },
  {
   "cell_type": "markdown",
   "metadata": {
    "slideshow": {
     "slide_type": "subslide"
    }
   },
   "source": [
    "#### 4.2.1 Anwendung von Tupel"
   ]
  },
  {
   "cell_type": "markdown",
   "metadata": {
    "slideshow": {
     "slide_type": "fragment"
    }
   },
   "source": [
    "In Python sind auch Mehrfachzuweisungen (mehrere Zuweisungen in einer Zeile) möglich, durch die man beispielsweise ideal Variablenwerte vertauschen kann:"
   ]
  },
  {
   "cell_type": "code",
   "execution_count": null,
   "metadata": {
    "slideshow": {
     "slide_type": "fragment"
    }
   },
   "outputs": [],
   "source": [
    "# reine Mehrfachzuweisung\n",
    "minimum, maximum, text = 3, 99, \"Ein Text\"\n",
    "print(minimum, maximum, text)\n",
    "maximum, minimum = minimum, maximum\n",
    "print(minimum, maximum, text)"
   ]
  },
  {
   "cell_type": "markdown",
   "metadata": {
    "slideshow": {
     "slide_type": "fragment"
    }
   },
   "source": [
    "Folgendes bezeichnet man als Tupel-Packing:"
   ]
  },
  {
   "cell_type": "code",
   "execution_count": null,
   "metadata": {
    "slideshow": {
     "slide_type": "fragment"
    }
   },
   "outputs": [],
   "source": [
    "# TODO Tupel-Packing\n"
   ]
  },
  {
   "cell_type": "markdown",
   "metadata": {
    "slideshow": {
     "slide_type": "fragment"
    }
   },
   "source": [
    "Von Tupel-Unpacking (\"Tupel-Entpacken\") spricht man, wenn man die einzelnen Werte eines Tupels Variablen zuordnet: "
   ]
  },
  {
   "cell_type": "code",
   "execution_count": null,
   "metadata": {
    "slideshow": {
     "slide_type": "fragment"
    }
   },
   "outputs": [],
   "source": [
    "# TODO Tupel-Unpacking\n"
   ]
  },
  {
   "cell_type": "code",
   "execution_count": null,
   "metadata": {
    "slideshow": {
     "slide_type": "fragment"
    }
   },
   "outputs": [],
   "source": [
    "# TODO Tupel-Unpacking im Funktionsaufruf\n"
   ]
  },
  {
   "cell_type": "markdown",
   "metadata": {
    "slideshow": {
     "slide_type": "subslide"
    }
   },
   "source": [
    "#### 4.2.2 Nutzung der `enumerate()`-Funktion"
   ]
  },
  {
   "cell_type": "markdown",
   "metadata": {
    "slideshow": {
     "slide_type": "fragment"
    }
   },
   "source": [
    "`enumerate()` ist eine *built-in function*, die zu jedem iterierbaren Objekt (*iterable*) einen Index/Zähler hinzufügt und das Ergebnis in Form eines Tupel zurückgibt. Der Syntax lautet `enumerate(iterable, start = 0)`, wobei:\n",
    "- **iterable**: irgendein iterierbares Objekt\n",
    "- **start**: Optional. Gibt den Startindex an. Default = 0."
   ]
  },
  {
   "cell_type": "code",
   "execution_count": null,
   "metadata": {
    "slideshow": {
     "slide_type": "fragment"
    }
   },
   "outputs": [],
   "source": [
    "# TODO Beispiel\n",
    "liste = [\"eat\", \"sleep\", \"repeat\"]\n"
   ]
  },
  {
   "cell_type": "markdown",
   "metadata": {
    "slideshow": {
     "slide_type": "fragment"
    }
   },
   "source": [
    "Die `next()`-Funktion:"
   ]
  },
  {
   "cell_type": "code",
   "execution_count": null,
   "metadata": {
    "slideshow": {
     "slide_type": "fragment"
    }
   },
   "outputs": [],
   "source": [
    "fruits = ['apple', 'banana', 'cherry']\n",
    "enum_fruits = enumerate(fruits)\n",
    " \n",
    "next_element = next(enum_fruits)\n",
    "print(f\"Next Element: {next_element}\")\n",
    "next_element = next(enum_fruits)\n",
    "print(f\"Next Element: {next_element}\")\n",
    "next_element = next(enum_fruits)\n",
    "print(f\"Next Element: {next_element}\")\n",
    "# next_element = next(enum_fruits)      # geht nicht\n",
    "# print(f\"Next Element: {next_element}\")"
   ]
  },
  {
   "cell_type": "markdown",
   "metadata": {
    "slideshow": {
     "slide_type": "subslide"
    }
   },
   "source": [
    "\"Verändern\" eines Tupel:"
   ]
  },
  {
   "cell_type": "code",
   "execution_count": null,
   "metadata": {
    "slideshow": {
     "slide_type": "fragment"
    }
   },
   "outputs": [],
   "source": [
    "# Erweiterung eines Tupels\n",
    "t = ( 1, 2, 3 )\n",
    "print(\"Original\", t)\n",
    "# Versuch1, Ziel: ( 1, 2, 3, 4 )\n",
    "t1 =   # TODO\n",
    "print(\"Versuch 1:\", t1)\n",
    "# Versuch 2, Ziel: ( 1, 2, 3, 4 )\n",
    "t2 =   # TODO\n",
    "print(\"Versuch 2:\", t2)\n",
    "# Versuch 3, Ziel: ( 1, 2, 3, 4 )\n",
    "\n",
    "t3 =  # TODO\n",
    "print(\"Versuch 3:\", t3)\n",
    "# Versuch 4, Ziel: ( 1, 2, 3, 4 )\n",
    "t4 =  # TODO \n",
    "print(\"Versuch 4:\", t4)"
   ]
  },
  {
   "cell_type": "markdown",
   "metadata": {
    "slideshow": {
     "slide_type": "subslide"
    }
   },
   "source": [
    "**Achtung**: Denkweise anpassen!"
   ]
  },
  {
   "cell_type": "code",
   "execution_count": null,
   "metadata": {
    "slideshow": {
     "slide_type": "fragment"
    }
   },
   "outputs": [],
   "source": [
    "#  Iterationen mit der for-Schleife\n",
    "\n",
    "t1 = ( (1,2,3), (4,5,6) ) # 2x3-Tuple\n",
    "# Array-Denkweise mit Indizes (schlecht!)\n",
    "for i in range(2):\n",
    "    for j in range(3) :\n",
    "        print(t1[i][j])"
   ]
  },
  {
   "cell_type": "code",
   "execution_count": null,
   "metadata": {
    "scrolled": true,
    "slideshow": {
     "slide_type": "fragment"
    }
   },
   "outputs": [],
   "source": [
    "# Tupel-Denkweise mit Elementen (gut!)\n",
    "for i in t1:\n",
    "    for j in i :\n",
    "        print(j)"
   ]
  },
  {
   "cell_type": "code",
   "execution_count": null,
   "metadata": {
    "slideshow": {
     "slide_type": "fragment"
    }
   },
   "outputs": [],
   "source": [
    "t2 = ( (1,), (2,3), (4,5,6)) # Dreiecks-Tupel\n",
    "# TODO Ausgabe der Tupel-Elemente des Dreiecks-Tupels\n"
   ]
  },
  {
   "cell_type": "markdown",
   "metadata": {
    "slideshow": {
     "slide_type": "slide"
    }
   },
   "source": [
    "### 4.3 Mengen"
   ]
  },
  {
   "cell_type": "markdown",
   "metadata": {
    "slideshow": {
     "slide_type": "fragment"
    }
   },
   "source": [
    "Mengen (*sets*) sind ungeordnete Kollektionen ohne Duplikate, die iterierbar und veränderbar sind. Damit bezeichnet man sie auch als *iterable* und *mutable*. Die Elemente einer Menge haben keine Reihenfolge, damit auch keine Indizes und zählen somit auch nicht zu den sequentiellen Datentypen."
   ]
  },
  {
   "cell_type": "markdown",
   "metadata": {
    "slideshow": {
     "slide_type": "fragment"
    }
   },
   "source": [
    "Um Mengen unveränderbar (*immutable*) zu machen gibt es den Datentyp `frozenset`. \n",
    "\n",
    "Zum Erzeugen einer Menge verwendet man wie in der Mathematik geschweifte Klammern (alternativ mit dem Schlüsselwort `set(...)`)"
   ]
  },
  {
   "cell_type": "code",
   "execution_count": null,
   "metadata": {
    "slideshow": {
     "slide_type": "fragment"
    }
   },
   "outputs": [],
   "source": [
    "# TODO Beispiel Menge\n"
   ]
  },
  {
   "cell_type": "markdown",
   "metadata": {
    "slideshow": {
     "slide_type": "fragment"
    }
   },
   "source": [
    "Übliche Operatoren aus der Mathematik: Schnittmenge `&`, Vereinigung `|` und Differenz `-`"
   ]
  },
  {
   "cell_type": "code",
   "execution_count": null,
   "metadata": {
    "slideshow": {
     "slide_type": "fragment"
    }
   },
   "outputs": [],
   "source": [
    "# Mengen-Operatoren aus der Mathematik\n",
    "m1 = set(\"Einstein\")\n",
    "m2 = set(\"Relativitaet\")\n",
    "print(m1 & m2)  # Schnittmenge\n",
    "print(m1 | m2)  # Vereinigung\n",
    "print(m1 - m2)  # Differenz"
   ]
  },
  {
   "cell_type": "markdown",
   "metadata": {
    "slideshow": {
     "slide_type": "subslide"
    }
   },
   "source": [
    "Methoden für weitere Operationen auf Mengen:\n",
    "\n",
    "| Methoden|Beschreibung |\n",
    "|:----|:----|\n",
    "| `menge.add(e)`  | Fügt das Element e in die Menge menge als neues Element ein  |\n",
    "| `menge.clear()`   | Entfernt alle elemente aus der Menge menge   |\n",
    "| `menge.discard(e)`  | Das Element e wird aus der Menge menge entfernt.   |\n",
    "| `menge.copy()`  | (Flache) Kopie der Menge menge   |\n",
    "| `menge.difference(andereMenge)`  | = `menge - andereMenge`   |\n",
    "| `menge.intersection(andereMenge)`  | = `menge & andereMenge`   |\n",
    "| `menge.union(andereMenge)`   | = `menge \\| andereMenge`  |"
   ]
  },
  {
   "cell_type": "markdown",
   "metadata": {
    "slideshow": {
     "slide_type": "subslide"
    }
   },
   "source": [
    "##### Mengenabstraktion (*set comprehension*)\n",
    "\n",
    "Vergleich von Listen- und Mengenabstraktion am Algorithmus \"[Sieb des Eratosthenes](https://de.wikipedia.org/wiki/Sieb_des_Eratosthenes#/media/Datei:Animation_Sieb_des_Eratosthenes_%C3%9Cberarbeitet.gif)\" zur Ermittlung der Primzahlen von $2$ bis $n$."
   ]
  },
  {
   "cell_type": "code",
   "execution_count": null,
   "metadata": {
    "slideshow": {
     "slide_type": "fragment"
    }
   },
   "outputs": [],
   "source": [
    "# Via list comprehension\n",
    "from math import sqrt\n",
    "n = 75\n",
    "sqrt_n = int(sqrt(n))\n",
    "no_primes = [j for i in range(2, sqrt_n) for j in range(i*2, n, i)]\n",
    "print(no_primes)\n",
    "primes = [i for i in range(2, n) if i not in no_primes]\n",
    "print(primes)"
   ]
  },
  {
   "cell_type": "code",
   "execution_count": null,
   "metadata": {
    "slideshow": {
     "slide_type": "fragment"
    }
   },
   "outputs": [],
   "source": [
    "# Via set comprehension\n",
    "from math import sqrt\n",
    "n = 75\n",
    "sqrt_n = int(sqrt(n))\n",
    "no_primes = {j for i in range(2, sqrt_n) for j in range(i*2, n, i)}\n",
    "print(no_primes)\n",
    "primes = {i for i in range(2, n) if i not in no_primes}\n",
    "print(primes)"
   ]
  },
  {
   "cell_type": "markdown",
   "metadata": {
    "slideshow": {
     "slide_type": "slide"
    }
   },
   "source": [
    "#### 4.4 Dictionary"
   ]
  },
  {
   "cell_type": "markdown",
   "metadata": {
    "slideshow": {
     "slide_type": "fragment"
    }
   },
   "source": [
    "Neben Listen sind *Dictionaries* eines der bedeutendsten Datenstrukturen in Python. Es handelt sich dabei um eine *ungeordnete Sammlung von Schlüssel-Wert-Paaren*. In den Programmiersprachen spricht man dann auch von einem *assoziativen Feld*. "
   ]
  },
  {
   "cell_type": "markdown",
   "metadata": {
    "slideshow": {
     "slide_type": "fragment"
    }
   },
   "source": [
    "Die Schlüssel (*keys*) dürfen nur unveränderliche (*immutable*) Datentypen sein. Die Dictionaries selbst sind *mutable*."
   ]
  },
  {
   "cell_type": "markdown",
   "metadata": {
    "slideshow": {
     "slide_type": "fragment"
    }
   },
   "source": [
    "Die wichtigsten Methoden für Operationen auf Dictionaries:\n",
    "\n",
    "| Methoden|Beschreibung |\n",
    "|:----|:----|\n",
    "| `d.keys()`  | Gibt die Schlüssel der Dictionaries d zurück  |\n",
    "| `d.values()`   | Gibt die Werte des Dictionaries d zurück   |\n",
    "| `d.items()`  | Gibt eine Liste mit Tupeln zurück. Jedes Tupel enthält ein Schlüssel-Wert-Paar aus dem Dictionary d  |\n",
    "| `d.has_key(k)`  | Überprüft, ob der Schlüssel k im Dictionary d enthalten ist   |\n",
    "| `del d[k]`  | = Löscht das Schlüssel-Wert-Paar mit dem Schlüssel k aus dem Dictionary d  |\n",
    "| `k in d`  | = Überprüft, ob k ein Schlüssel des Dictionarys d ist   |\n"
   ]
  },
  {
   "cell_type": "code",
   "execution_count": null,
   "metadata": {
    "slideshow": {
     "slide_type": "fragment"
    }
   },
   "outputs": [],
   "source": [
    "# Beispiele zu Dictionaries\n",
    "# In {}-Klammern wie Mengen, einzelne Paare durch \",\" getrennt, \":\" unterscheidet dict von set\n",
    "waehrungen = {\"Deutschland\" : \"Euro\", \"Indien\" : \"Indische Rupie\", \n",
    "              \"Grossbritannien\" : \"Pfund Sterling\", \"Japan\" : \"Yen\", \n",
    "              \"Frankreich\" : \"Euro\"}\n",
    "\n",
    "# TODO Zugriff auf ein Element über Schlüssel \n",
    "\n",
    "# TODO \"Ist Schlüssel in Dictionary?\"\n",
    "\n",
    "# TODO gib Schlüssel aus\n",
    "\n",
    "\n",
    "\n",
    "# TODO gib Werte aus\n",
    "\n",
    "# TODO gib Paare aus\n"
   ]
  },
  {
   "cell_type": "markdown",
   "metadata": {
    "slideshow": {
     "slide_type": "subslide"
    }
   },
   "source": [
    "- Dictionary aus Listen erzeugen: die `zip`-Funktion"
   ]
  },
  {
   "cell_type": "markdown",
   "metadata": {
    "slideshow": {
     "slide_type": "fragment"
    }
   },
   "source": [
    "Die `zip()`-Funktion kann auf eine beliebige Anzahl an iterierbaren Objekten angewendet werden und gibt ein zip-Objekt zurück, bei dem es sich um einen Tupel-Iterator handelt. Zuerst liefert sie ein Tupel mit den ersten Elementen der Eingabeobjekte, dann die zweiten, dritten und stoppt, sobald eines der iterierbaren Objekte aufgebraucht ist."
   ]
  },
  {
   "cell_type": "code",
   "execution_count": null,
   "metadata": {
    "slideshow": {
     "slide_type": "fragment"
    }
   },
   "outputs": [],
   "source": [
    "# Beispiel mit Zahlen und Buchstaben\n",
    "einige_buchstaben = [\"a\", \"b\", \"c\", \"d\", \"e\", \"f\"]\n",
    "einige_zahlen = [5, 3, 7, 9, 11, 2]\n",
    "print(zip(einige_buchstaben, einige_zahlen))\n",
    "print(type(zip(einige_buchstaben, einige_zahlen)))\n",
    "for t in zip(einige_buchstaben, einige_zahlen):\n",
    "    print(t)\n",
    "\n"
   ]
  },
  {
   "cell_type": "code",
   "execution_count": null,
   "metadata": {
    "slideshow": {
     "slide_type": "fragment"
    }
   },
   "outputs": [],
   "source": [
    "# Beispiel für unterschiedlich lange Eingabeobjekte\n",
    "ort = [\"Helgoland\", \"Kiel\", \"Berlin-Tegel\"]\n",
    "luftdruck = (1021.2, 1019.9, 1023.7, 1023.1, 1027.7)\n",
    "for ort, ld in zip(ort, luftdruck):\n",
    "    print(f\"Der Luftdruck in {ort} beträgt: {ld:7.1f}\")"
   ]
  },
  {
   "cell_type": "code",
   "execution_count": null,
   "metadata": {
    "slideshow": {
     "slide_type": "fragment"
    }
   },
   "outputs": [],
   "source": [
    "# TODO Dictionary aus Listen, Beispiel Währungen\n",
    "l = [\"Deutschland\", \"Indien\", \"Großbritannien\", \"Japan\", \"Frankreich\"]\n",
    "w = [ \"Euro\", \"Indische Rupie\",\"Pfund Sterling\", \"Yen\", \"Euro\" ]\n"
   ]
  }
 ],
 "metadata": {
  "kernelspec": {
   "display_name": "Python 3 (ipykernel)",
   "language": "python",
   "name": "python3"
  },
  "language_info": {
   "codemirror_mode": {
    "name": "ipython",
    "version": 3
   },
   "file_extension": ".py",
   "mimetype": "text/x-python",
   "name": "python",
   "nbconvert_exporter": "python",
   "pygments_lexer": "ipython3",
   "version": "3.11.7"
  }
 },
 "nbformat": 4,
 "nbformat_minor": 2
}
