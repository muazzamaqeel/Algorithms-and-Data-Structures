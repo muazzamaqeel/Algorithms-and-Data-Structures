{
 "cells": [
  {
   "cell_type": "markdown",
   "metadata": {
    "slideshow": {
     "slide_type": "slide"
    }
   },
   "source": [
    "## 8. Klassen"
   ]
  },
  {
   "cell_type": "markdown",
   "metadata": {
    "slideshow": {
     "slide_type": "fragment"
    }
   },
   "source": [
    "The definition and use of classes is an essential building block of *object-oriented programming (OOP)*. Although some programmers consider OOP to be a modern achievement, we already know that its roots go back to the 1960s. As is well known, the first programming language that used objects was called *SIMULA*. The basic ideas of this language are still the same as those of Python:"
   ]
  },
  {
   "cell_type": "markdown",
   "metadata": {
    "slideshow": {
     "slide_type": "fragment"
    }
   },
   "source": [
    "1. Everything is an object\n",
    "2. Objects communicate by sending and receiving messages\n",
    "3. Objects have their own storage area\n",
    "4. Every object is an instance of a *class*\n",
    "5. The *class* describes the behavior of its examples"
   ]
  },
  {
   "cell_type": "markdown",
   "metadata": {
    "slideshow": {
     "slide_type": "fragment"
    }
   },
   "source": [
    "Overall, the basic ideas can be described as a summary of all data and operations into a single unit. This principle is also called *data encapsulation*, which also serves to protect against immediate access to data."
   ]
  },
  {
   "cell_type": "markdown",
   "metadata": {
    "slideshow": {
     "slide_type": "fragment"
    }
   },
   "source": [
    "In current OOP terminology, the terms *attributes and methods* are used instead of the terms data and operations, where *method* is just another name for the term *function* that you are already familiar with. In a nutshell:\n",
    "\n",
    "*Object = Attributes + Methods*"
   ]
  },
  {
   "cell_type": "markdown",
   "metadata": {
    "slideshow": {
     "slide_type": "fragment"
    }
   },
   "source": [
    "The concept of OOP pursues three goals in particular:\n",
    "\n",
    "- **Principle of reusability**: Once defined, classes should also be able to be reused in other software projects.\n",
    "\n",
    "- **Principle of data encapsulation**: The aim is to reduce complexity by dividing it into clear classes. This makes software projects easier to manage. In addition, each class has its own variables without causing side effects during program execution\n",
    "\n",
    "- **Better maintainability**: If, for example, a more effective algorithm with a better runtime has been found for certain methods of a class, it can simply be implemented in its class as a method of the same name."
   ]
  },
  {
   "cell_type": "markdown",
   "metadata": {
    "slideshow": {
     "slide_type": "fragment"
    }
   },
   "source": [
    "*Fun Fact*: You have been working with classes, methods and their attributes continuously since the beginning of the lecture (without perhaps explicitly noticing it)."
   ]
  },
  {
   "cell_type": "markdown",
   "metadata": {
    "slideshow": {
     "slide_type": "slide"
    }
   },
   "source": [
    "### 8.1 Classes as Container"
   ]
  },
  {
   "cell_type": "markdown",
   "metadata": {
    "slideshow": {
     "slide_type": "fragment"
    }
   },
   "source": [
    "> *A container is an object that contains other objects*"
   ]
  },
  {
   "cell_type": "markdown",
   "metadata": {
    "slideshow": {
     "slide_type": "fragment"
    }
   },
   "source": [
    "In past lectures we have also referred to *containers* as data structures. There, for example, values ​​were combined into a compact `dict`. In order to access the packed data, a *key* was required."
   ]
  },
  {
   "cell_type": "markdown",
   "metadata": {
    "slideshow": {
     "slide_type": "fragment"
    }
   },
   "source": [
    "Classes have a similar structure: they are collections of attributes for which you can store values. Which attributes these are depends on what is to be modeled. In our example we want to represent a simple money class:"
   ]
  },
  {
   "cell_type": "markdown",
   "metadata": {
    "slideshow": {
     "slide_type": "fragment"
    }
   },
   "source": [
    "![robot class](app/money.svg)"
   ]
  },
  {
   "cell_type": "markdown",
   "metadata": {
    "slideshow": {
     "slide_type": "fragment"
    }
   },
   "source": [
    "UML (*Unified Modeling Language*) symbols are often used to visually describe OOP:\n",
    "\n",
    "![template](appendix/template.svg)"
   ]
  },
  {
   "cell_type": "markdown",
   "metadata": {
    "slideshow": {
     "slide_type": "subslide"
    }
   },
   "source": [
    "#### 8.1.1 Definition of classes"
   ]
  },
  {
   "cell_type": "markdown",
   "metadata": {
    "slideshow": {
     "slide_type": "fragment"
    }
   },
   "source": [
    "The syntactical structure of a class definition in Python is as follows:\n",
    "\n",
    "```python\n",
    "classdef ::= class classname [inheritance] : \n",
    "statement sequence\n",
    "\n",
    "inheritance ::= ([expression_list])\n",
    "classname ::= identifier\n",
    "```"
   ]
  },
  {
   "cell_type": "markdown",
   "metadata": {
    "slideshow": {
     "slide_type": "fragment"
    }
   },
   "source": [
    "Examples of syntactically correct class definition headers are:\n",
    "```python\n",
    "class MyClass:\n",
    "class MyClass(object):\n",
    "class MyClass(superclass):\n",
    "class MyClass(superclass1, superclass2):\n",
    "\n",
    "```\n",
    "\n",
    "Note: Class names always start with a capital letter!"
   ]
  },
  {
   "cell_type": "code",
   "execution_count": 1,
   "metadata": {
    "slideshow": {
     "slide_type": "fragment"
    }
   },
   "outputs": [],
   "source": [
    "# TODO simplest definition of the class \"Money\"\n",
    "class Geld:\n",
    "    pass"
   ]
  },
  {
   "cell_type": "markdown",
   "metadata": {
    "slideshow": {
     "slide_type": "subslide"
    }
   },
   "source": [
    "#### 8.1.2 Definition with constructor"
   ]
  },
  {
   "cell_type": "markdown",
   "metadata": {
    "slideshow": {
     "slide_type": "fragment"
    }
   },
   "source": [
    "Although the above implementation is syntactically correct, it is completely pointless. In practice, the body of a class definition consists of the following components:\n",
    "\n",
    "- Definition of class attributes (also called *static* attributes) (if any)\n",
    "- Definition of a constructor method `__init__()`. There, object attributes are assigned initial values ​​when an object of the class is instantiated.\n",
    "- Definition of further methods (if available)"
   ]
  },
  {
   "cell_type": "code",
   "execution_count": 3,
   "metadata": {
    "slideshow": {
     "slide_type": "fragment"
    }
   },
   "outputs": [],
   "source": [
    "# TODO more meaningful definition of the class \"Money\"\n",
    "class Geld:\n",
    "# Class attribute\n",
    "    wechselkurs = {'USD': 0.84998,\n",
    "                   'GBP': 1.39480,\n",
    "                   'EUR': 1.0,\n",
    "                   'JPY': 0.007168}\n",
    "# Constructor method\n",
    "    def __init__(self, waehrung, betrag):\n",
    "        self.waehrung = waehrung\n",
    "        self.betrag = float(betrag)\n",
    "        \n",
    "    def getEuro(self):\n",
    "        return self.betrag*self.wechselkurs[self.waehrung]\n",
    "    \n",
    "    def add(self, geld):\n",
    "        summe_in_Euro = self.getEuro()+geld.getEuro()\n",
    "        summe = Geld(self.waehrung, summe_in_Euro/self.wechselkurs[self.waehrung])\n",
    "        return summe"
   ]
  },
  {
   "cell_type": "markdown",
   "metadata": {
    "slideshow": {
     "slide_type": "fragment"
    }
   },
   "source": [
    "Note: The keyword `self` must **always** be included in every method definition. When accessing an instance attribute, it is **always** prefixed. The constructor method `__init__()` must not contain a `return` statement!"
   ]
  },
  {
   "cell_type": "markdown",
   "metadata": {
    "slideshow": {
     "slide_type": "slide"
    }
   },
   "source": [
    "### 8.2 Instances (Objects)"
   ]
  },
  {
   "cell_type": "markdown",
   "metadata": {
    "slideshow": {
     "slide_type": "fragment"
    }
   },
   "source": [
    "To create a class object, you first have to call the class. Classes are like functions and are callable objects (*callables*). The parameters required in the parameter list of the constructor method must be specified as transfer arguments, leaving out the first argument. Such an object created by calling a class is called an **instance**."
   ]
  },
  {
   "cell_type": "code",
   "execution_count": 5,
   "metadata": {
    "slideshow": {
     "slide_type": "fragment"
    }
   },
   "outputs": [
    {
     "name": "stdout",
     "output_type": "stream",
     "text": [
      "50.0 EUR\n",
      "<class '__main__.Geld'>\n"
     ]
    }
   ],
   "source": [
    "# TODO Create an instance of the Money class\n",
    "fuffi = Geld(\"EUR\", 50.0)\n",
    "print(fuffi.betrag, fuffi.waehrung)\n",
    "print(type(fuffi))"
   ]
  },
  {
   "cell_type": "markdown",
   "metadata": {
    "slideshow": {
     "slide_type": "fragment"
    }
   },
   "source": [
    "Let's now generate some `Money` objects and check the effect of the `add()` method according to the following *UML object symbols*:\n",
    "\n",
    "![object symbols](appendix/money objects.svg)"
   ]
  },
  {
   "cell_type": "code",
   "execution_count": 8,
   "metadata": {
    "slideshow": {
     "slide_type": "fragment"
    }
   },
   "outputs": [
    {
     "name": "stdout",
     "output_type": "stream",
     "text": [
      "743.817538059719 USD\n",
      "632.2300309999999 EUR\n"
     ]
    }
   ],
   "source": [
    "# TODO testing the add() method\n",
    "hotelrechnung = Geld(\"USD\", 123.45)\n",
    "mietwagen = Geld(\"EUR\", 527.30)\n",
    "\n",
    "summe = hotelrechnung.add(mietwagen)\n",
    "print(summe.betrag, summe.waehrung)\n",
    "\n",
    "summe = mietwagen.add(hotelrechnung)\n",
    "print(summe.betrag, summe.waehrung)"
   ]
  },
  {
   "cell_type": "markdown",
   "metadata": {
    "slideshow": {
     "slide_type": "fragment"
    }
   },
   "source": [
    "It is also possible to generate instances without names. These are called *anonymous objects*:"
   ]
  },
  {
   "cell_type": "code",
   "execution_count": 10,
   "metadata": {
    "slideshow": {
     "slide_type": "fragment"
    }
   },
   "outputs": [
    {
     "name": "stdout",
     "output_type": "stream",
     "text": [
      "169.99599999999998 EUR\n"
     ]
    }
   ],
   "source": [
    "# TODO Anonymous object as an instance of the Money class\n",
    "ausgaben = Geld(\"EUR\", 0)\n",
    "ausgaben = ausgaben.add(Geld(\"USD\", 200.0))\n",
    "print(ausgaben.betrag, ausgaben.waehrung)\n"
   ]
  },
  {
   "cell_type": "markdown",
   "metadata": {
    "slideshow": {
     "slide_type": "fragment"
    }
   },
   "source": [
    "The corresponding UML diagram looks like this:\n",
    "\n",
    "![anonymousObject](attachment/anonymousObject.svg)"
   ]
  },
  {
   "cell_type": "markdown",
   "metadata": {
    "slideshow": {
     "slide_type": "subslide"
    }
   },
   "source": [
    "### 8.3 Accessing Attributes - Visibility"
   ]
  },
  {
   "cell_type": "markdown",
   "metadata": {
    "slideshow": {
     "slide_type": "fragment"
    }
   },
   "source": [
    "Attributes are used to describe the characteristics of a class. The *object attributes* refer to properties of individual instances and are created in Python by assignments of the form `self.attribute = value` within the constructor.\n",
    "\n",
    "*Class attributes* (or static attributes), on the other hand, are characteristics that *all* instances of a class have. These are independent of the existence of an instance and are defined by an assignment of the form `attribute = value` within the class definition (but outside of a method)."
   ]
  },
  {
   "cell_type": "markdown",
   "metadata": {
    "slideshow": {
     "slide_type": "fragment"
    }
   },
   "source": [
    "Access from class and object attributes can be restricted. One then speaks of *visibility* and distinguishes between public and private attributes."
   ]
  },
  {
   "cell_type": "markdown",
   "metadata": {
    "slideshow": {
     "slide_type": "subslide"
    }
   },
   "source": [
    "#### 8.3.1 Public Attributes"
   ]
  },
  {
   "cell_type": "markdown",
   "metadata": {
    "slideshow": {
     "slide_type": "fragment"
    }
   },
   "source": [
    "*Public* means that you can read and write “from outside”. The syntax for accessing an *object attribute* is `instance.attribut`:"
   ]
  },
  {
   "cell_type": "code",
   "execution_count": 11,
   "metadata": {
    "slideshow": {
     "slide_type": "fragment"
    }
   },
   "outputs": [
    {
     "name": "stdout",
     "output_type": "stream",
     "text": [
      "100.0 EUR\n"
     ]
    }
   ],
   "source": [
    "# TODO simple access from object attribute\n",
    "hunni = Geld(\"EUR\", 100)\n",
    "print(hunni.betrag, hunni.waehrung)"
   ]
  },
  {
   "cell_type": "markdown",
   "metadata": {
    "slideshow": {
     "slide_type": "fragment"
    }
   },
   "source": [
    "Similarly, you can also access *class attributes*. To do this, just write the class name instead of the instance name: `Class.attribute`"
   ]
  },
  {
   "cell_type": "code",
   "execution_count": 12,
   "metadata": {
    "slideshow": {
     "slide_type": "fragment"
    }
   },
   "outputs": [
    {
     "name": "stdout",
     "output_type": "stream",
     "text": [
      "{'USD': 0.84998, 'GBP': 1.3948, 'EUR': 1.0, 'JPY': 0.007168}\n",
      "{'USD': 0.5, 'GBP': 1.3948, 'EUR': 1.0, 'JPY': 0.007168}\n"
     ]
    }
   ],
   "source": [
    "# TODO access to class attribute\n",
    "print(Geld.wechselkurs)\n",
    "Geld.wechselkurs['USD'] = 0.5\n",
    "print(Geld.wechselkurs)"
   ]
  },
  {
   "cell_type": "markdown",
   "metadata": {
    "slideshow": {
     "slide_type": "fragment"
    }
   },
   "source": [
    "The use of public attributes is particularly **rejected** by computer scientists from software engineering because it violates the secret principle.\n",
    "\n",
    "An object should reveal as little as possible about its internal structure. They also carry the risk of unwanted side effects and/or inconsistent states.\n",
    "\n",
    "Example:"
   ]
  },
  {
   "cell_type": "code",
   "execution_count": 15,
   "metadata": {
    "slideshow": {
     "slide_type": "fragment"
    }
   },
   "outputs": [
    {
     "name": "stdout",
     "output_type": "stream",
     "text": [
      "200 DM\n",
      "<class 'int'>\n"
     ]
    },
    {
     "ename": "KeyError",
     "evalue": "'DM'",
     "output_type": "error",
     "traceback": [
      "\u001b[1;31m---------------------------------------------------------------------------\u001b[0m",
      "\u001b[1;31mKeyError\u001b[0m                                  Traceback (most recent call last)",
      "Cell \u001b[1;32mIn[15], line 8\u001b[0m\n\u001b[0;32m      6\u001b[0m \u001b[38;5;28mprint\u001b[39m(preis\u001b[38;5;241m.\u001b[39mbetrag, preis\u001b[38;5;241m.\u001b[39mwaehrung)\n\u001b[0;32m      7\u001b[0m \u001b[38;5;28mprint\u001b[39m(\u001b[38;5;28mtype\u001b[39m(preis\u001b[38;5;241m.\u001b[39mbetrag))\n\u001b[1;32m----> 8\u001b[0m preis\u001b[38;5;241m.\u001b[39mgetEuro()\n",
      "Cell \u001b[1;32mIn[3], line 14\u001b[0m, in \u001b[0;36mGeld.getEuro\u001b[1;34m(self)\u001b[0m\n\u001b[0;32m     13\u001b[0m \u001b[38;5;28;01mdef\u001b[39;00m \u001b[38;5;21mgetEuro\u001b[39m(\u001b[38;5;28mself\u001b[39m):\n\u001b[1;32m---> 14\u001b[0m     \u001b[38;5;28;01mreturn\u001b[39;00m \u001b[38;5;28mself\u001b[39m\u001b[38;5;241m.\u001b[39mbetrag\u001b[38;5;241m*\u001b[39m\u001b[38;5;28mself\u001b[39m\u001b[38;5;241m.\u001b[39mwechselkurs[\u001b[38;5;28mself\u001b[39m\u001b[38;5;241m.\u001b[39mwaehrung]\n",
      "\u001b[1;31mKeyError\u001b[0m: 'DM'"
     ]
    }
   ],
   "source": [
    "# Negative example of public attributes\n",
    "preis = Geld(\"EUR\", 100)\n",
    "preis.waehrung = \"DM\"\n",
    "preis.betrag = 200\n",
    "# TODO what problems are occurring?\n",
    "print(preis.betrag, preis.waehrung)\n",
    "print(type(preis.betrag))\n",
    "preis.getEuro()"
   ]
  },
  {
   "cell_type": "markdown",
   "metadata": {
    "slideshow": {
     "slide_type": "subslide"
    }
   },
   "source": [
    "#### 8.3.2 Private Attribute"
   ]
  },
  {
   "cell_type": "markdown",
   "metadata": {
    "slideshow": {
     "slide_type": "fragment"
    }
   },
   "source": [
    "To protect attributes from public access, they should be defined with one or two underscores. This shields the attribute and calls it *private*. Python differentiates between weak (*protected*) and strong (the real *private*) privacy:\n",
    "\n",
    "- Strongly private attributes are written e.g. `__private`. It is only possible to access such an attribute within the class definition.\n",
    "- Weakly private attributes are written e.g. `_private`. A `from ... import *` statement does not include the name in the namespace and reduces the risk of a name collision, but you can easily access the attribute if you know its name."
   ]
  },
  {
   "cell_type": "code",
   "execution_count": 16,
   "metadata": {
    "slideshow": {
     "slide_type": "fragment"
    }
   },
   "outputs": [
    {
     "name": "stdout",
     "output_type": "stream",
     "text": [
      "oeffentlich\n",
      "schwach privat\n"
     ]
    },
    {
     "ename": "AttributeError",
     "evalue": "'C' object has no attribute '__privat'",
     "output_type": "error",
     "traceback": [
      "\u001b[1;31m---------------------------------------------------------------------------\u001b[0m",
      "\u001b[1;31mAttributeError\u001b[0m                            Traceback (most recent call last)",
      "Cell \u001b[1;32mIn[16], line 11\u001b[0m\n\u001b[0;32m      9\u001b[0m \u001b[38;5;28mprint\u001b[39m(c\u001b[38;5;241m.\u001b[39mprivat)\n\u001b[0;32m     10\u001b[0m \u001b[38;5;28mprint\u001b[39m(c\u001b[38;5;241m.\u001b[39m_privat)\n\u001b[1;32m---> 11\u001b[0m \u001b[38;5;28mprint\u001b[39m(c\u001b[38;5;241m.\u001b[39m__privat)\n",
      "\u001b[1;31mAttributeError\u001b[0m: 'C' object has no attribute '__privat'"
     ]
    }
   ],
   "source": [
    "# TODO example of various attribute accesses\n",
    "class C:\n",
    "    def __init__(self):\n",
    "        self.__privat = \"privat\"\n",
    "        self._privat = \"schwach privat\"\n",
    "        self.privat = \"oeffentlich\"\n",
    "        \n",
    "c = C()\n",
    "print(c.privat)\n",
    "print(c._privat)\n",
    "print(c.__privat)"
   ]
  },
  {
   "cell_type": "markdown",
   "metadata": {
    "slideshow": {
     "slide_type": "fragment"
    }
   },
   "source": [
    "However, even *strongly private* attributes do not offer real protection from the outside, because they are actually just hidden. You can also make these attributes visible by prefixing them with the class name with an underscore (`_class__attribute`):"
   ]
  },
  {
   "cell_type": "code",
   "execution_count": 17,
   "metadata": {
    "slideshow": {
     "slide_type": "fragment"
    }
   },
   "outputs": [
    {
     "name": "stdout",
     "output_type": "stream",
     "text": [
      "privat\n"
     ]
    }
   ],
   "source": [
    "# TODO reveal private attributes\n",
    "print(c._C__privat)"
   ]
  },
  {
   "cell_type": "markdown",
   "metadata": {
    "slideshow": {
     "slide_type": "fragment"
    }
   },
   "source": [
    "So you can see that Python (especially in contrast to other programming languages) is not very *restrictive*. In general, *restrictiveness* is very frowned upon in the Python community because everyone trusts their own reason and that of others. Everything else is *unpythonic*.\n",
    "\n",
    "> *We are all consenting adults here* - Guido Van Rossum"
   ]
  },
  {
   "cell_type": "markdown",
   "metadata": {
    "slideshow": {
     "slide_type": "subslide"
    }
   },
   "source": [
    "#### 8.3.3 Extending the definition of the `Money` class"
   ]
  },
  {
   "cell_type": "code",
   "execution_count": 3,
   "metadata": {
    "slideshow": {
     "slide_type": "fragment"
    }
   },
   "outputs": [],
   "source": [
    "# Rename TODO attributes\n",
    "class Geld:\n",
    "# Class attribute\n",
    "    __wechselkurs = {'USD': 0.84998,\n",
    "                   'GBP': 1.39480,\n",
    "                   'EUR': 1.0,\n",
    "                   'JPY': 0.007168}\n",
    "# Constructor method\n",
    "    def __init__(self, waehrung, betrag):\n",
    "        self.__waehrung = waehrung\n",
    "        self.__betrag = float(betrag)\n",
    "        \n",
    "    def getEuro(self):\n",
    "        return self.__betrag*self.__wechselkurs[self.__waehrung]\n",
    "    \n",
    "    def add(self, geld):\n",
    "        summe_in_Euro = self.getEuro()+geld.getEuro()\n",
    "        summe = Geld(self.__waehrung, \n",
    "                     summe_in_Euro/self.__wechselkurs[self.__waehrung])\n",
    "        return summe\n",
    "\n",
    "    \n",
    "# TODO extension of methods\n",
    "    def getWaehrung(self):\n",
    "        return self.__waehrung\n",
    "    \n",
    "    def getBetrag(self):\n",
    "        return self.__betrag\n",
    "    \n",
    "    def setBetrag(self, neuerBetrag):\n",
    "        self.__betrag = float(neuerBetrag)\n",
    "    \n",
    "    def setWaehrung(self, neueWaehrung):\n",
    "        if neueWaehrung in self.__wechselkurs.keys():\n",
    "            alt = self.__wechselkurs[self.__waehrung]\n",
    "            neu = self.__wechselkurs[neueWaehrung]\n",
    "            self.__betrag = alt/neu * self.__betrag\n",
    "            self.__waehrung = neueWaehrung\n",
    "    \n",
    "# ALL zu 8.3.4 Properties\n",
    "    betrag = property(getBetrag, setBetrag)\n",
    "    waehrung = property(getWaehrung, setWaehrung)\n",
    "   "
   ]
  },
  {
   "cell_type": "code",
   "execution_count": 24,
   "metadata": {
    "slideshow": {
     "slide_type": "fragment"
    }
   },
   "outputs": [
    {
     "name": "stdout",
     "output_type": "stream",
     "text": [
      "849.9799999999999 EUR\n"
     ]
    }
   ],
   "source": [
    "# Creating instances of the extended class\n",
    "preis = Geld(\"USD\", 1000)\n",
    "preis.setWaehrung(\"EUR\")\n",
    "print(preis.getBetrag(), preis.getWaehrung())"
   ]
  },
  {
   "cell_type": "markdown",
   "metadata": {
    "slideshow": {
     "slide_type": "subslide"
    }
   },
   "source": [
    "#### 8.3.4 Properties"
   ]
  },
  {
   "cell_type": "markdown",
   "metadata": {
    "slideshow": {
     "slide_type": "fragment"
    }
   },
   "source": [
    "In Python, you can define private attributes so that they can be accessed *apparently directly* from the outside, but access is still controlled by special methods defined in the class. To do this, you define the so-called *properties* at the end of the class definition using the `property()` function. As arguments to the `property()` method, a *get* and optionally a *set* method are passed, which enables read and/or write access to the private attribute."
   ]
  },
  {
   "cell_type": "markdown",
   "metadata": {
    "slideshow": {
     "slide_type": "fragment"
    }
   },
   "source": [
    "The syntax is:\n",
    "\n",
    "```python\n",
    "property(fget=None, fset=None, fdel=None, doc=None)\n",
    "```\n",
    "where:\n",
    "- `fget`: Function that returns the value of the attribute\n",
    "- `fset`: Function that allows changing the value of the attribute\n",
    "- `fdel`: Function that describes the deletion process\n",
    "- `doc`: Docstring as `String`"
   ]
  },
  {
   "cell_type": "code",
   "execution_count": 5,
   "metadata": {
    "slideshow": {
     "slide_type": "fragment"
    }
   },
   "outputs": [
    {
     "name": "stdout",
     "output_type": "stream",
     "text": [
      "1176.4982705475425 USD\n",
      "1176.4982705475425\n"
     ]
    }
   ],
   "source": [
    "# Creating instances of the class with properties\n",
    "preis = Geld(\"EUR\", 1000)\n",
    "preis.waehrung = \"USD\"\n",
    "print(preis.betrag, preis.waehrung)\n",
    "print(preis._Geld__betrag)"
   ]
  },
  {
   "cell_type": "markdown",
   "metadata": {
    "slideshow": {
     "slide_type": "fragment"
    }
   },
   "source": [
    "For example, if only the first argument (`fget`) is specified when calling the `property()` method, no writing method is specified. When attempting write access, an `AttributError` occurs, as the following example shows:"
   ]
  },
  {
   "cell_type": "code",
   "execution_count": 28,
   "metadata": {
    "slideshow": {
     "slide_type": "fragment"
    }
   },
   "outputs": [
    {
     "name": "stdout",
     "output_type": "stream",
     "text": [
      "100\n"
     ]
    },
    {
     "ename": "AttributeError",
     "evalue": "property 'x' of 'Const' object has no setter",
     "output_type": "error",
     "traceback": [
      "\u001b[1;31m---------------------------------------------------------------------------\u001b[0m",
      "\u001b[1;31mAttributeError\u001b[0m                            Traceback (most recent call last)",
      "Cell \u001b[1;32mIn[28], line 12\u001b[0m\n\u001b[0;32m     10\u001b[0m k \u001b[38;5;241m=\u001b[39m Const(\u001b[38;5;241m100\u001b[39m)\n\u001b[0;32m     11\u001b[0m \u001b[38;5;28mprint\u001b[39m(k\u001b[38;5;241m.\u001b[39mx)\n\u001b[1;32m---> 12\u001b[0m k\u001b[38;5;241m.\u001b[39mx \u001b[38;5;241m=\u001b[39m \u001b[38;5;241m101\u001b[39m\n",
      "\u001b[1;31mAttributeError\u001b[0m: property 'x' of 'Const' object has no setter"
     ]
    }
   ],
   "source": [
    "class Const:\n",
    "    def __init__(self, x):\n",
    "        self.__x = x\n",
    "\n",
    "    def getX(self):\n",
    "        return self.__x\n",
    "    \n",
    "    x = property(getX)\n",
    "\n",
    "k = Const(100)\n",
    "print(k.x)\n",
    "k.x = 101"
   ]
  },
  {
   "cell_type": "markdown",
   "metadata": {
    "slideshow": {
     "slide_type": "subslide"
    }
   },
   "source": [
    "#### 8.3.5 Dynamic creation of attributes"
   ]
  },
  {
   "cell_type": "markdown",
   "metadata": {
    "slideshow": {
     "slide_type": "fragment"
    }
   },
   "source": [
    "In Python it is possible to create new attributes *dynamically* while the program is running:"
   ]
  },
  {
   "cell_type": "code",
   "execution_count": 32,
   "metadata": {
    "slideshow": {
     "slide_type": "fragment"
    }
   },
   "outputs": [
    {
     "name": "stdout",
     "output_type": "stream",
     "text": [
      "2 Wasserstoff\n"
     ]
    }
   ],
   "source": [
    "# TODO empty class with dynamically created attributes\n",
    "class Leer:\n",
    "    pass\n",
    "\n",
    "leer = Leer()\n",
    "leer.atomzahl = 2\n",
    "leer.element = \"Wasserstoff\"\n",
    "print(leer.atomzahl, leer.element)"
   ]
  },
  {
   "cell_type": "markdown",
   "metadata": {
    "slideshow": {
     "slide_type": "fragment"
    }
   },
   "source": [
    "Note: This feature is a potential source of errors! If the attribute name is accidentally misspelled during write access to a public attribute, there is **no** error message. Instead, a new attribute is simply added."
   ]
  },
  {
   "cell_type": "markdown",
   "metadata": {
    "slideshow": {
     "slide_type": "slide"
    }
   },
   "source": [
    "### 8.4 Methods"
   ]
  },
  {
   "cell_type": "markdown",
   "metadata": {
    "slideshow": {
     "slide_type": "fragment"
    }
   },
   "source": [
    "The syntax for defining methods is very similar to that for defining functions:\n",
    "\n",
    "```python\n",
    "def method (self, arg1, arg2, ...)\n",
    "```\n",
    "\n",
    "The difference to functions lies in the following points:\n",
    "\n",
    "- Methods are **not** independent objects, but rather an integral part of a class\n",
    "- In the parameter list of the method definition, the first parameter **always** denotes the instance. The name is arbitrary, but usually `self` is used\n",
    "- When calling a method, the name of the instance must always be placed in front of the method name, followed by a period. Syntax: `instance.method(arg1, ...)`. The method call is one shorter because the first argument `self` is omitted."
   ]
  },
  {
   "cell_type": "markdown",
   "metadata": {
    "slideshow": {
     "slide_type": "fragment"
    }
   },
   "source": [
    "For access operations on (private) attributes, so-called *setter* and *getter* methods are used. In UML class symbols, these elementary management methods are usually omitted"
   ]
  },
  {
   "cell_type": "markdown",
   "metadata": {
    "slideshow": {
     "slide_type": "fragment"
    }
   },
   "source": [
    "Just like with attributes, there are also private and public methods. The same syntax applies to this as for the attributes, e.g. `__machPrivateDinge()` would be a strongly private method, `_machDasnichtMitEvery()` would be a weakly private method. Without an underscore, the names indicate public methods."
   ]
  },
  {
   "cell_type": "markdown",
   "metadata": {
    "slideshow": {
     "slide_type": "subslide"
    }
   },
   "source": [
    "#### 8.4.1 Polymorphism - Operator overloading"
   ]
  },
  {
   "cell_type": "markdown",
   "metadata": {
    "slideshow": {
     "slide_type": "fragment"
    }
   },
   "source": [
    "Another important concept of OOP is *polymorphism* (or *polymorphism*). This makes it possible to use the same name for similar operations that are applied to objects of different classes. This is also referred to as overloading an operation."
   ]
  },
  {
   "cell_type": "markdown",
   "metadata": {
    "slideshow": {
     "slide_type": "fragment"
    }
   },
   "source": [
    "In Python, operators and standard functions can be overloaded by defining certain methods with given names in a new class. Some of these special (*magic/Dunders*) methods are listed in the following tables:\n",
    "\n",
    "**Initialization**:\n",
    "\n",
    "|Method|Explanation|\n",
    "|:----|:----|\n",
    "|`__init__(self, [,...])`| Initializes the instance |"
   ]
  },
  {
   "cell_type": "markdown",
   "metadata": {
    "slideshow": {
     "slide_type": "fragment"
    }
   },
   "source": [
    "**String representation**:\n",
    "\n",
    "|Method|Explanation|\n",
    "|:----|:----|\n",
    "|`__str__(self)`| Returns a `String` representing the instance |\n",
    "|`__repr__(self)`| Returns an exact `String` representation of an instance from which an object can be created|"
   ]
  },
  {
   "cell_type": "code",
   "execution_count": 1,
   "metadata": {
    "slideshow": {
     "slide_type": "fragment"
    }
   },
   "outputs": [
    {
     "name": "stdout",
     "output_type": "stream",
     "text": [
      "print: 2024-04-25 07:42:58.078521 <class 'datetime.datetime'>\n",
      "str: 2024-04-25 07:42:58.078521 <class 'str'>\n",
      "repr: datetime.datetime(2024, 4, 25, 7, 42, 58, 78521) <class 'str'>\n",
      "neu: 2024-04-25 07:42:58.078521 <class 'datetime.datetime'>\n"
     ]
    }
   ],
   "source": [
    "# Example to distinguish between str and repr\n",
    "import datetime\n",
    "jetzt = datetime.datetime.now()\n",
    "print(\"print:\", jetzt, type(jetzt))\n",
    "print(\"str:\", str(jetzt), type(str(jetzt)))\n",
    "print(\"repr:\",repr(jetzt), type(repr(jetzt)))\n",
    "neu = eval(repr(jetzt)) # evaluiert String-Repräsentation\n",
    "print(\"neu:\", neu, type(neu))"
   ]
  },
  {
   "cell_type": "markdown",
   "metadata": {
    "slideshow": {
     "slide_type": "fragment"
    }
   },
   "source": [
    "**Comparison operators**:\n",
    "\n",
    "|Method|Explanation|\n",
    "|:----|:----|\n",
    "| `__eq__(self, other)` | `==` |\n",
    "|`__ge__(self, other)`| `>=` |\n",
    "|`__gt__(self, other)`| `>` |\n",
    "|`__le__(self, other)`| `<=` |\n",
    "|`__lt__(self, other)`| `<` |\n",
    "|`__ne__(self, other)`| `!=` |\n",
    "|`__bool__(self)`| is the object considered `True` or `False`? |"
   ]
  },
  {
   "cell_type": "markdown",
   "metadata": {
    "slideshow": {
     "slide_type": "fragment"
    }
   },
   "source": [
    "**Arithmetische Operatoren**:\n",
    "\n",
    "|Methode|Erläuterung|\n",
    "|:----|:----|\n",
    "| `__add__(self, other)`, `__radd__(self, other)`|  `+`  |\n",
    "|`__iadd__(self, other)` |`+=`|\n",
    "|`__truediv__(self, other)`,`__rtruediv__(self, other)`|`/`|\n",
    "|`__itruediv__(self, other)` |`/=`|\n",
    "|`__floordiv__(self, other)`,`__rfloordiv__(self, other)`| `//`|\n",
    "|`__ifloordiv__(self, other)` |`//=`|\n",
    "|`__mul__(self, other)`, `__rmul__(self, other)`| `*`|\n",
    "|`__imul__(self, other)`| `*=`|\n",
    "|`__sub__(self, other)`, `__rsub__(self, other)`| `-`|\n",
    "|`__isub__(self, other)` |`-=`|\n",
    "|`__mod__(self, other)`, `__rmod__(self, other)`| `%`|\n",
    "|`__imod__(self, other)` |`%=`|\n",
    "|`__pow__(self, other)`, `__rpow__(self, other)`| `**`|\n",
    "|`__ipow__(self, other)` |`**=`|"
   ]
  },
  {
   "cell_type": "markdown",
   "metadata": {
    "slideshow": {
     "slide_type": "fragment"
    }
   },
   "source": [
    "**Biteweise Operationen**:\n",
    "\n",
    "|Methode|Erläuterung|\n",
    "|:----|:----|\n",
    "|`__lshift__(self, other)` |`<<`|\n",
    "|`__ilshift__(self, other)`| `<<=`|\n",
    "|`__rshift__(self, other)` |`>>`|\n",
    "|`__irshift__(self, other)` |`>>=`|\n",
    "|`__and__(self, other)` |`&`|\n",
    "|`__iand__(self, other)`| `&=`|\n",
    "|`__xor__(self, other)`| `^`|\n",
    "|`__ixor__(self, other)` |`^=`|\n",
    "|`__or__(self, other)`| `\\|` |\n",
    "|`__ior__(self, other)` |`\\|=`|"
   ]
  },
  {
   "cell_type": "markdown",
   "metadata": {
    "slideshow": {
     "slide_type": "fragment"
    }
   },
   "source": [
    "**Other operations**:\n",
    "\n",
    "|Method|Explanation|\n",
    "|:----|:----|\n",
    "|`__dict__` | Returns the dictionary that stores the attributes.|\n",
    "|`__slots__ `| List that defines the attributes of a class|"
   ]
  },
  {
   "cell_type": "code",
   "execution_count": 6,
   "metadata": {
    "slideshow": {
     "slide_type": "fragment"
    }
   },
   "outputs": [
    {
     "name": "stdout",
     "output_type": "stream",
     "text": [
      "1000.00 EUR\n",
      "\n",
      "<__main__.Geld object at 0x00000240137D0890>\n"
     ]
    }
   ],
   "source": [
    "# TODO Example Overloading the __str__ method\n",
    "class Konto(Geld):\n",
    "    \n",
    "    def __str__(self):\n",
    "        reVal = f\"{self.betrag :.2f} \"\n",
    "        reVal += self.waehrung\n",
    "        reVal += \"\\n\"\n",
    "        return reVal\n",
    "\n",
    "konto = Konto(\"EUR\", 1000)\n",
    "print(konto)\n",
    "print(preis)"
   ]
  }
 ],
 "metadata": {
  "kernelspec": {
   "display_name": "Python 3 (ipykernel)",
   "language": "python",
   "name": "python3"
  },
  "language_info": {
   "codemirror_mode": {
    "name": "ipython",
    "version": 3
   },
   "file_extension": ".py",
   "mimetype": "text/x-python",
   "name": "python",
   "nbconvert_exporter": "python",
   "pygments_lexer": "ipython3",
   "version": "3.11.7"
  },
  "varInspector": {
   "cols": {
    "lenName": 16,
    "lenType": 16,
    "lenVar": 40
   },
   "kernels_config": {
    "python": {
     "delete_cmd_postfix": "",
     "delete_cmd_prefix": "del ",
     "library": "var_list.py",
     "varRefreshCmd": "print(var_dic_list())"
    },
    "r": {
     "delete_cmd_postfix": ") ",
     "delete_cmd_prefix": "rm(",
     "library": "var_list.r",
     "varRefreshCmd": "cat(var_dic_list()) "
    }
   },
   "types_to_exclude": [
    "module",
    "function",
    "builtin_function_or_method",
    "instance",
    "_Feature"
   ],
   "window_display": false
  }
 },
 "nbformat": 4,
 "nbformat_minor": 2
}
