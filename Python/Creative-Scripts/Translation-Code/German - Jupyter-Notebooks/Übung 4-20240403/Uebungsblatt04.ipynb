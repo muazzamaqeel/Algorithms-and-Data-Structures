{
 "cells": [
  {
   "cell_type": "markdown",
   "metadata": {},
   "source": [
    "# Übungsblatt 4\n",
    "\n",
    "## Aufgabe 1\n",
    "\n",
    "Implementieren Sie, gestützt auf *Dictionaries*, ein Programm, das einen eingegebenen Ziffernstring in Morsezeichen übersetzt.\n",
    "\n",
    "Hinweis: Die Morsezeichen der Ziffern lauten: \\\n",
    "1 = \\*---- &emsp; 2 = \\*\\*--- &emsp; 3 = \\*\\*\\*-- &emsp; 4 = \\*\\*\\*\\*- &emsp; 5 = \\*\\*\\*\\*\\* \\\n",
    "6 = -\\*\\*\\*\\* &emsp; 7 = --\\*\\*\\* &emsp; 8 = ---\\*\\* &emsp; 9 = ----\\* &emsp; 0 = -----"
   ]
  },
  {
   "cell_type": "code",
   "execution_count": 1,
   "metadata": {},
   "outputs": [],
   "source": [
    "# TODO Aufgabe 1\n"
   ]
  },
  {
   "cell_type": "markdown",
   "metadata": {},
   "source": [
    "## Aufgabe 2\n",
    "\n",
    "Schreiben Sie einen Generator, der die Fibonacci-Zahlen generiert. Zur Erinnerung: die $n$-te Fibonacci-Zahl errechnet sich nach: \n",
    "\n",
    "$F(n) = F(n-1) + F(n-2)$ mit $F(0) = 0$ und $F(1) = 1$\n",
    "\n",
    "Beispiel: $F(50) = 12\\, 586\\,269\\,025$"
   ]
  },
  {
   "cell_type": "code",
   "execution_count": 2,
   "metadata": {},
   "outputs": [],
   "source": [
    "# TODO Aufgabe 2\n"
   ]
  },
  {
   "cell_type": "markdown",
   "metadata": {},
   "source": [
    "## Aufgabe 3\n",
    "\n",
    "Schreiben Sie einen Generator `frange(...)` analog zu `range(...)`, der jedoch mit float-Zahlen funktioniert. \n",
    "\n",
    "Bei folgenden Aufrufen:\n",
    "```python\n",
    "for i in frange(5.6):\n",
    "    print(i, end=\", \")\n",
    "print()\n",
    "for i in frange(0.3, 5.6):\n",
    "    print(i, end=\", \")\n",
    "print()\n",
    "for i in frange(0.3, 5.6, 0.8):\n",
    "    print(i, end=\", \")\n",
    "print()\n",
    "for i in frange(3.5, 1.2, -0.7):\n",
    "    print(i, end = \", \")\n",
    "```\n",
    "sollte die Ausgabe so aussehen:\n",
    "\n",
    "```python\n",
    "0, 1, 2, 3, 4, 5, \n",
    "0.3, 1.3, 2.3, 3.3, 4.3, 5.3, \n",
    "0.3, 1.1, 1.9000000000000001, 2.7, 3.5, 4.3, 5.1, \n",
    "3.5, 2.8, 2.0999999999999996, 1.3999999999999997, \n",
    "```"
   ]
  },
  {
   "cell_type": "code",
   "execution_count": null,
   "metadata": {},
   "outputs": [],
   "source": [
    "# TODO Aufgabe 3\n",
    "\n",
    "\n",
    "\n",
    "for i in frange(5.6):\n",
    "    print(i, end=\", \")\n",
    "print()\n",
    "for i in frange(0.3, 5.6):\n",
    "    print(i, end=\", \")\n",
    "print()\n",
    "for i in frange(0.3, 5.6, 0.8):\n",
    "    print(i, end=\", \")\n",
    "print()\n",
    "for i in frange(3.5, 1.2, -0.7):\n",
    "    print(i, end = \", \")\n"
   ]
  },
  {
   "cell_type": "markdown",
   "metadata": {},
   "source": [
    "## Aufgabe 4\n",
    "\n",
    "In einem Tanzkurs befinden sich folgende Personengruppen:\n",
    "\n",
    "Vier Damen (\"ABCD\"), vier Herren (\"abcd\") und ein Tanzlehrer (\"X\").\n",
    "\n",
    "Berechnen Sie mithilfe von Mengen-Objekten und Tupeln die Menge aller denkbaren Tanzpaare. Ein Tanzpaar besteht aus einer Dame und einem Herrn. Tanzlehrer können sowohl die Rolle einer Dame als auch die Rolle eines Herrn übernehmen. *Tipp: Generatorausdrücke eignen sich zur Beschreibung einer Menge.*\n",
    "\n",
    "Beispielausgabe:\n",
    "\n",
    "```python\n",
    "('X', 'c') ('C', 'X') ('c', 'B') ('X', 'D') ('X', 'B') ('d', 'D') ('C', 'd') ('C', 'c') ('a', 'B') ('A', 'd') ('X', 'a') ('b', 'B') ('a', 'D') ('c', 'D') ('C', 'a') ('X', 'b') ('b', 'D') ('C', 'b') ('A', 'c') ('A', 'X') ('X', 'd') ('A', 'a') ('d', 'B') ('A', 'b')\n",
    "```"
   ]
  },
  {
   "cell_type": "code",
   "execution_count": 4,
   "metadata": {},
   "outputs": [],
   "source": [
    "# TODO Aufgabe 4\n"
   ]
  },
  {
   "cell_type": "markdown",
   "metadata": {},
   "source": [
    "## Aufgabe 5\n",
    "\n",
    "Schreiben Sie ein Programm, das das Mischen der 32 Karten eines Skatspiels simuliert. Jede Karte wird durch ein Tupel der Form `(farbe, wert)` dargestellt. Farben sind: Kreuz, Pik, Herz und Karo. Werte sind: Ass, König, Dame, Bube, 10, 9, 8, 7.\n",
    "\n",
    "In dem Programm wird zunächst mithilfe eines geeigneten Listendisplays (z.B. list comprehension) eine Liste mit den 32 Karten-Tupeln erstellt. Durch wiederholtes (zufällig zwischen 20 und 40 mal) paarweises Vertauschen zweier zufällig ausgewählter Listenelemente wird gemischt.\n",
    "\n",
    "Nutzen Sie für die Erzeugung von Zufallszahlen die Methode `randint(start, end)` aus dem Modul `random`. Diese erzeugt eine zufällige Integer `n`, wobei gilt: $start \\leq n \\leq end $. "
   ]
  },
  {
   "cell_type": "code",
   "execution_count": 5,
   "metadata": {},
   "outputs": [],
   "source": [
    "# TODO Aufgabe 5\n",
    "import random\n"
   ]
  },
  {
   "cell_type": "markdown",
   "metadata": {},
   "source": [
    "## Aufgabe 6\n",
    "\n",
    "In dieser Aufgabe beschäftigen Sie sich nochmals mit dem Datentyp `dictionary`. Zur Übung sollen Sie Daten, die in einer Liste abgelegt sind, in ein ein Dictionary umwandeln.\n",
    "\n",
    "### Aufgabe 6.1\n",
    "\n",
    "Die gegebene Liste `actors` besteht aus jeweils fünf Unterlisten mit jeweils fünf Tupeln unterschiedlicher Länge. Jedes dieser Tupel enthält Einträge vom Typ `String`. \n",
    "\n",
    "Wandeln Sie die Liste in ein Dictionary folgender Form um:\n",
    "\n",
    "```python\n",
    "{0: {'salutation': 'Mr.',\n",
    "  'givenName': 'Peter',\n",
    "  'familyName': 'Dinklage',\n",
    "  'birthday': '06/11/1969',\n",
    "  'GoT': ['Tyrion', 'Lannister']},\n",
    " 1: {'salutation': 'Mrs.',\n",
    "  'givenName': 'Michelle',\n",
    "   ... }\n",
    "\n",
    "...}\n",
    "```\n",
    "\n"
   ]
  },
  {
   "cell_type": "code",
   "execution_count": 6,
   "metadata": {},
   "outputs": [],
   "source": [
    "actors = [[(\"salutation\", \"Mr.\"), (\"givenName\", \"Peter\"),\n",
    "           (\"familyName\", \"Dinklage\"), (\"birthday\", \"06/11/1969\"),\n",
    "           (\"GoT\", \"Lannister\", \"Tyrion\")],\n",
    "          [(\"salutation\", \"Mrs.\"), (\"givenName\", \"Michelle\"), \n",
    "           (\"familyName\", \"Fairley\"), (\"birthday\", \"01/17/1964\"),\n",
    "           (\"GoT\", \"Stark\", \"Catelyn\")],\n",
    "          [(\"salutation\", \"Mr.\"), (\"givenName\", \"Nicolaj\"),\n",
    "           (\"familyName\", \"Coster-Waldau\"), (\"birthday\", \"07/27/1970\"),\n",
    "           (\"GoT\", \"Lannister\", \"Jamie\")],\n",
    "          [(\"salutation\", \"Ms.\"), (\"givenName\", \"Maisie\"),\n",
    "           (\"familyName\", \"Williams\"), (\"birthday\", \"04/17/1997\"),\n",
    "           (\"GoT\", \"Stark\", \"Arya\")],\n",
    "          [(\"salutation\", \"Mrs.\"), (\"givenName\", \"Emilia\"),\n",
    "           (\"familyName\", \"Clarke\"), (\"birthday\", \"05/01/1987\"),\n",
    "           (\"GoT\", \"Targaryen\", \"Daenerys\")]]\n",
    "\n",
    "# TODO Aufgabe 6.1)\n"
   ]
  },
  {
   "cell_type": "markdown",
   "metadata": {},
   "source": [
    "### Aufgabe 6.2 (für Freaks)\n",
    "\n",
    "Erstellen Sie nun durch geschickte Umformung ein neues Dictionary. Bei diesem dient der Familienname des gespielten Charakteres als Schlüssel des äußeren Dictionary. Der Wert zu jedem Schlüssel ist wiederum ein Dictionary. In diesem (inneren) Dictionary werden nun die Vornamen der Charaktere als Schlüssel verwendet. Die Werte in den inneren  Dictionaries sind dann die Daten des Schauspielers des jeweiligen Charakters. Das resultierende Dictionary hat also die folgende beispielhafte Struktur:\n",
    "\n",
    "```python\n",
    "{'Lannister': { 'Tyrion': {'salutation': 'Mr.',\n",
    "                        'givenName': 'Peter',\n",
    "                        'familyName': 'Dinklage',\n",
    "                        'birthday': '06/11/1969'},\n",
    "                'Jamie': {'salutation': 'Mr.',\n",
    "                        'givenName': 'Nicolaj',\n",
    "                        'familyName': 'Coster-Waldau',\n",
    "                        'birthday': '07/27/1970'}},\n",
    " 'Stark': {     'Catelyn': {'salutation': 'Mrs.',\n",
    "                            ...}}\n",
    "\n",
    "    ...}\n",
    "```\n",
    "Geben Sie außerdem aus, wie viele Mitglieder die fiktive Familie \"Stark\" nach Ihrem Dictionary hat:\n",
    "\n",
    "`Die Familie Stark hat laut diesem Datensatz 2 Mitglieder`\n"
   ]
  },
  {
   "cell_type": "code",
   "execution_count": 7,
   "metadata": {},
   "outputs": [],
   "source": [
    "# TODO Aufgabe 6.2)\n",
    "# Zelle mit actors-Liste muss vorher ausgeführt worden sein, damit diese im Workspace vorhanden ist!\n",
    "\n"
   ]
  }
 ],
 "metadata": {
  "kernelspec": {
   "display_name": "base",
   "language": "python",
   "name": "python3"
  },
  "language_info": {
   "codemirror_mode": {
    "name": "ipython",
    "version": 3
   },
   "file_extension": ".py",
   "mimetype": "text/x-python",
   "name": "python",
   "nbconvert_exporter": "python",
   "pygments_lexer": "ipython3",
   "version": "3.11.7"
  }
 },
 "nbformat": 4,
 "nbformat_minor": 2
}
