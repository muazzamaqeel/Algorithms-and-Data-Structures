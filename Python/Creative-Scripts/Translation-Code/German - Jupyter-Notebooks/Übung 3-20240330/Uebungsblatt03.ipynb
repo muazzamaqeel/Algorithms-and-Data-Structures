{
 "cells": [
  {
   "cell_type": "markdown",
   "metadata": {},
   "source": [
    "# Übungsblatt 03\n",
    "## Aufgabe 1 \n",
    "\n"
   ]
  },
  {
   "cell_type": "markdown",
   "metadata": {},
   "source": [
    "Gegeben ist eine Liste:\n",
    "\n",
    "`punkte = [[40,60],[50,60],[60,60],[70,60],[80,60],[90,60],[100,60],[110,60],[120,60]]`\n",
    "\n",
    "Die Unterlisten enthalten zwei Zahlen, welche die Koordinaten von Punkten darstellen. Es soll ein Programm erstellt werden, das entscheidet, ob diese Punkte innerhalb eines Kreises liegen. Der Kreis hat die Mittelpunktkoordinate $xk$ und\n",
    "$yk$. Der Durchmesser des Kreises  wird in $dk$ gespeichert. Schreiben\n",
    "Sie das Programm in allgemeingültiger Form, sodass beliebige Kreise betrachtet werden können. \n",
    "\n",
    "Beispielausgabe:\n",
    "\n",
    "```python\n",
    "Geben Sie xk an: 80\n",
    "Geben Sie yk an: 50\n",
    "Geben Sie den Kreisdurchmesser dk an: 60\n",
    "[[40, 60, False], [50, 60, False], [60, 60, True], [70, 60, True],[80, 60, True], [90, 60, True], [100, 60, True], [110, 60, False],[120, 60, False]]\n",
    "```"
   ]
  },
  {
   "cell_type": "code",
   "execution_count": 14,
   "metadata": {},
   "outputs": [],
   "source": [
    "# TODO Aufgabe 1)\n",
    "punkte = [[40,60],[50,60],[60,60],[70,60],[80,60],[90,60],[100,60],[110,60],[120,60]]\n"
   ]
  },
  {
   "cell_type": "markdown",
   "metadata": {},
   "source": [
    "## Aufgabe 2.1\n",
    "\n",
    "Schreiben Sie ein Programm, dass die Wahrscheinlichkeit dafür berechnet, dass beim Wurf zweier Würfel die Summe der Augenzahlen $7$ entspricht. Lösen Sie das Problem mit *list comprehension*. Tipp: nutzen Sie die *built-in function* `sum(iterable)` und zur Ausgabe `f-Strings`\n",
    "\n",
    "Ausgabe: `Die Wahrscheinlichkeit, die Augensumme 7 zu würfeln beträgt: 16.67 %`"
   ]
  },
  {
   "cell_type": "code",
   "execution_count": 15,
   "metadata": {},
   "outputs": [],
   "source": [
    "# TODO Aufgabe 2.1)\n"
   ]
  },
  {
   "cell_type": "markdown",
   "metadata": {},
   "source": [
    "## Aufgabe 2.2\n",
    "\n",
    "Erweitern Sie Ihr Programm um eine Funktion, die obige Wahrscheinlichkeit für eine **beliebige** Summe berechnet und ausgibt. Geben Sie anschließend alle Summen mit ihren Wahrscheinlichkeiten aus."
   ]
  },
  {
   "cell_type": "code",
   "execution_count": 16,
   "metadata": {},
   "outputs": [],
   "source": [
    "# TODO Aufgabe 2.2)\n"
   ]
  },
  {
   "cell_type": "markdown",
   "metadata": {},
   "source": [
    "## Aufgabe 3\n",
    "\n",
    "In einer Buchhandlung findet sich in einem Abrechnungsprogramm in Python eine\n",
    "Liste mit Unterlisten mit folgendem Aufbau:\n",
    "\n",
    "|  Bestellnummer | Buchtitel und Autor   | Anzahl   | Einzelpreis   |\n",
    "| :----  |:-----   |:----:   |-----:   |\n",
    "|  34587 |  Learning Python, Mark Lutz | 4   |40,95 €  |\n",
    "| 98762  | Programming Python, Mark Lutz   |5   |56,80 €   |\n",
    "| 77226  | Head First Python, Paul Barry   |3   |32,95 €   |\n",
    "\n",
    "Schreiben Sie ein Programm unter Benutzung von lambda und map, das als Ergebnis eine Liste mit Zweier-Tupeln liefert. Jedes Tupel besteht aus der Bestellnummer und dem Produkt aus der Anzahl und dem Einzelpreis. Das Produkt soll jedoch um 10,- € erhöht werden, wenn der Bestellwert unter 100,00 € liegt.\n",
    "\n",
    "Ausgabe: `[('34587', 163.8), ('98762', 284.0), ('77226', 108.85)]`"
   ]
  },
  {
   "cell_type": "code",
   "execution_count": 17,
   "metadata": {},
   "outputs": [],
   "source": [
    "bestellungen = [[\"34587\", \"Learning Python, Mark Lutz\", 4, 40.95],\n",
    "[\"98762\", \"Programming Python, Mark Lutz\", 5, 56.80],\n",
    "[\"77226\", \"Head First Python, Paul Barry\", 3, 32.95]]\n",
    "\n",
    "# TODO Aufgabe 3)\n"
   ]
  },
  {
   "cell_type": "markdown",
   "metadata": {},
   "source": [
    "## Aufgabe 4\n",
    "\n",
    "Erzeugen Sie für einen vorgegebenen Bereich von 1 bis $n$ alle *pythagoreischen Triple* in der Form `p = (a, b, c)`. Für diese muss nach dem Satz des Pythagoras gelten: $a^2 + b^2 = c^2$. Geben Sie die Zahlen sowie die Anzahl der Zahlenpaare im vorgegebenen Bereich aus. Achten Sie darauf, dass keine Doppelten vorkommen, z.B. `(3, 4, 5)` ist das gleiche wie `(4, 3, 5)`\n",
    "\n",
    "Beispielausgabe:\n",
    "\n",
    "```python\n",
    "Geben Sie eine Obergrenze n ein: 20\n",
    "[(3, 4, 5), (5, 12, 23), (6, 8, 10), (8, 15, 17), (9, 12, 15)]\n",
    "Zwischen 1 und 20 gibt es 5 pythagoreische Tripel\n",
    "\n",
    "```"
   ]
  },
  {
   "cell_type": "code",
   "execution_count": 18,
   "metadata": {},
   "outputs": [],
   "source": [
    "# TODO Aufgabe 4a) mittels Iterationen und Listen\n"
   ]
  },
  {
   "cell_type": "code",
   "execution_count": 19,
   "metadata": {},
   "outputs": [],
   "source": [
    "# TODO Aufgabe 4b) mittels List Comprehension\n"
   ]
  },
  {
   "cell_type": "code",
   "execution_count": 20,
   "metadata": {},
   "outputs": [],
   "source": [
    "# TODO Aufgabe 4c) mittels lambda-Formen\n"
   ]
  },
  {
   "cell_type": "markdown",
   "metadata": {},
   "source": [
    "## Aufgabe 5\n",
    "\n",
    "In dieser Aufgabe beschäftigen Sie sich mit dem Datentyp `dictionary`. Zur Übung sollen Sie Daten, die in einer Liste abgelegt sind, in  ein Dictionary umwandeln.\n",
    "\n",
    "### Aufgabe 5.1\n",
    "\n",
    "Die gegebene Liste `actors` besteht aus jeweils fünf Unterlisten mit jeweils fünf Tupeln unterschiedlicher Länge. Jedes dieser Tupel enthält Einträge vom Typ `String`. \n",
    "\n",
    "Wandeln Sie die Liste in ein Dictionary folgender Form um:\n",
    "\n",
    "```python\n",
    "{0: {'salutation': 'Mr.',\n",
    "  'givenName': 'Peter',\n",
    "  'familyName': 'Dinklage',\n",
    "  'birthday': '06/11/1969',\n",
    "  'GoT': ['Tyrion', 'Lannister']},\n",
    " 1: {'salutation': 'Mrs.',\n",
    "  'givenName': 'Michelle',\n",
    "   ... }\n",
    "\n",
    "...}\n",
    "```\n",
    "\n"
   ]
  },
  {
   "cell_type": "code",
   "execution_count": 21,
   "metadata": {},
   "outputs": [],
   "source": [
    "actors = [[(\"salutation\", \"Mr.\"), (\"givenName\", \"Peter\"),\n",
    "           (\"familyName\", \"Dinklage\"), (\"birthday\", \"06/11/1969\"),\n",
    "           (\"GoT\", \"Lannister\", \"Tyrion\")],\n",
    "          [(\"salutation\", \"Mrs.\"), (\"givenName\", \"Michelle\"), \n",
    "           (\"familyName\", \"Fairley\"), (\"birthday\", \"01/17/1964\"),\n",
    "           (\"GoT\", \"Stark\", \"Catelyn\")],\n",
    "          [(\"salutation\", \"Mr.\"), (\"givenName\", \"Nicolaj\"),\n",
    "           (\"familyName\", \"Coster-Waldau\"), (\"birthday\", \"07/27/1970\"),\n",
    "           (\"GoT\", \"Lannister\", \"Jamie\")],\n",
    "          [(\"salutation\", \"Ms.\"), (\"givenName\", \"Maisie\"),\n",
    "           (\"familyName\", \"Williams\"), (\"birthday\", \"04/17/1997\"),\n",
    "           (\"GoT\", \"Stark\", \"Arya\")],\n",
    "          [(\"salutation\", \"Mrs.\"), (\"givenName\", \"Emilia\"),\n",
    "           (\"familyName\", \"Clarke\"), (\"birthday\", \"05/01/1987\"),\n",
    "           (\"GoT\", \"Targaryen\", \"Daenerys\")]]\n",
    "\n",
    "# TODO Aufgabe 5.1)\n"
   ]
  },
  {
   "cell_type": "markdown",
   "metadata": {},
   "source": [
    "### Aufgabe 5.2\n",
    "\n",
    "Erstellen Sie nun durch geschickte Umformung ein neues Dictionary. Bei diesem dient der Familienname des gespielten Charakteres als Schlüssel des äußeren Dictionary. Der Wert zu jedem Schlüssel ist wiederum ein Dictionary. In diesem (inneren) Dictionary werden nun die Vornamen der Charaktere als Schlüssel verwendet. Die Werte in den inneren  Dictionaries sind dann die Daten des Schauspielers des jeweiligen Charakters. Das resultierende Dictionary hat also die folgende beispielhafte Struktur:\n",
    "\n",
    "```python\n",
    "{'Lannister': { 'Tyrion': {'salutation': 'Mr.',\n",
    "                        'givenName': 'Peter',\n",
    "                        'familyName': 'Dinklage',\n",
    "                        'birthday': '06/11/1969'},\n",
    "                'Jamie': {'salutation': 'Mr.',\n",
    "                        'givenName': 'Nicolaj',\n",
    "                        'familyName': 'Coster-Waldau',\n",
    "                        'birthday': '07/27/1970'}},\n",
    " 'Stark': {     'Catelyn': {'salutation': 'Mrs.',\n",
    "                            ...}}\n",
    "\n",
    "    ...}\n",
    "```\n",
    "Geben Sie außerdem aus, wie viele Mitglieder die fiktive Familie \"Stark\" nach Ihrem Dictionary hat:\n",
    "\n",
    "`Die Familie Stark hat laut diesem Datensatz 2 Mitglieder`\n"
   ]
  },
  {
   "cell_type": "code",
   "execution_count": 22,
   "metadata": {},
   "outputs": [],
   "source": [
    "# TODO Aufgabe 5.2)\n",
    "\n",
    "\n",
    "\n",
    "\n"
   ]
  }
 ],
 "metadata": {
  "kernelspec": {
   "display_name": "Python 3 (ipykernel)",
   "language": "python",
   "name": "python3"
  },
  "language_info": {
   "codemirror_mode": {
    "name": "ipython",
    "version": 3
   },
   "file_extension": ".py",
   "mimetype": "text/x-python",
   "name": "python",
   "nbconvert_exporter": "python",
   "pygments_lexer": "ipython3",
   "version": "3.11.7"
  }
 },
 "nbformat": 4,
 "nbformat_minor": 2
}
