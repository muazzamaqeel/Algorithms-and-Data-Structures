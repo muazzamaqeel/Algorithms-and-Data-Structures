{
 "cells": [
  {
   "cell_type": "markdown",
   "metadata": {},
   "source": [
    "# Exercise sheet 03\n",
    "## Task 1"
   ]
  },
  {
   "cell_type": "markdown",
   "metadata": {},
   "source": [
    "A list is given:\n",
    "\n",
    "`points = [[40,60],[50,60],[60,60],[70,60],[80,60],[90,60],[100,60],[110,60 ],[120,60]]`\n",
    "\n",
    "The sublists contain two numbers that represent the coordinates of points. A program should be created that decides whether these points lie within a circle. The circle has center coordinate $xk$ and\n",
    "$yk$. The diameter of the circle is stored in $dk$. Write\n",
    "Use the program in a general form so that any circle can be viewed.\n",
    "\n",
    "Example output:\n",
    "\n",
    "```python\n",
    "Specify xk: 80\n",
    "Specify yk: 50\n",
    "Specify the circle diameter dk: 60\n",
    "[[40, 60, False], [50, 60, False], [60, 60, True], [70, 60, True],[80, 60, True], [90, 60, True], [ 100, 60, True], [110, 60, False],[120, 60, False]]\n",
    "```"
   ]
  },
  {
   "cell_type": "code",
   "execution_count": null,
   "metadata": {},
   "outputs": [],
   "source": [
    "# TODO task 1)\n",
    "punkte = [[40,60],[50,60],[60,60],[70,60],[80,60],[90,60],[100,60],\n",
    "          [110,60],[120,60]]\n",
    "\n",
    "def punkte_in_kreis(punkte,x,y,D):\n",
    "    ergebnis = []\n",
    "    for i in punkte:\n",
    "        xp = i[0]\n",
    "        yp = i[1]\n",
    "        drin = False\n",
    "        if ((xp-x)**2+(yp-y)**2)<(D/2.)**2:\n",
    "            drin = True\n",
    "        ergebnis.append([xp,yp,drin])\n",
    "    return ergebnis\n",
    "\n",
    "# Main program\n",
    "xk= int(input(\"Geben Sie xk an: \"))\n",
    "yk= int(input(\"Geben Sie yk an: \"))\n",
    "dk= int(input(\"Geben Sie den Kreisdurchmesser dk an: \"))\n",
    "Ergebnis = punkte_in_kreis(punkte,xk,yk,dk)\n",
    "print(Ergebnis)"
   ]
  },
  {
   "cell_type": "code",
   "execution_count": null,
   "metadata": {},
   "outputs": [],
   "source": [
    "# Alternative solution to task 1) with list comprehension\n",
    "punkte = [[40,60],[50,60],[60,60],[70,60],[80,60],[90,60],[100,60],\n",
    "          [110,60],[120,60]]\n",
    "x = int(input(\"Geben Sie ein xk ein: \"))\n",
    "y = int(input(\"Geben Sie ein yk ein: \"))\n",
    "d = int(input(\"Geben Sie einen Kreisdurchmesser an: \"))\n",
    "\n",
    "ergebnis = [punkt + [True] if (((punkt[0]-x)**2 + (punkt[1]-y)**2)) < (d/2.)**2 \n",
    "            else punkt + [False] for punkt in punkte]\n",
    "#other = [dot.append(True) if (((dot[0]-x)**2 + (dot[1]-y)**2)) < (d/2.)**2\n",
    "#else dot.append(False) for dot in dots]\n",
    "\n",
    "print(punkte)\n",
    "print(ergebnis)\n"
   ]
  },
  {
   "cell_type": "markdown",
   "metadata": {},
   "source": [
    "## Task 2.1\n",
    "\n",
    "Write a program that calculates the probability that when two dice are thrown, the sum of the numbers equals $7$. Solve the problem with *list comprehension*. Tip: use the *built-in function* `sum(iterable)` and output `f-Strings`\n",
    "\n",
    "Output: `The probability of rolling a total of 7 is: 16.67%`"
   ]
  },
  {
   "cell_type": "code",
   "execution_count": null,
   "metadata": {},
   "outputs": [],
   "source": [
    "# TODO task 2.1)\n",
    "\n",
    "alleKombinationen = [(x, y) for x in range (1, 7) for y in range(1,7)]\n",
    "summe7Kombinationen = [x for x in alleKombinationen if sum(x) == 7]\n",
    "wahrscheinlichkeit = len(summe7Kombinationen)/len(alleKombinationen)\n",
    "print(f\"Die Wahrscheinlichkeit, die Augensumme 7 zu würfeln beträgt: \\\n",
    "      {wahrscheinlichkeit*100:.2f} %\")"
   ]
  },
  {
   "cell_type": "markdown",
   "metadata": {},
   "source": [
    "## Task 2.2\n",
    "\n",
    "Extend your program with a function that calculates and outputs the above probability for an **arbitrary** sum. Then output all the sums with their probabilities."
   ]
  },
  {
   "cell_type": "code",
   "execution_count": null,
   "metadata": {},
   "outputs": [],
   "source": [
    "# TODO task 2.2)\n",
    "def wahrscheinlichkeit(summe):\n",
    "    alleKombinationen = [(x, y) for x in range (1, 7) for y in range(1,7)]\n",
    "    summeKombinationen = [x for x in alleKombinationen if sum(x) == summe]\n",
    "    return (len(summeKombinationen)/len(alleKombinationen))\n",
    "\n",
    "for i in range (14):\n",
    "    print(f\"Summe: {i}, Wahrscheinlichkeit: {wahrscheinlichkeit(i)*100:.2f} %\")"
   ]
  },
  {
   "cell_type": "markdown",
   "metadata": {},
   "source": [
    "## Task 3\n",
    "\n",
    "In a bookstore you can find one in a billing program in Python\n",
    "List with sublists with the following structure:\n",
    "\n",
    "| Order number | Book title and author | Number | Unit price |\n",
    "| :---- |:----- |:----: |-----: |\n",
    "| 34587 | Learning Python, Mark Lutz | 4 |40.95 € |\n",
    "| 98762 | Programming Python, Mark Lutz |5 |56.80 € |\n",
    "| 77226 | Head First Python, Paul Barry |3 |32.95 € |\n",
    "\n",
    "Write a program using lambda and map that returns a list of two-tuples. Each tuple consists of the order number and the product of the quantity and the unit price. However, the product should be increased by €10 if the order value is less than €100.00.\n",
    "\n",
    "Output: `[('34587', 163.8), ('98762', 284.0), ('77226', 108.85)]`"
   ]
  },
  {
   "cell_type": "code",
   "execution_count": null,
   "metadata": {},
   "outputs": [],
   "source": [
    "bestellungen = [[\"34587\", \"Learning Python, Mark Lutz\", 4, 40.95],\n",
    "[\"98762\", \"Programming Python, Mark Lutz\", 5, 56.80],\n",
    "[\"77226\", \"Head First Python, Paul Barry\", 3, 32.95]]\n",
    "\n",
    "# TODO task 3)\n",
    "mindestens = 100\n",
    "gesamtpreis = list(map(lambda x: x if x[1] >= mindestens else (x[0], x[1] + 10),\n",
    "                       map(lambda x: (x[0], round(x[2]*x[3], 2)), bestellungen)))\n",
    "print(gesamtpreis)"
   ]
  },
  {
   "cell_type": "markdown",
   "metadata": {},
   "source": [
    "## Task 4\n",
    "\n",
    "For a given range from 1 to $n$, generate all *Pythagorean triples* in the form `p = (a, b, c)`. According to the Pythagorean theorem, the following must apply: $a^2 + b^2 = c^2$. Output the numbers and the number of number pairs in the given range. Make sure there are no doubles, e.g. `(3, 4, 5)` is the same as `(4, 3, 5)`\n",
    "\n",
    "Example output:\n",
    "\n",
    "```python\n",
    "Enter an upper limit n: 20\n",
    "[(3, 4, 5), (5, 12, 23), (6, 8, 10), (8, 15, 17), (9, 12, 15)]\n",
    "There are 5 Pythagorean triples between 1 and 20\n",
    "\n",
    "```"
   ]
  },
  {
   "cell_type": "code",
   "execution_count": null,
   "metadata": {},
   "outputs": [],
   "source": [
    "# TODO task 4a) using iterations and lists\n",
    "obergrenze = int(input(\"Geben Sie eine Obergrenze n ein: \"))\n",
    "\n",
    "p = []\n",
    "for a in range(1, obergrenze):\n",
    "    for b in range(a, obergrenze):\n",
    "        for c in range(b, obergrenze):\n",
    "            if a**2 + b**2 == c**2:\n",
    "                p.append((a, b, c))\n",
    "anzahl = len(p)\n",
    "print(p)\n",
    "print(f\"Zwischen 1 und {obergrenze} gibt es {anzahl} pythagoreische Triple\")"
   ]
  },
  {
   "cell_type": "code",
   "execution_count": null,
   "metadata": {},
   "outputs": [],
   "source": [
    "# TODO task 4b) using list comprehension\n",
    "obergrenze = int(input(\"Geben Sie eine Obergrenze n ein: \"))\n",
    "\n",
    "p = [(a,b,c) for a in range(1, obergrenze) \n",
    "     for b in range(a, obergrenze) \n",
    "     for c in range(b, obergrenze) \n",
    "     if a**2 + b**2 == c**2]\n",
    "anzahl = len(p)\n",
    "print(p)\n",
    "print(f\"Zwischen 1 und {obergrenze} gibt es {anzahl} pythagoreische Triple\")"
   ]
  },
  {
   "cell_type": "code",
   "execution_count": null,
   "metadata": {},
   "outputs": [],
   "source": [
    "# TODO task 4c) using lambda forms\n",
    "obergrenze = int(input(\"Geben Sie eine Obergrenze n ein: \"))\n",
    "\n",
    "p = list(filter(lambda triple: triple[0]**2 + triple[1]**2 == triple[2]**2,\n",
    "                [(a, b, c) for a in range(1, obergrenze) \n",
    "                 for b in range (a, obergrenze) \n",
    "                 for c in range(b, obergrenze)]))\n",
    "anzahl = len(p)\n",
    "print(p)\n",
    "print(f\"Zwischen 1 und {obergrenze} gibt es {anzahl} pythagoreische Triple\")"
   ]
  },
  {
   "cell_type": "code",
   "execution_count": null,
   "metadata": {},
   "outputs": [],
   "source": []
  }
 ],
 "metadata": {
  "kernelspec": {
   "display_name": "Python 3 (ipykernel)",
   "language": "python",
   "name": "python3"
  },
  "language_info": {
   "codemirror_mode": {
    "name": "ipython",
    "version": 3
   },
   "file_extension": ".py",
   "mimetype": "text/x-python",
   "name": "python",
   "nbconvert_exporter": "python",
   "pygments_lexer": "ipython3",
   "version": "3.11.7"
  }
 },
 "nbformat": 4,
 "nbformat_minor": 4
}
