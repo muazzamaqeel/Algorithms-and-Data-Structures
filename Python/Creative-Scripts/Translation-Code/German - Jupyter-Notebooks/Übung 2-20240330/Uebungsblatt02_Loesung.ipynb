{
 "cells": [
  {
   "cell_type": "markdown",
   "metadata": {},
   "source": [
    "# Übungsblatt 02\n",
    "## Aufgabe 1 \n",
    "\n",
    "Definiere eine Funktion `vergleiche(x,y,genau)`, die die beiden Fließkommazahlen `x` und `y` vergleicht und beurteilt, ob diese innerhalb des Toleranzparameters `genau` gleich sind.  Sie soll einen boolschen Funktionswert zurückgeben:\n",
    "$$vergleiche(x,y,genau) = \\left\\{\n",
    "\\begin{array}{ll}\n",
    "True & falls \\quad |x-y|< genau \\\\\n",
    "False & \\, \\textrm{sonst} \\\\\n",
    "\\end{array}\n",
    "\\right. $$\n",
    "\n",
    "Im Hauptprogramm soll `vergleiche(...)` mit vordefinierten Zahlen aufgerufen werden und über  `print()` eine Ausgabe erfolgen. z.B.:\n",
    "- für die Parameter (1, 1.1, 0.2):\n",
    "```python\n",
    "Näherungsweise gleich\n",
    "```\n",
    "- für die Parameter (0.9, 1.3, 0.1):\n",
    "```python\n",
    "NICHT näherungsweise gleich\n",
    "```\n",
    "\n"
   ]
  },
  {
   "cell_type": "code",
   "execution_count": 1,
   "metadata": {},
   "outputs": [
    {
     "name": "stdout",
     "output_type": "stream",
     "text": [
      "Näherungsweise gleich\n",
      "NICHT Näherungsweise gleich\n"
     ]
    }
   ],
   "source": [
    "# TODO Aufgabe 1a) Klassische Funktionsdeklaration\n",
    "def vergleiche(x,y,genau) :\n",
    "    return abs(x-y) < genau\n",
    "\n",
    "# Hauptprogramm\n",
    "if vergleiche(1,1.1,0.2) :\n",
    "    print(\"Näherungsweise gleich\")\n",
    "else :\n",
    "    print(\"NICHT Näherungsweise gleich\")\n",
    "\n",
    "if vergleiche(0.9, 1.3, 0.1) :\n",
    "    print(\"Näherungsweise gleich\")\n",
    "else :\n",
    "    print(\"NICHT Näherungsweise gleich\")\n"
   ]
  },
  {
   "cell_type": "code",
   "execution_count": 2,
   "metadata": {},
   "outputs": [
    {
     "name": "stdout",
     "output_type": "stream",
     "text": [
      "Näherungsweise gleich\n",
      "NICHT Näherungsweise gleich\n"
     ]
    }
   ],
   "source": [
    "# TODO Aufgabe 1b) mittels des Lambda-Formats\n",
    "vergleiche = lambda x, y, genau: True if abs(x-y) < genau else False\n",
    "\n",
    "# Hauptprogramm\n",
    "if vergleiche(1,1.1,0.2) :\n",
    "    print(\"Näherungsweise gleich\")\n",
    "else :\n",
    "    print(\"NICHT Näherungsweise gleich\")\n",
    "\n",
    "if vergleiche(0.9, 1.3, 0.1) :\n",
    "    print(\"Näherungsweise gleich\")\n",
    "else :\n",
    "    print(\"NICHT Näherungsweise gleich\")"
   ]
  },
  {
   "cell_type": "markdown",
   "metadata": {},
   "source": [
    "## Aufgabe 2\n",
    "\n",
    "Definiere eine Funktion `initialen(...)`, die mit einer **beliebigen** Anzahl an Stringparametern aufgerufen wird und deren Wert ein String mit den Initialen der übergebenen Person sind.\n",
    "\n",
    "Beispiele: \\\n",
    "initialen(\"Helmut\", \"Kohl\") &rarr; \"HK\"\\\n",
    "initialen(\"Hugo\", \"Egon\", \"Balder\") &rarr; \"HEB\" \\\n",
    "initialen(\"Johan\", \"Riley\", \"Fyodor\", \"Taiwo\", \"Samuel\", \"Klum\") &rarr; \"JRFTSK\" "
   ]
  },
  {
   "cell_type": "code",
   "execution_count": 3,
   "metadata": {},
   "outputs": [
    {
     "name": "stdout",
     "output_type": "stream",
     "text": [
      "\n",
      "HK\n",
      "HEB\n",
      "JRFTSK\n"
     ]
    }
   ],
   "source": [
    "# TODO Aufgabe 2\n",
    "def initialen(*namen) :\n",
    "    erg = \"\"\n",
    "    for i in namen :\n",
    "        if len(i) != 0 :\n",
    "            erg += i[0]\n",
    "    return erg\n",
    "\n",
    "# Hauptprogramm\n",
    "print(initialen(\"\"))\n",
    "print(initialen(\"Helmut\", \"Kohl\"))\n",
    "print(initialen(\"Hugo\", \"Egon\", \"Balder\"))\n",
    "print(initialen(\"Johan\", \"Riley\", \"Fyodor\", \"Taiwo\", \"Samuel\", \"Klum\"))"
   ]
  },
  {
   "cell_type": "markdown",
   "metadata": {},
   "source": [
    "## Aufgabe 3\n",
    "\n",
    "Ein früher verwendetes Verfahren zur Datenkomprimierung besteht darin, nur die 15 häufigsten Zeichen zu senden und alle anderen zu unterdrücken. Diese sind:\n",
    "\n",
    "A, C, D, E, F, H, I, L, N, O , R, S, T, U, Leerzeichen\n",
    "\n",
    "Definiere eine Funktion `komprimiere(text)`, die einen in Großbuchstaben übergebenen String nach diesem Schema verkürzt und als Funktionswert zurückgibt.\n",
    "Beispiel: BIERGARTEN UM ACHT &rarr; IERARTEN U ACHT"
   ]
  },
  {
   "cell_type": "code",
   "execution_count": 4,
   "metadata": {},
   "outputs": [
    {
     "name": "stdout",
     "output_type": "stream",
     "text": [
      "IERARTEN U ACHT <-- Funktionswert\n",
      "IERARTEN U ACHT <-- Sollwert\n"
     ]
    }
   ],
   "source": [
    "# TODO Aufgabe 3\n",
    "def komprimiere(text) :\n",
    "    erg = \"\"\n",
    "    for i in text :\n",
    "        if i in \"ACDEFHILNORSTU \" :\n",
    "            erg += i\n",
    "    return erg\n",
    "\n",
    "# Hauptprogramm\n",
    "print(komprimiere(\"BIERGARTEN UM ACHT\"),\"<-- Funktionswert\")\n",
    "print(\"IERARTEN U ACHT\",\"<-- Sollwert\")"
   ]
  },
  {
   "cell_type": "markdown",
   "metadata": {},
   "source": [
    "## Aufgabe 4\n",
    "\n",
    "Bekannt aus dem letzten Übungsblatt:\n",
    "\n",
    "\n",
    "Zur Berechnung von $\\sqrt{a}$ kann die folgende Zahlenfolge herangezogen werden:\n",
    "\n",
    "$$ x_{n+1} = \\frac{1}{2} (x_n + \\frac{a}{x_n}) $$ \n",
    "\n",
    "mit $$ x_0 = \\frac{a + 1}{2}$$\n",
    "\n",
    "Schreiben Sie dieses Mal eine **rekursive** Funktion `wurzel(...)` mit zwei Argumenten:\n",
    "- `a`: ist die Zahl, deren Wurzel berechnet werden soll (notwendige Angabe)\n",
    "- `n`: ist die Anzahl der rekursiven Aufrufe (optional, Default = 10)\n",
    "\n",
    "Beispielaufrufe:\n",
    "```python\n",
    ">>> wurzel(2, 3)\n",
    "1.4142156862745097\n",
    ">>> wurzel(2)\n",
    "1.414213562373095\n",
    "```"
   ]
  },
  {
   "cell_type": "code",
   "execution_count": 4,
   "metadata": {},
   "outputs": [
    {
     "name": "stdout",
     "output_type": "stream",
     "text": [
      "1.4142156862745097\n",
      "1.414213562373095\n"
     ]
    }
   ],
   "source": [
    "# TODO Aufgabe 4\n",
    "def wurzel(a, n=10):\n",
    "    if n == 1:\n",
    "        return 0.5*(a+1)\n",
    "    else:\n",
    "        return 0.5*(wurzel(a,n-1)+float(a)/wurzel(a,n-1))\n",
    "    \n",
    "print (wurzel(2,3))\n",
    "print (wurzel(2))"
   ]
  },
  {
   "cell_type": "markdown",
   "metadata": {},
   "source": [
    "### Zusatzaufgabe zu Aufgabe 4:\n",
    "\n",
    "Wenn Sie `wurzel(2,25)` aufrufen, wie lange dauert die Ausführung? Wie lange würde dann wohl `wurzel(2,2700)`dauern? (Nicht ausprobieren, wenn `wurzel(2,25)` schon mehrere Sekunden gedauert hat!)\n",
    "\n",
    "Überlegen Sie, woran das liegen könnte und versuchen Sie, die rekursive Funktion soweit zu optimieren, dass Sie möglichst die gesamte Rekursionstiefe ausnutzen können, sodass auch ein Aufruf von `wurzel(2,2700)` nur wenige Millisekunden dauert."
   ]
  },
  {
   "cell_type": "code",
   "execution_count": 2,
   "metadata": {},
   "outputs": [
    {
     "name": "stdout",
     "output_type": "stream",
     "text": [
      "1.414213562373095\n"
     ]
    }
   ],
   "source": [
    "# Optimierte wurzel-Funktion\n",
    "def wurzel(a, n=10):\n",
    "    if n == 1:\n",
    "        return 0.5*(a+1)\n",
    "    else:\n",
    "        vorigeNaeherung = wurzel(a,n-1)     # nur ein rekursiver Aufruf\n",
    "        return 0.5*(vorigeNaeherung+float(a)/vorigeNaeherung)\n",
    "    \n",
    "print (wurzel(2,2970)) # bei n > 2970 -> RecursionError: maximum recursion depth exceeded"
   ]
  }
 ],
 "metadata": {
  "kernelspec": {
   "display_name": "Python 3 (ipykernel)",
   "language": "python",
   "name": "python3"
  },
  "language_info": {
   "codemirror_mode": {
    "name": "ipython",
    "version": 3
   },
   "file_extension": ".py",
   "mimetype": "text/x-python",
   "name": "python",
   "nbconvert_exporter": "python",
   "pygments_lexer": "ipython3",
   "version": "3.11.7"
  },
  "varInspector": {
   "cols": {
    "lenName": 16,
    "lenType": 16,
    "lenVar": 40
   },
   "kernels_config": {
    "python": {
     "delete_cmd_postfix": "",
     "delete_cmd_prefix": "del ",
     "library": "var_list.py",
     "varRefreshCmd": "print(var_dic_list())"
    },
    "r": {
     "delete_cmd_postfix": ") ",
     "delete_cmd_prefix": "rm(",
     "library": "var_list.r",
     "varRefreshCmd": "cat(var_dic_list()) "
    }
   },
   "types_to_exclude": [
    "module",
    "function",
    "builtin_function_or_method",
    "instance",
    "_Feature"
   ],
   "window_display": false
  }
 },
 "nbformat": 4,
 "nbformat_minor": 2
}
