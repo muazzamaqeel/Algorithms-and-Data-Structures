{
 "cells": [
  {
   "cell_type": "markdown",
   "metadata": {},
   "source": [
    "# Übungsblatt 06\n",
    "\n",
    "## Aufgabe 1\n",
    "\n",
    "Ihnen sind drei kleine Python-Programme aus der 4. Vorlesung gegeben. Alle erzeugen eine Ausnahme.\n",
    "\n",
    "Ändern Sie die Programme so ab, dass die Ausnahmen aufgefangen werden und eine Beschreibung des jeweiligen Fehlers ausgegeben wird.\n"
   ]
  },
  {
   "cell_type": "code",
   "execution_count": null,
   "metadata": {},
   "outputs": [],
   "source": [
    "# a) aus 4.5.2: einfache Generatorfunktion\n",
    "def simpleGenerator():\n",
    "    x = 1\n",
    "    print(\"Vor dem ersten Yield\")\n",
    "    yield x\n",
    "    x = 2\n",
    "    yield x\n",
    "    x = 3\n",
    "    yield x\n",
    "    print(\"Kein weiteres Yield\")\n",
    "\n",
    "gen_obj = simpleGenerator()\n",
    "\n",
    "for i in range(10):\n",
    "    next(gen_obj)"
   ]
  },
  {
   "cell_type": "code",
   "execution_count": null,
   "metadata": {},
   "outputs": [],
   "source": [
    "# b) aus 4.5.4: für Funktionswerte einer Parabel\n",
    "parabel = (x**2 - 2*x + 3 for x in range (-10,10))\n",
    "print(f\"Minimum = {min(parabel)}\") \n",
    "print(f\"Maximum = {max(parabel)}\")      "
   ]
  },
  {
   "cell_type": "code",
   "execution_count": null,
   "metadata": {},
   "outputs": [],
   "source": [
    "# c) aus 4.5.4: rekursive Funktion zur Berechnung der Summe 1 bis n\n",
    "def rekSum(n):\n",
    "    if n == 1:\n",
    "        return n\n",
    "    else:\n",
    "        return n + rekSum(n-1)\n",
    "    \n",
    "rekSum(3000)"
   ]
  },
  {
   "cell_type": "markdown",
   "metadata": {},
   "source": [
    "## Aufgabe 2\n",
    "\n",
    "Schreiben Sie eine Funktion, die für reelle Zahlen quadratische Gleichungen der Form $x^2+px+q=0$ löst, sofern sie lösbar sind. Die Argumente sind `p` und `q`. Zurückgegeben wird die Lösungsmenge als Tupel `(x1, x2)`.\n",
    "\n",
    "Die Funktion soll Vor- und Nachbedingungen testen und bei Nichterfüllung eine Ausnahme erzeugen:\n",
    "\n",
    "- Vorbedingung: $(p/2)^2-q >= 0$\n",
    "- Nachbedingung: Alle Werte aus der Lösungsmenge `(x1, x2)` sollen die Gleichung $x^2+px+q=0$ erfüllen\n",
    "\n",
    "Hinweis: die quadratische Gleichung hat die Lösungen:\n",
    "\n",
    "$x1 = -p/2 + \\sqrt{(p/2)^2 - q}$\n",
    "\n",
    "$x2 = -p/2 - \\sqrt{(p/2)^2 - q}$"
   ]
  },
  {
   "cell_type": "code",
   "execution_count": null,
   "metadata": {},
   "outputs": [],
   "source": [
    "# TODO Aufgabe 2\n"
   ]
  },
  {
   "cell_type": "markdown",
   "metadata": {},
   "source": [
    "## Aufgabe 3\n",
    "\n",
    "Schreiben Sie eine Funktion, die reelle Ganzzahlen in ihre Primfaktoren zerlegt. Das Argument der Funktion ist `zahl`. Der Rückgabewert ist eine Liste - beginnend mit 1, auch wenn das keine Primzahl ist, mit den Primfaktoren.\n",
    "\n",
    "Die Funktion soll Vor- und Nachbedingungen testen und bei Nichterfüllung eine Ausnahme erzeugen:\n",
    "\n",
    "- Vorbedingung: `zahl` ist vom Typ `int` und größer als 0\n",
    "- Nachbedingung: Das Produkt aller Primzahlen muss wieder `zahl` ergeben\n",
    "\n",
    "Beispielausgabe: \n",
    "\n",
    "```python\n",
    ">>> primfak(13)\n",
    "[1, 13]\n",
    ">>> primfak(120)\n",
    "[1, 2, 2, 2, 3, 5]\n",
    ">>> primfak(-2)\n",
    "---------------------------------------------------------------------------\n",
    "AssertionError                            Traceback (most recent call last)\n",
    "```"
   ]
  },
  {
   "cell_type": "code",
   "execution_count": null,
   "metadata": {},
   "outputs": [],
   "source": [
    "# TODO Aufgabe 3\n",
    "     "
   ]
  },
  {
   "cell_type": "markdown",
   "metadata": {},
   "source": [
    "## Aufgabe 4\n",
    "\n",
    "In der folgenden Aufgabe sehen Sie ein umfangreicheres Paket. Es soll sich hierbei um ein hypothetisches `sound`-Modul handeln:\n",
    "\n",
    "```python\n",
    "sound\n",
    "|-- effects\n",
    "| |-- echo.py\n",
    "| |-- __init__.py\n",
    "| |-- reverse.py\n",
    "| |-- surround.py\n",
    "|-- filters\n",
    "| |-- equalizer.py\n",
    "| |-- __init__.py\n",
    "| |-- karaoke.py\n",
    "| |-- vocoder.py\n",
    "|-- formats\n",
    "| |-- aiffread.py\n",
    "| |-- aiffwrite.py\n",
    "| |-- auread.py\n",
    "| |-- auwrite.py\n",
    "| |-- __init__.py\n",
    "| |-- wavread.py\n",
    "| |-- wavwrite.py\n",
    "|-- __init__.py\n",
    "```\n",
    "\n",
    "- Laden und entpacken Sie das zip-File in Ihrem Arbeitsverzeichnis"
   ]
  },
  {
   "cell_type": "code",
   "execution_count": null,
   "metadata": {},
   "outputs": [],
   "source": [
    "# Am besten vorher den Kernel restarten!\n",
    "# 1. TODO Importieren Sie das sound-Modul und kontrollieren Sie, welche Module geladen wurden\n"
   ]
  },
  {
   "cell_type": "markdown",
   "metadata": {},
   "source": [
    "Versuchen Sie nun auf das Modul `effects` zuzugreifen. Was passiert und warum?\n"
   ]
  },
  {
   "cell_type": "code",
   "execution_count": null,
   "metadata": {},
   "outputs": [],
   "source": [
    "# 2. TODO Zugriffsversuch auf sound.effects\n"
   ]
  },
  {
   "cell_type": "markdown",
   "metadata": {},
   "source": [
    "Versuchen Sie nun zuerst das Modul `effects` direkt zu importieren und im Anschluss darauf zuzugreifen."
   ]
  },
  {
   "cell_type": "code",
   "execution_count": null,
   "metadata": {},
   "outputs": [],
   "source": [
    "# 3. TODO effects importieren und darauf zugreifen\n"
   ]
  },
  {
   "cell_type": "markdown",
   "metadata": {},
   "source": [
    "- Restarten Sie den Kernel, damit die geladenen Module zurückgesetzt werden\n",
    "- Ändern Sie das Paket/den Paketinhalt so ab, dass das Modul `effect` automatisch beim Import des übergeordneten `sound`-Moduls geladen wird"
   ]
  },
  {
   "cell_type": "code",
   "execution_count": null,
   "metadata": {},
   "outputs": [],
   "source": [
    "# 4. TODO Automatischer Import von effects beim Import von sound\n"
   ]
  },
  {
   "cell_type": "markdown",
   "metadata": {},
   "source": [
    "- Als Nächstes soll beim Import von `effects` automatisch das Unterpaket `filters` und dessen Modul `karaoke` nachgeladen werden\n",
    "- Restarten Sie zunächst wieder den Kernel\n",
    "- Ändern Sie das Paket/den Paketinhalt dementsprechend ab\n",
    "- Testen Sie das geladene Modul, indem Sie `func1()` des `karaoke`-Moduls aufrufen"
   ]
  },
  {
   "cell_type": "code",
   "execution_count": null,
   "metadata": {},
   "outputs": [],
   "source": [
    "# 5. TODO Automatischer Import von formats beim Import von effects\n"
   ]
  },
  {
   "cell_type": "markdown",
   "metadata": {},
   "source": [
    "Zum Schluss wird noch eine andere Möglichkeit zum automatischen Importieren von Unterpaketen betrachtet.\n",
    "\n",
    "- Restarten Sie den Kernel\n",
    "- Entpacken Sie das `sound`-Modul erneut und speichern Sie es unter dem Namen `sound2` in Ihrem Arbeitsverzeichnis\n",
    "- Versuchen Sie \"alles\" aus dem `sound2`-Modul zu importieren mithilfe des `*`-Operators\n",
    "\n",
    "Was fällt Ihnen auf?"
   ]
  },
  {
   "cell_type": "code",
   "execution_count": null,
   "metadata": {},
   "outputs": [],
   "source": [
    "# 6. TODO alles Importieren mit *-Operator\n"
   ]
  },
  {
   "cell_type": "markdown",
   "metadata": {},
   "source": [
    "Das automatische Nachladen kann mithilfe eines Paketindex erreicht werden. Dafür muss in der `__init__.py`-Datei des Pakets eine Liste mit dem Namen `__all__` definiert werden.\n",
    "\n",
    "- Schreiben Sie in die `__init__.py`-Datei des `sound2`-Moduls eine dementsprechende Liste mit den Inhalten: `\"formats\", \"filters\", \"effects\", \"foobar\"`\n",
    "- Restarten Sie den Kernel und führen Sie das 6. TODO nochmals aus\n",
    "\n",
    "Bei erfolgreicher Implementierung werden beim Import via `*`-Operator alle angegebenen Untermodule nachgeladen."
   ]
  },
  {
   "cell_type": "code",
   "execution_count": null,
   "metadata": {},
   "outputs": [],
   "source": [
    "# 7. TODO Definition der __all__-Liste\n"
   ]
  }
 ],
 "metadata": {
  "kernelspec": {
   "display_name": "Python 3 (ipykernel)",
   "language": "python",
   "name": "python3"
  },
  "language_info": {
   "codemirror_mode": {
    "name": "ipython",
    "version": 3
   },
   "file_extension": ".py",
   "mimetype": "text/x-python",
   "name": "python",
   "nbconvert_exporter": "python",
   "pygments_lexer": "ipython3",
   "version": "3.11.7"
  },
  "varInspector": {
   "cols": {
    "lenName": 16,
    "lenType": 16,
    "lenVar": 40
   },
   "kernels_config": {
    "python": {
     "delete_cmd_postfix": "",
     "delete_cmd_prefix": "del ",
     "library": "var_list.py",
     "varRefreshCmd": "print(var_dic_list())"
    },
    "r": {
     "delete_cmd_postfix": ") ",
     "delete_cmd_prefix": "rm(",
     "library": "var_list.r",
     "varRefreshCmd": "cat(var_dic_list()) "
    }
   },
   "types_to_exclude": [
    "module",
    "function",
    "builtin_function_or_method",
    "instance",
    "_Feature"
   ],
   "window_display": false
  }
 },
 "nbformat": 4,
 "nbformat_minor": 2
}
