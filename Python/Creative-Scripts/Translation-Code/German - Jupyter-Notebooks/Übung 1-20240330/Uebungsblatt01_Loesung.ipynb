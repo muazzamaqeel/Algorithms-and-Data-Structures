{
 "cells": [
  {
   "cell_type": "markdown",
   "metadata": {},
   "source": [
    "# Übungsblatt 01\n",
    "\n",
    "## Aufgabe 1:\n",
    "\n",
    "Ein Physikstudent will experimentell die Erdbeschleunigung $g$ bestimmen. Dazu misst er\n",
    "für verschiedene Faden-Längen (Eingabe in $m$) die Schwingungsdauern eines Fadenpendels. Schreibe\n",
    "ihm ein Programm, das nach Abschluss des Messvorgangs die Eingabe der gemessenen\n",
    "Daten ermöglicht (Abbruch: negative Länge), zu jedem Datenpaar die Erdbeschleunigung\n",
    "ausrechnet und am Ende den gemittelten Wert aus allen errechneten Werten für $g$ ausgibt.\n",
    "Zur Erinnerung: $g = \\dfrac{4 \\cdot \\pi^2 \\cdot l}{T^2}$\n",
    "\n",
    "Für sinnvolle Eingabewerte nutzen Sie zum Beispiel diese [Tabelle](https://www.physikalische-schulexperimente.de/physo/Bestimmung_der_Erdbeschleunigung_mithilfe_eines_Fadenpendels#Ergebnisse)"
   ]
  },
  {
   "cell_type": "code",
   "execution_count": null,
   "metadata": {},
   "outputs": [],
   "source": [
    "# Aufgabe 1\n",
    "import math\n",
    "sLaenge = input(\"Pendellänge l: \")\n",
    "fLaenge = float(sLaenge)\n",
    "\n",
    "cAnzahl = 0\n",
    "fGsumme = 0\n",
    "while fLaenge > 0 :\n",
    "    sZeit = input(\"Zeit T: \")\n",
    "    fZeit = float(sZeit)\n",
    "    cAnzahl += 1\n",
    "    fGsumme += 4 * math.pi**2 * fLaenge / (fZeit**2)\n",
    "    sLaenge = input(\"Pendellänge l: \")\n",
    "    fLaenge = float(sLaenge)\n",
    "\n",
    "print(\"Gemittelter Wert: \",fGsumme / cAnzahl)"
   ]
  },
  {
   "cell_type": "markdown",
   "metadata": {},
   "source": [
    "## Aufgabe 2:\n",
    "\n",
    "Schaltjahre erkennt man daran, dass ihre Jahreszahl durch 4 teilbar ist. Es gibt laut dem Gregorianischen Kalender aber eine\n",
    "Ausnahme: Bei vollen Jahrhunderten sind nur diejenigen Jahre Schaltjahre, bei denen die\n",
    "vorderen beiden Ziffern durch 4 teilbar sind. So ist zum Beispiel 2000 ein Schaltjahr, nicht\n",
    "aber 1900. Verfassen Sie ein Programm, das nach Eingabe der Jahreszahl entscheidet, ob\n",
    "ein Schaltjahr vorliegt."
   ]
  },
  {
   "cell_type": "code",
   "execution_count": null,
   "metadata": {},
   "outputs": [],
   "source": [
    "# Aufgabe 2\n",
    "jahrtext = input(\"Jahreszahl eingeben: \")\n",
    "jahr = int(jahrtext)\n",
    "\n",
    "istSchaltjahr = False\n",
    "if jahr % 4 == 0 :\n",
    "    # Jahr ist durch 4 teilbar\n",
    "    istSchaltjahr = True    # vorsoglich mal setzen\n",
    "\n",
    "    if jahr % 100 == 0 :\n",
    "        # Jahr ist durch 100 teilbar --> volles Jahrhundert\n",
    "        if (jahr // 100) % 4 != 0 :\n",
    "            # kein Schaltjahr\n",
    "            istSchaltjahr = False\n",
    "\n",
    "if istSchaltjahr :\n",
    "    print(jahr,\"ist ein Schaltjahr\")\n",
    "else :\n",
    "    print(jahr,\"ist KEIN Schaltjahr\")\n",
    "    "
   ]
  },
  {
   "cell_type": "markdown",
   "metadata": {},
   "source": [
    "## Aufgabe 3:\n",
    "\n",
    "Zur Berechnung von $\\sqrt{a}$ kann die folgende Zahlenfolge herangezogen werden:\n",
    "\n",
    "$$ x_{n+1} = \\frac{1}{2} (x_n + \\frac{a}{x_n}) $$ \n",
    "\n",
    "mit $$ x_0 = \\frac{a + 1}{2}$$\n",
    "\n",
    "Verfassen Sie ein Programm, das a einliest und dann so viele Folgenglieder berechnet, bis die\n",
    "Differenz zwischen zwei aufeinanderfolgenden Gliedern betragsmäßig kleiner als 0.0001\n",
    "ist. Der berechnete Näherungswert muss ausgegeben werden. "
   ]
  },
  {
   "cell_type": "code",
   "execution_count": null,
   "metadata": {},
   "outputs": [],
   "source": [
    "# Aufgabe 3\n",
    "atext = input(\"A eingeben: \")\n",
    "a = float(atext)\n",
    "xalt = (a+1)/2\n",
    "xneu = (xalt+a/xalt)/2\n",
    "while abs(xalt-xneu) > 0.0001 :\n",
    "    xalt = xneu\n",
    "    xneu = (xalt+a/xalt)/2\n",
    "\n",
    "print(\"Näherungswert: \",xneu)\n"
   ]
  },
  {
   "cell_type": "markdown",
   "metadata": {},
   "source": [
    "## Aufgabe 4:\n",
    "\n",
    "In Kleinschlemm gibt es viele traditionelle Feste. So findet alle 3 Jahre das Schützenfest,\n",
    "alle 4 Jahre das Seenachtsfest und alle 5 Jahre das Kirchweihfest statt. 1980 fielen die\n",
    "drei Festtermine zusammen. Liste für die Jahre 2014 bis 2050 auf, welche Feste jeweils\n",
    "stattfinden."
   ]
  },
  {
   "cell_type": "code",
   "execution_count": null,
   "metadata": {},
   "outputs": [],
   "source": [
    "# Aufgabe 4\n",
    "for i in range(2014,2051) :\n",
    "    print(i, \":\",end=\" \")\n",
    "    differenz = i - 1980\n",
    "    if differenz % 3 == 0:\n",
    "        print(\"Schützenfest\",end=\" \")\n",
    "        # Der Parameter end=\" \" ersetzt das abschließende \\n durch ein Leerzeichen\n",
    "    if differenz % 4 == 0:\n",
    "        print(\"Seenachtsfest\",end= \" \")\n",
    "    if differenz % 5 == 0:\n",
    "        print(\"Kirchweihfest\",end= \" \")\n",
    "    print(\"\")\n",
    "        \n"
   ]
  }
 ],
 "metadata": {
  "kernelspec": {
   "display_name": "base",
   "language": "python",
   "name": "python3"
  },
  "language_info": {
   "codemirror_mode": {
    "name": "ipython",
    "version": 3
   },
   "file_extension": ".py",
   "mimetype": "text/x-python",
   "name": "python",
   "nbconvert_exporter": "python",
   "pygments_lexer": "ipython3",
   "version": "3.11.7"
  }
 },
 "nbformat": 4,
 "nbformat_minor": 2
}
