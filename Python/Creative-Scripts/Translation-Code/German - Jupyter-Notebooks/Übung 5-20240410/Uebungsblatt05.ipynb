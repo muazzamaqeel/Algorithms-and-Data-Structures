{
 "cells": [
  {
   "cell_type": "markdown",
   "metadata": {},
   "source": [
    "# Übungsblatt 05\n",
    "\n",
    "## Aufgabe 1\n",
    "\n",
    "Bei einem Marathonlauf müssen am Zielpunkt die Ankunftszeiten der Läufer registriert werden. Schreiben Sie ein interaktives Python-Programm, das Folgendes leistet:\n",
    "\n",
    "- Immer wenn ein neuer Läufer das Ziel erreicht, wird seine Startnummer von Ihnen eingegeben\n",
    "\n",
    "- Nach Eingabe einer Startnummer wird die Ankuftszeit über die Systemuhr ermittelt\n",
    "\n",
    "- Startnummer und Ankunftszeit werden in einer Textdatei mit dem Pfad `marathon/daten.txt` zeilenweise abgespeichert\n",
    "\n",
    "- Das Programm wird beendet, indem Sie ohne Eingabe auf *Enter* drücken\n",
    "\n",
    "- Damit im Falle eines Systemabsturzes keine Daten verloren gehen, soll nach jeder Eingabe eine Zwischenspeicherung erfolgen\n",
    "\n",
    "Hinweis zur Systemzeit: mit folgender Anweisungsfolge erhalten Sie in `zeit` die aktuelle Systemzeit als `string`:\n",
    "\n",
    "```python\n",
    "import time\n",
    "zeit = time.asctime()\n",
    "```"
   ]
  },
  {
   "cell_type": "code",
   "execution_count": null,
   "metadata": {},
   "outputs": [],
   "source": [
    "# TODO Aufgabe 1"
   ]
  },
  {
   "cell_type": "markdown",
   "metadata": {},
   "source": [
    "## Aufgabe 2\n",
    "\n",
    "Gegeben ist eine CSV-Datei, die das Ergebnis der Analyse einer Metallprobe darstellen soll. Jeder Eintrag enthält den Namen eines Edelmetalls und dessen Gehalt in Prozent:\n",
    "\n",
    "|Edelmetall|Gehalt in Prozent|\n",
    "|:----|----:|\n",
    "|Gold| 0,1234|\n",
    "|Silber| 23,45 |\n",
    "|Platin | 0,0678 |\n",
    "\n",
    "Schreiben Sie ein Skript, das den Inhalt der CSV-Datei auf dem Bildschirm tabellarisch in folgenden Formaten ausgibt:\n",
    "\n",
    "```python\n",
    "Gold 0.1234 // Silber 23.45 // Platin 0.0678 // \n",
    "\n",
    "Gold\t0.1234\n",
    "Silber\t23.45\n",
    "Platin\t0.0678\n",
    "\n",
    "Gold:\t  0.12\n",
    "Silber:\t 23.45\n",
    "Platin:\t  0.07\n",
    "```\n",
    "\n",
    "Nutzen Sie dafür die in den Vorlesungen behandelten Möglichkeiten von `print()` und `f-String`.\n",
    "\n",
    "**Achtung**: Das Dezimaltrennzeichen in Excel ist ein \",\" und in Python ein \".\"\\\n",
    "*Tipp*: Nutzen Sie z.B die `string`-Funktion: [`str.replace()`](https://docs.python.org/3/library/stdtypes.html#str.replace)\n",
    "\n",
    "Welche Darstellungsform halten Sie für die beste?\n"
   ]
  },
  {
   "cell_type": "code",
   "execution_count": 12,
   "metadata": {},
   "outputs": [],
   "source": [
    "# TODO Aufgabe 2\n",
    "\n"
   ]
  },
  {
   "cell_type": "markdown",
   "metadata": {},
   "source": [
    "## Aufgabe 3\n",
    "\n",
    "In folgender Aufgabe soll ein Verwaltungsprogramm für Telefonnumern entwickeln werden. Die Besonderheit soll hierbei das *User-Interface* sein, denn nach jeder Aktion soll auf dem Bildschirm ein Menü erscheinen, aus dem der Nutzer eine von folgenden Funktionen auswählen kann:\n",
    "\n",
    "- Suche nach Telefonnummer: Der Benutzer gibt über die Tastatur einen Namen ein und erhält als Antwort die Telefonnummer, falls sie gespeichert ist. Ansonsten gibt es die Meldung `Name unbekannt`.\n",
    "\n",
    "- Neue Nummer eintragen: Der Benutzer wird nach einem Namen und der zugehörigen Telefonnummer gefragt.\n",
    "\n",
    "- Alle Nummern ausgeben: Auf dem Bildschirm erscheint eine gut lesbare Tabelle mit allen gespeicherten Namen und Telefonnummern\n",
    "\n",
    "- Ende: Das aktualisierte Telefonbuch wird gespeichert und das Programm beendet\n",
    "\n",
    "Hinweise zur Programmierung:\n",
    "\n",
    "- Verfahren Sie nach dem Prinzip der schrittweisen Verfeinerung und definieren Sie Funktionen.\n",
    "\n",
    "- Beim Auswählen der Funktion soll nicht zwischen Groß- und Kleinschreibung unterschieden werden.\n",
    "\n",
    "- Verwenden Sie ein `dictionary` mit dem Namen als Schlüssel und den Telefonnummern als Werten.\n",
    "\n",
    "- Beim Start des Programms wird das `dictionary` mithilfe einer `pickle`-Funktion geladen und vor Beendigung wieder gespeichert. Der Pfad soll sein `verwaltung/telefonbuch.pkl`"
   ]
  },
  {
   "cell_type": "markdown",
   "metadata": {},
   "source": [
    "Wechseln Sie zum Bearbeiten in das Python-File `aufg3.py`. Zum Ausführen klicken Sie in VS Code rechts oben auf den Dropdown-Pfeil neben dem *Run*-Button und wählen Sie *Run Python File in Dedicated Terminal*, um unten im Terminal Eingaben und Ausgaben zu sehen\n"
   ]
  },
  {
   "cell_type": "markdown",
   "metadata": {},
   "source": [
    "Beispieldialog:\n",
    "```python\n",
    "(S)uche nach Telefonnummer\n",
    "(N)eue Nummer eintragen\n",
    "(A)lle Nummern ausgeben\n",
    "(E)nde\n",
    "Ihre Wahl: n\n",
    "Name: Max\n",
    "Nummer: 89923\n",
    "Neuer Eintrag gespeichert\n",
    "\n",
    "(S)uche nach Telefonnummer\n",
    "(N)eue Nummer eintragen\n",
    "(A)lle Nummern ausgeben\n",
    "(E)nde\n",
    "Ihre Wahl: s\n",
    "Name: Tim\n",
    "Nummer:  85675\n",
    "\n",
    "(S)uche nach Telefonnummer\n",
    "(N)eue Nummer eintragen\n",
    "(A)lle Nummern ausgeben\n",
    "(E)nde\n",
    "Ihre Wahl: a\n",
    "Name    Nummer\n",
    "______________________________\n",
    "Tim     85675\n",
    "Jenny   233325\n",
    "Max     89923\n",
    "\n",
    "(S)uche nach Telefonnummer\n",
    "(N)eue Nummer eintragen\n",
    "(A)lle Nummern ausgeben\n",
    "(E)nde\n",
    "Ihre Wahl: e\n",
    "Danke, dass Sie dieses Produkt verwendet haben.\n",
    "Beenden mit <ENTER>\n",
    "```"
   ]
  },
  {
   "cell_type": "markdown",
   "metadata": {},
   "source": []
  }
 ],
 "metadata": {
  "kernelspec": {
   "display_name": "Python 3 (ipykernel)",
   "language": "python",
   "name": "python3"
  },
  "language_info": {
   "codemirror_mode": {
    "name": "ipython",
    "version": 3
   },
   "file_extension": ".py",
   "mimetype": "text/x-python",
   "name": "python",
   "nbconvert_exporter": "python",
   "pygments_lexer": "ipython3",
   "version": "3.11.7"
  }
 },
 "nbformat": 4,
 "nbformat_minor": 2
}
