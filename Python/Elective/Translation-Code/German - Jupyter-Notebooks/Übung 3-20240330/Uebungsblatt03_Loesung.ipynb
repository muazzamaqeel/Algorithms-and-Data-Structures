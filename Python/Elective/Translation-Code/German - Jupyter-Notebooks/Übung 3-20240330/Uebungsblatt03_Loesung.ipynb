{
 "cells": [
  {
   "cell_type": "markdown",
   "metadata": {},
   "source": [
    "# Übungsblatt 03\n",
    "## Aufgabe 1 \n",
    "\n"
   ]
  },
  {
   "cell_type": "markdown",
   "metadata": {},
   "source": [
    "Gegeben ist eine Liste:\n",
    "\n",
    "`punkte = [[40,60],[50,60],[60,60],[70,60],[80,60],[90,60],[100,60],[110,60],[120,60]]`\n",
    "\n",
    "Die Unterlisten enthalten zwei Zahlen, welche die Koordinaten von Punkten darstellen. Es soll ein Programm erstellt werden, das entscheidet, ob diese Punkte innerhalb eines Kreises liegen. Der Kreis hat die Mittelpunktkoordinate $xk$ und\n",
    "$yk$. Der Durchmesser des Kreises  wird in $dk$ gespeichert. Schreiben\n",
    "Sie das Programm in allgemeingültiger Form, sodass beliebige Kreise betrachtet werden können. \n",
    "\n",
    "Beispielausgabe:\n",
    "\n",
    "```python\n",
    "Geben Sie xk an: 80\n",
    "Geben Sie yk an: 50\n",
    "Geben Sie den Kreisdurchmesser dk an: 60\n",
    "[[40, 60, False], [50, 60, False], [60, 60, True], [70, 60, True],[80, 60, True], [90, 60, True], [100, 60, True], [110, 60, False],[120, 60, False]]\n",
    "```"
   ]
  },
  {
   "cell_type": "code",
   "execution_count": null,
   "metadata": {},
   "outputs": [],
   "source": [
    "# TODO Aufgabe 1)\n",
    "punkte = [[40,60],[50,60],[60,60],[70,60],[80,60],[90,60],[100,60],\n",
    "          [110,60],[120,60]]\n",
    "\n",
    "def punkte_in_kreis(punkte,x,y,D):\n",
    "    ergebnis = []\n",
    "    for i in punkte:\n",
    "        xp = i[0]\n",
    "        yp = i[1]\n",
    "        drin = False\n",
    "        if ((xp-x)**2+(yp-y)**2)<(D/2.)**2:\n",
    "            drin = True\n",
    "        ergebnis.append([xp,yp,drin])\n",
    "    return ergebnis\n",
    "\n",
    "# Hauptprogramm\n",
    "xk= int(input(\"Geben Sie xk an: \"))\n",
    "yk= int(input(\"Geben Sie yk an: \"))\n",
    "dk= int(input(\"Geben Sie den Kreisdurchmesser dk an: \"))\n",
    "Ergebnis = punkte_in_kreis(punkte,xk,yk,dk)\n",
    "print(Ergebnis)"
   ]
  },
  {
   "cell_type": "code",
   "execution_count": null,
   "metadata": {},
   "outputs": [],
   "source": [
    "# Alternative Lösung zu Aufgabe 1) mit list comprehension\n",
    "punkte = [[40,60],[50,60],[60,60],[70,60],[80,60],[90,60],[100,60],\n",
    "          [110,60],[120,60]]\n",
    "x = int(input(\"Geben Sie ein xk ein: \"))\n",
    "y = int(input(\"Geben Sie ein yk ein: \"))\n",
    "d = int(input(\"Geben Sie einen Kreisdurchmesser an: \"))\n",
    "\n",
    "ergebnis = [punkt + [True] if (((punkt[0]-x)**2 + (punkt[1]-y)**2)) < (d/2.)**2 \n",
    "            else punkt + [False] for punkt in punkte]\n",
    "#andere = [punkt.append(True) if (((punkt[0]-x)**2 + (punkt[1]-y)**2)) < (d/2.)**2 \n",
    "#else punkt.append(False) for punkt in punkte]\n",
    "\n",
    "print(punkte)\n",
    "print(ergebnis)\n"
   ]
  },
  {
   "cell_type": "markdown",
   "metadata": {},
   "source": [
    "## Aufgabe 2.1\n",
    "\n",
    "Schreiben Sie ein Programm, dass die Wahrscheinlichkeit dafür berechnet, dass beim Wurf zweier Würfel die Summe der Augenzahlen $7$ entspricht. Lösen Sie das Problem mit *list comprehension*. Tipp: nutzen Sie die *built-in function* `sum(iterable)` und zur Ausgabe `f-Strings`\n",
    "\n",
    "Ausgabe: `Die Wahrscheinlichkeit, die Augensumme 7 zu würfeln beträgt: 16.67 %`"
   ]
  },
  {
   "cell_type": "code",
   "execution_count": null,
   "metadata": {},
   "outputs": [],
   "source": [
    "# TODO Aufgabe 2.1)\n",
    "\n",
    "alleKombinationen = [(x, y) for x in range (1, 7) for y in range(1,7)]\n",
    "summe7Kombinationen = [x for x in alleKombinationen if sum(x) == 7]\n",
    "wahrscheinlichkeit = len(summe7Kombinationen)/len(alleKombinationen)\n",
    "print(f\"Die Wahrscheinlichkeit, die Augensumme 7 zu würfeln beträgt: \\\n",
    "      {wahrscheinlichkeit*100:.2f} %\")"
   ]
  },
  {
   "cell_type": "markdown",
   "metadata": {},
   "source": [
    "## Aufgabe 2.2\n",
    "\n",
    "Erweitern Sie Ihr Programm um eine Funktion, die obige Wahrscheinlichkeit für eine **beliebige** Summe berechnet und ausgibt. Geben Sie anschließend alle Summen mit ihren Wahrscheinlichkeiten aus."
   ]
  },
  {
   "cell_type": "code",
   "execution_count": null,
   "metadata": {},
   "outputs": [],
   "source": [
    "# TODO Aufgabe 2.2)\n",
    "def wahrscheinlichkeit(summe):\n",
    "    alleKombinationen = [(x, y) for x in range (1, 7) for y in range(1,7)]\n",
    "    summeKombinationen = [x for x in alleKombinationen if sum(x) == summe]\n",
    "    return (len(summeKombinationen)/len(alleKombinationen))\n",
    "\n",
    "for i in range (14):\n",
    "    print(f\"Summe: {i}, Wahrscheinlichkeit: {wahrscheinlichkeit(i)*100:.2f} %\")"
   ]
  },
  {
   "cell_type": "markdown",
   "metadata": {},
   "source": [
    "## Aufgabe 3\n",
    "\n",
    "In einer Buchhandlung findet sich in einem Abrechnungsprogramm in Python eine\n",
    "Liste mit Unterlisten mit folgendem Aufbau:\n",
    "\n",
    "|  Bestellnummer | Buchtitel und Autor   | Anzahl   | Einzelpreis   |\n",
    "| :----  |:-----   |:----:   |-----:   |\n",
    "|  34587 |  Learning Python, Mark Lutz | 4   |40,95 €  |\n",
    "| 98762  | Programming Python, Mark Lutz   |5   |56,80 €   |\n",
    "| 77226  | Head First Python, Paul Barry   |3   |32,95 €   |\n",
    "\n",
    "Schreiben Sie ein Programm unter Benutzung von lambda und map, das als Ergebnis eine Liste mit Zweier-Tupeln liefert. Jedes Tupel besteht aus der Bestellnummer und dem Produkt aus der Anzahl und dem Einzelpreis. Das Produkt soll jedoch um 10,- € erhöht werden, wenn der Bestellwert unter 100,00 € liegt.\n",
    "\n",
    "Ausgabe: `[('34587', 163.8), ('98762', 284.0), ('77226', 108.85)]`"
   ]
  },
  {
   "cell_type": "code",
   "execution_count": null,
   "metadata": {},
   "outputs": [],
   "source": [
    "bestellungen = [[\"34587\", \"Learning Python, Mark Lutz\", 4, 40.95],\n",
    "[\"98762\", \"Programming Python, Mark Lutz\", 5, 56.80],\n",
    "[\"77226\", \"Head First Python, Paul Barry\", 3, 32.95]]\n",
    "\n",
    "# TODO Aufgabe 3)\n",
    "mindestens = 100\n",
    "gesamtpreis = list(map(lambda x: x if x[1] >= mindestens else (x[0], x[1] + 10),\n",
    "                       map(lambda x: (x[0], round(x[2]*x[3], 2)), bestellungen)))\n",
    "print(gesamtpreis)"
   ]
  },
  {
   "cell_type": "markdown",
   "metadata": {},
   "source": [
    "## Aufgabe 4\n",
    "\n",
    "Erzeugen Sie für einen vorgegebenen Bereich von 1 bis $n$ alle *pythagoreischen Triple* in der Form `p = (a, b, c)`. Für diese muss nach dem Satz des Pythagoras gelten: $a^2 + b^2 = c^2$. Geben Sie die Zahlen sowie die Anzahl der Zahlenpaare im vorgegebenen Bereich aus. Achten Sie darauf, dass keine Doppelten vorkommen, z.B. `(3, 4, 5)` ist das gleiche wie `(4, 3, 5)`\n",
    "\n",
    "Beispielausgabe:\n",
    "\n",
    "```python\n",
    "Geben Sie eine Obergrenze n ein: 20\n",
    "[(3, 4, 5), (5, 12, 23), (6, 8, 10), (8, 15, 17), (9, 12, 15)]\n",
    "Zwischen 1 und 20 gibt es 5 pythagoreische Tripel\n",
    "\n",
    "```"
   ]
  },
  {
   "cell_type": "code",
   "execution_count": null,
   "metadata": {},
   "outputs": [],
   "source": [
    "# TODO Aufgabe 4a) mittels Iterationen und Listen\n",
    "obergrenze = int(input(\"Geben Sie eine Obergrenze n ein: \"))\n",
    "\n",
    "p = []\n",
    "for a in range(1, obergrenze):\n",
    "    for b in range(a, obergrenze):\n",
    "        for c in range(b, obergrenze):\n",
    "            if a**2 + b**2 == c**2:\n",
    "                p.append((a, b, c))\n",
    "anzahl = len(p)\n",
    "print(p)\n",
    "print(f\"Zwischen 1 und {obergrenze} gibt es {anzahl} pythagoreische Triple\")"
   ]
  },
  {
   "cell_type": "code",
   "execution_count": null,
   "metadata": {},
   "outputs": [],
   "source": [
    "# TODO Aufgabe 4b) mittels List Comprehension\n",
    "obergrenze = int(input(\"Geben Sie eine Obergrenze n ein: \"))\n",
    "\n",
    "p = [(a,b,c) for a in range(1, obergrenze) \n",
    "     for b in range(a, obergrenze) \n",
    "     for c in range(b, obergrenze) \n",
    "     if a**2 + b**2 == c**2]\n",
    "anzahl = len(p)\n",
    "print(p)\n",
    "print(f\"Zwischen 1 und {obergrenze} gibt es {anzahl} pythagoreische Triple\")"
   ]
  },
  {
   "cell_type": "code",
   "execution_count": null,
   "metadata": {},
   "outputs": [],
   "source": [
    "# TODO Aufgabe 4c) mittels lambda-Formen\n",
    "obergrenze = int(input(\"Geben Sie eine Obergrenze n ein: \"))\n",
    "\n",
    "p = list(filter(lambda triple: triple[0]**2 + triple[1]**2 == triple[2]**2,\n",
    "                [(a, b, c) for a in range(1, obergrenze) \n",
    "                 for b in range (a, obergrenze) \n",
    "                 for c in range(b, obergrenze)]))\n",
    "anzahl = len(p)\n",
    "print(p)\n",
    "print(f\"Zwischen 1 und {obergrenze} gibt es {anzahl} pythagoreische Triple\")"
   ]
  },
  {
   "cell_type": "code",
   "execution_count": null,
   "metadata": {},
   "outputs": [],
   "source": []
  }
 ],
 "metadata": {
  "kernelspec": {
   "display_name": "Python 3 (ipykernel)",
   "language": "python",
   "name": "python3"
  },
  "language_info": {
   "codemirror_mode": {
    "name": "ipython",
    "version": 3
   },
   "file_extension": ".py",
   "mimetype": "text/x-python",
   "name": "python",
   "nbconvert_exporter": "python",
   "pygments_lexer": "ipython3",
   "version": "3.11.7"
  }
 },
 "nbformat": 4,
 "nbformat_minor": 4
}
