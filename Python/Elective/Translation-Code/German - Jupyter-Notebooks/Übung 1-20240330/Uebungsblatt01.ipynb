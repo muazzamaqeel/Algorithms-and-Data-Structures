{
 "cells": [
  {
   "cell_type": "markdown",
   "metadata": {},
   "source": [
    "# Übungsblatt 01\n",
    "\n",
    "## Aufgabe 1:\n",
    "\n",
    "Ein Physikstudent will experimentell die Erdbeschleunigung g bestimmen. Dazu misst er\n",
    "für verschiedene Faden-Längen die Schwingungsdauern eines Fadenpendels. Schreibe\n",
    "ihm ein Programm, das nach Abschluss des Messvorgangs die Eingabe der gemessenen\n",
    "Daten ermöglicht (Abbruch: negative Länge), zu jedem Datenpaar die Erdbeschleunigung\n",
    "ausrechnet und am Ende den gemittelten Wert aus allen errechneten Werten für $g$ ausgibt.\n",
    "Zur Erinnerung: $g = \\dfrac{4 \\cdot \\pi^2 \\cdot l}{T^2}$\n",
    "\n",
    "Für sinnvolle Eingabewerte nutzen Sie zum Beispiel diese [Tabelle](https://www.physikalische-schulexperimente.de/physo/Bestimmung_der_Erdbeschleunigung_mithilfe_eines_Fadenpendels#Ergebnisse)"
   ]
  },
  {
   "cell_type": "code",
   "execution_count": 4,
   "metadata": {},
   "outputs": [],
   "source": [
    "# TODO Aufgabe 1"
   ]
  },
  {
   "cell_type": "markdown",
   "metadata": {},
   "source": [
    "## Aufgabe 2:\n",
    "\n",
    "Schaltjahre erkennt man daran, dass ihre Jahreszahl durch 4 teilbar ist. Es gibt laut dem Gregorianischen Kalender aber eine\n",
    "Ausnahme: Bei vollen Jahrhunderten sind nur diejenigen Jahre Schaltjahre, bei denen die\n",
    "vorderen beiden Ziffern durch 4 teilbar sind. So ist zum Beispiel 2000 ein Schaltjahr, nicht\n",
    "aber 1900. Verfassen Sie ein Programm, das nach Eingabe der Jahreszahl entscheidet, ob\n",
    "ein Schaltjahr vorliegt."
   ]
  },
  {
   "cell_type": "code",
   "execution_count": 5,
   "metadata": {},
   "outputs": [],
   "source": [
    "# TODO Aufgabe 2"
   ]
  },
  {
   "cell_type": "markdown",
   "metadata": {},
   "source": [
    "## Aufgabe 3:\n",
    "\n",
    "Zur Berechnung von $\\sqrt{a}$ kann die folgende Zahlenfolge herangezogen werden:\n",
    "\n",
    "$$ x_{n+1} = \\frac{1}{2} (x_n + \\frac{a}{x_n}) $$ \n",
    "\n",
    "mit $$ x_0 = \\frac{a + 1}{2}$$\n",
    "\n",
    "Verfassen Sie ein Programm, das a einliest und dann so viele Folgenglieder berechnet, bis die\n",
    "Differenz zwischen zwei aufeinanderfolgenden Gliedern betragsmäßig kleiner als 0.0001\n",
    "ist. Der berechnete Näherungswert muss ausgegeben werden. "
   ]
  },
  {
   "cell_type": "code",
   "execution_count": 6,
   "metadata": {},
   "outputs": [],
   "source": [
    "# TODO Aufgabe 3"
   ]
  },
  {
   "cell_type": "markdown",
   "metadata": {},
   "source": [
    "## Aufgabe 4:\n",
    "\n",
    "In Kleinschlemm gibt es viele traditionelle Feste. So findet alle 3 Jahre das Schützenfest,\n",
    "alle 4 Jahre das Seenachtsfest und alle 5 Jahre das Kirchweihfest statt. 1980 fielen die\n",
    "drei Festtermine zusammen. Liste für die Jahre 2014 bis 2050 auf, welche Feste jeweils\n",
    "stattfinden."
   ]
  },
  {
   "cell_type": "code",
   "execution_count": 7,
   "metadata": {},
   "outputs": [],
   "source": [
    "# TODO Aufgabe 4"
   ]
  }
 ],
 "metadata": {
  "kernelspec": {
   "display_name": "base",
   "language": "python",
   "name": "python3"
  },
  "language_info": {
   "codemirror_mode": {
    "name": "ipython",
    "version": 3
   },
   "file_extension": ".py",
   "mimetype": "text/x-python",
   "name": "python",
   "nbconvert_exporter": "python",
   "pygments_lexer": "ipython3",
   "version": "3.11.7"
  }
 },
 "nbformat": 4,
 "nbformat_minor": 2
}
