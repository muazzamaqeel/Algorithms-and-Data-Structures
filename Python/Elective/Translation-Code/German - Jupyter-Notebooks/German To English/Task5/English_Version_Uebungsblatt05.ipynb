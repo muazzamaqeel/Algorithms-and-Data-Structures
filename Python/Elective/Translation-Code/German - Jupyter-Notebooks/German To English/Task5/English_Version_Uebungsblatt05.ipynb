{
 "cells": [
  {
   "cell_type": "markdown",
   "metadata": {},
   "source": [
    "# Exercise sheet 05\n",
    "\n",
    "## Task 1\n",
    "\n",
    "When running a marathon, the runners' arrival times must be recorded at the finish point. Write an interactive Python program that does the following:\n",
    "\n",
    "- Whenever a new runner reaches the finish, you will enter their start number\n",
    "\n",
    "- After entering a start number, the arrival time is determined via the system clock\n",
    "\n",
    "- Start number and arrival time are saved line by line in a text file with the path `marathon/daten.txt`\n",
    "\n",
    "- The program is ended by pressing *Enter* without entering anything\n",
    "\n",
    "- To ensure that no data is lost in the event of a system crash, every entry should be saved temporarily\n",
    "\n",
    "Note on the system time: with the following sequence of instructions you get the current system time as a `string` in `time`:\n",
    "\n",
    "```python\n",
    "import time\n",
    "time = time.asctime()\n",
    "```"
   ]
  },
  {
   "cell_type": "code",
   "execution_count": null,
   "metadata": {},
   "outputs": [],
   "source": [
    "# TODO task 1"
   ]
  },
  {
   "cell_type": "markdown",
   "metadata": {},
   "source": [
    "## Exercise 2\n",
    "\n",
    "A CSV file is given that is intended to represent the result of the analysis of a metal sample. Each entry contains the name of a precious metal and its content in percent:\n",
    "\n",
    "|Precious metal|Content in percent|\n",
    "|:----|----:|\n",
    "|Gold| 0.1234|\n",
    "|Silver| 23.45 |\n",
    "|Platinum | 0.0678 |\n",
    "\n",
    "Write a script that outputs the contents of the CSV file to the screen in a tabular format in the following formats:\n",
    "\n",
    "```python\n",
    "Gold 0.1234 // Silver 23.45 // Platinum 0.0678 //\n",
    "\n",
    "Gold 0.1234\n",
    "Silver 23.45\n",
    "Platinum 0.0678\n",
    "\n",
    "Gold: 0.12\n",
    "Silver: 23.45\n",
    "Platinum: 0.07\n",
    "```\n",
    "\n",
    "To do this, use the options of `print()` and `f-String` discussed in the lectures.\n",
    "\n",
    "**Attention**: The decimal separator in Excel is a \",\" and in Python it is a \".\"\\\n",
    "*Tip*: Use the `string` function, for example: [`str.replace()`](https://docs.python.org/3/library/stdtypes.html#str.replace)\n",
    "\n",
    "Which form of presentation do you think is best?"
   ]
  },
  {
   "cell_type": "code",
   "execution_count": 12,
   "metadata": {},
   "outputs": [],
   "source": [
    "# TODO task 2\n",
    "\n"
   ]
  },
  {
   "cell_type": "markdown",
   "metadata": {},
   "source": [
    "## Task 3\n",
    "\n",
    "The following task is to develop a management program for telephone numbers. The special feature here is the *user interface*, because after each action a menu should appear on the screen from which the user can select one of the following functions:\n",
    "\n",
    "- Search by phone number: The user enters a name using the keyboard and receives the phone number in response if it is saved. Otherwise there is the message “Name unknown”.\n",
    "\n",
    "- Enter new number: The user is asked for a name and the corresponding telephone number.\n",
    "\n",
    "- Output all numbers: An easy-to-read table appears on the screen with all saved names and phone numbers\n",
    "\n",
    "- End: The updated phone book is saved and the program ends\n",
    "\n",
    "Notes on programming:\n",
    "\n",
    "- Follow the principle of step-by-step refinement and define functions.\n",
    "\n",
    "- When selecting the function, no distinction should be made between upper and lower case letters.\n",
    "\n",
    "- Use a `dictionary` with the name as key and phone numbers as values.\n",
    "\n",
    "- When the program starts, the `dictionary` is loaded using a `pickle` function and saved again before termination. The path should be `verwaltung/telefonbuch.pkl`"
   ]
  },
  {
   "cell_type": "markdown",
   "metadata": {},
   "source": [
    "To edit, go to the Python file `aufg3.py`. To run, click the drop-down arrow next to the *Run* button in the top right corner of VS Code and select *Run Python File in Dedicated Terminal* to see inputs and outputs at the bottom of the terminal"
   ]
  },
  {
   "cell_type": "markdown",
   "metadata": {},
   "source": [
    "Sample dialog:\n",
    "```python\n",
    "(Search) by phone number\n",
    "Enter (N) new number\n",
    "Output (A)ll numbers\n",
    "(End\n",
    "Your choice: n\n",
    "Name: Max\n",
    "Number: 89923\n",
    "New entry saved\n",
    "\n",
    "(Search) by phone number\n",
    "Enter (N) new number\n",
    "Output (A)ll numbers\n",
    "(End\n",
    "Your choice: s\n",
    "Name: Tim\n",
    "Number: 85675\n",
    "\n",
    "(Search) by phone number\n",
    "Enter (N) new number\n",
    "Output (A)ll numbers\n",
    "(End\n",
    "Your choice: a\n",
    "Name number\n",
    "______________________________\n",
    "Tim 85675\n",
    "Jenny 233325\n",
    "Max 89923\n",
    "\n",
    "(Search) by phone number\n",
    "Enter (N)new number\n",
    "Output (A)ll numbers\n",
    "(End\n",
    "Your choice: e\n",
    "Thank you for using this product.\n",
    "Exit with <ENTER>\n",
    "```"
   ]
  },
  {
   "cell_type": "markdown",
   "metadata": {},
   "source": []
  }
 ],
 "metadata": {
  "kernelspec": {
   "display_name": "Python 3 (ipykernel)",
   "language": "python",
   "name": "python3"
  },
  "language_info": {
   "codemirror_mode": {
    "name": "ipython",
    "version": 3
   },
   "file_extension": ".py",
   "mimetype": "text/x-python",
   "name": "python",
   "nbconvert_exporter": "python",
   "pygments_lexer": "ipython3",
   "version": "3.11.7"
  }
 },
 "nbformat": 4,
 "nbformat_minor": 2
}
