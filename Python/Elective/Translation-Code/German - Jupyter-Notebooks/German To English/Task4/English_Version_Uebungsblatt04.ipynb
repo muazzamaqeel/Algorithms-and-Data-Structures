{
 "cells": [
  {
   "cell_type": "markdown",
   "metadata": {},
   "source": [
    "# Exercise sheet 4\n",
    "\n",
    "## Task 1\n",
    "\n",
    "Based on *Dictionaries*, implement a program that translates an entered string of numbers into Morse code.\n",
    "\n",
    "Note: The Morse code of the numbers is: \\\n",
    "1 = \\*---- &emsp; 2 = \\*\\*--- &emsp; 3 = \\*\\*\\*-- &emsp; 4 = \\*\\*\\*\\*- &emsp; 5 = \\*\\*\\*\\*\\* \\\n",
    "6 = -\\*\\*\\*\\* &emsp; 7 = --\\*\\*\\* &emsp; 8 = ---\\*\\* &emsp; 9 = ----\\* &emsp; 0 = -----"
   ]
  },
  {
   "cell_type": "code",
   "execution_count": 48,
   "metadata": {},
   "outputs": [
    {
     "data": {
      "text/plain": [
       "'*---- **--- ***-- ****- ***** -**** --*** ---** ----* ----- **--- **--- **---'"
      ]
     },
     "execution_count": 48,
     "metadata": {},
     "output_type": "execute_result"
    }
   ],
   "source": [
    "# TODO task 1\n",
    "morse_code_dict = {\n",
    "    '1': '*----', '2': '**---', '3': '***--', '4': '****-',\n",
    "    '5': '*****', '6': '-****', '7': '--***', '8': '---**',\n",
    "    '9': '----*', '0': '-----'\n",
    "}\n",
    "\n",
    "def translate_to_morse(code_string):\n",
    "    morse_code_string = ' '.join(morse_code_dict[num] for num in code_string if num in morse_code_dict)\n",
    "    return morse_code_string\n",
    "\n",
    "\n",
    "\n",
    "test_string = \"1234567890222\"\n",
    "translate_to_morse(test_string)\n",
    "\n",
    "    "
   ]
  },
  {
   "cell_type": "markdown",
   "metadata": {},
   "source": [
    "## Exercise 2\n",
    "\n",
    "Write a generator that generates the Fibonacci numbers. As a reminder: the $n$th Fibonacci number is calculated as follows:\n",
    "\n",
    "$F(n) = F(n-1) + F(n-2)$ with $F(0) = 0$ and $F(1) = 1$\n",
    "\n",
    "Example: $F(50) = 12\\, 586\\,269\\,025$"
   ]
  },
  {
   "cell_type": "code",
   "execution_count": 49,
   "metadata": {},
   "outputs": [
    {
     "ename": "KeyboardInterrupt",
     "evalue": "",
     "output_type": "error",
     "traceback": [
      "\u001b[1;31m---------------------------------------------------------------------------\u001b[0m",
      "\u001b[1;31mKeyboardInterrupt\u001b[0m                         Traceback (most recent call last)",
      "Cell \u001b[1;32mIn[49], line 7\u001b[0m\n\u001b[0;32m      5\u001b[0m         a\u001b[38;5;241m=\u001b[39mb \n\u001b[0;32m      6\u001b[0m         b\u001b[38;5;241m=\u001b[39ma\u001b[38;5;241m+\u001b[39mb\n\u001b[1;32m----> 7\u001b[0m fib_gen \u001b[38;5;241m=\u001b[39m \u001b[43mfibonacci_generator\u001b[49m\u001b[43m(\u001b[49m\u001b[43m)\u001b[49m\n\u001b[0;32m      8\u001b[0m first_10_fib \u001b[38;5;241m=\u001b[39m [\u001b[38;5;28mnext\u001b[39m(fib_gen) \u001b[38;5;28;01mfor\u001b[39;00m _ \u001b[38;5;129;01min\u001b[39;00m \u001b[38;5;28mrange\u001b[39m(\u001b[38;5;241m10\u001b[39m)]\n\u001b[0;32m      9\u001b[0m first_10_fib\n",
      "Cell \u001b[1;32mIn[49], line 4\u001b[0m, in \u001b[0;36mfibonacci_generator\u001b[1;34m()\u001b[0m\n\u001b[0;32m      2\u001b[0m \u001b[38;5;28;01mdef\u001b[39;00m \u001b[38;5;21mfibonacci_generator\u001b[39m():\n\u001b[0;32m      3\u001b[0m     a, b \u001b[38;5;241m=\u001b[39m \u001b[38;5;241m0\u001b[39m, \u001b[38;5;241m1\u001b[39m\n\u001b[1;32m----> 4\u001b[0m     \u001b[38;5;28;01mwhile\u001b[39;00m \u001b[38;5;28;01mTrue\u001b[39;00m:\n\u001b[0;32m      5\u001b[0m         a\u001b[38;5;241m=\u001b[39mb \n\u001b[0;32m      6\u001b[0m         b\u001b[38;5;241m=\u001b[39ma\u001b[38;5;241m+\u001b[39mb\n",
      "\u001b[1;31mKeyboardInterrupt\u001b[0m: "
     ]
    }
   ],
   "source": [
    "# TODO task 2\n",
    "def fibonacci_generator():\n",
    "    a, b = 0, 1\n",
    "    while True:\n",
    "        a=b \n",
    "        b=a+b\n",
    "fib_gen = fibonacci_generator()\n",
    "first_10_fib = [next(fib_gen) for _ in range(10)]\n",
    "first_10_fib\n"
   ]
  },
  {
   "cell_type": "markdown",
   "metadata": {},
   "source": [
    "## Task 3\n",
    "\n",
    "Write a generator `frange(...)` analogous to `range(...)`, but that works with float numbers.\n",
    "\n",
    "For the following calls:\n",
    "```python\n",
    "for i in frange(5.6):\n",
    "    print(i, end=\", \")\n",
    "print()\n",
    "for i in frange(0.3, 5.6):\n",
    "    print(i, end=\", \")\n",
    "print()\n",
    "for i in frange(0.3, 5.6, 0.8):\n",
    "    print(i, end=\", \")\n",
    "print()\n",
    "for i in frange(3.5, 1.2, -0.7):\n",
    "    print(i, end = \", \")\n",
    "```\n",
    "the output should look like this:\n",
    "\n",
    "```python\n",
    "0, 1, 2, 3, 4, 5,\n",
    "0.3, 1.3, 2.3, 3.3, 4.3, 5.3,\n",
    "0.3, 1.1, 1.9000000000000001, 2.7, 3.5, 4.3, 5.1,\n",
    "3.5, 2.8, 2.0999999999999996, 1.3999999999999997,\n",
    "```"
   ]
  },
  {
   "cell_type": "code",
   "execution_count": null,
   "metadata": {},
   "outputs": [
    {
     "name": "stdout",
     "output_type": "stream",
     "text": [
      "First call:\n",
      "0.0, 1.0, 2.0, 3.0, 4.0, 5.0, \n",
      "Second call:\n",
      "0.3, 1.3, 2.3, 3.3, 4.3, 5.3, \n",
      "Third call:\n",
      "0.3, 1.1, 1.9000000000000001, 2.7, 3.5, 4.3, 5.1, \n",
      "Fourth call:\n",
      "3.5, 2.8, 2.0999999999999996, 1.3999999999999997, "
     ]
    }
   ],
   "source": [
    "# TODO task 3\n",
    "\n",
    "\n",
    "def frange(*args):                                              # To pass multiple variables to the function, we need to put a star\n",
    "    start = 0.0 \n",
    "    stop = 0.0\n",
    "    step = 1.0  \n",
    "    if len(args) == 1:\n",
    "        stop = args[0]\n",
    "    elif len(args) == 2:\n",
    "        start, stop = args\n",
    "    elif len(args) == 3:\n",
    "        start, stop, step = args\n",
    "\n",
    "    i = start\n",
    "    if step > 0:\n",
    "        while i < stop:\n",
    "            yield i\n",
    "            i += step\n",
    "    elif step < 0:\n",
    "        while i > stop:\n",
    "            yield i\n",
    "            i += step\n",
    "    else:\n",
    "        raise ValueError(\"step must not be zero\")\n",
    "    \n",
    "\n",
    "print(\"First call:\")\n",
    "for i in frange(5.6):\n",
    "    print(i, end=\", \")\n",
    "print(\"\\nSecond call:\")\n",
    "for i in frange(0.3, 5.6):\n",
    "    print(i, end=\", \")\n",
    "print(\"\\nThird call:\")\n",
    "for i in frange(0.3, 5.6, 0.8):\n",
    "    print(i, end=\", \")\n",
    "print(\"\\nFourth call:\")\n",
    "for i in frange(3.5, 1.2, -0.7):\n",
    "    print(i, end = \", \")\n",
    "\n"
   ]
  },
  {
   "cell_type": "markdown",
   "metadata": {},
   "source": [
    "## Task 4\n",
    "\n",
    "The following groups of people take part in a dance course:\n",
    "\n",
    "Four women (\"ABCD\"), four men (\"abcd\") and a dance teacher (\"X\").\n",
    "\n",
    "Use set objects and tuples to calculate the set of all conceivable dance couples. A dancing couple consists of a lady and a gentleman. Dance teachers can take on the role of both a lady and a gentleman. *Tip: Generator expressions are useful for describing a set.*\n",
    "\n",
    "Example output:\n",
    "\n",
    "```python\n",
    "('X', 'c') ('C', 'X') ('c', 'B') ('X', 'D') ('X', 'B') ('d', 'D') ('C', 'd') ('C', 'c') ('a', 'B') ('A', 'd') ('X', 'a') ( 'b', 'B') ('a', 'D') ('c', 'D') ('C', 'a') ('X', 'b') ('b', ' D') ('C', 'b') ('A', 'c') ('A', 'X') ('X', 'd') ('A', 'a') (' d', 'B') ('A', 'b')\n",
    "```"
   ]
  },
  {
   "cell_type": "code",
   "execution_count": null,
   "metadata": {},
   "outputs": [
    {
     "data": {
      "text/plain": [
       "{('A', 'X'),\n",
       " ('A', 'a'),\n",
       " ('A', 'b'),\n",
       " ('A', 'c'),\n",
       " ('A', 'd'),\n",
       " ('B', 'X'),\n",
       " ('B', 'a'),\n",
       " ('B', 'b'),\n",
       " ('B', 'c'),\n",
       " ('B', 'd'),\n",
       " ('C', 'X'),\n",
       " ('C', 'a'),\n",
       " ('C', 'b'),\n",
       " ('C', 'c'),\n",
       " ('C', 'd'),\n",
       " ('D', 'X'),\n",
       " ('D', 'a'),\n",
       " ('D', 'b'),\n",
       " ('D', 'c'),\n",
       " ('D', 'd'),\n",
       " ('X', 'A'),\n",
       " ('X', 'B'),\n",
       " ('X', 'C'),\n",
       " ('X', 'D'),\n",
       " ('X', 'a'),\n",
       " ('X', 'b'),\n",
       " ('X', 'c'),\n",
       " ('X', 'd'),\n",
       " ('a', 'X'),\n",
       " ('b', 'X'),\n",
       " ('c', 'X'),\n",
       " ('d', 'X')}"
      ]
     },
     "execution_count": 25,
     "metadata": {},
     "output_type": "execute_result"
    }
   ],
   "source": [
    "# TODO task 4\n",
    "# Define the groups of people\n",
    "women = set(\"ABCD\")\n",
    "men = set(\"abcd\")\n",
    "teacher = \"X\"\n",
    "couples = set((woman, man) for woman in women for man in men)\n",
    "couples |= set((woman, teacher) for woman in women)\n",
    "couples |= set((teacher, man) for man in men)\n",
    "couples |= set((teacher, woman) for woman in women)\n",
    "couples |= set((man, teacher) for man in men)\n",
    "\n",
    "\n",
    "\n",
    "#|= means that we are making a union inisde of the set\n",
    "couples\n"
   ]
  },
  {
   "cell_type": "markdown",
   "metadata": {},
   "source": [
    "## Task 5\n",
    "\n",
    "Write a program that simulates shuffling the 32 cards in a game of Skat. Each card is represented by a tuple of the form `(color, value)`. Suits are: Clubs, Spades, Hearts and Diamonds. Values ​​are: Ace, King, Queen, Jack, 10, 9, 8, 7.\n",
    "\n",
    "The program first creates a list with the 32 card tuples using a suitable list display (e.g. list comprehension). Mixing occurs by repeatedly (randomly between 20 and 40 times) swapping two randomly selected list elements in pairs.\n",
    "\n",
    "To generate random numbers, use the `randint(start, end)` method from the `random` module. This creates a random integer `n`, where: $start \\leq n \\leq end $."
   ]
  },
  {
   "cell_type": "code",
   "execution_count": null,
   "metadata": {},
   "outputs": [
    {
     "name": "stdout",
     "output_type": "stream",
     "text": [
      "{0: {'salutation': 'Mr.', 'givenName': 'Peter', 'familyName': 'Dinklage', 'birthday': '06/11/1969', 'GoT': ('Lannister', 'Tyrion')}, 1: {'salutation': 'Mrs.', 'givenName': 'Michelle', 'familyName': 'Fairley', 'birthday': '01/17/1964', 'GoT': ('Stark', 'Catelyn')}, 2: {'salutation': 'Mr.', 'givenName': 'Nicolaj', 'familyName': 'Coster-Waldau', 'birthday': '07/27/1970', 'GoT': ('Lannister', 'Jamie')}, 3: {'salutation': 'Ms.', 'givenName': 'Maisie', 'familyName': 'Williams', 'birthday': '04/17/1997', 'GoT': ('Stark', 'Arya')}, 4: {'salutation': 'Mrs.', 'givenName': 'Emilia', 'familyName': 'Clarke', 'birthday': '05/01/1987', 'GoT': ('Targaryen', 'Daenerys')}}\n"
     ]
    }
   ],
   "source": [
    "import random\n",
    "cards = []\n",
    "suits = ['Clubs', 'Spades', 'Hearts', 'Diamonds']\n",
    "values = ['Ace', 'King', 'Queen', 'Jack', '10', '9', '8', '7']\n",
    "\n",
    "for suit in suits:\n",
    "    for value in values:\n",
    "        cards.append((suit, value))\n",
    "\n",
    "random.shuffle(cards)\n",
    "\n",
    "cards\n"
   ]
  },
  {
   "cell_type": "markdown",
   "metadata": {},
   "source": [
    "## Task 6\n",
    "\n",
    "In this task you will deal again with the `dictionary` data type. As an exercise, you should convert data stored in a list into a dictionary.\n",
    "\n",
    "### Task 6.1\n",
    "\n",
    "The given list `actors` consists of five sublists, each with five tuples of different lengths. Each of these tuples contains entries of type `String`.\n",
    "\n",
    "Convert the list into a dictionary of the following form:\n",
    "\n",
    "```python\n",
    "{0: {'salutation': 'Mr.',\n",
    "  'givenName': 'Peter',\n",
    "  'familyName': 'Dinklage',\n",
    "  'birthday': '06/11/1969',\n",
    "  'GoT': ['Tyrion', 'Lannister']},\n",
    " 1: {'salutation': 'Mrs.',\n",
    "  'givenName': 'Michelle',\n",
    "   ... }\n",
    "\n",
    "...}\n",
    "```"
   ]
  },
  {
   "cell_type": "code",
   "execution_count": null,
   "metadata": {},
   "outputs": [
    {
     "name": "stdout",
     "output_type": "stream",
     "text": [
      "{0: {'salutation': 'Mr.', 'givenName': 'Peter', 'familyName': 'Dinklage', 'birthday': '06/11/1969', 'GoT': ('Lannister', 'Tyrion')}, 1: {'salutation': 'Mrs.', 'givenName': 'Michelle', 'familyName': 'Fairley', 'birthday': '01/17/1964', 'GoT': ('Stark', 'Catelyn')}, 2: {'salutation': 'Mr.', 'givenName': 'Nicolaj', 'familyName': 'Coster-Waldau', 'birthday': '07/27/1970', 'GoT': ('Lannister', 'Jamie')}, 3: {'salutation': 'Ms.', 'givenName': 'Maisie', 'familyName': 'Williams', 'birthday': '04/17/1997', 'GoT': ('Stark', 'Arya')}, 4: {'salutation': 'Mrs.', 'givenName': 'Emilia', 'familyName': 'Clarke', 'birthday': '05/01/1987', 'GoT': ('Targaryen', 'Daenerys')}}\n"
     ]
    }
   ],
   "source": [
    "actors = [[(\"salutation\", \"Mr.\"), (\"givenName\", \"Peter\"),\n",
    "           (\"familyName\", \"Dinklage\"), (\"birthday\", \"06/11/1969\"),\n",
    "           (\"GoT\", \"Lannister\", \"Tyrion\")],\n",
    "          [(\"salutation\", \"Mrs.\"), (\"givenName\", \"Michelle\"), \n",
    "           (\"familyName\", \"Fairley\"), (\"birthday\", \"01/17/1964\"),\n",
    "           (\"GoT\", \"Stark\", \"Catelyn\")],\n",
    "          [(\"salutation\", \"Mr.\"), (\"givenName\", \"Nicolaj\"),\n",
    "           (\"familyName\", \"Coster-Waldau\"), (\"birthday\", \"07/27/1970\"),\n",
    "           (\"GoT\", \"Lannister\", \"Jamie\")],\n",
    "          [(\"salutation\", \"Ms.\"), (\"givenName\", \"Maisie\"),\n",
    "           (\"familyName\", \"Williams\"), (\"birthday\", \"04/17/1997\"),\n",
    "           (\"GoT\", \"Stark\", \"Arya\")],\n",
    "          [(\"salutation\", \"Mrs.\"), (\"givenName\", \"Emilia\"),\n",
    "           (\"familyName\", \"Clarke\"), (\"birthday\", \"05/01/1987\"),\n",
    "           (\"GoT\", \"Targaryen\", \"Daenerys\")]]\n",
    "\n",
    "# TODO task 6.1)\n",
    "\n",
    "\n",
    "def convert_to_dict(actor_info):\n",
    "    return {item[0]: item[1] if len(item) == 2 else item[1:] for item in actor_info}\n",
    "actors_dict = {idx: convert_to_dict(actor) for idx, actor in enumerate(actors)}\n",
    "print(actors_dict)\n",
    "\n"
   ]
  },
  {
   "cell_type": "markdown",
   "metadata": {},
   "source": [
    "### Task 6.2 (for freaks)\n",
    "\n",
    "Now create a new dictionary by cleverly reshaping it. In this case, the family name of the character being played serves as the key to the outer dictionary. The value for each key is a dictionary. In this (inner) dictionary, the characters' first names are now used as keys. The values ​​in the inner dictionaries are then the data of the actor of the respective character. The resulting dictionary has the following example structure:\n",
    "\n",
    "```python\n",
    "{'Lannister': { 'Tyrion': {'salutation': 'Mr.',\n",
    "                        'givenName': 'Peter',\n",
    "                        'familyName': 'Dinklage',\n",
    "                        'birthday': '06/11/1969'},\n",
    "                'Jamie': {'salutation': 'Mr.',\n",
    "                        'givenName': 'Nicolaj',\n",
    "                        'familyName': 'Coster-Waldau',\n",
    "                        'birthday': '07/27/1970'}},\n",
    " 'Stark': { 'Catelyn': {'salutation': 'Mrs.',\n",
    "                            ...}}\n",
    "\n",
    "    ...}\n",
    "```\n",
    "Also indicate how many members the fictional \"Stark\" family has according to your dictionary:\n",
    "\n",
    "\"According to this record, the Stark family has 2 members.\""
   ]
  },
  {
   "cell_type": "code",
   "execution_count": 50,
   "metadata": {},
   "outputs": [
    {
     "data": {
      "text/plain": [
       "({'Lannister': {'Tyrion': {'salutation': 'Mr.',\n",
       "    'givenName': 'Peter',\n",
       "    'familyName': 'Dinklage',\n",
       "    'birthday': '06/11/1969'},\n",
       "   'Jamie': {'salutation': 'Mr.',\n",
       "    'givenName': 'Nicolaj',\n",
       "    'familyName': 'Coster-Waldau',\n",
       "    'birthday': '07/27/1970'}},\n",
       "  'Stark': {'Catelyn': {'salutation': 'Mrs.',\n",
       "    'givenName': 'Michelle',\n",
       "    'familyName': 'Fairley',\n",
       "    'birthday': '01/17/1964'},\n",
       "   'Ned': {'salutation': 'Mr.',\n",
       "    'givenName': 'Sean',\n",
       "    'familyName': 'Bean',\n",
       "    'birthday': '04/17/1959'}}},\n",
       " 2)"
      ]
     },
     "execution_count": 50,
     "metadata": {},
     "output_type": "execute_result"
    }
   ],
   "source": []
  }
 ],
 "metadata": {
  "kernelspec": {
   "display_name": "base",
   "language": "python",
   "name": "python3"
  },
  "language_info": {
   "codemirror_mode": {
    "name": "ipython",
    "version": 3
   },
   "file_extension": ".py",
   "mimetype": "text/x-python",
   "name": "python",
   "nbconvert_exporter": "python",
   "pygments_lexer": "ipython3",
   "version": "3.11.7"
  }
 },
 "nbformat": 4,
 "nbformat_minor": 2
}
