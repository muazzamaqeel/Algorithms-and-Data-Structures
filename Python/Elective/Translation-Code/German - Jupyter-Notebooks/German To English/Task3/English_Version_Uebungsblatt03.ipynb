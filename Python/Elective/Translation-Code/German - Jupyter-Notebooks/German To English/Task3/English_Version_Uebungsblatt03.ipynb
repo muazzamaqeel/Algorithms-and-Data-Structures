{
 "cells": [
  {
   "cell_type": "markdown",
   "metadata": {},
   "source": [
    "# Exercise sheet 03\n",
    "## Task 1"
   ]
  },
  {
   "cell_type": "markdown",
   "metadata": {},
   "source": [
    "A list is given:\n",
    "\n",
    "`points = [[40,60],[50,60],[60,60],[70,60],[80,60],[90,60],[100,60],[110,60 ],[120,60]]`\n",
    "\n",
    "The sublists contain two numbers that represent the coordinates of points. A program should be created that decides whether these points lie within a circle. The circle has center coordinate $xk$ and\n",
    "$yk$. The diameter of the circle is stored in $dk$. Write\n",
    "Use the program in a general form so that any circle can be viewed.\n",
    "\n",
    "Example output:\n",
    "\n",
    "```python\n",
    "Specify xk: 80\n",
    "Specify yk: 50\n",
    "Specify the circle diameter dk: 60\n",
    "[[40, 60, False], [50, 60, False], [60, 60, True], [70, 60, True],[80, 60, True], [90, 60, True], [ 100, 60, True], [110, 60, False],[120, 60, False]]\n",
    "```"
   ]
  },
  {
   "cell_type": "code",
   "execution_count": 14,
   "metadata": {},
   "outputs": [],
   "source": [
    "# TODO task 1)\n",
    "punkte = [[40,60],[50,60],[60,60],[70,60],[80,60],[90,60],[100,60],[110,60],[120,60]]\n"
   ]
  },
  {
   "cell_type": "markdown",
   "metadata": {},
   "source": [
    "## Task 2.1\n",
    "\n",
    "Write a program that calculates the probability that when two dice are thrown, the sum of the numbers equals $7$. Solve the problem with *list comprehension*. Tip: use the *built-in function* `sum(iterable)` and output `f-Strings`\n",
    "\n",
    "Output: `The probability of rolling a total of 7 is: 16.67%`"
   ]
  },
  {
   "cell_type": "code",
   "execution_count": 15,
   "metadata": {},
   "outputs": [],
   "source": [
    "# TODO task 2.1)\n"
   ]
  },
  {
   "cell_type": "markdown",
   "metadata": {},
   "source": [
    "## Task 2.2\n",
    "\n",
    "Extend your program with a function that calculates and outputs the above probability for an **arbitrary** sum. Then output all the sums with their probabilities."
   ]
  },
  {
   "cell_type": "code",
   "execution_count": 16,
   "metadata": {},
   "outputs": [],
   "source": [
    "# TODO task 2.2)\n"
   ]
  },
  {
   "cell_type": "markdown",
   "metadata": {},
   "source": [
    "## Task 3\n",
    "\n",
    "In a bookstore you can find one in a billing program in Python\n",
    "List with sublists with the following structure:\n",
    "\n",
    "| Order number | Book title and author | Number | Unit price |\n",
    "| :---- |:----- |:----: |-----: |\n",
    "| 34587 | Learning Python, Mark Lutz | 4 |40.95 € |\n",
    "| 98762 | Programming Python, Mark Lutz |5 |56.80 € |\n",
    "| 77226 | Head First Python, Paul Barry |3 |32.95 € |\n",
    "\n",
    "Write a program using lambda and map that returns a list of two-tuples. Each tuple consists of the order number and the product of the quantity and the unit price. However, the product should be increased by €10 if the order value is less than €100.00.\n",
    "\n",
    "Output: `[('34587', 163.8), ('98762', 284.0), ('77226', 108.85)]`"
   ]
  },
  {
   "cell_type": "code",
   "execution_count": 17,
   "metadata": {},
   "outputs": [],
   "source": [
    "bestellungen = [[\"34587\", \"Learning Python, Mark Lutz\", 4, 40.95],\n",
    "[\"98762\", \"Programming Python, Mark Lutz\", 5, 56.80],\n",
    "[\"77226\", \"Head First Python, Paul Barry\", 3, 32.95]]\n",
    "\n",
    "# TODO task 3)\n"
   ]
  },
  {
   "cell_type": "markdown",
   "metadata": {},
   "source": [
    "## Task 4\n",
    "\n",
    "For a given range from 1 to $n$, generate all *Pythagorean triples* in the form `p = (a, b, c)`. According to the Pythagorean theorem, the following must apply: $a^2 + b^2 = c^2$. Output the numbers and the number of number pairs in the given range. Make sure there are no doubles, e.g. `(3, 4, 5)` is the same as `(4, 3, 5)`\n",
    "\n",
    "Example output:\n",
    "\n",
    "```python\n",
    "Enter an upper limit n: 20\n",
    "[(3, 4, 5), (5, 12, 23), (6, 8, 10), (8, 15, 17), (9, 12, 15)]\n",
    "There are 5 Pythagorean triples between 1 and 20\n",
    "\n",
    "```"
   ]
  },
  {
   "cell_type": "code",
   "execution_count": 18,
   "metadata": {},
   "outputs": [],
   "source": [
    "# TODO task 4a) using iterations and lists\n"
   ]
  },
  {
   "cell_type": "code",
   "execution_count": 19,
   "metadata": {},
   "outputs": [],
   "source": [
    "# TODO task 4b) using list comprehension\n"
   ]
  },
  {
   "cell_type": "code",
   "execution_count": 20,
   "metadata": {},
   "outputs": [],
   "source": [
    "# TODO task 4c) using lambda forms\n"
   ]
  },
  {
   "cell_type": "markdown",
   "metadata": {},
   "source": [
    "## Task 5\n",
    "\n",
    "In this task you will deal with the `dictionary` data type. As an exercise, you should convert data stored in a list into a dictionary.\n",
    "\n",
    "### Task 5.1\n",
    "\n",
    "The given list `actors` consists of five sublists, each with five tuples of different lengths. Each of these tuples contains entries of type `String`.\n",
    "\n",
    "Convert the list into a dictionary of the following form:\n",
    "\n",
    "```python\n",
    "{0: {'salutation': 'Mr.',\n",
    "  'givenName': 'Peter',\n",
    "  'familyName': 'Dinklage',\n",
    "  'birthday': '06/11/1969',\n",
    "  'GoT': ['Tyrion', 'Lannister']},\n",
    " 1: {'salutation': 'Mrs.',\n",
    "  'givenName': 'Michelle',\n",
    "   ... }\n",
    "\n",
    "...}\n",
    "```"
   ]
  },
  {
   "cell_type": "code",
   "execution_count": 21,
   "metadata": {},
   "outputs": [],
   "source": [
    "actors = [[(\"salutation\", \"Mr.\"), (\"givenName\", \"Peter\"),\n",
    "           (\"familyName\", \"Dinklage\"), (\"birthday\", \"06/11/1969\"),\n",
    "           (\"GoT\", \"Lannister\", \"Tyrion\")],\n",
    "          [(\"salutation\", \"Mrs.\"), (\"givenName\", \"Michelle\"), \n",
    "           (\"familyName\", \"Fairley\"), (\"birthday\", \"01/17/1964\"),\n",
    "           (\"GoT\", \"Stark\", \"Catelyn\")],\n",
    "          [(\"salutation\", \"Mr.\"), (\"givenName\", \"Nicolaj\"),\n",
    "           (\"familyName\", \"Coster-Waldau\"), (\"birthday\", \"07/27/1970\"),\n",
    "           (\"GoT\", \"Lannister\", \"Jamie\")],\n",
    "          [(\"salutation\", \"Ms.\"), (\"givenName\", \"Maisie\"),\n",
    "           (\"familyName\", \"Williams\"), (\"birthday\", \"04/17/1997\"),\n",
    "           (\"GoT\", \"Stark\", \"Arya\")],\n",
    "          [(\"salutation\", \"Mrs.\"), (\"givenName\", \"Emilia\"),\n",
    "           (\"familyName\", \"Clarke\"), (\"birthday\", \"05/01/1987\"),\n",
    "           (\"GoT\", \"Targaryen\", \"Daenerys\")]]\n",
    "\n",
    "# TODO task 5.1)\n"
   ]
  },
  {
   "cell_type": "markdown",
   "metadata": {},
   "source": [
    "### Task 5.2\n",
    "\n",
    "Now create a new dictionary by cleverly reshaping it. In this case, the family name of the character being played serves as the key to the outer dictionary. The value for each key is a dictionary. In this (inner) dictionary, the characters' first names are now used as keys. The values ​​in the inner dictionaries are then the data of the actor of the respective character. The resulting dictionary has the following example structure:\n",
    "\n",
    "```python\n",
    "{'Lannister': { 'Tyrion': {'salutation': 'Mr.',\n",
    "                        'givenName': 'Peter',\n",
    "                        'familyName': 'Dinklage',\n",
    "                        'birthday': '06/11/1969'},\n",
    "                'Jamie': {'salutation': 'Mr.',\n",
    "                        'givenName': 'Nicolaj',\n",
    "                        'familyName': 'Coster-Waldau',\n",
    "                        'birthday': '07/27/1970'}},\n",
    " 'Stark': { 'Catelyn': {'salutation': 'Mrs.',\n",
    "                            ...}}\n",
    "\n",
    "    ...}\n",
    "```\n",
    "Also indicate how many members the fictional \"Stark\" family has according to your dictionary:\n",
    "\n",
    "\"According to this record, the Stark family has 2 members.\""
   ]
  },
  {
   "cell_type": "code",
   "execution_count": 22,
   "metadata": {},
   "outputs": [],
   "source": [
    "# TODO task 5.2)\n",
    "\n",
    "\n",
    "\n",
    "\n"
   ]
  }
 ],
 "metadata": {
  "kernelspec": {
   "display_name": "Python 3 (ipykernel)",
   "language": "python",
   "name": "python3"
  },
  "language_info": {
   "codemirror_mode": {
    "name": "ipython",
    "version": 3
   },
   "file_extension": ".py",
   "mimetype": "text/x-python",
   "name": "python",
   "nbconvert_exporter": "python",
   "pygments_lexer": "ipython3",
   "version": "3.11.7"
  }
 },
 "nbformat": 4,
 "nbformat_minor": 2
}
