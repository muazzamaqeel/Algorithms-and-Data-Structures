{
 "cells": [
  {
   "cell_type": "markdown",
   "metadata": {},
   "source": [
    "# Übungsblatt 02\n",
    "## Aufgabe 1 \n",
    "\n",
    "Definiere eine Funktion `vergleiche(x,y,genau)`, die die beiden Fließkommazahlen `x` und `y` vergleicht und beurteilt, ob diese innerhalb des Toleranzparameters `genau` gleich sind.  Sie soll einen boolschen Funktionswert zurückgeben:\n",
    "$$vergleiche(x,y,genau) = \\left\\{\n",
    "\\begin{array}{ll}\n",
    "True & falls \\quad |x-y|< genau \\\\\n",
    "False & \\, \\textrm{sonst} \\\\\n",
    "\\end{array}\n",
    "\\right. $$\n",
    "\n",
    "Im Hauptprogramm soll `vergleiche(...)` mit vordefinierten Zahlen aufgerufen werden und über  `print()` eine Ausgabe erfolgen. z.B.:\n",
    "- für die Parameter (1, 1.1, 0.2):\n",
    "```python\n",
    "Näherungsweise gleich\n",
    "```\n",
    "- für die Parameter (0.9, 1.3, 0.1):\n",
    "```python\n",
    "NICHT näherungsweise gleich\n",
    "```\n"
   ]
  },
  {
   "cell_type": "code",
   "execution_count": null,
   "metadata": {},
   "outputs": [],
   "source": [
    "# TODO Aufgabe 1a) Klassische Funktionsdeklaration"
   ]
  },
  {
   "cell_type": "code",
   "execution_count": null,
   "metadata": {},
   "outputs": [],
   "source": [
    "# TODO Aufgabe 1b) mittels des Lambda-Formats"
   ]
  },
  {
   "cell_type": "markdown",
   "metadata": {},
   "source": [
    "## Aufgabe 2\n",
    "\n",
    "Definiere eine Funktion `initialen(...)`, die mit einer **beliebigen** Anzahl an Stringparametern aufgerufen wird und deren Wert ein String mit den Initialen der übergebenen Person sind.\n",
    "\n",
    "Beispiele: \\\n",
    "initialen(\"Helmut\", \"Kohl\") &rarr; \"HK\"\n",
    "initialen(\"Hugo\", \"Egon\", \"Balder\") &rarr; \"HEB\"\n",
    "initialen(\"Johan\", \"Riley\", \"Fyodor\", \"Taiwo\", \"Samuel\", \"Klum\") &rarr; \"JRFTSK\""
   ]
  },
  {
   "cell_type": "code",
   "execution_count": null,
   "metadata": {},
   "outputs": [],
   "source": [
    "# TODO Aufgabe 2"
   ]
  },
  {
   "cell_type": "markdown",
   "metadata": {},
   "source": [
    "## Aufgabe 3\n",
    "\n",
    "Ein früher verwendetes Verfahren zur Datenkomprimierung besteht darin, nur die 15 häufigsten Zeichen zu senden und alle anderen zu unterdrücken. Diese sind:\n",
    "\n",
    "A, C, D, E, F, H, I, L, N, O , R, S, T, U, Leerzeichen\n",
    "\n",
    "Definiere eine Funktion `komprimiere(text)`, die einen in Großbuchstaben übergebenen String nach diesem Schema verkürzt und als Funktionswert zurückgibt.\n",
    "Beispiel: BIERGARTEN UM ACHT &rarr; IERARTEN U ACHT"
   ]
  },
  {
   "cell_type": "code",
   "execution_count": null,
   "metadata": {},
   "outputs": [],
   "source": [
    "# TODO Aufgabe 3\n"
   ]
  },
  {
   "cell_type": "markdown",
   "metadata": {},
   "source": [
    "## Aufgabe 4\n",
    "\n",
    "Bekannt aus dem letzten Übungsblatt:\n",
    "\n",
    "\n",
    "Zur Berechnung von $\\sqrt{a}$ kann die folgende Zahlenfolge herangezogen werden:\n",
    "\n",
    "$$ x_{n+1} = \\frac{1}{2} (x_n + \\frac{a}{x_n}) $$ \n",
    "\n",
    "mit $$ x_0 = \\frac{a + 1}{2}$$\n",
    "\n",
    "Schreiben Sie dieses Mal eine **rekursive** Funktion `wurzel(...)` mit zwei Argumenten:\n",
    "- `a`: ist die Zahl, deren Wurzel berechnet werden soll (notwendige Angabe)\n",
    "- `n`: ist die Anzahl der rekursiven Aufrufe (optional, Default = 10)\n",
    "\n",
    "Beispielaufrufe:\n",
    "```python\n",
    ">>> wurzel(2, 3)\n",
    "1.4142156862745097\n",
    ">>> wurzel(2)\n",
    "1.414213562373095\n",
    "```"
   ]
  },
  {
   "cell_type": "code",
   "execution_count": null,
   "metadata": {},
   "outputs": [],
   "source": [
    "# TODO Aufgabe 4"
   ]
  },
  {
   "cell_type": "markdown",
   "metadata": {},
   "source": [
    "### Zusatzaufgabe zu Aufgabe 4:\n",
    "\n",
    "Wenn Sie `wurzel(2,25)` aufrufen, wie lange dauert die Ausführung? Wie lange würde dann wohl `wurzel(2,2700)`dauern? (Nicht ausprobieren, wenn `wurzel(2,25)` schon mehrere Sekunden gedauert hat!)\n",
    "\n",
    "Überlegen Sie, woran das liegen könnte und versuchen Sie, die rekursive Funktion soweit zu optimieren, dass Sie möglichst die gesamte Rekursionstiefe ausnutzen können, sodass auch ein Aufruf von `wurzel(2,2700)` nur wenige Millisekunden dauert."
   ]
  },
  {
   "cell_type": "code",
   "execution_count": null,
   "metadata": {},
   "outputs": [],
   "source": [
    "# TODO Optimierung Ihrer Lösung aus Aufgabe 4"
   ]
  }
 ],
 "metadata": {
  "kernelspec": {
   "display_name": "Python 3 (ipykernel)",
   "language": "python",
   "name": "python3"
  },
  "language_info": {
   "codemirror_mode": {
    "name": "ipython",
    "version": 3
   },
   "file_extension": ".py",
   "mimetype": "text/x-python",
   "name": "python",
   "nbconvert_exporter": "python",
   "pygments_lexer": "ipython3",
   "version": "3.11.7"
  }
 },
 "nbformat": 4,
 "nbformat_minor": 2
}
