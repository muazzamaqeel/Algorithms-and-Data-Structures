{
 "cells": [
  {
   "cell_type": "code",
   "execution_count": 8,
   "metadata": {},
   "outputs": [
    {
     "name": "stdout",
     "output_type": "stream",
     "text": [
      "25\n",
      "Muazam\n",
      "c\n",
      "[1, 2, 3, 4]\n",
      "(1, 2, 3, 4)\n",
      "{'name': 'Muazzam', 'age': 25, 'Degree': 'BSCS'}\n"
     ]
    }
   ],
   "source": [
    "# Printing different data types in python\n",
    "number_example = 25\n",
    "string_example = \"Muazam\"\n",
    "char_example = 'c'\n",
    "array_example = [1,2,3,4]\n",
    "tuple_example = (1,2,3,4)\n",
    "dictionary_example = {'name': 'Muazzam', 'age': 25, 'Degree': 'BSCS'}\n",
    "print(number_example)\n",
    "print(string_example)\n",
    "print(char_example)\n",
    "print(array_example)\n",
    "print(tuple_example)\n",
    "print(dictionary_example)\n"
   ]
  },
  {
   "cell_type": "code",
   "execution_count": 9,
   "metadata": {},
   "outputs": [
    {
     "name": "stdout",
     "output_type": "stream",
     "text": [
      "1\n",
      "2\n",
      "3\n",
      "4\n",
      "5\n",
      "6\n",
      "7\n",
      "8\n",
      "9\n",
      "9\n",
      "10\n",
      "11\n",
      "12\n",
      "13\n",
      "14\n",
      "15\n",
      "16\n",
      "17\n",
      "18\n",
      "19\n",
      "20\n",
      "21\n",
      "22\n",
      "23\n",
      "24\n",
      "25\n",
      "26\n",
      "27\n",
      "28\n",
      "29\n",
      "30\n",
      "31\n",
      "32\n",
      "33\n",
      "34\n",
      "35\n",
      "36\n",
      "37\n",
      "38\n",
      "39\n",
      "40\n",
      "41\n",
      "42\n",
      "43\n",
      "44\n",
      "End of the loop: 45\n",
      "i is equal to 45\n"
     ]
    }
   ],
   "source": [
    "#for loop\n",
    "for i in range(1, 10):\n",
    "    print(i)\n",
    "while i < 45:\n",
    "    print(i)\n",
    "    i += 1\n",
    "print(\"End of the loop:\", i)\n",
    "# if else statement\n",
    "\n",
    "if i>45:\n",
    "    print(\"i is greater than 45\")\n",
    "if i == 45:\n",
    "    print(\"i is equal to 45\")\n",
    "else:\n",
    "    print(\"i is less than 45\")\n"
   ]
  },
  {
   "cell_type": "code",
   "execution_count": 10,
   "metadata": {},
   "outputs": [
    {
     "name": "stdout",
     "output_type": "stream",
     "text": [
      "0\n",
      "1\n",
      "2\n",
      "3\n",
      "Loop is ended 4\n",
      "Loop is ended 5\n",
      "Loop is ended 6\n",
      "Loop is ended 7\n",
      "Loop is ended 8\n",
      "Loop is ended 9\n"
     ]
    }
   ],
   "source": [
    "#for loop\n",
    "j=0\n",
    "for i in range(10):\n",
    "    if i <= 3:\n",
    "        print(i)\n",
    "        i += 1\n",
    "        j=i\n",
    "    else:\n",
    "        print(\"Loop is ended\",j)\n",
    "        j+=1\n"
   ]
  },
  {
   "cell_type": "code",
   "execution_count": 11,
   "metadata": {},
   "outputs": [
    {
     "name": "stdout",
     "output_type": "stream",
     "text": [
      "<class 'int'>\n",
      "140706476844584\n",
      "2859715797696\n",
      "2859715788096\n",
      "[1, 2, 3, 4] [1, 2, 3, 4]\n",
      "hello\n"
     ]
    }
   ],
   "source": [
    "print(type(number_example))\n",
    "print(id(number_example))\n",
    "x1= [1,2,3,4]\n",
    "y1 = x1[:]\n",
    "print(id(x1))\n",
    "print(id(y1))\n",
    "print(x1, y1)\n",
    "\n",
    "s1 = \"hello\"\n",
    "s2 = s1[:]\n",
    "print(s2)  # Output: hello\n"
   ]
  },
  {
   "cell_type": "code",
   "execution_count": 12,
   "metadata": {},
   "outputs": [
    {
     "name": "stdout",
     "output_type": "stream",
     "text": [
      "Please select operation -\n",
      "\n",
      "Press '1' for addition\n",
      "Press '2' for subtraction\n",
      "Press '3' for multiplication\n",
      "Press '4' for division\n",
      "Press '5' for power\n"
     ]
    },
    {
     "ename": "ValueError",
     "evalue": "invalid literal for int() with base 10: ''",
     "output_type": "error",
     "traceback": [
      "\u001b[1;31m---------------------------------------------------------------------------\u001b[0m",
      "\u001b[1;31mValueError\u001b[0m                                Traceback (most recent call last)",
      "Cell \u001b[1;32mIn[12], line 36\u001b[0m\n\u001b[0;32m     34\u001b[0m \u001b[38;5;28mprint\u001b[39m(\u001b[38;5;124m\"\u001b[39m\u001b[38;5;124mPress \u001b[39m\u001b[38;5;124m'\u001b[39m\u001b[38;5;124m4\u001b[39m\u001b[38;5;124m'\u001b[39m\u001b[38;5;124m for division\u001b[39m\u001b[38;5;124m\"\u001b[39m)\n\u001b[0;32m     35\u001b[0m \u001b[38;5;28mprint\u001b[39m(\u001b[38;5;124m\"\u001b[39m\u001b[38;5;124mPress \u001b[39m\u001b[38;5;124m'\u001b[39m\u001b[38;5;124m5\u001b[39m\u001b[38;5;124m'\u001b[39m\u001b[38;5;124m for power\u001b[39m\u001b[38;5;124m\"\u001b[39m)\n\u001b[1;32m---> 36\u001b[0m selection \u001b[38;5;241m=\u001b[39m \u001b[38;5;28;43mint\u001b[39;49m\u001b[43m(\u001b[49m\u001b[38;5;28;43minput\u001b[39;49m\u001b[43m(\u001b[49m\u001b[38;5;124;43m\"\u001b[39;49m\u001b[38;5;124;43mPlease enter the operation: \u001b[39;49m\u001b[38;5;124;43m\"\u001b[39;49m\u001b[43m)\u001b[49m\u001b[43m)\u001b[49m\n\u001b[0;32m     37\u001b[0m x \u001b[38;5;241m=\u001b[39m         \u001b[38;5;28mint\u001b[39m(\u001b[38;5;28minput\u001b[39m(\u001b[38;5;124m\"\u001b[39m\u001b[38;5;124mPlease enter the first number: \u001b[39m\u001b[38;5;124m\"\u001b[39m))\n\u001b[0;32m     38\u001b[0m y \u001b[38;5;241m=\u001b[39m         \u001b[38;5;28mint\u001b[39m(\u001b[38;5;28minput\u001b[39m(\u001b[38;5;124m\"\u001b[39m\u001b[38;5;124mPlease enter the second number: \u001b[39m\u001b[38;5;124m\"\u001b[39m))\n",
      "\u001b[1;31mValueError\u001b[0m: invalid literal for int() with base 10: ''"
     ]
    }
   ],
   "source": [
    "# Caclulator program\n",
    "def add(x,y):\n",
    "    return x+y\n",
    "def multiply(x,y):\n",
    "    return x*y\n",
    "def divide(x,y):\n",
    "    return x/y\n",
    "def subtract(x,y):\n",
    "    return x-y\n",
    "def power(x,y):\n",
    "    return x**y\n",
    "\n",
    "def calculator(x,y,selection):\n",
    "    if(selection==1):\n",
    "        print(\"The addition of two numbers is: \", add(x,y))\n",
    "    elif(selection==2):\n",
    "        print(\"The subtraction of two numbers is: \", subtract(x,y))\n",
    "    elif(selection==3):\n",
    "        print(\"The multiplication of two numbers is: \", multiply(x,y))\n",
    "    elif(selection==4):\n",
    "        print(\"The division of two numbers is: \", divide(x,y))\n",
    "    elif(selection==5):\n",
    "        print(\"The power of two numbers is: \", power(x,y))\n",
    "    else:\n",
    "        print(\"Invalid selection\")\n",
    "\n",
    "\n",
    "\n",
    "# Take input from the user\n",
    "print(\"Please select operation -\\n\")\n",
    "print(\"Press '1' for addition\")\n",
    "print(\"Press '2' for subtraction\")\n",
    "print(\"Press '3' for multiplication\")\n",
    "print(\"Press '4' for division\")\n",
    "print(\"Press '5' for power\")\n",
    "selection = int(input(\"Please enter the operation: \"))\n",
    "x =         int(input(\"Please enter the first number: \"))\n",
    "y =         int(input(\"Please enter the second number: \"))\n",
    "calculator(x,y,selection)\n"
   ]
  },
  {
   "cell_type": "code",
   "execution_count": null,
   "metadata": {},
   "outputs": [
    {
     "name": "stdout",
     "output_type": "stream",
     "text": [
      "The addtion of two numbers is:  11\n",
      "Both objects are equal\n",
      "The power of two numbers is:  984770902183611232881\n",
      "Both objects are not equal\n",
      "The program is ended\n"
     ]
    }
   ],
   "source": [
    "# Calculator using class\n",
    "class NormalCalculator:\n",
    "    x = 0\n",
    "    y = 0\n",
    "    def __init__(self,x,y):\n",
    "        self.x = x\n",
    "        self.y = y\n",
    "    def add(self):\n",
    "        return self.x + self.y\n",
    "    def subtract(self):\n",
    "        return self.x - self.y\n",
    "    def multiply(self):\n",
    "        return self.x + self.y\n",
    "    def divide(self):\n",
    "        return self.x / self.y\n",
    "    def power(self):\n",
    "        return self.x ** self.y\n",
    "    \n",
    "    def __eq__(self,other):\n",
    "        return self.x == other.x and self.y == other.y\n",
    "    def __ne__(self, other):\n",
    "        return self.x != other.x and self.y != other.y\n",
    "    def __lt__(self, other):\n",
    "        return self.x < other.x and self.y < other.y\n",
    "    def __gt__(self, other):\n",
    "        return self.x > other.x and self.y > other.y\n",
    "    def __le__(self, other):\n",
    "        return self.x <= other.x and self.y <= other.y\n",
    "    def __ge__(self, other):\n",
    "        return self.x >= other.x and self.y >= other.y\n",
    "        \n",
    "def Selection():\n",
    "    #print(\"Please select operation -\\n\")\n",
    "    #print(\"Press '1' for addition\")\n",
    "    #print(\"Press '2' for subtraction\")\n",
    "    #print(\"Press '3' for multiplication\")\n",
    "    #print(\"Press '4' for division\")\n",
    "    #print(\"Press '5' for power\")\n",
    "    selection = int(input(\"Please enter the operation: \"))\n",
    "    return selection\n",
    "\n",
    "def flow():\n",
    "    x= int(input(\"Please enter the first number: \"))\n",
    "    y= int(input(\"Please enter the second number: \"))\n",
    "    selection = Selection()\n",
    "    Object_1 = NormalCalculator(x,y)\n",
    "    if selection == 1:\n",
    "        print(\"The addtion of two numbers is: \", Object_1.add())\n",
    "    elif selection == 2:\n",
    "        print(\"The subtraction of two numbers is: \", Object_1.subtract())\n",
    "    elif selection == 3:\n",
    "        print(\"The multiplication of two numbers is: \", Object_1.multiply())\n",
    "    elif selection == 4:\n",
    "        print(\"The division of two numbers is: \", Object_1.divide())\n",
    "    elif selection == 5:\n",
    "        print(\"The power of two numbers is: \", Object_1.power())\n",
    "    else:\n",
    "        print(\"Invalid selection\")\n",
    "\n",
    "    # The reason we write elif instead of if is that we want to check only one condition at a time and if the condition is true then we don't want to check the other conditions.\n",
    "    # If we use if instead of elif then it will check all the conditions and it will print the output of all the conditions which are true.\n",
    "    Object_2 = NormalCalculator(5,6)\n",
    "    if (Object_1==Object_2):\n",
    "        print(\"Both objects are equal\")\n",
    "    elif (Object_1!=Object_2):\n",
    "        print(\"Both objects are not equal\")\n",
    "    elif (Object_1<Object_2):\n",
    "        print(\"Object 1 is less than Object 2\")\n",
    "    elif (Object_1>Object_2):\n",
    "        print(\"Object 1 is greater than Object 2\")\n",
    "    elif (Object_1<=Object_2):\n",
    "        print(\"Object 1 is less than or equal to Object 2\")\n",
    "\n",
    "\n",
    "def main():\n",
    "    times = int(input(\"Please enter the number of times you want to run the calculator: \"))\n",
    "    while times>0:\n",
    "        flow()\n",
    "        times-=1\n",
    "\n",
    "main()\n",
    "print(\"The program is ended\")"
   ]
  },
  {
   "cell_type": "code",
   "execution_count": null,
   "metadata": {},
   "outputs": [
    {
     "name": "stdout",
     "output_type": "stream",
     "text": [
      "Muazzam2\n",
      "Muazzam2\n",
      "12.566370614359172\n",
      "12.566\n"
     ]
    }
   ],
   "source": [
    "s= \"Muazzam\"\n",
    "a = 2\n",
    "\n",
    "print (str(s)+str(a))\n",
    "print (s+str(a))\n",
    "#print (s+a) # This will give an error because we can't concatenate string with integer\n",
    "\n",
    "import math\n",
    "r=int(2.222)\n",
    "areaofCircle = math.pi *r**2\n",
    "print(areaofCircle)\n",
    "areaofCircle2 = round(areaofCircle,3)\n",
    "print(areaofCircle2)"
   ]
  },
  {
   "cell_type": "markdown",
   "metadata": {},
   "source": [
    "1.  History of Python\n",
    "    Python is an object oriented Programming Langauge\n",
    "<br>\n",
    "2.  In object-oriented programming, data is represented by objects. Each object has an identity, a value and a type\n",
    "\n",
    "3.  The following table lists all Python operators in order of priority from highest to lowest:\n",
    "\n",
    "| Operator | Description|\n",
    "| ----------- | :----------- |\n",
    "| ** | potency |\n",
    "| ~ + - | Binary complement, unary plus, unary minus|\n",
    "|* / % //| Multiplication, division, modulo, integer division |\n",
    "|+ - | Addition, subfraction|\n",
    "|>> <<| Bitwise right or left shift|\n",
    "|&| Bitwise AND operation|\n",
    "|^ \\| | Bitwise exclusive-OR operation (antivalence), bitwise OR operation|\n",
    "| <= < > >= | Comparison operators|\n",
    "| <> == != | Equality operators|\n",
    "| = %= /= //= -= += *= **=| Assignment operators|\n",
    "|`is` `is not`| Identity operators|\n",
    "|`in` `not in`| Contain operators|\n",
    "|`not` `or` `and`| Logical not, or, and operator|"
   ]
  },
  {
   "cell_type": "code",
   "execution_count": null,
   "metadata": {},
   "outputs": [],
   "source": [
    "#functions -- next notebook"
   ]
  },
  {
   "cell_type": "markdown",
   "metadata": {},
   "source": [
    "<h2>Notebook 2"
   ]
  },
  {
   "cell_type": "markdown",
   "metadata": {},
   "source": [
    "In C++ we have call by value and call by reference in the context of when a parameter is been passed to a function. Where as in Python we only have call by object\n",
    "<br>\n",
    "<h5>Call by Objects</h5>\n",
    "Objects (ot their names) are always passed with a function, Whether changes to these persist ultimately depends on teh type of the object. There are mutable and immutable objects (mutable and immutable)"
   ]
  },
  {
   "cell_type": "code",
   "execution_count": null,
   "metadata": {},
   "outputs": [],
   "source": [
    "import tkinter as tk\n",
    "from tkinter import messagebox\n",
    "\n",
    "\n",
    "def create_window(DisplayNumber):\n",
    "    # Create the main window\n",
    "    window = tk.Tk()\n",
    "    window.title(\"Simple Window with Two Buttons\")\n",
    "    window.geometry(\"300x200\")\n",
    "\n",
    "    # Define button click handlers\n",
    "    def button1_click():\n",
    "        messagebox.showinfo(\"Button 1 clicked!\", DisplayNumber)\n",
    "\n",
    "    def button2_click():\n",
    "        messagebox.showinfo(\"Button 2\", \"Button 2 clicked!\")\n",
    "\n",
    "    # Create two buttons\n",
    "    button1 = tk.Button(window, text=\"Button 1\", command=button1_click)\n",
    "    button1.pack(pady=20)\n",
    "\n",
    "    button2 = tk.Button(window, text=\"Button 2\", command=button2_click)\n",
    "    button2.pack(pady=20)\n",
    "\n",
    "    # Start the Tkinter event loop\n",
    "    window.mainloop()\n",
    "\n",
    "# Call the function to create the window\n",
    "create_window(12)\n"
   ]
  },
  {
   "cell_type": "markdown",
   "metadata": {},
   "source": [
    "Functions have their own *namespace*. This means that any variable you define within a function automatically has a **local** scope. This means that no matter what you do with this variable within the function, it will not affect other (**global**) variables outside the function, even if they have the same name. The function body/statement block is the scope of such a variable."
   ]
  },
  {
   "cell_type": "code",
   "execution_count": null,
   "metadata": {},
   "outputs": [
    {
     "name": "stdout",
     "output_type": "stream",
     "text": [
      "A in Function eins:  10\n",
      "A in Function zwei:  12\n",
      "2\n"
     ]
    }
   ],
   "source": [
    "# TODO Example of a common error\n",
    "# Restart the kernel so that you are sure to see the error message\n",
    "\n",
    "def eins():\n",
    "    a= 10\n",
    "    print(\"A in Function eins: \", a)\n",
    "\n",
    "def zwei():\n",
    "    b = a + 10\n",
    "    print(\"A in Function zwei: \", b)\n",
    "\n",
    "a = 2\n",
    "eins()\n",
    "zwei()\n",
    "print(a)\n",
    "\n",
    "#Apprently from above example, the variable a is not defined in the function zwei.\n",
    "#The variable a is defined in the function eins and is not available in the function zwei, \n",
    "# which means that the variable a is not defined in the function zwei, and the function zwei cannot access the variable a, \n",
    "# so it will use the global variable a and would not be able to change the value of gloabl variable a "
   ]
  },
  {
   "cell_type": "code",
   "execution_count": null,
   "metadata": {},
   "outputs": [
    {
     "name": "stdout",
     "output_type": "stream",
     "text": [
      "Before: 10\n",
      "After: 20\n",
      "Local variables: {'a': 5, 'b': 10}\n"
     ]
    }
   ],
   "source": [
    "# Although just found out that by using the globals() function we can access the global variables in the function and also change the \n",
    "# value of the global variable\n",
    "# Also we have locals() function which is used to access the local variables in the function\n",
    "\n",
    "\n",
    "#Example of using the globals() function\n",
    "x = 10\n",
    "\n",
    "def modify_global():\n",
    "    global_dict = globals()\n",
    "    global_dict['x'] = 20  # Modify the global variable x\n",
    "\n",
    "print(\"Before:\", x)\n",
    "modify_global()\n",
    "print(\"After:\", x)\n",
    "\n",
    "\n",
    "\n",
    "def show_locals():\n",
    "    a = 5\n",
    "    b = 10\n",
    "    local_dict = locals()\n",
    "    print(\"Local variables:\", local_dict)\n",
    "\n",
    "show_locals()\n"
   ]
  },
  {
   "cell_type": "code",
   "execution_count": null,
   "metadata": {},
   "outputs": [
    {
     "ename": "UnboundLocalError",
     "evalue": "cannot access local variable 'x' where it is not associated with a value",
     "output_type": "error",
     "traceback": [
      "\u001b[1;31m---------------------------------------------------------------------------\u001b[0m",
      "\u001b[1;31mUnboundLocalError\u001b[0m                         Traceback (most recent call last)",
      "Cell \u001b[1;32mIn[13], line 6\u001b[0m\n\u001b[0;32m      4\u001b[0m     x \u001b[38;5;241m=\u001b[39m x\u001b[38;5;241m*\u001b[39m\u001b[38;5;241m2\u001b[39m     \n\u001b[0;32m      5\u001b[0m x \u001b[38;5;241m=\u001b[39m \u001b[38;5;241m2\u001b[39m\n\u001b[1;32m----> 6\u001b[0m \u001b[43mverdopple\u001b[49m\u001b[43m(\u001b[49m\u001b[43m)\u001b[49m\n\u001b[0;32m      7\u001b[0m x\n\u001b[0;32m     10\u001b[0m \u001b[38;5;66;03m# Easy doubling function\u001b[39;00m\n\u001b[0;32m     11\u001b[0m \u001b[38;5;66;03m# Fix TODO errors\u001b[39;00m\n",
      "Cell \u001b[1;32mIn[13], line 4\u001b[0m, in \u001b[0;36mverdopple\u001b[1;34m()\u001b[0m\n\u001b[0;32m      3\u001b[0m \u001b[38;5;28;01mdef\u001b[39;00m \u001b[38;5;21mverdopple\u001b[39m():   \n\u001b[1;32m----> 4\u001b[0m     x \u001b[38;5;241m=\u001b[39m \u001b[43mx\u001b[49m\u001b[38;5;241m*\u001b[39m\u001b[38;5;241m2\u001b[39m\n",
      "\u001b[1;31mUnboundLocalError\u001b[0m: cannot access local variable 'x' where it is not associated with a value"
     ]
    }
   ],
   "source": [
    "# Easy doubling function\n",
    "# Fix TODO errors\n",
    "def verdopple():   \n",
    "    x = x*2     \n",
    "x = 2\n",
    "verdopple()\n",
    "x"
   ]
  },
  {
   "cell_type": "code",
   "execution_count": null,
   "metadata": {},
   "outputs": [
    {
     "data": {
      "text/plain": [
       "4"
      ]
     },
     "execution_count": 14,
     "metadata": {},
     "output_type": "execute_result"
    }
   ],
   "source": [
    "# Easy doubling function\n",
    "# Fix TODO errors\n",
    "def verdopple():   \n",
    "    global x\n",
    "    x = x*2     \n",
    "x = 2\n",
    "verdopple()\n",
    "x"
   ]
  },
  {
   "cell_type": "markdown",
   "metadata": {},
   "source": [
    "#### 3.3.2 Any number of parameters\n",
    "\n",
    "It is often the case that the number of parameters required for the call is not known in advance. There are the following important terms in computer science:\n",
    "\n",
    "- *Arity*: Number of parameters of functions, procedures or methods\n",
    "- *variadic function*: functions with indeterminate arity\n",
    "\n",
    "In Python, variadic functions are defined using the `*` operator before a parameter."
   ]
  },
  {
   "cell_type": "code",
   "execution_count": null,
   "metadata": {},
   "outputs": [
    {
     "name": "stdout",
     "output_type": "stream",
     "text": [
      "1\n",
      "hello\n",
      "[1, 2, 3]\n",
      "{'name': 'John', 'age': 30}\n"
     ]
    }
   ],
   "source": [
    "# TODO Example of a variadic function\n",
    "\n",
    "\n",
    "#1. Variadic functions use `*args` to accept a variable number of arguments.\n",
    "#2. Arguments are stored in a tuple named `args`.\n",
    "#3. `*args` allows different data types for arguments.\n",
    "#4. Example: `def func(*args):`, then use `for arg in args:` to iterate through them.\n",
    "#5. Useful for functions needing flexibility in the number of arguments.\n",
    "\n",
    "def display_args(*args):\n",
    "    for arg in args:\n",
    "        print(arg)\n",
    "\n",
    "# Calling the function with different data types\n",
    "display_args(1, \"hello\", [1, 2, 3], {\"name\": \"John\", \"age\": 30})\n",
    "\n",
    "\n"
   ]
  },
  {
   "cell_type": "code",
   "execution_count": null,
   "metadata": {},
   "outputs": [
    {
     "name": "stdout",
     "output_type": "stream",
     "text": [
      "(1, 2, 3)\n",
      "{'a': 1, 'b': 2, 'c': 3}\n",
      "(1, 2, 2, 2, 2, 2, 3)\n",
      "{'a': 1, 'b': 2, 'c': 3, 'd': 1}\n"
     ]
    }
   ],
   "source": [
    "#*args:\n",
    "# - Symbol: *\n",
    "#- Definition: Collects variable positional arguments into a tuple.\n",
    "#- Example:\n",
    "def func(*args):\n",
    "    print(args)\n",
    "    \n",
    "func(1, 2, 3)  # Output: (1, 2, 3)\n",
    "\n",
    "#**kwargs:\n",
    "# - Symbol: **\n",
    "#- Definition: Collects variable keyword arguments into a dictionary.\n",
    "#- Example:\n",
    "def func(**kwargs):\n",
    "    print(kwargs)\n",
    "    \n",
    "func(a=1, b=2, c=3)  # Output: {'a': 1, 'b': 2, 'c': 3}\n",
    "\n",
    "#*args and **kwargs:\n",
    "# - Both can be used in the same function.\n",
    "#- Example:\n",
    "def func(*args, **kwargs):\n",
    "    print(args)\n",
    "    print(kwargs)\n",
    "func(1,2,2,2,2, 2, 3, a=1, b=2, c=3, d=1)  # Output: (1, 2, 3) {'a': 1, 'b': 2, 'c': 3}\n",
    "\n",
    "#Regarding your explanation, you're correct. Once you start using **kwargs, it means you're done\n",
    "#with collecting positional arguments into *args, as **kwargs will collect any remaining \n",
    "#keyword arguments. So, in your function call, if you use **kwargs, you can't add more positional arguments afterward.\n"
   ]
  },
  {
   "cell_type": "code",
   "execution_count": null,
   "metadata": {},
   "outputs": [
    {
     "data": {
      "text/plain": [
       "71115512856145236107664967727509046083193211653746748227098196542702845042801663156155926767098383136903633410128548087816659268210019764379430822801067441182801974417686068672297459189102730492736806331177373413636267487121832869184819574693514981732982972086191997273440805744741435737193147897878436023652769541205727798863913681401612887685246034390637736414576347957803650828118469317748664373369810485493345594683285461970748285452406476906780891183402674517913851109762470188667681330581646826341882109562198809239985904433589439291672239086875276203178882266809081478000242560253807435221547868144508880911466892540557827383299196703602993400331983261750566101548959075652862685726390695465232741747580133636018797346856397484507299061625318836980751018579185452127381249656591187083315835866739461103381028314091408426587129603835294248383354539188398160696085140476351416544522676520970096565397190748361103993955646431378280227309839027808436685387268120818863309324046274417824246903807455440938815906062204817010535840828694340406286453055636584144891059873825566876350222818699692565133255878370737259945452249796881841652083057562089135373740597271936309448365702898258285604958632610762781643697677713131236576754130929445140431781542474276068977440781650806429906056174668920518323145518796065638595547761927127214047156216924286362072549919001020080774966417846476582771179405611622690301781566328491952067243795015933892606375160071825351527028958719437826175396901469993989177135482958083565284685781518189550592011230247159753791664150794764703654063982095280354005094019848304072224607989137848805192083777632539013677768023469144738690344785267260034640128161087539098870628074423898164299838103858207670354606784266043963015331670052927646351532937574088742364500532774476485022071558188182565649341615614099810503824790522328219250619391868740033468304462663218938463537205501605094400744939415461330689610595994652668704944880733961352320828398382883553483644303630372191222602236032123300842251713008162795765893472407260289374900469882633918818560090754722449192309969432402904662630930095765741825638118226100287364981711981845985120402721136236286817021137918683609987447114586590482741037955160172865468308830560898828451674975104859397602963116227725120200170482865786790716881766831768728005922825296704631928001589028462994973331342898578439460855062178726083270302071195425147938692444633242642970256427015120372772585125617479243658702279285401997687162460330378410926369848109727658025549016370395275993991364747824458224798616420719575400559554969644348927700185256544645142661753014435840882776727783798848210686765212675704763831178085357658900565982287501182722187523208527650729036683306832455813916627902933762008024891227540710113004076266005933244184626171579645618218833576172394835035733755345155331218574375955228079342916353466717002880926834539902389618739101912847004630452334272942623364971624133014001663821031936466121552306623112637321443169724425456573026835390914279962808745617643489341073139913970128249694705060219856611256163443045633823991767387671094102994722720500406627555660815223628229358290751540240099895088177990564472739236563174798237036091997996880242740469058458712599457403160644448544630094610290094439320576717091163800593975893009827666791953657786311728062157540795710639370377269294358748713436443429743926167599351199696607014969459187986349863507113958797508949478708789411567184902616177309969667084677924875861193725005630225000114800240644267598286389771129634984478862130621389981345768157073400785290267022560089962213006164796618916424474997393393624211748084541647626756262736697136087511427081102348026952823392754444858125388922196972892485859417075385291664454806384258022854150859417549403163742292892122657590283817044362659395398645080233813587704257099093743163910163617851069488916891644723200000000000000000000000000000000000000000000000000000000000000000000000000000000000000000000000000000000000000000000000000000000000000000000000000000000000000000000000000000000000000000000000000000000000000000000000000000000000000000000000000000000000000000000000000000000000000000000000000000000000000000000000000000000000000000000000000000000000000000000000000000000000000000000000000"
      ]
     },
     "execution_count": 22,
     "metadata": {},
     "output_type": "execute_result"
    }
   ],
   "source": [
    "# TODO Python function to calculate factorial\n",
    "def factorial(n):\n",
    "    if n == 0:\n",
    "        return 1\n",
    "    else:\n",
    "        return n * factorial(n-1)\n",
    "factorial(1550)\n",
    "#1550 is the maximum number that can be calculated in my pc not sure about other pc"
   ]
  },
  {
   "cell_type": "code",
   "execution_count": null,
   "metadata": {},
   "outputs": [
    {
     "name": "stdout",
     "output_type": "stream",
     "text": [
      "Maximale Rekursionstiefe:  3000\n"
     ]
    }
   ],
   "source": [
    "# Code to find the maximum recursion depth\n",
    "import sys\n",
    "print(\"Maximale Rekursionstiefe: \",sys.getrecursionlimit())"
   ]
  },
  {
   "cell_type": "code",
   "execution_count": null,
   "metadata": {},
   "outputs": [],
   "source": [
    "#Ask the Prof. the difference between the functional objects in C++ and in Python"
   ]
  },
  {
   "cell_type": "markdown",
   "metadata": {},
   "source": [
    "<h2><span style=\"color:red\">### 3.5 Functions as objects</span></h2>\n",
    "\n",
    "<span style=\"color:red\">In Python's standard type hierarchy, functions \n",
    "<br>\n",
    "are called callable objects. They are, so to speak, \"treated the same\" as variables. Functions therefore also have an **identity**, a **type** and a **value** (see also 2.2.1 Data as Objects).</span>\n"
   ]
  },
  {
   "cell_type": "markdown",
   "metadata": {},
   "source": []
  },
  {
   "cell_type": "code",
   "execution_count": null,
   "metadata": {},
   "outputs": [
    {
     "name": "stdout",
     "output_type": "stream",
     "text": [
      "2834466709856\n",
      "<class 'builtin_function_or_method'>\n",
      "<built-in function len>\n"
     ]
    }
   ],
   "source": [
    "# TODO example using the standard function len()\n",
    "print(id(len))\n",
    "print(type(len))\n",
    "print(len)"
   ]
  },
  {
   "cell_type": "code",
   "execution_count": null,
   "metadata": {},
   "outputs": [
    {
     "name": "stdout",
     "output_type": "stream",
     "text": [
      "4\n",
      "True\n",
      "True\n",
      "False\n"
     ]
    }
   ],
   "source": [
    "# TODO practical example of a function object\n",
    "laenge = len\n",
    "length = len\n",
    "print(laenge(\"Wort\"))\n",
    "# Funktionsobjekte können hinsichtlich Gleichheit und Identität verglichen werde\n",
    "print( len == laenge)\n",
    "print(len is laenge)\n",
    "print(len is type)\n"
   ]
  },
  {
   "cell_type": "code",
   "execution_count": null,
   "metadata": {},
   "outputs": [
    {
     "name": "stdout",
     "output_type": "stream",
     "text": [
      "<class 'builtin_function_or_method'>\n",
      "<built-in function len>\n",
      "2859611103584\n",
      "7\n"
     ]
    }
   ],
   "source": [
    "print(type(len))\n",
    "print(len)\n",
    "print(id(len))\n",
    "print(len(\"Muazzam\"))\n",
    "\n"
   ]
  },
  {
   "cell_type": "code",
   "execution_count": null,
   "metadata": {},
   "outputs": [],
   "source": [
    "# TODO Example of a lambda function\n"
   ]
  },
  {
   "cell_type": "code",
   "execution_count": 21,
   "metadata": {},
   "outputs": [
    {
     "name": "stdout",
     "output_type": "stream",
     "text": [
      "6\n"
     ]
    }
   ],
   "source": [
    "print((lambda x, y,z : y+z )(5,2,4))\n",
    "\n",
    "# So the first x is 5 \n",
    "# The variable next ot lambda x, y, z takes the value from the next bracket (5,2,4)\n",
    "# After the : we have the expression that we want to evaluate that gets printed as the output\n",
    "# The output of the above lambda function is 6 because 2+4 = 6"
   ]
  },
  {
   "cell_type": "code",
   "execution_count": 34,
   "metadata": {},
   "outputs": [
    {
     "data": {
      "text/plain": [
       "'Gerade Zahl'"
      ]
     },
     "execution_count": 34,
     "metadata": {},
     "output_type": "execute_result"
    }
   ],
   "source": [
    "result = lambda x,y: \"Gerade Zahl\" if x%2 == 0 or y == 12 else \"Ungerade Zahl\" \n",
    "result(91,12)\n",
    "\n",
    "#So basically after the : we can put the things that needs to be evaluated and processed \n",
    "#Before the : we have the parameters that are passed to the lambda function\n"
   ]
  },
  {
   "cell_type": "code",
   "execution_count": null,
   "metadata": {},
   "outputs": [],
   "source": [
    "# TODO example \"y-subject function\"\n",
    "def func2(x,y):\n",
    "    print (\"Func2 x:\",x)\n",
    "    print (\"Func2 y:\",y)\n",
    "    return x+y\n",
    "\n",
    "def func1(x):\n",
    "    print(\"x:\",x)\n",
    "    return lambda x: func2(1,1+x)\n",
    "\n",
    "func1(2)(3)\n",
    "\n",
    "\n",
    "# So basically the first () refers to the value of x in the func1 but from the parameter of the original function\n",
    "# The second () refers to the value of x in the lambda function which is passed to the func2\n"
   ]
  },
  {
   "cell_type": "markdown",
   "metadata": {},
   "source": [
    "Docstrings are a crucial part of writing clear and maintainable code. They serve multiple purposes, primarily focused on documentation and helping other developers (including your future self) understand what the code is intended to do.\n",
    "\n",
    "\n",
    "They can be used in providing Usage with Help functions "
   ]
  },
  {
   "cell_type": "code",
   "execution_count": 37,
   "metadata": {},
   "outputs": [
    {
     "name": "stdout",
     "output_type": "stream",
     "text": [
      "120\n",
      "Help on function factorial in module __main__:\n",
      "\n",
      "factorial(n)\n",
      "    Calculate the factorial of a number.\n",
      "    \n",
      "    Parameters:\n",
      "    n (int): A non-negative integer whose factorial is to be calculated.\n",
      "    \n",
      "    Returns:\n",
      "    int: The factorial of the input number.\n",
      "    \n",
      "    Raises:\n",
      "    ValueError: If the input is a negative integer.\n",
      "    \n",
      "    Examples:\n",
      "    >>> factorial(5)\n",
      "    120\n",
      "    \n",
      "    >>> factorial(0)\n",
      "    1\n",
      "\n"
     ]
    }
   ],
   "source": [
    "def factorial(n):\n",
    "    \"\"\"\n",
    "    Calculate the factorial of a number.\n",
    "\n",
    "    Parameters:\n",
    "    n (int): A non-negative integer whose factorial is to be calculated.\n",
    "\n",
    "    Returns:\n",
    "    int: The factorial of the input number.\n",
    "\n",
    "    Raises:\n",
    "    ValueError: If the input is a negative integer.\n",
    "\n",
    "    Examples:\n",
    "    >>> factorial(5)\n",
    "    120\n",
    "\n",
    "    >>> factorial(0)\n",
    "    1\n",
    "    \"\"\"\n",
    "    if n < 0:\n",
    "        raise ValueError(\"Input must be a non-negative integer\")\n",
    "    elif n == 0:\n",
    "        return 1\n",
    "    else:\n",
    "        result = 1\n",
    "        for i in range(1, n + 1):\n",
    "            result *= i\n",
    "        return result\n",
    "    \n",
    "print(factorial(5))\n",
    "help(factorial)\n"
   ]
  },
  {
   "cell_type": "markdown",
   "metadata": {},
   "source": [
    "<h1>Notebook 3</h1>"
   ]
  },
  {
   "cell_type": "code",
   "execution_count": null,
   "metadata": {},
   "outputs": [],
   "source": [
    "#Data structures in python\n",
    "#1. String\n",
    "#2. List\n",
    "#3. Tuple\n",
    "#4. Set\n",
    "#5. Dictionary"
   ]
  },
  {
   "cell_type": "code",
   "execution_count": 46,
   "metadata": {},
   "outputs": [
    {
     "name": "stdout",
     "output_type": "stream",
     "text": [
      "Hello, World!\n",
      "H\n",
      "W\n",
      "Hello\n",
      "World!\n",
      "HELLO, WORLD!\n",
      "hello, world!\n",
      "Jello, World!\n",
      "['Hello', ' World!']\n",
      "13\n",
      "Hello, World!\n",
      "True\n",
      "False\n",
      "True\n",
      "False\n",
      "Hello, World! How are you?\n",
      "Hello, World!Hello, World!\n"
     ]
    }
   ],
   "source": [
    "#String\n",
    "#1. A string is a sequence of characters.\n",
    "#2. Strings are immutable.\n",
    "#3. Strings can be enclosed in single, double, or triple quotes.\n",
    "#4. Triple quotes are used for multi-line strings.\n",
    "#5. Strings can be concatenated using the + operator.\n",
    "#6. Strings can be repeated using the * operator.\n",
    "#7. Strings can be indexed and sliced.\n",
    "#8. Strings have several built-in methods for manipulation.\n",
    "#9. Strings can be formatted using the format() method or f-strings.\n",
    "#10. Strings can be converted to uppercase or lowercase using the upper() and lower() methods.\n",
    "#Example:\n",
    "s = \"Hello, World!\"\n",
    "print(s)  # Output: Hello, World!\n",
    "print(s[0])  # Output: H\n",
    "print(s[7])  # Output: W\n",
    "print(s[0:5])  # Output: Hello\n",
    "print(s[7:])  # Output: World!\n",
    "print(s.upper())  # Output: HELLO, WORLD!\n",
    "print(s.lower())  # Output: hello, world!\n",
    "print(s.replace(\"H\", \"J\"))  # Output: Jello, World!\n",
    "print(s.split(\",\"))  # Output: ['Hello', ' World!']\n",
    "print(len(s))  # Output: 13\n",
    "print(s.strip())  # Output: Hello, World!\n",
    "print(s.startswith(\"Hello\"))  # Output: True\n",
    "print(s.endswith(\"Muazzam!\"))  # Output: True\n",
    "print(\"Hello\" in s)  # Output: True\n",
    "print(\"Hello\" not in s)  # Output: False\n",
    "print(s,\"How are you?\")  # Output: Hello, World! How are you?\n",
    "print(s * 2)  # Output: Hello, World!Hello, World!\n"
   ]
  },
  {
   "cell_type": "code",
   "execution_count": 54,
   "metadata": {},
   "outputs": [
    {
     "name": "stdout",
     "output_type": "stream",
     "text": [
      "My name is Muazzam and I am 25 years old.\n",
      "5 + 5 = 10\n",
      "25/3: 8.333333333\n",
      "25/3: result= 8.333333333333334\n"
     ]
    }
   ],
   "source": [
    "#f-strings\n",
    "#1. f-strings are used for string formatting.\n",
    "#2. f-strings are prefixed with 'f' or 'F'.\n",
    "#3. f-strings allow embedding expressions inside string literals.\n",
    "#4. f-strings are evaluated at runtime.\n",
    "#Example:\n",
    "name = \"Muazzam\"\n",
    "age = 25\n",
    "temp = 3\n",
    "result = age/temp\n",
    "print(f\"My name is {name} and I am {age} years old.\")  # Output: My name is Muazzam and I am 25 years old.\n",
    "print(f\"5 + 5 = {5 + 5}\")  # Output: 5 + 5 = 10\n",
    "\n",
    "print( \"25/3: {result:.9f}\".format(result=result))  # Output: 25/3: 8.33\n",
    "print(f\"25/3: {result= }\")  # Output: 25/3: 8.33\n",
    "# make sure to use the alphabet f before the string to use the f-strings\n"
   ]
  },
  {
   "cell_type": "code",
   "execution_count": 59,
   "metadata": {},
   "outputs": [
    {
     "name": "stdout",
     "output_type": "stream",
     "text": [
      "[1, 2, 3, 4, 5]\n",
      "1\n",
      "3\n",
      "[2, 3]\n",
      "[3, 4, 5]\n",
      "[1, 2, 3, 4, 5, 6, 7, 8]\n",
      "[1, 2, 3, 4, 5, 1, 2, 3, 4, 5]\n",
      "[1, 2, 3, 4, 5, 6]\n"
     ]
    },
    {
     "data": {
      "text/plain": [
       "[1, 2, 3, 'Muazzam', 6]"
      ]
     },
     "execution_count": 59,
     "metadata": {},
     "output_type": "execute_result"
    }
   ],
   "source": [
    "#List\n",
    "#1. A list is a collection of items.\n",
    "#2. Lists are ordered and mutable.\n",
    "#3. Lists can contain elements of different data types.\n",
    "#4. Lists can be nested.\n",
    "#5. Lists can be indexed and sliced.\n",
    "#6. Lists have several built-in methods for manipulation.\n",
    "#7. Lists can be concatenated using the + operator.\n",
    "#8. Lists can be repeated using the * operator.\n",
    "#9. Lists can be converted to a tuple using the tuple() constructor.\n",
    "#10. Lists can be converted to a set using the set() constructor.\n",
    "#Example:\n",
    "numbers = [1, 2, 3, 4, 5]\n",
    "print(numbers)  # Output: [1, 2, 3, 4, 5]\n",
    "print(numbers[0])  # Output: 1\n",
    "print(numbers[2])  # Output: 3\n",
    "print(numbers[1:3])  # Output: [2, 3]\n",
    "print(numbers[2:])  # Output: [3, 4, 5]\n",
    "print(numbers + [6, 7, 8])  # Output: [1, 2, 3, 4, 5, 6, 7, 8]\n",
    "print(numbers * 2)  # Output: [1, 2, 3, 4, 5, 1, 2, 3, 4, 5]\n",
    "numbers.append(6)\n",
    "print(numbers)  # Output: [1, 2, 3, 4, 5, 6]\n",
    "\n",
    "x = [1, 2, 3, \"Muazzam\", 0b110]\n",
    "print(x)  # Output: [1, 2, 3, 'Muazzam', 6]"
   ]
  },
  {
   "cell_type": "code",
   "execution_count": 92,
   "metadata": {},
   "outputs": [
    {
     "name": "stdout",
     "output_type": "stream",
     "text": [
      "[1, 2, 'Muazzam', 6]\n",
      "[1, 2, 6]\n",
      "Debug [1, 4, 2, 6]\n",
      "[6, 2, 4, 1]\n",
      "[1, 2, 4, 6]\n",
      "[1, 2, 4, 6, 'multiply', 'divide']\n",
      "[]\n"
     ]
    }
   ],
   "source": [
    "listx = [1,2,4,\"Muazzam\", 0b110]\n",
    "listx.remove(4)\n",
    "print(listx)  # Output: [1, 2, 'Muazzam', 6]\n",
    "listx.pop(2)\n",
    "print(listx)  # Output: [1, 2, 6]\n",
    "listx.insert(1,4) #Inserts the value 4 at the index 2\n",
    "print(\"Debug\",listx)  # Output: [1, 2, 4, 6]\n",
    "listx.reverse()\n",
    "print(listx)  # Output: [6, 4, 2, 1]\n",
    "listx.sort()\n",
    "print(listx)  # Output: [1, 2, 4, 6]\n",
    "listx.extend([\"multiply\", \"divide\"])\n",
    "print(listx)  # Output: [1, 2, 3, 4]\n",
    "listx.clear()\n",
    "print(listx)  # Output: []\n"
   ]
  },
  {
   "cell_type": "code",
   "execution_count": 93,
   "metadata": {},
   "outputs": [
    {
     "name": "stdout",
     "output_type": "stream",
     "text": [
      "[1, 2, 3]\n",
      "[1, 2]\n",
      "[1]\n",
      "[]\n"
     ]
    }
   ],
   "source": [
    "# TODO example list as a stack\n",
    "stack = []\n",
    "stack.append(1)\n",
    "stack.append(2)\n",
    "stack.append(3)\n",
    "print(stack)  # Output: [1, 2, 3]\n",
    "stack.pop()\n",
    "print(stack)  # Output: [1, 2]\n",
    "stack.pop()\n",
    "print(stack)  # Output: [1]\n",
    "stack.pop()\n",
    "print(stack)  # Output: []\n"
   ]
  },
  {
   "cell_type": "code",
   "execution_count": 99,
   "metadata": {},
   "outputs": [
    {
     "name": "stdout",
     "output_type": "stream",
     "text": [
      "[0, 1, 4, 9, 16, 25, 36, 49, 64, 81]\n",
      "[0, 1, 4, 9, 16, 25, 36, 49, 64, 81]\n"
     ]
    }
   ],
   "source": [
    "# Basically two ways to do the same thing\n",
    "\n",
    "quadrate = []\n",
    "for i in range(10):\n",
    "    quadrate.append(i**2)\n",
    "print(quadrate)  # Output: [0, 1, 4, 9, 16, 25, 36, 49, 64, 81]\n",
    "\n",
    "quatrate_comp = [i**2 for i in range(10)]\n",
    "print(quatrate_comp)  # Output: [0, 1, 4, 9, 16, 25, 36, 49, 64, 81]\n"
   ]
  },
  {
   "cell_type": "code",
   "execution_count": 107,
   "metadata": {},
   "outputs": [
    {
     "name": "stdout",
     "output_type": "stream",
     "text": [
      "['Even', 'Odd', 'Odd', 'Odd', 'Odd', 'Odd', 'Odd', 'Odd', 'Odd', 'Odd']\n"
     ]
    }
   ],
   "source": [
    "modified_list = [\"Even\" if i**2  == 0 else \"Odd\" for i in range(10)]\n",
    "print(modified_list)  # Output: ['Even', 'Odd', 'Even', 'Odd', 'Even', 'Odd', 'Even', 'Odd', 'Even', 'Odd']\n"
   ]
  },
  {
   "cell_type": "code",
   "execution_count": 116,
   "metadata": {},
   "outputs": [
    {
     "name": "stdout",
     "output_type": "stream",
     "text": [
      "[2, 3, 4, 5, 6, 7, 8, 9, 10, 11]\n"
     ]
    }
   ],
   "source": [
    "#Basically the map function is used to apply the function to the \n",
    "# list and the lambda function is used to define the function\n",
    "#Purpose of map is to apply the function to the list\n",
    "neueListe = list(map(lambda x: x +2, range(10)))\n",
    "print(neueListe)\n",
    "\n",
    "\n"
   ]
  },
  {
   "cell_type": "markdown",
   "metadata": {},
   "source": [
    "Inset: What is an *iterable object (itarable)*?\n",
    "> An iterable object is an object that has its\n",
    "Can return elements individually, i.e. one by one. Examples of iterable\n",
    "Objects are all sequential data types such as list, str and tuple), but also the\n",
    "Dictionary class dict.\n",
    "\n",
    "? Every sequential data type is iterable, but not every iterable object has a sequential data type. For sequential data types, there is an **index** to access individual elements"
   ]
  },
  {
   "cell_type": "code",
   "execution_count": 125,
   "metadata": {},
   "outputs": [
    {
     "name": "stdout",
     "output_type": "stream",
     "text": [
      "6\n"
     ]
    }
   ],
   "source": [
    "from functools import reduce\n",
    "liste = [1,2,1,1,1]\n",
    "summe = reduce(lambda x,y: x+y, liste)\n",
    "print(summe)\n",
    "# So the reduce function is used to reduce the list to a single value\n",
    "# X takes the first value of the list and y takes the second value of the list\n",
    "# So that means 1+2 = 3, 3+1 = 4, 4+1 = 5, 5+1 = 6\n",
    "# So at the second step the value of x is 3 and the value of y is 1\n",
    "# So the output is 4\n",
    "# At the third step the value of x is 4 and the value of y is 1"
   ]
  },
  {
   "cell_type": "code",
   "execution_count": 135,
   "metadata": {},
   "outputs": [
    {
     "data": {
      "text/plain": [
       "111"
      ]
     },
     "execution_count": 135,
     "metadata": {},
     "output_type": "execute_result"
    }
   ],
   "source": [
    "from functools import reduce\n",
    "\n",
    "liste = [11, 12, 111, 7, 6, 4]\n",
    "maximum = reduce(lambda x, y: x if x > y else y, liste)\n",
    "maximum\n",
    "\n",
    "# here X takes the first value of the list and y takes the second value of the list\n",
    "# Then it compares the value of x with the value of y\n",
    "# So that means 11>12 is false so the value of y is returned\n",
    "# Then the value of y is compared with the next value of the list\n",
    "# So that means 12>111 is false so the value of y is returned\n",
    "# Then the value of y is compared with the next value of the list\n",
    "# So that means 111>7 is true so the value of x is returned\n",
    "# Then the value of x is compared with the next value of the list\n",
    "# So that means 111>6 is true so the value of x is returned\n",
    "# Then the value of x is compared with the next value of the list\n",
    "# So that means 111>4 is true so the value of x is returned\n",
    "# So the output is 111\n"
   ]
  },
  {
   "cell_type": "code",
   "execution_count": null,
   "metadata": {},
   "outputs": [],
   "source": [
    "# Which has nothing to do with copying\n",
    "x = [ 1, 2, 3, 4, 5]\n",
    "y = x\n",
    "print(\"x: \", x)             \n",
    "print(\"y: \", y)             \n",
    "print(id(x), id(y), \"\\n\")   \n",
    "# Change the list\n",
    "print(\"Veränderung\")\n",
    "x[1] = 33\n",
    "print(\"x: \", x)             \n",
    "print(\"y: \", y)             \n",
    "print(id(x), id(y), \"\\n\")   "
   ]
  },
  {
   "cell_type": "code",
   "execution_count": 136,
   "metadata": {},
   "outputs": [
    {
     "name": "stdout",
     "output_type": "stream",
     "text": [
      "(1, 2, 3, 4, 5)\n",
      "1\n",
      "3\n",
      "(2, 3)\n",
      "(3, 4, 5)\n",
      "(1, 2, 3, 4, 5, 6, 7, 8)\n"
     ]
    }
   ],
   "source": [
    "#Tupel\n",
    "#1. A tuple is a collection of items.\n",
    "#2. Tuples are ordered and immutable.\n",
    "#3. Tuples can contain elements of different data types.\n",
    "#4. Tuples can be nested.\n",
    "#5. Tuples can be indexed and sliced.\n",
    "#6. Tuples have several built-in methods for manipulation.\n",
    "#7. Tuples can be concatenated using the + operator.\n",
    "#8. Tuples can be repeated using the * operator.\n",
    "#9. Tuples can be converted to a list using the list() constructor.\n",
    "#10. Tuples can be converted to a set using the set() constructor.\n",
    "#Example:\n",
    "numbers = (1, 2, 3, 4, 5)\n",
    "print(numbers)  # Output: (1, 2, 3, 4, 5)\n",
    "print(numbers[0])  # Output: 1\n",
    "print(numbers[2])  # Output: 3\n",
    "print(numbers[1:3])  # Output: (2, 3)\n",
    "print(numbers[2:])  # Output: (3, 4, 5)\n",
    "print(numbers + (6, 7, 8))  # Output: (1, 2, 3, 4, 5, 6, 7, 8)\n"
   ]
  },
  {
   "cell_type": "code",
   "execution_count": 153,
   "metadata": {},
   "outputs": [
    {
     "name": "stdout",
     "output_type": "stream",
     "text": [
      "1\n",
      "2\n",
      "3\n",
      "4\n",
      "5\n",
      "6\n",
      ".........................................................\n",
      "1\n",
      "2\n",
      "3\n",
      "4\n",
      "5\n",
      "6\n"
     ]
    }
   ],
   "source": [
    "# Iterationen mit der for-Schleife\n",
    "t1 = ( (1,2,3), (4,5,6) ) # 2x3-Tuple\n",
    "# Array-Denkweise mit Indizes (schlecht!)\n",
    "for i in range(2): # 2 Elements in the outer tuple (1,2,3),(4,5,6) means 2 values\n",
    "    for j in range(3) :  # 3 Elements in the inner tuple (Inside the elements (4,5,6) means 3 values inside)\n",
    "        print(t1[i][j])\n",
    "print(\".........................................................\")\n",
    "\n",
    "for i in t1:\n",
    "    for j in i:\n",
    "        print(j)\n",
    "# Outer loop iterates over the elements of the tuple t1\n",
    "# Inner loop iterates over the elements of the inner tuple\n",
    "# So that means the first element of the outer loop is (1,2,3)\n",
    "# The first element of the inner loop is 1\n",
    "# The second element of the inner loop is 2\n",
    "# The third element of the inner loop is 3\n",
    "# The second element of the outer loop is (4,5,6)\n",
    "# The first element of the inner loop is 4\n",
    "# The second element of the inner loop is 5\n",
    "# The third element of the inner loop is 6\n"
   ]
  },
  {
   "cell_type": "code",
   "execution_count": null,
   "metadata": {},
   "outputs": [],
   "source": []
  }
 ],
 "metadata": {
  "kernelspec": {
   "display_name": "Python 3",
   "language": "python",
   "name": "python3"
  },
  "language_info": {
   "codemirror_mode": {
    "name": "ipython",
    "version": 3
   },
   "file_extension": ".py",
   "mimetype": "text/x-python",
   "name": "python",
   "nbconvert_exporter": "python",
   "pygments_lexer": "ipython3",
   "version": "3.11.3"
  }
 },
 "nbformat": 4,
 "nbformat_minor": 2
}
