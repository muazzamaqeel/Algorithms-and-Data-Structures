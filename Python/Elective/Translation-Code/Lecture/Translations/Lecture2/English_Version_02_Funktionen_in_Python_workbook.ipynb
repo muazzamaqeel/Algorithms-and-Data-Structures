{
 "cells": [
  {
   "cell_type": "markdown",
   "metadata": {
    "slideshow": {
     "slide_type": "slide"
    }
   },
   "source": [
    "## 3. Features\n",
    "\n",
    "If you try to fit all the instructions for calculating a complex task into a single, coherent section of source code (*main program*), the program will quickly lose readability or you will lose track of your own work. \\\n",
    "The so-called *subprogram technique* offers a remedy for breaking down complex problems into easy-to-manage sub-problems. In modern programming languages, such a subprogram is called: **function**."
   ]
  },
  {
   "cell_type": "markdown",
   "metadata": {
    "slideshow": {
     "slide_type": "fragment"
    }
   },
   "source": [
    "> A function is an object that can solve a specific sub-task of a program. When a function is called, it takes certain objects as input, processes them and returns an object as output [2]\n",
    "\n",
    "<sub>[2]: “6. Features | Python 3 - Learn and use professionally”. Accessed: March 17, 2024. [Online]. Available at: https://learning.oreilly.com/library/view/python-3/9783958457935/xhtml/ch12.xhtml\n",
    "\n",
    "</sub>"
   ]
  },
  {
   "cell_type": "markdown",
   "metadata": {
    "slideshow": {
     "slide_type": "fragment"
    }
   },
   "source": [
    "Two fundamental ideas are important when using functions:\n",
    "\n",
    "- gradual refinement\n",
    "- Recursion"
   ]
  },
  {
   "cell_type": "markdown",
   "metadata": {
    "slideshow": {
     "slide_type": "subslide"
    }
   },
   "source": [
    "Python offers a number of standard functions ([*built-in functions*](https://docs.python.org/3/library/functions.html)):\n",
    "\n",
    "- `int(x)`: Creates a new integer from a string, byte or float x.\n",
    "- `int(string, base)`: Creates an integer from a string encoding in the number system with base base\n",
    "- `float(x)`: Creates a floating point number from a string, byte or int x\n",
    "- `str(x)`: Formats the object x as a Unicode string. The formatting is the same as `print(x)`\n",
    "- `chr(code)`: Creates a character of a one-element [Unicode string](https://symbl.cc/de/unicode-table/) from an integer (int) Unicode encoding code.\n",
    "- `ord(char)`: Returns the encoding of a single-element Unicode string (&harr; `chr(code)`)\n",
    "- `hex(n), oct(n), bin(n)`: Encodes an integer n in hexadecimal, octal or dual system. Returns a Unicode string prefixed with `0x`, `0o` or `0b`"
   ]
  },
  {
   "cell_type": "code",
   "execution_count": 1,
   "metadata": {
    "slideshow": {
     "slide_type": "fragment"
    }
   },
   "outputs": [
    {
     "name": "stdout",
     "output_type": "stream",
     "text": [
      "111\n",
      "<class 'str'>\n",
      "The conversion 1\n"
     ]
    },
    {
     "data": {
      "text/plain": [
       "100"
      ]
     },
     "execution_count": 1,
     "metadata": {},
     "output_type": "execute_result"
    }
   ],
   "source": [
    "# TODO examples\n",
    "\n",
    "x = input(\"Your favorite number: \")\n",
    "print(3 * x)\n",
    "print(type(x))\n",
    "print(\"The conversion\", str(x))\n",
    "chr(0x64)\n",
    "ord('d')\n",
    "\n"
   ]
  },
  {
   "cell_type": "markdown",
   "metadata": {
    "slideshow": {
     "slide_type": "subslide"
    }
   },
   "source": [
    "**Hintergrund: Call by what?**"
   ]
  },
  {
   "cell_type": "markdown",
   "metadata": {
    "slideshow": {
     "slide_type": "fragment"
    }
   },
   "source": [
    "Known (from C/C++):\n",
    "|call by value | call by reference |\n",
    "|:----|:----|\n",
    "| - a value is passed to the function, which is processed by the function, but without having any effect on the original object| - Function is passed a reference (pointer). This means that the object itself is processed and changes to it remain. |"
   ]
  },
  {
   "cell_type": "markdown",
   "metadata": {
    "slideshow": {
     "slide_type": "fragment"
    }
   },
   "source": [
    "Both are no longer available in Python, but only:\n",
    "\n",
    "| call by object |\n",
    "|:---|\n",
    "|- Objects (or their names) are always passed with a function. Whether changes to these persist ultimately depends on the type of object. There are mutable and immutable objects (*mutable* and *immutable*)"
   ]
  },
  {
   "cell_type": "markdown",
   "metadata": {
    "slideshow": {
     "slide_type": "slide"
    }
   },
   "source": [
    "### 3.1 Definition of functions"
   ]
  },
  {
   "cell_type": "markdown",
   "metadata": {
    "slideshow": {
     "slide_type": "fragment"
    }
   },
   "source": [
    "The definition of a function must follow the following format:\n",
    "\n",
    "```python\n",
    "def function name (parameter list):\n",
    "    instruction block\n",
    "```"
   ]
  },
  {
   "cell_type": "code",
   "execution_count": 2,
   "metadata": {
    "slideshow": {
     "slide_type": "fragment"
    }
   },
   "outputs": [],
   "source": [
    "# TODO Example of a simple function\n"
   ]
  },
  {
   "cell_type": "code",
   "execution_count": 3,
   "metadata": {
    "slideshow": {
     "slide_type": "fragment"
    }
   },
   "outputs": [
    {
     "data": {
      "text/plain": [
       "True"
      ]
     },
     "execution_count": 3,
     "metadata": {},
     "output_type": "execute_result"
    }
   ],
   "source": [
    "# Program example for determining prime numbers\n",
    "def primzahl (zahl):\n",
    "    if zahl <= 1:\n",
    "        prim = False\n",
    "    elif zahl == 2:\n",
    "        prim = True\n",
    "    else:\n",
    "        for i in range(2, zahl//2 +1):\n",
    "            if zahl % i == 0:   # Teiler gefunden\n",
    "                prim = False\n",
    "                break\n",
    "        else: prim = True       # kein Teiler gefunden\n",
    "    return prim\n",
    "\n",
    "primzahl(3)"
   ]
  },
  {
   "cell_type": "markdown",
   "metadata": {
    "slideshow": {
     "slide_type": "fragment"
    }
   },
   "source": [
    "Better:"
   ]
  },
  {
   "cell_type": "code",
   "execution_count": 4,
   "metadata": {
    "slideshow": {
     "slide_type": "fragment"
    }
   },
   "outputs": [
    {
     "data": {
      "text/plain": [
       "True"
      ]
     },
     "execution_count": 4,
     "metadata": {},
     "output_type": "execute_result"
    }
   ],
   "source": [
    "# Program example for determining prime numbers\n",
    "def primzahl (zahl):\n",
    "    if zahl <= 1:\n",
    "        return False\n",
    "    elif zahl == 2:\n",
    "        return True\n",
    "    else:\n",
    "        for i in range(2, zahl//2 +1):\n",
    "            if zahl % i == 0:   # Teiler gefunden\n",
    "                return False\n",
    "        return True             # kein Teiler gefunden\n",
    "\n",
    "primzahl(3)"
   ]
  },
  {
   "cell_type": "markdown",
   "metadata": {
    "slideshow": {
     "slide_type": "slide"
    }
   },
   "source": [
    "### 3.2 Execution of functions\n",
    "#### 3.2.1 Global and local names"
   ]
  },
  {
   "cell_type": "code",
   "execution_count": 5,
   "metadata": {
    "slideshow": {
     "slide_type": "fragment"
    }
   },
   "outputs": [
    {
     "name": "stdout",
     "output_type": "stream",
     "text": [
      "Call by Object Reference\n",
      "1. print im Hauptprogramm: id(y):  140717419717928 y =  17\n",
      "Breaker\n",
      "1. print in Funktion: id(y): 140717419717928 y =  17\n",
      "2. print in Funktion: id(y): 140717419717480 y =  3\n",
      "2. print im Hauptprogramm: id(y):  140717419717928 y =  17\n"
     ]
    }
   ],
   "source": [
    "# Example of \"Call by object\"\n",
    "def f(y) :\n",
    "    print(\"1. print in Funktion: id(y):\",id(y), \"y = \", y)\n",
    "    y = 3\n",
    "    print(\"2. print in Funktion: id(y):\",id(y), \"y = \", y)\n",
    "\n",
    "print(\"Call by Object Reference\")\n",
    "y = 17\n",
    "print (\"1. print im Hauptprogramm: id(y): \", id(y), \"y = \", y)\n",
    "\n",
    "print(\"Breaker\")\n",
    "\n",
    "f(y)\n",
    "print (\"2. print im Hauptprogramm: id(y): \", id(y), \"y = \", y)\n"
   ]
  },
  {
   "cell_type": "markdown",
   "metadata": {
    "slideshow": {
     "slide_type": "fragment"
    }
   },
   "source": [
    "Why isn't `y = 3` printed in the last print output?"
   ]
  },
  {
   "cell_type": "markdown",
   "metadata": {
    "slideshow": {
     "slide_type": "subslide"
    }
   },
   "source": [
    "Functions have their own *namespace*. This means that any variable you define within a function automatically has a **local** scope. This means that no matter what you do with this variable within the function, it will not affect other (**global**) variables outside the function, even if they have the same name. The function body/statement block is the scope of such a variable."
   ]
  },
  {
   "cell_type": "code",
   "execution_count": 11,
   "metadata": {
    "slideshow": {
     "slide_type": "fragment"
    }
   },
   "outputs": [
    {
     "name": "stdout",
     "output_type": "stream",
     "text": [
      "A in Function eins:  10\n",
      "A in Function zwei:  12\n",
      "2\n"
     ]
    }
   ],
   "source": [
    "# TODO Example of a common error\n",
    "# Restart the kernel so that you are sure to see the error message\n",
    "\n",
    "def eins():\n",
    "    a= 10\n",
    "    print(\"A in Function eins: \", a)\n",
    "\n",
    "def zwei():\n",
    "    b = a + 10\n",
    "    print(\"A in Function zwei: \", b)\n",
    "\n",
    "a = 2\n",
    "eins()\n",
    "zwei()\n",
    "print(a)\n",
    "\n",
    "#Apprently from above example, the variable a is not defined in the function zwei.\n",
    "#The variable a is defined in the function eins and is not available in the function zwei, \n",
    "# which means that the variable a is not defined in the function zwei, and the function zwei cannot access the variable a, \n",
    "# so it will use the global variable a and would not be able to change the value of gloabl variable a "
   ]
  },
  {
   "cell_type": "markdown",
   "metadata": {
    "slideshow": {
     "slide_type": "fragment"
    }
   },
   "source": [
    "To gain insight into the namespaces created by the Python interpreter, there are the `globals()` and `locals()` functions:"
   ]
  },
  {
   "cell_type": "code",
   "execution_count": 7,
   "metadata": {
    "slideshow": {
     "slide_type": "fragment"
    }
   },
   "outputs": [],
   "source": [
    "# TODO example without errors with output of the namespaces\n"
   ]
  },
  {
   "cell_type": "markdown",
   "metadata": {
    "slideshow": {
     "slide_type": "fragment"
    }
   },
   "source": [
    "Unfortunately the output is a bit confusing, but the following can still be seen:\n",
    "- In the main program, the local and global namespaces are (always) identical\n",
    "- The global namespaces of the functions correspond to those of the main program\n",
    "- The local namespaces of the functions only contain the locally defined information"
   ]
  },
  {
   "cell_type": "markdown",
   "metadata": {
    "slideshow": {
     "slide_type": "subslide"
    }
   },
   "source": [
    "#### 3.2.2 The global statement - side effects"
   ]
  },
  {
   "cell_type": "code",
   "execution_count": 28,
   "metadata": {
    "slideshow": {
     "slide_type": "fragment"
    }
   },
   "outputs": [
    {
     "ename": "UnboundLocalError",
     "evalue": "cannot access local variable 'x' where it is not associated with a value",
     "output_type": "error",
     "traceback": [
      "\u001b[1;31m---------------------------------------------------------------------------\u001b[0m",
      "\u001b[1;31mUnboundLocalError\u001b[0m                         Traceback (most recent call last)",
      "Cell \u001b[1;32mIn[28], line 6\u001b[0m\n\u001b[0;32m      4\u001b[0m     x \u001b[38;5;241m=\u001b[39m x\u001b[38;5;241m*\u001b[39m\u001b[38;5;241m2\u001b[39m     \n\u001b[0;32m      5\u001b[0m x \u001b[38;5;241m=\u001b[39m \u001b[38;5;241m2\u001b[39m\n\u001b[1;32m----> 6\u001b[0m \u001b[43mverdopple\u001b[49m\u001b[43m(\u001b[49m\u001b[43m)\u001b[49m\n\u001b[0;32m      7\u001b[0m x\n",
      "Cell \u001b[1;32mIn[28], line 4\u001b[0m, in \u001b[0;36mverdopple\u001b[1;34m()\u001b[0m\n\u001b[0;32m      3\u001b[0m \u001b[38;5;28;01mdef\u001b[39;00m \u001b[38;5;21mverdopple\u001b[39m():   \n\u001b[1;32m----> 4\u001b[0m     x \u001b[38;5;241m=\u001b[39m \u001b[43mx\u001b[49m\u001b[38;5;241m*\u001b[39m\u001b[38;5;241m2\u001b[39m\n",
      "\u001b[1;31mUnboundLocalError\u001b[0m: cannot access local variable 'x' where it is not associated with a value"
     ]
    }
   ],
   "source": [
    "# Easy doubling function\n",
    "# Fix TODO errors\n",
    "def verdopple():   \n",
    "    global x\n",
    "    x = x*2     \n",
    "x = 2\n",
    "verdopple()\n",
    "x"
   ]
  },
  {
   "cell_type": "markdown",
   "metadata": {
    "slideshow": {
     "slide_type": "fragment"
    }
   },
   "source": [
    "The `global` statement enters the variable into the global namespace. An assignment therefore affects the relevant variable in the main program. This is called **side effect**.\n",
    "\n",
    "If several variables are to be global, write e.g. `global x, y, z`."
   ]
  },
  {
   "cell_type": "markdown",
   "metadata": {
    "slideshow": {
     "slide_type": "subslide"
    }
   },
   "source": [
    "#### 3.2.3 Parameter transfer"
   ]
  },
  {
   "cell_type": "markdown",
   "metadata": {
    "slideshow": {
     "slide_type": "fragment"
    }
   },
   "source": [
    "The reason why the declaration of a global variable in Python does not have to be automatic but rather explicit is because the use of global variables is generally considered poor programming style.\n",
    "\n",
    "It is therefore better to use function parameters and/or return a value using the `return` statement.\n",
    "\n",
    "At this point you could say again that the design of Python enforces a good programming style, so to speak."
   ]
  },
  {
   "cell_type": "markdown",
   "metadata": {
    "slideshow": {
     "slide_type": "fragment"
    }
   },
   "source": [
    "When calling a function with parameters you say: The argument or parameter x is passed to the function. The parameters passed are treated like **local** variables. This means that all operations within the function have *no effect* on the current parameter in the main program.\n",
    "\n",
    "**Exception**: It is a mutable (*mutable*) object (e.g. lists, sets, byte arrays)"
   ]
  },
  {
   "cell_type": "code",
   "execution_count": 31,
   "metadata": {
    "slideshow": {
     "slide_type": "fragment"
    }
   },
   "outputs": [
    {
     "data": {
      "text/plain": [
       "2"
      ]
     },
     "execution_count": 31,
     "metadata": {},
     "output_type": "execute_result"
    }
   ],
   "source": [
    "# Simple doubling function with parameter passing\n",
    "# TODO make it work\n",
    "def verdopple(x):\n",
    "    x = x*2            \n",
    "x = 2\n",
    "verdopple(x)    \n",
    "x"
   ]
  },
  {
   "cell_type": "markdown",
   "metadata": {
    "slideshow": {
     "slide_type": "slide"
    }
   },
   "source": [
    "### 3.3 Default parameter values\n",
    "\n",
    "Some functions require optional arguments, which can be omitted when called without an error message appearing. However, certain default values ​​must be preset for this:\n",
    "\n",
    "```python\n",
    "def function (arg1=value1, arg2=value2, ...):\n",
    "```"
   ]
  },
  {
   "cell_type": "code",
   "execution_count": 37,
   "metadata": {
    "slideshow": {
     "slide_type": "fragment"
    }
   },
   "outputs": [
    {
     "data": {
      "text/plain": [
       "8"
      ]
     },
     "execution_count": 37,
     "metadata": {},
     "output_type": "execute_result"
    }
   ],
   "source": [
    "# Example of calculating the perimeter of a rectangle\n",
    "# TODO optionale Parameter\n",
    "def umfang_rechteck(a, b=2):\n",
    "    return 2*a + 2*b\n",
    "umfang_rechteck(2)\n",
    "\n"
   ]
  },
  {
   "cell_type": "markdown",
   "metadata": {
    "slideshow": {
     "slide_type": "fragment"
    }
   },
   "source": [
    "What if I only want to pass the width to the `perimeter()` function and use the default value for length?"
   ]
  },
  {
   "cell_type": "markdown",
   "metadata": {
    "slideshow": {
     "slide_type": "subslide"
    }
   },
   "source": [
    "#### 3.3.1 Keyword parameters\n",
    "\n",
    "Previously, the arguments were passed in exactly the order specified in the function header. This is referred to as *positional arguments* because the assignment of an argument results from its position in the argument list.\n",
    "\n",
    "However, *positional arguments* are a potential source of semantic errors. In complex programs, swapping the order can lead to indescribable errors without resulting in an error message from the system.\n",
    "\n",
    "Therefore, it makes sense to use *keyword arguments* in the form `keyword=value` when calling a function."
   ]
  },
  {
   "cell_type": "code",
   "execution_count": 41,
   "metadata": {
    "slideshow": {
     "slide_type": "fragment"
    }
   },
   "outputs": [
    {
     "data": {
      "text/plain": [
       "(1, 2)"
      ]
     },
     "execution_count": 41,
     "metadata": {},
     "output_type": "execute_result"
    }
   ],
   "source": [
    "# Example of calculating the perimeter of a rectangle\n",
    "# Use TODO keyword parameters\n",
    "def umfang_rechteck(a, b=2):\n",
    "    return a,b\n",
    "umfang_rechteck(a=1)\n",
    "\n"
   ]
  },
  {
   "cell_type": "markdown",
   "metadata": {
    "slideshow": {
     "slide_type": "subslide"
    }
   },
   "source": [
    "#### 3.3.2 Any number of parameters\n",
    "\n",
    "It is often the case that the number of parameters required for the call is not known in advance. There are the following important terms in computer science:\n",
    "\n",
    "- *Arity*: Number of parameters of functions, procedures or methods\n",
    "- *variadic function*: functions with indeterminate arity\n",
    "\n",
    "In Python, variadic functions are defined using the `*` operator before a parameter."
   ]
  },
  {
   "cell_type": "code",
   "execution_count": 48,
   "metadata": {
    "slideshow": {
     "slide_type": "fragment"
    }
   },
   "outputs": [
    {
     "data": {
      "text/plain": [
       "10"
      ]
     },
     "execution_count": 48,
     "metadata": {},
     "output_type": "execute_result"
    }
   ],
   "source": [
    "# TODO Example of a variadic function\n",
    "def summe(*args):\n",
    "    s = 0\n",
    "    for i in args:\n",
    "        s += i\n",
    "    return s\n",
    "summe(1,2,3,4)"
   ]
  },
  {
   "cell_type": "markdown",
   "metadata": {
    "slideshow": {
     "slide_type": "subslide"
    }
   },
   "source": [
    "#### 3.3.3 Any keyword parameters\n",
    "\n",
    "There is also a mechanism for any number of keyword parameters. In Python, the `**` operator is written in front of a parameter"
   ]
  },
  {
   "cell_type": "code",
   "execution_count": null,
   "metadata": {
    "slideshow": {
     "slide_type": "fragment"
    }
   },
   "outputs": [],
   "source": [
    "# TODO example for arbitrary keyword parameters\n"
   ]
  },
  {
   "cell_type": "markdown",
   "metadata": {
    "slideshow": {
     "slide_type": "slide"
    }
   },
   "source": [
    "### 3.4 Rekursion\n",
    "\n",
    "> *Recursion is an order of magnitude more complicated than repitition.* - Dijkstra"
   ]
  },
  {
   "cell_type": "markdown",
   "metadata": {
    "slideshow": {
     "slide_type": "subslide"
    }
   },
   "source": [
    "#### 3.4.1 Experiments on recursion"
   ]
  },
  {
   "cell_type": "code",
   "execution_count": 49,
   "metadata": {
    "slideshow": {
     "slide_type": "fragment"
    }
   },
   "outputs": [],
   "source": [
    "# A recursive spiral\n",
    "from turtle import *\n",
    "\n",
    "def spirale(x):\n",
    "    if x < 5:       # Abbruchbedingung (notwendig!)\n",
    "        return\n",
    "    else:\n",
    "        forward(x)\n",
    "        right(90)\n",
    "        spirale(x*0.9)\n",
    "        return\n",
    "    \n",
    "\n",
    "spirale(200)\n"
   ]
  },
  {
   "cell_type": "code",
   "execution_count": 50,
   "metadata": {
    "slideshow": {
     "slide_type": "fragment"
    }
   },
   "outputs": [],
   "source": [
    "# Run this cell to close the turtle window\n",
    "from turtle import * \n",
    "bye()"
   ]
  },
  {
   "cell_type": "code",
   "execution_count": 52,
   "metadata": {
    "scrolled": true,
    "slideshow": {
     "slide_type": "fragment"
    }
   },
   "outputs": [
    {
     "ename": "KeyboardInterrupt",
     "evalue": "",
     "output_type": "error",
     "traceback": [
      "\u001b[1;31m---------------------------------------------------------------------------\u001b[0m",
      "\u001b[1;31mKeyboardInterrupt\u001b[0m                         Traceback (most recent call last)",
      "Cell \u001b[1;32mIn[52], line 28\u001b[0m\n\u001b[0;32m     26\u001b[0m speed(\u001b[38;5;241m0\u001b[39m)\n\u001b[0;32m     27\u001b[0m left(\u001b[38;5;241m60\u001b[39m)\n\u001b[1;32m---> 28\u001b[0m \u001b[43msierpinski\u001b[49m\u001b[43m(\u001b[49m\u001b[38;5;241;43m200\u001b[39;49m\u001b[43m)\u001b[49m\n\u001b[0;32m     29\u001b[0m hideturtle()\n",
      "Cell \u001b[1;32mIn[52], line 15\u001b[0m, in \u001b[0;36msierpinski\u001b[1;34m(x)\u001b[0m\n\u001b[0;32m     13\u001b[0m sierpinski(x\u001b[38;5;241m/\u001b[39m\u001b[38;5;241m2\u001b[39m)\n\u001b[0;32m     14\u001b[0m fd(x\u001b[38;5;241m/\u001b[39m\u001b[38;5;241m2\u001b[39m)\n\u001b[1;32m---> 15\u001b[0m \u001b[43msierpinski\u001b[49m\u001b[43m(\u001b[49m\u001b[43mx\u001b[49m\u001b[38;5;241;43m/\u001b[39;49m\u001b[38;5;241;43m2\u001b[39;49m\u001b[43m)\u001b[49m\n\u001b[0;32m     16\u001b[0m back(x\u001b[38;5;241m/\u001b[39m\u001b[38;5;241m2\u001b[39m)\n\u001b[0;32m     17\u001b[0m right(\u001b[38;5;241m60\u001b[39m)\n",
      "Cell \u001b[1;32mIn[52], line 13\u001b[0m, in \u001b[0;36msierpinski\u001b[1;34m(x)\u001b[0m\n\u001b[0;32m     11\u001b[0m fd(x)\n\u001b[0;32m     12\u001b[0m right(\u001b[38;5;241m120\u001b[39m)\n\u001b[1;32m---> 13\u001b[0m \u001b[43msierpinski\u001b[49m\u001b[43m(\u001b[49m\u001b[43mx\u001b[49m\u001b[38;5;241;43m/\u001b[39;49m\u001b[38;5;241;43m2\u001b[39;49m\u001b[43m)\u001b[49m\n\u001b[0;32m     14\u001b[0m fd(x\u001b[38;5;241m/\u001b[39m\u001b[38;5;241m2\u001b[39m)\n\u001b[0;32m     15\u001b[0m sierpinski(x\u001b[38;5;241m/\u001b[39m\u001b[38;5;241m2\u001b[39m)\n",
      "Cell \u001b[1;32mIn[52], line 20\u001b[0m, in \u001b[0;36msierpinski\u001b[1;34m(x)\u001b[0m\n\u001b[0;32m     18\u001b[0m fd(x\u001b[38;5;241m/\u001b[39m\u001b[38;5;241m2\u001b[39m)\n\u001b[0;32m     19\u001b[0m left(\u001b[38;5;241m60\u001b[39m)\n\u001b[1;32m---> 20\u001b[0m \u001b[43msierpinski\u001b[49m\u001b[43m(\u001b[49m\u001b[43mx\u001b[49m\u001b[38;5;241;43m/\u001b[39;49m\u001b[38;5;241;43m2\u001b[39;49m\u001b[43m)\u001b[49m\n\u001b[0;32m     21\u001b[0m right(\u001b[38;5;241m60\u001b[39m)\n\u001b[0;32m     22\u001b[0m back(x\u001b[38;5;241m/\u001b[39m\u001b[38;5;241m2\u001b[39m)\n",
      "Cell \u001b[1;32mIn[52], line 13\u001b[0m, in \u001b[0;36msierpinski\u001b[1;34m(x)\u001b[0m\n\u001b[0;32m     11\u001b[0m fd(x)\n\u001b[0;32m     12\u001b[0m right(\u001b[38;5;241m120\u001b[39m)\n\u001b[1;32m---> 13\u001b[0m \u001b[43msierpinski\u001b[49m\u001b[43m(\u001b[49m\u001b[43mx\u001b[49m\u001b[38;5;241;43m/\u001b[39;49m\u001b[38;5;241;43m2\u001b[39;49m\u001b[43m)\u001b[49m\n\u001b[0;32m     14\u001b[0m fd(x\u001b[38;5;241m/\u001b[39m\u001b[38;5;241m2\u001b[39m)\n\u001b[0;32m     15\u001b[0m sierpinski(x\u001b[38;5;241m/\u001b[39m\u001b[38;5;241m2\u001b[39m)\n",
      "Cell \u001b[1;32mIn[52], line 13\u001b[0m, in \u001b[0;36msierpinski\u001b[1;34m(x)\u001b[0m\n\u001b[0;32m     11\u001b[0m fd(x)\n\u001b[0;32m     12\u001b[0m right(\u001b[38;5;241m120\u001b[39m)\n\u001b[1;32m---> 13\u001b[0m \u001b[43msierpinski\u001b[49m\u001b[43m(\u001b[49m\u001b[43mx\u001b[49m\u001b[38;5;241;43m/\u001b[39;49m\u001b[38;5;241;43m2\u001b[39;49m\u001b[43m)\u001b[49m\n\u001b[0;32m     14\u001b[0m fd(x\u001b[38;5;241m/\u001b[39m\u001b[38;5;241m2\u001b[39m)\n\u001b[0;32m     15\u001b[0m sierpinski(x\u001b[38;5;241m/\u001b[39m\u001b[38;5;241m2\u001b[39m)\n",
      "Cell \u001b[1;32mIn[52], line 17\u001b[0m, in \u001b[0;36msierpinski\u001b[1;34m(x)\u001b[0m\n\u001b[0;32m     15\u001b[0m sierpinski(x\u001b[38;5;241m/\u001b[39m\u001b[38;5;241m2\u001b[39m)\n\u001b[0;32m     16\u001b[0m back(x\u001b[38;5;241m/\u001b[39m\u001b[38;5;241m2\u001b[39m)\n\u001b[1;32m---> 17\u001b[0m \u001b[43mright\u001b[49m\u001b[43m(\u001b[49m\u001b[38;5;241;43m60\u001b[39;49m\u001b[43m)\u001b[49m\n\u001b[0;32m     18\u001b[0m fd(x\u001b[38;5;241m/\u001b[39m\u001b[38;5;241m2\u001b[39m)\n\u001b[0;32m     19\u001b[0m left(\u001b[38;5;241m60\u001b[39m)\n",
      "File \u001b[1;32m<string>:8\u001b[0m, in \u001b[0;36mright\u001b[1;34m(angle)\u001b[0m\n",
      "File \u001b[1;32mc:\\Python311\\Lib\\turtle.py:1679\u001b[0m, in \u001b[0;36mTNavigator.right\u001b[1;34m(self, angle)\u001b[0m\n\u001b[0;32m   1660\u001b[0m \u001b[38;5;28;01mdef\u001b[39;00m \u001b[38;5;21mright\u001b[39m(\u001b[38;5;28mself\u001b[39m, angle):\n\u001b[0;32m   1661\u001b[0m \u001b[38;5;250m    \u001b[39m\u001b[38;5;124;03m\"\"\"Turn turtle right by angle units.\u001b[39;00m\n\u001b[0;32m   1662\u001b[0m \n\u001b[0;32m   1663\u001b[0m \u001b[38;5;124;03m    Aliases: right | rt\u001b[39;00m\n\u001b[1;32m   (...)\u001b[0m\n\u001b[0;32m   1677\u001b[0m \u001b[38;5;124;03m    337.0\u001b[39;00m\n\u001b[0;32m   1678\u001b[0m \u001b[38;5;124;03m    \"\"\"\u001b[39;00m\n\u001b[1;32m-> 1679\u001b[0m     \u001b[38;5;28;43mself\u001b[39;49m\u001b[38;5;241;43m.\u001b[39;49m\u001b[43m_rotate\u001b[49m\u001b[43m(\u001b[49m\u001b[38;5;241;43m-\u001b[39;49m\u001b[43mangle\u001b[49m\u001b[43m)\u001b[49m\n",
      "File \u001b[1;32mc:\\Python311\\Lib\\turtle.py:3295\u001b[0m, in \u001b[0;36mRawTurtle._rotate\u001b[1;34m(self, angle)\u001b[0m\n\u001b[0;32m   3293\u001b[0m         \u001b[38;5;28mself\u001b[39m\u001b[38;5;241m.\u001b[39m_update()\n\u001b[0;32m   3294\u001b[0m \u001b[38;5;28mself\u001b[39m\u001b[38;5;241m.\u001b[39m_orient \u001b[38;5;241m=\u001b[39m neworient\n\u001b[1;32m-> 3295\u001b[0m \u001b[38;5;28;43mself\u001b[39;49m\u001b[38;5;241;43m.\u001b[39;49m\u001b[43m_update\u001b[49m\u001b[43m(\u001b[49m\u001b[43m)\u001b[49m\n",
      "File \u001b[1;32mc:\\Python311\\Lib\\turtle.py:2664\u001b[0m, in \u001b[0;36mRawTurtle._update\u001b[1;34m(self)\u001b[0m\n\u001b[0;32m   2662\u001b[0m     \u001b[38;5;28mself\u001b[39m\u001b[38;5;241m.\u001b[39m_drawturtle()\n\u001b[0;32m   2663\u001b[0m     screen\u001b[38;5;241m.\u001b[39m_update()                  \u001b[38;5;66;03m# TurtleScreenBase\u001b[39;00m\n\u001b[1;32m-> 2664\u001b[0m     \u001b[43mscreen\u001b[49m\u001b[38;5;241;43m.\u001b[39;49m\u001b[43m_delay\u001b[49m\u001b[43m(\u001b[49m\u001b[43mscreen\u001b[49m\u001b[38;5;241;43m.\u001b[39;49m\u001b[43m_delayvalue\u001b[49m\u001b[43m)\u001b[49m \u001b[38;5;66;03m# TurtleScreenBase\u001b[39;00m\n\u001b[0;32m   2665\u001b[0m \u001b[38;5;28;01melse\u001b[39;00m:\n\u001b[0;32m   2666\u001b[0m     \u001b[38;5;28mself\u001b[39m\u001b[38;5;241m.\u001b[39m_update_data()\n",
      "File \u001b[1;32mc:\\Python311\\Lib\\turtle.py:566\u001b[0m, in \u001b[0;36mTurtleScreenBase._delay\u001b[1;34m(self, delay)\u001b[0m\n\u001b[0;32m    564\u001b[0m \u001b[38;5;28;01mdef\u001b[39;00m \u001b[38;5;21m_delay\u001b[39m(\u001b[38;5;28mself\u001b[39m, delay):\n\u001b[0;32m    565\u001b[0m \u001b[38;5;250m    \u001b[39m\u001b[38;5;124;03m\"\"\"Delay subsequent canvas actions for delay ms.\"\"\"\u001b[39;00m\n\u001b[1;32m--> 566\u001b[0m     \u001b[38;5;28;43mself\u001b[39;49m\u001b[38;5;241;43m.\u001b[39;49m\u001b[43mcv\u001b[49m\u001b[38;5;241;43m.\u001b[39;49m\u001b[43mafter\u001b[49m\u001b[43m(\u001b[49m\u001b[43mdelay\u001b[49m\u001b[43m)\u001b[49m\n",
      "File \u001b[1;32mc:\\Python311\\Lib\\tkinter\\__init__.py:856\u001b[0m, in \u001b[0;36mMisc.after\u001b[1;34m(self, ms, func, *args)\u001b[0m\n\u001b[0;32m    848\u001b[0m \u001b[38;5;250m\u001b[39m\u001b[38;5;124;03m\"\"\"Call function once after given time.\u001b[39;00m\n\u001b[0;32m    849\u001b[0m \n\u001b[0;32m    850\u001b[0m \u001b[38;5;124;03mMS specifies the time in milliseconds. FUNC gives the\u001b[39;00m\n\u001b[0;32m    851\u001b[0m \u001b[38;5;124;03mfunction which shall be called. Additional parameters\u001b[39;00m\n\u001b[0;32m    852\u001b[0m \u001b[38;5;124;03mare given as parameters to the function call.  Return\u001b[39;00m\n\u001b[0;32m    853\u001b[0m \u001b[38;5;124;03midentifier to cancel scheduling with after_cancel.\"\"\"\u001b[39;00m\n\u001b[0;32m    854\u001b[0m \u001b[38;5;28;01mif\u001b[39;00m func \u001b[38;5;129;01mis\u001b[39;00m \u001b[38;5;28;01mNone\u001b[39;00m:\n\u001b[0;32m    855\u001b[0m     \u001b[38;5;66;03m# I'd rather use time.sleep(ms*0.001)\u001b[39;00m\n\u001b[1;32m--> 856\u001b[0m     \u001b[38;5;28;43mself\u001b[39;49m\u001b[38;5;241;43m.\u001b[39;49m\u001b[43mtk\u001b[49m\u001b[38;5;241;43m.\u001b[39;49m\u001b[43mcall\u001b[49m\u001b[43m(\u001b[49m\u001b[38;5;124;43m'\u001b[39;49m\u001b[38;5;124;43mafter\u001b[39;49m\u001b[38;5;124;43m'\u001b[39;49m\u001b[43m,\u001b[49m\u001b[43m \u001b[49m\u001b[43mms\u001b[49m\u001b[43m)\u001b[49m\n\u001b[0;32m    857\u001b[0m     \u001b[38;5;28;01mreturn\u001b[39;00m \u001b[38;5;28;01mNone\u001b[39;00m\n\u001b[0;32m    858\u001b[0m \u001b[38;5;28;01melse\u001b[39;00m:\n",
      "\u001b[1;31mKeyboardInterrupt\u001b[0m: "
     ]
    }
   ],
   "source": [
    "# Sierpinski-Dreieck\n",
    "from turtle import *\n",
    "def sierpinski(x):\n",
    "    if x < 5:\n",
    "        return\n",
    "    else:\n",
    "        fd(x)\n",
    "        right(120)\n",
    "        fd(x)\n",
    "        right(120)\n",
    "        fd(x)\n",
    "        right(120)\n",
    "        sierpinski(x/2)\n",
    "        fd(x/2)\n",
    "        sierpinski(x/2)\n",
    "        back(x/2)\n",
    "        right(60)\n",
    "        fd(x/2)\n",
    "        left(60)\n",
    "        sierpinski(x/2)\n",
    "        right(60)\n",
    "        back(x/2)\n",
    "        left(60)\n",
    "        return\n",
    "\n",
    "speed(0)\n",
    "left(60)\n",
    "sierpinski(200)\n",
    "hideturtle()"
   ]
  },
  {
   "cell_type": "markdown",
   "metadata": {
    "slideshow": {
     "slide_type": "subslide"
    }
   },
   "source": [
    "#### 3.4.2 Recursive number functions\n",
    "\n",
    "As a classic example from mathematics, a recursive definition of the factorial would be:\n",
    "```python\n",
    "1! = 1 # Termination condition\n",
    "n! = n*(n-1)! # recursive statement for all natural numbers n > 1\n",
    "```"
   ]
  },
  {
   "cell_type": "markdown",
   "metadata": {
    "slideshow": {
     "slide_type": "fragment"
    }
   },
   "source": [
    "Using `4!` as an example\n",
    "```python\n",
    "= 4*3!\n",
    "= 4*3*2!\n",
    "= 4*3*2*1!\n",
    "= 4*3*2*1\n",
    "= 24\n",
    "```"
   ]
  },
  {
   "cell_type": "code",
   "execution_count": 75,
   "metadata": {
    "slideshow": {
     "slide_type": "fragment"
    }
   },
   "outputs": [
    {
     "data": {
      "text/plain": [
       "71115512856145236107664967727509046083193211653746748227098196542702845042801663156155926767098383136903633410128548087816659268210019764379430822801067441182801974417686068672297459189102730492736806331177373413636267487121832869184819574693514981732982972086191997273440805744741435737193147897878436023652769541205727798863913681401612887685246034390637736414576347957803650828118469317748664373369810485493345594683285461970748285452406476906780891183402674517913851109762470188667681330581646826341882109562198809239985904433589439291672239086875276203178882266809081478000242560253807435221547868144508880911466892540557827383299196703602993400331983261750566101548959075652862685726390695465232741747580133636018797346856397484507299061625318836980751018579185452127381249656591187083315835866739461103381028314091408426587129603835294248383354539188398160696085140476351416544522676520970096565397190748361103993955646431378280227309839027808436685387268120818863309324046274417824246903807455440938815906062204817010535840828694340406286453055636584144891059873825566876350222818699692565133255878370737259945452249796881841652083057562089135373740597271936309448365702898258285604958632610762781643697677713131236576754130929445140431781542474276068977440781650806429906056174668920518323145518796065638595547761927127214047156216924286362072549919001020080774966417846476582771179405611622690301781566328491952067243795015933892606375160071825351527028958719437826175396901469993989177135482958083565284685781518189550592011230247159753791664150794764703654063982095280354005094019848304072224607989137848805192083777632539013677768023469144738690344785267260034640128161087539098870628074423898164299838103858207670354606784266043963015331670052927646351532937574088742364500532774476485022071558188182565649341615614099810503824790522328219250619391868740033468304462663218938463537205501605094400744939415461330689610595994652668704944880733961352320828398382883553483644303630372191222602236032123300842251713008162795765893472407260289374900469882633918818560090754722449192309969432402904662630930095765741825638118226100287364981711981845985120402721136236286817021137918683609987447114586590482741037955160172865468308830560898828451674975104859397602963116227725120200170482865786790716881766831768728005922825296704631928001589028462994973331342898578439460855062178726083270302071195425147938692444633242642970256427015120372772585125617479243658702279285401997687162460330378410926369848109727658025549016370395275993991364747824458224798616420719575400559554969644348927700185256544645142661753014435840882776727783798848210686765212675704763831178085357658900565982287501182722187523208527650729036683306832455813916627902933762008024891227540710113004076266005933244184626171579645618218833576172394835035733755345155331218574375955228079342916353466717002880926834539902389618739101912847004630452334272942623364971624133014001663821031936466121552306623112637321443169724425456573026835390914279962808745617643489341073139913970128249694705060219856611256163443045633823991767387671094102994722720500406627555660815223628229358290751540240099895088177990564472739236563174798237036091997996880242740469058458712599457403160644448544630094610290094439320576717091163800593975893009827666791953657786311728062157540795710639370377269294358748713436443429743926167599351199696607014969459187986349863507113958797508949478708789411567184902616177309969667084677924875861193725005630225000114800240644267598286389771129634984478862130621389981345768157073400785290267022560089962213006164796618916424474997393393624211748084541647626756262736697136087511427081102348026952823392754444858125388922196972892485859417075385291664454806384258022854150859417549403163742292892122657590283817044362659395398645080233813587704257099093743163910163617851069488916891644723200000000000000000000000000000000000000000000000000000000000000000000000000000000000000000000000000000000000000000000000000000000000000000000000000000000000000000000000000000000000000000000000000000000000000000000000000000000000000000000000000000000000000000000000000000000000000000000000000000000000000000000000000000000000000000000000000000000000000000000000000000000000000000000000000"
      ]
     },
     "execution_count": 75,
     "metadata": {},
     "output_type": "execute_result"
    }
   ],
   "source": [
    "# TODO Python function to calculate factorial\n",
    "def factorial(n):\n",
    "    if n == 0:\n",
    "        return 1\n",
    "    else:\n",
    "        return n * factorial(n-1)\n",
    "factorial(1550)\n",
    "#1550 is the maximum number that can be calculated in my pc not sure about other pc"
   ]
  },
  {
   "cell_type": "markdown",
   "metadata": {
    "slideshow": {
     "slide_type": "fragment"
    }
   },
   "source": [
    "**Important**: A recursive function must contain a conditional statement that allows the recursion to be canceled.\\\n",
    "**But**: The mere existence of a termination condition is of course no guarantee that they will be fulfilled at some point. The result of an incorrect termination condition would be an *infinite recursion*."
   ]
  },
  {
   "cell_type": "markdown",
   "metadata": {
    "slideshow": {
     "slide_type": "subslide"
    }
   },
   "source": [
    "#### 3.4.3 Recursion depth\n",
    "\n",
    "The number of recursive calls is called *recursion depth*. If there are many calls, the recursion depth can become very large, which can mean that the computer's RAM is no longer sufficient. \\\n",
    "The Python interpreter respects a preset upper limit."
   ]
  },
  {
   "cell_type": "code",
   "execution_count": null,
   "metadata": {
    "slideshow": {
     "slide_type": "fragment"
    }
   },
   "outputs": [],
   "source": [
    "# Testing the recursion depth and its limits\n",
    "i = 0\n",
    "def f():\n",
    "    global i \n",
    "    i += 1\n",
    "    f()     # Rekursionsaufruf\n",
    "f()\n"
   ]
  },
  {
   "cell_type": "code",
   "execution_count": 56,
   "metadata": {
    "slideshow": {
     "slide_type": "fragment"
    }
   },
   "outputs": [
    {
     "name": "stdout",
     "output_type": "stream",
     "text": [
      "Maximale Rekursionstiefe:  3000\n"
     ]
    }
   ],
   "source": [
    "# Code to find the maximum recursion depth\n",
    "import sys\n",
    "print(\"Maximale Rekursionstiefe: \",sys.getrecursionlimit())"
   ]
  },
  {
   "cell_type": "markdown",
   "metadata": {
    "slideshow": {
     "slide_type": "fragment"
    }
   },
   "source": [
    "**Conclusion about recursion in Python**:\n",
    "\n",
    "| Advantages | Disadvantages |\n",
    "|:---|:---|\n",
    "| - short and elegant formulations for problem solutions - require a lot of storage space|\n",
    "|- better understanding of the solution | - often work inefficiently, which is reflected in long running times"
   ]
  },
  {
   "cell_type": "markdown",
   "metadata": {
    "slideshow": {
     "slide_type": "slide"
    }
   },
   "source": [
    "### 3.5 Functions as objects\n",
    "\n",
    "In Python's standard type hierarchy, functions are called callable objects. They are, so to speak, \"treated the same\" as variables. Functions therefore also have an **identity**, a **type** and a **value** (see also 2.2.1 Data as Objects)."
   ]
  },
  {
   "cell_type": "code",
   "execution_count": null,
   "metadata": {
    "slideshow": {
     "slide_type": "fragment"
    }
   },
   "outputs": [],
   "source": [
    "# TODO example using the standard function len()\n",
    "len(\"Hallo Welt\")\n",
    "\n"
   ]
  },
  {
   "cell_type": "code",
   "execution_count": 76,
   "metadata": {
    "slideshow": {
     "slide_type": "fragment"
    }
   },
   "outputs": [
    {
     "data": {
      "text/plain": [
       "4"
      ]
     },
     "execution_count": 76,
     "metadata": {},
     "output_type": "execute_result"
    }
   ],
   "source": [
    "# TODO practical example of a function object\n",
    "def f(x):\n",
    "    return x**2\n",
    "f(2)\n",
    "\n"
   ]
  },
  {
   "cell_type": "markdown",
   "metadata": {
    "slideshow": {
     "slide_type": "fragment"
    }
   },
   "source": [
    "? can be useful for frequently used, long function names"
   ]
  },
  {
   "cell_type": "markdown",
   "metadata": {
    "slideshow": {
     "slide_type": "subslide"
    }
   },
   "source": [
    "**Background: Types are *not* functions**\n",
    "\n",
    "A few of the so-called *built-in functions*, such as `int()`, `float()`, `str()`, `bool()`, etc. are strictly speaking **not** functions, but Types (*typecasting*). Python makes this subtle distinction, but like functions they are callable objects (*callable objects*):"
   ]
  },
  {
   "cell_type": "code",
   "execution_count": 1,
   "metadata": {
    "slideshow": {
     "slide_type": "fragment"
    }
   },
   "outputs": [
    {
     "name": "stdout",
     "output_type": "stream",
     "text": [
      "<class 'type'>\n",
      "<class 'type'>\n",
      "<class 'builtin_function_or_method'>\n",
      "<class 'builtin_function_or_method'>\n"
     ]
    }
   ],
   "source": [
    "# Determination of function “type”\n",
    "print(type(bool))\n",
    "print(type(str))\n",
    "print(type(abs))\n",
    "print(type(len))"
   ]
  },
  {
   "cell_type": "markdown",
   "metadata": {
    "slideshow": {
     "slide_type": "slide"
    }
   },
   "source": [
    "### 3.6 Lambda forms\n",
    "\n",
    "The lambda operator provides a way to write and use anonymous functions, i.e. functions without names. Using Lambda functions moves away from object-oriented programming (OOP) and moves closer to functional programming (FP). FP is mainly used in technical and mathematical fields. Python supports and enables FP to a large extent, even if inventor Guido van Rossum would have preferred to remove it with Python 3. `lambda`, `map`, `filter` and `reduce` are code extensions of FP.\\\n",
    "The Lambda function has the following syntax:\n",
    "\n",
    "```python\n",
    "\"lambda\" [parameter_list]: expression\n",
    "```"
   ]
  },
  {
   "cell_type": "markdown",
   "metadata": {
    "slideshow": {
     "slide_type": "fragment"
    }
   },
   "source": [
    "`lambda` is a key word here"
   ]
  },
  {
   "cell_type": "code",
   "execution_count": 86,
   "metadata": {
    "slideshow": {
     "slide_type": "fragment"
    }
   },
   "outputs": [
    {
     "name": "stdout",
     "output_type": "stream",
     "text": [
      "2\n"
     ]
    },
    {
     "data": {
      "text/plain": [
       "2500.0"
      ]
     },
     "execution_count": 86,
     "metadata": {},
     "output_type": "execute_result"
    },
    {
     "ename": "",
     "evalue": "",
     "output_type": "error",
     "traceback": [
      "\u001b[1;31mThe Kernel crashed while executing code in the current cell or a previous cell. \n",
      "\u001b[1;31mPlease review the code in the cell(s) to identify a possible cause of the failure. \n",
      "\u001b[1;31mClick <a href='https://aka.ms/vscodeJupyterKernelCrash'>here</a> for more info. \n",
      "\u001b[1;31mView Jupyter <a href='command:jupyter.viewOutput'>log</a> for further details."
     ]
    }
   ],
   "source": [
    "# Lambda examples\n",
    "\n",
    "# Using a lambda function directly\n",
    "print((lambda x, y: x)(2, 5))  # Output: 5 # y : x  means x is the input and y is the output\n",
    "\n",
    "# Assigning a lambda function to a variable\n",
    "addition = lambda x, y: x + y\n",
    "addition(3, 4)  # Output: 7\n",
    "\n",
    "# Lambda function to compute the sum of squares\n",
    "quadratsumme = lambda x, y: x**2 + y**2\n",
    "quadratsumme(2, 3)  # Output: 13\n",
    "\n",
    "# Lambda function to compute kinetic energy\n",
    "kinE = lambda m, v: 0.5 * m * v**2\n",
    "kinE(2, 50)  # Output: 2500\n"
   ]
  },
  {
   "cell_type": "markdown",
   "metadata": {
    "slideshow": {
     "slide_type": "subslide"
    }
   },
   "source": [
    "##### Using if-else statements in Lambda functions\n",
    "\n",
    "Syntax:\n",
    "\n",
    "```python\n",
    "\"lambda\" [parameter_list]: expression1 if condition else expression2\n",
    "```"
   ]
  },
  {
   "cell_type": "code",
   "execution_count": null,
   "metadata": {
    "slideshow": {
     "slide_type": "fragment"
    }
   },
   "outputs": [],
   "source": [
    "# TODO example\n"
   ]
  },
  {
   "cell_type": "markdown",
   "metadata": {
    "slideshow": {
     "slide_type": "subslide"
    }
   },
   "source": [
    "##### Lambda functions within a function\n",
    "\n",
    "Syntax:\n",
    "```python\n",
    "def function(y):\n",
    "    return lambda x: f(x,y) # returns a lambda function as a function value\n",
    "```"
   ]
  },
  {
   "cell_type": "code",
   "execution_count": 12,
   "metadata": {
    "slideshow": {
     "slide_type": "fragment"
    }
   },
   "outputs": [
    {
     "name": "stdout",
     "output_type": "stream",
     "text": [
      "x: 2\n",
      "Func2 x: 1\n",
      "Func2 y: 4\n"
     ]
    },
    {
     "data": {
      "text/plain": [
       "5"
      ]
     },
     "execution_count": 12,
     "metadata": {},
     "output_type": "execute_result"
    }
   ],
   "source": [
    "# TODO example \"y-subject function\"\n",
    "def func2(x,y):\n",
    "    print (\"Func2 x:\",x)\n",
    "    print (\"Func2 y:\",y)\n",
    "    return x+y\n",
    "\n",
    "def func1(x):\n",
    "    print(\"x:\",x)\n",
    "    return lambda x: func2(1,1+x)\n",
    "\n",
    "func1(2)(3)\n"
   ]
  },
  {
   "cell_type": "markdown",
   "metadata": {
    "slideshow": {
     "slide_type": "fragment"
    }
   },
   "source": [
    "? You'll see next week how useful Lambda functions can be, especially in conjunction with lists"
   ]
  },
  {
   "cell_type": "markdown",
   "metadata": {
    "slideshow": {
     "slide_type": "slide"
    }
   },
   "source": [
    "### 3.7 Notes on programming style\n",
    "\n",
    "#### 3.7.1 General\n",
    "\n",
    "- Iterative functions (with loops) are usually preferable to recursive functions because they usually require less computing time and memory."
   ]
  },
  {
   "cell_type": "markdown",
   "metadata": {
    "slideshow": {
     "slide_type": "subslide"
    }
   },
   "source": [
    "#### 3.7.2 Function names\n",
    "\n",
    "As with variable names, function names should be descriptive so that you can understand what the function does. These usually start with a small letter. You also use verbs in the imperative mood or the function name is a noun that expresses what result the function returns:\n",
    "\n",
    "```python\n",
    "# Verbs in the imperative mood\n",
    "calculateSum\n",
    "getRecursionLimit\n",
    "apply\n",
    "# nouns\n",
    "total\n",
    "sum of squares\n",
    "min\n",
    "file\n",
    "globals\n",
    "locals\n",
    "```"
   ]
  },
  {
   "cell_type": "markdown",
   "metadata": {
    "slideshow": {
     "slide_type": "subslide"
    }
   },
   "source": [
    "#### 3.7.3 Commented parameters\n",
    "\n",
    "Professional documentation includes commenting and explaining the individual parameters in the function header. You write each parameter on different physical lines; the Python interpreter then sees them as a single logical line"
   ]
  },
  {
   "cell_type": "code",
   "execution_count": 13,
   "metadata": {
    "slideshow": {
     "slide_type": "fragment"
    }
   },
   "outputs": [
    {
     "name": "stdout",
     "output_type": "stream",
     "text": [
      "Salzsäure HCl (1, 2, 3) (4, 5, 6) aetzend 200\n"
     ]
    }
   ],
   "source": [
    "def druckeEtikett(  name,           # chemische Bezeichnung (String)\n",
    "                    formel,         # chemische Formel (String)\n",
    "                    r_saetze,       # Tupel von Nummern\n",
    "                    s_saetze,       # Tupel von Nummern\n",
    "                    gefahrenhinweis,# z.B. \"aetzend\" (String)\n",
    "                    fuellmenge      # Füllmenge in g (Integer)\n",
    "                    ):\n",
    "    print(name, formel, r_saetze, s_saetze, gefahrenhinweis, fuellmenge)\n",
    "\n",
    "druckeEtikett(\"Salzsäure\", \"HCl\", (1,2,3), (4,5,6), \"aetzend\", 200)"
   ]
  },
  {
   "cell_type": "markdown",
   "metadata": {
    "slideshow": {
     "slide_type": "subslide"
    }
   },
   "source": [
    "#### 3.7.4 Docstrings\n",
    "\n",
    "A docstring is inserted directly under the function header and enclosed in triple quotation marks `\"\"\"`. The first line describes the task of the function, the second line remains empty and the following lines can contain information about the following points:\n",
    "- Prerequisites: What properties must the passed parameters have?\n",
    "- Postconditions: Which objects does the function return?\n",
    "- Which global variables are used? What side effects are caused?\n",
    "- Author name and last modified date"
   ]
  },
  {
   "cell_type": "code",
   "execution_count": 15,
   "metadata": {
    "slideshow": {
     "slide_type": "fragment"
    }
   },
   "outputs": [
    {
     "name": "stdout",
     "output_type": "stream",
     "text": [
      "Help on function tueNichts in module __main__:\n",
      "\n",
      "tueNichts()\n",
      "    Diese Funktion macht nichts\n",
      "    \n",
      "    Sie verwendet keine Parameter,\n",
      "    hat keine Seiteneffekte und\n",
      "    gibt nichts zurück\n",
      "    F. Hillitzer 18.03.2024\n",
      "\n"
     ]
    }
   ],
   "source": [
    "# Example of using a docstring\n",
    "def tueNichts():\n",
    "    \"\"\" Diese Funktion macht nichts\n",
    "    \n",
    "    Sie verwendet keine Parameter,\n",
    "    hat keine Seiteneffekte und\n",
    "    gibt nichts zurück\n",
    "    F. Hillitzer 18.03.2024\n",
    "    \"\"\"\n",
    "    pass\n",
    "\n",
    "help(tueNichts)"
   ]
  },
  {
   "cell_type": "markdown",
   "metadata": {
    "slideshow": {
     "slide_type": "fragment"
    }
   },
   "source": [
    "The docstring of a function can be revealed using the `help()` function:"
   ]
  },
  {
   "cell_type": "code",
   "execution_count": null,
   "metadata": {
    "slideshow": {
     "slide_type": "fragment"
    }
   },
   "outputs": [],
   "source": [
    "help(tueNichts)"
   ]
  }
 ],
 "metadata": {
  "celltoolbar": "Slideshow",
  "kernelspec": {
   "display_name": "Python 3 (ipykernel)",
   "language": "python",
   "name": "python3"
  },
  "language_info": {
   "codemirror_mode": {
    "name": "ipython",
    "version": 3
   },
   "file_extension": ".py",
   "mimetype": "text/x-python",
   "name": "python",
   "nbconvert_exporter": "python",
   "pygments_lexer": "ipython3",
   "version": "3.11.3"
  },
  "varInspector": {
   "cols": {
    "lenName": 16,
    "lenType": 16,
    "lenVar": 40
   },
   "kernels_config": {
    "python": {
     "delete_cmd_postfix": "",
     "delete_cmd_prefix": "del ",
     "library": "var_list.py",
     "varRefreshCmd": "print(var_dic_list())"
    },
    "r": {
     "delete_cmd_postfix": ") ",
     "delete_cmd_prefix": "rm(",
     "library": "var_list.r",
     "varRefreshCmd": "cat(var_dic_list()) "
    }
   },
   "types_to_exclude": [
    "module",
    "function",
    "builtin_function_or_method",
    "instance",
    "_Feature"
   ],
   "window_display": false
  }
 },
 "nbformat": 4,
 "nbformat_minor": 2
}
