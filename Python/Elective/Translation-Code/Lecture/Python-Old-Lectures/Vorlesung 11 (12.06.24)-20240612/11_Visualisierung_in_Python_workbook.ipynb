{
 "cells": [
  {
   "cell_type": "markdown",
   "metadata": {
    "slideshow": {
     "slide_type": "slide"
    }
   },
   "source": [
    "## 10. Visualisierung"
   ]
  },
  {
   "cell_type": "markdown",
   "metadata": {
    "slideshow": {
     "slide_type": "fragment"
    }
   },
   "source": [
    "### 10.1 Matplotlib"
   ]
  },
  {
   "cell_type": "markdown",
   "metadata": {
    "slideshow": {
     "slide_type": "fragment"
    }
   },
   "source": [
    "Matplotlib ist ein Modul zur Darstellung mathematischer Funktionen und geometrischer Figuren. Mit nur wenigen Zeilen Code lassen sich aussagekräftige Diagramme für wissenschaftliche Arbeiten und Veröffentlichungen erstellen."
   ]
  },
  {
   "cell_type": "markdown",
   "metadata": {
    "slideshow": {
     "slide_type": "fragment"
    }
   },
   "source": [
    "Das Modul `matplotlib` wird in der Regel zusammen mit dem Untermodul `pyplot` importiert. Letzteres dient als Schnittstelle zum Hauptmodul. Es enthält einige Funktionen, die der Funktionalität von MATLAB ähneln. `pyplot`-Funktionen erstellen Zeichenbereiche für Diagramme, zeichnen Linien oder Punkte, bieten zahlreiche Möglichkeiten für Beschriftungen und Skalierungen uvm."
   ]
  },
  {
   "cell_type": "markdown",
   "metadata": {
    "slideshow": {
     "slide_type": "fragment"
    }
   },
   "source": [
    "Das Modul wird üblicherweise mit der Anweisung `import matplotlib.pyplot as plt` eingebunden. Der Alias `plt` hat sich als Konvention durchgesetzt."
   ]
  },
  {
   "cell_type": "markdown",
   "metadata": {
    "slideshow": {
     "slide_type": "subslide"
    }
   },
   "source": [
    "#### 10.1.1 2D-Funktionsplots"
   ]
  },
  {
   "cell_type": "code",
   "execution_count": null,
   "metadata": {
    "slideshow": {
     "slide_type": "fragment"
    }
   },
   "outputs": [],
   "source": [
    "# TODO Funktionsplot einer 50-Hz Wechselspannung\n",
    "\n",
    "\n",
    "# TODO Formatierung im plot()-Befehl\n",
    "\n",
    "\n",
    "# TODO Gitternetz\n",
    "\n",
    "\n",
    "# TODO Beschriftungen\n",
    "\n",
    "\n",
    "# TODO Achsenskalierung anpassen\n"
   ]
  },
  {
   "cell_type": "markdown",
   "metadata": {
    "slideshow": {
     "slide_type": "fragment"
    }
   },
   "source": [
    "##### Format-Angaben im Befehl `plot`"
   ]
  },
  {
   "cell_type": "markdown",
   "metadata": {
    "slideshow": {
     "slide_type": "fragment"
    }
   },
   "source": [
    "Um die geplottete Kurve zu formatieren, kann  direkt im `plot(x, y, \"...\")`-Befehl ein optionaler String übergeben werden, der die Informationen zur Formatierung beinhaltet. Folgende Zeichen werden verstanden und können miteinander kombiniert werden. Er besteht aus zwei Zeichen: das erste definiert Linienstil oder Darstellung der Punkte (*markers*) und das zweite bestimmt die Farbe:"
   ]
  },
  {
   "cell_type": "markdown",
   "metadata": {
    "slideshow": {
     "slide_type": "fragment"
    }
   },
   "source": [
    "Marker:\n",
    "\n",
    "|Zeichen|Beschreibung|\n",
    "|:----|:----|\n",
    "|`-`|durchgezogene Linie|\n",
    "|`--`|gestrichelte Linie|\n",
    "|`-.`|Strichpunkt-Linie|\n",
    "|`:`|punktierte Linie|\n",
    "|`.`|Punkt-Marker|\n",
    "|`,`|Pixel-Marker|\n",
    "|`o`|Kreis-Marker|\n",
    "|`v`, `^`, `<`, `>`| Dreiecks-Marker|\n",
    "|`1`, `2`, `3`, `4`| tri-(runter, hoch, links, rechts)-Marker|\n",
    "|`s`|quadratischer Marker|\n",
    "|`p`|fünfeckiger Marker|\n",
    "|`*`|Stern-Marker|\n",
    "|`h`|Sechseck-Marker1|\n",
    "|`H`|Sechseck-Marker2|\n",
    "|`+`|Plus-Marker|\n",
    "|`x`|x-Marker|\n",
    "|`D`| rautenförmiger Marker|\n",
    "|`d`|dünner rautenförmiger Marker|\n",
    "|`\\|` |Marker in Form einer vertikalen Linie|\n",
    "|`_`|Marker in Form einer horizontalen Linie|"
   ]
  },
  {
   "cell_type": "markdown",
   "metadata": {
    "slideshow": {
     "slide_type": "fragment"
    }
   },
   "source": [
    "Farbe:\n",
    "\n",
    "|Zeichen|Farbe|\n",
    "|:----|:----|\n",
    "|`b`|blau|\n",
    "|`g`|grün|\n",
    "|`r`|rot|\n",
    "|`c`|cyan|\n",
    "|`m`|magenta|\n",
    "|`y`|gelb|\n",
    "|`k`|schwarz|\n",
    "|`w`|weiß|"
   ]
  },
  {
   "cell_type": "markdown",
   "metadata": {
    "slideshow": {
     "slide_type": "fragment"
    }
   },
   "source": [
    "[Zurück zum Plot](#1011-2d-funktionsplots)"
   ]
  },
  {
   "cell_type": "markdown",
   "metadata": {
    "slideshow": {
     "slide_type": "fragment"
    }
   },
   "source": [
    "##### Gitternetz"
   ]
  },
  {
   "cell_type": "markdown",
   "metadata": {
    "slideshow": {
     "slide_type": "fragment"
    }
   },
   "source": [
    "Mit dem Befehl `plt.grid()` kann ein Gitternetz angezeigt werden, was es oft einfacher macht, um Werte abzulesen. Auch dieses lässt sich in seiner Darstellung individuell formatieren."
   ]
  },
  {
   "cell_type": "markdown",
   "metadata": {
    "slideshow": {
     "slide_type": "fragment"
    }
   },
   "source": [
    "[Zurück zum Plot](#1011-2d-funktionsplots)"
   ]
  },
  {
   "cell_type": "markdown",
   "metadata": {
    "slideshow": {
     "slide_type": "fragment"
    }
   },
   "source": [
    "##### Beschriftungen"
   ]
  },
  {
   "cell_type": "markdown",
   "metadata": {
    "slideshow": {
     "slide_type": "fragment"
    }
   },
   "source": [
    "Beschriftungen wie z.B. eine Achsenbeschriftung darf in keinem Diagramm fehlen. Zudem macht es oft Sinn, verschiedene Plots mit einer Legende zu kennzeichnen. Für Letzteres gibt es von `pyplot` die Methode `plt.legend(location)`, wobei der Parameter `location` die Position angibt. Den verschiedenen Plots müssen jeweils noch Werte für ihre `label`-Attribute übergeben werden. Um die Achsen zu beschriften gibt es die Methoden `plt.xlabel()` bzw. `plt.ylabel()`. Mit `plt.title()` lässt sich eine Überschrift bestimmen."
   ]
  },
  {
   "cell_type": "markdown",
   "metadata": {
    "slideshow": {
     "slide_type": "fragment"
    }
   },
   "source": [
    "[Zurück zum Plot](#1011-2d-funktionsplots)"
   ]
  },
  {
   "cell_type": "markdown",
   "metadata": {
    "slideshow": {
     "slide_type": "fragment"
    }
   },
   "source": [
    "##### Achsen- und Skalenteilung"
   ]
  },
  {
   "cell_type": "markdown",
   "metadata": {
    "slideshow": {
     "slide_type": "fragment"
    }
   },
   "source": [
    "Die Achsenskalierung wurde von `pyplot` bisher automatisch ausgeführt. In manchen Fällen ist es jedoch notwendig, die Achsenskalierung anzupassen. Dies kann mithilfe der Methoden `plt.xticks([...])` und `plt.yticks([...])` realisiert werden."
   ]
  },
  {
   "cell_type": "markdown",
   "metadata": {
    "slideshow": {
     "slide_type": "fragment"
    }
   },
   "source": [
    "[Zurück zum Plot](#1011-2d-funktionsplots)\n",
    "\n",
    "Auch die Skalenteilung muss manchmal angepasst werden, wenn es z.B. Sinn macht, eine logarithmische Skalenteilung zu verwenden. Dafür verwendet man die Methoden `plt.xscale(...)` und `plt.yscale(...)`. Als Parameter kann man Strings wie `\"linear\"`,`\"log\"`, `\"symlog\"`, `\"logit\"` übergeben.\n",
    "\n",
    "Anderes Beispiel zur Skalenteilung"
   ]
  },
  {
   "cell_type": "code",
   "execution_count": null,
   "metadata": {
    "slideshow": {
     "slide_type": "fragment"
    }
   },
   "outputs": [],
   "source": [
    "# Beispiel zur Skalenteilung\n",
    "n = 500\n",
    "x = np.linspace(0, 50, 500)\n",
    "y1 = 2**x\n",
    "y2 = x ** 7\n",
    "\n",
    "plt.title(\"Linearer Plot\")\n",
    "plt.plot(x, y1, label=\"exponentiell\")\n",
    "plt.plot(x, y2, label=\"Potenz\")\n",
    "plt.legend();\n"
   ]
  },
  {
   "cell_type": "code",
   "execution_count": null,
   "metadata": {
    "slideshow": {
     "slide_type": "fragment"
    }
   },
   "outputs": [],
   "source": [
    "plt.title(\"Logarithmischer Plot\")\n",
    "plt.yscale(\"log\")\n",
    "plt.plot(x, y1, label=\"exponentiell\")\n",
    "plt.plot(x, y2, label=\"Potenz\")\n",
    "plt.legend();"
   ]
  },
  {
   "cell_type": "markdown",
   "metadata": {
    "slideshow": {
     "slide_type": "fragment"
    }
   },
   "source": [
    "##### Achsenverschiebung\n",
    "\n",
    "Was Sie wahrscheinlich als Achsen bezeichnen würden, sind in `matplotlib` die `spines`. Es gibt genau vier an der Zahl, nämlich *left* und *right*, und *top* und *bottom*. Um nun beispielsweise ein \"klassisches\" Koordinatensystem zu erzeugen, werden der obere und recht Spine unsichtbar gemacht und der untere und linke verschoben.\n",
    "\n",
    "- `gca()` liefert die Achsenobjekte, die auch die `spines` enthalten."
   ]
  },
  {
   "cell_type": "code",
   "execution_count": null,
   "metadata": {
    "slideshow": {
     "slide_type": "fragment"
    }
   },
   "outputs": [],
   "source": [
    "# Klassisches Koordinatensystem\n",
    "x = np.linspace(-5, 5, 100)\n",
    "y = x**2-4\n",
    "ax = plt.gca()\n",
    "# obere und rechte Achse unsichtbar machen\n",
    "# ax.spines[\"top\"].set_color(\"none\")\n",
    "# ax.spines[\"right\"].set_color(\"none\")\n",
    "# # untere und linke Achse verschieben\n",
    "# ax.spines[\"bottom\"].set_position((\"data\", 0))\n",
    "# ax.spines[\"left\"].set_position((\"data\", 0))\n",
    "plt.plot(x, y);"
   ]
  },
  {
   "cell_type": "markdown",
   "metadata": {
    "slideshow": {
     "slide_type": "subslide"
    }
   },
   "source": [
    "#### 10.1.2 Objekt-Hierarchie"
   ]
  },
  {
   "cell_type": "markdown",
   "metadata": {
    "slideshow": {
     "slide_type": "fragment"
    }
   },
   "source": [
    "Um noch effektiver mit `matplotlib` arbeiten zu können, sollten Sie sich mit der Objekt-Hierarchie vertraut machen. Die Implementierung davon ist streng objektorientiert. Ein `matplotlib`-Objekt hat eine baumartige hierarchische Struktur. Die Hauptobjekte sind die `figures` und `axes`. Achtung: `axes` $\\neq$ \"Achsen\", sondern eher \"Plots\"."
   ]
  },
  {
   "cell_type": "markdown",
   "metadata": {
    "slideshow": {
     "slide_type": "fragment"
    }
   },
   "source": [
    "![fig_ax](https://python-course.eu/images/numerical-programming/matplotlib_object_hierarchy_400w.webp)            ![](https://python-course.eu/images/numerical-programming/matplotlib_object_hierarchy2_400w.webp) \n"
   ]
  },
  {
   "cell_type": "markdown",
   "metadata": {
    "slideshow": {
     "slide_type": "fragment"
    }
   },
   "source": [
    "Gesamtübersicht der wichtigsten `matplotlib`-Objekte:\n",
    "\n",
    "![](https://www.python-course.eu/images/matplotlib_terms.png)"
   ]
  },
  {
   "cell_type": "markdown",
   "metadata": {
    "slideshow": {
     "slide_type": "subslide"
    }
   },
   "source": [
    "#### 10.1.3 Mehrfache Plots\n",
    "\n",
    "Erzeugung einer `figure` und `axes` mit \n",
    "\n",
    "```python\n",
    "fig, ax = plt.subplot(zeilen, spalten, index)\n",
    "```"
   ]
  },
  {
   "cell_type": "code",
   "execution_count": null,
   "metadata": {
    "slideshow": {
     "slide_type": "fragment"
    }
   },
   "outputs": [],
   "source": [
    "# Erzeugen von figure und axes\n",
    "fig, ax = plt.subplots(2, 2);\n",
    "\n",
    "print(type(fig))\n",
    "print(type(ax[0]))\n",
    "\n",
    "x = np.linspace(0, 10, 100)\n",
    "y1 = x\n",
    "y2 = 5-x\n",
    "y3 = x**2\n",
    "y4 = 1/(0.2*x + 1)\n",
    "\n",
    "# Plotten\n",
    "\n",
    "#plt.subplot(2, 2, 1)\n",
    "plt.subplot(221)\n",
    "plt.plot(x, y1, \"b-\")\n",
    "plt.title(\"lineare Funktion\")\n",
    "plt.ylabel(\"y\")\n",
    "\n",
    "plt.subplot(2, 2, 2)\n",
    "plt.plot(x, y2, \"r-\")\n",
    "\n",
    "plt.subplot(2, 2, 3)\n",
    "plt.plot(x, y3, \"g-\")\n",
    "plt.ylabel(\"y\")\n",
    "\n",
    "plt.subplot(2, 2, 4)\n",
    "plt.plot(x, y4, \"k-\")\n",
    "\n",
    "plt.tight_layout()  # sorgt für genügend Abstand zwischen Plots\n"
   ]
  },
  {
   "cell_type": "markdown",
   "metadata": {
    "slideshow": {
     "slide_type": "fragment"
    }
   },
   "source": [
    "##### Beispiel: Lissajous-Figuren\n",
    "\n",
    "<img src=\"https://www.polygon-berlin.de/media/lissajous-figues-0-to-7-labeled.png\" width=\"50%\"></img>"
   ]
  },
  {
   "cell_type": "code",
   "execution_count": null,
   "metadata": {
    "slideshow": {
     "slide_type": "fragment"
    }
   },
   "outputs": [],
   "source": [
    "# TODO Lissajous-Figuren plotten\n",
    "\n"
   ]
  },
  {
   "cell_type": "markdown",
   "metadata": {
    "slideshow": {
     "slide_type": "subslide"
    }
   },
   "source": [
    "#### 10.1.4 3D-Funktionsplots\n",
    "\n"
   ]
  },
  {
   "cell_type": "markdown",
   "metadata": {
    "slideshow": {
     "slide_type": "fragment"
    }
   },
   "source": [
    "Bisher wurden mit der Pyplot-Funktion `plot(x, y)` Diagramme in der Ebene dargestellt. Unsere Welt ist jedoch dreidimensional, daher ist es bei vielen physikalischen Beispielen (z.B. Ausbreitung von Elektromagnetischen Wellen) nützlich, einen 3D-Plot zu erstellen. `matplotlib` bietet dafür das Toolkit `mpl_toolkits.mplot3d`.\n",
    "\n",
    "\n",
    "Beispiel an einer Schraubenlinie:\n",
    "\n",
    "- Parametrisierung:\n",
    "\n",
    "$\\begin{pmatrix} x \\\\ y \\\\ z \\\\ \\end{pmatrix} =   \\begin{pmatrix} R \\cdot cos(\\omega t)\\\\ R \\cdot sin(\\omega t) \\\\ v_0 \\cdot t  \\ \\end{pmatrix}$"
   ]
  },
  {
   "cell_type": "code",
   "execution_count": null,
   "metadata": {},
   "outputs": [],
   "source": [
    "# leeres 3D-Plot\n",
    "\n",
    "from mpl_toolkits.mplot3d import Axes3D\n",
    "\n",
    "plt3d = plt.subplot(projection= \"3d\");\n",
    "plt.xlabel(\"x\")\n",
    "plt.ylabel(\"y\")\n",
    "plt3d.set_zlabel(\"t\")\n",
    "\n",
    "\n",
    "# TODO Schraubenlinie\n",
    "\n",
    "\n"
   ]
  },
  {
   "cell_type": "markdown",
   "metadata": {
    "slideshow": {
     "slide_type": "slide"
    }
   },
   "source": [
    "### 10.2 Grafische Benutzeroberflächen mit `tkinter`"
   ]
  },
  {
   "cell_type": "markdown",
   "metadata": {
    "slideshow": {
     "slide_type": "fragment"
    }
   },
   "source": [
    "Ein interaktives Programm ermöglicht die Kommunikation zwischen Mensch und Computer über eine Benutzeroberfläche. In den bisherigen Codezeilen und -zellen hatte die Benutzeroberfläche zwei Merkmale:\n",
    "\n",
    "- Die Kommunikation ist *textbasiert*, d.h. entweder  hat das Programm Texte ausgegeben oder der Benutzer Texte über eine Eingabe der Tastatur geschrieben\n",
    "- Die Kommunikation ist *synchronisiert*. Es findet ein geregelter Dialog statt, die zeitliche Abfolge von Eingabe und Ausgaben ist genau festgelegt und vorhersehbar. Z.B. wartet das Programm bei einer `input()`-Anweisung bis es mit *Enter* bestätigt wurde."
   ]
  },
  {
   "cell_type": "markdown",
   "metadata": {
    "slideshow": {
     "slide_type": "fragment"
    }
   },
   "source": [
    "Moderne Software-Systeme arbeiten anders. Textverarbeitungsprogramme und andere Software haben Benutzeroberflächen (*Graphical User Interface*, kurz: *GUI*). Ein solches System hat die folgenden Merkmale:\n",
    "\n",
    "- Die Kommunikation ist *multimedial*, d.h. der Benutzer sieht nur die \"Oberfläche\" des Programms, welches die Schnittstelle zwischen Mensch und Maschine ist. Eingaben macht man nicht nur über die Tastatur, sondern auch mit der Maus. Es gibt eine Vielzahl an verschiedener Komponenten, wie Eingabefelder, Schaltflächen, Abbildungen, Animationen.\n",
    "- Die Kommunikation verläuft *asynchron*. Anstatt einem vorgegebenen Dialog zu folgen, hat der Benutzer die Freiheit, zu beliebigen Zeitpunkten etwas zu tun. Der Verlauf der Kommunikation ist unvorhersehbar. Jede Benutzeraktion bezeichnet man als asynchrones Ereignis (*Event*), auf das das System auf bestimmte Weise reagiert."
   ]
  },
  {
   "cell_type": "markdown",
   "metadata": {
    "slideshow": {
     "slide_type": "fragment"
    }
   },
   "source": [
    "In diesem Unterkapitel wird das Modul `tkinter` vorgestellt. Es gibt für Python noch andere Module wie `pyGTK`, `wxPython` oder `PyQt`, die jedoch wegen des teilweise hohen Programmieraufwands und beanspruchter Ressourcen im Rahmen dieser Vorlesung nicht weiter behandelt werden sollen. Der besondere Vorteil von `tkinter` besteht darin, mit geringem Programmieraufwand funktionale Prototypen für Ingenieuranwendungen mit GUI zu schreiben. Weil es wenig Ressourcen benötigt, laufen sie beispielweise auch auf einem Raspberry Pi."
   ]
  },
  {
   "cell_type": "markdown",
   "metadata": {
    "slideshow": {
     "slide_type": "fragment"
    }
   },
   "source": [
    "Die Entwicklung von `tkinter`-Programmen erfolgt üblicherweise in fünf Schritten:\n",
    "\n",
    "1. das Modul `tkinter` importieren (`import tkinter as tk`)\n",
    "2. ein Objekt für das Hauptfenster der GUI erzeugen\n",
    "3. Objekte für die Steuerelemente erzeugen\n",
    "4. die Steuerelemente auf der GUI anordnen\n",
    "5. eine Ereignisabfrage implementieren"
   ]
  },
  {
   "cell_type": "markdown",
   "metadata": {
    "slideshow": {
     "slide_type": "fragment"
    }
   },
   "source": [
    "In folgender Tabelle sind ein paar wichtige Steuerelemente aufgelistet:\n",
    "\n",
    "|Steuerelement|Beschreibung|\n",
    "|:----|:----|\n",
    "|Label|Bezeichnungsfeld und Ausgabe von Text (`String`)|\n",
    "|Entry|einzeiliges Textfeld für die Eingabe von Text (`String`)|\n",
    "|Button| Schaltfläche für die Auslösung von Ereignissen|\n",
    "|Frame| Bereich für die Platzierung von Steuerelementen|\n",
    "|Scale| Schieberegler|\n",
    "|Canvas|Zeichenfläche für die Darstellung von Linien, Formen, etc.|\n",
    "|Radiobutton|Einfachauswahl|\n",
    "|Checkbutton|Mehrfachauswahl|\n",
    "|Menu| Menüleiste|\n",
    "|Message|Anzeige von mehrzeiligem Text|\n",
    "|Scrollbar| Laufleiste für scrollbaren Text, Canvas, ...|\n",
    "|Listbox|Auswahlliste|"
   ]
  },
  {
   "cell_type": "markdown",
   "metadata": {
    "slideshow": {
     "slide_type": "subslide"
    }
   },
   "source": [
    "#### 10.2.1 Ein einführendes Beispiel\n",
    "\n"
   ]
  },
  {
   "cell_type": "code",
   "execution_count": null,
   "metadata": {
    "slideshow": {
     "slide_type": "fragment"
    }
   },
   "outputs": [],
   "source": [
    "# Einfaches Beispiel\n",
    "import tkinter as tk\n",
    "fenster = tk.Tk()   # Fenster wird erzeugt\n",
    "\n",
    "# TODO Label hinzufügen\n",
    "\n",
    "\n",
    "# TODO Button hinzufügen\n",
    "\n",
    "\n",
    "fenster.mainloop()  # Fenster wird aktiviert"
   ]
  },
  {
   "cell_type": "markdown",
   "metadata": {
    "slideshow": {
     "slide_type": "subslide"
    }
   },
   "source": [
    "#### 10.2.2 Widgets"
   ]
  },
  {
   "cell_type": "markdown",
   "metadata": {
    "slideshow": {
     "slide_type": "fragment"
    }
   },
   "source": [
    "Widgets sind die Komponenten, aus denen eine GUI aufgebaut ist. Programmiertechnisch gesehen sind Widgets daher Instanzen von Klassen des Moduls `tkinter`. Ihre Anordnung kann verschachtelt sein, man spricht hier auch von einer *Master-Slave*-Hierarchie.\n",
    "\n",
    "![](https://o.quizlet.com/3ucYJXz5tmAVFMcPZPDSxw.png)"
   ]
  },
  {
   "cell_type": "markdown",
   "metadata": {
    "slideshow": {
     "slide_type": "fragment"
    }
   },
   "source": [
    "##### Labels und Buttons"
   ]
  },
  {
   "cell_type": "markdown",
   "metadata": {
    "slideshow": {
     "slide_type": "fragment"
    }
   },
   "source": [
    "Syntax:\n",
    "\n",
    "```python\n",
    "label = Label(master[, option1=wert1[, ...]])\n",
    "\n",
    "button = Button(master[, option1=wert1[, ...]])\n",
    "```\n",
    "\n",
    "Die wichtigste `Button`-Option ist `command=prozedurname`, wodurch der Button mit einer Funktion oder Methode gekoppelt wird, die beim Anklicken ausgeführt werden soll."
   ]
  },
  {
   "cell_type": "code",
   "execution_count": null,
   "metadata": {
    "slideshow": {
     "slide_type": "fragment"
    }
   },
   "outputs": [],
   "source": [
    "# Lesetest mit Labels\n",
    "from tkinter import *\n",
    "from random import *\n",
    "\n",
    "class Sehtest(object):\n",
    "  def __init__(self):\n",
    "    self.fenster = Tk()\n",
    "    self.button = Button(self.fenster,text='neu!',\n",
    "                         command=self.neu)            \n",
    "    self.label = [\n",
    "      Label(self.fenster, font=('Arial',40), width=6),\n",
    "      Label(self.fenster, font=('Arial',20), width=6),\n",
    "      Label(self.fenster, font=('Arial',10), width=6)]\n",
    "    self.neu()\n",
    "    for l in self.label: l.pack()                     \n",
    "    self.button.pack(pady=10)       \n",
    "    self.fenster.mainloop()  \n",
    "\n",
    "  def neu(self):\n",
    "    a = 'ABCDEFGHIJKLMNOPQRSTUVWXYZ'\n",
    "    for l in self.label:\n",
    "      zeichen = choice(a)+' '+choice(a)+' '+choice(a) \n",
    "      l.config(text=zeichen)                          \n",
    "\n",
    "sehtest=Sehtest()\n",
    " "
   ]
  },
  {
   "cell_type": "markdown",
   "metadata": {
    "slideshow": {
     "slide_type": "fragment"
    }
   },
   "source": [
    "##### Entry"
   ]
  },
  {
   "cell_type": "code",
   "execution_count": null,
   "metadata": {
    "slideshow": {
     "slide_type": "fragment"
    }
   },
   "outputs": [],
   "source": [
    "# Texteingabe über Entry\n",
    "class Login(object):\n",
    "  def __init__(self):\n",
    "    self.user = {'Tim':'krone2', 'Mick':'selters$',\n",
    "                'Laura':'prater00', 'Kai':'pasta$1'} \n",
    "    self.fenster = Tk()\n",
    "    self.ausgabe = Label(self.fenster, width=20, height=2)\n",
    "    self.name = Entry(self.fenster)                         \n",
    "    self.passwort = Entry(self.fenster, show='*')           \n",
    "    self.loginButton = Button(self.fenster,\n",
    "                      text='login', command=self.login)\n",
    "    self.name.pack(padx=10, pady=10)                 \n",
    "    self.passwort.pack(pady=10)\n",
    "    self.loginButton.pack(pady=10)\n",
    "    self.ausgabe.pack()\n",
    "    self.fenster.mainloop()\n",
    "\n",
    "  def login(self):\n",
    "    name = self.name.get()                                   \n",
    "    if name in self.user.keys():\n",
    "      if self.passwort.get() == self.user[name]:\n",
    "        self.ausgabe.config(text='Herzlich Willkommen, '+name+'!')\n",
    "      else: self.ausgabe.config(text='Passwort falsch!')\n",
    "    else: self.ausgabe.config(text='User unbekannt!')\n",
    "    self.name.delete(0, END)                   \n",
    "    self.passwort.delete(0, END)\n",
    "\n",
    "l = Login()"
   ]
  },
  {
   "cell_type": "markdown",
   "metadata": {
    "slideshow": {
     "slide_type": "fragment"
    }
   },
   "source": [
    "##### Radiobutton"
   ]
  },
  {
   "cell_type": "code",
   "execution_count": null,
   "metadata": {
    "slideshow": {
     "slide_type": "fragment"
    }
   },
   "outputs": [],
   "source": [
    "# Auswahlbutton\n",
    "fenster = Tk()\n",
    "gruss = StringVar()     # Kontrollvariable                                  \n",
    "engl = Radiobutton(fenster, text='englisch    ',\n",
    "                   value='Hello', variable=gruss)  \n",
    "franz = Radiobutton(fenster, text='französisch', \n",
    "                    value= 'Bonjour', variable=gruss)\n",
    "deutsch = Radiobutton(fenster, text='deutsch    ',\n",
    "                      value='Guten Tag', variable=gruss)\n",
    "ausgabe = Label(fenster, textvariable=gruss,            \n",
    "                font=('Arial', 20), width=10)\n",
    "deutsch.select()                                      \n",
    "ausgabe.pack()\n",
    "franz.pack()\n",
    "engl.pack()\n",
    "deutsch.pack()\n",
    "fenster.mainloop()"
   ]
  },
  {
   "cell_type": "markdown",
   "metadata": {
    "slideshow": {
     "slide_type": "fragment"
    }
   },
   "source": [
    "Einige Widgets wie `Entry`, `RadioButton`, etc. müssen direkt mit Anwendungsvariablen verknüpft werden. Die Steuerelement-Variable eines Widgets wird geändert, sobald sich der Wert des Widgets ändert. Der angezeigte Wert des Widgets ändert sich, sobald die Steuerelement-Variable im Programm geändert wird. \n",
    "\n",
    "Deklaration:\n",
    "\n",
    "```python\n",
    "x = StringVar() # Enthält einen String; Standardwert: \"\"\n",
    "x = IntVar()    # Enthält einen Integer; Standardwert: 0\n",
    "x = DoubleVar() # Enthält einen Float; Standardwert: 0.0\n",
    "x = BooleanVar()# Enthält einen Boolschen Wert; Standardwert: False\n",
    "```\n",
    "\n",
    "Die Werte werden mit den Methoden `get()` und `set(...)` gelesen bzw. geschrieben.\n"
   ]
  },
  {
   "cell_type": "markdown",
   "metadata": {
    "slideshow": {
     "slide_type": "fragment"
    }
   },
   "source": [
    "##### Scale"
   ]
  },
  {
   "cell_type": "code",
   "execution_count": null,
   "metadata": {
    "slideshow": {
     "slide_type": "fragment"
    }
   },
   "outputs": [],
   "source": [
    "# Schieberegler\n",
    "class Buchstabenregler(object):\n",
    "    def __init__ (self):\n",
    "        self.fenster = Tk()\n",
    "        self.label = Label(self.fenster, text='A',\n",
    "                           font=('Arial', 4))\n",
    "        self.scale = Scale(self.fenster, length='3c',\n",
    "                           from_=4, to=60,\n",
    "                           command=self.setzeGroesse)\n",
    "        self.label.pack(side=LEFT)\n",
    "        self.scale.pack(side=RIGHT)\n",
    "        self.fenster.mainloop()\n",
    "\n",
    "    def setzeGroesse(self, event):\n",
    "        x=int(self.scale.get())\n",
    "        self.label.config(font=('Arial', x))\n",
    "\n",
    "b = Buchstabenregler()"
   ]
  },
  {
   "cell_type": "markdown",
   "metadata": {
    "slideshow": {
     "slide_type": "fragment"
    }
   },
   "source": [
    "[Weitere Beispiele](https://www.python-kurs.eu/python_tkinter.php)"
   ]
  },
  {
   "cell_type": "markdown",
   "metadata": {
    "slideshow": {
     "slide_type": "subslide"
    }
   },
   "source": [
    "#### 10.2.3 Event-Verarbeitung"
   ]
  },
  {
   "cell_type": "markdown",
   "metadata": {
    "slideshow": {
     "slide_type": "fragment"
    }
   },
   "source": [
    "Ganz allgemein ist ein Event ein Ereignis, das zu einem unvorhersehbaren Zeitpunkt (asynchron) eintritt. Typische Events sind:\n",
    "\n",
    "- das Klicken einer Maustaste\n",
    "- Tastenkombination auf der Tastatur"
   ]
  },
  {
   "cell_type": "markdown",
   "metadata": {
    "slideshow": {
     "slide_type": "fragment"
    }
   },
   "source": [
    "Für das Event-Prinzip sind drei Probleme zu lösen:\n",
    "\n",
    "1. Spezifizierung des Events. In Python werden diese über *Event-Sequenzen* beschrieben.\n",
    "2. System muss reagieren. Prozeduren werden über *Event-Handler* aufgerufen.\n",
    "3. Event muss mit Handlern verknüpft werden. Diesen Vorgang nennt man in Python *Binden*."
   ]
  },
  {
   "cell_type": "code",
   "execution_count": null,
   "metadata": {
    "slideshow": {
     "slide_type": "fragment"
    }
   },
   "outputs": [],
   "source": [
    "# Einführendes Beispiel\n",
    "class Raster(object):\n",
    "  def __init__(self):\n",
    "    liste = [(x,y) for x in range(10) for y in range(10)]\n",
    "    self.fenster = Tk()\n",
    "    for (i,j) in liste:\n",
    "      l=Label(self.fenster, width=2,\n",
    "                background='white')                       \n",
    "      l.grid(column=i, row=j)\n",
    "      # Binden der Event-Sequenzen                       \n",
    "      l.bind(sequence='<Button-1>', \n",
    "             func=self.linksklick)                  \n",
    "      l.bind(sequence='<Button-3>', \n",
    "             func=self.rechtsklick)\n",
    "      l.bind(sequence='<Double-Button-1>',\n",
    "             func=self.doppelklick)\n",
    "    self.fenster.mainloop()\n",
    "\n",
    "  # Event-Handler\n",
    "  def linksklick(self, event):\n",
    "      event.widget.config(bg='black')               \n",
    "\n",
    "  def rechtsklick(self, event):\n",
    "      event.widget.config(bg='grey')\n",
    "\n",
    "  def doppelklick(self, event):\n",
    "      event.widget.config(bg='white')\n",
    "\n",
    "r = Raster()"
   ]
  },
  {
   "cell_type": "markdown",
   "metadata": {
    "slideshow": {
     "slide_type": "fragment"
    }
   },
   "source": [
    "Einige `tkinter`-Events:\n",
    "\n",
    "|Event|Event-Sequenz|\n",
    "|:----|:----|\n",
    "|Klick mit der linken Maustaste| \\<Button-1>|\n",
    "|Klick mit der mittleren Maustaste (Scrollrad) |\\<Button-2>|\n",
    "|Klick mit der rechten Maustaste |\\<Button-3>|\n",
    "|Drehen des Mausrads |\\<MouseWheel>|\n",
    "|Doppelklick mit der linken Maustaste |\\<Double-Button-1>|\n",
    "|Die linke Maustaste wird gedrückt |\\<ButtonPress-1>|\n",
    "|Die linke Maustaste wird losgelassen |\\<ButtonRelease-1>|\n",
    "|Der Mauszeiger wird auf das Widget bewegt| \\<Enter>|\n",
    "|Der Mauszeiger verlässt das Widget |\\<Leave>|\n",
    "|Der Mauszeiger wurde innerhalb des Widgets bewegt| \\<Motion>|\n",
    "|Die Pfeil-nach-links-Taste wird gedrückt |\\<KeyPress-Left>|\n",
    "|Die F3-Taste wird losgelassen |\\<KeyRelease-F3>|"
   ]
  },
  {
   "cell_type": "markdown",
   "metadata": {
    "slideshow": {
     "slide_type": "fragment"
    }
   },
   "source": [
    "Allgemeiner Aufbau der Event-Sequenzen:\n",
    "- `<[Modifizierer-] Typ [-Qualifizierer]>`\n",
    "\n",
    "|Modifizierer|Bedeutung|\n",
    "|:----|:----|\n",
    "|`Alt` |Die „Alt“-Taste muß gedrückt sein.|\n",
    "|`Control`| Die „Strg“-Taste muß gedrückt sein.|\n",
    "|`Lock` |Die Feststelltaste muß gedrückt sein.|\n",
    "|`Shift` |Die Umschalt-Taste muß gedrückt sein.|\n",
    "|`ButtonX`| Die Maustaste X muß gedrückt sein. X steht für 1,2 oder 3.|\n",
    "|`Double`| Das Event muß zweimal hintereinander auftreten.|\n",
    "|`Triple` |Das Event muß dreimal hintereinander auftreten.|"
   ]
  },
  {
   "cell_type": "code",
   "execution_count": null,
   "metadata": {
    "slideshow": {
     "slide_type": "fragment"
    }
   },
   "outputs": [],
   "source": [
    "# Beispiel: Tastaturereignisse verarbeiten\n",
    "from tkinter import *\n",
    "class Spielfläche(object):\n",
    "  def __init__(self):\n",
    "    self.fenster = Tk()\n",
    "    self.canvas = Canvas(self.fenster, \n",
    "                         width='10c', height='5c')    \n",
    "    self.canvas.pack()                               \n",
    "    h = PhotoImage(file='python\\gemini\\erde.gif')\n",
    "    print(h)\n",
    "    self.canvas.create_image(0,0,anchor=NW, image=h)  \n",
    "    g7 = PhotoImage( file='python\\gemini\\gemini7d.gif')\n",
    "    self.gemini7 = self.canvas.create_image(\n",
    "                                   50,50,image=g7)    \n",
    "    g6 = PhotoImage(file='python\\gemini\\gemini6.gif')\n",
    "    self.canvas.create_image(300,30,image=g6)         \n",
    "    self.fenster.bind('<KeyPress-Down>',self.runter)  \n",
    "    self.fenster.bind('<KeyPress-Up>', self.rauf)\n",
    "    self.fenster.bind('<KeyPress-Left>', self.links)\n",
    "    self.fenster.bind('<KeyPress-Right>', self.rechts)\n",
    "    self.fenster.mainloop() \n",
    "  \n",
    "  # Event-Handler\n",
    "  def rauf(self, event):                               \n",
    "    self.canvas.move(self.gemini7, 0, -3)           \n",
    "\n",
    "  def runter(self, event):\n",
    "    self.canvas.move(self.gemini7, 0, +3)\n",
    "\n",
    "  def links(self, event):\n",
    "    self.canvas.move(self.gemini7, -3, 0)\n",
    "\n",
    "  def rechts(self, event):\n",
    "    self.canvas.move(self.gemini7, 3, 0)\n",
    "\n",
    "s = Spielfläche()"
   ]
  },
  {
   "cell_type": "markdown",
   "metadata": {
    "slideshow": {
     "slide_type": "fragment"
    }
   },
   "source": [
    "Programmierung eines Event-Handlers:\n",
    "\n",
    "- als Funktion:\n",
    "\n",
    "```python\n",
    "def handlername(event):\n",
    "```\n",
    "\n",
    "- als Methode:\n",
    "\n",
    "```python\n",
    "def handlername(self, event):\n",
    "```\n",
    "\n",
    "wobei `event` das Event-Objekt übergibt, welches folgende Attribute hat:\n",
    "\n",
    "|Attribut|Bedeutung|\n",
    "|:----|:----|\n",
    "|`char` |Enthält das eingegebene Zeichen als String. Gültig für: KeyPress, KeyRelease|\n",
    "|`keycode` |Enthält den Keycode (eindeutiger, ganzzahliger Identifizierer) der gedrückten Taste. Gültig für: KeyPress, KeyRelease|\n",
    "|`keysym`| Enthält den symbolischen Namen der gedrückten Taste. Gültig für: KeyPress, KeyRelease|\n",
    "|`delta` |Gibt an, wie weit der Benutzer das Mausrad gedreht hat. Das Vorzeichen von delta gibt die Bewegungsrichtung an (positiv: vorwärts, negativ: rückwärts). Gültig für: MouseWheel|\n",
    "|`widget` |Referenz auf das widget, in dem der Event aufgetreten ist. Gültig für: alle Eventtypen|\n",
    "|`x` |Die X-Koordinate des Mauszeigers in Pixel, relativ zur linken oberen Ecke des widgets. Gültig für: alle Eventtypen|\n",
    "|`y` |Die Y-Koordinate des Mauszeigers in Pixel, relativ zur linken oberen Ecke des widgets. Gültig für: alle Eventtypen|\n",
    "|`x_root`| Die X-Koordinate des Mauszeigers in Pixel, relativ zur linken oberen Ecke des Bildschirms. Gültig für: alle Eventtypen|\n",
    "|`y_root`| Die Y-Koordinate des Mauszeigers in Pixel, relativ zur linken oberen Ecke des Bildschirms. Gültig für: alle Eventtypen|\n",
    "|`time`| Uhrzeit, zu dem der Event aufgetreten ist. Die Uhrzeit wird dabei in Millisekunden seit dem Systemstart angegeben. Gültig für: alle Eventtypen|"
   ]
  },
  {
   "cell_type": "markdown",
   "metadata": {
    "slideshow": {
     "slide_type": "fragment"
    }
   },
   "source": [
    "Zum *Binden* gilt allgemein folgender Syntax:\n",
    "\n",
    "```python\n",
    "widget.bind(sequence=event, func=f)\n",
    "```"
   ]
  },
  {
   "cell_type": "markdown",
   "metadata": {
    "slideshow": {
     "slide_type": "slide"
    }
   },
   "source": [
    "### 10.3 Einbinden von `matplotlib` in `tkinter` "
   ]
  },
  {
   "cell_type": "markdown",
   "metadata": {
    "slideshow": {
     "slide_type": "fragment"
    }
   },
   "source": [
    "Angenommen Sie möchten ein Python-Programm schreiben, das Messwerte von einem Messgerät erhält und im Programm in einer GUI als Diagramm darstellen (*Plotter*). Dafür ist es praktisch, wenn man ein `matplotlib`-Diagramm in `tkinter` integrieren kann. \n",
    "\n",
    "Im Folgenden ist ein kleines Projekt realisiert, dass Elemente aus den Welten `matplotlib` und `tkinter` verbinden. Das Bindeglied ist ein Objekt vom Typ `FigureCanvasTkAgg`. Es sorgt dafür, dass ein Figure-Objekt aus `matplotlib` als Canvas-Objekt einem `Tk`-Objekt zugeordnet werden kann."
   ]
  },
  {
   "cell_type": "code",
   "execution_count": null,
   "metadata": {
    "slideshow": {
     "slide_type": "fragment"
    }
   },
   "outputs": [],
   "source": [
    "# Beispiel: CO2-Messwerte erfassen\n",
    "import matplotlib\n",
    "matplotlib.use('TkAgg')                               \n",
    "from matplotlib.backends.backend_tkagg import (FigureCanvasTkAgg,\n",
    "                                               NavigationToolbar2Tk)\n",
    "from matplotlib.figure import Figure\n",
    "from tkinter import Tk, Label, Button, Entry, LEFT, BOTH\n",
    "from time import time\n",
    "\n",
    "class Plotter:                                       \n",
    "    def __init__(self):     \n",
    "        self.f = Figure(figsize=(5,4), dpi=100)       \n",
    "        self.a = self.f.add_subplot(111)              \n",
    "        self.a.set_ylim(0, 3000)                      \n",
    "        self.a.set_xlim(0, 30)\n",
    "        self.a.grid()                           \n",
    "        self.t_vector = []                            \n",
    "        self.c_vector = []                            \n",
    "        self.start = time()                           \n",
    "        # Widgets\n",
    "        self.window = Tk()\n",
    "        self.canvas = FigureCanvasTkAgg(self.f,\n",
    "                             master=self.window)     \n",
    "        self.canvas.draw()\n",
    "        self.canvas.get_tk_widget().pack(fill=BOTH,\n",
    "                                        expand=True) \n",
    "        self.toolbar = NavigationToolbar2Tk(\n",
    "                          self.canvas, self.window)                                                      \n",
    "        self.label_c = Label(master=self.window,\n",
    "                         text=\" Kohlendioxid (ppm):\")\n",
    "        self.label_c.pack(side=LEFT)\n",
    "        self.entry_c = Entry(master=self.window, width=4)\n",
    "        self.entry_c.pack(side=LEFT)\n",
    "        self.button = Button(master=self.window, text='Ok',\n",
    "                             command=self.new_value)\n",
    "        self.button.pack(side=LEFT)\n",
    "        self.window.mainloop()\n",
    "\n",
    "    def new_value(self):                             \n",
    "        c = float(self.entry_c.get())\n",
    "        t = (time()-self.start)/60                   \n",
    "        self.t_vector.append(t)                      \n",
    "        self.c_vector.append(c)\n",
    "        self.a.plot(self.t_vector,self.c_vector,\"-b.\")\n",
    "        self.canvas.draw()\n",
    "        self.entry_c.delete(0, END)\n",
    "Plotter()                                            \n"
   ]
  }
 ],
 "metadata": {
  "kernelspec": {
   "display_name": "Python 3 (ipykernel)",
   "language": "python",
   "name": "python3"
  },
  "language_info": {
   "codemirror_mode": {
    "name": "ipython",
    "version": 3
   },
   "file_extension": ".py",
   "mimetype": "text/x-python",
   "name": "python",
   "nbconvert_exporter": "python",
   "pygments_lexer": "ipython3",
   "version": "3.11.7"
  },
  "varInspector": {
   "cols": {
    "lenName": 16,
    "lenType": 16,
    "lenVar": 40
   },
   "kernels_config": {
    "python": {
     "delete_cmd_postfix": "",
     "delete_cmd_prefix": "del ",
     "library": "var_list.py",
     "varRefreshCmd": "print(var_dic_list())"
    },
    "r": {
     "delete_cmd_postfix": ") ",
     "delete_cmd_prefix": "rm(",
     "library": "var_list.r",
     "varRefreshCmd": "cat(var_dic_list()) "
    }
   },
   "types_to_exclude": [
    "module",
    "function",
    "builtin_function_or_method",
    "instance",
    "_Feature"
   ],
   "window_display": false
  }
 },
 "nbformat": 4,
 "nbformat_minor": 2
}
