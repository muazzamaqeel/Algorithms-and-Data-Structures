{
 "cells": [
  {
   "cell_type": "markdown",
   "id": "b738544e",
   "metadata": {
    "slideshow": {
     "slide_type": "slide"
    }
   },
   "source": [
    "  # Python"
   ]
  },
  {
   "cell_type": "markdown",
   "id": "b176e887",
   "metadata": {
    "slideshow": {
     "slide_type": "fragment"
    }
   },
   "source": [
    "## Organisatorisches\n",
    "\n",
    "- Dozenten\n",
    "  - Florian Hillitzer (hillitzer@mail.hs-ulm.de)\n",
    "  - Johannes Eble (johannes.eble@thu.de)\n",
    "- Termin und Ort\n",
    "  - Vorlesung: mittwochs 17.30 Uhr im PC-Pool in W1.301\n",
    "  - Übung: mittwochs im Anschluss an die Vorlesung\n",
    "- Vorlesungsunterlagen\n",
    "  - sind in Moodle verfügbar\n",
    "- Prüfungsmodalitäten\n",
    "  - schriftliche Prüfung (entweder am letzten Vorlesungstag oder am ersten Samstag der Klausurenphase)\n",
    "  - **keine technischen Hilfsmittel** wie z.B. Taschenrechner, Tablets, Smartphones, etc. erlaubt\n",
    "  - Erlaubt sind ausschließlich **ausgegebene Tischvorlagen**\n",
    "- Voraussetzungen\n",
    "  - Vorlesung \"Programmieren in C++\" (oder vergleichbares)"
   ]
  },
  {
   "cell_type": "markdown",
   "id": "08e75eb3",
   "metadata": {
    "slideshow": {
     "slide_type": "slide"
    }
   },
   "source": [
    "## 1. Einleitung"
   ]
  },
  {
   "cell_type": "markdown",
   "id": "693142b5",
   "metadata": {
    "slideshow": {
     "slide_type": "fragment"
    }
   },
   "source": [
    "### 1.1 Einführung in Jupyter Notebook als IDE"
   ]
  },
  {
   "cell_type": "markdown",
   "id": "1ffd6b4f",
   "metadata": {
    "slideshow": {
     "slide_type": "subslide"
    }
   },
   "source": [
    "1. Starten Sie den installierten **Anaconda Navigator** (im PC-Pool direkt VS Code starten, dort ist Jupyter Notebook ohne Anaconda installiert)\n",
    "2. Starten (*Launch*) Sie **VS Code** über den Navigator\n",
    "3. Öffnen Sie über den Explorer in VS Code die Notebook-Datei **(.ipynb)**\n",
    "4. Wählen Sie einen passenden Kernel (des Anaconda *base* Environments) (im PC-Pool irgendeinen anderen Python-Kernel wählen, solange Version > 3.6)\n",
    "5. Klicken Sie auf *Clear All Outputs*\n"
   ]
  },
  {
   "cell_type": "markdown",
   "id": "02305761",
   "metadata": {
    "slideshow": {
     "slide_type": "subslide"
    }
   },
   "source": [
    "Es gibt die Zell-Typen `code` und `markdown`"
   ]
  },
  {
   "cell_type": "code",
   "execution_count": null,
   "id": "c968e57c",
   "metadata": {
    "scrolled": true,
    "slideshow": {
     "slide_type": "fragment"
    }
   },
   "outputs": [],
   "source": [
    "print('Das ist eine Code-Zelle, wähle mich an und drücke STRG+ENTER')"
   ]
  },
  {
   "cell_type": "code",
   "execution_count": null,
   "id": "7d3fb4e8",
   "metadata": {
    "slideshow": {
     "slide_type": "fragment"
    }
   },
   "outputs": [],
   "source": [
    "#Ausgabemöglichkeiten\n",
    "i=42   \n",
    "print(2*i)\n",
    "i\n",
    "i*3\n",
    "\n"
   ]
  },
  {
   "cell_type": "markdown",
   "id": "76f704c4",
   "metadata": {
    "slideshow": {
     "slide_type": "fragment"
    }
   },
   "source": [
    "&rarr; die letzte Auswertung in einer Zelle wird auch ausgegeben"
   ]
  },
  {
   "cell_type": "markdown",
   "id": "d116ac7c",
   "metadata": {
    "slideshow": {
     "slide_type": "subslide"
    }
   },
   "source": [
    "Für die Verwendung von mathematischen Beschreibungen besitzt Jupyter eine LaTeX Notation, z.B.\n",
    "\n",
    "$$\\sum_{k=1}^{42} k \\quad oder \\quad f(x) = \\int_{-\\infty}^{\\infty} e^{-x^2} dx \\quad oder \\quad c = \\sqrt{a^2 + b^2}$$ "
   ]
  },
  {
   "cell_type": "markdown",
   "id": "1cc585db",
   "metadata": {
    "slideshow": {
     "slide_type": "subslide"
    }
   },
   "source": [
    "Jupyter Notebook eignet sich auch hervorragend, um Daten zu visualieren, wie in folgenden Beispielen zu sehen (Code vorerst ignorieren):"
   ]
  },
  {
   "cell_type": "code",
   "execution_count": null,
   "id": "f7bea20c",
   "metadata": {
    "slideshow": {
     "slide_type": "fragment"
    }
   },
   "outputs": [],
   "source": [
    "import matplotlib.pyplot as plt\n",
    "%matplotlib inline\n",
    "data = {'Leute, die Python mögen': 93, 'Leute, die keinen Geschmack haben': 7}\n",
    "names = list(data.keys())\n",
    "values = list(data.values())\n",
    "plt.ylabel('Prozent')\n",
    "plt.bar(names, values)"
   ]
  },
  {
   "cell_type": "code",
   "execution_count": null,
   "id": "cdca2cb6",
   "metadata": {
    "slideshow": {
     "slide_type": "subslide"
    }
   },
   "outputs": [],
   "source": [
    "import altair as alt\n",
    "\n",
    "# load a simple dataset as a pandas DataFrame\n",
    "# Wenn Ihnen der Interpreter eine Fehlermeldung wirft, wie \"no module named vega_datasets\", geben Sie in Ihrer Anaconda Prompt\n",
    "# folgenden Befehl ein: conda install anaconda::vega_datasets\n",
    "from vega_datasets import data\n",
    "cars = data.cars()\n",
    "source = data.cars()\n",
    "\n",
    "alt.Chart(cars).mark_point().encode(\n",
    "    x='Horsepower',\n",
    "    y='Miles_per_Gallon',\n",
    "    color='Origin',\n",
    ").interactive()"
   ]
  },
  {
   "cell_type": "code",
   "execution_count": null,
   "id": "990f5ebb",
   "metadata": {
    "slideshow": {
     "slide_type": "subslide"
    }
   },
   "outputs": [],
   "source": [
    "alt.Chart(source).mark_circle().encode(\n",
    "    alt.X(alt.repeat(\"column\"), type='quantitative'),\n",
    "    alt.Y(alt.repeat(\"row\"), type='quantitative'),\n",
    "    color='Origin:N'\n",
    ").properties(\n",
    "    width=150,\n",
    "    height=150\n",
    ").repeat(\n",
    "    row=['Horsepower', 'Acceleration', 'Miles_per_Gallon'],\n",
    "    column=['Miles_per_Gallon', 'Acceleration', 'Horsepower']\n",
    ").interactive()"
   ]
  },
  {
   "cell_type": "markdown",
   "id": "336fdeca",
   "metadata": {
    "slideshow": {
     "slide_type": "subslide"
    }
   },
   "source": [
    "**Programmzustand**\n"
   ]
  },
  {
   "cell_type": "code",
   "execution_count": null,
   "id": "f8650c97",
   "metadata": {
    "slideshow": {
     "slide_type": "fragment"
    }
   },
   "outputs": [],
   "source": [
    "y = 12"
   ]
  },
  {
   "cell_type": "code",
   "execution_count": null,
   "id": "380e9fc7",
   "metadata": {},
   "outputs": [],
   "source": [
    "#Ist der Zustand von i aus einer anderen Zelle noch vorhanden?\n",
    "i  "
   ]
  },
  {
   "cell_type": "markdown",
   "id": "3afc5cdd",
   "metadata": {
    "slideshow": {
     "slide_type": "fragment"
    }
   },
   "source": [
    "- Der Zustand des Programms wird mit jeder ausgeführten Zelle aktualisiert. Diese Eigenschaft kann Segen und Fluch sein. Wenn Sie beispielsweise vergessen, eine vorherige aber relevante Zelle auszuführen, wird das Programm ein unerwartes Ergebnis liefern. \n"
   ]
  },
  {
   "cell_type": "markdown",
   "id": "8ec7d992",
   "metadata": {
    "slideshow": {
     "slide_type": "fragment"
    }
   },
   "source": [
    "- **im Zweifel:** Auf den *Restart*-Button und danach auf den *Run All*-Button klicken, um den Kernel neu zu starten und alle Zellen nacheinander auszuführen. Wenn der Fehler noch da ist, liegt es an Ihnen ;-) \n",
    "\n"
   ]
  },
  {
   "cell_type": "markdown",
   "id": "cd5817fd",
   "metadata": {
    "slideshow": {
     "slide_type": "fragment"
    }
   },
   "source": [
    "- **auf der anderen Seite**: Jupyter Notebooks sind besonders gut fürs Prototyping und *Small-Scale Development* geeignet. Es ist ein Mix aus Programmcode, Markdown/LaTeX und Programmausgaben oder graphischen Ausgaben\n"
   ]
  },
  {
   "cell_type": "markdown",
   "id": "9b686e0d",
   "metadata": {
    "slideshow": {
     "slide_type": "slide"
    }
   },
   "source": [
    "### 1.2 Historie zu Python"
   ]
  },
  {
   "cell_type": "markdown",
   "id": "143c00d7",
   "metadata": {
    "slideshow": {
     "slide_type": "fragment"
    }
   },
   "source": [
    "- Python ist eine **objektorientierte Programmiersprache**\n",
    "   - 1962 - 1967: erste Simulationssprache SIMULA in Oslo\n",
    "   - 1970 - 1989: erste universell verwendbare objektorientierte Sprache\n",
    "   - kurz darauf: C++ als objektorientierte Erweiterung von C \n",
    "   - erst 1989: Entwicklung von Python in Amsterdam\n",
    "     - heute: koordiniert von nichtkommerzieller Organisation PSF (Python Software Foundation)\n",
    "  - ungefähr zeitlich: Entwicklung von objektorientieren Analyse- und Entwurfsmethoden zur visuellen Darstellung von Software Systemen\n",
    "  &rarr; Unified Modeling Language (UML)"
   ]
  },
  {
   "cell_type": "markdown",
   "id": "c12da396",
   "metadata": {
    "slideshow": {
     "slide_type": "fragment"
    }
   },
   "source": [
    "- der Name **Python** hat historisch gesehen nichts mit Schlangen zu tun, sondern wurde vom Python-Entwickler Guido van Rossum, der ein großer Fan der britischen Komikertruppe *Monty Python* ist, aus \"einer etwas respektlosen Stimmung\" [1] heraus frei gewählt.\n",
    "\n",
    "<sub>[1]: B. Klein, „Einführung in Python 3“, in Einführung in Python 3, Carl Hanser Verlag GmbH & Co. KG, 2020, S. 4. doi: 10.3139/9783446465565.fm. </sub>\n",
    "\n"
   ]
  },
  {
   "cell_type": "markdown",
   "id": "f5427db9",
   "metadata": {
    "slideshow": {
     "slide_type": "slide"
    }
   },
   "source": [
    "## 2. Grundlagen zu Python"
   ]
  },
  {
   "cell_type": "markdown",
   "id": "aa21271f",
   "metadata": {
    "slideshow": {
     "slide_type": "subslide"
    }
   },
   "source": [
    "### 2.1 Syntax und Semantik"
   ]
  },
  {
   "cell_type": "markdown",
   "id": "8f9a01f8",
   "metadata": {
    "slideshow": {
     "slide_type": "fragment"
    }
   },
   "source": [
    "In einer Programmiersprache wird - wie in jeder Sprache - durch *Syntax und Semantik* definiert.\n",
    "\n",
    "- Die Syntax legt fest, welche Zeichenfolge einem Programmtext der jeweiligen Sprache entspricht.\n",
    "  -  Beispiel 1 ist `a = 2 ! 5` kein gültiger Python-Programmcode, weil die Python-Syntax vorschreibt, dass ein arithmetischer Operator zwischen zwei Zahlen stehen muss. Das Ausrufezeichen ist kein solcher Operator.\n",
    "  -  Beispiel 2  `print(\"Python ist super!\")` ist dagegen ein korrektes Python-Programm.\n",
    "- Die Semantik definiert die Bedeutung eines Programms. \n",
    "  - Die Semantik von Beispiel 2 sagt aus, dass auf dem Bildschirm die Zeichenkette `Python ist super` ausgegeben wird."
   ]
  },
  {
   "cell_type": "code",
   "execution_count": null,
   "id": "d60d2ba3",
   "metadata": {},
   "outputs": [],
   "source": [
    "#a = 2 ! 5  #wirft einen Syntaxfehler\n",
    "print(\"Python ist super!\")"
   ]
  },
  {
   "cell_type": "markdown",
   "id": "77c9b558",
   "metadata": {
    "slideshow": {
     "slide_type": "subslide"
    }
   },
   "source": [
    "#### 2.1.1 Variablennamen"
   ]
  },
  {
   "cell_type": "markdown",
   "id": "59b9f457",
   "metadata": {
    "slideshow": {
     "slide_type": "fragment"
    }
   },
   "source": [
    "Beim Vergeben von Variablennamen sind zwei Dinge zu beachten:\n",
    "- Name muss syntaktischen Anforderungen genügen\n",
    "- Name muss den üblichen Gepflogenheiten und Konventionen entsprechen"
   ]
  },
  {
   "cell_type": "markdown",
   "id": "96457654",
   "metadata": {
    "slideshow": {
     "slide_type": "fragment"
    }
   },
   "source": [
    "**Syntaktisch gültige Namen** müssen mit einem Buchstaben (lateinisch oder alle anderen Unicode-Buchstaben) oder Unterstrich anfangen. Variablennamen sind **case sensitive**:"
   ]
  },
  {
   "cell_type": "code",
   "execution_count": null,
   "id": "2da81c19",
   "metadata": {
    "slideshow": {
     "slide_type": "fragment"
    }
   },
   "outputs": [],
   "source": [
    "# TODO Unterscheidung von Klein- und Großschreibung\n",
    "person = \"Florian\"\n",
    "Person = \"Leon\"\n",
    "print(person)\n",
    "print(Person)\n"
   ]
  },
  {
   "cell_type": "markdown",
   "id": "2b513c28",
   "metadata": {
    "slideshow": {
     "slide_type": "fragment"
    }
   },
   "source": [
    "**Konventionen für Namen** können aus der Python-Community abgeleitet werden:\n",
    "1. **camelCase**\n",
    "2. **snake_case** oder **lower_case_with_underscore**\n",
    "\n",
    "Wichtig: Variablen fangen immer mit Kleinbuchstaben an und sollten einen *sprechenden Namen* haben, z.B. `aktueller_kontostand`und nicht `ak`."
   ]
  },
  {
   "cell_type": "markdown",
   "id": "cdb418fd",
   "metadata": {
    "slideshow": {
     "slide_type": "subslide"
    }
   },
   "source": [
    "#### 2.1.2 Zuweisungen"
   ]
  },
  {
   "cell_type": "markdown",
   "id": "1ae36079",
   "metadata": {
    "slideshow": {
     "slide_type": "fragment"
    }
   },
   "source": [
    "Ein zentrales Konzept ist die Zuweisung (*assignment*). Die einfachste Form der Zuweisung hat die Form: `name = wert`. Der Zuweisungsoperator ist das Gleichheitszeichen `=` (nicht zu verwechseln mit dem Vergleichsoperator `==`). "
   ]
  },
  {
   "cell_type": "markdown",
   "id": "b7d43117",
   "metadata": {
    "slideshow": {
     "slide_type": "subslide"
    }
   },
   "source": [
    "#### 2.1.3 Anweisungsblöcke und Einrückungen"
   ]
  },
  {
   "cell_type": "markdown",
   "id": "2d61f6f1",
   "metadata": {
    "slideshow": {
     "slide_type": "fragment"
    }
   },
   "source": [
    "Ein *Anweisungsblock* ist eine Folge von zusammenhängenden Anweisungen. Jedes einfache Python-Skript (oder jede Codezelle bisher) ist ein Anweisungsblock. "
   ]
  },
  {
   "cell_type": "code",
   "execution_count": null,
   "id": "e10b5b09",
   "metadata": {},
   "outputs": [],
   "source": [
    "#Summe der Zahlen von 1 bis 5\n",
    "summe = 0\n",
    "for i in range(5):\n",
    "    summe = summe + 1\n",
    "    print(\"Summe von 1 bis\", i+1, \":\", summe)\n",
    "print(\"Ende der Rechnung\")\n"
   ]
  },
  {
   "cell_type": "markdown",
   "id": "18139d24",
   "metadata": {
    "slideshow": {
     "slide_type": "fragment"
    }
   },
   "source": [
    "**Wichtig**: Alle zusammengehörigen Anweisungen eines Blocks müssen um exakt die gleiche Anzahl von Stellen eingerückt sein. Am Ende des Skripts werden die Blöcke vom Interpreter beendet."
   ]
  },
  {
   "cell_type": "markdown",
   "id": "202d9c82",
   "metadata": {},
   "source": [
    "**Fazit**: Das Layout des Python-Skripts dient nicht nur der besseren Lesbarkeit, sondern hat eine *Bedeutung*: Beginn und Ende eines Blocks werden durch Einrückung (*indent*) festgelegt, und nicht mit geschweiften Klammern `{...}`wie bei C oder Java:"
   ]
  },
  {
   "cell_type": "markdown",
   "id": "d96ec796",
   "metadata": {},
   "source": [
    "\n",
    "```cpp\n",
    "#include <stdio.h>\n",
    "\n",
    "int main(){\n",
    "    int summe = 0;\n",
    "    for (int i = 0; i < 5; i++)\n",
    "    {\n",
    "        summe = summe + 1;\n",
    "        printf(\"Summe von 1 bis %i: %i\\n\", i+1, summe);\n",
    "    }\n",
    "}\n",
    "\n",
    "``` "
   ]
  },
  {
   "cell_type": "markdown",
   "id": "0de3d75d",
   "metadata": {
    "slideshow": {
     "slide_type": "slide"
    }
   },
   "source": [
    "#### 2.1.4 Operatoren"
   ]
  },
  {
   "cell_type": "markdown",
   "id": "413cf694",
   "metadata": {
    "slideshow": {
     "slide_type": "fragment"
    }
   },
   "source": [
    "Nachfolgende Tabelle enthält alle Python-Operatoren in der Reihenfolge ihrer Priorität vom höchsten zum niedrigsten Vorrang:\n",
    "\n",
    "| Operator     | Beschreibung|\n",
    "| -----------   | :----------- |\n",
    "| ** | Potenz |\n",
    "| ~ + - | Binäres Komplement, unäres Plus, unäres Minus|\n",
    "|* / % //| Multiplikation, Division, Modulo, ganzzahlige Division |\n",
    "|+ - | Addition, Subraktion|\n",
    "|>>  <<| Bitweises Rechts- bzw. Linksschieben|\n",
    "|&| Bitweise UND-Verknüpfung|\n",
    "|^     \\| | Bitweise Exklusiv-Oder-Verküpfung (Antivalenz), bitweise Oder-Verküpfung|\n",
    "| <= < > >= | Vergleichsoperatoren|\n",
    "| <> == != | Gleichheits-Operatoren|\n",
    "| = %= /= //= -= += *= **=| Zuweisungs-Operatoren|\n",
    "|`is` `is not`| Identitätsoperatoren|\n",
    "|`in` `not in`| Enthalten-Operatoren|\n",
    "|`not` `or` `and`| Logischer Nicht-, Oder-, Und-Operator|\n",
    "\n"
   ]
  },
  {
   "cell_type": "markdown",
   "id": "6dd78416",
   "metadata": {
    "slideshow": {
     "slide_type": "slide"
    }
   },
   "source": [
    "### 2.2 Standard-Datentypen"
   ]
  },
  {
   "cell_type": "markdown",
   "id": "4273aed8",
   "metadata": {
    "slideshow": {
     "slide_type": "fragment"
    }
   },
   "source": [
    "#### 2.2.1 Daten als Objekte\n"
   ]
  },
  {
   "cell_type": "markdown",
   "id": "9b65ed48",
   "metadata": {
    "slideshow": {
     "slide_type": "fragment"
    }
   },
   "source": [
    "In der objektorientierten Programmierung werden Daten durch *Objekte* repräsentiert. Jedes Objekt hat eine **Identität**, einen **Wert** und einen **Typ**.\n",
    "\n",
    "- Werte werden durch *Literale* dargestellt: Zeichenfolgen die nach bestimmten Regeln aufgebaut sind.\n",
    "  - Literale wie z.B. `123`oder `'Wort'`gehören zu verschiedenen Datentypen\n"
   ]
  },
  {
   "cell_type": "code",
   "execution_count": null,
   "id": "0f751144",
   "metadata": {
    "slideshow": {
     "slide_type": "fragment"
    }
   },
   "outputs": [],
   "source": [
    "# TODO Wertausgabe\n",
    "a = 'Wort'\n",
    "a"
   ]
  },
  {
   "cell_type": "markdown",
   "id": "1416a1d0",
   "metadata": {
    "slideshow": {
     "slide_type": "subslide"
    }
   },
   "source": [
    "- Der Typ eines Objekts bestimmt, wie es in einem Python-Skript verarbeitet wird und kann mithilfe der `type()` Methode bestimmt werden."
   ]
  },
  {
   "cell_type": "code",
   "execution_count": null,
   "id": "9319f2a7",
   "metadata": {
    "slideshow": {
     "slide_type": "fragment"
    }
   },
   "outputs": [],
   "source": [
    "# TODO Typ-Bestimmung\n",
    "print(type(a))"
   ]
  },
  {
   "cell_type": "markdown",
   "id": "3299bf7a",
   "metadata": {
    "slideshow": {
     "slide_type": "subslide"
    }
   },
   "source": [
    "- Die Identität eines Objekts wird durch eine (einmalige) ganze Zahl repräsentiert. Diese kann mithilfe der `id()` Methode bestimmt werden:"
   ]
  },
  {
   "cell_type": "code",
   "execution_count": null,
   "id": "ca7355a1",
   "metadata": {
    "slideshow": {
     "slide_type": "fragment"
    }
   },
   "outputs": [],
   "source": [
    "# TODO Ausgabe der Identität\n",
    "id(a)"
   ]
  },
  {
   "cell_type": "markdown",
   "id": "043be701",
   "metadata": {
    "slideshow": {
     "slide_type": "fragment"
    }
   },
   "source": [
    "Es kann sein, dass zwei Objekte zwar den gleichen Wert, jedoch unterscheidliche Identitäten haben. Damit sind diese  dann *gleich*, aber nicht *identisch*."
   ]
  },
  {
   "cell_type": "code",
   "execution_count": null,
   "id": "f5016bd9",
   "metadata": {},
   "outputs": [],
   "source": [
    "# hier werden die Werte des Objekts x1 in das andere Objekt y1 kopiert, weshalb diese NICHT die gleiche Identität haben\n",
    "x1 = [1,2,3]\n",
    "y1 = x1[:]\n",
    "print(\"Listen:\")\n",
    "print(\"Id x1:{} y1:{}\".format(id(x1), id(y1)))\n",
    "print(\"Vergleich ==: \", x1 == y1) #\n",
    "print(\"Vergleich is: \", x1 is y1) #\n"
   ]
  },
  {
   "cell_type": "code",
   "execution_count": null,
   "id": "2ff6c5d5",
   "metadata": {},
   "outputs": [],
   "source": [
    "# hier haben x2 und z den gleichen Wert, gleichzeitig zeigen sie aus Effizienzgründen auf den gleichen Speicher, \n",
    "# weshalb sie auch die GLEICHE Identität haben\n",
    "x2 = 3\n",
    "y2 = 4\n",
    "z = y2-1\n",
    "print(\"\\nInteger:\")\n",
    "print(\"Id x2:{} y2:{} z:{}\".format(id(x2), id(y2), id(z)))\n",
    "print(\"Vergleich ==: \", x2 == z) #\n",
    "print(\"Vergleich is: \", x2 is z) #"
   ]
  },
  {
   "cell_type": "markdown",
   "id": "89736e45",
   "metadata": {
    "slideshow": {
     "slide_type": "subslide"
    }
   },
   "source": [
    "#### 2.2.2 Fundamentale Datentypen"
   ]
  },
  {
   "cell_type": "markdown",
   "id": "2907e2be",
   "metadata": {
    "slideshow": {
     "slide_type": "fragment"
    }
   },
   "source": [
    "- ganze Zahlen (`int`)\n",
    "- Gleitkommazahlen (`float`)\n",
    "- komplexe Zahlen (`complex`)\n",
    "- Wahrheitswerte (*True* oder *False*) (`bool`)"
   ]
  },
  {
   "cell_type": "code",
   "execution_count": 1,
   "id": "74b159b2",
   "metadata": {
    "slideshow": {
     "slide_type": "fragment"
    }
   },
   "outputs": [
    {
     "name": "stdout",
     "output_type": "stream",
     "text": [
      "<class 'float'>\n",
      "<class 'complex'>\n"
     ]
    },
    {
     "data": {
      "text/plain": [
       "False"
      ]
     },
     "execution_count": 1,
     "metadata": {},
     "output_type": "execute_result"
    }
   ],
   "source": [
    "# TODO Beispiele zu einfachen Datentypen\n",
    "\n",
    "a = 2    # Integer\n",
    "b = 3.   # Float\n",
    "print(type(b))\n",
    "c = 3 + 1j   # Complex\n",
    "print(type(c))\n",
    "d = a == b # Bool\n",
    "d"
   ]
  },
  {
   "cell_type": "markdown",
   "id": "6e646aee",
   "metadata": {
    "slideshow": {
     "slide_type": "fragment"
    }
   },
   "source": [
    "- der \"Nichtstyp\" (`NoneType`) hat nur ein Literal: `None`. \\\n",
    "  &rarr; `None` ist wirklich \"nichts\""
   ]
  },
  {
   "cell_type": "code",
   "execution_count": null,
   "id": "a07873f2",
   "metadata": {
    "slideshow": {
     "slide_type": "fragment"
    }
   },
   "outputs": [],
   "source": [
    "x = None\n",
    "x"
   ]
  },
  {
   "cell_type": "markdown",
   "id": "ec026e90",
   "metadata": {
    "slideshow": {
     "slide_type": "subslide"
    }
   },
   "source": [
    "#### 2.2.3 Sequentielle Datentypen\n",
    "\n",
    "Dazu zählen:\n",
    "- Strings\n",
    "- Listen\n",
    "- Tupel\n",
    "- bytes\n",
    "- bytearrays\n",
    "\n",
    "*(Werden in einer späteren Vorlesung genauer besprochen)*"
   ]
  },
  {
   "cell_type": "markdown",
   "id": "3ede6c8b",
   "metadata": {
    "slideshow": {
     "slide_type": "subslide"
    }
   },
   "source": [
    "#### 2.2.4 Statische und dynamische Typdeklaration\n",
    "\n",
    "- **statische** Typisierung: der Variablen muss zuerst ein Typ zugeordnet werden, bevor sie das erste Mal benutzt oder definiert wird. Diesen Typ behält sie über den gesamten Programmablauf bei. (z.B bei C, C++)\n",
    "\n",
    "- **dynamische** Typisierung: Variablen haben *keinen* bestimmten Typ, sondern das Objekt. Der Typ eines Objekts wird in Python automatisch zugeordnet. Dies kann auch während der Laufzeit geschehen."
   ]
  },
  {
   "cell_type": "markdown",
   "id": "57dcd6a3",
   "metadata": {
    "slideshow": {
     "slide_type": "fragment"
    }
   },
   "source": [
    "Man kann bei Bedarf auch eine statische Annotation in Python nutzen. Hierfür bietet Python (>3.6) ein System von Typ-Annotationen (*Type Hints*), z.B.:"
   ]
  },
  {
   "cell_type": "code",
   "execution_count": null,
   "id": "fd102ae6",
   "metadata": {
    "slideshow": {
     "slide_type": "fragment"
    }
   },
   "outputs": [],
   "source": [
    "# TODO Type Hint\n",
    "a: int = 2 # Type Hint ist nur eine Annotation, sie zwingt Python nicht, den Typ beizubehalten\n",
    "a = 3.\n",
    "a"
   ]
  },
  {
   "cell_type": "markdown",
   "id": "2398ba6c",
   "metadata": {
    "slideshow": {
     "slide_type": "slide"
    }
   },
   "source": [
    "### 2.3 Kontrollstrukturen"
   ]
  },
  {
   "cell_type": "markdown",
   "id": "b44d01f6",
   "metadata": {
    "slideshow": {
     "slide_type": "fragment"
    }
   },
   "source": [
    "Kontrollstrukturen legen in einem Programm in Reihenfolge der abzuarbeitenden Anweisungen fest. Die einfachste Kontrollstruktur ist die *Sequenz*. Hierbei werden die Anweisungen nacheinander - von oben nach unten - abgearbeitet. Ein solchen Programm nennt man auch *linear*. In diesem einführenden Unterkapitel werden folgende Kontrollstrukturen vorgestellt:\n",
    "\n",
    "- Programmverzweigungen (`if`, `if-else`, `if-elif`)\n",
    "- Schleifen (`while`, `for`)"
   ]
  },
  {
   "cell_type": "markdown",
   "id": "60952f5a",
   "metadata": {
    "slideshow": {
     "slide_type": "subslide"
    }
   },
   "source": [
    "#### 2.3.1 Bedingte Anweisungen\n",
    "\n",
    "**Einfachste if-Anweisung**\n"
   ]
  },
  {
   "cell_type": "code",
   "execution_count": null,
   "id": "79b59913",
   "metadata": {
    "slideshow": {
     "slide_type": "fragment"
    }
   },
   "outputs": [],
   "source": [
    "alter = int(input(\"Dein Alter? \")) # Einlesen eines int Objekts\n",
    "\n",
    "if alter < 12:\n",
    "    print(\"Sorry, der Film ist erst ab 12!\")"
   ]
  },
  {
   "cell_type": "markdown",
   "id": "7fd691be",
   "metadata": {
    "slideshow": {
     "slide_type": "fragment"
    }
   },
   "source": [
    "**if-Anweisung mit else-Zweig**"
   ]
  },
  {
   "cell_type": "code",
   "execution_count": null,
   "id": "1380b77b",
   "metadata": {
    "slideshow": {
     "slide_type": "fragment"
    }
   },
   "outputs": [],
   "source": [
    "alter = int(input(\"Dein Alter? \"))\n",
    "\n",
    "if alter < 12:\n",
    "    print(\"Sorry, der Film ist erst ab 12!\")\n",
    "else:\n",
    "    print(\"Okey, viel Spaß!\")"
   ]
  },
  {
   "cell_type": "markdown",
   "id": "a3f67f27",
   "metadata": {
    "slideshow": {
     "slide_type": "fragment"
    }
   },
   "source": [
    "**elif-Zweige**"
   ]
  },
  {
   "cell_type": "code",
   "execution_count": null,
   "id": "ac5ff9ee",
   "metadata": {
    "slideshow": {
     "slide_type": "fragment"
    }
   },
   "outputs": [],
   "source": [
    "alter = int(input(\"Dein Alter? \"))\n",
    "\n",
    "if alter < 4:\n",
    "    print(\"Film ist zu kompliziert!\")\n",
    "else:\n",
    "    if alter < 12:\n",
    "        print(\"Okey, viel Spaß!\")\n",
    "    else:\n",
    "        if alter < 16:\n",
    "            print(\"Bist du dir sicher, ob das der richtige Film ist?\")\n",
    "        else:\n",
    "            print(\"Wollen Sie sich das wirklich antun?\")"
   ]
  },
  {
   "cell_type": "markdown",
   "id": "915e5cc2",
   "metadata": {},
   "source": [
    "Besser:"
   ]
  },
  {
   "cell_type": "code",
   "execution_count": null,
   "id": "44fe4299",
   "metadata": {
    "slideshow": {
     "slide_type": "fragment"
    }
   },
   "outputs": [],
   "source": [
    "alter = int(input(\"Dein Alter? \"))\n",
    "\n",
    "if alter < 4:\n",
    "    print(\"Film ist zu kompliziert!\")\n",
    "elif alter < 12:\n",
    "    print(\"Okey, viel Spaß!\")\n",
    "elif alter < 16:\n",
    "    print(\"Bist du dir sicher, ob das der richtige Film ist?\")\n",
    "else:\n",
    "    print(\"Wollen Sie sich das wirklich antun?\")"
   ]
  },
  {
   "cell_type": "markdown",
   "id": "d9b2da80",
   "metadata": {
    "slideshow": {
     "slide_type": "subslide"
    }
   },
   "source": [
    "#### 2.3.2 Schleifen\n",
    "\n",
    "**Bedingte Wiederholung**"
   ]
  },
  {
   "cell_type": "code",
   "execution_count": null,
   "id": "7a190894",
   "metadata": {
    "slideshow": {
     "slide_type": "fragment"
    }
   },
   "outputs": [],
   "source": [
    "# TODO Beispiel While-Schleife\n",
    "x = 10\n",
    "while x > 0:\n",
    "    print(x, x**2)\n",
    "    x -= 1\n",
    "    if x == 5: # muss für die else-Anweisung auskommentiert werden\n",
    "        break\n",
    "else:\n",
    "    print(\"Schleife wurde vollständig abgearbeitet\")"
   ]
  },
  {
   "cell_type": "code",
   "execution_count": null,
   "id": "2c24d4dc",
   "metadata": {
    "slideshow": {
     "slide_type": "fragment"
    }
   },
   "outputs": [],
   "source": [
    "# TODO Beispiel für eine Do-While Schleife\n",
    "x = 10\n",
    "while True:\n",
    "    print(x, x**2)\n",
    "    x -= 1\n",
    "    \n",
    "    if x < 10:\n",
    "        break\n",
    "else:\n",
    "    print(\"Schleife wurde vollständig abgearbeitet\") # Codezeile wird nie erreicht"
   ]
  },
  {
   "cell_type": "code",
   "execution_count": null,
   "id": "b5ac8951",
   "metadata": {
    "slideshow": {
     "slide_type": "subslide"
    }
   },
   "outputs": [],
   "source": [
    "# Zahlenratespiel als Anwendungsbeispiel für else-Anweisung bei while-Schleifen\n",
    "# Errate eine Zahl, die zwischen 1 und 20 liegt\n",
    "# Um aufzugeben, gib eine 0 ein\n",
    "\n",
    "import random\n",
    "n = 20\n",
    "to_be_guessed = random.randint(1,n)\n",
    "guess = 0\n",
    "while guess != to_be_guessed:\n",
    "    guess = int(input(\"Neuer Versuch: \"))\n",
    "    if guess > 0:\n",
    "        if guess > to_be_guessed:\n",
    "            print(\"Zu groß\")\n",
    "        elif guess < to_be_guessed:\n",
    "            print(\"Zu klein\")\n",
    "    elif guess == 0: \n",
    "        print(\"Schade, dass Du aufgibst\")\n",
    "        break\n",
    "else: print(\"Gratuliere, das war's\")"
   ]
  },
  {
   "cell_type": "markdown",
   "id": "6390ebfb",
   "metadata": {
    "slideshow": {
     "slide_type": "subslide"
    }
   },
   "source": [
    "**Iterative Wiederholungen**\n",
    "\n",
    "- die \"klassische\" `for`-Schleife (C/C++):\n",
    "```cpp\n",
    "for (int i = 0; i < 10; i++)\n",
    "{\n",
    "    printf(\"i: %d\\n\", i);\n",
    "}\n",
    "```"
   ]
  },
  {
   "cell_type": "markdown",
   "id": "cf64eaaa",
   "metadata": {
    "slideshow": {
     "slide_type": "fragment"
    }
   },
   "source": [
    "- in Python entspricht die `for`-Schleife eher einer sog. `foreach`-Schleife:\n",
    "\n",
    "```python\n",
    "for element in kollektion:\n",
    "    anweisungsblock\n",
    "```\n",
    "\n",
    "Kollektionen sind bspw. Listen, Tupel, Zeichenketten, Mengen (*&rarr; sequentielle Datentypen*)\n",
    "\n",
    "Um daher eine \"klassische\" `for`-Schleife zu simulieren, wird die `range()`-Funktion verwendet:"
   ]
  },
  {
   "cell_type": "code",
   "execution_count": null,
   "id": "69822220",
   "metadata": {
    "slideshow": {
     "slide_type": "fragment"
    }
   },
   "outputs": [],
   "source": [
    "for i in range(10):\n",
    "    print(i)"
   ]
  },
  {
   "cell_type": "markdown",
   "id": "ea89ce40",
   "metadata": {
    "slideshow": {
     "slide_type": "fragment"
    }
   },
   "source": [
    "Der Syntax dieser Funktion lautet: `range(start, stop, step)`, wobei:\n",
    "- `start`: Optional. Default = 0.\n",
    "- `stop`: Notwendig. Exklusiv.\n",
    "- `step`: Optional. Default = 1."
   ]
  },
  {
   "cell_type": "code",
   "execution_count": null,
   "id": "1accb1bd",
   "metadata": {
    "slideshow": {
     "slide_type": "fragment"
    }
   },
   "outputs": [],
   "source": [
    "# TODO Beispiel mit Strings\n",
    "for x in \"Text\":\n",
    "    print(x)"
   ]
  },
  {
   "cell_type": "code",
   "execution_count": null,
   "id": "b0e003c8",
   "metadata": {
    "slideshow": {
     "slide_type": "fragment"
    }
   },
   "outputs": [],
   "source": [
    "# TODO Beispiel mit range()\n",
    "for x in range(-10, 10, 3):\n",
    "    print(x)"
   ]
  },
  {
   "cell_type": "markdown",
   "id": "2259d2ea",
   "metadata": {
    "slideshow": {
     "slide_type": "slide"
    }
   },
   "source": [
    "### 2.4 Ausgabe"
   ]
  },
  {
   "cell_type": "markdown",
   "id": "8f7ccbbe",
   "metadata": {
    "slideshow": {
     "slide_type": "fragment"
    }
   },
   "source": [
    "Für die Ausgabe haben wir nun bereits ein paar Mal die `print()`-Funktion verwendet. Ihr Default-Aufrufverhalten ist wie folgt definiert:\n",
    "```python\n",
    "    print(object(s), sep=' ', end = '\\n', file=sys.stdout, flush=False)\n",
    "```\n",
    "- `object(s)`: beliebige Anzahl an Objekten, getrennt durch Komma, werden vor der Ausgabe zum Typ `str`konvertiert.\n",
    "- `sep = 'seperator'`: Optional. Schreibt vor, wie die einzelnen `objects`getrennt werden. Default = `' '` (Leerzeichen)\n",
    "- `end = 'end'`: Optional. Schreibt vor, was am Ende der `print`-Anweisung geschrieben wird. Default = `'\\n'` (Neue Zeile)\n",
    "- `file`: Optional. Dort muss eine Schreib-Methode stehen. Default: `sys.stdout`\n",
    "- `flush`: Optional. Boolscher Wert, der vorschreibt, ob der Output *geflushed* oder *gebuffered* werden soll."
   ]
  },
  {
   "cell_type": "code",
   "execution_count": null,
   "id": "0b79d521",
   "metadata": {
    "slideshow": {
     "slide_type": "fragment"
    }
   },
   "outputs": [],
   "source": [
    "# TODO Konfigurationsmöglichkeiten der print()-Funktion\n",
    "a = 3.14\n",
    "print(\"a = \", a)\n",
    "print(\"a = \", a, sep = ':-)')\n",
    "print(\"a = \", a, end = ' ')\n",
    "print(\"Ich stehe immernoch in der gleichen Zeile\")"
   ]
  },
  {
   "cell_type": "markdown",
   "id": "8d7f4419",
   "metadata": {
    "slideshow": {
     "slide_type": "slide"
    }
   },
   "source": [
    "### 2.5 Mathematische Funktionen"
   ]
  },
  {
   "cell_type": "markdown",
   "id": "e6673e0a",
   "metadata": {
    "slideshow": {
     "slide_type": "fragment"
    }
   },
   "source": [
    "Für viele rechnerische Anwendungen werden mathematische Funktionen benötigt. Dafür stellt Python die `math`-Bibliothek zur Verfügung, welche man über folgenden Befehl in das Programm einbinden kann:\n",
    "```python \n",
    "import math     # für reelle Zahlen\n",
    "import cmath    # für komplexe Zahlen\n",
    "``` "
   ]
  },
  {
   "cell_type": "markdown",
   "id": "4696fdd6",
   "metadata": {
    "slideshow": {
     "slide_type": "fragment"
    }
   },
   "source": [
    "Die wichtigsten `math()`-Funktionen finden Sie [hier](https://www.w3schools.com/python/module_math.asp)"
   ]
  },
  {
   "cell_type": "markdown",
   "id": "b1b8c519",
   "metadata": {
    "slideshow": {
     "slide_type": "fragment"
    }
   },
   "source": [
    "Nicht zu vergessen, befinden sich dort auch die wichtigsten Konstanten:\n",
    "- `math.e`&rarr; 2.7182... (Eulersche Zahl)\n",
    "- `math.pi`&rarr; 3.1415... ($\\pi$)\n",
    "- `math.inf`&rarr; *floating-point* (Plus-)Unendlich\n",
    "- `math.nan`&rarr; NaN = Not a Number"
   ]
  },
  {
   "cell_type": "code",
   "execution_count": null,
   "id": "aa236c3f",
   "metadata": {
    "slideshow": {
     "slide_type": "fragment"
    }
   },
   "outputs": [],
   "source": [
    "# TODO Beispiele zur math-Bibliothek\n",
    "import math\n",
    "type(math.inf)\n",
    "\n",
    "print(math.sin(2*math.pi))\n",
    "math.pi"
   ]
  }
 ],
 "metadata": {
  "kernelspec": {
   "display_name": "Python 3 (ipykernel)",
   "language": "python",
   "name": "python3"
  },
  "language_info": {
   "codemirror_mode": {
    "name": "ipython",
    "version": 3
   },
   "file_extension": ".py",
   "mimetype": "text/x-python",
   "name": "python",
   "nbconvert_exporter": "python",
   "pygments_lexer": "ipython3",
   "version": "3.11.7"
  },
  "varInspector": {
   "cols": {
    "lenName": 16,
    "lenType": 16,
    "lenVar": 40
   },
   "kernels_config": {
    "python": {
     "delete_cmd_postfix": "",
     "delete_cmd_prefix": "del ",
     "library": "var_list.py",
     "varRefreshCmd": "print(var_dic_list())"
    },
    "r": {
     "delete_cmd_postfix": ") ",
     "delete_cmd_prefix": "rm(",
     "library": "var_list.r",
     "varRefreshCmd": "cat(var_dic_list()) "
    }
   },
   "types_to_exclude": [
    "module",
    "function",
    "builtin_function_or_method",
    "instance",
    "_Feature"
   ],
   "window_display": false
  }
 },
 "nbformat": 4,
 "nbformat_minor": 5
}
