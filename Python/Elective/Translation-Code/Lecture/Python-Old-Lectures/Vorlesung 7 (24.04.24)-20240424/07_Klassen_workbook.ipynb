{
 "cells": [
  {
   "cell_type": "markdown",
   "metadata": {
    "slideshow": {
     "slide_type": "slide"
    }
   },
   "source": [
    "## 8. Klassen"
   ]
  },
  {
   "cell_type": "markdown",
   "metadata": {
    "slideshow": {
     "slide_type": "fragment"
    }
   },
   "source": [
    "Die Definition und Verwendung von Klassen ist ein ganz essentieller Baustein der *objektorientierten Programmierung (OOP)*. Auch wenn einige Programmierer die OOP für eine moderne Errungenschaft halten, wissen wir bereits, dass ihre Wurzeln bis in die 1960er-Jahre zurückgehen. Die erste Programmiersprache, die Objekte verwendete, hieß bekanntlich *SIMULA*. Die Grundideen dieser Sprache stimmen noch immer mit denen von Python überein:\n"
   ]
  },
  {
   "cell_type": "markdown",
   "metadata": {
    "slideshow": {
     "slide_type": "fragment"
    }
   },
   "source": [
    "1. Alles ist ein Objekt\n",
    "2. Objekte kommunizieren durch das Senden und Empfangen von Nachrichten\n",
    "3. Objekte haben ihren eigenen Speicherbereich\n",
    "4. Jedes Objekt ist ein Exemplar einer *Klasse*\n",
    "5. Die *Klasse* beschreibt das Verhalten ihrer Exemplare"
   ]
  },
  {
   "cell_type": "markdown",
   "metadata": {
    "slideshow": {
     "slide_type": "fragment"
    }
   },
   "source": [
    "Insgesamt kann man die Grundideen als eine Zusammenfassung aller Daten und Operationen zu einer Einheit beschreiben. Dieses Prinzip wird auch *Datenkapselung* genannt, welches auch zum Schutz vor dem unmittelbaren Zugriff von Daten dient."
   ]
  },
  {
   "cell_type": "markdown",
   "metadata": {
    "slideshow": {
     "slide_type": "fragment"
    }
   },
   "source": [
    "In der Terminologie der aktuellen OOP werden anstatt der Begriffe Daten und Operationen die Begriffe *Attribute und Methoden* verwendet, wobei *Methode* nur eine andere Bezeichnung für den Ihnen schon bekannten Begriff *Funktion* ist. Auf eine Kurzformel gebracht:\n",
    "\n",
    "*Objekt = Attribute + Methoden*"
   ]
  },
  {
   "cell_type": "markdown",
   "metadata": {
    "slideshow": {
     "slide_type": "fragment"
    }
   },
   "source": [
    "Das Konzept der OOP verfolgt insbesondere drei Ziele:\n",
    "\n",
    "- **Prinzip der Wiederverwendbarkeit**: Einmal definierte Klassen sollen auch in anderen Softwareprojekten wiederverwendet werden können.\n",
    "\n",
    "- **Prinzip der Datenkapselung**: Durch die Aufteilung in übersichtliche Klassen soll die Komplexität reduziert werden. Softwareprojekte werden dadurch besser beherrschbar. Außerdem hat jede Klasse seine eigenen Variablen, ohne dass es zu Seiteneffekten bei der Programmausführung kommt\n",
    "\n",
    "- **Bessere Wartbarkeit**: Wenn z.B. für bestimmte Methoden einer Klasse ein effektiverer Algorithmus mit besserer Laufzeit gefunden wurde, kann er einfach in seiner Klasse als gleichnamige Methode implementiert werden."
   ]
  },
  {
   "cell_type": "markdown",
   "metadata": {
    "slideshow": {
     "slide_type": "fragment"
    }
   },
   "source": [
    "*Fun Fact*: Sie haben seit Beginn der Vorlesung druchgehend mit Klassen, Methoden und ihren Attributen gearbeitet (ohne es vielleicht explizit bemerkt zu haben)."
   ]
  },
  {
   "cell_type": "markdown",
   "metadata": {
    "slideshow": {
     "slide_type": "slide"
    }
   },
   "source": [
    "### 8.1 Klassen als Container"
   ]
  },
  {
   "cell_type": "markdown",
   "metadata": {
    "slideshow": {
     "slide_type": "fragment"
    }
   },
   "source": [
    "> *A container is an object that contains other objects*"
   ]
  },
  {
   "cell_type": "markdown",
   "metadata": {
    "slideshow": {
     "slide_type": "fragment"
    }
   },
   "source": [
    "In vergangenen Vorlesungen haben wir *Container* auch als Datenstrukturen bezeichnet. Dort wurden z.B. Werte zu einem kompakten `dict` zusammengefasst. Um auf die gepackten Daten zuzugreifen, wurde wiederrum ein *Schlüssel* benötigt."
   ]
  },
  {
   "cell_type": "markdown",
   "metadata": {
    "slideshow": {
     "slide_type": "fragment"
    }
   },
   "source": [
    "Klassen haben eine ähnliche Struktur: Sie sind Sammlungen von Attributen, zu denen man Werte speichern kann. Welche Attribute das sind, richtet sich danach, was modelliert werden soll. In unserem Beispiel wollen wir eine einfache Geld-Klasse darstellen:"
   ]
  },
  {
   "cell_type": "markdown",
   "metadata": {
    "slideshow": {
     "slide_type": "fragment"
    }
   },
   "source": [
    "![roboterklasse](anhang/geld.svg)"
   ]
  },
  {
   "cell_type": "markdown",
   "metadata": {
    "slideshow": {
     "slide_type": "fragment"
    }
   },
   "source": [
    "Zur visuellen Beschreibung von OOP werden häufig Symbole der UML (*Unified Modeling Language*) verwendet:\n",
    "\n",
    "![template](anhang/template.svg)"
   ]
  },
  {
   "cell_type": "markdown",
   "metadata": {
    "slideshow": {
     "slide_type": "subslide"
    }
   },
   "source": [
    "#### 8.1.1 Definition von Klassen"
   ]
  },
  {
   "cell_type": "markdown",
   "metadata": {
    "slideshow": {
     "slide_type": "fragment"
    }
   },
   "source": [
    "Der syntaktische Aufbau einer Klassendefinition in Python lautet wie folgt:\n",
    "\n",
    "```python\n",
    "classdef ::= class classname [inheritance] : \n",
    "    anweisungsfolge\n",
    "    \n",
    "inheritance ::= ([expression_list])\n",
    "classname ::= identifier\n",
    "```"
   ]
  },
  {
   "cell_type": "markdown",
   "metadata": {
    "slideshow": {
     "slide_type": "fragment"
    }
   },
   "source": [
    "Beispiele für syntaktisch korrekte Kopfzeilen von Klassendefinitionen sind:\n",
    "```python\n",
    "class MeineKlasse:\n",
    "class MeineKlasse(object):\n",
    "class MeineKlasse(Oberklasse):\n",
    "class MeineKlasse(Oberklasse1, Oberklasse2):\n",
    "\n",
    "```\n",
    "\n",
    "Hinweis: Klassennamen beginnen immer mit einem Großbuchstaben!"
   ]
  },
  {
   "cell_type": "code",
   "execution_count": null,
   "metadata": {
    "slideshow": {
     "slide_type": "fragment"
    }
   },
   "outputs": [],
   "source": [
    "# TODO einfachste Definition der Klasse \"Geld\"\n"
   ]
  },
  {
   "cell_type": "markdown",
   "metadata": {
    "slideshow": {
     "slide_type": "subslide"
    }
   },
   "source": [
    "#### 8.1.2 Definition mit Konstruktor"
   ]
  },
  {
   "cell_type": "markdown",
   "metadata": {
    "slideshow": {
     "slide_type": "fragment"
    }
   },
   "source": [
    "Obige Implementierung ist zwar syntaktisch korrekt, aber völlig sinnlos. In der Praxis besteht der Körper einer Klassendefinition aus folgenden Komponenten:\n",
    "\n",
    "- Definition der Klassenattribute (auch *statische* Attribute genannt) (falls vorhanden)\n",
    "- Definition einer Konstruktormethode `__init__()`. Dort werden Objektattribute mit Anfangswerten belegt, wenn ein Objekt der Klasse instanziiert wird.\n",
    "- Definition weiterer Methode (falls vorhanden)"
   ]
  },
  {
   "cell_type": "code",
   "execution_count": null,
   "metadata": {
    "slideshow": {
     "slide_type": "fragment"
    }
   },
   "outputs": [],
   "source": [
    "# TODO sinnvoller Definition der Klasse \"Geld\"\n"
   ]
  },
  {
   "cell_type": "markdown",
   "metadata": {
    "slideshow": {
     "slide_type": "fragment"
    }
   },
   "source": [
    "Hinweis: Das Schlüsselwort `self` muss bei jeder Methodendefinition **immer** mitangegeben werden. Beim Zugriff auf ein Instanzattribut wird dieses  **immer** vorangestellt. Die Konstruktormethode `__init__()` darf **keine** `return`-Anweisung enthalten!"
   ]
  },
  {
   "cell_type": "markdown",
   "metadata": {
    "slideshow": {
     "slide_type": "slide"
    }
   },
   "source": [
    "### 8.2 Instanzen (Objekte)"
   ]
  },
  {
   "cell_type": "markdown",
   "metadata": {
    "slideshow": {
     "slide_type": "fragment"
    }
   },
   "source": [
    "Um ein Klassenobjekt zu erzeugen, muss man die Klasse zunächst aufrufen. Klassen sind dahingehend wie Funktionen und zählen zu den aufrufbaren Objekten (*callables*). Als Übergabeargumente müssen die in der Parameterliste der Kontruktormethode geforderten Parameter angegeben werden, wobei man das erste Argument weglässt. Ein solches, durch Aufruf einer Klasse, erzeugtes Objekt nennt man dann auch **Instanz**."
   ]
  },
  {
   "cell_type": "code",
   "execution_count": null,
   "metadata": {
    "slideshow": {
     "slide_type": "fragment"
    }
   },
   "outputs": [],
   "source": [
    "# TODO Erzeugen einer Instanz der Klasse Geld\n"
   ]
  },
  {
   "cell_type": "markdown",
   "metadata": {
    "slideshow": {
     "slide_type": "fragment"
    }
   },
   "source": [
    "Generieren wir nun einige `Geld`-Objekte und überprüfen die Wirkung der Methode `add()` entsprechend folgender *UML-Objektsymbole*:\n",
    "\n",
    "![objektsymbole](anhang/geldobjekte.svg)"
   ]
  },
  {
   "cell_type": "code",
   "execution_count": null,
   "metadata": {
    "slideshow": {
     "slide_type": "fragment"
    }
   },
   "outputs": [],
   "source": [
    "# TODO Testen der Methode add()\n"
   ]
  },
  {
   "cell_type": "markdown",
   "metadata": {
    "slideshow": {
     "slide_type": "fragment"
    }
   },
   "source": [
    "Es ist auch möglich, Instanzen ohne Namen zu generieren. Diese nennt man *anonyme Objekte*:"
   ]
  },
  {
   "cell_type": "code",
   "execution_count": null,
   "metadata": {
    "slideshow": {
     "slide_type": "fragment"
    }
   },
   "outputs": [],
   "source": [
    "# TODO Anonymes Objekt als Instanz der Klasse Geld\n"
   ]
  },
  {
   "cell_type": "markdown",
   "metadata": {
    "slideshow": {
     "slide_type": "fragment"
    }
   },
   "source": [
    "Das entsprechnde UML-Diagramm sieht wie folgt aus:\n",
    "\n",
    "![anonymesObjekt](anhang/anonymesObjekt.svg)\n",
    "\n"
   ]
  },
  {
   "cell_type": "markdown",
   "metadata": {
    "slideshow": {
     "slide_type": "subslide"
    }
   },
   "source": [
    "### 8.3 Zugriff auf Attribute - Sichtbarkeit"
   ]
  },
  {
   "cell_type": "markdown",
   "metadata": {
    "slideshow": {
     "slide_type": "fragment"
    }
   },
   "source": [
    "Mit Attributen beschreibt man die Merkmale einer Klasse. Die *Objektattribute* beziehen sich dabei auf Eigenschafter individueller Instanzen und werden in Python durch Zuweisungen der Form `self.attribut = wert` innerhalb des Konstruktors erzeugt.\n",
    "\n",
    "*Klassenattribute* (oder auch statische Attribute) sind dagegen Merkmale, die *alle* Instanzen einer Klasse besitzen. Diese sind von der Existenz einer Instanz unabhängig und werden durch eine Zuweisung der Form `attribut = wert` innerhalb der Klassendefinition (jedoch außerhalb einer Methode) definiert."
   ]
  },
  {
   "cell_type": "markdown",
   "metadata": {
    "slideshow": {
     "slide_type": "fragment"
    }
   },
   "source": [
    "Der Zugriff aus Klassen- und Objektattribute kann eingeschränkt werden. Man spricht dann auch von *Sichtbarkeit* und unterscheidet zwischen öffentlichen und privaten Attributen."
   ]
  },
  {
   "cell_type": "markdown",
   "metadata": {
    "slideshow": {
     "slide_type": "subslide"
    }
   },
   "source": [
    "#### 8.3.1 Öffentliche Attribute"
   ]
  },
  {
   "cell_type": "markdown",
   "metadata": {
    "slideshow": {
     "slide_type": "fragment"
    }
   },
   "source": [
    "*Öffentlich* bedeutet, dass man \"von außen\" lesend und schreiben zugreifen kann. Der Syntax für einen Zugriff auf ein *Objektattribut* lautet `instanz.attribut`:"
   ]
  },
  {
   "cell_type": "code",
   "execution_count": null,
   "metadata": {
    "slideshow": {
     "slide_type": "fragment"
    }
   },
   "outputs": [],
   "source": [
    "# TODO einfacher Zugriff aus Objektattribut\n"
   ]
  },
  {
   "cell_type": "markdown",
   "metadata": {
    "slideshow": {
     "slide_type": "fragment"
    }
   },
   "source": [
    "Analog dazu kann man auch auf *Klassenattribute* zugreifen. Hierzu schreibt man lediglich den Klassennamen, anstatt des Instanznamen: `Klasse.attribut`"
   ]
  },
  {
   "cell_type": "code",
   "execution_count": null,
   "metadata": {
    "slideshow": {
     "slide_type": "fragment"
    }
   },
   "outputs": [],
   "source": [
    "# TODO Zugriff auf Klassenattribut\n"
   ]
  },
  {
   "cell_type": "markdown",
   "metadata": {
    "slideshow": {
     "slide_type": "fragment"
    }
   },
   "source": [
    "Die Verwendung öffentlicher Attribute wird insbesondere von Informatikern aus dem Software-Engineering **abgelehnt**, weil damit das Geheimnisprinzip verletzt wird. \n",
    "\n",
    "Ein Objekt sollte so wenig wie möglich über seinen internen Aufbau verraten. Außerdem bergen sie das Risiko zu ungewollten Seiteneffekten und/oder inkonsistenten Zuständen.\n",
    "\n",
    "Beispiel:"
   ]
  },
  {
   "cell_type": "code",
   "execution_count": null,
   "metadata": {
    "slideshow": {
     "slide_type": "fragment"
    }
   },
   "outputs": [],
   "source": [
    "# Negativbeispiel öffentlicher Attribute\n",
    "preis = Geld(\"EUR\", 100)\n",
    "preis.waehrung = \"DM\"\n",
    "preis.betrag = 200\n",
    "# TODO welche Probleme treten auf?\n"
   ]
  },
  {
   "cell_type": "markdown",
   "metadata": {
    "slideshow": {
     "slide_type": "subslide"
    }
   },
   "source": [
    "#### 8.3.2 Private Attribute"
   ]
  },
  {
   "cell_type": "markdown",
   "metadata": {
    "slideshow": {
     "slide_type": "fragment"
    }
   },
   "source": [
    "Um Attribute vor öffentlichem Zugriff zu schützen, sollte man sie mit einem oder zwei Unterstrichen definieren. Dadurch wird das Attribut abgeschirmt und man nennt es *privat*. Python unterscheidet hierbei zwischen schwacher (*protected*) und starker (das echte *private*) Privatheit:\n",
    "\n",
    "- Stark private Attribute schreibt man z.B. `__privat`. Es ist nur möglich, innerhalb der Klassendefinition auf ein solches Attribut zuzugreifen.\n",
    "- Schwach private Attribute schreibt man z.B. `_privat`. Durch eine `from ... import *`-Anweisung wird der Namen zwar nicht in den Namensraum aufgenommen und das Risiko einer Namenskollision verringert, allerdings kann man problemlos auf das Attribut zugreifen, wenn man seinen Namen kennt."
   ]
  },
  {
   "cell_type": "code",
   "execution_count": null,
   "metadata": {
    "slideshow": {
     "slide_type": "fragment"
    }
   },
   "outputs": [],
   "source": [
    "# TODO Beispiel zu verschiedenen Attributzugriffen\n"
   ]
  },
  {
   "cell_type": "markdown",
   "metadata": {
    "slideshow": {
     "slide_type": "fragment"
    }
   },
   "source": [
    "Einen wirklichen Schutz von außen bieten aber selbst *stark private* Attribute nicht, denn diese werden eigentlich nur versteckt. Man kann auch diese Attribute sichtbar machen, indem man diesem zusätzlich den Klassennamen mit einem Unterstrich voranstellt (`_Klasse__attribut`):"
   ]
  },
  {
   "cell_type": "code",
   "execution_count": null,
   "metadata": {
    "slideshow": {
     "slide_type": "fragment"
    }
   },
   "outputs": [],
   "source": [
    "# TODO private Attribute aufdecken\n"
   ]
  },
  {
   "cell_type": "markdown",
   "metadata": {
    "slideshow": {
     "slide_type": "fragment"
    }
   },
   "source": [
    "Sie sehen damit, dass Python (vor allem im Unterschied zu anderen Programmiersprachen) nicht sehr *restriktiv* ist. Generell ist *Restriktivität* in der Python-Community sehr verpönt, da jeder auf die eigene Vernunft und die der anderen vertraut. Alles andere sei *unpythonic*.\n",
    "\n",
    "> *We are all consenting adults here* - Guido Van Rossum"
   ]
  },
  {
   "cell_type": "markdown",
   "metadata": {
    "slideshow": {
     "slide_type": "subslide"
    }
   },
   "source": [
    "#### 8.3.3 Erweitern der Definition der Klasse `Geld`"
   ]
  },
  {
   "cell_type": "code",
   "execution_count": null,
   "metadata": {
    "slideshow": {
     "slide_type": "fragment"
    }
   },
   "outputs": [],
   "source": [
    "# TODO Attribute umbenennen\n",
    "\n",
    "\n",
    "    \n",
    "    # TODO Erweiterung der Methoden\n",
    "    \n",
    "\n",
    "    # TODO zu 8.3.4 Properties\n",
    "   "
   ]
  },
  {
   "cell_type": "code",
   "execution_count": null,
   "metadata": {
    "slideshow": {
     "slide_type": "fragment"
    }
   },
   "outputs": [],
   "source": [
    "# Erzeugen von Instanzen der erweiterten Klasse\n",
    "preis = Geld(\"USD\", 1000)\n",
    "preis.setWaehrung(\"EUR\")\n",
    "print(preis.getBetrag(), preis.getWaehrung())"
   ]
  },
  {
   "cell_type": "markdown",
   "metadata": {
    "slideshow": {
     "slide_type": "subslide"
    }
   },
   "source": [
    "#### 8.3.4 Properties"
   ]
  },
  {
   "cell_type": "markdown",
   "metadata": {
    "slideshow": {
     "slide_type": "fragment"
    }
   },
   "source": [
    "In Python kann man private Attribute so definieren, dass man auf sie von außen *scheinbar direkt* zugreifen kann, der Zugriff aber trotzdem von speziellen, in der Klasse definierten Methoden kontrolliert wird. Dazu definiert man am Ende der Klassendefinition mithilfe der `property()`-Funktion die sog. *properties* (Eigenschaften). Als Argumente der `property()`-Methode werden zuerst eine *get*- und optional auch eine *set*-Methode übergeben, die einen Lese- und/oder Schreibezugriff auf das private Attribut ermöglicht."
   ]
  },
  {
   "cell_type": "markdown",
   "metadata": {
    "slideshow": {
     "slide_type": "fragment"
    }
   },
   "source": [
    "Der Syntax lautet:\n",
    "\n",
    "```python\n",
    "property(fget=None, fset=None, fdel=None, doc=None)\n",
    "```\n",
    "wobei:\n",
    "- `fget`:\tFunktion, die den Wert des Attributs zurückgibt\n",
    "- `fset`:\tFunktion, die es erlaubt, den Wert des Attributs zu ändern\n",
    "- `fdel`:\tFunktion, die den Löschvorgang beschreibt\n",
    "- `doc`:\tDocstring als `String`"
   ]
  },
  {
   "cell_type": "code",
   "execution_count": null,
   "metadata": {
    "slideshow": {
     "slide_type": "fragment"
    }
   },
   "outputs": [],
   "source": [
    "# Erzeugen von Instanzen der Klasse mit properties\n",
    "preis = Geld(\"EUR\", 1000)\n",
    "preis.waehrung = \"USD\"\n",
    "print(preis.betrag, preis.waehrung)\n",
    "print(preis._Geld__betrag)"
   ]
  },
  {
   "cell_type": "markdown",
   "metadata": {
    "slideshow": {
     "slide_type": "fragment"
    }
   },
   "source": [
    "Wenn z.B. beim Aufruf der `property()`-Methode nur das erste Argument (`fget`) angegeben wird, wird damit auch keine Schreibmethode spezifiziert. So gibt es beim Versuch eines schreibenden Zugriffs einen `AttributError`, wie das folgende Beispiel zeigt:"
   ]
  },
  {
   "cell_type": "code",
   "execution_count": null,
   "metadata": {
    "slideshow": {
     "slide_type": "fragment"
    }
   },
   "outputs": [],
   "source": [
    "class Const:\n",
    "    def __init__(self, x):\n",
    "        self.__x = x\n",
    "\n",
    "    def getX(self):\n",
    "        return self.__x\n",
    "    \n",
    "    x = property(getX)\n",
    "\n",
    "k = Const(100)\n",
    "print(k.x)\n",
    "k.x = 101"
   ]
  },
  {
   "cell_type": "markdown",
   "metadata": {
    "slideshow": {
     "slide_type": "subslide"
    }
   },
   "source": [
    "#### 8.3.5 Dynamische Erzeugung von Attributen"
   ]
  },
  {
   "cell_type": "markdown",
   "metadata": {
    "slideshow": {
     "slide_type": "fragment"
    }
   },
   "source": [
    "In Python ist es möglich, während des Programmlaufs neue Attribute *dynmamisch* zu erzeugen:\n"
   ]
  },
  {
   "cell_type": "code",
   "execution_count": null,
   "metadata": {
    "slideshow": {
     "slide_type": "fragment"
    }
   },
   "outputs": [],
   "source": [
    "# TODO leere Klasse mit dynamisch erzeugten Attributen\n"
   ]
  },
  {
   "cell_type": "markdown",
   "metadata": {
    "slideshow": {
     "slide_type": "fragment"
    }
   },
   "source": [
    "Hinweis: Dieses Feature ist eine potentielle Fehlerquelle! Wenn nämlich beim schreibenden Zugriff auf ein öffentliches Attribut der Attributname versehentlich falsch geschrieben wird, gibt es **keine** Fehlermeldung. Stattdessen wird einfach ein neues Attribut hinzugefügt."
   ]
  },
  {
   "cell_type": "markdown",
   "metadata": {
    "slideshow": {
     "slide_type": "slide"
    }
   },
   "source": [
    "### 8.4 Methoden"
   ]
  },
  {
   "cell_type": "markdown",
   "metadata": {
    "slideshow": {
     "slide_type": "fragment"
    }
   },
   "source": [
    "Der Syntax zur Definition von Methoden ist dem zur Definition von Funktionen sehr ähnlich:\n",
    "\n",
    "```python\n",
    "def methode (self, arg1, arg2, ...)\n",
    "```\n",
    "\n",
    "Der Unterschied zu Funktionen liegt in folgenden Punkten:\n",
    "\n",
    "- Methoden sind **keine** selbstständigen Objekte, sondert integraler Bestandteil einer Klasse\n",
    "- In der Parameterliste der Methodendefinition bezeichnet der erste Parameter **immer** die Instanz. Der Name ist dabei beliebig, jedoch verwendet man üblicherweise `self`\n",
    "- Beim Aufruf einer Methode muss immer der Name der Instanz, gefolgt von einem Punkt, vor den Methodennamen gestellt werden. Syntax: `instanz.methode(arg1, ...)`. Dabei ist der Methodenaufruf um eines kürzer, da das erste Argument `self` weggelassen wird."
   ]
  },
  {
   "cell_type": "markdown",
   "metadata": {
    "slideshow": {
     "slide_type": "fragment"
    }
   },
   "source": [
    "Für Zugriffsoperationen auf (private) Attribute verwendet man sog. *setter*- und *getter*-Methoden. In UML-Klassensymbolen lässt man diese elementaren Verwaltungsmethoden meist weg"
   ]
  },
  {
   "cell_type": "markdown",
   "metadata": {
    "slideshow": {
     "slide_type": "fragment"
    }
   },
   "source": [
    "Genauso wie bei den Attributen gibt es auch private und öffentliche Methoden. Hierfür gilt der gleiche Syntax wie bei den Attributen, z.B. wäre `__machPrivateDinge()` eine stark private Methode, `_machDasNichtMitJedem()` eine schwach private Methode. Ohne Unterstrich bezeichnen die Namen öffentliche Methoden."
   ]
  },
  {
   "cell_type": "markdown",
   "metadata": {
    "slideshow": {
     "slide_type": "subslide"
    }
   },
   "source": [
    "#### 8.4.1 Polymorphismus - Überladen von Operatoren"
   ]
  },
  {
   "cell_type": "markdown",
   "metadata": {
    "slideshow": {
     "slide_type": "fragment"
    }
   },
   "source": [
    "Ein weiteres wichtiges Konzept der OOP ist der *Polymorphismus* (bzw. die *Polymorphie*). Dadurch ist es möglich, den gleichen Namen für gleichartige Operationen zu verwenden, die auf Objekte unterschiedlicher Klassen angewendet werden. Man spricht auch vom Überladen (*overloading*) einer Operation."
   ]
  },
  {
   "cell_type": "markdown",
   "metadata": {
    "slideshow": {
     "slide_type": "fragment"
    }
   },
   "source": [
    "In Python können Operatoren und Standardfunktionen überladen werden, indem man bei einer neuen Klasse bestimmte Methoden mit vorgegebenen Namen definiert. In folgenden Tabellen sind einige dieser speziellen (*magic/Dunders*) Methoden aufgelistet:\n",
    "\n",
    "**Initialisierung**:\n",
    "\n",
    "|Methode|Erläuterung|\n",
    "|:----|:----|\n",
    "|`__init__(self, [,...])`| Initialisiert die Instanz |"
   ]
  },
  {
   "cell_type": "markdown",
   "metadata": {
    "slideshow": {
     "slide_type": "fragment"
    }
   },
   "source": [
    "**Stringrepräsentation**:\n",
    "|Methode|Erläuterung|\n",
    "|:----|:----|\n",
    "|`__str__(self)`| Liefert einen `String`, der die Instanz repräsentiert |\n",
    "|`__repr__(self)`| Liefert eine exakte `String`-Repräsentation einer Instanz, aus der ein Objekt erzeugt werden kann|\n"
   ]
  },
  {
   "cell_type": "code",
   "execution_count": null,
   "metadata": {
    "slideshow": {
     "slide_type": "fragment"
    }
   },
   "outputs": [],
   "source": [
    "# Beispiel zur Unterscheidung von str und repr\n",
    "import datetime\n",
    "jetzt = datetime.datetime.now()\n",
    "print(\"print:\", jetzt, type(jetzt))\n",
    "print(\"str:\", str(jetzt), type(str(jetzt)))\n",
    "print(\"repr:\",repr(jetzt), type(repr(jetzt)))\n",
    "neu = eval(repr(jetzt)) # evaluiert String-Repräsentation\n",
    "print(\"neu:\", neu, type(neu))"
   ]
  },
  {
   "cell_type": "markdown",
   "metadata": {
    "slideshow": {
     "slide_type": "fragment"
    }
   },
   "source": [
    "**Vergleichsoperatoren**:\n",
    "|Methode|Erläuterung|\n",
    "|:----|:----|\n",
    "| `__eq__(self, other)` |  `==`  |\n",
    "|`__ge__(self, other)`| `>=` |\n",
    "|`__gt__(self, other)`| `>` |\n",
    "|`__le__(self, other)`| `<=` |\n",
    "|`__lt__(self, other)`| `<` |\n",
    "|`__ne__(self, other)`| `!=` |\n",
    "|`__bool__(self)`| gilt das Objekt als `True` oder `False`? |"
   ]
  },
  {
   "cell_type": "markdown",
   "metadata": {
    "slideshow": {
     "slide_type": "fragment"
    }
   },
   "source": [
    "**Arithmetische Operatoren**:\n",
    "|Methode|Erläuterung|\n",
    "|:----|:----|\n",
    "| `__add__(self, other)`, `__radd__(self, other)`|  `+`  |\n",
    "|`__iadd__(self, other)` |`+=`|\n",
    "|`__truediv__(self, other)`,`__rtruediv__(self, other)`|`/`|\n",
    "|`__itruediv__(self, other)` |`/=`|\n",
    "|`__floordiv__(self, other)`,`__rfloordiv__(self, other)`| `//`|\n",
    "|`__ifloordiv__(self, other)` |`//=`|\n",
    "|`__mul__(self, other)`, `__rmul__(self, other)`| `*`|\n",
    "|`__imul__(self, other)`| `*=`|\n",
    "|`__sub__(self, other)`, `__rsub__(self, other)`| `-`|\n",
    "|`__isub__(self, other)` |`-=`|\n",
    "|`__mod__(self, other)`, `__rmod__(self, other)`| `%`|\n",
    "|`__imod__(self, other)` |`%=`|\n",
    "|`__pow__(self, other)`, `__rpow__(self, other)`| `**`|\n",
    "|`__ipow__(self, other)` |`**=`|"
   ]
  },
  {
   "cell_type": "markdown",
   "metadata": {
    "slideshow": {
     "slide_type": "fragment"
    }
   },
   "source": [
    "**Biteweise Operationen**:\n",
    "|Methode|Erläuterung|\n",
    "|:----|:----|\n",
    "|`__lshift__(self, other)` |`<<`|\n",
    "|`__ilshift__(self, other)`| `<<=`|\n",
    "|`__rshift__(self, other)` |`>>`|\n",
    "|`__irshift__(self, other)` |`>>=`|\n",
    "|`__and__(self, other)` |`&`|\n",
    "|`__iand__(self, other)`| `&=`|\n",
    "|`__xor__(self, other)`| `^`|\n",
    "|`__ixor__(self, other)` |`^=`|\n",
    "|`__or__(self, other)`| `\\|` |\n",
    "|`__ior__(self, other)` |`\\|=`|"
   ]
  },
  {
   "cell_type": "markdown",
   "metadata": {
    "slideshow": {
     "slide_type": "fragment"
    }
   },
   "source": [
    "**Sonstige Operationen**:\n",
    "|Methode|Erläuterung|\n",
    "|:----|:----|\n",
    "|`__dict__` | Liefert das Dictionary, das die Attribute speichert.|\n",
    "|`__slots__ `| Liste welche die Attribute einer Klasse festlegt|"
   ]
  },
  {
   "cell_type": "code",
   "execution_count": null,
   "metadata": {
    "slideshow": {
     "slide_type": "fragment"
    }
   },
   "outputs": [],
   "source": [
    "# TODO Beispiel Überladen der __str__-Methode\n"
   ]
  },
  {
   "cell_type": "markdown",
   "metadata": {
    "slideshow": {
     "slide_type": "subslide"
    }
   },
   "source": [
    "#### 8.4.2 Statische Methoden"
   ]
  },
  {
   "cell_type": "markdown",
   "metadata": {
    "slideshow": {
     "slide_type": "fragment"
    }
   },
   "source": [
    "Statische Methoden einer Klasse können aufgerufen werden, ohne vorher eine Instanz zu erzeugen. Dazu müssen in der Klassendefinition statische Methoden durch den Aufruf der `staticmethod()`-Funktion erzeugt werden.\n",
    "\n",
    "Diese Art von Methoden wird oft verwendet, um eine Sammlung thematisch zusammengehöriger Operationen zu programmieren (*Toolbox*)."
   ]
  },
  {
   "cell_type": "code",
   "execution_count": null,
   "metadata": {
    "slideshow": {
     "slide_type": "fragment"
    }
   },
   "outputs": [],
   "source": [
    "# Beispiel einer Toolbox aus dem Bereich der Statistik\n",
    "class Statistik:\n",
    "    def mittelwert(s):                              #1\n",
    "        if s:                                       \n",
    "            return float(sum(s)) / len(s)\n",
    "\n",
    "    def spannweite(s):\n",
    "        # größte minus kleinste Zahl der Zahlenliste s\n",
    "        if s:\n",
    "            return max(s) - min(s)\n",
    "\n",
    "    def median(s):\n",
    "        if s:\n",
    "            s1 = sorted(s)\n",
    "            if len(s) % 2 == 0:  # Länge ist gerade\n",
    "                return (s1[len(s)//2 - 1] + s1[len(s)//2]) / 2.0\n",
    "            else:\n",
    "                return s1[(len(s)-1)//2]\n",
    "\n",
    "    mittelwert = staticmethod(mittelwert)           #2\n",
    "    spannweite = staticmethod(spannweite)\n",
    "    median = staticmethod(median)\n",
    "\n",
    "\n",
    "s = [1, 4, 9, 11, 5]\n",
    "print(Statistik.mittelwert(s))\n",
    "print(Statistik.median(s))\n",
    "print(Statistik.spannweite(s))"
   ]
  },
  {
   "cell_type": "markdown",
   "metadata": {
    "slideshow": {
     "slide_type": "fragment"
    }
   },
   "source": [
    "Die Klassendefinition weist einige Besonderheiten auf:\n",
    "\n",
    "- Es gibt keine `__init__()`-Methode, denn es gibt keinerlei Attribut. Die erzeugten Objekte der Toolbox-Klasse bleiben immer im gleichen Zustand\n",
    "\n",
    "- In der Parameterliste der statischen Methoden gibt es kein Argument `self` (**#1**)\n",
    "\n",
    "- Die durch `def` definierten Methoden werden durch den Aufruf von `staticmethod()` zu statischen Methoden der Klasse (**#2**)"
   ]
  }
 ],
 "metadata": {
  "kernelspec": {
   "display_name": "Python 3 (ipykernel)",
   "language": "python",
   "name": "python3"
  },
  "language_info": {
   "codemirror_mode": {
    "name": "ipython",
    "version": 3
   },
   "file_extension": ".py",
   "mimetype": "text/x-python",
   "name": "python",
   "nbconvert_exporter": "python",
   "pygments_lexer": "ipython3",
   "version": "3.11.7"
  },
  "varInspector": {
   "cols": {
    "lenName": 16,
    "lenType": 16,
    "lenVar": 40
   },
   "kernels_config": {
    "python": {
     "delete_cmd_postfix": "",
     "delete_cmd_prefix": "del ",
     "library": "var_list.py",
     "varRefreshCmd": "print(var_dic_list())"
    },
    "r": {
     "delete_cmd_postfix": ") ",
     "delete_cmd_prefix": "rm(",
     "library": "var_list.r",
     "varRefreshCmd": "cat(var_dic_list()) "
    }
   },
   "types_to_exclude": [
    "module",
    "function",
    "builtin_function_or_method",
    "instance",
    "_Feature"
   ],
   "window_display": false
  }
 },
 "nbformat": 4,
 "nbformat_minor": 2
}
