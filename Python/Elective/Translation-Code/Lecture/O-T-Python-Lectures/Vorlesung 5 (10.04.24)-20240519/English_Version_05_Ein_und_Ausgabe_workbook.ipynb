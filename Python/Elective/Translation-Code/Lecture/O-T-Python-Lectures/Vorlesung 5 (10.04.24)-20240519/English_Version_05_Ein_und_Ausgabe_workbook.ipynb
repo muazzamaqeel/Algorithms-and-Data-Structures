{
 "cells": [
  {
   "cell_type": "markdown",
   "metadata": {
    "slideshow": {
     "slide_type": "slide"
    }
   },
   "source": [
    "## 5. Input and output in Python"
   ]
  },
  {
   "cell_type": "markdown",
   "metadata": {
    "slideshow": {
     "slide_type": "fragment"
    }
   },
   "source": [
    "A computer works on the *EVA principle* (**E**input-**Processing-**A**output), i.e. it receives data via an input device, processes it and delivers the result via an output device to its surroundings. I/O operations are for example:"
   ]
  },
  {
   "cell_type": "markdown",
   "metadata": {
    "slideshow": {
     "slide_type": "fragment"
    }
   },
   "source": [
    "Input:\n",
    "\n",
    "- Entering characters using the keyboard\n",
    "- Reading files stored on peripheral storage (hard drive, CD, memory stick, etc.)"
   ]
  },
  {
   "cell_type": "markdown",
   "metadata": {
    "slideshow": {
     "slide_type": "fragment"
    }
   },
   "source": [
    "Output:\n",
    "\n",
    "- Displaying texts and numbers on the screen in a console window\n",
    "- Writing to files stored on peripheral storage"
   ]
  },
  {
   "cell_type": "markdown",
   "metadata": {
    "slideshow": {
     "slide_type": "fragment"
    }
   },
   "source": [
    "In Python, all of these operations are carried out via objects of type `file`."
   ]
  },
  {
   "cell_type": "markdown",
   "metadata": {
    "slideshow": {
     "slide_type": "slide"
    }
   },
   "source": [
    "### 5.1 Files\n",
    "\n",
    "#### 5.1.1 What is a `file`?"
   ]
  },
  {
   "cell_type": "markdown",
   "metadata": {
    "slideshow": {
     "slide_type": "fragment"
    }
   },
   "source": [
    "A `file` is a series of *bits*. We call an 8-bit unit (octets) a *byte*. So we know that all data in memory is stored in *binary* form.\n",
    "\n",
    "These patterns of zeros and ones can be interpreted in different ways depending on the context. To interpret a binary number as an integer, you can use this formula:\n",
    "\n",
    "$$ z = \\sum_{i=0}^{n-1} 2^i \\;b_i$$"
   ]
  },
  {
   "cell_type": "code",
   "execution_count": null,
   "metadata": {
    "slideshow": {
     "slide_type": "fragment"
    }
   },
   "outputs": [],
   "source": [
    "# TODO example binary number\n"
   ]
  },
  {
   "cell_type": "markdown",
   "metadata": {
    "slideshow": {
     "slide_type": "fragment"
    }
   },
   "source": [
    "The same pattern can also stand for a character. In this case, translation is done using a table."
   ]
  },
  {
   "cell_type": "markdown",
   "metadata": {
    "slideshow": {
     "slide_type": "fragment"
    }
   },
   "source": [
    "![](https://upload.wikimedia.org/wikipedia/commons/1/1b/ASCII-Table-wide.svg)\n",
    "\n",
    "Those: https://upload.wikimedia.org/wikipedia/commons/1/1b/ASCII-Table-wide.svg"
   ]
  },
  {
   "cell_type": "code",
   "execution_count": null,
   "metadata": {
    "slideshow": {
     "slide_type": "fragment"
    }
   },
   "outputs": [],
   "source": [
    "# TODO example characters\n"
   ]
  },
  {
   "cell_type": "markdown",
   "metadata": {
    "slideshow": {
     "slide_type": "fragment"
    }
   },
   "source": [
    "The `file` object can (in principle) be of any length. The end is marked by the special character `eof` (*end of file*, ASCII: `0x04`)."
   ]
  },
  {
   "cell_type": "markdown",
   "metadata": {
    "slideshow": {
     "slide_type": "subslide"
    }
   },
   "source": [
    "#### 5.1.2 Create, read and close a `file` object"
   ]
  },
  {
   "cell_type": "markdown",
   "metadata": {
    "slideshow": {
     "slide_type": "fragment"
    }
   },
   "source": [
    "A `file` object is created by calling the standard `open()` function. The general syntax is `open(filename, mode = \"r\")`, where:\n",
    "\n",
    "- `filename`: Path consisting of two `string` parts: name of the directory (e.g. */python/programs/*) and file name (e.g. *textfile.txt*)\n",
    "- `mode`: describes in which mode the file should be opened. Default = `\"r\"`"
   ]
  },
  {
   "cell_type": "markdown",
   "metadata": {
    "slideshow": {
     "slide_type": "fragment"
    }
   },
   "source": [
    "|`mode`|Explanation|\n",
    "|:---|:---|\n",
    "|`\"r\"`| File is opened for reading only. It must already exist|\n",
    "|`\"w\"`| File is opened exclusively for writing, if a file with the same name already exists, its length is set to zero and it is **overwritten**|\n",
    "|`\"a\"`| \"append\": File is opened exclusively for writing. If a file with the same name already exists, it will be **extended**|\n",
    "|`\"r+\"`| The file is opened for reading and writing. It must already exist|\n",
    "|`\"w+\"`| The file is opened for reading and writing, if a file with the same name already exists, it will be **overwritten** |\n",
    "|`\"a+\"`| The file is opened for reading and writing, if a file with the same name already exists, it will be **expanded**|\n",
    "\n",
    "The file opens in *text format* by default. Adding a `\"b\"` (e.g. `\"rb\"`, `\"wb\"`, `\"r+b\"`, `\"w+b\"`) will open this in *binary format*, i.e. its contents is returned as `byte` objects."
   ]
  },
  {
   "cell_type": "markdown",
   "metadata": {
    "slideshow": {
     "slide_type": "fragment"
    }
   },
   "source": [
    "Note on `filename`: Absolute path specifications are inherently inflexible, so relative path specifications should always be used. If possible, design your programs so that necessary files are in subfolders that are relatively easy to access from the main program!"
   ]
  },
  {
   "cell_type": "markdown",
   "metadata": {
    "slideshow": {
     "slide_type": "fragment"
    }
   },
   "source": [
    "The `read(size)` method is used for reading. `size: int` is an optional argument here. If the `size` specification is omitted or if it is negative, the entire `file` is read and returned, otherwise a maximum of the number of bytes passed is read.\n",
    "\n",
    "The official [Python documentation](https://docs.python.org/3/tutorial/inputoutput.html#methods-of-file-objects) comments laconically on this:\n",
    "\n",
    "> *It's your problem if the file is twice as large as your machine's memory.*"
   ]
  },
  {
   "cell_type": "code",
   "execution_count": null,
   "metadata": {
    "slideshow": {
     "slide_type": "fragment"
    }
   },
   "outputs": [],
   "source": [
    "# The file \"LICENSE_PYTHON.txt\" must be in the \"data\" folder,\n",
    "# which is on the same level as the workbook\n",
    "daten = open(\"daten/LICENSE_PYTHON.txt\")\n",
    "#print(daten.read(10))\n",
    "#print(daten.read())\n",
    "# print(\"Towards the End\")\n",
    "# print(daten.read())"
   ]
  },
  {
   "cell_type": "markdown",
   "metadata": {
    "slideshow": {
     "slide_type": "fragment"
    }
   },
   "source": [
    "Text files often need to be edited line by line. The method `readline(size)` exists for this. `size` dictates the maximum amount of data to be read. If this argument is omitted, Python reads *the entire line*.\n",
    "\n",
    "The method `readlines()` is similar. This reads the *entire file*, but breaks it down at the line breaks and packs the parts into a `list`.\n",
    "\n",
    "In Python, newlines have the format `\\n`."
   ]
  },
  {
   "cell_type": "code",
   "execution_count": null,
   "metadata": {
    "slideshow": {
     "slide_type": "fragment"
    }
   },
   "outputs": [],
   "source": [
    "print(daten.readline())\n",
    "# TODO readlines()\n"
   ]
  },
  {
   "cell_type": "markdown",
   "metadata": {
    "slideshow": {
     "slide_type": "fragment"
    }
   },
   "source": [
    "Remarks:\n",
    "\n",
    "? Different operating systems have different line endings (`\\n` on Linux, `\\r\\n` on Windows, `\\r` on Macs)\n",
    "\n",
    "? Python works **platform-independent** because it converts the platform-specific line endings to `\\n` when reading and back again when writing.\n",
    "\n",
    "? `file` objects are *iterators*. That's why you can only read/run through them once."
   ]
  },
  {
   "cell_type": "code",
   "execution_count": null,
   "metadata": {
    "slideshow": {
     "slide_type": "fragment"
    }
   },
   "outputs": [],
   "source": [
    "# Because file objects are iterators, they can be linked with a\n",
    "# for loop\n",
    "daten = open(\"daten/LICENSE_PYTHON.txt\")\n",
    "# ALL\n"
   ]
  },
  {
   "cell_type": "markdown",
   "metadata": {
    "slideshow": {
     "slide_type": "fragment"
    }
   },
   "source": [
    "Every file that was opened should also be closed and saved. You can check this with the `closed` attribute and close the file with the `close()` method."
   ]
  },
  {
   "cell_type": "code",
   "execution_count": null,
   "metadata": {
    "slideshow": {
     "slide_type": "fragment"
    }
   },
   "outputs": [],
   "source": [
    "# Close TODO file\n",
    "#daten.closed\n",
    "daten.close()\n",
    "daten.closed\n",
    "#data.read()"
   ]
  },
  {
   "cell_type": "markdown",
   "metadata": {
    "slideshow": {
     "slide_type": "subslide"
    }
   },
   "source": [
    "#### 5.1.3 Writing a `file` object"
   ]
  },
  {
   "cell_type": "markdown",
   "metadata": {
    "slideshow": {
     "slide_type": "fragment"
    }
   },
   "source": [
    "While a file is open in write mode(!) (`closed == False`), you can write text to the file using the `write(text)` method. `text` must be of the data type `string`. The return value is the number of characters written."
   ]
  },
  {
   "cell_type": "code",
   "execution_count": null,
   "metadata": {
    "slideshow": {
     "slide_type": "fragment"
    }
   },
   "outputs": [],
   "source": [
    "# Create a new file ownFile.txt and write it with write()\n",
    "eigeneDatei = open(\"daten/eigeneDatei.txt\", \"w\")\n",
    "\n",
    "eigeneDatei.write(\"Sehr geehrte Damen und Herren\\n\")\n",
    "eigeneDatei.write(\"bla\"*5 + \"\\n\")\n",
    "eigeneDatei.write(\"Das war jetzt mit write()\\n\")\n",
    "\n",
    "eigeneDatei.close()     # Speichern und Schließen"
   ]
  },
  {
   "cell_type": "markdown",
   "metadata": {
    "slideshow": {
     "slide_type": "fragment"
    }
   },
   "source": [
    "Alternatively, you can also write to a file using the `print()` function. We remember the syntax of this function and the optional parameter `file`. This means we can also write the above code cell as:"
   ]
  },
  {
   "cell_type": "code",
   "execution_count": null,
   "metadata": {
    "slideshow": {
     "slide_type": "fragment"
    }
   },
   "outputs": [],
   "source": [
    "# Create a new file ownFile.txt and write it with print()\n",
    "eigeneDatei = open(\"daten/eigeneDatei.txt\", \"w\")\n",
    "\n",
    "print(\"Sehr geehrte Damen und Herren\", file=eigeneDatei)\n",
    "print(\"bla\"*5, file=eigeneDatei)\n",
    "print(\"Das war jetzt mit print()\", file=eigeneDatei)\n",
    "\n",
    "eigeneDatei.close()     # Speichern und Schließen"
   ]
  },
  {
   "cell_type": "code",
   "execution_count": null,
   "metadata": {
    "slideshow": {
     "slide_type": "fragment"
    }
   },
   "outputs": [],
   "source": [
    "# Reading the self-created file “ownfile.txt”\n",
    "eigeneDatei = open(\"daten/eigeneDatei.txt\", \"r\")\n",
    "text = eigeneDatei.read()\n",
    "eigeneDatei.close()\n",
    "print(text)"
   ]
  },
  {
   "cell_type": "markdown",
   "metadata": {
    "slideshow": {
     "slide_type": "subslide"
    }
   },
   "source": [
    "#### 5.1.4 Caching without closing"
   ]
  },
  {
   "cell_type": "markdown",
   "metadata": {
    "slideshow": {
     "slide_type": "fragment"
    }
   },
   "source": [
    "You can easily cache files in Python without immediately closing them. This is enabled by the `flush()` method."
   ]
  },
  {
   "cell_type": "code",
   "execution_count": null,
   "metadata": {
    "slideshow": {
     "slide_type": "fragment"
    }
   },
   "outputs": [],
   "source": [
    "# Example of flush()\n",
    "flush = open(\"daten/flush.txt\", \"w\")\n",
    "flush.write(\"Hello darkness\\n\")\n",
    "#flush.flush()"
   ]
  },
  {
   "cell_type": "code",
   "execution_count": null,
   "metadata": {
    "slideshow": {
     "slide_type": "fragment"
    }
   },
   "outputs": [],
   "source": [
    "# further processing of the file\n",
    "print(flush.closed)\n",
    "flush.write(\"my old friend\\n\")\n",
    "flush.close()\n",
    "flush.closed"
   ]
  },
  {
   "cell_type": "code",
   "execution_count": null,
   "metadata": {
    "slideshow": {
     "slide_type": "fragment"
    }
   },
   "outputs": [],
   "source": [
    "# Read the file\n",
    "song = open(\"daten/flush.txt\")\n",
    "print(song.read())\n",
    "song.close()"
   ]
  },
  {
   "cell_type": "markdown",
   "metadata": {
    "slideshow": {
     "slide_type": "subslide"
    }
   },
   "source": [
    "#### 5.1.5 Move and determine file cursor"
   ]
  },
  {
   "cell_type": "markdown",
   "metadata": {
    "slideshow": {
     "slide_type": "fragment"
    }
   },
   "source": [
    "Sometimes it is necessary to know and change the current cursor position in the file. The methods `tell()` and `seek(offset, from)` are used for this."
   ]
  },
  {
   "cell_type": "markdown",
   "metadata": {
    "slideshow": {
     "slide_type": "fragment"
    }
   },
   "source": [
    "`tell()` returns the current position of the cursor from the beginning of the file."
   ]
  },
  {
   "cell_type": "markdown",
   "metadata": {
    "slideshow": {
     "slide_type": "fragment"
    }
   },
   "source": [
    "`seek(offset, from)` moves the cursor, where:\n",
    "\n",
    "- `offset`: Required. Specifies how many bytes the cursor should be moved against a specific reference point.\n",
    "- `from`: Optional. Can only be 0, 1 or 2:\n",
    "    - `from=0`: Default. *offset* refers to the beginning of the file.\n",
    "    - `from=1`: *offset* refers to the *current position*.\n",
    "    - `from=2`: *offset* refers to the *end of file*"
   ]
  },
  {
   "cell_type": "code",
   "execution_count": null,
   "metadata": {
    "slideshow": {
     "slide_type": "fragment"
    }
   },
   "outputs": [],
   "source": [
    "# TODO function for length of a file with cursors\n",
    "def laengeFile(datei):\n",
    "    pass # TODO\n",
    "\n",
    "with open(\"daten/LICENSE_PYTHON.txt\", \"r\") as datei:\n",
    "    print(f\"{datei.name} ist {laengeFile(datei)} Bytes lang\")"
   ]
  },
  {
   "cell_type": "markdown",
   "metadata": {
    "slideshow": {
     "slide_type": "fragment"
    }
   },
   "source": [
    "Compared to *classic iterators*, this makes it possible to *rewind* the `file` object and iterate through it as often as desired."
   ]
  },
  {
   "cell_type": "markdown",
   "metadata": {
    "slideshow": {
     "slide_type": "subslide"
    }
   },
   "source": [
    "#### 5.1.6 The `with` statement"
   ]
  },
  {
   "cell_type": "markdown",
   "metadata": {
    "slideshow": {
     "slide_type": "fragment"
    }
   },
   "source": [
    "We have seen that for a program with `file` objects to run error-free, it is essential to open files in a controlled manner and close them again after processing, even if something goes wrong in between. This is basically the idea of ​​the `with` statement, whose syntax is structured as follows:\n",
    "\n",
    "```python\n",
    "with object as name:\n",
    "    instruction block\n",
    "```\n",
    "\n",
    "or related to files:\n",
    "\n",
    "```python\n",
    "with open(filename, mode) as filename:\n",
    "    file_instructionblock\n",
    "```"
   ]
  },
  {
   "cell_type": "markdown",
   "metadata": {
    "slideshow": {
     "slide_type": "fragment"
    }
   },
   "source": [
    "Objects can have two special methods:\n",
    "\n",
    "- `__enter__()`: opens a file\n",
    "- `__exit__()`: closes the file\n",
    "\n",
    "the `with` statement guarantees that the `__exit__()` method will *definitely* be called if the `__enter__()` method was previously successfully executed."
   ]
  },
  {
   "cell_type": "code",
   "execution_count": null,
   "metadata": {
    "slideshow": {
     "slide_type": "fragment"
    }
   },
   "outputs": [],
   "source": [
    "# TODO reading with with statement\n"
   ]
  },
  {
   "cell_type": "code",
   "execution_count": null,
   "metadata": {
    "slideshow": {
     "slide_type": "fragment"
    }
   },
   "outputs": [],
   "source": [
    "# TODO reading with with statement alternatively\n"
   ]
  },
  {
   "cell_type": "markdown",
   "metadata": {
    "slideshow": {
     "slide_type": "fragment"
    }
   },
   "source": [
    "#### 5.1.7 The pseudofiles `sys.stdin` and `sys.stdout`"
   ]
  },
  {
   "cell_type": "markdown",
   "metadata": {
    "slideshow": {
     "slide_type": "fragment"
    }
   },
   "source": [
    "Until now, we have conveniently queried keyboard input using the `input()` function. In the background, these entries are made via a *pseudofile*. These are essentially a `file` object with limited access options. It has no write methods, only the `readline()` method. The name of this pseudofile is `sys.stdin`. In German we also speak of the *standard input*."
   ]
  },
  {
   "cell_type": "markdown",
   "metadata": {
    "slideshow": {
     "slide_type": "fragment"
    }
   },
   "source": [
    "```python\n",
    "# input() function programmed manually\n",
    "# only works in the Python interactive shell\n",
    "import sys\n",
    "print(\"Input: \", end = \" \")\n",
    "input = sys.stdin.readline()\n",
    "print(\"Your input was: \", input)\n",
    "```"
   ]
  },
  {
   "cell_type": "markdown",
   "metadata": {
    "slideshow": {
     "slide_type": "fragment"
    }
   },
   "source": [
    "For the output there is the pseudofile `sys.stdout`, which is also the default parameter of the standard `print()` function. This behaves like a `file` object that cannot be read, but only written to using `write()`."
   ]
  },
  {
   "cell_type": "code",
   "execution_count": null,
   "metadata": {
    "slideshow": {
     "slide_type": "fragment"
    }
   },
   "outputs": [],
   "source": [
    "# Example of outputting a string without print()\n",
    "import sys\n",
    "sys.stdout.write(\"Hallo Welt!\")"
   ]
  },
  {
   "cell_type": "markdown",
   "metadata": {
    "slideshow": {
     "slide_type": "slide"
    }
   },
   "source": [
    "### 5.2 Saving objects with `pickle`"
   ]
  },
  {
   "cell_type": "markdown",
   "metadata": {
    "slideshow": {
     "slide_type": "fragment"
    }
   },
   "source": [
    "In German, *pickle* means *pickle* and *to pickle* means *to pickle*. The Python-specific module `pickle` provides functions with which you can save program data after the program ends or is aborted. In computer science, this type of data is called *persistent data*."
   ]
  },
  {
   "cell_type": "markdown",
   "metadata": {
    "slideshow": {
     "slide_type": "fragment"
    }
   },
   "source": [
    "The following object types can be saved using the pickle mechanism:\n",
    "\n",
    "- Pay\n",
    "- thongs\n",
    "- Features\n",
    "- any sequences\n",
    "- Dictionaries\n",
    "- Instances of self-defined classes (*later lecture*)"
   ]
  },
  {
   "cell_type": "markdown",
   "metadata": {
    "slideshow": {
     "slide_type": "subslide"
    }
   },
   "source": [
    "#### 5.2.1 Save and load functions"
   ]
  },
  {
   "cell_type": "markdown",
   "metadata": {
    "slideshow": {
     "slide_type": "fragment"
    }
   },
   "source": [
    "To **save** there is the function `dump(object, file)` from the module, where:\n",
    "\n",
    "- `object`: any object from the list above\n",
    "- `file`: Name of a `file` object opened in binary writing mode (`\"wb\"`)"
   ]
  },
  {
   "cell_type": "code",
   "execution_count": null,
   "metadata": {
    "slideshow": {
     "slide_type": "fragment"
    }
   },
   "outputs": [],
   "source": [
    "# TODO example to save\n",
    "telefonbuch = [(\"Tim\", \"85675\"), (\"Jenny\", \"233325\"), (\"Max\", \"89923\")]"
   ]
  },
  {
   "cell_type": "markdown",
   "metadata": {
    "slideshow": {
     "slide_type": "fragment"
    }
   },
   "source": [
    "To **load** the file there is the function `load(file)`, where:\n",
    "\n",
    "- `file`: Name of a `file` object opened in binary reading mode (`\"rb\"`)"
   ]
  },
  {
   "cell_type": "code",
   "execution_count": null,
   "metadata": {
    "slideshow": {
     "slide_type": "fragment"
    }
   },
   "outputs": [],
   "source": [
    "# TODO example for loading"
   ]
  },
  {
   "cell_type": "markdown",
   "metadata": {
    "slideshow": {
     "slide_type": "subslide"
    }
   },
   "source": [
    "#### 5.2.2 How does `pickle` work?"
   ]
  },
  {
   "cell_type": "markdown",
   "metadata": {
    "slideshow": {
     "slide_type": "fragment"
    }
   },
   "source": [
    "When saving, a 'bytestring' is created on the transferred object, in which the structure of the object is encoded. In particular, the data type is also stored for each elementary value.\n",
    "\n",
    "The creation of a character string to represent a data structure is also called *serialization*."
   ]
  },
  {
   "cell_type": "code",
   "execution_count": null,
   "metadata": {
    "slideshow": {
     "slide_type": "fragment"
    }
   },
   "outputs": [],
   "source": [
    "# Return value of the dumps() function\n",
    "import pickle\n",
    "s = pickle.dumps(telefonbuch)\n",
    "s"
   ]
  },
  {
   "cell_type": "markdown",
   "metadata": {
    "slideshow": {
     "slide_type": "fragment"
    }
   },
   "source": [
    "When loading, the object is retrieved from the `bytestring`, provided that the `bytestring` used represents a correct representation in the sense of the `pickle` protocol"
   ]
  },
  {
   "cell_type": "markdown",
   "metadata": {
    "slideshow": {
     "slide_type": "fragment"
    }
   },
   "source": [
    "**Warnung**: \n",
    "> The `pickle` module **is not secure**. Only unpickle data you trust."
   ]
  },
  {
   "cell_type": "markdown",
   "metadata": {
    "slideshow": {
     "slide_type": "slide"
    }
   },
   "source": [
    "### 5.3 CSV files"
   ]
  },
  {
   "cell_type": "markdown",
   "metadata": {
    "slideshow": {
     "slide_type": "fragment"
    }
   },
   "source": [
    "CSV stands for *comma separated values* and is a data format that we are particularly familiar with from Excel. It is therefore suitable for displaying tables whose columns are separated from each other by separators (usually commas).\n",
    "\n",
    "The Python module `csv` with the class `csv.reader` allows to decompose files in CSV format"
   ]
  },
  {
   "cell_type": "code",
   "execution_count": null,
   "metadata": {
    "slideshow": {
     "slide_type": "fragment"
    }
   },
   "outputs": [],
   "source": [
    "# Read TODO file with CSV reader"
   ]
  },
  {
   "cell_type": "code",
   "execution_count": null,
   "metadata": {
    "slideshow": {
     "slide_type": "fragment"
    }
   },
   "outputs": [],
   "source": [
    "# Read out TODO column headings"
   ]
  }
 ],
 "metadata": {
  "kernelspec": {
   "display_name": "Python 3 (ipykernel)",
   "language": "python",
   "name": "python3"
  },
  "language_info": {
   "codemirror_mode": {
    "name": "ipython",
    "version": 3
   },
   "file_extension": ".py",
   "mimetype": "text/x-python",
   "name": "python",
   "nbconvert_exporter": "python",
   "pygments_lexer": "ipython3",
   "version": "3.11.7"
  }
 },
 "nbformat": 4,
 "nbformat_minor": 2
}
