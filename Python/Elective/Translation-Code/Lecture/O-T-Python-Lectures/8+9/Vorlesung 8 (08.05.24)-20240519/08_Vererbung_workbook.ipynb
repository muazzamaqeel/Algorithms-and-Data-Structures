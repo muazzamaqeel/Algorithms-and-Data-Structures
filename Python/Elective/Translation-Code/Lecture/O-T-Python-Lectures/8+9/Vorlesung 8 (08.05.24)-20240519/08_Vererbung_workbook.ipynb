{
 "cells": [
  {
   "cell_type": "markdown",
   "metadata": {
    "slideshow": {
     "slide_type": "slide"
    }
   },
   "source": [
    "#### 8.4.2 Statische Methoden"
   ]
  },
  {
   "cell_type": "markdown",
   "metadata": {
    "slideshow": {
     "slide_type": "fragment"
    }
   },
   "source": [
    "Statische Methoden einer Klasse können aufgerufen werden, ohne vorher eine Instanz zu erzeugen. Dazu müssen in der Klassendefinition statische Methoden durch den Aufruf der `staticmethod()`-Funktion erzeugt werden.\n",
    "\n",
    "Diese Art von Methoden wird oft verwendet, um eine Sammlung thematisch zusammengehöriger Operationen zu programmieren (*Toolbox*)."
   ]
  },
  {
   "cell_type": "code",
   "execution_count": null,
   "metadata": {
    "slideshow": {
     "slide_type": "fragment"
    }
   },
   "outputs": [],
   "source": [
    "# Beispiel einer Toolbox aus dem Bereich der Statistik\n",
    "class Statistik:\n",
    "    def mittelwert(s):                              #1\n",
    "        if s:                                       \n",
    "            return float(sum(s)) / len(s)\n",
    "\n",
    "    def spannweite(s):\n",
    "        # größte minus kleinste Zahl der Zahlenliste s\n",
    "        if s:\n",
    "            return max(s) - min(s)\n",
    "\n",
    "    def median(s):\n",
    "        if s:\n",
    "            s1 = sorted(s)\n",
    "            if len(s) % 2 == 0:  # Länge ist gerade\n",
    "                return (s1[len(s)//2 - 1] + s1[len(s)//2]) / 2.0\n",
    "            else:\n",
    "                return s1[(len(s)-1)//2]\n",
    "\n",
    "    mittelwert = staticmethod(mittelwert)           #2\n",
    "    spannweite = staticmethod(spannweite)\n",
    "    median = staticmethod(median)\n",
    "\n",
    "\n",
    "s = [1, 4, 9, 11, 5]\n",
    "print(Statistik.mittelwert(s))\n",
    "print(Statistik.median(s))\n",
    "print(Statistik.spannweite(s))"
   ]
  },
  {
   "cell_type": "markdown",
   "metadata": {
    "slideshow": {
     "slide_type": "fragment"
    }
   },
   "source": [
    "Die Klassendefinition weist einige Besonderheiten auf:\n",
    "\n",
    "- Es gibt keine `__init__()`-Methode, denn es gibt keinerlei Attribut. Die erzeugten Objekte der Toolbox-Klasse bleiben immer im gleichen Zustand\n",
    "\n",
    "- In der Parameterliste der statischen Methoden gibt es kein Argument `self` (**#1**)\n",
    "\n",
    "- Die durch `def` definierten Methoden werden durch den Aufruf von `staticmethod()` zu statischen Methoden der Klasse (**#2**)"
   ]
  },
  {
   "cell_type": "markdown",
   "metadata": {
    "slideshow": {
     "slide_type": "slide"
    }
   },
   "source": [
    "### 8.5 Drei Grundprinzipien der OOP"
   ]
  },
  {
   "cell_type": "markdown",
   "metadata": {
    "slideshow": {
     "slide_type": "fragment"
    }
   },
   "source": [
    "Bei der Entwicklung eines objektorientierten Modells (wie z.B. der `class Geld`) wurden drei wichtige Prinzipien der objektorientierten Denkweise verwendet:"
   ]
  },
  {
   "cell_type": "markdown",
   "metadata": {
    "slideshow": {
     "slide_type": "fragment"
    }
   },
   "source": [
    "**1. Abstraktion**\n",
    "   \n",
    "Eine Klasse kann man als *Abstraktion* einer Menge von Objekten aus der Wirklichkeit betrachten. *Abstrahieren* heißt damit, die wesentlichen Aspekte zu ermitteln und alles Unwichtige wegzulassen."
   ]
  },
  {
   "cell_type": "markdown",
   "metadata": {
    "slideshow": {
     "slide_type": "fragment"
    }
   },
   "source": [
    "**2. Verkapselung**\n",
    "\n",
    "Zu Beginn der Veranstaltung wurde das Prinzip der *schrittweisen Verfeinerung* angewandt und für Teilaufgabe z.B. Funktionen definiert. Das Augenmerk wurde dabei allein auf Operationen gelegt. Das Besondere der OOP ist, dass Operationen und logisch zusammenhängende Attribute zu einer Einheit (Klasse) verschmolzen werden. Dieses nennt man *Verkapselung* (*encapsulation*)"
   ]
  },
  {
   "cell_type": "markdown",
   "metadata": {
    "slideshow": {
     "slide_type": "fragment"
    }
   },
   "source": [
    "**3. Geheimnisprinzip**\n",
    "\n",
    "Das Geheimnisprinzip (*information hiding*) besagt, dass der Zustand eines Objektes nach außen nicht sichtbar sind. Bei konsequenter Einhaltung sind alle Attribute stark privat. Änderungen des Zustands können von außen nur über Methodenaufrufe angestoßen werden."
   ]
  },
  {
   "cell_type": "markdown",
   "metadata": {
    "slideshow": {
     "slide_type": "slide"
    }
   },
   "source": [
    "### 8.6 Vererbung"
   ]
  },
  {
   "cell_type": "markdown",
   "metadata": {
    "slideshow": {
     "slide_type": "fragment"
    }
   },
   "source": [
    "Der Begriff *Vererbung* (engl. *inheritance*) beschreibt die Beziehung zwischen einer allgemeinen Klasse (Basisklasse, Oberklasse) und einer spezialisierten Klasse (Unterklasse, Subklasse, abgeleitete Klasse). Die Unterklasse besitzt sämtliche Attribute und Methoden der Oberklasse. Man sagt, die Oberklasse *vererbt* ihre Merkmale an ihre Unterklassen. \n",
    "\n",
    "Unterklassen besitzen darüber hinaus i.d.R. noch zusätzliche Attribute und Methoden. Diese sind damit spezieller, und daher weniger abstrakt."
   ]
  },
  {
   "cell_type": "markdown",
   "metadata": {
    "slideshow": {
     "slide_type": "subslide"
    }
   },
   "source": [
    "#### 8.6.1 Spezialisierungen"
   ]
  },
  {
   "cell_type": "markdown",
   "metadata": {
    "slideshow": {
     "slide_type": "fragment"
    }
   },
   "source": [
    "Der Syntax zur Implementierung einer Unterklasse lautet:\n",
    "\n",
    "```python\n",
    "class Unterklasse(Oberklasse):\n",
    "    neuesAttribut = Standardwert\n",
    "    ...\n",
    "    def neueMethode(self, ...):\n",
    "        ...\n",
    "```"
   ]
  },
  {
   "cell_type": "markdown",
   "metadata": {
    "slideshow": {
     "slide_type": "fragment"
    }
   },
   "source": [
    "Mit einer Unterklasse kann man vorhandene Methoden (oder Attribute) der Oberklasse verfeinern oder durch Überschreiben (*overriding*) neu definieren. Man sagt: Die Methodendefinition der Oberklasse wird überschrieben."
   ]
  },
  {
   "cell_type": "markdown",
   "metadata": {
    "slideshow": {
     "slide_type": "fragment"
    }
   },
   "source": [
    "Anwendung und Probleme der Vererbung sollen nun an folgendem Beispiel veranschaulicht werden:\n",
    "\n",
    "![spezialisierung](anhang/spezialisierung.svg)"
   ]
  },
  {
   "cell_type": "markdown",
   "metadata": {
    "slideshow": {
     "slide_type": "subslide"
    }
   },
   "source": [
    "#### 8.6.2 Spezialisierung der Klasse `Geld`"
   ]
  },
  {
   "cell_type": "markdown",
   "metadata": {
    "slideshow": {
     "slide_type": "fragment"
    }
   },
   "source": [
    "Im Folgenden soll die Unterklasse `Konto` implementiert werden:"
   ]
  },
  {
   "cell_type": "code",
   "execution_count": null,
   "metadata": {
    "slideshow": {
     "slide_type": "fragment"
    }
   },
   "outputs": [],
   "source": [
    "# TODO Beispiel zur Klasse Konto\n",
    "import time\n",
    "from geld import Geld\n",
    "class Konto(Geld):\n",
    "    \"\"\" Spezialisierung der Klasse Geld zur Verwaltung eines Kontos\n",
    "        Öffentliche Attribute:\n",
    "           geerbt: waehrung, betrag, wechselkurs\n",
    "\n",
    "        Öffentliche Methoden und Überladungen:\n",
    "           geerbt: __add__(), __lt__(),\n",
    "                   __le__(), __eq__(), getEuro()\n",
    "           überschrieben: __str__()\n",
    "           Erweiterungen:\n",
    "             einzahlen(), auszahlen(), druckeKontoauszug() \n",
    "    \"\"\"\n",
    "    def __init__(self, waehrung, inhaber):\n",
    "        # TODO\n",
    "        pass\n",
    "                     \n",
    "\n",
    "    def einzahlen(self,waehrung, betrag):                     \n",
    "        einzahlung = Geld(waehrung,betrag)\n",
    "        # TODO betrag\n",
    "        #\n",
    "        \n",
    "        eintrag = time.asctime()+' ' +str(einzahlung) +\\\n",
    "                ' neuer Kontostand: '+ self.waehrung + \\\n",
    "        ' ' + str(round(self.betrag, 2))\n",
    "        self.__kontoauszug += [eintrag]               \n",
    "\n",
    "    def auszahlen(self, waehrung, betrag): \n",
    "        self.einzahlen(waehrung, -betrag)\n",
    "\n",
    "    def druckeKontoauszug(self):                      \n",
    "        for i in self.__kontoauszug:\n",
    "            print(i)\n",
    "        self.__kontoauszug = [str(self)]\n",
    "\n",
    "    def __str__(self):                                \n",
    "        return 'Konto von ' + self.__inhaber + \\\n",
    "               ':\\nKontostand am ' + time.asctime() + \\\n",
    "               ': ' + self.waehrung + ' ' +\\\n",
    "                str(round(self.betrag, 2))\n",
    "                \n",
    "\n",
    "# Ende der Klassendefinition\n",
    "   \n",
    "# Klasse testen\n",
    "konto = Konto('EUR', 'Tim Wegner')\n",
    "konto.einzahlen('EUR', 1200)\n",
    "time.sleep(2)\n",
    "konto.auszahlen('USD', 50)\n",
    "konto.einzahlen('GBP', 30.30)\n",
    "print(konto)\n",
    "konto.druckeKontoauszug()"
   ]
  },
  {
   "cell_type": "markdown",
   "metadata": {
    "slideshow": {
     "slide_type": "fragment"
    }
   },
   "source": [
    "**Anmerkung** zu den Begriffen *Überladen* und *Überschreiben*:\n",
    "\n",
    "|Überladen|Überschreiben|\n",
    "|:----|:----|\n",
    "|Methoden und Funktionen haben **gleichen Namen**, aber **unterschiedliche Signatur**|Methoden und Funktionen haben **gleichen Namen** und **gleiche Signatur**|\n",
    "|Beim Überladen spricht man von *compile time polymorphism*|Beim Überschreiben spricht man von *run time polymorphism*|\n",
    "|Überladen *kann __auch__* bei Vererbung vorkommen| Überschreibung *kann __nur__* bei Vererbung vorkommen|"
   ]
  },
  {
   "cell_type": "markdown",
   "metadata": {
    "slideshow": {
     "slide_type": "fragment"
    }
   },
   "source": [
    "**Für Python gilt damit**:\n",
    "\n",
    "- es gibt nach dem klassischen Ansatz **kein Überladen** in Python, da *alles ein Objekt ist*. Das ist auch gar nicht notwendig, da es in Python die *dynamische Datentypen* gibt. (In statisch getypten Sprachen wie Java und C++ wird es wiederrum benötigt, um die gleiche Funktion für verschiedene Typen zu definieren)"
   ]
  },
  {
   "cell_type": "markdown",
   "metadata": {
    "slideshow": {
     "slide_type": "fragment"
    }
   },
   "source": [
    "**Nachtrag**: Python wird auch als *duck typed language* bezeichnet. Zitat von James Whitcomb Riley:\n",
    "\n",
    "> When I see a bird that walks like a duck and swims like a duck and quacks like a duck, I call that bird a duck."
   ]
  },
  {
   "cell_type": "code",
   "execution_count": null,
   "metadata": {
    "slideshow": {
     "slide_type": "fragment"
    }
   },
   "outputs": [],
   "source": [
    "# TODO Versuch von klassischem Überladen\n"
   ]
  },
  {
   "cell_type": "code",
   "execution_count": null,
   "metadata": {
    "slideshow": {
     "slide_type": "fragment"
    }
   },
   "outputs": [],
   "source": [
    "# TODO Veranschaulichung von dynamischer Typendeklaration\n"
   ]
  },
  {
   "cell_type": "markdown",
   "metadata": {
    "slideshow": {
     "slide_type": "fragment"
    }
   },
   "source": [
    "In C++ wäre für dieses Beispiel folgende Implementierung notwendig:\n",
    "\n",
    "```cpp\n",
    "#include <iostream>\n",
    "#include <cstdlib>\n",
    "using namespace std;\n",
    "\n",
    "int multi(int irgendwas, int faktor){\n",
    "    return irgendwas * faktor;\n",
    "}\n",
    "\n",
    "double multi(double irgendwas, int faktor){\n",
    "    return irgendwas * faktor;\n",
    "}\n",
    "\n",
    "int main(){\n",
    "    cout << multi(10,3) << endl;\n",
    "    cout << multi(10.3, 4) << endl;\n",
    "    return 0;\n",
    "}\n",
    "```"
   ]
  },
  {
   "cell_type": "markdown",
   "metadata": {
    "slideshow": {
     "slide_type": "subslide"
    }
   },
   "source": [
    "#### 8.6.3 Klassenmethoden"
   ]
  },
  {
   "cell_type": "markdown",
   "metadata": {
    "slideshow": {
     "slide_type": "fragment"
    }
   },
   "source": [
    "Die in [8.4.2](#842-statische-Methoden) behandelten statischen Methoden dürfen nicht mit Klassenmethoden verwechselt werden. Klassenmethoden sind zwar auch nicht an Instanzen gebunden, aber - anders als statische Methoden - an eine Klasse gebunden. Das erste Argument einer Klassenmethode ist eine Referenz auf das Klassenobjekt (gebräuchlich ist die Bezeichnung `cls`). Aufgerufen werden kann sie sowohl über den Klassennamen als auch über eine Instanz:"
   ]
  },
  {
   "cell_type": "code",
   "execution_count": null,
   "metadata": {
    "slideshow": {
     "slide_type": "fragment"
    }
   },
   "outputs": [],
   "source": [
    "# Beispiel mit statischer Methode\n",
    "class Pet:\n",
    "    name = \"Haustiere\"\n",
    "\n",
    "    def about():\n",
    "        print(\"In dieser Klasse geht es um\", Pet.name)\n",
    "\n",
    "    about = staticmethod(about)\n",
    "\n",
    "class Dog(Pet):\n",
    "    name = \"Hunde\"\n",
    "\n",
    "class Cat(Pet):\n",
    "    name = \"Katzen\"\n",
    "\n",
    "p = Pet()\n",
    "p.about()\n",
    "d = Dog()\n",
    "d.about()\n",
    "c = Cat()\n",
    "c.about()"
   ]
  },
  {
   "cell_type": "code",
   "execution_count": null,
   "metadata": {
    "slideshow": {
     "slide_type": "fragment"
    }
   },
   "outputs": [],
   "source": [
    "# TODO Beispiel abändern mit Klassenmethode\n"
   ]
  },
  {
   "cell_type": "markdown",
   "metadata": {
    "slideshow": {
     "slide_type": "subslide"
    }
   },
   "source": [
    "#### 8.6.4 Standardklassen als Basisklassen"
   ]
  },
  {
   "cell_type": "markdown",
   "metadata": {
    "slideshow": {
     "slide_type": "fragment"
    }
   },
   "source": [
    "Von Standardklassen wie `int, float, str, bool, dict, list` können ebenso neue Klassen abgeleitet werden. In folgendem Beispiel soll eine Liste mit einem voreingestellten Wert (Default) für nicht existierende Listenelemente definiert werden. Bei einem Zugriff auf die Liste mit einem zu großen Index soll es keinen Laufzeitfehler geben (IndexError), sondern stattdessen soll ein für diesen Fall vorgesehenes Objekt zurückgegeben werden:"
   ]
  },
  {
   "cell_type": "code",
   "execution_count": null,
   "metadata": {
    "slideshow": {
     "slide_type": "fragment"
    }
   },
   "outputs": [],
   "source": [
    "# TODO Abgeleitete list-Klasse\n",
    "class DefaultList(list):\n",
    "    pass\n",
    "        \n",
    "# Hauptprogramm\n",
    "p = [\"Merkur\", \"Venus\", \"Erde\"]\n",
    "planeten = DefaultList(p, \"unbekannter Planet\")\n",
    "print(planeten)\n",
    "print(planeten[1])\n",
    "\n",
    "planeten.append(\"Mars\")\n",
    "print(planeten)\n",
    "\n",
    "mehrPlaneten = DefaultList([\"Jupiter\", \"Saturn\"], \"unbekannter Planet\")\n",
    "planeten = planeten + mehrPlaneten\n",
    "print(planeten)\n",
    "#planeten[10]"
   ]
  },
  {
   "cell_type": "markdown",
   "metadata": {
    "slideshow": {
     "slide_type": "slide"
    }
   },
   "source": [
    "### 8.7 Mehrfachvererbung"
   ]
  },
  {
   "cell_type": "markdown",
   "metadata": {
    "slideshow": {
     "slide_type": "fragment"
    }
   },
   "source": [
    "Erbt eine abgeleitete Klasse direkt von mehr als einer Basisklasse, spricht man in der OOP von *Mehrfachvererbung*. Ein sequentielles, mehrstufiges Erben wird dagegen nicht als Mehrfachvererbung bezeichnet:\n",
    "\n",
    " \n",
    "\n",
    " \n",
    "\n",
    "\n",
    "\n",
    "![](anhang/mehrfach.svg)"
   ]
  },
  {
   "cell_type": "markdown",
   "metadata": {
    "slideshow": {
     "slide_type": "fragment"
    }
   },
   "source": [
    "Syntaktisch sieht die Mehrfachvererbung in Python wie folgt aus:\n",
    "\n",
    "```python\n",
    "class UnterKlasse(Basis1, Basis2, Basis3, ...):\n",
    "    pass\n",
    "```"
   ]
  },
  {
   "cell_type": "markdown",
   "metadata": {
    "slideshow": {
     "slide_type": "fragment"
    }
   },
   "source": [
    "Mann muss bei der Implementierung darauf achten, dass es nicht zu Namenskollisionen kommt, z.B. kann die Basisklasse `A` und die Basisklasse `B` eine Methode `M` besitzen. Dann wird die abgleitete Klasse `class X(A, B)` allerdings nur die Methode `M` der Klasse `A` übernehmen. \n",
    "\n",
    "**Ausnahme**: die Methode `__init__()` wird von allen Basisklassen übernommen, z.B. ruft `super().__init__()` die Konstruktoren *aller* Basisklassen in der Reihenfolge auf, in der sie bei der Definition genannt wurden."
   ]
  },
  {
   "cell_type": "markdown",
   "metadata": {
    "slideshow": {
     "slide_type": "subslide"
    }
   },
   "source": [
    "#### 8.7.1 Beispiel zur Mehrfachvererbung"
   ]
  },
  {
   "cell_type": "markdown",
   "metadata": {
    "slideshow": {
     "slide_type": "fragment"
    }
   },
   "source": [
    "![](anhang/tiere.svg)"
   ]
  },
  {
   "cell_type": "code",
   "execution_count": null,
   "metadata": {
    "slideshow": {
     "slide_type": "fragment"
    }
   },
   "outputs": [],
   "source": [
    "# Implementierung des Tier-Beispiels\n",
    "class Tier:\n",
    "    def __init__(self, Tier):\n",
    "        print(Tier, \"ist ein Tier\")\n",
    "\n",
    "class Saeugetier(Tier):\n",
    "    def __init__(self, Saeugetier):\n",
    "        print(Saeugetier, \"ist ein Warmblüter\")\n",
    "        super().__init__(Saeugetier)\n",
    "    \n",
    "class Fluegellos(Saeugetier):\n",
    "    def __init__(self, Fluegellos):\n",
    "        print(Fluegellos, \"kann nicht fliegen\")\n",
    "        super().__init__(Fluegellos)\n",
    "\n",
    "class NichtMeer(Saeugetier):\n",
    "    def __init__(self, NichtMeer):\n",
    "        print(NichtMeer, \"kann nicht schwimmen\")\n",
    "        super().__init__(NichtMeer)\n",
    "# Mehrfachvererbung\n",
    "class Hund(Fluegellos, NichtMeer):\n",
    "    def __init__(self):\n",
    "        print(\"Hund hat 4 Beine.\")\n",
    "        super().__init__(\"Hund\")\n",
    "\n",
    "h = Hund()\n",
    "print(\"\")\n",
    "fledermaus = NichtMeer(\"Fledermaus\")\n",
    "    "
   ]
  },
  {
   "cell_type": "markdown",
   "metadata": {
    "slideshow": {
     "slide_type": "subslide"
    }
   },
   "source": [
    "#### 8.7.2 Das Diamond-Problem"
   ]
  },
  {
   "cell_type": "markdown",
   "metadata": {
    "slideshow": {
     "slide_type": "fragment"
    }
   },
   "source": [
    "Bei dem Diamond-Problem (engl. *deadly diamond of death*) handelt es sich um ein Mehrdeutigkeitsproblem. Dieses Problem kann auftreten wenn beispielsweise eine Klasse `D` auf zwei verschiedenen Vererbungspfaden (über zwei Klassen `B` und `C`) von der gleichen Basisklasse `A` abstammt. Dabei gibt es eine Methode `M`, für die gilt:\n",
    "\n",
    "- `M` wird in `A` definiert\n",
    "- `M` wird entweder in `B` oder `C` oder in beiden überschrieben\n",
    "- `M` wird **nicht** in `D` überschrieben\n",
    "\n",
    "Frage: *Von welcher Klasse wir die Methode `M` nun vererbt?*"
   ]
  },
  {
   "cell_type": "code",
   "execution_count": null,
   "metadata": {
    "slideshow": {
     "slide_type": "fragment"
    }
   },
   "outputs": [],
   "source": [
    "# Beispiel von oben\n",
    "class A:\n",
    "    def m(self):\n",
    "        print(\"m of A called\")\n",
    "\n",
    "class B(A):\n",
    "    #pass\n",
    "    def m(self):\n",
    "        print(\"m of B called\")\n",
    "\n",
    "class C(A):\n",
    "    def m(self):\n",
    "        print(\"m of C called\")\n",
    "\n",
    "# Parameterliste tauschen\n",
    "class D(C, B):\n",
    "    pass\n",
    "\n",
    "x = D()\n",
    "x.m()"
   ]
  },
  {
   "cell_type": "markdown",
   "metadata": {
    "slideshow": {
     "slide_type": "fragment"
    }
   },
   "source": [
    "&rarr; Die Vererbungsreihenfolge spielt eine entscheidende Rolle\n",
    "\n",
    "&rarr; strikte und saubere Nomenklatur einhalten, wenn möglich Diamond-Architektur vermeiden!"
   ]
  },
  {
   "cell_type": "markdown",
   "metadata": {
    "slideshow": {
     "slide_type": "subslide"
    }
   },
   "source": [
    "#### 8.7.3 `super()` und MRO"
   ]
  },
  {
   "cell_type": "markdown",
   "metadata": {
    "slideshow": {
     "slide_type": "fragment"
    }
   },
   "source": [
    "In [8.7.2](#872-das-diamond-problem) wurde gezeigt, dass es im Falle des Diamond-Problem in Python auf die Reihenfolge, mit welcher die Basisklassen durchsucht werden, geachtet werden muss. Diese Reihenfolge wird durch die *Method Resolution Order* (kurz *MRO*) festgelegt. "
   ]
  },
  {
   "cell_type": "markdown",
   "metadata": {
    "slideshow": {
     "slide_type": "fragment"
    }
   },
   "source": [
    "Im folgenden ist das Beispiel von oben zu sehen. Hierbei sind jetzt alle Klassen um die Methode `m()` mit einer `print`-Ausgabe erweitert, um den Methodenaufruf und die MRO nachzuvollziehen."
   ]
  },
  {
   "cell_type": "code",
   "execution_count": null,
   "metadata": {
    "slideshow": {
     "slide_type": "fragment"
    }
   },
   "outputs": [],
   "source": [
    "# Beispiel zur MRO\n",
    "class A:\n",
    "    def m(self):\n",
    "        print(\"m of A called\")\n",
    "class B(A):\n",
    "    def m(self):\n",
    "        print(\"m of B called\")\n",
    "        A.m(self)\n",
    "class C(A):\n",
    "    def m(self):\n",
    "        print(\"m of C called\")\n",
    "        A.m(self)\n",
    "class D(B, C):\n",
    "    def m(self):\n",
    "        print(\"m of D called\")\n",
    "        B.m(self)\n",
    "        C.m(self)\n",
    "\n",
    "d = D()\n",
    "d.m()"
   ]
  },
  {
   "cell_type": "markdown",
   "metadata": {
    "slideshow": {
     "slide_type": "fragment"
    }
   },
   "source": [
    "Problem: Die Methode der Klasse `A` wird zweimal aufgerufen.\n",
    "\n",
    "Lösung: Verwendung von `super()`"
   ]
  },
  {
   "cell_type": "code",
   "execution_count": null,
   "metadata": {
    "slideshow": {
     "slide_type": "fragment"
    }
   },
   "outputs": [],
   "source": [
    "# Lösung des Problems\n",
    "class A:\n",
    "    def m(self):\n",
    "        print(\"m of A called\")\n",
    "class B(A):\n",
    "    def m(self):\n",
    "        print(\"m of B called\")\n",
    "        super().m()\n",
    "class C(A):\n",
    "    def m(self):\n",
    "        print(\"m of C called\")\n",
    "        super().m()\n",
    "class D(B, C):\n",
    "    def m(self):\n",
    "        print(\"m of D called\")\n",
    "        super().m()\n",
    "\n",
    "d = D()\n",
    "d.m()"
   ]
  },
  {
   "cell_type": "markdown",
   "metadata": {
    "slideshow": {
     "slide_type": "fragment"
    }
   },
   "source": [
    "Der Python-Interpreter baut seine MRO nach dem [*C3 superclass linearization*](https://en.wikipedia.org/wiki/C3_linearization)-Algorithmus auf. Man spricht deshalb von Linearisierung, weil aus der Baumstruktur eine lineare Reihenfolge gebildet wird. Diese geordnete Liste kann man sich mit der `mro()`-Methode anzeigen lassen"
   ]
  },
  {
   "cell_type": "code",
   "execution_count": null,
   "metadata": {
    "slideshow": {
     "slide_type": "fragment"
    }
   },
   "outputs": [],
   "source": [
    "# TODO mro()-Methode\n"
   ]
  },
  {
   "cell_type": "markdown",
   "metadata": {
    "slideshow": {
     "slide_type": "subslide"
    }
   },
   "source": [
    "Ein umfangreicheres Beispiel:\n",
    "\n",
    "![](anhang/umfangreich.svg)"
   ]
  },
  {
   "cell_type": "code",
   "execution_count": null,
   "metadata": {
    "slideshow": {
     "slide_type": "fragment"
    }
   },
   "outputs": [],
   "source": [
    "# Code des umfangreichen Beispiels\n",
    "class A():\n",
    "    pass\n",
    "class B1(A):\n",
    "    pass\n",
    "class B2(A):\n",
    "    pass\n",
    "class B3(A):\n",
    "    pass\n",
    "class B4(A):\n",
    "    pass\n",
    "class B5(A):\n",
    "    pass\n",
    "class C1(B1, B2, B3):\n",
    "    pass\n",
    "class C2(B4, B2, B5):\n",
    "    pass\n",
    "class C3(B4, B1):\n",
    "    pass\n",
    "class D(C1, C2, C3):\n",
    "    pass\n",
    "d = D()\n",
    "D.mro()"
   ]
  },
  {
   "cell_type": "markdown",
   "metadata": {
    "slideshow": {
     "slide_type": "slide"
    }
   },
   "source": [
    "### 8.8 Typische Fehler\n",
    "\n",
    "#### 8.8.1 Versehentliches Erzeugen neuer Attribute"
   ]
  },
  {
   "cell_type": "markdown",
   "metadata": {
    "slideshow": {
     "slide_type": "fragment"
    }
   },
   "source": [
    "Wie wir bereits gesehen hatten, kann es beispielsweise durch einen einfachen Schreibfehler dazuführen, dass zu einer bestehenden Klasse dynamisch ein Attribut hinzugefügt wird, ohne dass es zu einer Fehlermeldung führt:"
   ]
  },
  {
   "cell_type": "code",
   "execution_count": null,
   "metadata": {
    "slideshow": {
     "slide_type": "fragment"
    }
   },
   "outputs": [],
   "source": [
    "# einfaches Beispiel\n",
    "class Behaelter:\n",
    "\n",
    "    # TODO\n",
    "    \n",
    "    def __init__(self, volumen):\n",
    "        self.volumen = volumen\n",
    "\n",
    "# Hauptprogramm\n",
    "tasse = Behaelter(250)\n",
    "print(\"In der Tasse sind\", tasse.volumen, \"ml. \")\n",
    "ex = input(\"Wie viel wollen Sie ausschütten? \")\n",
    "tasse.Volumen = tasse.volumen - float(ex)\n",
    "print(\"Neuer Inhalt:\", tasse.volumen, \"ml. \")"
   ]
  },
  {
   "cell_type": "markdown",
   "metadata": {
    "slideshow": {
     "slide_type": "fragment"
    }
   },
   "source": [
    "Um das Problem zu verhindern, kommen die `__slots__` ins Spiel. Anstatt eines dynamischen Dictionarys stellen Slots eine statische Struktur zur Verfügung, die ein weiteres Hinzufügen von Attributen verhindert, sobald eine Instanz erstellt worden ist."
   ]
  },
  {
   "cell_type": "markdown",
   "metadata": {
    "slideshow": {
     "slide_type": "fragment"
    }
   },
   "source": [
    "Slots werden genutzt, indem man in der Klassendefinition eine Liste mit allen Attributen definiert. Diese Liste hat den Namen `__slots__`."
   ]
  },
  {
   "cell_type": "markdown",
   "metadata": {
    "slideshow": {
     "slide_type": "subslide"
    }
   },
   "source": [
    "#### 8.8.2 Verwechseln von Methoden und Attributen"
   ]
  },
  {
   "cell_type": "markdown",
   "metadata": {
    "slideshow": {
     "slide_type": "fragment"
    }
   },
   "source": [
    "Wenn man beim Aufruf einer Methode die Klammern weglässt, kommt es nicht zwangsläufig zu einem Laufzeitfehler. Das System liefert in diesem Fall einen String, der das Methoden-Objekt beschreibt. So kann es zu nur schwer auffindbaren logischen Fehlern kommen."
   ]
  },
  {
   "cell_type": "code",
   "execution_count": null,
   "metadata": {
    "slideshow": {
     "slide_type": "fragment"
    }
   },
   "outputs": [],
   "source": [
    "# Beispiel\n",
    "class Rechteck:\n",
    "    def __init__(self, laenge, breite):\n",
    "        self.laenge = laenge\n",
    "        self.breite = breite\n",
    "    # folgende Methode entgegen der Konventionen definiert\n",
    "    def flaeche(self):\n",
    "        return self.laenge*self.breite\n",
    "    \n",
    "a = Rechteck(2,1)\n",
    "b = Rechteck(1,2)\n",
    "# was liefert folgender Ausdruck?\n",
    "a.flaeche == b.flaeche\n"
   ]
  },
  {
   "cell_type": "markdown",
   "metadata": {
    "slideshow": {
     "slide_type": "slide"
    }
   },
   "source": [
    "### 8.9 Hinweise zum Programmierstil\n",
    "\n",
    "#### 8.9.1 Bezeichner"
   ]
  },
  {
   "cell_type": "markdown",
   "metadata": {
    "slideshow": {
     "slide_type": "fragment"
    }
   },
   "source": [
    "- Als Namen für *Klassen* verwendet man Substantive im Singular mit großem Anfangsbuchstabe, z.B. `File, Exception, Pickler, Geld`\n",
    "\n",
    "- Namen für *Attribute* sind Substantive, die (evtl nach einem oder zwei Unterstrichen) mit einem kleinen Buchstaben beginnen, z.B. `__name__, betrag`\n",
    "\n",
    "- *Methoden* werden - wie Funktionen - meist durch ein Verb benannt, dass mit einem kleinen Buchstaben beginnt, z.B. `load(9, __add__(), berechneSumme()`\n",
    "\n",
    "- Methoden zum Lesen und Schreiben von Attributwerten benennt man nach dem Muster `getAttribut`und `setAttribut`\n",
    "\n",
    "- *Modulnamen* bestehen aus Kleinbuchstaben. Der Dateiname für ein Modul setzt sich aus dem Modulnamen und der Extension `.py` zusammen, z.B. `geld.py, time.py, fibonacci.py`"
   ]
  },
  {
   "cell_type": "markdown",
   "metadata": {
    "slideshow": {
     "slide_type": "subslide"
    }
   },
   "source": [
    "#### 8.9.2 Sichtbarkeit"
   ]
  },
  {
   "cell_type": "markdown",
   "metadata": {
    "slideshow": {
     "slide_type": "fragment"
    }
   },
   "source": [
    "Generell gilt: eine Klasse soll so wenig wie möglich über ihren internen Aufbau verraten (&rarr; Geheimnisprinzip). Sofern ein direkter Zugriff von außen nicht notwendig ist, sollten Attribute privat sein. Bei öffentlichen Attributen besteht die Gefahr, dass das Objekt in einen inkonsistenten Zustand gerät. Klassen mit öffentlichen Attributen sind daher anfälliger für Fehler.\n",
    "\n",
    "Guter Programmierstil wäre daher eine ausschließliche Verwendung von privaten Attributen und den bereits genannten *Setter*- und *Getter*-Methoden.\n",
    "\n",
    "Eine moderne Alternative sind die *Properties*, die bereits in 8.3.4 behandelt wurden."
   ]
  },
  {
   "cell_type": "markdown",
   "metadata": {
    "slideshow": {
     "slide_type": "subslide"
    }
   },
   "source": [
    "#### 8.9.3 Dokumentation von Klassen"
   ]
  },
  {
   "cell_type": "markdown",
   "metadata": {
    "slideshow": {
     "slide_type": "fragment"
    }
   },
   "source": [
    "Klassen sollten mit Dokumentationsstring versehen werden. Dieser besteht aus einer langen Zeichenkette zwischen dreifachen Anführungszeichen oder Hochkommata) und ist nach folgendem Muster aufgebaut:\n",
    "\n",
    "- die erste Zeile enthält eine Kurzbeschreibung der Aufgabe der Klasse\n",
    "- es folgt eine Leerzeile\n",
    "- die öffentlichen Methoden und Attribute werden aufgelistet und kurz beschrieben\n",
    "\n",
    "Wenn die Klasse von einer Basisklasse abgeleitet ist, sollte dies erwähnt werden. Stellen Sie die Unterschiede zur Basisklasse kurz da und verweisen Sie darauf hin, welche Methoden überschrieben worden sind. Beispiel in [8.6.2](#862-spezialisierung-der-klasse-geld)"
   ]
  },
  {
   "cell_type": "markdown",
   "metadata": {
    "slideshow": {
     "slide_type": "subslide"
    }
   },
   "source": [
    "#### 8.9.4 (Un-)Pythonic?"
   ]
  },
  {
   "cell_type": "markdown",
   "metadata": {
    "slideshow": {
     "slide_type": "fragment"
    }
   },
   "source": [
    "Wie man bereits gesehen hat, gibt es für gleiche Aufgaben verschiedene, aber auch syntaktisch verschiedene Lösungen. Die einen Lösungen sind \"schöner\" als die anderen, aber was entspricht dem Programmierstil standardmäßig am ehesten?"
   ]
  },
  {
   "cell_type": "markdown",
   "metadata": {
    "slideshow": {
     "slide_type": "fragment"
    }
   },
   "source": [
    "Dafür gibt es abschließend noch einen Verweis auf die drei bekanntesten *Python Style Guides*:\n",
    "\n",
    "1. [PEP 8](https://peps.python.org/pep-0008/) als generelle Richtlinie der offiziellen Python Dokumentation\n",
    "2. [Hitchhiker's Guide](https://docs.python-guide.org/) als Community basierte Richtlinie/Anleitung\n",
    "3. [Google Python Style Guide](https://google.github.io/styleguide/pyguide.html) offizielle, von Google veröffentlichte Gestaltungsrichtlinien für Python-Code"
   ]
  },
  {
   "cell_type": "markdown",
   "metadata": {
    "slideshow": {
     "slide_type": "fragment"
    }
   },
   "source": [
    "Ein *pythonischer* Programmierstil zeichnet sich beispielsweise durch die Verwendung von Dekorateuren aus (siehe dazu auch im [Hitchhiker's Guide](https://docs.python-guide.org/writing/structure/#decorators))"
   ]
  },
  {
   "cell_type": "code",
   "execution_count": null,
   "metadata": {
    "slideshow": {
     "slide_type": "fragment"
    }
   },
   "outputs": [],
   "source": [
    "# TODO pythonisch machen: Beispiel zu statischen Methoden\n",
    "class Statistik:\n",
    "    \n",
    "    def mittelwert(s):                              \n",
    "        if s:                                       \n",
    "            return float(sum(s)) / len(s)\n",
    "\n",
    "    \n",
    "    def spannweite(s):\n",
    "        # größte minus kleinste Zahl der Zahlenliste s\n",
    "        if s:\n",
    "            return max(s) - min(s)\n",
    "\n",
    "    \n",
    "    def median(s):\n",
    "        if s:\n",
    "            s1 = sorted(s)\n",
    "            if len(s) % 2 == 0:  # Länge ist gerade\n",
    "                return (s1[len(s)//2 - 1] + s1[len(s)//2]) / 2.0\n",
    "            else:\n",
    "                return s1[(len(s)-1)//2]\n",
    "\n",
    "    mittelwert = staticmethod(mittelwert)           \n",
    "    spannweite = staticmethod(spannweite)\n",
    "    median = staticmethod(median)\n",
    "\n",
    "\n",
    "s = [1, 4, 9, 11, 5]\n",
    "print(Statistik.mittelwert(s))\n",
    "print(Statistik.median(s))\n",
    "print(Statistik.spannweite(s))"
   ]
  },
  {
   "cell_type": "code",
   "execution_count": null,
   "metadata": {
    "slideshow": {
     "slide_type": "fragment"
    }
   },
   "outputs": [],
   "source": [
    "# TODO pythonisch machen: Beispiel Klassenmethoden\n",
    "class Pet:\n",
    "    name = \"Haustiere\"\n",
    "\n",
    "    \n",
    "    def about(cls):\n",
    "        print(\"In dieser Klasse geht es um\", cls.name)\n",
    "\n",
    "    about = classmethod(about)\n",
    "\n",
    "class Dog(Pet):\n",
    "    name = \"Hunde\"\n",
    "\n",
    "class Cat(Pet):\n",
    "    name = \"Katzen\"\n",
    "\n",
    "p = Pet()\n",
    "p.about()\n",
    "d = Dog()\n",
    "d.about()\n",
    "c = Cat()\n",
    "c.about()"
   ]
  }
 ],
 "metadata": {
  "kernelspec": {
   "display_name": "Python 3 (ipykernel)",
   "language": "python",
   "name": "python3"
  },
  "language_info": {
   "codemirror_mode": {
    "name": "ipython",
    "version": 3
   },
   "file_extension": ".py",
   "mimetype": "text/x-python",
   "name": "python",
   "nbconvert_exporter": "python",
   "pygments_lexer": "ipython3",
   "version": "3.11.7"
  },
  "varInspector": {
   "cols": {
    "lenName": 16,
    "lenType": 16,
    "lenVar": 40
   },
   "kernels_config": {
    "python": {
     "delete_cmd_postfix": "",
     "delete_cmd_prefix": "del ",
     "library": "var_list.py",
     "varRefreshCmd": "print(var_dic_list())"
    },
    "r": {
     "delete_cmd_postfix": ") ",
     "delete_cmd_prefix": "rm(",
     "library": "var_list.r",
     "varRefreshCmd": "cat(var_dic_list()) "
    }
   },
   "types_to_exclude": [
    "module",
    "function",
    "builtin_function_or_method",
    "instance",
    "_Feature"
   ],
   "window_display": false
  }
 },
 "nbformat": 4,
 "nbformat_minor": 2
}
