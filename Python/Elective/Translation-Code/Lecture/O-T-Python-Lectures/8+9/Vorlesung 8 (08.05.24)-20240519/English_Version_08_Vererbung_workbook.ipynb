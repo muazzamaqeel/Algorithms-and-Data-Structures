{
 "cells": [
  {
   "cell_type": "markdown",
   "metadata": {
    "slideshow": {
     "slide_type": "slide"
    }
   },
   "source": [
    "#### 8.4.2 Static methods"
   ]
  },
  {
   "cell_type": "markdown",
   "metadata": {
    "slideshow": {
     "slide_type": "fragment"
    }
   },
   "source": [
    "Static methods of a class can be called without first creating an instance. To do this, static methods must be created in the class definition by calling the `staticmethod()` function.\n",
    "\n",
    "This type of methods is often used to program a collection of thematically related operations (*Toolbox*)."
   ]
  },
  {
   "cell_type": "code",
   "execution_count": null,
   "metadata": {
    "slideshow": {
     "slide_type": "fragment"
    }
   },
   "outputs": [],
   "source": [
    "# Example of a toolbox from the field of statistics\n",
    "class Statistik:\n",
    "    def mittelwert(s):                              #1\n",
    "        if s:                                       \n",
    "            return float(sum(s)) / len(s)\n",
    "\n",
    "    def spannweite(s):\n",
    "# largest minus smallest number in the number list s\n",
    "        if s:\n",
    "            return max(s) - min(s)\n",
    "\n",
    "    def median(s):\n",
    "        if s:\n",
    "            s1 = sorted(s)\n",
    "            if len(s) % 2 == 0:  # Länge ist gerade\n",
    "                return (s1[len(s)//2 - 1] + s1[len(s)//2]) / 2.0\n",
    "            else:\n",
    "                return s1[(len(s)-1)//2]\n",
    "\n",
    "    mittelwert = staticmethod(mittelwert)           #2\n",
    "    spannweite = staticmethod(spannweite)\n",
    "    median = staticmethod(median)\n",
    "\n",
    "\n",
    "s = [1, 4, 9, 11, 5]\n",
    "print(Statistik.mittelwert(s))\n",
    "print(Statistik.median(s))\n",
    "print(Statistik.spannweite(s))"
   ]
  },
  {
   "cell_type": "markdown",
   "metadata": {
    "slideshow": {
     "slide_type": "fragment"
    }
   },
   "source": [
    "The class definition has some special features:\n",
    "\n",
    "- There is no `__init__()` method because there is no attribute. The created objects of the Toolbox class always remain in the same state\n",
    "\n",
    "- There is no argument `self` in the parameter list of static methods (**#1**)\n",
    "\n",
    "- The methods defined by `def` become static methods of the class by calling `staticmethod()` (**#2**)"
   ]
  },
  {
   "cell_type": "markdown",
   "metadata": {
    "slideshow": {
     "slide_type": "slide"
    }
   },
   "source": [
    "### 8.5 Three basic principles of OOP"
   ]
  },
  {
   "cell_type": "markdown",
   "metadata": {
    "slideshow": {
     "slide_type": "fragment"
    }
   },
   "source": [
    "When developing an object-oriented model (such as the 'class money'), three important principles of object-oriented thinking were used:"
   ]
  },
  {
   "cell_type": "markdown",
   "metadata": {
    "slideshow": {
     "slide_type": "fragment"
    }
   },
   "source": [
    "**1. Abstraction**\n",
    "   \n",
    "A class can be viewed as an *abstraction* of a set of objects from reality. *Abstracting* means identifying the essential aspects and leaving out everything that is unimportant."
   ]
  },
  {
   "cell_type": "markdown",
   "metadata": {
    "slideshow": {
     "slide_type": "fragment"
    }
   },
   "source": [
    "**2. Encapsulation**\n",
    "\n",
    "At the beginning of the event, the principle of *stepwise refinement* was applied and functions were defined for subtasks, for example. The focus was solely on operations. The special thing about OOP is that operations and logically related attributes are merged into a unit (class). This is called *encapsulation*"
   ]
  },
  {
   "cell_type": "markdown",
   "metadata": {
    "slideshow": {
     "slide_type": "fragment"
    }
   },
   "source": [
    "**3. Secret principle**\n",
    "\n",
    "The secret principle (*information hiding*) states that the state of an object is not visible to the outside world. If adhered to consistently, all attributes are highly private. Changes to the state can only be triggered externally via method calls."
   ]
  },
  {
   "cell_type": "markdown",
   "metadata": {
    "slideshow": {
     "slide_type": "slide"
    }
   },
   "source": [
    "### 8.6 Inheritance"
   ]
  },
  {
   "cell_type": "markdown",
   "metadata": {
    "slideshow": {
     "slide_type": "fragment"
    }
   },
   "source": [
    "The term *inheritance* describes the relationship between a general class (base class, superclass) and a specialized class (subclass, subclass, derived class). The subclass has all the attributes and methods of the superclass. It is said that the upper class *inherits* its characteristics to its lower classes.\n",
    "\n",
    "Subclasses also usually have additional attributes and methods. These are therefore more special and therefore less abstract."
   ]
  },
  {
   "cell_type": "markdown",
   "metadata": {
    "slideshow": {
     "slide_type": "subslide"
    }
   },
   "source": [
    "#### 8.6.1 Specializations"
   ]
  },
  {
   "cell_type": "markdown",
   "metadata": {
    "slideshow": {
     "slide_type": "fragment"
    }
   },
   "source": [
    "The syntax to implement a subclass is:\n",
    "\n",
    "```python\n",
    "class subclass(superclass):\n",
    "    newAttribute = default value\n",
    "    ...\n",
    "    def newMethod(self, ...):\n",
    "        ...\n",
    "```"
   ]
  },
  {
   "cell_type": "markdown",
   "metadata": {
    "slideshow": {
     "slide_type": "fragment"
    }
   },
   "source": [
    "With a subclass you can refine existing methods (or attributes) of the superclass or redefine them by overriding them. One says: The method definition of the superclass is overwritten."
   ]
  },
  {
   "cell_type": "markdown",
   "metadata": {
    "slideshow": {
     "slide_type": "fragment"
    }
   },
   "source": [
    "The application and problems of inheritance will now be illustrated using the following example:\n",
    "\n",
    "![specialization](appendix/specialization.svg)"
   ]
  },
  {
   "cell_type": "markdown",
   "metadata": {
    "slideshow": {
     "slide_type": "subslide"
    }
   },
   "source": [
    "#### 8.6.2 Specialization of the `Money` class"
   ]
  },
  {
   "cell_type": "markdown",
   "metadata": {
    "slideshow": {
     "slide_type": "fragment"
    }
   },
   "source": [
    "The following is to implement the `Account` subclass:"
   ]
  },
  {
   "cell_type": "code",
   "execution_count": null,
   "metadata": {
    "slideshow": {
     "slide_type": "fragment"
    }
   },
   "outputs": [],
   "source": [
    "# TODO example for the Account class\n",
    "import time\n",
    "from geld import Geld\n",
    "class Konto(Geld):\n",
    "    \"\"\" Spezialisierung der Klasse Geld zur Verwaltung eines Kontos\n",
    "        Öffentliche Attribute:\n",
    "           geerbt: waehrung, betrag, wechselkurs\n",
    "\n",
    "        Öffentliche Methoden und Überladungen:\n",
    "           geerbt: __add__(), __lt__(),\n",
    "                   __le__(), __eq__(), getEuro()\n",
    "           überschrieben: __str__()\n",
    "           Erweiterungen:\n",
    "             einzahlen(), auszahlen(), druckeKontoauszug() \n",
    "    \"\"\"\n",
    "    def __init__(self, waehrung, inhaber):\n",
    "# ALL\n",
    "        pass\n",
    "                     \n",
    "\n",
    "    def einzahlen(self,waehrung, betrag):                     \n",
    "        einzahlung = Geld(waehrung,betrag)\n",
    "# TODO amount\n",
    "        #\n",
    "        \n",
    "        eintrag = time.asctime()+' ' +str(einzahlung) +\\\n",
    "                ' neuer Kontostand: '+ self.waehrung + \\\n",
    "        ' ' + str(round(self.betrag, 2))\n",
    "        self.__kontoauszug += [eintrag]               \n",
    "\n",
    "    def auszahlen(self, waehrung, betrag): \n",
    "        self.einzahlen(waehrung, -betrag)\n",
    "\n",
    "    def druckeKontoauszug(self):                      \n",
    "        for i in self.__kontoauszug:\n",
    "            print(i)\n",
    "        self.__kontoauszug = [str(self)]\n",
    "\n",
    "    def __str__(self):                                \n",
    "        return 'Konto von ' + self.__inhaber + \\\n",
    "               ':\\nKontostand am ' + time.asctime() + \\\n",
    "               ': ' + self.waehrung + ' ' +\\\n",
    "                str(round(self.betrag, 2))\n",
    "                \n",
    "\n",
    "# End of class definition\n",
    "   \n",
    "# Test class\n",
    "konto = Konto('EUR', 'Tim Wegner')\n",
    "konto.einzahlen('EUR', 1200)\n",
    "time.sleep(2)\n",
    "konto.auszahlen('USD', 50)\n",
    "konto.einzahlen('GBP', 30.30)\n",
    "print(konto)\n",
    "konto.druckeKontoauszug()"
   ]
  },
  {
   "cell_type": "markdown",
   "metadata": {
    "slideshow": {
     "slide_type": "fragment"
    }
   },
   "source": [
    "**Note** about the terms *Overload* and *Overwrite*:\n",
    "\n",
    "|Overload|Overwrite|\n",
    "|:----|:----|\n",
    "|Methods and functions have **same name** but **different signature**|Methods and functions have **same name** and **same signature**|\n",
    "|Overloading is called *compile time polymorphism*|Overwriting is called *run time polymorphism*|\n",
    "|Overloading *can __also__* occur through inheritance| Overwriting *can __only__* occur with inheritance|"
   ]
  },
  {
   "cell_type": "markdown",
   "metadata": {
    "slideshow": {
     "slide_type": "fragment"
    }
   },
   "source": [
    "**The following applies to Python**:\n",
    "\n",
    "- there is **no overloading** in Python according to the classic approach because *everything is an object*. This is not necessary at all, since Python has *dynamic data types*. (In statically typed languages ​​like Java and C++ it is needed to define the same function for different types)"
   ]
  },
  {
   "cell_type": "markdown",
   "metadata": {
    "slideshow": {
     "slide_type": "fragment"
    }
   },
   "source": [
    "**Nachtrag**: Python wird auch als *duck typed language* bezeichnet. Zitat von James Whitcomb Riley:\n",
    "\n",
    "> When I see a bird that walks like a duck and swims like a duck and quacks like a duck, I call that bird a duck."
   ]
  },
  {
   "cell_type": "code",
   "execution_count": null,
   "metadata": {
    "slideshow": {
     "slide_type": "fragment"
    }
   },
   "outputs": [],
   "source": [
    "# TODO Attempt at classic overloading\n"
   ]
  },
  {
   "cell_type": "code",
   "execution_count": null,
   "metadata": {
    "slideshow": {
     "slide_type": "fragment"
    }
   },
   "outputs": [],
   "source": [
    "# TODO illustration of dynamic type declaration\n"
   ]
  },
  {
   "cell_type": "markdown",
   "metadata": {
    "slideshow": {
     "slide_type": "fragment"
    }
   },
   "source": [
    "In C++ the following implementation would be necessary for this example:\n",
    "\n",
    "```cpp\n",
    "#include <iostream>\n",
    "#include <cstdlib>\n",
    "using namespace std;\n",
    "\n",
    "int multi(int something, int factor){\n",
    "    return some * factor;\n",
    "}\n",
    "\n",
    "double multi(double something, int factor){\n",
    "    return some * factor;\n",
    "}\n",
    "\n",
    "int main(){\n",
    "    cout << multi(10,3) << endl;\n",
    "    cout << multi(10.3, 4) << endl;\n",
    "    return 0;\n",
    "}\n",
    "```"
   ]
  },
  {
   "cell_type": "markdown",
   "metadata": {
    "slideshow": {
     "slide_type": "subslide"
    }
   },
   "source": [
    "#### 8.6.3 Class Methods"
   ]
  },
  {
   "cell_type": "markdown",
   "metadata": {
    "slideshow": {
     "slide_type": "fragment"
    }
   },
   "source": [
    "The static methods discussed in [8.4.2](#842-static-methods) should not be confused with class methods. Class methods are not bound to instances, but - unlike static methods - are bound to a class. The first argument of a class method is a reference to the class object (commonly called `cls`). It can be called both via the class name and via an instance:"
   ]
  },
  {
   "cell_type": "code",
   "execution_count": null,
   "metadata": {
    "slideshow": {
     "slide_type": "fragment"
    }
   },
   "outputs": [],
   "source": [
    "# Example with static method\n",
    "class Pet:\n",
    "    name = \"Haustiere\"\n",
    "\n",
    "    def about():\n",
    "        print(\"In dieser Klasse geht es um\", Pet.name)\n",
    "\n",
    "    about = staticmethod(about)\n",
    "\n",
    "class Dog(Pet):\n",
    "    name = \"Hunde\"\n",
    "\n",
    "class Cat(Pet):\n",
    "    name = \"Katzen\"\n",
    "\n",
    "p = Pet()\n",
    "p.about()\n",
    "d = Dog()\n",
    "d.about()\n",
    "c = Cat()\n",
    "c.about()"
   ]
  },
  {
   "cell_type": "code",
   "execution_count": null,
   "metadata": {
    "slideshow": {
     "slide_type": "fragment"
    }
   },
   "outputs": [],
   "source": [
    "# Modify TODO example with class method\n"
   ]
  },
  {
   "cell_type": "markdown",
   "metadata": {
    "slideshow": {
     "slide_type": "subslide"
    }
   },
   "source": [
    "#### 8.6.4 Standard classes as base classes"
   ]
  },
  {
   "cell_type": "markdown",
   "metadata": {
    "slideshow": {
     "slide_type": "fragment"
    }
   },
   "source": [
    "New classes can also be derived from standard classes such as `int, float, str, bool, dict, list`. In the following example, a list is to be defined with a preset value (default) for non-existent list elements. If you access the list with an index that is too large, there should be no runtime error (IndexError), but instead an object intended for this case should be returned:"
   ]
  },
  {
   "cell_type": "code",
   "execution_count": null,
   "metadata": {
    "slideshow": {
     "slide_type": "fragment"
    }
   },
   "outputs": [],
   "source": [
    "# TODO Derived list class\n",
    "class DefaultList(list):\n",
    "    pass\n",
    "        \n",
    "# Main program\n",
    "p = [\"Merkur\", \"Venus\", \"Erde\"]\n",
    "planeten = DefaultList(p, \"unbekannter Planet\")\n",
    "print(planeten)\n",
    "print(planeten[1])\n",
    "\n",
    "planeten.append(\"Mars\")\n",
    "print(planeten)\n",
    "\n",
    "mehrPlaneten = DefaultList([\"Jupiter\", \"Saturn\"], \"unbekannter Planet\")\n",
    "planeten = planeten + mehrPlaneten\n",
    "print(planeten)\n",
    "#planets[10]"
   ]
  },
  {
   "cell_type": "markdown",
   "metadata": {
    "slideshow": {
     "slide_type": "slide"
    }
   },
   "source": [
    "### 8.7 Multiple inheritance"
   ]
  },
  {
   "cell_type": "markdown",
   "metadata": {
    "slideshow": {
     "slide_type": "fragment"
    }
   },
   "source": [
    "If a derived class inherits directly from more than one base class, this is called *multiple inheritance* in OOP. A sequential, multi-stage inheritance, on the other hand, is not referred to as multiple inheritance:\n",
    "\n",
    " \n",
    "\n",
    " \n",
    "\n",
    "\n",
    "\n",
    "![](attachment/multiple.svg)"
   ]
  },
  {
   "cell_type": "markdown",
   "metadata": {
    "slideshow": {
     "slide_type": "fragment"
    }
   },
   "source": [
    "Syntactically, multiple inheritance in Python looks like this:\n",
    "\n",
    "```python\n",
    "class SubClass(Base1, Base2, Base3, ...):\n",
    "    passport\n",
    "```"
   ]
  },
  {
   "cell_type": "markdown",
   "metadata": {
    "slideshow": {
     "slide_type": "fragment"
    }
   },
   "source": [
    "When implementing, you have to make sure that there are no name collisions, e.g. the base class `A` and the base class `B` can have a method `M`. In this case, the derived class `class X(A, B)` will only inherit the method `M` of the class `A`. \n",
    "\n",
    "**Exception**: the method `__init__()` is inherited by all base classes, e.g. `super().__init__()` calls the constructors of *all* base classes in the order in which they were named in the definition."
   ]
  },
  {
   "cell_type": "markdown",
   "metadata": {
    "slideshow": {
     "slide_type": "subslide"
    }
   },
   "source": [
    "#### 8.7.1 Example of multiple inheritance"
   ]
  },
  {
   "cell_type": "markdown",
   "metadata": {
    "slideshow": {
     "slide_type": "fragment"
    }
   },
   "source": [
    "![](attachment/animals.svg)"
   ]
  },
  {
   "cell_type": "code",
   "execution_count": null,
   "metadata": {
    "slideshow": {
     "slide_type": "fragment"
    }
   },
   "outputs": [],
   "source": [
    "# Implementation of the animal example\n",
    "class Tier:\n",
    "    def __init__(self, Tier):\n",
    "        print(Tier, \"ist ein Tier\")\n",
    "\n",
    "class Saeugetier(Tier):\n",
    "    def __init__(self, Saeugetier):\n",
    "        print(Saeugetier, \"ist ein Warmblüter\")\n",
    "        super().__init__(Saeugetier)\n",
    "    \n",
    "class Fluegellos(Saeugetier):\n",
    "    def __init__(self, Fluegellos):\n",
    "        print(Fluegellos, \"kann nicht fliegen\")\n",
    "        super().__init__(Fluegellos)\n",
    "\n",
    "class NichtMeer(Saeugetier):\n",
    "    def __init__(self, NichtMeer):\n",
    "        print(NichtMeer, \"kann nicht schwimmen\")\n",
    "        super().__init__(NichtMeer)\n",
    "# Multiple inheritance\n",
    "class Hund(Fluegellos, NichtMeer):\n",
    "    def __init__(self):\n",
    "        print(\"Hund hat 4 Beine.\")\n",
    "        super().__init__(\"Hund\")\n",
    "\n",
    "h = Hund()\n",
    "print(\"\")\n",
    "fledermaus = NichtMeer(\"Fledermaus\")\n",
    "    "
   ]
  },
  {
   "cell_type": "markdown",
   "metadata": {
    "slideshow": {
     "slide_type": "subslide"
    }
   },
   "source": [
    "#### 8.7.2 The Diamond Problem"
   ]
  },
  {
   "cell_type": "markdown",
   "metadata": {
    "slideshow": {
     "slide_type": "fragment"
    }
   },
   "source": [
    "The Diamond problem (*deadly diamond of death*) is an ambiguity problem. This problem can occur if, for example, a class `D` descends from the same base class `A` on two different inheritance paths (via two classes `B` and `C`). There is a method 'M' for which the following applies:\n",
    "\n",
    "- `M` is defined in `A`\n",
    "- `M` is overwritten in either `B` or `C` or both\n",
    "- `M` is **not** overwritten to `D`\n",
    "\n",
    "Question: *From which class do we inherit the method `M`?*"
   ]
  },
  {
   "cell_type": "code",
   "execution_count": null,
   "metadata": {
    "slideshow": {
     "slide_type": "fragment"
    }
   },
   "outputs": [],
   "source": [
    "# Example from above\n",
    "class A:\n",
    "    def m(self):\n",
    "        print(\"m of A called\")\n",
    "\n",
    "class B(A):\n",
    "#pass\n",
    "    def m(self):\n",
    "        print(\"m of B called\")\n",
    "\n",
    "class C(A):\n",
    "    def m(self):\n",
    "        print(\"m of C called\")\n",
    "\n",
    "# Swap parameter list\n",
    "class D(C, B):\n",
    "    pass\n",
    "\n",
    "x = D()\n",
    "x.m()"
   ]
  },
  {
   "cell_type": "markdown",
   "metadata": {
    "slideshow": {
     "slide_type": "fragment"
    }
   },
   "source": [
    "? The order of inheritance plays a crucial role\n",
    "\n",
    "? Adhere to strict and clean nomenclature, avoid diamond architecture if possible!"
   ]
  },
  {
   "cell_type": "markdown",
   "metadata": {
    "slideshow": {
     "slide_type": "subslide"
    }
   },
   "source": [
    "#### 8.7.3 `super()` and MRO"
   ]
  },
  {
   "cell_type": "markdown",
   "metadata": {
    "slideshow": {
     "slide_type": "fragment"
    }
   },
   "source": [
    "In [8.7.2](#872-the-diamond-problem) it was shown that in the case of the diamond problem in Python, attention must be paid to the order in which the base classes are searched. This order is determined by the *Method Resolution Order* (*MRO* for short)."
   ]
  },
  {
   "cell_type": "markdown",
   "metadata": {
    "slideshow": {
     "slide_type": "fragment"
    }
   },
   "source": [
    "Below you can see the example from above. All classes are now expanded to include the `m()` method with a `print` output to trace the method call and the MRO."
   ]
  },
  {
   "cell_type": "code",
   "execution_count": null,
   "metadata": {
    "slideshow": {
     "slide_type": "fragment"
    }
   },
   "outputs": [],
   "source": [
    "# Example of MRO\n",
    "class A:\n",
    "    def m(self):\n",
    "        print(\"m of A called\")\n",
    "class B(A):\n",
    "    def m(self):\n",
    "        print(\"m of B called\")\n",
    "        A.m(self)\n",
    "class C(A):\n",
    "    def m(self):\n",
    "        print(\"m of C called\")\n",
    "        A.m(self)\n",
    "class D(B, C):\n",
    "    def m(self):\n",
    "        print(\"m of D called\")\n",
    "        B.m(self)\n",
    "        C.m(self)\n",
    "\n",
    "d = D()\n",
    "d.m()"
   ]
  },
  {
   "cell_type": "markdown",
   "metadata": {
    "slideshow": {
     "slide_type": "fragment"
    }
   },
   "source": [
    "Problem: Class 'A' method is called twice.\n",
    "\n",
    "Solution: Use `super()`"
   ]
  },
  {
   "cell_type": "code",
   "execution_count": null,
   "metadata": {
    "slideshow": {
     "slide_type": "fragment"
    }
   },
   "outputs": [],
   "source": [
    "# The solution of the problem\n",
    "class A:\n",
    "    def m(self):\n",
    "        print(\"m of A called\")\n",
    "class B(A):\n",
    "    def m(self):\n",
    "        print(\"m of B called\")\n",
    "        super().m()\n",
    "class C(A):\n",
    "    def m(self):\n",
    "        print(\"m of C called\")\n",
    "        super().m()\n",
    "class D(B, C):\n",
    "    def m(self):\n",
    "        print(\"m of D called\")\n",
    "        super().m()\n",
    "\n",
    "d = D()\n",
    "d.m()"
   ]
  },
  {
   "cell_type": "markdown",
   "metadata": {
    "slideshow": {
     "slide_type": "fragment"
    }
   },
   "source": [
    "The Python interpreter builds its MRO according to the [*C3 superclass linearization*](https://en.wikipedia.org/wiki/C3_linearization) algorithm. It is called linearization because a linear sequence is created from the tree structure. This ordered list can be displayed using the `mro()` method"
   ]
  },
  {
   "cell_type": "code",
   "execution_count": null,
   "metadata": {
    "slideshow": {
     "slide_type": "fragment"
    }
   },
   "outputs": [],
   "source": [
    "#ALL mro()-Methode\n"
   ]
  },
  {
   "cell_type": "markdown",
   "metadata": {
    "slideshow": {
     "slide_type": "subslide"
    }
   },
   "source": [
    "A more extensive example:\n",
    "\n",
    "![](appendix/extensive.svg)"
   ]
  },
  {
   "cell_type": "code",
   "execution_count": null,
   "metadata": {
    "slideshow": {
     "slide_type": "fragment"
    }
   },
   "outputs": [],
   "source": [
    "# Code of the extensive example\n",
    "class A():\n",
    "    pass\n",
    "class B1(A):\n",
    "    pass\n",
    "class B2(A):\n",
    "    pass\n",
    "class B3(A):\n",
    "    pass\n",
    "class B4(A):\n",
    "    pass\n",
    "class B5(A):\n",
    "    pass\n",
    "class C1(B1, B2, B3):\n",
    "    pass\n",
    "class C2(B4, B2, B5):\n",
    "    pass\n",
    "class C3(B4, B1):\n",
    "    pass\n",
    "class D(C1, C2, C3):\n",
    "    pass\n",
    "d = D()\n",
    "D.mro()"
   ]
  },
  {
   "cell_type": "markdown",
   "metadata": {
    "slideshow": {
     "slide_type": "slide"
    }
   },
   "source": [
    "### 8.8 Typical errors\n",
    "\n",
    "#### 8.8.1 Accidental creation of new attributes"
   ]
  },
  {
   "cell_type": "markdown",
   "metadata": {
    "slideshow": {
     "slide_type": "fragment"
    }
   },
   "source": [
    "As we have already seen, a simple typo, for example, can result in an attribute being dynamically added to an existing class without resulting in an error message:"
   ]
  },
  {
   "cell_type": "code",
   "execution_count": null,
   "metadata": {
    "slideshow": {
     "slide_type": "fragment"
    }
   },
   "outputs": [],
   "source": [
    "# simple example\n",
    "class Behaelter:\n",
    "\n",
    "# ALL\n",
    "    \n",
    "    def __init__(self, volumen):\n",
    "        self.volumen = volumen\n",
    "\n",
    "# Main program\n",
    "tasse = Behaelter(250)\n",
    "print(\"In der Tasse sind\", tasse.volumen, \"ml. \")\n",
    "ex = input(\"Wie viel wollen Sie ausschütten? \")\n",
    "tasse.Volumen = tasse.volumen - float(ex)\n",
    "print(\"Neuer Inhalt:\", tasse.volumen, \"ml. \")"
   ]
  },
  {
   "cell_type": "markdown",
   "metadata": {
    "slideshow": {
     "slide_type": "fragment"
    }
   },
   "source": [
    "To prevent this problem, `__slots__` come into play. Instead of a dynamic dictionary, slots provide a static structure that prevents further addition of attributes once an instance has been created."
   ]
  },
  {
   "cell_type": "markdown",
   "metadata": {
    "slideshow": {
     "slide_type": "fragment"
    }
   },
   "source": [
    "Slots are used by defining a list with all attributes in the class definition. This list is named `__slots__`."
   ]
  },
  {
   "cell_type": "markdown",
   "metadata": {
    "slideshow": {
     "slide_type": "subslide"
    }
   },
   "source": [
    "#### 8.8.2 Confusing methods and attributes"
   ]
  },
  {
   "cell_type": "markdown",
   "metadata": {
    "slideshow": {
     "slide_type": "fragment"
    }
   },
   "source": [
    "Leaving out the parentheses when calling a method does not necessarily result in a runtime error. In this case, the system supplies a string that describes the method object. This can lead to logical errors that are difficult to find."
   ]
  },
  {
   "cell_type": "code",
   "execution_count": null,
   "metadata": {
    "slideshow": {
     "slide_type": "fragment"
    }
   },
   "outputs": [],
   "source": [
    "# Example\n",
    "class Rechteck:\n",
    "    def __init__(self, laenge, breite):\n",
    "        self.laenge = laenge\n",
    "        self.breite = breite\n",
    "# the following method is defined contrary to convention\n",
    "    def flaeche(self):\n",
    "        return self.laenge*self.breite\n",
    "    \n",
    "a = Rechteck(2,1)\n",
    "b = Rechteck(1,2)\n",
    "# what does the following expression return?\n",
    "a.flaeche == b.flaeche\n"
   ]
  },
  {
   "cell_type": "markdown",
   "metadata": {
    "slideshow": {
     "slide_type": "slide"
    }
   },
   "source": [
    "### 8.9 Notes on programming style\n",
    "\n",
    "#### 8.9.1 Identifiers"
   ]
  },
  {
   "cell_type": "markdown",
   "metadata": {
    "slideshow": {
     "slide_type": "fragment"
    }
   },
   "source": [
    "- Names for *classes* are singular nouns with a capital letter, e.g. `File, Exception, Pickler, Money`\n",
    "\n",
    "- Names for *attributes* are nouns that begin with a lowercase letter (possibly after one or two underscores), e.g. `__name__, amount`\n",
    "\n",
    "- *methods* - like functions - are usually named with a verb that begins with a lowercase letter, e.g. `load(9, __add__(), calculateSum()`\n",
    "\n",
    "- Methods for reading and writing attribute values ​​are named according to the pattern `getAttribute` and `setAttribute`\n",
    "\n",
    "- *module names* consist of lowercase letters. The file name for a module is made up of the module name and the extension `.py`, e.g. `money.py, time.py, fibonacci.py`"
   ]
  },
  {
   "cell_type": "markdown",
   "metadata": {
    "slideshow": {
     "slide_type": "subslide"
    }
   },
   "source": [
    "#### 8.9.2 Visibility"
   ]
  },
  {
   "cell_type": "markdown",
   "metadata": {
    "slideshow": {
     "slide_type": "fragment"
    }
   },
   "source": [
    "The general rule is: a class should reveal as little as possible about its internal structure (&rarr; secret principle). Unless direct access from outside is necessary, attributes should be private. With public attributes, there is a risk that the object will end up in an inconsistent state. Classes with public attributes are therefore more prone to errors.\n",
    "\n",
    "Good programming style would therefore be to exclusively use private attributes and the *Setter* and *Getter* methods already mentioned.\n",
    "\n",
    "A modern alternative are the *Properties*, which were already covered in 8.3.4."
   ]
  },
  {
   "cell_type": "markdown",
   "metadata": {
    "slideshow": {
     "slide_type": "subslide"
    }
   },
   "source": [
    "#### 8.9.3 Documentation of classes"
   ]
  },
  {
   "cell_type": "markdown",
   "metadata": {
    "slideshow": {
     "slide_type": "fragment"
    }
   },
   "source": [
    "Classes should be provided with documentation string. This consists of a long character string between triple quotation marks or apostrophes) and is structured according to the following pattern:\n",
    "\n",
    "- the first line contains a short description of the class's task\n",
    "- a blank line follows\n",
    "- the public methods and attributes are listed and briefly described\n",
    "\n",
    "If the class is derived from a base class, this should be mentioned. Briefly explain the differences to the base class and point out which methods have been overwritten. Example in [8.6.2](#862-specialization-of-class-money)"
   ]
  },
  {
   "cell_type": "markdown",
   "metadata": {
    "slideshow": {
     "slide_type": "subslide"
    }
   },
   "source": [
    "#### 8.9.4 (Un-)Pythonic?"
   ]
  },
  {
   "cell_type": "markdown",
   "metadata": {
    "slideshow": {
     "slide_type": "fragment"
    }
   },
   "source": [
    "As we have already seen, there are different and syntactically different solutions for the same tasks. Some solutions are \"nicer\" than others, but which corresponds most closely to the standard programming style?"
   ]
  },
  {
   "cell_type": "markdown",
   "metadata": {
    "slideshow": {
     "slide_type": "fragment"
    }
   },
   "source": [
    "Finally, there is a reference to the three best-known *Python Style Guides*:\n",
    "\n",
    "1. [PEP 8](https://peps.python.org/pep-0008/) as a general guideline of the official Python documentation\n",
    "2. [Hitchhiker's Guide](https://docs.python-guide.org/) as a community based guideline/guide\n",
    "3. [Google Python Style Guide](https://google.github.io/styleguide/pyguide.html) official style guidelines for Python code published by Google"
   ]
  },
  {
   "cell_type": "markdown",
   "metadata": {
    "slideshow": {
     "slide_type": "fragment"
    }
   },
   "source": [
    "A *Pythonic* programming style is characterized, for example, by the use of decorators (see also the [Hitchhiker's Guide](https://docs.python-guide.org/writing/structure/#decorators))"
   ]
  },
  {
   "cell_type": "code",
   "execution_count": null,
   "metadata": {
    "slideshow": {
     "slide_type": "fragment"
    }
   },
   "outputs": [],
   "source": [
    "# Making TODO Pythonic: Example of static methods\n",
    "class Statistik:\n",
    "    \n",
    "    def mittelwert(s):                              \n",
    "        if s:                                       \n",
    "            return float(sum(s)) / len(s)\n",
    "\n",
    "    \n",
    "    def spannweite(s):\n",
    "# largest minus smallest number in the number list s\n",
    "        if s:\n",
    "            return max(s) - min(s)\n",
    "\n",
    "    \n",
    "    def median(s):\n",
    "        if s:\n",
    "            s1 = sorted(s)\n",
    "            if len(s) % 2 == 0:  # Länge ist gerade\n",
    "                return (s1[len(s)//2 - 1] + s1[len(s)//2]) / 2.0\n",
    "            else:\n",
    "                return s1[(len(s)-1)//2]\n",
    "\n",
    "    mittelwert = staticmethod(mittelwert)           \n",
    "    spannweite = staticmethod(spannweite)\n",
    "    median = staticmethod(median)\n",
    "\n",
    "\n",
    "s = [1, 4, 9, 11, 5]\n",
    "print(Statistik.mittelwert(s))\n",
    "print(Statistik.median(s))\n",
    "print(Statistik.spannweite(s))"
   ]
  },
  {
   "cell_type": "code",
   "execution_count": null,
   "metadata": {
    "slideshow": {
     "slide_type": "fragment"
    }
   },
   "outputs": [],
   "source": [
    "# Making TODO Pythonic: example class methods\n",
    "class Pet:\n",
    "    name = \"Haustiere\"\n",
    "\n",
    "    \n",
    "    def about(cls):\n",
    "        print(\"In dieser Klasse geht es um\", cls.name)\n",
    "\n",
    "    about = classmethod(about)\n",
    "\n",
    "class Dog(Pet):\n",
    "    name = \"Hunde\"\n",
    "\n",
    "class Cat(Pet):\n",
    "    name = \"Katzen\"\n",
    "\n",
    "p = Pet()\n",
    "p.about()\n",
    "d = Dog()\n",
    "d.about()\n",
    "c = Cat()\n",
    "c.about()"
   ]
  }
 ],
 "metadata": {
  "kernelspec": {
   "display_name": "Python 3 (ipykernel)",
   "language": "python",
   "name": "python3"
  },
  "language_info": {
   "codemirror_mode": {
    "name": "ipython",
    "version": 3
   },
   "file_extension": ".py",
   "mimetype": "text/x-python",
   "name": "python",
   "nbconvert_exporter": "python",
   "pygments_lexer": "ipython3",
   "version": "3.11.7"
  },
  "varInspector": {
   "cols": {
    "lenName": 16,
    "lenType": 16,
    "lenVar": 40
   },
   "kernels_config": {
    "python": {
     "delete_cmd_postfix": "",
     "delete_cmd_prefix": "del ",
     "library": "var_list.py",
     "varRefreshCmd": "print(var_dic_list())"
    },
    "r": {
     "delete_cmd_postfix": ") ",
     "delete_cmd_prefix": "rm(",
     "library": "var_list.r",
     "varRefreshCmd": "cat(var_dic_list()) "
    }
   },
   "types_to_exclude": [
    "module",
    "function",
    "builtin_function_or_method",
    "instance",
    "_Feature"
   ],
   "window_display": false
  }
 },
 "nbformat": 4,
 "nbformat_minor": 2
}
