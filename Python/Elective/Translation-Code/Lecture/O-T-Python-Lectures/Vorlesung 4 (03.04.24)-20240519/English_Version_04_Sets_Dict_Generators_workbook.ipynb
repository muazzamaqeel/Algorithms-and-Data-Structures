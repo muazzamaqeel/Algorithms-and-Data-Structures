{
 "cells": [
  {
   "cell_type": "markdown",
   "metadata": {
    "slideshow": {
     "slide_type": "slide"
    }
   },
   "source": [
    "### 4.3 Quantity"
   ]
  },
  {
   "cell_type": "markdown",
   "metadata": {
    "slideshow": {
     "slide_type": "fragment"
    }
   },
   "source": [
    "Sets (*sets*) are unordered collections with no duplicates that are iterable and mutable. They are also referred to as *iterable* and *mutable*. The elements of a set have no order and therefore no indices and are therefore not sequential data types."
   ]
  },
  {
   "cell_type": "markdown",
   "metadata": {
    "slideshow": {
     "slide_type": "fragment"
    }
   },
   "source": [
    "To make sets immutable (*immutable*), there is the data type `frozenset`.\n",
    "\n",
    "To create a set, you use curly brackets like in mathematics (alternatively with the keyword `set(...)`)"
   ]
  },
  {
   "cell_type": "code",
   "execution_count": null,
   "metadata": {
    "slideshow": {
     "slide_type": "fragment"
    }
   },
   "outputs": [],
   "source": [
    "# TODO example quantity\n"
   ]
  },
  {
   "cell_type": "markdown",
   "metadata": {
    "slideshow": {
     "slide_type": "fragment"
    }
   },
   "source": [
    "Common operators from mathematics: intersection `&`, union `|` and difference `-`"
   ]
  },
  {
   "cell_type": "code",
   "execution_count": null,
   "metadata": {
    "slideshow": {
     "slide_type": "fragment"
    }
   },
   "outputs": [],
   "source": [
    "# Set operators from mathematics\n",
    "m1 = set(\"Einstein\")\n",
    "m2 = set(\"Relativitaet\")\n",
    "print(m1 & m2)  # Schnittmenge\n",
    "print(m1 | m2)  # Vereinigung\n",
    "print(m1 - m2)  # Differenz"
   ]
  },
  {
   "cell_type": "markdown",
   "metadata": {
    "slideshow": {
     "slide_type": "subslide"
    }
   },
   "source": [
    "Methods for further operations on sets:\n",
    "\n",
    "| Methods|Description|\n",
    "|:----|:----|\n",
    "| `quantity.add(e)` | Inserts the element e into the set set as a new element |\n",
    "| `quantity.clear()` | Removes all elements from the set set |\n",
    "| `quantity.discard(e)` | The element e is removed from the set set. |\n",
    "| `quantity.copy()` | (Flat) copy of quantity quantity |\n",
    "| `quantity.difference(otherQuantity)` | = `quantity - otherQuantity` |\n",
    "| `quantity.intersection(otherQuantity)` | = `quantity & otherQuantity` |\n",
    "| `quantity.union(otherQuantity)` | = `quantity \\| otherQuantity` |"
   ]
  },
  {
   "cell_type": "markdown",
   "metadata": {
    "slideshow": {
     "slide_type": "subslide"
    }
   },
   "source": [
    "##### Set abstraction (*set comprehension*)\n",
    "\n",
    "Comparison of list and set abstraction using the algorithm \"[Sieb of Eratosthenes](https://de.wikipedia.org/wiki/Sieb_des_Eratosthenes#/media/File:Animation_Sieb_des_Eratosthenes_%C3%9Cberarbeit.gif)\" for determining the prime numbers of $2$ to $n$."
   ]
  },
  {
   "cell_type": "code",
   "execution_count": null,
   "metadata": {
    "slideshow": {
     "slide_type": "fragment"
    }
   },
   "outputs": [],
   "source": [
    "# Via list comprehension\n",
    "from math import sqrt\n",
    "n = 75\n",
    "sqrt_n = int(sqrt(n))\n",
    "no_primes = [j for i in range(2, sqrt_n) for j in range(i*2, n, i)]\n",
    "print(no_primes)\n",
    "primes = [i for i in range(2, n) if i not in no_primes]\n",
    "print(primes)"
   ]
  },
  {
   "cell_type": "code",
   "execution_count": null,
   "metadata": {
    "slideshow": {
     "slide_type": "fragment"
    }
   },
   "outputs": [],
   "source": [
    "# Via set comprehension\n",
    "from math import sqrt\n",
    "n = 75\n",
    "sqrt_n = int(sqrt(n))\n",
    "no_primes = {j for i in range(2, sqrt_n) for j in range(i*2, n, i)}\n",
    "print(no_primes)\n",
    "primes = {i for i in range(2, n) if i not in no_primes}\n",
    "print(primes)"
   ]
  },
  {
   "cell_type": "markdown",
   "metadata": {
    "slideshow": {
     "slide_type": "slide"
    }
   },
   "source": [
    "### 4.4 Dictionary"
   ]
  },
  {
   "cell_type": "markdown",
   "metadata": {
    "slideshow": {
     "slide_type": "fragment"
    }
   },
   "source": [
    "In addition to lists, *Dictionaries* are one of the most important data structures in Python. It is an *unordered collection of key-value pairs*. In programming languages ​​we also speak of an *associative field*."
   ]
  },
  {
   "cell_type": "markdown",
   "metadata": {
    "slideshow": {
     "slide_type": "fragment"
    }
   },
   "source": [
    "Inset: What is an *associative array (field)*?\n",
    "\n",
    "> An associative array is a data structure that, unlike an ordinary array, uses non-numeric (or non-consecutive) keys (usually character strings) to address the elements it contains. These are not saved in any specific order. Ideally, the keys are chosen so that there is a connection between the key and the data value that the programmers can understand."
   ]
  },
  {
   "cell_type": "markdown",
   "metadata": {
    "slideshow": {
     "slide_type": "fragment"
    }
   },
   "source": [
    "The keys (*keys*) may only be immutable (*immutable*) data types. The dictionaries themselves are *mutable*."
   ]
  },
  {
   "cell_type": "markdown",
   "metadata": {
    "slideshow": {
     "slide_type": "subslide"
    }
   },
   "source": [
    "The main methods of operations on dictionaries:\n",
    "\n",
    "| Methods|Description|\n",
    "|:----|:----|\n",
    "| `d.keys()` | Returns the keys of the dictionaries d |\n",
    "| `d.values()` | Returns the values ​​of the dictionary d |\n",
    "| `d.items()` | Returns a list of tuples. Each tuple contains a key-value pair from the dictionary d |\n",
    "| `d.has_key(k)` | Checks whether the key k is contained in the dictionary d |\n",
    "| `del d[k]` | Deletes the key-value pair with key k from the dictionary d |\n",
    "| `k in d` | Checks whether k is a key of the dictionary d |"
   ]
  },
  {
   "cell_type": "code",
   "execution_count": null,
   "metadata": {
    "slideshow": {
     "slide_type": "fragment"
    }
   },
   "outputs": [],
   "source": [
    "# Examples of dictionaries\n",
    "# In {} brackets like sets, single pairs separated by \",\", \":\" distinguishes dict from set\n",
    "waehrungen = {\"Deutschland\" : \"Euro\", \"Indien\" : \"Indische Rupie\", \n",
    "              \"Grossbritannien\" : \"Pfund Sterling\", \"Japan\" : \"Yen\", \n",
    "              \"Frankreich\" : \"Euro\"}\n",
    "\n",
    "# TODO Access an element via key\n",
    "\n",
    "\n",
    "# TODO \"Is key in Dictionary?\"\n",
    "\n",
    "# TODO output key\n",
    "\n",
    "# the same as:\n",
    "\n",
    "# TODO output values\n",
    "   \n",
    "# TODO output pairs\n",
    "\n"
   ]
  },
  {
   "cell_type": "markdown",
   "metadata": {
    "slideshow": {
     "slide_type": "subslide"
    }
   },
   "source": [
    "- Generate dictionary from lists: the `zip` function"
   ]
  },
  {
   "cell_type": "markdown",
   "metadata": {
    "slideshow": {
     "slide_type": "fragment"
    }
   },
   "source": [
    "The `zip()` function can be applied to any number of iterable objects and returns a zip object, which is a tuple iterator. First it returns a tuple with the first elements of the input objects, then the second, third and stops as soon as one of the iterable objects is used up."
   ]
  },
  {
   "cell_type": "code",
   "execution_count": null,
   "metadata": {
    "slideshow": {
     "slide_type": "fragment"
    }
   },
   "outputs": [],
   "source": [
    "# Example with numbers and letters\n",
    "einige_buchstaben = [\"a\", \"b\", \"c\", \"d\", \"e\", \"f\"]\n",
    "einige_zahlen = [5, 3, 7, 9, 11, 2]\n",
    "print(zip(einige_buchstaben, einige_zahlen))\n",
    "print(type(zip(einige_buchstaben, einige_zahlen)))\n",
    "for t in zip(einige_buchstaben, einige_zahlen):\n",
    "    print(t)\n",
    "\n"
   ]
  },
  {
   "cell_type": "code",
   "execution_count": null,
   "metadata": {
    "slideshow": {
     "slide_type": "fragment"
    }
   },
   "outputs": [],
   "source": [
    "# Example of input objects of different lengths\n",
    "ort = [\"Helgoland\", \"Kiel\", \"Berlin-Tegel\"]\n",
    "luftdruck = (1021.2, 1019.9, 1023.7, 1023.1, 1027.7)\n",
    "for ort, ld in zip(ort, luftdruck):\n",
    "    print(f\"Der Luftdruck in {ort} beträgt: {ld:7.1f}\")"
   ]
  },
  {
   "cell_type": "code",
   "execution_count": null,
   "metadata": {
    "slideshow": {
     "slide_type": "fragment"
    }
   },
   "outputs": [],
   "source": [
    "# TODO Dictionary from lists, example currencies\n",
    "l = [\"Deutschland\", \"Indien\", \"Großbritannien\", \"Japan\", \"Frankreich\"]\n",
    "w = [ \"Euro\", \"Indische Rupie\",\"Pfund Sterling\", \"Yen\", \"Euro\" ]\n",
    "\n"
   ]
  },
  {
   "cell_type": "markdown",
   "metadata": {
    "slideshow": {
     "slide_type": "slide"
    }
   },
   "source": [
    "### 4.5 Generators and Iterators"
   ]
  },
  {
   "cell_type": "markdown",
   "metadata": {
    "slideshow": {
     "slide_type": "fragment"
    }
   },
   "source": [
    "In addition to sequences (*sequential data types*) and sets, there are also *generators*. In contrast to the first two, data is not stored explicitly but is only created when required. Generators are therefore also referred to as *virtual collections*."
   ]
  },
  {
   "cell_type": "markdown",
   "metadata": {
    "slideshow": {
     "slide_type": "fragment"
    }
   },
   "source": [
    "The advantages are:\n",
    "\n",
    "- less storage space\n",
    "\n",
    "- more quickly"
   ]
  },
  {
   "cell_type": "markdown",
   "metadata": {
    "slideshow": {
     "slide_type": "fragment"
    }
   },
   "source": [
    "Consider the following list of ten items:"
   ]
  },
  {
   "cell_type": "code",
   "execution_count": null,
   "metadata": {
    "slideshow": {
     "slide_type": "fragment"
    }
   },
   "outputs": [],
   "source": [
    "s = [0, 1, 4, 9, 16, 25, 36, 49, 64, 81]"
   ]
  },
  {
   "cell_type": "markdown",
   "metadata": {
    "slideshow": {
     "slide_type": "fragment"
    }
   },
   "source": [
    "Each element is stored in memory and can be retrieved when needed. If it's never retrieved, it's still there, taking up space. Abstractly, this list could also be defined as follows:\n",
    "\n",
    "> *The sequence of all integer square numbers that are less than 100*"
   ]
  },
  {
   "cell_type": "markdown",
   "metadata": {
    "slideshow": {
     "slide_type": "fragment"
    }
   },
   "source": [
    "This means that the sequence is precisely defined without explicitly creating or naming a single element.\n",
    "\n",
    "Generators therefore correspond to a design specification that can be used to generate any element if necessary. They can be defined in two ways: *generator expressions* or *generator functions*."
   ]
  },
  {
   "cell_type": "markdown",
   "metadata": {
    "slideshow": {
     "slide_type": "subslide"
    }
   },
   "source": [
    "#### 4.5.1 Generator expressions"
   ]
  },
  {
   "cell_type": "markdown",
   "metadata": {
    "slideshow": {
     "slide_type": "fragment"
    }
   },
   "source": [
    "Generator expressions are very similar to *list comprehension*. Instead of square brackets, simply use *round* brackets. A generator expression for the above list could look like this:"
   ]
  },
  {
   "cell_type": "code",
   "execution_count": null,
   "metadata": {
    "slideshow": {
     "slide_type": "fragment"
    }
   },
   "outputs": [],
   "source": [
    "# TODO generator expression for list\n"
   ]
  },
  {
   "cell_type": "markdown",
   "metadata": {
    "slideshow": {
     "slide_type": "fragment"
    }
   },
   "source": [
    "Generator expressions are also often used to define sets and can be taken directly as an argument into the `set()` function:"
   ]
  },
  {
   "cell_type": "code",
   "execution_count": null,
   "metadata": {
    "slideshow": {
     "slide_type": "fragment"
    }
   },
   "outputs": [],
   "source": [
    "# TODO set definition with generator expression\n"
   ]
  },
  {
   "cell_type": "markdown",
   "metadata": {
    "slideshow": {
     "slide_type": "subslide"
    }
   },
   "source": [
    "#### 4.5.2 Generator functions"
   ]
  },
  {
   "cell_type": "markdown",
   "metadata": {
    "slideshow": {
     "slide_type": "fragment"
    }
   },
   "source": [
    "Generator functions are functions that return a generator object. They differ from normal functions in the `yield` statement. A generator function to produce square numbers from $0$ to $n-1$ is therefore:"
   ]
  },
  {
   "cell_type": "code",
   "execution_count": null,
   "metadata": {
    "slideshow": {
     "slide_type": "fragment"
    }
   },
   "outputs": [],
   "source": [
    "# TODO generator function\n"
   ]
  },
  {
   "cell_type": "markdown",
   "metadata": {
    "slideshow": {
     "slide_type": "fragment"
    }
   },
   "source": [
    "The following happens when `yield` is executed:"
   ]
  },
  {
   "cell_type": "markdown",
   "metadata": {
    "slideshow": {
     "slide_type": "fragment"
    }
   },
   "source": [
    "- Expression after `yield` is *returned* (same as `return`)\n",
    "- current function execution is *interrupted*\n",
    "- current state of the process belonging to the function is *noted*\n",
    "- when the next generator object is requested, the function *continues* after the `yield`"
   ]
  },
  {
   "cell_type": "markdown",
   "metadata": {
    "slideshow": {
     "slide_type": "fragment"
    }
   },
   "source": [
    "? In contrast to lists, you cannot read the elements to be created in any order, but only starting at the beginning in the specified order. The `next()` function returns the next element of the sequence generated by the generator."
   ]
  },
  {
   "cell_type": "code",
   "execution_count": null,
   "metadata": {
    "slideshow": {
     "slide_type": "fragment"
    }
   },
   "outputs": [],
   "source": [
    "# TODO another example on generators\n"
   ]
  },
  {
   "cell_type": "code",
   "execution_count": null,
   "metadata": {
    "slideshow": {
     "slide_type": "fragment"
    }
   },
   "outputs": [],
   "source": [
    "# Create and output the generator objects by executing this cell repeatedly\n",
    "next(gen_obj)"
   ]
  },
  {
   "cell_type": "markdown",
   "metadata": {
    "slideshow": {
     "slide_type": "subslide"
    }
   },
   "source": [
    "The special thing about generators is that you can use them to create infinite (virtual) collections, such as an infinite sequence of square numbers:"
   ]
  },
  {
   "cell_type": "code",
   "execution_count": null,
   "metadata": {
    "slideshow": {
     "slide_type": "fragment"
    }
   },
   "outputs": [],
   "source": [
    "def unendlicheQuadrate():\n",
    "    i = 1\n",
    "    while True:\n",
    "        yield i*i\n",
    "        i += 1\n",
    "\n",
    "quad = unendlicheQuadrate()"
   ]
  },
  {
   "cell_type": "code",
   "execution_count": null,
   "metadata": {
    "slideshow": {
     "slide_type": "fragment"
    }
   },
   "outputs": [],
   "source": [
    "next(quad)"
   ]
  },
  {
   "cell_type": "markdown",
   "metadata": {
    "slideshow": {
     "slide_type": "fragment"
    }
   },
   "source": [
    "The `islice` method from the module [`itertools`](https://docs.python.org/3/library/itertools.html#module-itertools):"
   ]
  },
  {
   "cell_type": "code",
   "execution_count": null,
   "metadata": {
    "slideshow": {
     "slide_type": "fragment"
    }
   },
   "outputs": [],
   "source": [
    "import itertools\n",
    "erstenFuenf = itertools.islice(unendlicheQuadrate(), 0, 5)      # liefert itertools.islice-Objekte\n",
    "list(erstenFuenf)"
   ]
  },
  {
   "cell_type": "markdown",
   "metadata": {
    "slideshow": {
     "slide_type": "subslide"
    }
   },
   "source": [
    "#### 4.5.3 Iteration"
   ]
  },
  {
   "cell_type": "markdown",
   "metadata": {
    "slideshow": {
     "slide_type": "fragment"
    }
   },
   "source": [
    "Iterators are special generators that control access to the elements of a collection or during an iteration, e.g. an iterator for a set gradually returns all the elements of the set."
   ]
  },
  {
   "cell_type": "markdown",
   "metadata": {
    "slideshow": {
     "slide_type": "fragment"
    }
   },
   "source": [
    "When calling the `next(iterator)` function, the iterator `iterator` of a collection returns an element. The standard function `iter()` returns an iterator for a sequence or other iterable object. You can also create multiple iterators for a sequence:"
   ]
  },
  {
   "cell_type": "code",
   "execution_count": null,
   "metadata": {
    "slideshow": {
     "slide_type": "fragment"
    }
   },
   "outputs": [],
   "source": [
    "# TODO Iteratoren\n",
    "l = [1, 2, 3, 4]\n"
   ]
  },
  {
   "cell_type": "code",
   "execution_count": null,
   "metadata": {
    "slideshow": {
     "slide_type": "fragment"
    }
   },
   "outputs": [],
   "source": [
    "# TODO call iterator 1\n"
   ]
  },
  {
   "cell_type": "code",
   "execution_count": null,
   "metadata": {
    "slideshow": {
     "slide_type": "fragment"
    }
   },
   "outputs": [],
   "source": [
    "# TODO call iterator 2\n"
   ]
  },
  {
   "cell_type": "markdown",
   "metadata": {
    "slideshow": {
     "slide_type": "fragment"
    }
   },
   "source": [
    "**Achtung**: *Iterator* vs. *Iterable* vs. *Iteration*"
   ]
  },
  {
   "cell_type": "markdown",
   "metadata": {
    "slideshow": {
     "slide_type": "subslide"
    }
   },
   "source": [
    "#### 4.5.4 Applications of generators"
   ]
  },
  {
   "cell_type": "markdown",
   "metadata": {
    "slideshow": {
     "slide_type": "fragment"
    }
   },
   "source": [
    "In general, it can be said that in programs with very large amounts of data, a lot of memory space can be saved by using generators because the objects are generated *just in time*. Some sequence operations are also applicable to generator objects (e.g. `min(), max(), in, not in`). However, only once, because once the elements of a collection have been retrieved, they are “used up”."
   ]
  },
  {
   "cell_type": "code",
   "execution_count": null,
   "metadata": {
    "slideshow": {
     "slide_type": "fragment"
    }
   },
   "outputs": [],
   "source": [
    "# Example 1 for random numbers\n",
    "import random\n",
    "zufall = (random.randint(0,100) for i in range(10))     # Generatorausdruck für zehn Zufallszahlen\n",
    "print(\"1. Verwendung\")\n",
    "for i in zufall:\n",
    "    print( i, end = \" \")    # 1. Verwendung\n",
    "print(\"\\n2. Verwendung\")\n",
    "for i in zufall:\n",
    "    print( i, end = \" \")    # 2. Verwendung\n",
    "\n"
   ]
  },
  {
   "cell_type": "code",
   "execution_count": null,
   "metadata": {
    "slideshow": {
     "slide_type": "fragment"
    }
   },
   "outputs": [],
   "source": [
    "# Example 2 for function values ​​of a parabola\n",
    "parabel = (x**2 - 2*x + 3 for x in range (-10,10))\n",
    "print(f\"Minimum = {min(parabel)}\") \n",
    "print(f\"Maximum = {max(parabel)}\")      # Fehler, da parabel leere Sequenz"
   ]
  },
  {
   "cell_type": "code",
   "execution_count": null,
   "metadata": {
    "slideshow": {
     "slide_type": "subslide"
    }
   },
   "outputs": [],
   "source": [
    "# recursive function to calculate the sum 1 to n\n",
    "def rekSum(n):\n",
    "    if n == 1:\n",
    "        return n\n",
    "    else:\n",
    "        return n + rekSum(n-1)\n",
    "    \n",
    "rekSum(2973)\n",
    "#rekSum(2974) # doesn't work anymore"
   ]
  },
  {
   "cell_type": "code",
   "execution_count": null,
   "metadata": {
    "slideshow": {
     "slide_type": "fragment"
    }
   },
   "outputs": [],
   "source": [
    "# Example 3: infinite sum generator\n",
    "def genSum(): \n",
    "    pass # TODO \n",
    "\n",
    "def ausgabeSumme(n, gen):\n",
    "    counter = 0\n",
    "    for x in gen:\n",
    "        counter += 1\n",
    "        if counter == n:\n",
    "            print(x)\n",
    "            break\n",
    "\n",
    "g = genSum()\n",
    "ausgabeSumme(10000, g)\n"
   ]
  },
  {
   "cell_type": "markdown",
   "metadata": {
    "slideshow": {
     "slide_type": "slide"
    }
   },
   "source": [
    "### 4.6 Deepening: Recursive functions for sequences"
   ]
  },
  {
   "cell_type": "markdown",
   "metadata": {
    "slideshow": {
     "slide_type": "fragment"
    }
   },
   "source": [
    "#### 4.6.1 Sum of all elements in a list\n",
    "\n",
    "Task: calculate the sum of the elements of a list of numbers\n",
    "\n",
    "Solution idea:\n",
    "- An empty list of numbers has a sum of zero.\n",
    "- Otherwise the sum is equal to the first number in the list plus the sum of the rest of the list (example: `sum([1, 2, 3]) = 1 + sum([2, 3])`)"
   ]
  },
  {
   "cell_type": "code",
   "execution_count": 12,
   "metadata": {
    "slideshow": {
     "slide_type": "fragment"
    }
   },
   "outputs": [],
   "source": [
    "# TODO Recursively sum a list\n",
    "def summe(liste):\n",
    "    pass # TODO\n",
    "    \n",
    "summe([2, 4, 6, 8, 10])"
   ]
  },
  {
   "cell_type": "markdown",
   "metadata": {
    "slideshow": {
     "slide_type": "subslide"
    }
   },
   "source": [
    "#### 4.6.2 Recursive search\n",
    "\n",
    "**Known**: `in` operator to check whether an element is included in a data structure.\n",
    "\n",
    "**Now**: Find all elements in a sequence `s` that have a certain property\n",
    "\n",
    "*Basic idea for recursive search algorithm*:\n",
    "- If the sequence `s` consists of only one element, check whether that one element corresponds to the required properties\n",
    "- If the sequence `s` consists of several elements, split `s` into two roughly equal parts `s1` and `s2`"
   ]
  },
  {
   "cell_type": "markdown",
   "metadata": {
    "slideshow": {
     "slide_type": "fragment"
    }
   },
   "source": [
    "In computer science, this algorithmic idea is also known as *divide and conquer*, after the famous saying of the Roman general Julius Caesar."
   ]
  },
  {
   "cell_type": "markdown",
   "metadata": {
    "slideshow": {
     "slide_type": "fragment"
    }
   },
   "source": [
    "Example with list of phone numbers with specific area code:"
   ]
  },
  {
   "cell_type": "code",
   "execution_count": null,
   "metadata": {
    "slideshow": {
     "slide_type": "fragment"
    }
   },
   "outputs": [],
   "source": [
    "# Recursive area code search\n",
    "nummernliste = ['0223 788834', '0201 566722', '0224 66898', '0201 899933', '0208 33987'] \n",
    "def suche(num, vorwahl):\n",
    "    if len(num) == 1:\n",
    "        if num[0][:len(vorwahl)] == vorwahl:    # 1\n",
    "            return num\n",
    "        else:\n",
    "            return []\n",
    "        \n",
    "    else:\n",
    "        return suche(num[:len(num)//2], vorwahl) + suche(num[len(num)//2:], vorwahl)    # 2\n",
    "    \n",
    "print(suche(nummernliste, '0201'))"
   ]
  },
  {
   "cell_type": "markdown",
   "metadata": {
    "slideshow": {
     "slide_type": "fragment"
    }
   },
   "source": [
    "**Explanation**:\n",
    "\n",
    "- #1: Elementary case: the list `num` consists only of one element `num[0]`, which in turn consists of a string. The slice `num[0][:len(vorwahl)]` is compared with the searched area code.\n",
    "\n",
    "- #2: If there is more than one element in the list `num`, it is split and two slices are formed. The limit is the index `len(num)/2`. The function is then called recursively on both slices."
   ]
  }
 ],
 "metadata": {
  "kernelspec": {
   "display_name": "Python 3 (ipykernel)",
   "language": "python",
   "name": "python3"
  },
  "language_info": {
   "codemirror_mode": {
    "name": "ipython",
    "version": 3
   },
   "file_extension": ".py",
   "mimetype": "text/x-python",
   "name": "python",
   "nbconvert_exporter": "python",
   "pygments_lexer": "ipython3",
   "version": "3.11.7"
  }
 },
 "nbformat": 4,
 "nbformat_minor": 2
}
