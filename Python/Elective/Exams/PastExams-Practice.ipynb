{
 "cells": [
  {
   "cell_type": "markdown",
   "metadata": {},
   "source": [
    "SS2017"
   ]
  },
  {
   "cell_type": "code",
   "execution_count": 5,
   "metadata": {},
   "outputs": [
    {
     "name": "stdout",
     "output_type": "stream",
     "text": [
      "Total Years: 33\n"
     ]
    }
   ],
   "source": [
    "x = 1000\n",
    "double_x = x * 2\n",
    "wait_years = 0\n",
    "interest = 2.14\n",
    "\n",
    "while x < double_x:\n",
    "    wait_years += 1\n",
    "    x += (x * interest) / 100\n",
    "\n",
    "print(\"Total Years: \" + str(wait_years))"
   ]
  },
  {
   "cell_type": "code",
   "execution_count": 6,
   "metadata": {},
   "outputs": [
    {
     "name": "stdout",
     "output_type": "stream",
     "text": [
      "python is awesome\n",
      "Hello, John\n",
      "Hello, george\n",
      "1 Is a number\n",
      "2 Is a number\n",
      "3 Is a number\n",
      "4 Is a number\n"
     ]
    }
   ],
   "source": [
    "# FROM THE SCRIPT\n",
    "\n",
    "print(\"python is awesome\")\n",
    "person = \"John\"\n",
    "print(\"Hello, \" + person)\n",
    "person = \"george\"\n",
    "print(\"Hello, \" + person)\n",
    "\n",
    "array = [1,2,3,4]\n",
    "\n",
    "for i in array:\n",
    "    print(i, \"Is a number\")\n",
    "\n",
    "\n"
   ]
  },
  {
   "cell_type": "code",
   "execution_count": 8,
   "metadata": {},
   "outputs": [
    {
     "name": "stdout",
     "output_type": "stream",
     "text": [
      "Please enter your name:\n"
     ]
    },
    {
     "data": {
      "text/plain": [
       "'Ali'"
      ]
     },
     "execution_count": 8,
     "metadata": {},
     "output_type": "execute_result"
    }
   ],
   "source": [
    "print(\"Please enter your name:\")\n",
    "x = input()\n",
    "x\n"
   ]
  },
  {
   "cell_type": "code",
   "execution_count": 12,
   "metadata": {},
   "outputs": [
    {
     "name": "stdout",
     "output_type": "stream",
     "text": [
      "Hello, World!\n",
      "Old data has been overwritten!\n",
      "Old data has been overwritten! This is an appended line\n"
     ]
    }
   ],
   "source": [
    "# Creating and writing to a file\n",
    "with open(\"demofile.txt\", \"w\") as f:\n",
    "    f.write(\"Hello, World!\")\n",
    "\n",
    "# Opening and reading a file\n",
    "with open(\"demofile.txt\", \"r\") as f:\n",
    "    print(f.read())\n",
    "\n",
    "# Writing to a file (overwriting)\n",
    "with open(\"demofile.txt\", \"w\") as f:\n",
    "    f.write(\"Old data has been overwritten!\")\n",
    "\n",
    "# Reading the overwritten file\n",
    "with open(\"demofile.txt\", \"r\") as f:\n",
    "    print(f.read())\n",
    "\n",
    "# Appending to a file\n",
    "with open(\"demofile.txt\", \"a\") as f:\n",
    "    f.write(\" This is an appended line\")\n",
    "\n",
    "# Reading the appended file\n",
    "with open(\"demofile.txt\", \"r\") as f:\n",
    "    print(f.read())\n"
   ]
  },
  {
   "cell_type": "code",
   "execution_count": 15,
   "metadata": {},
   "outputs": [
    {
     "name": "stdout",
     "output_type": "stream",
     "text": [
      "Hello world!"
     ]
    },
    {
     "ename": "AttributeError",
     "evalue": "'OutStream' object has no attribute 'input'",
     "output_type": "error",
     "traceback": [
      "\u001b[1;31m---------------------------------------------------------------------------\u001b[0m",
      "\u001b[1;31mAttributeError\u001b[0m                            Traceback (most recent call last)",
      "Cell \u001b[1;32mIn[15], line 3\u001b[0m\n\u001b[0;32m      1\u001b[0m \u001b[38;5;28;01mimport\u001b[39;00m \u001b[38;5;21;01msys\u001b[39;00m\n\u001b[0;32m      2\u001b[0m sys\u001b[38;5;241m.\u001b[39mstdout\u001b[38;5;241m.\u001b[39mwrite(\u001b[38;5;124m\"\u001b[39m\u001b[38;5;124mHello world!\u001b[39m\u001b[38;5;124m\"\u001b[39m)\n\u001b[1;32m----> 3\u001b[0m \u001b[43msys\u001b[49m\u001b[38;5;241;43m.\u001b[39;49m\u001b[43mstderr\u001b[49m\u001b[38;5;241;43m.\u001b[39;49m\u001b[43minput\u001b[49m(\u001b[38;5;124m\"\u001b[39m\u001b[38;5;124mThis is an error message\u001b[39m\u001b[38;5;124m\"\u001b[39m)\n",
      "\u001b[1;31mAttributeError\u001b[0m: 'OutStream' object has no attribute 'input'"
     ]
    }
   ],
   "source": [
    "import sys\n",
    "sys.stdout.write(\"Hello world!\")\n",
    "sys.stderr.input(\"This is an error message\")"
   ]
  },
  {
   "cell_type": "code",
   "execution_count": 24,
   "metadata": {},
   "outputs": [
    {
     "name": "stdout",
     "output_type": "stream",
     "text": [
      "USD 300\n",
      "USD -100\n",
      "False\n",
      "False\n"
     ]
    }
   ],
   "source": [
    "class Money:\n",
    "    def __init__(self, curr, amt):\n",
    "        self.curr = curr      # Public attribute\n",
    "        self.__amt = amt  # Private attribute\n",
    "        self._zb = None           # Define the protected attribute 'zb'\n",
    "    def __str__(self):\n",
    "        return self.curr + \" \" + str(self.__amt)\n",
    "    def __add__(self, other):\n",
    "        if self.curr == other.curr:\n",
    "            return Money(self.curr, self.__amt + other.__amt)  \n",
    "        else:\n",
    "            raise Exception(\"Currencies do not match\")\n",
    "    def __sub__(self, other):\n",
    "        if self.curr == other.curr:\n",
    "            return Money(self.curr, self.__amt - other.__amt)  \n",
    "        else:\n",
    "            raise Exception(\"Currencies do not match\")\n",
    "    def __eq__(self, other):\n",
    "        return self.curr == other.curr and self.__amt == other.__amt\n",
    "    def get_amount(self):\n",
    "        return self.__amt\n",
    "# Test the Money class with shortened variable names\n",
    "money1 = Money(\"USD\", 100)\n",
    "money2 = Money(\"USD\", 200)\n",
    "money3 = Money(\"EUR\", 100)\n",
    "print(money1 + money2)  # Output: USD 300\n",
    "print(money1 - money2)  # Output: USD -100\n",
    "print(money1 == money2) # Output: False\n",
    "print(money1 == money3) # Output: False\n",
    "        \n"
   ]
  },
  {
   "cell_type": "code",
   "execution_count": null,
   "metadata": {},
   "outputs": [],
   "source": []
  }
 ],
 "metadata": {
  "kernelspec": {
   "display_name": "Python 3",
   "language": "python",
   "name": "python3"
  },
  "language_info": {
   "codemirror_mode": {
    "name": "ipython",
    "version": 3
   },
   "file_extension": ".py",
   "mimetype": "text/x-python",
   "name": "python",
   "nbconvert_exporter": "python",
   "pygments_lexer": "ipython3",
   "version": "3.11.3"
  }
 },
 "nbformat": 4,
 "nbformat_minor": 2
}
