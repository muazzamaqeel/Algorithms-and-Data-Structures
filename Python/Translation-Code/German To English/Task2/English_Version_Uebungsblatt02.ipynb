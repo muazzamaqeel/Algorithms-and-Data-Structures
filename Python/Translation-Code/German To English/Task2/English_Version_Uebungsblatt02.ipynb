{
 "cells": [
  {
   "cell_type": "markdown",
   "metadata": {},
   "source": [
    "# Exercise sheet 02\n",
    "## Task 1\n",
    "\n",
    "Define a function `compare(x,y,exactly)` that compares the two floating point numbers `x` and `y` and judges whether they are `exactly` the same within the tolerance parameter. It should return a boolean function value:\n",
    "$$compare(x,y,exact) = \\left\\{\n",
    "\\begin{array}{ll}\n",
    "True & if \\quad |x-y|< exactly \\\\\n",
    "False & \\, \\mathrm{else} \\\\\n",
    "\\end{array}\n",
    "\\right. $$\n",
    "\n",
    "In the main program, `compare(...)` should be called with predefined numbers and output should be made via `print()`. e.g.:\n",
    "- for the parameters (1, 1.1, 0.2):\n",
    "```python\n",
    "Approximately the same\n",
    "```\n",
    "- for the parameters (0.9, 1.3, 0.1):\n",
    "```python\n",
    "NOT nearly the same\n",
    "```"
   ]
  },
  {
   "cell_type": "code",
   "execution_count": null,
   "metadata": {},
   "outputs": [],
   "source": [
    "# TODO task 1a) Classic function declaration\n",
    "x,y,exactly=0\n",
    "\n",
    "def compare(x,y,exactly):\n",
    "    return abs(x-y) < exactly\n",
    "\n",
    "#Main Program\n",
    "\n",
    "\n",
    "        \n"
   ]
  },
  {
   "cell_type": "code",
   "execution_count": null,
   "metadata": {},
   "outputs": [],
   "source": [
    "# TODO task 1b) using the lambda format"
   ]
  },
  {
   "cell_type": "markdown",
   "metadata": {},
   "source": [
    "## Exercise 2\n",
    "\n",
    "Define a function `initials(...)` that is called with an **arbitrary** number of string parameters and whose value is a string with the initials of the person passed.\n",
    "\n",
    "Examples: \\\n",
    "initials(\"Helmut\", \"Kohl\") &rarr; \"HK\"\n",
    "initials(\"Hugo\", \"Egon\", \"Balder\") &rarr; \"HEB\"\n",
    "initials(\"Johan\", \"Riley\", \"Fyodor\", \"Taiwo\", \"Samuel\", \"Klum\") &rarr; \"JRFTSK\""
   ]
  },
  {
   "cell_type": "code",
   "execution_count": null,
   "metadata": {},
   "outputs": [],
   "source": [
    "# TODO task 2"
   ]
  },
  {
   "cell_type": "markdown",
   "metadata": {},
   "source": [
    "## Task 3\n",
    "\n",
    "A previously used data compression method is to send only the 15 most common characters and suppress all others. These are:\n",
    "\n",
    "A, C, D, E, F, H, I, L, N, O , R, S, T, U, space\n",
    "\n",
    "Define a function `compress(text)` that compresses a string passed in uppercase according to this scheme and returns it as a function value.\n",
    "Example: BEER GARDEN AT EIGHT &rarr; SPECIES OF ANIMAL EIGHT"
   ]
  },
  {
   "cell_type": "code",
   "execution_count": null,
   "metadata": {},
   "outputs": [],
   "source": [
    "# TODO task 3\n"
   ]
  },
  {
   "cell_type": "markdown",
   "metadata": {},
   "source": [
    "## Task 4\n",
    "\n",
    "Known from the last exercise sheet:\n",
    "\n",
    "\n",
    "To calculate $\\sqrt{a}$ the following sequence of numbers can be used:\n",
    "\n",
    "$$ x_{n+1} = \\frac{1}{2} (x_n + \\frac{a}{x_n}) $$\n",
    "\n",
    "with $$ x_0 = \\frac{a + 1}{2}$$\n",
    "\n",
    "This time, write a **recursive** function `root(...)` with two arguments:\n",
    "- `a`: is the number whose root is to be calculated (required)\n",
    "- `n`: is the number of recursive calls (optional, default = 10)\n",
    "\n",
    "Example calls:\n",
    "```python\n",
    ">>> root(2, 3)\n",
    "1.4142156862745097\n",
    ">>> root(2)\n",
    "1.414213562373095\n",
    "```"
   ]
  },
  {
   "cell_type": "code",
   "execution_count": null,
   "metadata": {},
   "outputs": [],
   "source": [
    "# TODO task 4"
   ]
  },
  {
   "cell_type": "markdown",
   "metadata": {},
   "source": [
    "### Additional task for task 4:\n",
    "\n",
    "If you call `root(2,25)`, how long does it take to execute? How long would `root(2.2700)` take then? (Do not try if `root(2,25)` has already taken several seconds!)\n",
    "\n",
    "Think about why this could be and try to optimize the recursive function so that you can use the entire recursion depth if possible, so that a call to `root(2,2700)` only takes a few milliseconds."
   ]
  },
  {
   "cell_type": "code",
   "execution_count": null,
   "metadata": {},
   "outputs": [],
   "source": [
    "# TODO optimization of your solution from task 4"
   ]
  }
 ],
 "metadata": {
  "kernelspec": {
   "display_name": "Python 3 (ipykernel)",
   "language": "python",
   "name": "python3"
  },
  "language_info": {
   "codemirror_mode": {
    "name": "ipython",
    "version": 3
   },
   "file_extension": ".py",
   "mimetype": "text/x-python",
   "name": "python",
   "nbconvert_exporter": "python",
   "pygments_lexer": "ipython3",
   "version": "3.11.7"
  }
 },
 "nbformat": 4,
 "nbformat_minor": 2
}
