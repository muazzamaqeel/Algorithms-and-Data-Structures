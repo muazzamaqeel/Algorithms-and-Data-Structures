{
 "cells": [
  {
   "cell_type": "markdown",
   "metadata": {},
   "source": [
    "# Exercise sheet 06\n",
    "\n",
    "## Task 1\n",
    "\n",
    "You are given three small Python programs from the 4th lecture. All of them produce an exception.\n",
    "\n",
    "Modify the programs to catch the exceptions and provide a description of the error."
   ]
  },
  {
   "cell_type": "code",
   "execution_count": 7,
   "metadata": {},
   "outputs": [
    {
     "name": "stdout",
     "output_type": "stream",
     "text": [
      "Vor dem ersten Yield\n",
      "1\n",
      "2\n",
      "3\n",
      "Kein weiteres Yield\n",
      "Alle Werte wurden bereits generiert\n"
     ]
    }
   ],
   "source": [
    "# a) from 4.5.2: simple generator function\n",
    "def simpleGenerator():\n",
    "    x = 1\n",
    "    print(\"Vor dem ersten Yield\")\n",
    "    yield x\n",
    "    x = 2\n",
    "    yield x\n",
    "    x = 3\n",
    "    yield x\n",
    "    print(\"Kein weiteres Yield\")\n",
    "\n",
    "gen_obj = simpleGenerator()\n",
    "\n",
    "for i in range(10):\n",
    "    try:\n",
    "        value = next(gen_obj)\n",
    "        print(value)\n",
    "    except StopIteration:\n",
    "        print(\"Alle Werte wurden bereits generiert\")\n",
    "        break"
   ]
  },
  {
   "cell_type": "code",
   "execution_count": 8,
   "metadata": {},
   "outputs": [
    {
     "name": "stdout",
     "output_type": "stream",
     "text": [
      "Minimum = 2\n",
      "Maximum = 123\n"
     ]
    }
   ],
   "source": [
    "# b) from 4.5.4: for function values ​​of a parabola\n",
    "try:\n",
    "    parabel = [x**2 - 2*x + 3 for x in range(-10, 10)]\n",
    "    print(f\"Minimum = {min(parabel)}\")\n",
    "    print(f\"Maximum = {max(parabel)}\")\n",
    "except Exception as e:\n",
    "    print(f\"An error occurred: {e}\")\n",
    "  "
   ]
  },
  {
   "cell_type": "code",
   "execution_count": 9,
   "metadata": {},
   "outputs": [
    {
     "name": "stdout",
     "output_type": "stream",
     "text": [
      "1125750\n"
     ]
    }
   ],
   "source": [
    "# c) from 4.5.4: recursive function to calculate the sum 1 to n\n",
    "import sys\n",
    "\n",
    "def rekSum(n):\n",
    "    if n == 1:\n",
    "        return n\n",
    "    else:\n",
    "        return n + rekSum(n-1)\n",
    "\n",
    "try:\n",
    "    print(rekSum(1500))\n",
    "except RecursionError:\n",
    "    print(\"Recursion limit reached.\")\n",
    "except Exception as e:\n",
    "    print(f\"An error occurred: {e}\")"
   ]
  },
  {
   "cell_type": "code",
   "execution_count": 10,
   "metadata": {},
   "outputs": [
    {
     "name": "stdout",
     "output_type": "stream",
     "text": [
      "1125750\n"
     ]
    }
   ],
   "source": [
    "import sys\n",
    "\n",
    "def rekSum(n):\n",
    "    try:\n",
    "        if n == 1:\n",
    "            return n\n",
    "        else:\n",
    "            return n + rekSum(n - 1)\n",
    "    except RecursionError:\n",
    "        print(\"Recursion limit reached.\")\n",
    "    except Exception as e:\n",
    "        print(f\"An error occurred: {e}\")\n",
    "        return None\n",
    "\n",
    "result = rekSum(1500)\n",
    "if result is not None:\n",
    "    print(result)"
   ]
  },
  {
   "cell_type": "markdown",
   "metadata": {},
   "source": [
    "## Exercise 2\n",
    "\n",
    "Write a function that solves quadratic equations of the form $x^2+px+q=0$ for real numbers, provided they are solvable. The arguments are `p` and `q`. The solution set is returned as a tuple `(x1, x2)`.\n",
    "\n",
    "The function is intended to test pre- and post-conditions and generate an exception if they are not met:\n",
    "\n",
    "- Precondition: $(p/2)^2-q >= 0$\n",
    "- Postcondition: All values ​​from the solution set `(x1, x2)` should satisfy the equation $x^2+px+q=0$\n",
    "\n",
    "Note: the quadratic equation has the solutions:\n",
    "\n",
    "$x1 = -p/2 + \\sqrt{(p/2)^2 - q}$\n",
    "\n",
    "$x2 = -p/2 - \\sqrt{(p/2)^2 - q}$"
   ]
  },
  {
   "cell_type": "code",
   "execution_count": 11,
   "metadata": {},
   "outputs": [
    {
     "ename": "AssertionError",
     "evalue": "",
     "output_type": "error",
     "traceback": [
      "\u001b[1;31m---------------------------------------------------------------------------\u001b[0m",
      "\u001b[1;31mAssertionError\u001b[0m                            Traceback (most recent call last)",
      "Cell \u001b[1;32mIn[11], line 15\u001b[0m\n\u001b[0;32m     12\u001b[0m                 \u001b[38;5;28;01mraise\u001b[39;00m \u001b[38;5;167;01mException\u001b[39;00m(\u001b[38;5;124m\"\u001b[39m\u001b[38;5;124mError calculating the roots: \u001b[39m\u001b[38;5;124m\"\u001b[39m \u001b[38;5;241m+\u001b[39m \u001b[38;5;28mstr\u001b[39m(e))\n\u001b[0;32m     14\u001b[0m quad(\u001b[38;5;241m1\u001b[39m,\u001b[38;5;241m-\u001b[39m\u001b[38;5;241m8\u001b[39m,\u001b[38;5;241m15\u001b[39m)\n\u001b[1;32m---> 15\u001b[0m \u001b[43mquad\u001b[49m\u001b[43m(\u001b[49m\u001b[38;5;241;43m1\u001b[39;49m\u001b[43m,\u001b[49m\u001b[38;5;241;43m1\u001b[39;49m\u001b[43m,\u001b[49m\u001b[38;5;241;43m1\u001b[39;49m\u001b[43m)\u001b[49m\n",
      "Cell \u001b[1;32mIn[11], line 5\u001b[0m, in \u001b[0;36mquad\u001b[1;34m(a, b, c)\u001b[0m\n\u001b[0;32m      4\u001b[0m \u001b[38;5;28;01mdef\u001b[39;00m \u001b[38;5;21mquad\u001b[39m(a,b,c):\n\u001b[1;32m----> 5\u001b[0m         \u001b[38;5;28;01massert\u001b[39;00m (b \u001b[38;5;241m/\u001b[39m \u001b[38;5;241m2\u001b[39m) \u001b[38;5;241m*\u001b[39m\u001b[38;5;241m*\u001b[39m \u001b[38;5;241m2\u001b[39m \u001b[38;5;241m-\u001b[39m c \u001b[38;5;241m>\u001b[39m\u001b[38;5;241m=\u001b[39m \u001b[38;5;241m0\u001b[39m\n\u001b[0;32m      7\u001b[0m         \u001b[38;5;28;01mtry\u001b[39;00m:\n\u001b[0;32m      8\u001b[0m                 x1\u001b[38;5;241m=\u001b[39m(\u001b[38;5;241m-\u001b[39mb\u001b[38;5;241m+\u001b[39msqrt(b\u001b[38;5;241m*\u001b[39m\u001b[38;5;241m*\u001b[39m\u001b[38;5;241m2\u001b[39m\u001b[38;5;241m-\u001b[39m\u001b[38;5;241m4\u001b[39m\u001b[38;5;241m*\u001b[39ma\u001b[38;5;241m*\u001b[39mc))\u001b[38;5;241m/\u001b[39m(\u001b[38;5;241m2\u001b[39m\u001b[38;5;241m*\u001b[39ma)\n",
      "\u001b[1;31mAssertionError\u001b[0m: "
     ]
    }
   ],
   "source": [
    "# TODO task 2\n",
    "from math import sqrt\n",
    "\n",
    "def quad(a,b,c):\n",
    "        assert (b / 2) ** 2 - c >= 0\n",
    "\n",
    "        try:\n",
    "                x1=(-b+sqrt(b**2-4*a*c))/(2*a)\n",
    "                x2=(-b-sqrt(b**2-4*a*c))/(2*a)\n",
    "                return x1,x2\n",
    "        except ValueError as e: \n",
    "                raise Exception(\"Error calculating the roots: \" + str(e))\n",
    "        \n",
    "quad(1,-8,15)\n",
    "quad(1,1,1)\n",
    "\n",
    "\n"
   ]
  },
  {
   "cell_type": "markdown",
   "metadata": {},
   "source": [
    "## Task 3\n",
    "\n",
    "Write a function that breaks real integers into their prime factors. The argument of the function is `number`. The return value is a list - starting with 1, even if that is not a prime number, with the prime factors.\n",
    "\n",
    "The function is intended to test pre- and post-conditions and generate an exception if they are not met:\n",
    "\n",
    "- Prerequisite: `number` is of type `int` and greater than 0\n",
    "- Postcondition: The product of all prime numbers must result in `number` again\n",
    "\n",
    "Example output:\n",
    "\n",
    "```python\n",
    ">>> primfak(13)\n",
    "[1, 13]\n",
    ">>> primfak(120)\n",
    "[1, 2, 2, 2, 3, 5]\n",
    ">>> primfak(-2)\n",
    "-------------------------------------------------- -------------------------\n",
    "AssertionError Traceback (most recent call last)\n",
    "```"
   ]
  },
  {
   "cell_type": "code",
   "execution_count": null,
   "metadata": {},
   "outputs": [
    {
     "data": {
      "text/plain": [
       "[2, 2, 5, 5]"
      ]
     },
     "execution_count": 30,
     "metadata": {},
     "output_type": "execute_result"
    }
   ],
   "source": [
    "# TODO task 3\n",
    "def prime_factors(n):\n",
    "\n",
    "    assert not isinstance(n, int) or n > 0\n",
    "    try:\n",
    "        i = 2 \n",
    "        factors = [] \n",
    "        while i * i <= n:\n",
    "            if n % i:\n",
    "                i += 1\n",
    "            else:\n",
    "                n //= i\n",
    "                factors.append(i)\n",
    "        if n > 1:\n",
    "            factors.append(n)\n",
    "        \n",
    "        return factors\n",
    "    except ValueError as e: \n",
    "            raise Exception(\"Error: \" + str(e))\n",
    "        \n",
    "    \n",
    "\n",
    "prime_factors(100)\n",
    "\n"
   ]
  },
  {
   "cell_type": "markdown",
   "metadata": {},
   "source": [
    "## Task 4\n",
    "\n",
    "In the following task you will see a more extensive package. This is supposed to be a hypothetical `sound` module:\n",
    "\n",
    "```python\n",
    "sound\n",
    "|-- effects\n",
    "| |-- echo.py\n",
    "| |-- __init__.py\n",
    "| |-- reverse.py\n",
    "| |-- surround.py\n",
    "|-- filters\n",
    "| |-- equalizer.py\n",
    "| |-- __init__.py\n",
    "| |-- karaoke.py\n",
    "| |-- vocoder.py\n",
    "|-- formats\n",
    "| |-- aiffread.py\n",
    "| |-- aiffwrite.py\n",
    "| |-- auread.py\n",
    "| |-- auwrite.py\n",
    "| |-- __init__.py\n",
    "| |-- wavread.py\n",
    "| |-- wavwrite.py\n",
    "|-- __init__.py\n",
    "```\n",
    "\n",
    "- Load and unpack the zip file in your working directory"
   ]
  },
  {
   "cell_type": "code",
   "execution_count": null,
   "metadata": {},
   "outputs": [],
   "source": [
    "# It's best to restart the kernel first!\n",
    "# 1. TODO Import the sound module and check which modules have been loaded\n",
    "\n",
    "import tarfile\n",
    "#file_path = 'C:\\\\Users\\\\muazz\\\\Downloads\\\\Übung 6-20240417\\\\sound.tar.bz2'\n",
    "\n",
    "#with tarfile.open(file_path, 'r:bz2') as file:\n",
    "    # Extract its contents into the specified directory\n",
    "    #file.extractall(path=\"C:\\\\Users\\\\muazz\\\\Downloads\\\\Übung 6-20240417\\\\ExtractedFiles\")\n",
    "\n"
   ]
  },
  {
   "cell_type": "markdown",
   "metadata": {},
   "source": [
    "Now try to access the `effects` module. What is happening and why?"
   ]
  },
  {
   "cell_type": "code",
   "execution_count": 22,
   "metadata": {},
   "outputs": [
    {
     "name": "stdout",
     "output_type": "stream",
     "text": [
      "sound package is getting imported!\n",
      "effects package is getting imported!\n"
     ]
    }
   ],
   "source": [
    "#2. TODO attempt to access sound.effects\n",
    "\n",
    "import sound.effects\n"
   ]
  },
  {
   "cell_type": "markdown",
   "metadata": {},
   "source": [
    "Now try to import the `effects` module directly and then access it."
   ]
  },
  {
   "cell_type": "code",
   "execution_count": 46,
   "metadata": {},
   "outputs": [],
   "source": [
    "#3. Import and access TODO effects\n",
    "import effects\n"
   ]
  },
  {
   "cell_type": "markdown",
   "metadata": {},
   "source": [
    "- Restart the kernel so that the loaded modules are reset\n",
    "- Modify the package/package contents so that the `effect` module is automatically loaded when importing the parent `sound` module"
   ]
  },
  {
   "cell_type": "code",
   "execution_count": 48,
   "metadata": {},
   "outputs": [],
   "source": [
    "# 4. TODO Automatic import of effects when importing sound\n",
    "from sound import effects\n"
   ]
  },
  {
   "cell_type": "markdown",
   "metadata": {},
   "source": [
    "- Next, when importing `effects`, the `filters` subpackage and its `karaoke` module should be automatically reloaded\n",
    "- First restart the kernel again\n",
    "- Modify the package/package contents accordingly\n",
    "- Test the loaded module by calling `func1()` of the `karaoke` module"
   ]
  },
  {
   "cell_type": "code",
   "execution_count": 47,
   "metadata": {},
   "outputs": [
    {
     "name": "stdout",
     "output_type": "stream",
     "text": [
      "formats package is getting imported!\n"
     ]
    }
   ],
   "source": [
    "# 5. TODO Automatic import of formats when importing effects\n",
    "from sound import formats\n"
   ]
  },
  {
   "cell_type": "markdown",
   "metadata": {},
   "source": [
    "- `from modul import *`: The last option is a star import. The star serves as a placeholder and signals that the module in question should be imported completely. At first glance this is convenient because you no longer have to write the module name in front of the functions etc. The disadvantage is that existing objects (functions, classes, etc.) can be overwritten unnoticed."
   ]
  },
  {
   "cell_type": "markdown",
   "metadata": {},
   "source": [
    "Finally, another option for automatically importing subpackages will be considered.\n",
    "\n",
    "- Restart the kernel\n",
    "- Unzip the `sound` module again and save it under the name `sound2` in your working directory\n",
    "- Try importing \"everything\" from the `sound2` module using the `*` operator\n",
    "\n",
    "What did you notice?"
   ]
  },
  {
   "cell_type": "code",
   "execution_count": 49,
   "metadata": {},
   "outputs": [],
   "source": [
    "#6. TODO everything import with * operator\n",
    "from sound import *"
   ]
  },
  {
   "cell_type": "markdown",
   "metadata": {},
   "source": [
    "Automatic reloading can be achieved using a package index. To do this, a list called `__all__` must be defined in the package's `__init__.py` file.\n",
    "\n",
    "- In the `__init__.py` file of the `sound2` module, write a corresponding list with the contents: `\"formats\", \"filters\", \"effects\", \"foobar\"`\n",
    "- Restart the kernel and execute the 6th TODO again\n",
    "\n",
    "If implementation is successful, all specified submodules will be reloaded when importing via the `*` operator."
   ]
  },
  {
   "cell_type": "code",
   "execution_count": 50,
   "metadata": {},
   "outputs": [],
   "source": [
    "#7. TODO definition of __all__ list\n",
    "__all__ = [\"echo\", \"reverse\", \"surround\"]\n"
   ]
  }
 ],
 "metadata": {
  "kernelspec": {
   "display_name": "Python 3 (ipykernel)",
   "language": "python",
   "name": "python3"
  },
  "language_info": {
   "codemirror_mode": {
    "name": "ipython",
    "version": 3
   },
   "file_extension": ".py",
   "mimetype": "text/x-python",
   "name": "python",
   "nbconvert_exporter": "python",
   "pygments_lexer": "ipython3",
   "version": "3.11.3"
  },
  "varInspector": {
   "cols": {
    "lenName": 16,
    "lenType": 16,
    "lenVar": 40
   },
   "kernels_config": {
    "python": {
     "delete_cmd_postfix": "",
     "delete_cmd_prefix": "del ",
     "library": "var_list.py",
     "varRefreshCmd": "print(var_dic_list())"
    },
    "r": {
     "delete_cmd_postfix": ") ",
     "delete_cmd_prefix": "rm(",
     "library": "var_list.r",
     "varRefreshCmd": "cat(var_dic_list()) "
    }
   },
   "types_to_exclude": [
    "module",
    "function",
    "builtin_function_or_method",
    "instance",
    "_Feature"
   ],
   "window_display": false
  }
 },
 "nbformat": 4,
 "nbformat_minor": 2
}
