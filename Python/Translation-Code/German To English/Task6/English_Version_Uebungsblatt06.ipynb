{
 "cells": [
  {
   "cell_type": "markdown",
   "metadata": {},
   "source": [
    "# Exercise sheet 06\n",
    "\n",
    "## Task 1\n",
    "\n",
    "You are given three small Python programs from the 4th lecture. All of them produce an exception.\n",
    "\n",
    "Modify the programs to catch the exceptions and provide a description of the error."
   ]
  },
  {
   "cell_type": "code",
   "execution_count": 4,
   "metadata": {},
   "outputs": [
    {
     "name": "stdout",
     "output_type": "stream",
     "text": [
      "Vor dem ersten Yield\n",
      "1\n",
      "2\n",
      "3\n",
      "Kein weiteres Yield\n",
      "Alle Werte wurden bereits generiert\n"
     ]
    }
   ],
   "source": [
    "# a) from 4.5.2: simple generator function\n",
    "def simpleGenerator():\n",
    "    x = 1\n",
    "    print(\"Vor dem ersten Yield\")\n",
    "    yield x\n",
    "    x = 2\n",
    "    yield x\n",
    "    x = 3\n",
    "    yield x\n",
    "    print(\"Kein weiteres Yield\")\n",
    "\n",
    "gen_obj = simpleGenerator()\n",
    "\n",
    "for i in range(10):\n",
    "    try:\n",
    "        value = next(gen_obj)\n",
    "        print(value)\n",
    "    except StopIteration:\n",
    "        print(\"Alle Werte wurden bereits generiert\")\n",
    "        break"
   ]
  },
  {
   "cell_type": "code",
   "execution_count": 5,
   "metadata": {},
   "outputs": [
    {
     "name": "stdout",
     "output_type": "stream",
     "text": [
      "Minimum = 2\n"
     ]
    },
    {
     "ename": "ValueError",
     "evalue": "max() arg is an empty sequence",
     "output_type": "error",
     "traceback": [
      "\u001b[1;31m---------------------------------------------------------------------------\u001b[0m",
      "\u001b[1;31mValueError\u001b[0m                                Traceback (most recent call last)",
      "Cell \u001b[1;32mIn[5], line 4\u001b[0m\n\u001b[0;32m      2\u001b[0m parabel \u001b[38;5;241m=\u001b[39m (x\u001b[38;5;241m*\u001b[39m\u001b[38;5;241m*\u001b[39m\u001b[38;5;241m2\u001b[39m \u001b[38;5;241m-\u001b[39m \u001b[38;5;241m2\u001b[39m\u001b[38;5;241m*\u001b[39mx \u001b[38;5;241m+\u001b[39m \u001b[38;5;241m3\u001b[39m \u001b[38;5;28;01mfor\u001b[39;00m x \u001b[38;5;129;01min\u001b[39;00m \u001b[38;5;28mrange\u001b[39m (\u001b[38;5;241m-\u001b[39m\u001b[38;5;241m10\u001b[39m,\u001b[38;5;241m10\u001b[39m))\n\u001b[0;32m      3\u001b[0m \u001b[38;5;28mprint\u001b[39m(\u001b[38;5;124mf\u001b[39m\u001b[38;5;124m\"\u001b[39m\u001b[38;5;124mMinimum = \u001b[39m\u001b[38;5;132;01m{\u001b[39;00m\u001b[38;5;28mmin\u001b[39m(parabel)\u001b[38;5;132;01m}\u001b[39;00m\u001b[38;5;124m\"\u001b[39m) \n\u001b[1;32m----> 4\u001b[0m \u001b[38;5;28mprint\u001b[39m(\u001b[38;5;124mf\u001b[39m\u001b[38;5;124m\"\u001b[39m\u001b[38;5;124mMaximum = \u001b[39m\u001b[38;5;132;01m{\u001b[39;00m\u001b[38;5;28;43mmax\u001b[39;49m\u001b[43m(\u001b[49m\u001b[43mparabel\u001b[49m\u001b[43m)\u001b[49m\u001b[38;5;132;01m}\u001b[39;00m\u001b[38;5;124m\"\u001b[39m)      \n",
      "\u001b[1;31mValueError\u001b[0m: max() arg is an empty sequence"
     ]
    }
   ],
   "source": [
    "# b) from 4.5.4: for function values ​​of a parabola\n",
    "parabel = (x**2 - 2*x + 3 for x in range (-10,10))\n",
    "print(f\"Minimum = {min(parabel)}\") \n",
    "print(f\"Maximum = {max(parabel)}\")      "
   ]
  },
  {
   "cell_type": "code",
   "execution_count": null,
   "metadata": {},
   "outputs": [],
   "source": [
    "# c) from 4.5.4: recursive function to calculate the sum 1 to n\n",
    "def rekSum(n):\n",
    "    if n == 1:\n",
    "        return n\n",
    "    else:\n",
    "        return n + rekSum(n-1)\n",
    "    \n",
    "rekSum(3000)"
   ]
  },
  {
   "cell_type": "markdown",
   "metadata": {},
   "source": [
    "## Exercise 2\n",
    "\n",
    "Write a function that solves quadratic equations of the form $x^2+px+q=0$ for real numbers, provided they are solvable. The arguments are `p` and `q`. The solution set is returned as a tuple `(x1, x2)`.\n",
    "\n",
    "The function is intended to test pre- and post-conditions and generate an exception if they are not met:\n",
    "\n",
    "- Precondition: $(p/2)^2-q >= 0$\n",
    "- Postcondition: All values ​​from the solution set `(x1, x2)` should satisfy the equation $x^2+px+q=0$\n",
    "\n",
    "Note: the quadratic equation has the solutions:\n",
    "\n",
    "$x1 = -p/2 + \\sqrt{(p/2)^2 - q}$\n",
    "\n",
    "$x2 = -p/2 - \\sqrt{(p/2)^2 - q}$"
   ]
  },
  {
   "cell_type": "code",
   "execution_count": null,
   "metadata": {},
   "outputs": [],
   "source": [
    "# TODO task 2\n"
   ]
  },
  {
   "cell_type": "markdown",
   "metadata": {},
   "source": [
    "## Task 3\n",
    "\n",
    "Write a function that breaks real integers into their prime factors. The argument of the function is `number`. The return value is a list - starting with 1, even if that is not a prime number, with the prime factors.\n",
    "\n",
    "The function is intended to test pre- and post-conditions and generate an exception if they are not met:\n",
    "\n",
    "- Prerequisite: `number` is of type `int` and greater than 0\n",
    "- Postcondition: The product of all prime numbers must result in `number` again\n",
    "\n",
    "Example output:\n",
    "\n",
    "```python\n",
    ">>> primfak(13)\n",
    "[1, 13]\n",
    ">>> primfak(120)\n",
    "[1, 2, 2, 2, 3, 5]\n",
    ">>> primfak(-2)\n",
    "-------------------------------------------------- -------------------------\n",
    "AssertionError Traceback (most recent call last)\n",
    "```"
   ]
  },
  {
   "cell_type": "code",
   "execution_count": null,
   "metadata": {},
   "outputs": [],
   "source": [
    "# TODO task 3\n",
    "     "
   ]
  },
  {
   "cell_type": "markdown",
   "metadata": {},
   "source": [
    "## Task 4\n",
    "\n",
    "In the following task you will see a more extensive package. This is supposed to be a hypothetical `sound` module:\n",
    "\n",
    "```python\n",
    "sound\n",
    "|-- effects\n",
    "| |-- echo.py\n",
    "| |-- __init__.py\n",
    "| |-- reverse.py\n",
    "| |-- surround.py\n",
    "|-- filters\n",
    "| |-- equalizer.py\n",
    "| |-- __init__.py\n",
    "| |-- karaoke.py\n",
    "| |-- vocoder.py\n",
    "|-- formats\n",
    "| |-- aiffread.py\n",
    "| |-- aiffwrite.py\n",
    "| |-- auread.py\n",
    "| |-- auwrite.py\n",
    "| |-- __init__.py\n",
    "| |-- wavread.py\n",
    "| |-- wavwrite.py\n",
    "|-- __init__.py\n",
    "```\n",
    "\n",
    "- Load and unpack the zip file in your working directory"
   ]
  },
  {
   "cell_type": "code",
   "execution_count": null,
   "metadata": {},
   "outputs": [],
   "source": [
    "# It's best to restart the kernel first!\n",
    "# 1. TODO Import the sound module and check which modules have been loaded\n"
   ]
  },
  {
   "cell_type": "markdown",
   "metadata": {},
   "source": [
    "Now try to access the `effects` module. What is happening and why?"
   ]
  },
  {
   "cell_type": "code",
   "execution_count": null,
   "metadata": {},
   "outputs": [],
   "source": [
    "#2. TODO attempt to access sound.effects\n"
   ]
  },
  {
   "cell_type": "markdown",
   "metadata": {},
   "source": [
    "Now try to import the `effects` module directly and then access it."
   ]
  },
  {
   "cell_type": "code",
   "execution_count": null,
   "metadata": {},
   "outputs": [],
   "source": [
    "#3. Import and access TODO effects\n"
   ]
  },
  {
   "cell_type": "markdown",
   "metadata": {},
   "source": [
    "- Restart the kernel so that the loaded modules are reset\n",
    "- Modify the package/package contents so that the `effect` module is automatically loaded when importing the parent `sound` module"
   ]
  },
  {
   "cell_type": "code",
   "execution_count": null,
   "metadata": {},
   "outputs": [],
   "source": [
    "# 4. TODO Automatic import of effects when importing sound\n"
   ]
  },
  {
   "cell_type": "markdown",
   "metadata": {},
   "source": [
    "- Next, when importing `effects`, the `filters` subpackage and its `karaoke` module should be automatically reloaded\n",
    "- First restart the kernel again\n",
    "- Modify the package/package contents accordingly\n",
    "- Test the loaded module by calling `func1()` of the `karaoke` module"
   ]
  },
  {
   "cell_type": "code",
   "execution_count": null,
   "metadata": {},
   "outputs": [],
   "source": [
    "# 5. TODO Automatic import of formats when importing effects\n"
   ]
  },
  {
   "cell_type": "markdown",
   "metadata": {},
   "source": [
    "Finally, another option for automatically importing subpackages will be considered.\n",
    "\n",
    "- Restart the kernel\n",
    "- Unzip the `sound` module again and save it under the name `sound2` in your working directory\n",
    "- Try importing \"everything\" from the `sound2` module using the `*` operator\n",
    "\n",
    "What did you notice?"
   ]
  },
  {
   "cell_type": "code",
   "execution_count": null,
   "metadata": {},
   "outputs": [],
   "source": [
    "#6. TODO everything import with * operator\n"
   ]
  },
  {
   "cell_type": "markdown",
   "metadata": {},
   "source": [
    "Automatic reloading can be achieved using a package index. To do this, a list called `__all__` must be defined in the package's `__init__.py` file.\n",
    "\n",
    "- In the `__init__.py` file of the `sound2` module, write a corresponding list with the contents: `\"formats\", \"filters\", \"effects\", \"foobar\"`\n",
    "- Restart the kernel and execute the 6th TODO again\n",
    "\n",
    "If implementation is successful, all specified submodules will be reloaded when importing via the `*` operator."
   ]
  },
  {
   "cell_type": "code",
   "execution_count": null,
   "metadata": {},
   "outputs": [],
   "source": [
    "#7. TODO definition of __all__ list\n"
   ]
  }
 ],
 "metadata": {
  "kernelspec": {
   "display_name": "Python 3 (ipykernel)",
   "language": "python",
   "name": "python3"
  },
  "language_info": {
   "codemirror_mode": {
    "name": "ipython",
    "version": 3
   },
   "file_extension": ".py",
   "mimetype": "text/x-python",
   "name": "python",
   "nbconvert_exporter": "python",
   "pygments_lexer": "ipython3",
   "version": "3.11.3"
  },
  "varInspector": {
   "cols": {
    "lenName": 16,
    "lenType": 16,
    "lenVar": 40
   },
   "kernels_config": {
    "python": {
     "delete_cmd_postfix": "",
     "delete_cmd_prefix": "del ",
     "library": "var_list.py",
     "varRefreshCmd": "print(var_dic_list())"
    },
    "r": {
     "delete_cmd_postfix": ") ",
     "delete_cmd_prefix": "rm(",
     "library": "var_list.r",
     "varRefreshCmd": "cat(var_dic_list()) "
    }
   },
   "types_to_exclude": [
    "module",
    "function",
    "builtin_function_or_method",
    "instance",
    "_Feature"
   ],
   "window_display": false
  }
 },
 "nbformat": 4,
 "nbformat_minor": 2
}
