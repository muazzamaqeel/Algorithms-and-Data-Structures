{
 "cells": [
  {
   "cell_type": "markdown",
   "metadata": {},
   "source": [
    "# Exercise sheet 01\n",
    "\n",
    "## Task 1:\n",
    "\n",
    "A physics student wants to experimentally determine the acceleration due to gravity g. He does this by measuring\n",
    "The oscillation periods of a thread pendulum for different thread lengths. Write\n",
    "a program that allows you to enter the measured data after the measurement process has been completed\n",
    "Data allows (termination: negative length) the acceleration due to gravity for each pair of data\n",
    "calculates and at the end outputs the average value of all calculated values ​​for $g$.\n",
    "As a reminder: $g = \\dfrac{4 \\cdot \\pi^2 \\cdot l}{T^2}$\n",
    "\n",
    "For useful input values, use this [table](https://www.physics-schulexperimente.de/physo/Bestimm_der_Erdbeschnellung_mithilfe_eines_Fadenpendels#Results)"
   ]
  },
  {
   "cell_type": "code",
   "execution_count": 47,
   "metadata": {},
   "outputs": [
    {
     "name": "stdout",
     "output_type": "stream",
     "text": [
      "The gravitational acceleration (g) is: 0.13337563089806978\n"
     ]
    }
   ],
   "source": [
    "# TODO task 1\n",
    "\n",
    "from cmath import pi\n",
    "T=float(input(\"Please enter the Oscillation Period\"))\n",
    "L=float(input(\"Please enter the length of the thread\"))\n",
    "g = (4 * pi**2 * L) / (T**2)\n",
    "print(\"The gravitational acceleration (g) is:\", g)\n",
    "\n"
   ]
  },
  {
   "cell_type": "markdown",
   "metadata": {},
   "source": [
    "## Exercise 2:\n",
    "\n",
    "Leap years can be recognized by the fact that the year is divisible by 4. But according to the Gregorian calendar there is one\n",
    "Exception: For full centuries, only those years are leap years in which the\n",
    "The first two digits are divisible by 4. For example, 2000 is a leap year, not\n",
    "but 1900. Write a program that decides whether after entering the year\n",
    "there is a leap year."
   ]
  },
  {
   "cell_type": "code",
   "execution_count": null,
   "metadata": {},
   "outputs": [
    {
     "name": "stdout",
     "output_type": "stream",
     "text": [
      "This is not a leap year\n"
     ]
    }
   ],
   "source": [
    "# TODO task 2\n",
    "\n",
    "T=int(input(\"Please enter the year: \"))\n",
    "if(T % 4 == 0):\n",
    "    print(\"This is a leap year\")\n",
    "else:\n",
    "    print(\"This is not a leap year\")\n",
    "\n",
    "    "
   ]
  },
  {
   "cell_type": "markdown",
   "metadata": {},
   "source": [
    "## Task 3:\n",
    "\n",
    "To calculate $\\sqrt{a}$ the following sequence of numbers can be used:\n",
    "\n",
    "$$ x_{n+1} = \\frac{1}{2} (x_n + \\frac{a}{x_n}) $$\n",
    "\n",
    "with $$ x_0 = \\frac{a + 1}{2}$$\n",
    "\n",
    "Write a program that reads in a and then calculates as many sequence members until the\n",
    "Difference between two consecutive terms smaller than 0.0001\n",
    "is. The calculated approximate value must be output."
   ]
  },
  {
   "cell_type": "code",
   "execution_count": null,
   "metadata": {},
   "outputs": [
    {
     "name": "stdout",
     "output_type": "stream",
     "text": [
      "Näherungswert:  3.162277660168379\n"
     ]
    }
   ],
   "source": [
    "# TODO task 3\n",
    "atext = input(\"A eingeben: \")\n",
    "a = float(atext)\n",
    "xalt = (a+1)/2\n",
    "xneu = (xalt+a/xalt)/2\n",
    "while abs(xalt-xneu) > 0.0001 :\n",
    "    xalt = xneu\n",
    "    xneu = (xalt+a/xalt)/2\n",
    "\n",
    "print(\"Näherungswert: \",xneu)\n",
    "\n",
    "\n",
    "\n",
    "#NEED TO REVISE THIS AGAIN\n",
    "\n",
    "    "
   ]
  },
  {
   "cell_type": "markdown",
   "metadata": {},
   "source": [
    "## Task 4:\n",
    "\n",
    "There are many traditional festivals in Kleinschlemm. The shooting festival takes place every 3 years,\n",
    "The Lake Night Festival takes place every 4 years and the Kirchweihfest takes place every 5 years. They fell in 1980\n",
    "three festival dates together. List the festivals for the years 2014 to 2050\n",
    "take place."
   ]
  },
  {
   "cell_type": "code",
   "execution_count": 45,
   "metadata": {},
   "outputs": [
    {
     "name": "stdout",
     "output_type": "stream",
     "text": [
      "Shootingfest dates:  [2016, 2019, 2022, 2025, 2028, 2031, 2034, 2037, 2040, 2043, 2046, 2049]\n",
      "Lake Night Festival dates:  [2016, 2020, 2024, 2028, 2032, 2036, 2040, 2044, 2048]\n",
      "Kirchweihfest dates:  [2015, 2020, 2025, 2030, 2035, 2040, 2045]\n"
     ]
    }
   ],
   "source": [
    "# TODO task 4\n",
    "common_year=1980\n",
    "lower_bound=2014\n",
    "upper_bound=2050\n",
    "def process_data():\n",
    "    Shootingfest= common_year \n",
    "    Kirchweihfest= common_year\n",
    "    Lake_Night_Festival= common_year\n",
    "    lower_bound=2014\n",
    "    S_Array = []\n",
    "    L_Array = []\n",
    "    K_Array = []\n",
    "    \n",
    "    while(lower_bound<=upper_bound):\n",
    "        Shootingfest=Shootingfest+3\n",
    "        Lake_Night_Festival=Lake_Night_Festival + 4\n",
    "        Kirchweihfest=Kirchweihfest+5\n",
    "        lower_bound=lower_bound+1\n",
    "\n",
    "        if Shootingfest>2014 and Shootingfest<2050:\n",
    "             S_Array.append(Shootingfest)\n",
    "        if Lake_Night_Festival>2014 and Lake_Night_Festival<2050:\n",
    "            L_Array.append(Lake_Night_Festival)\n",
    "        if Kirchweihfest>2014 and Kirchweihfest<2050:\n",
    "            K_Array.append(Kirchweihfest)\n",
    "            \n",
    "    print(\"Shootingfest dates: \", S_Array)\n",
    "    print(\"Lake Night Festival dates: \", L_Array)\n",
    "    print(\"Kirchweihfest dates: \", K_Array)\n",
    "\n",
    "process_data()\n"
   ]
  },
  {
   "cell_type": "code",
   "execution_count": null,
   "metadata": {},
   "outputs": [],
   "source": []
  },
  {
   "cell_type": "code",
   "execution_count": null,
   "metadata": {},
   "outputs": [],
   "source": []
  }
 ],
 "metadata": {
  "kernelspec": {
   "display_name": "base",
   "language": "python",
   "name": "python3"
  },
  "language_info": {
   "codemirror_mode": {
    "name": "ipython",
    "version": 3
   },
   "file_extension": ".py",
   "mimetype": "text/x-python",
   "name": "python",
   "nbconvert_exporter": "python",
   "pygments_lexer": "ipython3",
   "version": "3.11.3"
  }
 },
 "nbformat": 4,
 "nbformat_minor": 2
}
