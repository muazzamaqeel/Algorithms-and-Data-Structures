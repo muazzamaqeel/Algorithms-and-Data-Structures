{
 "cells": [
  {
   "cell_type": "markdown",
   "metadata": {},
   "source": [
    "# Exercise sheet 07\n",
    "\n",
    "## Task 1\n",
    "\n",
    "According to the lecture, we consider the class “money”.\n",
    "\n",
    "Extend the class definition given here with all necessary (overloaded) methods so that the main program works and produces the following output:\n",
    "\n",
    "```python\n",
    "USD 100.0\n",
    "EUR 202.0\n",
    "The rental car is not more expensive\n",
    "```"
   ]
  },
  {
   "cell_type": "code",
   "execution_count": null,
   "metadata": {},
   "outputs": [],
   "source": [
    "# TODO task 1\n",
    "class Geld:\n",
    "# for the class attribute\n",
    "    __wechselkurs = {'USD': 0.84998,\n",
    "                   'GBP': 1.39480,\n",
    "                   'EUR': 1.0,\n",
    "                   'JPY': 0.007168}\n",
    "    \n",
    "# Constructor method\n",
    "    def __init__(self, waehrung, betrag):\n",
    "        self.__waehrung = waehrung\n",
    "        self.__betrag = float(betrag)\n",
    "    \n",
    "    def getEuro(self):\n",
    "        return self.__betrag*self.__wechselkurs[self.__waehrung]\n",
    "    \n",
    "# TODO implement the overloaded methods here\n",
    "\n",
    "\n",
    "\n",
    "# Main program\n",
    "print(Geld('USD', 100))\n",
    "hotelkosten = Geld('USD', 120)\n",
    "mietwagen = Geld('EUR',100)\n",
    "print(mietwagen + hotelkosten)\n",
    "if mietwagen > hotelkosten:\n",
    "        print('Der Mietwagen ist teurer')\n",
    "else:\n",
    "        print('Der Mietwagen ist nicht teurer')  "
   ]
  },
  {
   "cell_type": "markdown",
   "metadata": {},
   "source": [
    "## Exercise 2\n",
    "\n",
    "Program a class `Fraction` to handle fractions. It should have the integer attributes “numerator” and “denominator” and all methods so that the following main program can run:\n",
    "\n",
    "You should see the following output:\n",
    "```python\n",
    "3/4\n",
    "3/4\n",
    "3/1\n",
    "b1 smaller than b2\n",
    "0/1\n",
    "0.75\n",
    "15/4\n",
    "15/4\n",
    "3/10\n",
    "3/10\n",
    "45/27\n",
    "5/3\n",
    "5\n",
    "3\n",
    "3/5\n",
    "unequal\n",
    "```\n",
    "\n",
    "(where the last two lines of the output depend on your inputs for `b2`)"
   ]
  },
  {
   "cell_type": "code",
   "execution_count": 1,
   "metadata": {},
   "outputs": [],
   "source": [
    "# TODO task 2)\n"
   ]
  },
  {
   "cell_type": "code",
   "execution_count": null,
   "metadata": {},
   "outputs": [],
   "source": [
    "# The test program\n",
    "b1 = Bruch(3,4)\n",
    "b1.ausgabe() # 3/4\n",
    "print(b1) # 3/4\n",
    "\n",
    "b2 = Bruch(3)\n",
    "b2.ausgabe() # 3/1\n",
    "\n",
    "if b1 < b2 :                # b1 Kleiner b2\n",
    "    print(\"b1 kleiner b2\")\n",
    "else :\n",
    "    print(\"b1 größergleich b2\")\n",
    "\n",
    "b3 = Bruch()\n",
    "b3.ausgabe() # 0/1\n",
    "\n",
    "print(b1.berechne_wert())   # 0.75\n",
    "b4 = b1 + b2\n",
    "print(b4)\n",
    "b1 += b2    \n",
    "print(b1)\n",
    "\n",
    "b5 = Bruch(3,4)\n",
    "b6 = Bruch(2,5)\n",
    "b1 = b5 * b6\n",
    "print(b1)\n",
    "b5 *= b6    \n",
    "print(b5)\n",
    "\n",
    "\n",
    "b3.initialisieren(45,27)\n",
    "b3.ausgabe() # 45/27\n",
    "\n",
    "b3.kuerzen()\n",
    "b3.ausgabe()                # 5/3\n",
    "\n",
    "print(b3.gib_zaehler())   # 5\n",
    "print(b3.gib_nenner())    # 3\n",
    "\n",
    "b2.eingabe()\n",
    "b2.ausgabe()\n",
    "\n",
    "if b2 == b1 :               # Je nach Eingabe\n",
    "    print(\"gleich\")\n",
    "else :\n",
    "    print(\"ungleich\")"
   ]
  }
 ],
 "metadata": {
  "kernelspec": {
   "display_name": "Python 3 (ipykernel)",
   "language": "python",
   "name": "python3"
  },
  "language_info": {
   "codemirror_mode": {
    "name": "ipython",
    "version": 3
   },
   "file_extension": ".py",
   "mimetype": "text/x-python",
   "name": "python",
   "nbconvert_exporter": "python",
   "pygments_lexer": "ipython3",
   "version": "3.11.7"
  },
  "varInspector": {
   "cols": {
    "lenName": 16,
    "lenType": 16,
    "lenVar": 40
   },
   "kernels_config": {
    "python": {
     "delete_cmd_postfix": "",
     "delete_cmd_prefix": "del ",
     "library": "var_list.py",
     "varRefreshCmd": "print(var_dic_list())"
    },
    "r": {
     "delete_cmd_postfix": ") ",
     "delete_cmd_prefix": "rm(",
     "library": "var_list.r",
     "varRefreshCmd": "cat(var_dic_list()) "
    }
   },
   "types_to_exclude": [
    "module",
    "function",
    "builtin_function_or_method",
    "instance",
    "_Feature"
   ],
   "window_display": false
  }
 },
 "nbformat": 4,
 "nbformat_minor": 2
}
