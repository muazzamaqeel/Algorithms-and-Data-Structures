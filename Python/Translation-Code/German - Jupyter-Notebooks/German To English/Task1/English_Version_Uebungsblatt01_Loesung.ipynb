{
 "cells": [
  {
   "cell_type": "markdown",
   "metadata": {},
   "source": [
    "# Exercise sheet 01\n",
    "\n",
    "## Task 1:\n",
    "\n",
    "A physics student wants to experimentally determine the acceleration due to gravity $g$. He does this by measuring\n",
    "for different thread lengths (enter in $m$) the oscillation durations of a thread pendulum. Write\n",
    "a program that allows you to enter the measured data after the measurement process has been completed\n",
    "Data allows (termination: negative length) the acceleration due to gravity for each pair of data\n",
    "calculates and at the end outputs the average value of all calculated values ​​for $g$.\n",
    "As a reminder: $g = \\dfrac{4 \\cdot \\pi^2 \\cdot l}{T^2}$\n",
    "\n",
    "For useful input values, use this [table](https://www.physics-schulexperimente.de/physo/Bestimm_der_Erdbeschnellung_mithilfe_eines_Fadenpendels#Results)"
   ]
  },
  {
   "cell_type": "code",
   "execution_count": null,
   "metadata": {},
   "outputs": [],
   "source": [
    "# Task 1\n",
    "import math\n",
    "sLaenge = input(\"Pendellänge l: \")\n",
    "fLaenge = float(sLaenge)\n",
    "\n",
    "cAnzahl = 0\n",
    "fGsumme = 0\n",
    "while fLaenge > 0 :\n",
    "    sZeit = input(\"Zeit T: \")\n",
    "    fZeit = float(sZeit)\n",
    "    cAnzahl += 1\n",
    "    fGsumme += 4 * math.pi**2 * fLaenge / (fZeit**2)\n",
    "    sLaenge = input(\"Pendellänge l: \")\n",
    "    fLaenge = float(sLaenge)\n",
    "\n",
    "print(\"Gemittelter Wert: \",fGsumme / cAnzahl)"
   ]
  },
  {
   "cell_type": "markdown",
   "metadata": {},
   "source": [
    "## Exercise 2:\n",
    "\n",
    "Leap years can be recognized by the fact that the year is divisible by 4. But according to the Gregorian calendar there is one\n",
    "Exception: For full centuries, only those years are leap years in which the\n",
    "The first two digits are divisible by 4. For example, 2000 is a leap year, not\n",
    "but 1900. Write a program that decides whether after entering the year\n",
    "there is a leap year."
   ]
  },
  {
   "cell_type": "code",
   "execution_count": null,
   "metadata": {},
   "outputs": [],
   "source": [
    "# Exercise 2\n",
    "jahrtext = input(\"Jahreszahl eingeben: \")\n",
    "jahr = int(jahrtext)\n",
    "\n",
    "istSchaltjahr = False\n",
    "if jahr % 4 == 0 :\n",
    "# Year is divisible by 4\n",
    "    istSchaltjahr = True    # vorsoglich mal setzen\n",
    "\n",
    "    if jahr % 100 == 0 :\n",
    "# Year is divisible by 100 --> full century\n",
    "        if (jahr // 100) % 4 != 0 :\n",
    "# no leap year\n",
    "            istSchaltjahr = False\n",
    "\n",
    "if istSchaltjahr :\n",
    "    print(jahr,\"ist ein Schaltjahr\")\n",
    "else :\n",
    "    print(jahr,\"ist KEIN Schaltjahr\")\n",
    "    "
   ]
  },
  {
   "cell_type": "markdown",
   "metadata": {},
   "source": [
    "## Task 3:\n",
    "\n",
    "To calculate $\\sqrt{a}$ the following sequence of numbers can be used:\n",
    "\n",
    "$$ x_{n+1} = \\frac{1}{2} (x_n + \\frac{a}{x_n}) $$\n",
    "\n",
    "with $$ x_0 = \\frac{a + 1}{2}$$\n",
    "\n",
    "Write a program that reads in a and then calculates as many sequence members until the\n",
    "Difference between two consecutive terms smaller than 0.0001\n",
    "is. The calculated approximate value must be output."
   ]
  },
  {
   "cell_type": "code",
   "execution_count": null,
   "metadata": {},
   "outputs": [],
   "source": [
    "# Task 3\n",
    "atext = input(\"A eingeben: \")\n",
    "a = float(atext)\n",
    "xalt = (a+1)/2\n",
    "xneu = (xalt+a/xalt)/2\n",
    "while abs(xalt-xneu) > 0.0001 :\n",
    "    xalt = xneu\n",
    "    xneu = (xalt+a/xalt)/2\n",
    "\n",
    "print(\"Näherungswert: \",xneu)\n"
   ]
  },
  {
   "cell_type": "markdown",
   "metadata": {},
   "source": [
    "## Task 4:\n",
    "\n",
    "There are many traditional festivals in Kleinschlemm. The shooting festival takes place every 3 years,\n",
    "The Lake Night Festival takes place every 4 years and the Kirchweihfest takes place every 5 years. They fell in 1980\n",
    "three festival dates together. List the festivals for the years 2014 to 2050\n",
    "take place."
   ]
  },
  {
   "cell_type": "code",
   "execution_count": 1,
   "metadata": {},
   "outputs": [
    {
     "name": "stdout",
     "output_type": "stream",
     "text": [
      "2014 : \n",
      "2015 : Kirchweihfest \n",
      "2016 : Schützenfest Seenachtsfest \n",
      "2017 : \n",
      "2018 : \n",
      "2019 : Schützenfest \n",
      "2020 : Seenachtsfest Kirchweihfest \n",
      "2021 : \n",
      "2022 : Schützenfest \n",
      "2023 : \n",
      "2024 : Seenachtsfest \n",
      "2025 : Schützenfest Kirchweihfest \n",
      "2026 : \n",
      "2027 : \n",
      "2028 : Schützenfest Seenachtsfest \n",
      "2029 : \n",
      "2030 : Kirchweihfest \n",
      "2031 : Schützenfest \n",
      "2032 : Seenachtsfest \n",
      "2033 : \n",
      "2034 : Schützenfest \n",
      "2035 : Kirchweihfest \n",
      "2036 : Seenachtsfest \n",
      "2037 : Schützenfest \n",
      "2038 : \n",
      "2039 : \n",
      "2040 : Schützenfest Seenachtsfest Kirchweihfest \n",
      "2041 : \n",
      "2042 : \n",
      "2043 : Schützenfest \n",
      "2044 : Seenachtsfest \n",
      "2045 : Kirchweihfest \n",
      "2046 : Schützenfest \n",
      "2047 : \n",
      "2048 : Seenachtsfest \n",
      "2049 : Schützenfest \n",
      "2050 : Kirchweihfest \n"
     ]
    }
   ],
   "source": [
    "# Task 4\n",
    "for i in range(2014,2051) :\n",
    "    print(i, \":\",end=\" \")\n",
    "    differenz = i - 1980\n",
    "    if differenz % 3 == 0:\n",
    "        print(\"Schützenfest\",end=\" \")\n",
    "# The parameter end=\" \" replaces the final \\n with a space\n",
    "    if differenz % 4 == 0:\n",
    "        print(\"Seenachtsfest\",end= \" \")\n",
    "    if differenz % 5 == 0:\n",
    "        print(\"Kirchweihfest\",end= \" \")\n",
    "    print(\"\")\n",
    "        \n"
   ]
  }
 ],
 "metadata": {
  "kernelspec": {
   "display_name": "base",
   "language": "python",
   "name": "python3"
  },
  "language_info": {
   "codemirror_mode": {
    "name": "ipython",
    "version": 3
   },
   "file_extension": ".py",
   "mimetype": "text/x-python",
   "name": "python",
   "nbconvert_exporter": "python",
   "pygments_lexer": "ipython3",
   "version": "3.11.3"
  }
 },
 "nbformat": 4,
 "nbformat_minor": 2
}
