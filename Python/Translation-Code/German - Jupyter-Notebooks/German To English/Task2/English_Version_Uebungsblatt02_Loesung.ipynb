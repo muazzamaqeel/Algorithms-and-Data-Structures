{
 "cells": [
  {
   "cell_type": "markdown",
   "metadata": {},
   "source": [
    "# Exercise sheet 02\n",
    "## Task 1\n",
    "\n",
    "Define a function `compare(x,y,exactly)` that compares the two floating point numbers `x` and `y` and judges whether they are `exactly` the same within the tolerance parameter. It should return a boolean function value:\n",
    "$$compare(x,y,exact) = \\left\\{\n",
    "\\begin{array}{ll}\n",
    "True & if \\quad |x-y|< exactly \\\\\n",
    "False & \\, \\mathrm{else} \\\\\n",
    "\\end{array}\n",
    "\\right. $$\n",
    "\n",
    "In the main program, `compare(...)` should be called with predefined numbers and output should be made via `print()`. e.g.:\n",
    "- for the parameters (1, 1.1, 0.2):\n",
    "```python\n",
    "Approximately the same\n",
    "```\n",
    "- for the parameters (0.9, 1.3, 0.1):\n",
    "```python\n",
    "NOT nearly the same\n",
    "```"
   ]
  },
  {
   "cell_type": "code",
   "execution_count": 1,
   "metadata": {},
   "outputs": [
    {
     "name": "stdout",
     "output_type": "stream",
     "text": [
      "Näherungsweise gleich\n",
      "NICHT Näherungsweise gleich\n"
     ]
    }
   ],
   "source": [
    "# TODO task 1a) Classic function declaration\n",
    "def vergleiche(x,y,genau) :\n",
    "    return abs(x-y) < genau\n",
    "\n",
    "# Main program\n",
    "if vergleiche(1,1.1,0.2) :\n",
    "    print(\"Näherungsweise gleich\")\n",
    "else :\n",
    "    print(\"NICHT Näherungsweise gleich\")\n",
    "\n",
    "if vergleiche(0.9, 1.3, 0.1) :\n",
    "    print(\"Näherungsweise gleich\")\n",
    "else :\n",
    "    print(\"NICHT Näherungsweise gleich\")\n"
   ]
  },
  {
   "cell_type": "code",
   "execution_count": 2,
   "metadata": {},
   "outputs": [
    {
     "name": "stdout",
     "output_type": "stream",
     "text": [
      "Näherungsweise gleich\n",
      "NICHT Näherungsweise gleich\n"
     ]
    }
   ],
   "source": [
    "# TODO task 1b) using the lambda format\n",
    "vergleiche = lambda x, y, genau: True if abs(x-y) < genau else False\n",
    "\n",
    "# Main program\n",
    "if vergleiche(1,1.1,0.2) :\n",
    "    print(\"Näherungsweise gleich\")\n",
    "else :\n",
    "    print(\"NICHT Näherungsweise gleich\")\n",
    "\n",
    "if vergleiche(0.9, 1.3, 0.1) :\n",
    "    print(\"Näherungsweise gleich\")\n",
    "else :\n",
    "    print(\"NICHT Näherungsweise gleich\")"
   ]
  },
  {
   "cell_type": "markdown",
   "metadata": {},
   "source": [
    "## Exercise 2\n",
    "\n",
    "Define a function `initials(...)` that is called with an **arbitrary** number of string parameters and whose value is a string with the initials of the person passed.\n",
    "\n",
    "Examples: \\\n",
    "initials(\"Helmut\", \"Kohl\") &rarr; \"HK\"\\\n",
    "initials(\"Hugo\", \"Egon\", \"Balder\") &rarr; \"HEB\" \\\n",
    "initials(\"Johan\", \"Riley\", \"Fyodor\", \"Taiwo\", \"Samuel\", \"Klum\") &rarr; \"JRFTSK\""
   ]
  },
  {
   "cell_type": "code",
   "execution_count": 3,
   "metadata": {},
   "outputs": [
    {
     "name": "stdout",
     "output_type": "stream",
     "text": [
      "\n",
      "HK\n",
      "HEB\n",
      "JRFTSK\n"
     ]
    }
   ],
   "source": [
    "# TODO task 2\n",
    "def initialen(*namen) :\n",
    "    erg = \"\"\n",
    "    for i in namen :\n",
    "        if len(i) != 0 :\n",
    "            erg += i[0]\n",
    "    return erg\n",
    "\n",
    "# Main program\n",
    "print(initialen(\"\"))\n",
    "print(initialen(\"Helmut\", \"Kohl\"))\n",
    "print(initialen(\"Hugo\", \"Egon\", \"Balder\"))\n",
    "print(initialen(\"Johan\", \"Riley\", \"Fyodor\", \"Taiwo\", \"Samuel\", \"Klum\"))"
   ]
  },
  {
   "cell_type": "markdown",
   "metadata": {},
   "source": [
    "## Task 3\n",
    "\n",
    "A previously used data compression method is to send only the 15 most common characters and suppress all others. These are:\n",
    "\n",
    "A, C, D, E, F, H, I, L, N, O , R, S, T, U, space\n",
    "\n",
    "Define a function `compress(text)` that compresses a string passed in uppercase according to this scheme and returns it as a function value.\n",
    "Example: BEER GARDEN AT EIGHT &rarr; SPECIES OF ANIMAL EIGHT"
   ]
  },
  {
   "cell_type": "code",
   "execution_count": 4,
   "metadata": {},
   "outputs": [
    {
     "name": "stdout",
     "output_type": "stream",
     "text": [
      "IERARTEN U ACHT <-- Funktionswert\n",
      "IERARTEN U ACHT <-- Sollwert\n"
     ]
    }
   ],
   "source": [
    "# TODO task 3\n",
    "def komprimiere(text) :\n",
    "    erg = \"\"\n",
    "    for i in text :\n",
    "        if i in \"ACDEFHILNORSTU \" :\n",
    "            erg += i\n",
    "    return erg\n",
    "\n",
    "# Main program\n",
    "print(komprimiere(\"BIERGARTEN UM ACHT\"),\"<-- Funktionswert\")\n",
    "print(\"IERARTEN U ACHT\",\"<-- Sollwert\")"
   ]
  },
  {
   "cell_type": "markdown",
   "metadata": {},
   "source": [
    "## Task 4\n",
    "\n",
    "Known from the last exercise sheet:\n",
    "\n",
    "\n",
    "To calculate $\\sqrt{a}$ the following sequence of numbers can be used:\n",
    "\n",
    "$$ x_{n+1} = \\frac{1}{2} (x_n + \\frac{a}{x_n}) $$\n",
    "\n",
    "with $$ x_0 = \\frac{a + 1}{2}$$\n",
    "\n",
    "This time, write a **recursive** function `root(...)` with two arguments:\n",
    "- `a`: is the number whose root is to be calculated (required)\n",
    "- `n`: is the number of recursive calls (optional, default = 10)\n",
    "\n",
    "Example calls:\n",
    "```python\n",
    ">>> root(2, 3)\n",
    "1.4142156862745097\n",
    ">>> root(2)\n",
    "1.414213562373095\n",
    "```"
   ]
  },
  {
   "cell_type": "code",
   "execution_count": 4,
   "metadata": {},
   "outputs": [
    {
     "name": "stdout",
     "output_type": "stream",
     "text": [
      "1.4142156862745097\n",
      "1.414213562373095\n"
     ]
    }
   ],
   "source": [
    "# TODO task 4\n",
    "def wurzel(a, n=10):\n",
    "    if n == 1:\n",
    "        return 0.5*(a+1)\n",
    "    else:\n",
    "        return 0.5*(wurzel(a,n-1)+float(a)/wurzel(a,n-1))\n",
    "    \n",
    "print (wurzel(2,3))\n",
    "print (wurzel(2))"
   ]
  },
  {
   "cell_type": "markdown",
   "metadata": {},
   "source": [
    "### Additional task for task 4:\n",
    "\n",
    "If you call `root(2,25)`, how long does it take to execute? How long would `root(2.2700)` take then? (Do not try if `root(2,25)` has already taken several seconds!)\n",
    "\n",
    "Think about why this could be and try to optimize the recursive function so that you can use the entire recursion depth if possible, so that a call to `root(2,2700)` only takes a few milliseconds."
   ]
  },
  {
   "cell_type": "code",
   "execution_count": 2,
   "metadata": {},
   "outputs": [
    {
     "name": "stdout",
     "output_type": "stream",
     "text": [
      "1.414213562373095\n"
     ]
    }
   ],
   "source": [
    "# Optimized root function\n",
    "def wurzel(a, n=10):\n",
    "    if n == 1:\n",
    "        return 0.5*(a+1)\n",
    "    else:\n",
    "        vorigeNaeherung = wurzel(a,n-1)     # nur ein rekursiver Aufruf\n",
    "        return 0.5*(vorigeNaeherung+float(a)/vorigeNaeherung)\n",
    "    \n",
    "print (wurzel(2,2970)) # bei n > 2970 -> RecursionError: maximum recursion depth exceeded"
   ]
  }
 ],
 "metadata": {
  "kernelspec": {
   "display_name": "Python 3 (ipykernel)",
   "language": "python",
   "name": "python3"
  },
  "language_info": {
   "codemirror_mode": {
    "name": "ipython",
    "version": 3
   },
   "file_extension": ".py",
   "mimetype": "text/x-python",
   "name": "python",
   "nbconvert_exporter": "python",
   "pygments_lexer": "ipython3",
   "version": "3.11.7"
  },
  "varInspector": {
   "cols": {
    "lenName": 16,
    "lenType": 16,
    "lenVar": 40
   },
   "kernels_config": {
    "python": {
     "delete_cmd_postfix": "",
     "delete_cmd_prefix": "del ",
     "library": "var_list.py",
     "varRefreshCmd": "print(var_dic_list())"
    },
    "r": {
     "delete_cmd_postfix": ") ",
     "delete_cmd_prefix": "rm(",
     "library": "var_list.r",
     "varRefreshCmd": "cat(var_dic_list()) "
    }
   },
   "types_to_exclude": [
    "module",
    "function",
    "builtin_function_or_method",
    "instance",
    "_Feature"
   ],
   "window_display": false
  }
 },
 "nbformat": 4,
 "nbformat_minor": 2
}
