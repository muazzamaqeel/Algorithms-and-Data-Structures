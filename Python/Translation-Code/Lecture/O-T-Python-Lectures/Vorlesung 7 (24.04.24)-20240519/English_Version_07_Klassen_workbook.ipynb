{
 "cells": [
  {
   "cell_type": "markdown",
   "metadata": {
    "slideshow": {
     "slide_type": "slide"
    }
   },
   "source": [
    "## 8. Klassen"
   ]
  },
  {
   "cell_type": "markdown",
   "metadata": {
    "slideshow": {
     "slide_type": "fragment"
    }
   },
   "source": [
    "The definition and use of classes is an essential building block of *object-oriented programming (OOP)*. Although some programmers consider OOP to be a modern achievement, we already know that its roots go back to the 1960s. As is well known, the first programming language that used objects was called *SIMULA*. The basic ideas of this language are still the same as those of Python:"
   ]
  },
  {
   "cell_type": "markdown",
   "metadata": {
    "slideshow": {
     "slide_type": "fragment"
    }
   },
   "source": [
    "1. Everything is an object\n",
    "2. Objects communicate by sending and receiving messages\n",
    "3. Objects have their own storage area\n",
    "4. Every object is an instance of a *class*\n",
    "5. The *class* describes the behavior of its examples"
   ]
  },
  {
   "cell_type": "markdown",
   "metadata": {
    "slideshow": {
     "slide_type": "fragment"
    }
   },
   "source": [
    "Overall, the basic ideas can be described as a summary of all data and operations into a single unit. This principle is also called *data encapsulation*, which also serves to protect against immediate access to data."
   ]
  },
  {
   "cell_type": "markdown",
   "metadata": {
    "slideshow": {
     "slide_type": "fragment"
    }
   },
   "source": [
    "In current OOP terminology, the terms *attributes and methods* are used instead of the terms data and operations, where *method* is just another name for the term *function* that you are already familiar with. In a nutshell:\n",
    "\n",
    "*Object = Attributes + Methods*"
   ]
  },
  {
   "cell_type": "markdown",
   "metadata": {
    "slideshow": {
     "slide_type": "fragment"
    }
   },
   "source": [
    "The concept of OOP pursues three goals in particular:\n",
    "\n",
    "- **Principle of reusability**: Once defined, classes should also be able to be reused in other software projects.\n",
    "\n",
    "- **Principle of data encapsulation**: The aim is to reduce complexity by dividing it into clear classes. This makes software projects easier to manage. In addition, each class has its own variables without causing side effects during program execution\n",
    "\n",
    "- **Better maintainability**: If, for example, a more effective algorithm with a better runtime has been found for certain methods of a class, it can simply be implemented in its class as a method of the same name."
   ]
  },
  {
   "cell_type": "markdown",
   "metadata": {
    "slideshow": {
     "slide_type": "fragment"
    }
   },
   "source": [
    "*Fun Fact*: You have been working with classes, methods and their attributes continuously since the beginning of the lecture (without perhaps explicitly noticing it)."
   ]
  },
  {
   "cell_type": "markdown",
   "metadata": {
    "slideshow": {
     "slide_type": "slide"
    }
   },
   "source": [
    "### 8.1 Classes as Container"
   ]
  },
  {
   "cell_type": "markdown",
   "metadata": {
    "slideshow": {
     "slide_type": "fragment"
    }
   },
   "source": [
    "> *A container is an object that contains other objects*"
   ]
  },
  {
   "cell_type": "markdown",
   "metadata": {
    "slideshow": {
     "slide_type": "fragment"
    }
   },
   "source": [
    "In past lectures we have also referred to *containers* as data structures. There, for example, values ​​were combined into a compact `dict`. In order to access the packed data, a *key* was required."
   ]
  },
  {
   "cell_type": "markdown",
   "metadata": {
    "slideshow": {
     "slide_type": "fragment"
    }
   },
   "source": [
    "Classes have a similar structure: they are collections of attributes for which you can store values. Which attributes these are depends on what is to be modeled. In our example we want to represent a simple money class:"
   ]
  },
  {
   "cell_type": "markdown",
   "metadata": {
    "slideshow": {
     "slide_type": "fragment"
    }
   },
   "source": [
    "![robot class](app/money.svg)"
   ]
  },
  {
   "cell_type": "markdown",
   "metadata": {
    "slideshow": {
     "slide_type": "fragment"
    }
   },
   "source": [
    "UML (*Unified Modeling Language*) symbols are often used to visually describe OOP:\n",
    "\n",
    "![template](appendix/template.svg)"
   ]
  },
  {
   "cell_type": "markdown",
   "metadata": {
    "slideshow": {
     "slide_type": "subslide"
    }
   },
   "source": [
    "#### 8.1.1 Definition of classes"
   ]
  },
  {
   "cell_type": "markdown",
   "metadata": {
    "slideshow": {
     "slide_type": "fragment"
    }
   },
   "source": [
    "The syntactic structure of a class definition in Python is as follows:\n",
    "\n",
    "```python\n",
    "classdef ::= class classname [inheritance] :\n",
    "    sequence of instructions\n",
    "    \n",
    "inheritance ::= ([expression_list])\n",
    "classname ::= identifier\n",
    "```"
   ]
  },
  {
   "cell_type": "markdown",
   "metadata": {
    "slideshow": {
     "slide_type": "fragment"
    }
   },
   "source": [
    "Examples of syntactically correct class definition headers are:\n",
    "```python\n",
    "class MyClass:\n",
    "class MyClass(object):\n",
    "class MyClass(superclass):\n",
    "class MyClass(superclass1, superclass2):\n",
    "\n",
    "```\n",
    "\n",
    "Note: Class names always start with a capital letter!"
   ]
  },
  {
   "cell_type": "code",
   "execution_count": null,
   "metadata": {
    "slideshow": {
     "slide_type": "fragment"
    }
   },
   "outputs": [],
   "source": [
    "# TODO simplest definition of class \"Money\"\n"
   ]
  },
  {
   "cell_type": "markdown",
   "metadata": {
    "slideshow": {
     "slide_type": "subslide"
    }
   },
   "source": [
    "#### 8.1.2 Definition with constructor"
   ]
  },
  {
   "cell_type": "markdown",
   "metadata": {
    "slideshow": {
     "slide_type": "fragment"
    }
   },
   "source": [
    "Although the above implementation is syntactically correct, it is completely pointless. In practice, the body of a class definition consists of the following components:\n",
    "\n",
    "- Definition of class attributes (also called *static* attributes) (if any)\n",
    "- Definition of a constructor method `__init__()`. There, object attributes are assigned initial values ​​when an object of the class is instantiated.\n",
    "- Definition of further methods (if available)"
   ]
  },
  {
   "cell_type": "code",
   "execution_count": null,
   "metadata": {
    "slideshow": {
     "slide_type": "fragment"
    }
   },
   "outputs": [],
   "source": [
    "# TODO more meaningful definition of the class \"Money\"\n"
   ]
  },
  {
   "cell_type": "markdown",
   "metadata": {
    "slideshow": {
     "slide_type": "fragment"
    }
   },
   "source": [
    "Note: The keyword `self` must **always** be included in every method definition. When accessing an instance attribute, it is **always** prefixed. The constructor method `__init__()` must not contain a `return` statement!"
   ]
  },
  {
   "cell_type": "markdown",
   "metadata": {
    "slideshow": {
     "slide_type": "slide"
    }
   },
   "source": [
    "### 8.2 Instances (objects)"
   ]
  },
  {
   "cell_type": "markdown",
   "metadata": {
    "slideshow": {
     "slide_type": "fragment"
    }
   },
   "source": [
    "To create a class object, you must first call the class. Classes are like functions and are callable objects (*callables*). The parameters required in the parameter list of the constructor method must be specified as passing arguments, omitting the first argument. An object created by calling a class is then called an **instance**."
   ]
  },
  {
   "cell_type": "code",
   "execution_count": null,
   "metadata": {
    "slideshow": {
     "slide_type": "fragment"
    }
   },
   "outputs": [],
   "source": [
    "# TODO Create an instance of the Money class\n"
   ]
  },
  {
   "cell_type": "markdown",
   "metadata": {
    "slideshow": {
     "slide_type": "fragment"
    }
   },
   "source": [
    "Let's now generate some `Money` objects and check the effect of the `add()` method according to the following *UML object symbols*:\n",
    "\n",
    "![object symbols](appendix/money objects.svg)"
   ]
  },
  {
   "cell_type": "code",
   "execution_count": null,
   "metadata": {
    "slideshow": {
     "slide_type": "fragment"
    }
   },
   "outputs": [],
   "source": [
    "# TODO testing the add() method\n"
   ]
  },
  {
   "cell_type": "markdown",
   "metadata": {
    "slideshow": {
     "slide_type": "fragment"
    }
   },
   "source": [
    "It is also possible to generate instances without names. These are called *anonymous objects*:"
   ]
  },
  {
   "cell_type": "code",
   "execution_count": null,
   "metadata": {
    "slideshow": {
     "slide_type": "fragment"
    }
   },
   "outputs": [],
   "source": [
    "# TODO Anonymous object as instance of the class Money\n"
   ]
  },
  {
   "cell_type": "markdown",
   "metadata": {
    "slideshow": {
     "slide_type": "fragment"
    }
   },
   "source": [
    "The corresponding UML diagram looks like this:\n",
    "\n",
    "![anonymousObject](attachment/anonymousObject.svg)"
   ]
  },
  {
   "cell_type": "markdown",
   "metadata": {
    "slideshow": {
     "slide_type": "subslide"
    }
   },
   "source": [
    "### 8.3 Access to attributes - visibility"
   ]
  },
  {
   "cell_type": "markdown",
   "metadata": {
    "slideshow": {
     "slide_type": "fragment"
    }
   },
   "source": [
    "Attributes are used to describe the characteristics of a class. The *object attributes* refer to properties of individual instances and are created in Python by assignments of the form `self.attribut = value` within the constructor.\n",
    "\n",
    "*Class attributes* (or static attributes), on the other hand, are characteristics that *all* instances of a class have. These are independent of the existence of an instance and are defined by an assignment of the form `attribute = value` within the class definition (but outside of a method)."
   ]
  },
  {
   "cell_type": "markdown",
   "metadata": {
    "slideshow": {
     "slide_type": "fragment"
    }
   },
   "source": [
    "Access from class and object attributes can be restricted. One then speaks of *visibility* and distinguishes between public and private attributes."
   ]
  },
  {
   "cell_type": "markdown",
   "metadata": {
    "slideshow": {
     "slide_type": "subslide"
    }
   },
   "source": [
    "#### 8.3.1 Public Attributes"
   ]
  },
  {
   "cell_type": "markdown",
   "metadata": {
    "slideshow": {
     "slide_type": "fragment"
    }
   },
   "source": [
    "*Public* means that you can read and write “from outside”. The syntax for accessing an *object attribute* is `instance.attribut`:"
   ]
  },
  {
   "cell_type": "code",
   "execution_count": null,
   "metadata": {
    "slideshow": {
     "slide_type": "fragment"
    }
   },
   "outputs": [],
   "source": [
    "# TODO simple access from object attribute\n"
   ]
  },
  {
   "cell_type": "markdown",
   "metadata": {
    "slideshow": {
     "slide_type": "fragment"
    }
   },
   "source": [
    "Analogously, you can also access *class attributes*. To do this, simply write the class name instead of the instance name: `class.attribute`"
   ]
  },
  {
   "cell_type": "code",
   "execution_count": null,
   "metadata": {
    "slideshow": {
     "slide_type": "fragment"
    }
   },
   "outputs": [],
   "source": [
    "# TODO access to class attribute\n"
   ]
  },
  {
   "cell_type": "markdown",
   "metadata": {
    "slideshow": {
     "slide_type": "fragment"
    }
   },
   "source": [
    "The use of public attributes is particularly **rejected** by computer scientists from software engineering because it violates the secret principle.\n",
    "\n",
    "An object should reveal as little as possible about its internal structure. They also carry the risk of unwanted side effects and/or inconsistent states.\n",
    "\n",
    "Example:"
   ]
  },
  {
   "cell_type": "code",
   "execution_count": null,
   "metadata": {
    "slideshow": {
     "slide_type": "fragment"
    }
   },
   "outputs": [],
   "source": [
    "# Negative example of public attributes\n",
    "preis = Geld(\"EUR\", 100)\n",
    "preis.waehrung = \"DM\"\n",
    "preis.betrag = 200\n",
    "# TODO what problems are occurring?\n"
   ]
  },
  {
   "cell_type": "markdown",
   "metadata": {
    "slideshow": {
     "slide_type": "subslide"
    }
   },
   "source": [
    "#### 8.3.2 Private Attribute"
   ]
  },
  {
   "cell_type": "markdown",
   "metadata": {
    "slideshow": {
     "slide_type": "fragment"
    }
   },
   "source": [
    "To protect attributes from public access, you should define them with one or two underscores. This shields the attribute and calls it *private*. Python distinguishes between weak (*protected*) and strong (the real *private*) privacy:\n",
    "\n",
    "- Strongly private attributes are written e.g. `__private`. It is only possible to access such an attribute within the class definition.\n",
    "\n",
    "- Weakly private attributes are written e.g. `_private`. Using a `from ... import *` statement does not include the name in the namespace and reduces the risk of a name collision, but you can easily access the attribute if you know its name."
   ]
  },
  {
   "cell_type": "code",
   "execution_count": null,
   "metadata": {
    "slideshow": {
     "slide_type": "fragment"
    }
   },
   "outputs": [],
   "source": [
    "# TODO example of various attribute accesses\n"
   ]
  },
  {
   "cell_type": "markdown",
   "metadata": {
    "slideshow": {
     "slide_type": "fragment"
    }
   },
   "source": [
    "However, even *strongly private* attributes do not offer real protection from the outside, because they are actually just hidden. You can also make these attributes visible by prefixing them with the class name with an underscore (`_class__attribute`):"
   ]
  },
  {
   "cell_type": "code",
   "execution_count": null,
   "metadata": {
    "slideshow": {
     "slide_type": "fragment"
    }
   },
   "outputs": [],
   "source": [
    "# TODO reveal private attributes\n"
   ]
  },
  {
   "cell_type": "markdown",
   "metadata": {
    "slideshow": {
     "slide_type": "fragment"
    }
   },
   "source": [
    "So you can see that Python (especially in contrast to other programming languages) is not very *restrictive*. In general, *restrictiveness* is very frowned upon in the Python community because everyone trusts their own reason and that of others. Everything else is *unpythonic*.\n",
    "\n",
    "> *We are all consenting adults here* - Guido Van Rossum"
   ]
  },
  {
   "cell_type": "markdown",
   "metadata": {
    "slideshow": {
     "slide_type": "subslide"
    }
   },
   "source": [
    "#### 8.3.3 Extending the definition of the `Money` class"
   ]
  },
  {
   "cell_type": "code",
   "execution_count": null,
   "metadata": {
    "slideshow": {
     "slide_type": "fragment"
    }
   },
   "outputs": [],
   "source": [
    "# Rename TODO attributes\n",
    "\n",
    "\n",
    "    \n",
    "# TODO extension of methods\n",
    "    \n",
    "\n",
    "# ALL zu 8.3.4 Properties\n",
    "   "
   ]
  },
  {
   "cell_type": "code",
   "execution_count": null,
   "metadata": {
    "slideshow": {
     "slide_type": "fragment"
    }
   },
   "outputs": [],
   "source": [
    "# Creating instances of the extended class\n",
    "preis = Geld(\"USD\", 1000)\n",
    "preis.setWaehrung(\"EUR\")\n",
    "print(preis.getBetrag(), preis.getWaehrung())"
   ]
  },
  {
   "cell_type": "markdown",
   "metadata": {
    "slideshow": {
     "slide_type": "subslide"
    }
   },
   "source": [
    "#### 8.3.4 Properties"
   ]
  },
  {
   "cell_type": "markdown",
   "metadata": {
    "slideshow": {
     "slide_type": "fragment"
    }
   },
   "source": [
    "In Python, you can define private attributes so that they can be accessed *apparently directly* from the outside, but access is still controlled by special methods defined in the class. To do this, you define the so-called *properties* at the end of the class definition using the `property()` function. As arguments to the `property()` method, a *get* and optionally a *set* method are passed, which enables read and/or write access to the private attribute."
   ]
  },
  {
   "cell_type": "markdown",
   "metadata": {
    "slideshow": {
     "slide_type": "fragment"
    }
   },
   "source": [
    "The syntax is:\n",
    "\n",
    "```python\n",
    "property(fget=None, fset=None, fdel=None, doc=None)\n",
    "```\n",
    "where:\n",
    "- `fget`: Function that returns the value of the attribute\n",
    "- `fset`: Function that allows changing the value of the attribute\n",
    "- `fdel`: Function that describes the deletion process\n",
    "- `doc`: Docstring as `String`"
   ]
  },
  {
   "cell_type": "code",
   "execution_count": null,
   "metadata": {
    "slideshow": {
     "slide_type": "fragment"
    }
   },
   "outputs": [],
   "source": [
    "# Creating instances of the class with properties\n",
    "preis = Geld(\"EUR\", 1000)\n",
    "preis.waehrung = \"USD\"\n",
    "print(preis.betrag, preis.waehrung)\n",
    "print(preis._Geld__betrag)"
   ]
  },
  {
   "cell_type": "markdown",
   "metadata": {
    "slideshow": {
     "slide_type": "fragment"
    }
   },
   "source": [
    "For example, if only the first argument (`fget`) is specified when calling the `property()` method, no writing method is specified. When attempting write access, an `AttributError` occurs, as the following example shows:"
   ]
  },
  {
   "cell_type": "code",
   "execution_count": null,
   "metadata": {
    "slideshow": {
     "slide_type": "fragment"
    }
   },
   "outputs": [],
   "source": [
    "class Const:\n",
    "    def __init__(self, x):\n",
    "        self.__x = x\n",
    "\n",
    "    def getX(self):\n",
    "        return self.__x\n",
    "    \n",
    "    x = property(getX)\n",
    "\n",
    "k = Const(100)\n",
    "print(k.x)\n",
    "k.x = 101"
   ]
  },
  {
   "cell_type": "markdown",
   "metadata": {
    "slideshow": {
     "slide_type": "subslide"
    }
   },
   "source": [
    "#### 8.3.5 Dynamic creation of attributes"
   ]
  },
  {
   "cell_type": "markdown",
   "metadata": {
    "slideshow": {
     "slide_type": "fragment"
    }
   },
   "source": [
    "In Python it is possible to create new attributes *dynamically* while the program is running:"
   ]
  },
  {
   "cell_type": "code",
   "execution_count": null,
   "metadata": {
    "slideshow": {
     "slide_type": "fragment"
    }
   },
   "outputs": [],
   "source": [
    "# TODO empty class with dynamically created attributes\n"
   ]
  },
  {
   "cell_type": "markdown",
   "metadata": {
    "slideshow": {
     "slide_type": "fragment"
    }
   },
   "source": [
    "Note: This feature is a potential source of errors! If the attribute name is accidentally misspelled during write access to a public attribute, there is **no** error message. Instead, a new attribute is simply added."
   ]
  },
  {
   "cell_type": "markdown",
   "metadata": {
    "slideshow": {
     "slide_type": "slide"
    }
   },
   "source": [
    "### 8.4 Methods"
   ]
  },
  {
   "cell_type": "markdown",
   "metadata": {
    "slideshow": {
     "slide_type": "fragment"
    }
   },
   "source": [
    "The syntax for defining methods is very similar to that for defining functions:\n",
    "\n",
    "```python\n",
    "def method (self, arg1, arg2, ...)\n",
    "```\n",
    "\n",
    "The difference to functions lies in the following points:\n",
    "\n",
    "- Methods are **not** independent objects, but rather an integral part of a class\n",
    "- In the parameter list of the method definition, the first parameter **always** denotes the instance. The name is arbitrary, but usually `self` is used\n",
    "- When calling a method, the name of the instance must always be placed in front of the method name, followed by a period. Syntax: `instance.method(arg1, ...)`. The method call is one shorter because the first argument `self` is omitted."
   ]
  },
  {
   "cell_type": "markdown",
   "metadata": {
    "slideshow": {
     "slide_type": "fragment"
    }
   },
   "source": [
    "So-called *setter* and *getter* methods are used for access operations on (private) attributes. These elementary management methods are usually omitted from UML class symbols"
   ]
  },
  {
   "cell_type": "markdown",
   "metadata": {
    "slideshow": {
     "slide_type": "fragment"
    }
   },
   "source": [
    "Just like with attributes, there are also private and public methods. The same syntax applies to this as for the attributes, e.g. `__machPrivateDinge()` would be a strongly private method, `_machDasnichtMitEvery()` would be a weakly private method. Without an underscore, the names indicate public methods."
   ]
  },
  {
   "cell_type": "markdown",
   "metadata": {
    "slideshow": {
     "slide_type": "subslide"
    }
   },
   "source": [
    "#### 8.4.1 Polymorphism - Operator overloading"
   ]
  },
  {
   "cell_type": "markdown",
   "metadata": {
    "slideshow": {
     "slide_type": "fragment"
    }
   },
   "source": [
    "Another important concept of OOP is *polymorphism* (or *polymorphism*). This makes it possible to use the same name for similar operations that are applied to objects of different classes. This is also referred to as overloading an operation."
   ]
  },
  {
   "cell_type": "markdown",
   "metadata": {
    "slideshow": {
     "slide_type": "fragment"
    }
   },
   "source": [
    "In Python, operators and standard functions can be overloaded by defining certain methods with given names in a new class. Some of these special (*magic/Dunders*) methods are listed in the following tables:\n",
    "\n",
    "**Initialization**:\n",
    "\n",
    "|Method|Explanation|\n",
    "|:----|:----|\n",
    "|`__init__(self, [,...])`| Initializes the instance |"
   ]
  },
  {
   "cell_type": "markdown",
   "metadata": {
    "slideshow": {
     "slide_type": "fragment"
    }
   },
   "source": [
    "**String representation**:\n",
    "|Method|Explanation|\n",
    "|:----|:----|\n",
    "|`__str__(self)`| Returns a `String` representing the instance |\n",
    "|`__repr__(self)`| Returns an exact `String` representation of an instance from which an object can be created|"
   ]
  },
  {
   "cell_type": "code",
   "execution_count": null,
   "metadata": {
    "slideshow": {
     "slide_type": "fragment"
    }
   },
   "outputs": [],
   "source": [
    "# Example to distinguish between str and repr\n",
    "import datetime\n",
    "jetzt = datetime.datetime.now()\n",
    "print(\"print:\", jetzt, type(jetzt))\n",
    "print(\"str:\", str(jetzt), type(str(jetzt)))\n",
    "print(\"repr:\",repr(jetzt), type(repr(jetzt)))\n",
    "neu = eval(repr(jetzt)) # evaluiert String-Repräsentation\n",
    "print(\"neu:\", neu, type(neu))"
   ]
  },
  {
   "cell_type": "markdown",
   "metadata": {
    "slideshow": {
     "slide_type": "fragment"
    }
   },
   "source": [
    "**Comparison operators**:\n",
    "|Method|Explanation|\n",
    "|:----|:----|\n",
    "| `__eq__(self, other)` | `==` |\n",
    "|`__ge__(self, other)`| `>=` |\n",
    "|`__gt__(self, other)`| `>` |\n",
    "|`__le__(self, other)`| `<=` |\n",
    "|`__lt__(self, other)`| `<` |\n",
    "|`__ne__(self, other)`| `!=` |\n",
    "|`__bool__(self)`| is the object considered `True` or `False`? |"
   ]
  },
  {
   "cell_type": "markdown",
   "metadata": {
    "slideshow": {
     "slide_type": "fragment"
    }
   },
   "source": [
    "**Arithmetische Operatoren**:\n",
    "|Methode|Erläuterung|\n",
    "|:----|:----|\n",
    "| `__add__(self, other)`, `__radd__(self, other)`|  `+`  |\n",
    "|`__iadd__(self, other)` |`+=`|\n",
    "|`__truediv__(self, other)`,`__rtruediv__(self, other)`|`/`|\n",
    "|`__itruediv__(self, other)` |`/=`|\n",
    "|`__floordiv__(self, other)`,`__rfloordiv__(self, other)`| `//`|\n",
    "|`__ifloordiv__(self, other)` |`//=`|\n",
    "|`__mul__(self, other)`, `__rmul__(self, other)`| `*`|\n",
    "|`__imul__(self, other)`| `*=`|\n",
    "|`__sub__(self, other)`, `__rsub__(self, other)`| `-`|\n",
    "|`__isub__(self, other)` |`-=`|\n",
    "|`__mod__(self, other)`, `__rmod__(self, other)`| `%`|\n",
    "|`__imod__(self, other)` |`%=`|\n",
    "|`__pow__(self, other)`, `__rpow__(self, other)`| `**`|\n",
    "|`__ipow__(self, other)` |`**=`|"
   ]
  },
  {
   "cell_type": "markdown",
   "metadata": {
    "slideshow": {
     "slide_type": "fragment"
    }
   },
   "source": [
    "**Biteweise Operationen**:\n",
    "|Methode|Erläuterung|\n",
    "|:----|:----|\n",
    "|`__lshift__(self, other)` |`<<`|\n",
    "|`__ilshift__(self, other)`| `<<=`|\n",
    "|`__rshift__(self, other)` |`>>`|\n",
    "|`__irshift__(self, other)` |`>>=`|\n",
    "|`__and__(self, other)` |`&`|\n",
    "|`__iand__(self, other)`| `&=`|\n",
    "|`__xor__(self, other)`| `^`|\n",
    "|`__ixor__(self, other)` |`^=`|\n",
    "|`__or__(self, other)`| `\\|` |\n",
    "|`__ior__(self, other)` |`\\|=`|"
   ]
  },
  {
   "cell_type": "markdown",
   "metadata": {
    "slideshow": {
     "slide_type": "fragment"
    }
   },
   "source": [
    "**Other operations**:\n",
    "|Method|Explanation|\n",
    "|:----|:----|\n",
    "|`__dict__` | Returns the dictionary that stores the attributes.|\n",
    "|`__slots__ `| List that defines the attributes of a class|"
   ]
  },
  {
   "cell_type": "code",
   "execution_count": null,
   "metadata": {
    "slideshow": {
     "slide_type": "fragment"
    }
   },
   "outputs": [],
   "source": [
    "# TODO Example Overloading the __str__ method\n"
   ]
  },
  {
   "cell_type": "markdown",
   "metadata": {
    "slideshow": {
     "slide_type": "subslide"
    }
   },
   "source": [
    "#### 8.4.2 Static methods"
   ]
  },
  {
   "cell_type": "markdown",
   "metadata": {
    "slideshow": {
     "slide_type": "fragment"
    }
   },
   "source": [
    "Static methods of a class can be called without first creating an instance. To do this, static methods must be created in the class definition by calling the `staticmethod()` function.\n",
    "\n",
    "This type of methods is often used to program a collection of thematically related operations (*Toolbox*)."
   ]
  },
  {
   "cell_type": "code",
   "execution_count": null,
   "metadata": {
    "slideshow": {
     "slide_type": "fragment"
    }
   },
   "outputs": [],
   "source": [
    "# Example of a toolbox from the field of statistics\n",
    "class Statistik:\n",
    "    def mittelwert(s):                              #1\n",
    "        if s:                                       \n",
    "            return float(sum(s)) / len(s)\n",
    "\n",
    "    def spannweite(s):\n",
    "# largest minus smallest number in the number list s\n",
    "        if s:\n",
    "            return max(s) - min(s)\n",
    "\n",
    "    def median(s):\n",
    "        if s:\n",
    "            s1 = sorted(s)\n",
    "            if len(s) % 2 == 0:  # Länge ist gerade\n",
    "                return (s1[len(s)//2 - 1] + s1[len(s)//2]) / 2.0\n",
    "            else:\n",
    "                return s1[(len(s)-1)//2]\n",
    "\n",
    "    mittelwert = staticmethod(mittelwert)           #2\n",
    "    spannweite = staticmethod(spannweite)\n",
    "    median = staticmethod(median)\n",
    "\n",
    "\n",
    "s = [1, 4, 9, 11, 5]\n",
    "print(Statistik.mittelwert(s))\n",
    "print(Statistik.median(s))\n",
    "print(Statistik.spannweite(s))"
   ]
  },
  {
   "cell_type": "markdown",
   "metadata": {
    "slideshow": {
     "slide_type": "fragment"
    }
   },
   "source": [
    "The class definition has some special features:\n",
    "\n",
    "- There is no `__init__()` method because there is no attribute. The created objects of the Toolbox class always remain in the same state\n",
    "\n",
    "- There is no argument `self` in the parameter list of static methods (**#1**)\n",
    "\n",
    "- The methods defined by `def` become static methods of the class by calling `staticmethod()` (**#2**)"
   ]
  }
 ],
 "metadata": {
  "kernelspec": {
   "display_name": "Python 3 (ipykernel)",
   "language": "python",
   "name": "python3"
  },
  "language_info": {
   "codemirror_mode": {
    "name": "ipython",
    "version": 3
   },
   "file_extension": ".py",
   "mimetype": "text/x-python",
   "name": "python",
   "nbconvert_exporter": "python",
   "pygments_lexer": "ipython3",
   "version": "3.11.7"
  },
  "varInspector": {
   "cols": {
    "lenName": 16,
    "lenType": 16,
    "lenVar": 40
   },
   "kernels_config": {
    "python": {
     "delete_cmd_postfix": "",
     "delete_cmd_prefix": "del ",
     "library": "var_list.py",
     "varRefreshCmd": "print(var_dic_list())"
    },
    "r": {
     "delete_cmd_postfix": ") ",
     "delete_cmd_prefix": "rm(",
     "library": "var_list.r",
     "varRefreshCmd": "cat(var_dic_list()) "
    }
   },
   "types_to_exclude": [
    "module",
    "function",
    "builtin_function_or_method",
    "instance",
    "_Feature"
   ],
   "window_display": false
  }
 },
 "nbformat": 4,
 "nbformat_minor": 2
}
