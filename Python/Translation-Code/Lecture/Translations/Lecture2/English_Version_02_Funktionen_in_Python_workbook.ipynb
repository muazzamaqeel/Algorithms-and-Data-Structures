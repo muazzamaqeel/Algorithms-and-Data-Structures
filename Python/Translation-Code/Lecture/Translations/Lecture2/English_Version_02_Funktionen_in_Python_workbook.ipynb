{
 "cells": [
  {
   "cell_type": "markdown",
   "metadata": {
    "slideshow": {
     "slide_type": "slide"
    }
   },
   "source": [
    "## 3. Features\n",
    "\n",
    "If you try to fit all the instructions for calculating a complex task into a single, coherent section of source code (*main program*), the program will quickly lose readability or you will lose track of your own work. \\\n",
    "The so-called *subprogram technique* offers a remedy for breaking down complex problems into easy-to-manage sub-problems. In modern programming languages, such a subprogram is called: **function**."
   ]
  },
  {
   "cell_type": "markdown",
   "metadata": {
    "slideshow": {
     "slide_type": "fragment"
    }
   },
   "source": [
    "> A function is an object that can solve a specific sub-task of a program. When a function is called, it takes certain objects as input, processes them and returns an object as output [2]\n",
    "\n",
    "<sub>[2]: “6. Features | Python 3 - Learn and use professionally”. Accessed: March 17, 2024. [Online]. Available at: https://learning.oreilly.com/library/view/python-3/9783958457935/xhtml/ch12.xhtml\n",
    "\n",
    "</sub>"
   ]
  },
  {
   "cell_type": "markdown",
   "metadata": {
    "slideshow": {
     "slide_type": "fragment"
    }
   },
   "source": [
    "Two fundamental ideas are important when using functions:\n",
    "\n",
    "- gradual refinement\n",
    "- Recursion"
   ]
  },
  {
   "cell_type": "markdown",
   "metadata": {
    "slideshow": {
     "slide_type": "subslide"
    }
   },
   "source": [
    "Python offers a number of standard functions ([*built-in functions*](https://docs.python.org/3/library/functions.html)):\n",
    "\n",
    "- `int(x)`: Creates a new integer from a string, byte or float x.\n",
    "- `int(string, base)`: Creates an integer from a string encoding in the number system with base base\n",
    "- `float(x)`: Creates a floating point number from a string, byte or int x\n",
    "- `str(x)`: Formats the object x as a Unicode string. The formatting is the same as `print(x)`\n",
    "- `chr(code)`: Creates a character of a one-element [Unicode string](https://symbl.cc/de/unicode-table/) from an integer (int) Unicode encoding code.\n",
    "- `ord(char)`: Returns the encoding of a single-element Unicode string (&harr; `chr(code)`)\n",
    "- `hex(n), oct(n), bin(n)`: Encodes an integer n in hexadecimal, octal or dual system. Returns a Unicode string prefixed with `0x`, `0o` or `0b`"
   ]
  },
  {
   "cell_type": "code",
   "execution_count": null,
   "metadata": {
    "slideshow": {
     "slide_type": "fragment"
    }
   },
   "outputs": [],
   "source": [
    "# TODO examples\n",
    "\n"
   ]
  },
  {
   "cell_type": "markdown",
   "metadata": {
    "slideshow": {
     "slide_type": "subslide"
    }
   },
   "source": [
    "**Hintergrund: Call by what?**"
   ]
  },
  {
   "cell_type": "markdown",
   "metadata": {
    "slideshow": {
     "slide_type": "fragment"
    }
   },
   "source": [
    "Known (from C/C++):\n",
    "|call by value | call by reference |\n",
    "|:----|:----|\n",
    "| - a value is passed to the function, which is processed by the function, but without having any effect on the original object| - Function is passed a reference (pointer). This means that the object itself is processed and changes to it remain. |"
   ]
  },
  {
   "cell_type": "markdown",
   "metadata": {
    "slideshow": {
     "slide_type": "fragment"
    }
   },
   "source": [
    "Both are no longer available in Python, but only:\n",
    "\n",
    "| call by object |\n",
    "|:---|\n",
    "|- Objects (or their names) are always passed with a function. Whether changes to these persist ultimately depends on the type of object. There are mutable and immutable objects (*mutable* and *immutable*)"
   ]
  },
  {
   "cell_type": "markdown",
   "metadata": {
    "slideshow": {
     "slide_type": "slide"
    }
   },
   "source": [
    "### 3.1 Definition of functions"
   ]
  },
  {
   "cell_type": "markdown",
   "metadata": {
    "slideshow": {
     "slide_type": "fragment"
    }
   },
   "source": [
    "The definition of a function must follow the following format:\n",
    "\n",
    "```python\n",
    "def function name (parameter list):\n",
    "    instruction block\n",
    "```"
   ]
  },
  {
   "cell_type": "code",
   "execution_count": null,
   "metadata": {
    "slideshow": {
     "slide_type": "fragment"
    }
   },
   "outputs": [],
   "source": [
    "# TODO Example of a simple function\n"
   ]
  },
  {
   "cell_type": "code",
   "execution_count": null,
   "metadata": {
    "slideshow": {
     "slide_type": "fragment"
    }
   },
   "outputs": [],
   "source": [
    "# Program example for determining prime numbers\n",
    "def primzahl (zahl):\n",
    "    if zahl <= 1:\n",
    "        prim = False\n",
    "    elif zahl == 2:\n",
    "        prim = True\n",
    "    else:\n",
    "        for i in range(2, zahl//2 +1):\n",
    "            if zahl % i == 0:   # Teiler gefunden\n",
    "                prim = False\n",
    "                break\n",
    "        else: prim = True       # kein Teiler gefunden\n",
    "    return prim\n",
    "\n",
    "primzahl(3)"
   ]
  },
  {
   "cell_type": "markdown",
   "metadata": {
    "slideshow": {
     "slide_type": "fragment"
    }
   },
   "source": [
    "Better:"
   ]
  },
  {
   "cell_type": "code",
   "execution_count": null,
   "metadata": {
    "slideshow": {
     "slide_type": "fragment"
    }
   },
   "outputs": [],
   "source": [
    "# Program example for determining prime numbers\n",
    "def primzahl (zahl):\n",
    "    if zahl <= 1:\n",
    "        return False\n",
    "    elif zahl == 2:\n",
    "        return True\n",
    "    else:\n",
    "        for i in range(2, zahl//2 +1):\n",
    "            if zahl % i == 0:   # Teiler gefunden\n",
    "                return False\n",
    "        return True             # kein Teiler gefunden\n",
    "\n",
    "primzahl(3)"
   ]
  },
  {
   "cell_type": "markdown",
   "metadata": {
    "slideshow": {
     "slide_type": "slide"
    }
   },
   "source": [
    "### 3.2 Execution of functions\n",
    "#### 3.2.1 Global and local names"
   ]
  },
  {
   "cell_type": "code",
   "execution_count": null,
   "metadata": {
    "slideshow": {
     "slide_type": "fragment"
    }
   },
   "outputs": [],
   "source": [
    "# Example of \"Call by object\"\n",
    "def f(y) :\n",
    "    print(\"1. print in Funktion: id(y):\",id(y), \"y = \", y)\n",
    "    y = 3\n",
    "    print(\"2. print in Funktion: id(y):\",id(y), \"y = \", y)\n",
    "\n",
    "print(\"Call by Object Reference\")\n",
    "y = 17\n",
    "print (\"1. print im Hauptprogramm: id(y): \", id(y), \"y = \", y)\n",
    "f(y)\n",
    "print (\"2. print im Hauptprogramm: id(y): \", id(y), \"y = \", y)"
   ]
  },
  {
   "cell_type": "markdown",
   "metadata": {
    "slideshow": {
     "slide_type": "fragment"
    }
   },
   "source": [
    "Why isn't `y = 3` printed in the last print output?"
   ]
  },
  {
   "cell_type": "markdown",
   "metadata": {
    "slideshow": {
     "slide_type": "subslide"
    }
   },
   "source": [
    "Functions have their own *namespace*. This means that any variable you define within a function automatically has a **local** scope. This means that no matter what you do with this variable within the function, it will not affect other (**global**) variables outside the function, even if they have the same name. The function body/statement block is the scope of such a variable."
   ]
  },
  {
   "cell_type": "code",
   "execution_count": null,
   "metadata": {
    "slideshow": {
     "slide_type": "fragment"
    }
   },
   "outputs": [],
   "source": [
    "# TODO Example of a common error\n",
    "# Restart the kernel so that you are sure to see the error message\n"
   ]
  },
  {
   "cell_type": "markdown",
   "metadata": {
    "slideshow": {
     "slide_type": "fragment"
    }
   },
   "source": [
    "To gain insight into the namespaces created by the Python interpreter, there are the `globals()` and `locals()` functions:"
   ]
  },
  {
   "cell_type": "code",
   "execution_count": null,
   "metadata": {
    "slideshow": {
     "slide_type": "fragment"
    }
   },
   "outputs": [],
   "source": [
    "# TODO example without errors with output of the namespaces\n"
   ]
  },
  {
   "cell_type": "markdown",
   "metadata": {
    "slideshow": {
     "slide_type": "fragment"
    }
   },
   "source": [
    "Unfortunately the output is a bit confusing, but the following can still be seen:\n",
    "- In the main program, the local and global namespaces are (always) identical\n",
    "- The global namespaces of the functions correspond to those of the main program\n",
    "- The local namespaces of the functions only contain the locally defined information"
   ]
  },
  {
   "cell_type": "markdown",
   "metadata": {
    "slideshow": {
     "slide_type": "subslide"
    }
   },
   "source": [
    "#### 3.2.2 The global statement - side effects"
   ]
  },
  {
   "cell_type": "code",
   "execution_count": null,
   "metadata": {
    "slideshow": {
     "slide_type": "fragment"
    }
   },
   "outputs": [],
   "source": [
    "# Easy doubling function\n",
    "# Fix TODO errors\n",
    "def verdopple():   \n",
    "    x = x*2     \n",
    "x = 2\n",
    "verdopple()\n",
    "x"
   ]
  },
  {
   "cell_type": "markdown",
   "metadata": {
    "slideshow": {
     "slide_type": "fragment"
    }
   },
   "source": [
    "The `global` statement enters the variable into the global namespace. An assignment therefore affects the relevant variable in the main program. This is called **side effect**.\n",
    "\n",
    "If several variables are to be global, write e.g. `global x, y, z`."
   ]
  },
  {
   "cell_type": "markdown",
   "metadata": {
    "slideshow": {
     "slide_type": "subslide"
    }
   },
   "source": [
    "#### 3.2.3 Parameter transfer"
   ]
  },
  {
   "cell_type": "markdown",
   "metadata": {
    "slideshow": {
     "slide_type": "fragment"
    }
   },
   "source": [
    "The reason why the declaration of a global variable in Python does not have to be automatic but rather explicit is because the use of global variables is generally considered poor programming style.\n",
    "\n",
    "It is therefore better to use function parameters and/or return a value using the `return` statement.\n",
    "\n",
    "At this point you could say again that the design of Python enforces a good programming style, so to speak."
   ]
  },
  {
   "cell_type": "markdown",
   "metadata": {
    "slideshow": {
     "slide_type": "fragment"
    }
   },
   "source": [
    "When calling a function with parameters you say: The argument or parameter x is passed to the function. The parameters passed are treated like **local** variables. This means that all operations within the function have *no effect* on the current parameter in the main program.\n",
    "\n",
    "**Exception**: It is a mutable (*mutable*) object (e.g. lists, sets, byte arrays)"
   ]
  },
  {
   "cell_type": "code",
   "execution_count": null,
   "metadata": {
    "slideshow": {
     "slide_type": "fragment"
    }
   },
   "outputs": [],
   "source": [
    "# Simple doubling function with parameter passing\n",
    "# TODO make it work\n",
    "def verdopple(x):\n",
    "    x = x*2            \n",
    "x = 2\n",
    "verdopple(x)    \n",
    "x"
   ]
  },
  {
   "cell_type": "markdown",
   "metadata": {
    "slideshow": {
     "slide_type": "slide"
    }
   },
   "source": [
    "### 3.3 Default parameter values\n",
    "\n",
    "Some functions require optional arguments, which can be omitted when called without an error message appearing. However, certain default values ​​must be preset for this:\n",
    "\n",
    "```python\n",
    "def function (arg1=value1, arg2=value2, ...):\n",
    "```"
   ]
  },
  {
   "cell_type": "code",
   "execution_count": null,
   "metadata": {
    "slideshow": {
     "slide_type": "fragment"
    }
   },
   "outputs": [],
   "source": [
    "# Example of calculating the perimeter of a rectangle\n",
    "# TODO optionale Parameter\n"
   ]
  },
  {
   "cell_type": "markdown",
   "metadata": {
    "slideshow": {
     "slide_type": "fragment"
    }
   },
   "source": [
    "What if I only want to pass the width to the `perimeter()` function and use the default value for length?"
   ]
  },
  {
   "cell_type": "markdown",
   "metadata": {
    "slideshow": {
     "slide_type": "subslide"
    }
   },
   "source": [
    "#### 3.3.1 Keyword parameters\n",
    "\n",
    "Previously, the arguments were passed in exactly the order specified in the function header. This is referred to as *positional arguments* because the assignment of an argument results from its position in the argument list.\n",
    "\n",
    "However, *positional arguments* are a potential source of semantic errors. In complex programs, swapping the order can lead to indescribable errors without resulting in an error message from the system.\n",
    "\n",
    "Therefore, it makes sense to use *keyword arguments* in the form `keyword=value` when calling a function."
   ]
  },
  {
   "cell_type": "code",
   "execution_count": null,
   "metadata": {
    "slideshow": {
     "slide_type": "fragment"
    }
   },
   "outputs": [],
   "source": [
    "# Example of calculating the perimeter of a rectangle\n",
    "# Use TODO keyword parameters\n"
   ]
  },
  {
   "cell_type": "markdown",
   "metadata": {
    "slideshow": {
     "slide_type": "subslide"
    }
   },
   "source": [
    "#### 3.3.2 Any number of parameters\n",
    "\n",
    "It is often the case that the number of parameters required for the call is not known in advance. There are the following important terms in computer science:\n",
    "\n",
    "- *Arity*: Number of parameters of functions, procedures or methods\n",
    "- *variadic function*: functions with indeterminate arity\n",
    "\n",
    "In Python, variadic functions are defined using the `*` operator before a parameter."
   ]
  },
  {
   "cell_type": "code",
   "execution_count": null,
   "metadata": {
    "slideshow": {
     "slide_type": "fragment"
    }
   },
   "outputs": [],
   "source": [
    "# TODO Example of a variadic function\n"
   ]
  },
  {
   "cell_type": "markdown",
   "metadata": {
    "slideshow": {
     "slide_type": "subslide"
    }
   },
   "source": [
    "#### 3.3.3 Any keyword parameters\n",
    "\n",
    "There is also a mechanism for any number of keyword parameters. In Python, the `**` operator is written in front of a parameter"
   ]
  },
  {
   "cell_type": "code",
   "execution_count": null,
   "metadata": {
    "slideshow": {
     "slide_type": "fragment"
    }
   },
   "outputs": [],
   "source": [
    "# TODO example for arbitrary keyword parameters\n"
   ]
  },
  {
   "cell_type": "markdown",
   "metadata": {
    "slideshow": {
     "slide_type": "slide"
    }
   },
   "source": [
    "### 3.4 Rekursion\n",
    "\n",
    "> *Recursion is an order of magnitude more complicated than repitition.* - Dijkstra"
   ]
  },
  {
   "cell_type": "markdown",
   "metadata": {
    "slideshow": {
     "slide_type": "subslide"
    }
   },
   "source": [
    "#### 3.4.1 Experiments on recursion"
   ]
  },
  {
   "cell_type": "code",
   "execution_count": null,
   "metadata": {
    "slideshow": {
     "slide_type": "fragment"
    }
   },
   "outputs": [],
   "source": [
    "# A recursive spiral\n",
    "from turtle import *\n",
    "\n",
    "def spirale(x):\n",
    "    if x < 5:       # Abbruchbedingung (notwendig!)\n",
    "        return\n",
    "    else:\n",
    "        forward(x)\n",
    "        right(90)\n",
    "        spirale(x*0.9)\n",
    "        return\n",
    "    \n",
    "\n",
    "spirale(200)\n"
   ]
  },
  {
   "cell_type": "code",
   "execution_count": null,
   "metadata": {
    "slideshow": {
     "slide_type": "fragment"
    }
   },
   "outputs": [],
   "source": [
    "# Run this cell to close the turtle window\n",
    "from turtle import * \n",
    "bye()"
   ]
  },
  {
   "cell_type": "code",
   "execution_count": null,
   "metadata": {
    "scrolled": true,
    "slideshow": {
     "slide_type": "fragment"
    }
   },
   "outputs": [],
   "source": [
    "# Sierpinski-Dreieck\n",
    "from turtle import *\n",
    "def sierpinski(x):\n",
    "    if x < 5:\n",
    "        return\n",
    "    else:\n",
    "        fd(x)\n",
    "        right(120)\n",
    "        fd(x)\n",
    "        right(120)\n",
    "        fd(x)\n",
    "        right(120)\n",
    "        sierpinski(x/2)\n",
    "        fd(x/2)\n",
    "        sierpinski(x/2)\n",
    "        back(x/2)\n",
    "        right(60)\n",
    "        fd(x/2)\n",
    "        left(60)\n",
    "        sierpinski(x/2)\n",
    "        right(60)\n",
    "        back(x/2)\n",
    "        left(60)\n",
    "        return\n",
    "\n",
    "speed(0)\n",
    "left(60)\n",
    "sierpinski(200)\n",
    "hideturtle()"
   ]
  },
  {
   "cell_type": "markdown",
   "metadata": {
    "slideshow": {
     "slide_type": "subslide"
    }
   },
   "source": [
    "#### 3.4.2 Recursive number functions\n",
    "\n",
    "As a classic example from mathematics, a recursive definition of the factorial would be:\n",
    "```python\n",
    "1! = 1 # Termination condition\n",
    "n! = n*(n-1)! # recursive statement for all natural numbers n > 1\n",
    "```"
   ]
  },
  {
   "cell_type": "markdown",
   "metadata": {
    "slideshow": {
     "slide_type": "fragment"
    }
   },
   "source": [
    "Using `4!` as an example\n",
    "```python\n",
    "= 4*3!\n",
    "= 4*3*2!\n",
    "= 4*3*2*1!\n",
    "= 4*3*2*1\n",
    "= 24\n",
    "```"
   ]
  },
  {
   "cell_type": "code",
   "execution_count": null,
   "metadata": {
    "slideshow": {
     "slide_type": "fragment"
    }
   },
   "outputs": [],
   "source": [
    "# TODO Python function to calculate factorial\n"
   ]
  },
  {
   "cell_type": "markdown",
   "metadata": {
    "slideshow": {
     "slide_type": "fragment"
    }
   },
   "source": [
    "**Important**: A recursive function must contain a conditional statement that allows the recursion to be canceled.\\\n",
    "**But**: The mere existence of a termination condition is of course no guarantee that they will be fulfilled at some point. The result of an incorrect termination condition would be an *infinite recursion*."
   ]
  },
  {
   "cell_type": "markdown",
   "metadata": {
    "slideshow": {
     "slide_type": "subslide"
    }
   },
   "source": [
    "#### 3.4.3 Recursion depth\n",
    "\n",
    "The number of recursive calls is called *recursion depth*. If there are many calls, the recursion depth can become very large, which can mean that the computer's RAM is no longer sufficient. \\\n",
    "The Python interpreter respects a preset upper limit."
   ]
  },
  {
   "cell_type": "code",
   "execution_count": null,
   "metadata": {
    "slideshow": {
     "slide_type": "fragment"
    }
   },
   "outputs": [],
   "source": [
    "# Testing the recursion depth and its limits\n",
    "i = 0\n",
    "def f():\n",
    "    global i \n",
    "    i += 1\n",
    "    f()     # Rekursionsaufruf\n",
    "f()\n"
   ]
  },
  {
   "cell_type": "code",
   "execution_count": null,
   "metadata": {
    "slideshow": {
     "slide_type": "fragment"
    }
   },
   "outputs": [],
   "source": [
    "# Code to find the maximum recursion depth\n",
    "import sys\n",
    "print(\"Maximale Rekursionstiefe: \",sys.getrecursionlimit())"
   ]
  },
  {
   "cell_type": "markdown",
   "metadata": {
    "slideshow": {
     "slide_type": "fragment"
    }
   },
   "source": [
    "**Conclusion about recursion in Python**:\n",
    "\n",
    "| Advantages | Disadvantages |\n",
    "|:---|:---|\n",
    "| - short and elegant formulations for problem solutions - require a lot of storage space|\n",
    "|- better understanding of the solution | - often work inefficiently, which is reflected in long running times"
   ]
  },
  {
   "cell_type": "markdown",
   "metadata": {
    "slideshow": {
     "slide_type": "slide"
    }
   },
   "source": [
    "### 3.5 Functions as objects\n",
    "\n",
    "In Python's standard type hierarchy, functions are called callable objects. They are, so to speak, \"treated the same\" as variables. Functions therefore also have an **identity**, a **type** and a **value** (see also 2.2.1 Data as Objects)."
   ]
  },
  {
   "cell_type": "code",
   "execution_count": null,
   "metadata": {
    "slideshow": {
     "slide_type": "fragment"
    }
   },
   "outputs": [],
   "source": [
    "# TODO example using the standard function len()\n"
   ]
  },
  {
   "cell_type": "code",
   "execution_count": null,
   "metadata": {
    "slideshow": {
     "slide_type": "fragment"
    }
   },
   "outputs": [],
   "source": [
    "# TODO practical example of a function object\n"
   ]
  },
  {
   "cell_type": "markdown",
   "metadata": {
    "slideshow": {
     "slide_type": "fragment"
    }
   },
   "source": [
    "? can be useful for frequently used, long function names"
   ]
  },
  {
   "cell_type": "markdown",
   "metadata": {
    "slideshow": {
     "slide_type": "subslide"
    }
   },
   "source": [
    "**Background: Types are *not* functions**\n",
    "\n",
    "A few of the so-called *built-in functions*, such as `int()`, `float()`, `str()`, `bool()`, etc. are strictly speaking **not** functions, but Types (*typecasting*). Python makes this subtle distinction, but like functions they are callable objects (*callable objects*):"
   ]
  },
  {
   "cell_type": "code",
   "execution_count": null,
   "metadata": {
    "slideshow": {
     "slide_type": "fragment"
    }
   },
   "outputs": [],
   "source": [
    "# Determination of function “type”\n",
    "print(type(bool))\n",
    "print(type(str))\n",
    "print(type(abs))\n",
    "print(type(len))"
   ]
  },
  {
   "cell_type": "markdown",
   "metadata": {
    "slideshow": {
     "slide_type": "slide"
    }
   },
   "source": [
    "### 3.6 Lambda forms\n",
    "\n",
    "The lambda operator provides a way to write and use anonymous functions, i.e. functions without names. Using Lambda functions moves away from object-oriented programming (OOP) and moves closer to functional programming (FP). FP is mainly used in technical and mathematical fields. Python supports and enables FP to a large extent, even if inventor Guido van Rossum would have preferred to remove it with Python 3. `lambda`, `map`, `filter` and `reduce` are code extensions of FP.\\\n",
    "The Lambda function has the following syntax:\n",
    "\n",
    "```python\n",
    "\"lambda\" [parameter_list]: expression\n",
    "```"
   ]
  },
  {
   "cell_type": "markdown",
   "metadata": {
    "slideshow": {
     "slide_type": "fragment"
    }
   },
   "source": [
    "`lambda` is a key word here"
   ]
  },
  {
   "cell_type": "code",
   "execution_count": null,
   "metadata": {
    "slideshow": {
     "slide_type": "fragment"
    }
   },
   "outputs": [],
   "source": [
    "# TODO lambda examples\n"
   ]
  },
  {
   "cell_type": "markdown",
   "metadata": {
    "slideshow": {
     "slide_type": "subslide"
    }
   },
   "source": [
    "##### Using if-else statements in Lambda functions\n",
    "\n",
    "Syntax:\n",
    "\n",
    "```python\n",
    "\"lambda\" [parameter_list]: expression1 if condition else expression2\n",
    "```"
   ]
  },
  {
   "cell_type": "code",
   "execution_count": null,
   "metadata": {
    "slideshow": {
     "slide_type": "fragment"
    }
   },
   "outputs": [],
   "source": [
    "# TODO example\n"
   ]
  },
  {
   "cell_type": "markdown",
   "metadata": {
    "slideshow": {
     "slide_type": "subslide"
    }
   },
   "source": [
    "##### Lambda functions within a function\n",
    "\n",
    "Syntax:\n",
    "```python\n",
    "def function(y):\n",
    "    return lambda x: f(x,y) # returns a lambda function as a function value\n",
    "```"
   ]
  },
  {
   "cell_type": "code",
   "execution_count": null,
   "metadata": {
    "slideshow": {
     "slide_type": "fragment"
    }
   },
   "outputs": [],
   "source": [
    "# TODO example \"y-subject function\"\n"
   ]
  },
  {
   "cell_type": "markdown",
   "metadata": {
    "slideshow": {
     "slide_type": "fragment"
    }
   },
   "source": [
    "? You'll see next week how useful Lambda functions can be, especially in conjunction with lists"
   ]
  },
  {
   "cell_type": "markdown",
   "metadata": {
    "slideshow": {
     "slide_type": "slide"
    }
   },
   "source": [
    "### 3.7 Notes on programming style\n",
    "\n",
    "#### 3.7.1 General\n",
    "\n",
    "- Iterative functions (with loops) are usually preferable to recursive functions because they usually require less computing time and memory."
   ]
  },
  {
   "cell_type": "markdown",
   "metadata": {
    "slideshow": {
     "slide_type": "subslide"
    }
   },
   "source": [
    "#### 3.7.2 Function names\n",
    "\n",
    "As with variable names, function names should be descriptive so that you can understand what the function does. These usually start with a small letter. You also use verbs in the imperative mood or the function name is a noun that expresses what result the function returns:\n",
    "\n",
    "```python\n",
    "# Verbs in the imperative mood\n",
    "calculateSum\n",
    "getRecursionLimit\n",
    "apply\n",
    "# nouns\n",
    "total\n",
    "sum of squares\n",
    "min\n",
    "file\n",
    "globals\n",
    "locals\n",
    "```"
   ]
  },
  {
   "cell_type": "markdown",
   "metadata": {
    "slideshow": {
     "slide_type": "subslide"
    }
   },
   "source": [
    "#### 3.7.3 Commented parameters\n",
    "\n",
    "Professional documentation includes commenting and explaining the individual parameters in the function header. You write each parameter on different physical lines; the Python interpreter then sees them as a single logical line"
   ]
  },
  {
   "cell_type": "code",
   "execution_count": null,
   "metadata": {
    "slideshow": {
     "slide_type": "fragment"
    }
   },
   "outputs": [],
   "source": [
    "def druckeEtikett(  name,           # chemische Bezeichnung (String)\n",
    "                    formel,         # chemische Formel (String)\n",
    "                    r_saetze,       # Tupel von Nummern\n",
    "                    s_saetze,       # Tupel von Nummern\n",
    "                    gefahrenhinweis,# z.B. \"aetzend\" (String)\n",
    "                    fuellmenge      # Füllmenge in g (Integer)\n",
    "                    ):\n",
    "    print(name, formel, r_saetze, s_saetze, gefahrenhinweis, fuellmenge)\n",
    "\n",
    "druckeEtikett(\"Salzsäure\", \"HCl\", (1,2,3), (4,5,6), \"aetzend\", 200)"
   ]
  },
  {
   "cell_type": "markdown",
   "metadata": {
    "slideshow": {
     "slide_type": "subslide"
    }
   },
   "source": [
    "#### 3.7.4 Docstrings\n",
    "\n",
    "A docstring is inserted directly under the function header and enclosed in triple quotation marks `\"\"\"`. The first line describes the task of the function, the second line remains empty and the following lines can contain information about the following points:\n",
    "- Prerequisites: What properties must the passed parameters have?\n",
    "- Postconditions: Which objects does the function return?\n",
    "- Which global variables are used? What side effects are caused?\n",
    "- Author name and last modified date"
   ]
  },
  {
   "cell_type": "code",
   "execution_count": null,
   "metadata": {
    "slideshow": {
     "slide_type": "fragment"
    }
   },
   "outputs": [],
   "source": [
    "# Example of using a docstring\n",
    "def tueNichts():\n",
    "    \"\"\" Diese Funktion macht nichts\n",
    "    \n",
    "    Sie verwendet keine Parameter,\n",
    "    hat keine Seiteneffekte und\n",
    "    gibt nichts zurück\n",
    "    F. Hillitzer 18.03.2024\n",
    "    \"\"\"\n",
    "    pass"
   ]
  },
  {
   "cell_type": "markdown",
   "metadata": {
    "slideshow": {
     "slide_type": "fragment"
    }
   },
   "source": [
    "The docstring of a function can be revealed using the `help()` function:"
   ]
  },
  {
   "cell_type": "code",
   "execution_count": null,
   "metadata": {
    "slideshow": {
     "slide_type": "fragment"
    }
   },
   "outputs": [],
   "source": [
    "help(tueNichts)"
   ]
  }
 ],
 "metadata": {
  "celltoolbar": "Slideshow",
  "kernelspec": {
   "display_name": "Python 3 (ipykernel)",
   "language": "python",
   "name": "python3"
  },
  "language_info": {
   "codemirror_mode": {
    "name": "ipython",
    "version": 3
   },
   "file_extension": ".py",
   "mimetype": "text/x-python",
   "name": "python",
   "nbconvert_exporter": "python",
   "pygments_lexer": "ipython3",
   "version": "3.11.7"
  },
  "varInspector": {
   "cols": {
    "lenName": 16,
    "lenType": 16,
    "lenVar": 40
   },
   "kernels_config": {
    "python": {
     "delete_cmd_postfix": "",
     "delete_cmd_prefix": "del ",
     "library": "var_list.py",
     "varRefreshCmd": "print(var_dic_list())"
    },
    "r": {
     "delete_cmd_postfix": ") ",
     "delete_cmd_prefix": "rm(",
     "library": "var_list.r",
     "varRefreshCmd": "cat(var_dic_list()) "
    }
   },
   "types_to_exclude": [
    "module",
    "function",
    "builtin_function_or_method",
    "instance",
    "_Feature"
   ],
   "window_display": false
  }
 },
 "nbformat": 4,
 "nbformat_minor": 2
}
