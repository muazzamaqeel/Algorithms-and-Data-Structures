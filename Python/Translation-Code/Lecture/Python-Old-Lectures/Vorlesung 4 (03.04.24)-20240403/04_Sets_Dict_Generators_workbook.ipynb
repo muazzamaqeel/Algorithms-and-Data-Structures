{
 "cells": [
  {
   "cell_type": "markdown",
   "metadata": {
    "slideshow": {
     "slide_type": "slide"
    }
   },
   "source": [
    "### 4.3 Mengen"
   ]
  },
  {
   "cell_type": "markdown",
   "metadata": {
    "slideshow": {
     "slide_type": "fragment"
    }
   },
   "source": [
    "Mengen (*sets*) sind ungeordnete Kollektionen ohne Duplikate, die iterierbar und veränderbar sind. Damit bezeichnet man sie auch als *iterable* und *mutable*. Die Elemente einer Menge haben keine Reihenfolge, damit auch keine Indizes und zählen somit auch nicht zu den sequentiellen Datentypen."
   ]
  },
  {
   "cell_type": "markdown",
   "metadata": {
    "slideshow": {
     "slide_type": "fragment"
    }
   },
   "source": [
    "Um Mengen unveränderbar (*immutable*) zu machen gibt es den Datentyp `frozenset`. \n",
    "\n",
    "Zum Erzeugen einer Menge verwendet man wie in der Mathematik geschweifte Klammern (alternativ mit dem Schlüsselwort `set(...)`)"
   ]
  },
  {
   "cell_type": "code",
   "execution_count": null,
   "metadata": {
    "slideshow": {
     "slide_type": "fragment"
    }
   },
   "outputs": [],
   "source": [
    "# TODO Beispiel Menge\n"
   ]
  },
  {
   "cell_type": "markdown",
   "metadata": {
    "slideshow": {
     "slide_type": "fragment"
    }
   },
   "source": [
    "Übliche Operatoren aus der Mathematik: Schnittmenge `&`, Vereinigung `|` und Differenz `-`"
   ]
  },
  {
   "cell_type": "code",
   "execution_count": null,
   "metadata": {
    "slideshow": {
     "slide_type": "fragment"
    }
   },
   "outputs": [],
   "source": [
    "# Mengen-Operatoren aus der Mathematik\n",
    "m1 = set(\"Einstein\")\n",
    "m2 = set(\"Relativitaet\")\n",
    "print(m1 & m2)  # Schnittmenge\n",
    "print(m1 | m2)  # Vereinigung\n",
    "print(m1 - m2)  # Differenz"
   ]
  },
  {
   "cell_type": "markdown",
   "metadata": {
    "slideshow": {
     "slide_type": "subslide"
    }
   },
   "source": [
    "Methoden für weitere Operationen auf Mengen:\n",
    "\n",
    "| Methoden|Beschreibung |\n",
    "|:----|:----|\n",
    "| `menge.add(e)`  | Fügt das Element e in die Menge menge als neues Element ein  |\n",
    "| `menge.clear()`   | Entfernt alle elemente aus der Menge menge   |\n",
    "| `menge.discard(e)`  | Das Element e wird aus der Menge menge entfernt.   |\n",
    "| `menge.copy()`  | (Flache) Kopie der Menge menge   |\n",
    "| `menge.difference(andereMenge)`  | = `menge - andereMenge`   |\n",
    "| `menge.intersection(andereMenge)`  | = `menge & andereMenge`   |\n",
    "| `menge.union(andereMenge)`   | = `menge \\| andereMenge`  |"
   ]
  },
  {
   "cell_type": "markdown",
   "metadata": {
    "slideshow": {
     "slide_type": "subslide"
    }
   },
   "source": [
    "##### Mengenabstraktion (*set comprehension*)\n",
    "\n",
    "Vergleich von Listen- und Mengenabstraktion am Algorithmus \"[Sieb des Eratosthenes](https://de.wikipedia.org/wiki/Sieb_des_Eratosthenes#/media/Datei:Animation_Sieb_des_Eratosthenes_%C3%9Cberarbeitet.gif)\" zur Ermittlung der Primzahlen von $2$ bis $n$."
   ]
  },
  {
   "cell_type": "code",
   "execution_count": null,
   "metadata": {
    "slideshow": {
     "slide_type": "fragment"
    }
   },
   "outputs": [],
   "source": [
    "# Via list comprehension\n",
    "from math import sqrt\n",
    "n = 75\n",
    "sqrt_n = int(sqrt(n))\n",
    "no_primes = [j for i in range(2, sqrt_n) for j in range(i*2, n, i)]\n",
    "print(no_primes)\n",
    "primes = [i for i in range(2, n) if i not in no_primes]\n",
    "print(primes)"
   ]
  },
  {
   "cell_type": "code",
   "execution_count": null,
   "metadata": {
    "slideshow": {
     "slide_type": "fragment"
    }
   },
   "outputs": [],
   "source": [
    "# Via set comprehension\n",
    "from math import sqrt\n",
    "n = 75\n",
    "sqrt_n = int(sqrt(n))\n",
    "no_primes = {j for i in range(2, sqrt_n) for j in range(i*2, n, i)}\n",
    "print(no_primes)\n",
    "primes = {i for i in range(2, n) if i not in no_primes}\n",
    "print(primes)"
   ]
  },
  {
   "cell_type": "markdown",
   "metadata": {
    "slideshow": {
     "slide_type": "slide"
    }
   },
   "source": [
    "### 4.4 Dictionary"
   ]
  },
  {
   "cell_type": "markdown",
   "metadata": {
    "slideshow": {
     "slide_type": "fragment"
    }
   },
   "source": [
    "Neben Listen sind *Dictionaries* eines der bedeutendsten Datenstrukturen in Python. Es handelt sich dabei um eine *ungeordnete Sammlung von Schlüssel-Wert-Paaren*. In den Programmiersprachen spricht man dann auch von einem *assoziativen Feld*. "
   ]
  },
  {
   "cell_type": "markdown",
   "metadata": {
    "slideshow": {
     "slide_type": "fragment"
    }
   },
   "source": [
    "Einschub: Was ist ein *assoziatives Array (Feld)*?\n",
    "\n",
    "> Ein assoziatives Array ist eine Datenstruktur, die – anders als ein gewöhnliches Feld – nichtnumerische (oder nicht fortlaufende) Schlüssel (zumeist Zeichenketten) verwendet, um die enthaltenen Elemente zu adressieren. Diese sind in keiner festgelegten Reihenfolge abgespeichert. Idealerweise werden die Schlüssel so gewählt, dass eine für die Programmierer nachvollziehbare Verbindung zwischen Schlüssel und Datenwert besteht."
   ]
  },
  {
   "cell_type": "markdown",
   "metadata": {
    "slideshow": {
     "slide_type": "fragment"
    }
   },
   "source": [
    "Die Schlüssel (*keys*) dürfen nur unveränderliche (*immutable*) Datentypen sein. Die Dictionaries selbst sind *mutable*."
   ]
  },
  {
   "cell_type": "markdown",
   "metadata": {
    "slideshow": {
     "slide_type": "subslide"
    }
   },
   "source": [
    "Die wichtigsten Methoden für Operationen auf Dictionaries:\n",
    "\n",
    "| Methoden|Beschreibung |\n",
    "|:----|:----|\n",
    "| `d.keys()`  | Gibt die Schlüssel der Dictionaries d zurück  |\n",
    "| `d.values()`   | Gibt die Werte des Dictionaries d zurück   |\n",
    "| `d.items()`  | Gibt eine Liste mit Tupeln zurück. Jedes Tupel enthält ein Schlüssel-Wert-Paar aus dem Dictionary d  |\n",
    "| `d.has_key(k)`  | Überprüft, ob der Schlüssel k im Dictionary d enthalten ist   |\n",
    "| `del d[k]`  | Löscht das Schlüssel-Wert-Paar mit dem Schlüssel k aus dem Dictionary d  |\n",
    "| `k in d`  | Überprüft, ob k ein Schlüssel des Dictionarys d ist   |\n"
   ]
  },
  {
   "cell_type": "code",
   "execution_count": null,
   "metadata": {
    "slideshow": {
     "slide_type": "fragment"
    }
   },
   "outputs": [],
   "source": [
    "# Beispiele zu Dictionaries\n",
    "# In {}-Klammern wie Mengen, einzelne Paare durch \",\" getrennt, \":\" unterscheidet dict von set\n",
    "waehrungen = {\"Deutschland\" : \"Euro\", \"Indien\" : \"Indische Rupie\", \n",
    "              \"Grossbritannien\" : \"Pfund Sterling\", \"Japan\" : \"Yen\", \n",
    "              \"Frankreich\" : \"Euro\"}\n",
    "\n",
    "# TODO Zugriff auf ein Element über Schlüssel \n",
    "\n",
    "\n",
    "# TODO \"Ist Schlüssel in Dictionary?\"\n",
    "\n",
    "# TODO gib Schlüssel aus\n",
    "\n",
    "# dasselbe wie:\n",
    "\n",
    "# TODO gib Werte aus\n",
    "   \n",
    "# TODO gib Paare aus\n",
    "\n"
   ]
  },
  {
   "cell_type": "markdown",
   "metadata": {
    "slideshow": {
     "slide_type": "subslide"
    }
   },
   "source": [
    "- Dictionary aus Listen erzeugen: die `zip`-Funktion"
   ]
  },
  {
   "cell_type": "markdown",
   "metadata": {
    "slideshow": {
     "slide_type": "fragment"
    }
   },
   "source": [
    "Die `zip()`-Funktion kann auf eine beliebige Anzahl an iterierbaren Objekten angewendet werden und gibt ein zip-Objekt zurück, bei dem es sich um einen Tupel-Iterator handelt. Zuerst liefert sie ein Tupel mit den ersten Elementen der Eingabeobjekte, dann die zweiten, dritten und stoppt, sobald eines der iterierbaren Objekte aufgebraucht ist."
   ]
  },
  {
   "cell_type": "code",
   "execution_count": null,
   "metadata": {
    "slideshow": {
     "slide_type": "fragment"
    }
   },
   "outputs": [],
   "source": [
    "# Beispiel mit Zahlen und Buchstaben\n",
    "einige_buchstaben = [\"a\", \"b\", \"c\", \"d\", \"e\", \"f\"]\n",
    "einige_zahlen = [5, 3, 7, 9, 11, 2]\n",
    "print(zip(einige_buchstaben, einige_zahlen))\n",
    "print(type(zip(einige_buchstaben, einige_zahlen)))\n",
    "for t in zip(einige_buchstaben, einige_zahlen):\n",
    "    print(t)\n",
    "\n"
   ]
  },
  {
   "cell_type": "code",
   "execution_count": null,
   "metadata": {
    "slideshow": {
     "slide_type": "fragment"
    }
   },
   "outputs": [],
   "source": [
    "# Beispiel für unterschiedlich lange Eingabeobjekte\n",
    "ort = [\"Helgoland\", \"Kiel\", \"Berlin-Tegel\"]\n",
    "luftdruck = (1021.2, 1019.9, 1023.7, 1023.1, 1027.7)\n",
    "for ort, ld in zip(ort, luftdruck):\n",
    "    print(f\"Der Luftdruck in {ort} beträgt: {ld:7.1f}\")"
   ]
  },
  {
   "cell_type": "code",
   "execution_count": null,
   "metadata": {
    "slideshow": {
     "slide_type": "fragment"
    }
   },
   "outputs": [],
   "source": [
    "# TODO Dictionary aus Listen, Beispiel Währungen\n",
    "l = [\"Deutschland\", \"Indien\", \"Großbritannien\", \"Japan\", \"Frankreich\"]\n",
    "w = [ \"Euro\", \"Indische Rupie\",\"Pfund Sterling\", \"Yen\", \"Euro\" ]\n",
    "\n"
   ]
  },
  {
   "cell_type": "markdown",
   "metadata": {
    "slideshow": {
     "slide_type": "slide"
    }
   },
   "source": [
    "### 4.5 Generatoren und Iteratoren"
   ]
  },
  {
   "cell_type": "markdown",
   "metadata": {
    "slideshow": {
     "slide_type": "fragment"
    }
   },
   "source": [
    "Neben Sequenzen (*sequentielle Datentypen*) und Mengen gibt es auch *Generatoren*. Im Gegensatz zu den ersten beiden werden Daten nicht explizit gespeichert, sondern erst bei Bedarf erzeugt. Generatoren werden daher auch als *virtuelle Kollektionen* bezeichnet. "
   ]
  },
  {
   "cell_type": "markdown",
   "metadata": {
    "slideshow": {
     "slide_type": "fragment"
    }
   },
   "source": [
    "Die Vorteile sind:\n",
    "\n",
    "- weniger Speicherplatz\n",
    "\n",
    "- schneller"
   ]
  },
  {
   "cell_type": "markdown",
   "metadata": {
    "slideshow": {
     "slide_type": "fragment"
    }
   },
   "source": [
    "Betrachten Sie folgende Liste mit zehn Elementen:"
   ]
  },
  {
   "cell_type": "code",
   "execution_count": null,
   "metadata": {
    "slideshow": {
     "slide_type": "fragment"
    }
   },
   "outputs": [],
   "source": [
    "s = [0, 1, 4, 9, 16, 25, 36, 49, 64, 81]"
   ]
  },
  {
   "cell_type": "markdown",
   "metadata": {
    "slideshow": {
     "slide_type": "fragment"
    }
   },
   "source": [
    "Jedes Element ist im Arbeitsspeicher abgelegt und kann bei Bedarf abgerufen werden. Wenn es niemals abgerufen wird, ist es trotzdem da und beansprucht Speicherplatz. Abstrakt könnte man diese Liste auch wie folgt definieren:\n",
    "\n",
    "> *Die Folge aller ganzen Quadratzahlen, die kleiner als 100 sind*"
   ]
  },
  {
   "cell_type": "markdown",
   "metadata": {
    "slideshow": {
     "slide_type": "fragment"
    }
   },
   "source": [
    "Damit ist die Sequenz exakt festgelegt, ohne ein einziges Element explizit zu erzeugen oder zu nennen. \n",
    "\n",
    "Generatoren entsprechen damit einer Konstruktionsvorschrift, mit der bei Bedarf jedes Element generiert werden kann. Sie können auf zweierlei Weise definiert werden: *Generatorausdrücke* oder *Generatorfunktionen*."
   ]
  },
  {
   "cell_type": "markdown",
   "metadata": {
    "slideshow": {
     "slide_type": "subslide"
    }
   },
   "source": [
    "#### 4.5.1 Generatorausdrücke"
   ]
  },
  {
   "cell_type": "markdown",
   "metadata": {
    "slideshow": {
     "slide_type": "fragment"
    }
   },
   "source": [
    "Generatorausdrücke ähneln sehr der *list comprehension*. Statt eckigen verwenden Sie einfach *runde* Klammern. Ein Generatorausdrück für die obigen Liste könnte wie folgt aussehen:"
   ]
  },
  {
   "cell_type": "code",
   "execution_count": null,
   "metadata": {
    "slideshow": {
     "slide_type": "fragment"
    }
   },
   "outputs": [],
   "source": [
    "# TODO Generatorausdruck für Liste\n"
   ]
  },
  {
   "cell_type": "markdown",
   "metadata": {
    "slideshow": {
     "slide_type": "fragment"
    }
   },
   "source": [
    "Generatorausdrücke werden auch gerne verwendet, um Mengen zu definieren und können direkt als Argument in die `set()`-Funktion übernommen werden:"
   ]
  },
  {
   "cell_type": "code",
   "execution_count": null,
   "metadata": {
    "slideshow": {
     "slide_type": "fragment"
    }
   },
   "outputs": [],
   "source": [
    "# TODO Mengendefinition mit Generatorausdruck\n"
   ]
  },
  {
   "cell_type": "markdown",
   "metadata": {
    "slideshow": {
     "slide_type": "subslide"
    }
   },
   "source": [
    "#### 4.5.2 Generatorfunktionen\n"
   ]
  },
  {
   "cell_type": "markdown",
   "metadata": {
    "slideshow": {
     "slide_type": "fragment"
    }
   },
   "source": [
    "Generatorfunktionen sind Funktionen, die ein Generator-Objekt zurückgeben. Sie unterscheiden sich von normalen Funktionen durch die `yield`-Anweisung. Eine Generatorfunktion zur Erzeugung von Quadratzahlen von $0$ bis $n-1$ lautet daher:"
   ]
  },
  {
   "cell_type": "code",
   "execution_count": null,
   "metadata": {
    "slideshow": {
     "slide_type": "fragment"
    }
   },
   "outputs": [],
   "source": [
    "# TODO Generatorfunktion\n"
   ]
  },
  {
   "cell_type": "markdown",
   "metadata": {
    "slideshow": {
     "slide_type": "fragment"
    }
   },
   "source": [
    "Folgendes passiert bei der Ausführung von `yield`:"
   ]
  },
  {
   "cell_type": "markdown",
   "metadata": {
    "slideshow": {
     "slide_type": "fragment"
    }
   },
   "source": [
    "- Ausdruck hinter `yield` wird *zurückgegeben* (wie bei `return`)\n",
    "- aktuelle Funktionsausführung wird *unterbrochen*\n",
    "- aktueller Zustand des zur Funktion gehörenden Prozesses wird *gemerkt*\n",
    "- wenn das nächste Generator-Objekt verlangt wird, wird die Funktion *nach* dem `yield` *fortgesetzt*"
   ]
  },
  {
   "cell_type": "markdown",
   "metadata": {
    "slideshow": {
     "slide_type": "fragment"
    }
   },
   "source": [
    "&rarr; Man kann also die zu erzeugenden Elemente im Gegensatz zu Listen nicht in beliebiger Reihenfolge lesen, sondern nur vorne beginnend in der vorgegebenen Reihenfolge. Die Funktion `next()` liefert das nächste Element der vom Generator erzeugten Folge."
   ]
  },
  {
   "cell_type": "code",
   "execution_count": null,
   "metadata": {
    "slideshow": {
     "slide_type": "fragment"
    }
   },
   "outputs": [],
   "source": [
    "# TODO weiteres Beispiel zu Generatoren\n"
   ]
  },
  {
   "cell_type": "code",
   "execution_count": null,
   "metadata": {
    "slideshow": {
     "slide_type": "fragment"
    }
   },
   "outputs": [],
   "source": [
    "# Erzeugen und Ausgabe der Generatorobjekte durch wiederholtes Ausführen dieser Zelle\n",
    "next(gen_obj)"
   ]
  },
  {
   "cell_type": "markdown",
   "metadata": {
    "slideshow": {
     "slide_type": "subslide"
    }
   },
   "source": [
    "Das Besondere an Generatoren ist damit auch, dass man mit ihnen unendliche (virtuelle) Kollektionen erzeugen kann, wie z.B. eine unendliche Folge der Quadratezahlen:"
   ]
  },
  {
   "cell_type": "code",
   "execution_count": null,
   "metadata": {
    "slideshow": {
     "slide_type": "fragment"
    }
   },
   "outputs": [],
   "source": [
    "def unendlicheQuadrate():\n",
    "    i = 1\n",
    "    while True:\n",
    "        yield i*i\n",
    "        i += 1\n",
    "\n",
    "quad = unendlicheQuadrate()"
   ]
  },
  {
   "cell_type": "code",
   "execution_count": null,
   "metadata": {
    "slideshow": {
     "slide_type": "fragment"
    }
   },
   "outputs": [],
   "source": [
    "next(quad)"
   ]
  },
  {
   "cell_type": "markdown",
   "metadata": {
    "slideshow": {
     "slide_type": "fragment"
    }
   },
   "source": [
    "Die `islice`-Methode aus dem Modul [`itertools`](https://docs.python.org/3/library/itertools.html#module-itertools):"
   ]
  },
  {
   "cell_type": "code",
   "execution_count": null,
   "metadata": {
    "slideshow": {
     "slide_type": "fragment"
    }
   },
   "outputs": [],
   "source": [
    "import itertools\n",
    "erstenFuenf = itertools.islice(unendlicheQuadrate(), 0, 5)      # liefert itertools.islice-Objekte\n",
    "list(erstenFuenf)"
   ]
  },
  {
   "cell_type": "markdown",
   "metadata": {
    "slideshow": {
     "slide_type": "subslide"
    }
   },
   "source": [
    "#### 4.5.3 Iteratoren"
   ]
  },
  {
   "cell_type": "markdown",
   "metadata": {
    "slideshow": {
     "slide_type": "fragment"
    }
   },
   "source": [
    "Iteratoren sind spezielle Generatoren, die den Zugriff auf die Elemente einer Kollektion oder während einer Iteration kontrollieren, z.B. liefert eine Iterator zu einer Menge nach und nach alle Elemente der Menge. "
   ]
  },
  {
   "cell_type": "markdown",
   "metadata": {
    "slideshow": {
     "slide_type": "fragment"
    }
   },
   "source": [
    "Beim Funktionsaufruf `next(iterator)` gibt der Iterator `iterator` einer Kollektion ein Element zurück. Die Standardfunktion `iter()` liefert zu einer Sequenz oder einem anderen iterierbaren Objekt einen Iterator. Man kann auch mehrere Iteratoren zu einer Sequenz erzeugen:\n"
   ]
  },
  {
   "cell_type": "code",
   "execution_count": null,
   "metadata": {
    "slideshow": {
     "slide_type": "fragment"
    }
   },
   "outputs": [],
   "source": [
    "# TODO Iteratoren\n",
    "l = [1, 2, 3, 4]\n"
   ]
  },
  {
   "cell_type": "code",
   "execution_count": null,
   "metadata": {
    "slideshow": {
     "slide_type": "fragment"
    }
   },
   "outputs": [],
   "source": [
    "# TODO Aufruf Iterator 1\n"
   ]
  },
  {
   "cell_type": "code",
   "execution_count": null,
   "metadata": {
    "slideshow": {
     "slide_type": "fragment"
    }
   },
   "outputs": [],
   "source": [
    "# TODO Aufruf Iterator 2\n"
   ]
  },
  {
   "cell_type": "markdown",
   "metadata": {
    "slideshow": {
     "slide_type": "fragment"
    }
   },
   "source": [
    "**Achtung**: *Iterator* vs. *Iterable* vs. *Iteration* "
   ]
  },
  {
   "cell_type": "markdown",
   "metadata": {
    "slideshow": {
     "slide_type": "subslide"
    }
   },
   "source": [
    "#### 4.5.4 Anwendungen von Generatoren"
   ]
  },
  {
   "cell_type": "markdown",
   "metadata": {
    "slideshow": {
     "slide_type": "fragment"
    }
   },
   "source": [
    "Generell kann man sagen, dass bei Programmen mit sehr großen Datenmengen durch die Verwendung von Generatoren viel Speicherplatz gespart werden kann, da die Objekte *just in time* generiert werden. Auch einige Operationen für Sequenzen sind auf Generator-Objekte anwendbar (z.B. `min(), max(), in, not in`). Jedoch nur einmal, da nach Abruf der Elemente einer Kollektion diese \"verbraucht\" sind. "
   ]
  },
  {
   "cell_type": "code",
   "execution_count": null,
   "metadata": {
    "slideshow": {
     "slide_type": "fragment"
    }
   },
   "outputs": [],
   "source": [
    "# Beispiel 1 für Zufallszahlen\n",
    "import random\n",
    "zufall = (random.randint(0,100) for i in range(10))     # Generatorausdruck für zehn Zufallszahlen\n",
    "print(\"1. Verwendung\")\n",
    "for i in zufall:\n",
    "    print( i, end = \" \")    # 1. Verwendung\n",
    "print(\"\\n2. Verwendung\")\n",
    "for i in zufall:\n",
    "    print( i, end = \" \")    # 2. Verwendung\n",
    "\n"
   ]
  },
  {
   "cell_type": "code",
   "execution_count": null,
   "metadata": {
    "slideshow": {
     "slide_type": "fragment"
    }
   },
   "outputs": [],
   "source": [
    "# Beispiel 2 für Funktionswerte einer Parabel\n",
    "parabel = (x**2 - 2*x + 3 for x in range (-10,10))\n",
    "print(f\"Minimum = {min(parabel)}\") \n",
    "print(f\"Maximum = {max(parabel)}\")      # Fehler, da parabel leere Sequenz"
   ]
  },
  {
   "cell_type": "code",
   "execution_count": null,
   "metadata": {
    "slideshow": {
     "slide_type": "subslide"
    }
   },
   "outputs": [],
   "source": [
    "# rekursive Funktion zur Berechnung der Summe 1 bis n\n",
    "def rekSum(n):\n",
    "    if n == 1:\n",
    "        return n\n",
    "    else:\n",
    "        return n + rekSum(n-1)\n",
    "    \n",
    "rekSum(2973)\n",
    "#rekSum(2974)       # geht schon nicht mehr "
   ]
  },
  {
   "cell_type": "code",
   "execution_count": null,
   "metadata": {
    "slideshow": {
     "slide_type": "fragment"
    }
   },
   "outputs": [],
   "source": [
    "# Beispiel 3: unendlicher Summen-Generator\n",
    "def genSum(): \n",
    "    pass # TODO \n",
    "\n",
    "def ausgabeSumme(n, gen):\n",
    "    counter = 0\n",
    "    for x in gen:\n",
    "        counter += 1\n",
    "        if counter == n:\n",
    "            print(x)\n",
    "            break\n",
    "\n",
    "g = genSum()\n",
    "ausgabeSumme(10000, g)\n"
   ]
  },
  {
   "cell_type": "markdown",
   "metadata": {
    "slideshow": {
     "slide_type": "slide"
    }
   },
   "source": [
    "### 4.6 Vertiefung: Rekursive Funktionen für Sequenzen"
   ]
  },
  {
   "cell_type": "markdown",
   "metadata": {
    "slideshow": {
     "slide_type": "fragment"
    }
   },
   "source": [
    "#### 4.6.1 Summe aller Elemente einer Liste\n",
    "\n",
    "Aufgabe: die Summe der Elemente einer Liste von Zahlen berechnen\n",
    "\n",
    "Lösungsidee:\n",
    "- Eine leere Zahlenliste hat die Summe null.\n",
    "- Ansonsten ist die Summe gleich der ersten Zahl in der Liste plus die Summe der restlichen Liste (Beispiel: `summe([1, 2, 3]) = 1 + summe([2, 3])`)"
   ]
  },
  {
   "cell_type": "code",
   "execution_count": 12,
   "metadata": {
    "slideshow": {
     "slide_type": "fragment"
    }
   },
   "outputs": [],
   "source": [
    "# TODO Rekursives Summieren einer Liste\n",
    "def summe(liste):\n",
    "    pass # TODO\n",
    "    \n",
    "summe([2, 4, 6, 8, 10])"
   ]
  },
  {
   "cell_type": "markdown",
   "metadata": {
    "slideshow": {
     "slide_type": "subslide"
    }
   },
   "source": [
    "#### 4.6.2 Rekursive Suche\n",
    "\n",
    "**Bekannt**: `in`-Operator, um zu überprüfen, ob ein Element in einer Datenstruktur enthalten ist.\n",
    "\n",
    "**Jetzt**: Suche in einer Sequenz `s` alle Elemente, die eine bestimmte Eigenschaft haben\n",
    "\n",
    "*Grundidee für rekursiven Suchalgorithmus*:\n",
    "- Wenn die Sequenz `s` nur aus einem Element besteht, prüfe, ob dieses eine Element den geforderten Eigenschaften entspricht\n",
    "- Wenn die Sequenz `s` aus mehreren Element besteht, zerteile `s` in zwei etwa gleich große Teile `s1` und `s2` \n",
    "\n"
   ]
  },
  {
   "cell_type": "markdown",
   "metadata": {
    "slideshow": {
     "slide_type": "fragment"
    }
   },
   "source": [
    "In der Informatik bezeichnet man diese algorithmische Idee auch als *teile und herrsche* (*divide and conquer*), nach dem berühmten Ausspruch des römischen Feldherrn Julius Caesar."
   ]
  },
  {
   "cell_type": "markdown",
   "metadata": {
    "slideshow": {
     "slide_type": "fragment"
    }
   },
   "source": [
    "Beispiel mit Liste von Telefonnummern mit bestimmter Vorwahl:"
   ]
  },
  {
   "cell_type": "code",
   "execution_count": null,
   "metadata": {
    "slideshow": {
     "slide_type": "fragment"
    }
   },
   "outputs": [],
   "source": [
    "# Rekursive Vorwahl-Suche\n",
    "nummernliste = ['0223 788834', '0201 566722', '0224 66898', '0201 899933', '0208 33987'] \n",
    "def suche(num, vorwahl):\n",
    "    if len(num) == 1:\n",
    "        if num[0][:len(vorwahl)] == vorwahl:    # 1\n",
    "            return num\n",
    "        else:\n",
    "            return []\n",
    "        \n",
    "    else:\n",
    "        return suche(num[:len(num)//2], vorwahl) + suche(num[len(num)//2:], vorwahl)    # 2\n",
    "    \n",
    "print(suche(nummernliste, '0201'))"
   ]
  },
  {
   "cell_type": "markdown",
   "metadata": {
    "slideshow": {
     "slide_type": "fragment"
    }
   },
   "source": [
    "**Erklärung**:\n",
    "\n",
    "- #1: Elementarer Fall: die Liste `num` besteht nur aus einem Element `num[0]`, welcher wiederrum aus einem String besteht. Der Slice `num[0][:len(vorwahl)]` wird mit der gesuchten Vorwahl verglichen.\n",
    "\n",
    "- #2: Bei mehr als einem Element in der Liste `num`, wird diese aufgeteilt und es werden zwei Slices gebildet. Die Grenze ist der Index `len(num)/2`. Es folgt der rekursive Aufruf der Funktion auf beide Slices."
   ]
  }
 ],
 "metadata": {
  "kernelspec": {
   "display_name": "Python 3 (ipykernel)",
   "language": "python",
   "name": "python3"
  },
  "language_info": {
   "codemirror_mode": {
    "name": "ipython",
    "version": 3
   },
   "file_extension": ".py",
   "mimetype": "text/x-python",
   "name": "python",
   "nbconvert_exporter": "python",
   "pygments_lexer": "ipython3",
   "version": "3.11.7"
  }
 },
 "nbformat": 4,
 "nbformat_minor": 2
}
