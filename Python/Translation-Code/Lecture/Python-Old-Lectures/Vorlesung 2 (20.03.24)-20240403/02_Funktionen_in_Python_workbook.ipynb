{
 "cells": [
  {
   "cell_type": "markdown",
   "metadata": {
    "slideshow": {
     "slide_type": "slide"
    }
   },
   "source": [
    "## 3. Funktionen\n",
    "\n",
    "Wenn Sie versuchen, alle Anweisungen zur Berechnung einer komplexen Aufgabe in einen einzigen zusammenhängenden Quelltextabschnitt (*Hauptprogramm*) unterzubringen, verliert das Programm schnell an Lesbarkeit oder Sie den Überblick über Ihr eigenes Werk. \\\n",
    "Die sog. *Unterprogrammtechnik* bietet hier  Abhilfe, um komplexe Problemstellungen in einfach zu beherrschende Teilprobleme zu zerlegen. Ein solches Unterprogramm nennt man in den modernen Programmiersprachen: **Funktion**.\n",
    "\n"
   ]
  },
  {
   "cell_type": "markdown",
   "metadata": {
    "slideshow": {
     "slide_type": "fragment"
    }
   },
   "source": [
    "> Eine Funktion ist ein Objekt, das eine bestimmte Teilaufgabe eines Programms lösen kann. Wenn eine Funkton aufgerufen wird, übernimmt sie gewisse Objekte als Eingabe, verabeitet diese und liefert ein Objekt als Ausgabe zurück [2] \n",
    "\n",
    "<sub>[2]: „6. Funktionen | Python 3 - Lernen und professionell anwenden“. Zugegriffen: 17. März 2024. [Online]. Verfügbar unter: https://learning.oreilly.com/library/view/python-3/9783958457935/xhtml/ch12.xhtml\n",
    "\n",
    "</sub>"
   ]
  },
  {
   "cell_type": "markdown",
   "metadata": {
    "slideshow": {
     "slide_type": "fragment"
    }
   },
   "source": [
    "Bei der Verwendung von Funktionen sind zwei fundamentale Ideen von Bedeutung:\n",
    "\n",
    "- schrittweise Verfeinerung\n",
    "- Rekursion"
   ]
  },
  {
   "cell_type": "markdown",
   "metadata": {
    "slideshow": {
     "slide_type": "subslide"
    }
   },
   "source": [
    "Python bietet eine Reihe an Standardfunktionen ([*built-in functions*](https://docs.python.org/3/library/functions.html)):\n",
    "\n",
    "- `int(x)`: Erzeugt eine neue ganze Zahl aus einem String, byte oder float x.\n",
    "- `int(string, base)`: Erzeugt eine ganze Zahl aus einer String-Kodierung im Zahlensystem mit der Basis base\n",
    "- `float(x)`: Erzeugt eine Fließkommazahl aus einem String, byte oder int x\n",
    "- `str(x)`: Formatiert das Objekt x als Unicode-String. Die Formatierung ist dieselbe wie bei `print(x)`\n",
    "- `chr(code)`: Erzeugt aus einer ganzzahligen (int) Unicode-Kodierung code ein Zeichen eines einelementigen [Unicode-String](https://symbl.cc/de/unicode-table/)\n",
    "- `ord(zeichen)`: Liefert die Kodierung eines einelementigen Unicode-String (&harr; `chr(code)`)\n",
    "- `hex(n), oct(n), bin(n)`: Kodiert eine ganze Zahl n im Hexadezimal-, Oktal- oder Dualsystem. Liefert einen Unicode-String mit Präfix `0x`, `0o`oder `0b`\n",
    "\n",
    "\n"
   ]
  },
  {
   "cell_type": "code",
   "execution_count": null,
   "metadata": {
    "slideshow": {
     "slide_type": "fragment"
    }
   },
   "outputs": [],
   "source": [
    "# TODO Beispiele\n",
    "\n"
   ]
  },
  {
   "cell_type": "markdown",
   "metadata": {
    "slideshow": {
     "slide_type": "subslide"
    }
   },
   "source": [
    "**Hintergrund: Call by what?**"
   ]
  },
  {
   "cell_type": "markdown",
   "metadata": {
    "slideshow": {
     "slide_type": "fragment"
    }
   },
   "source": [
    "Bekannt (aus C/C++):\n",
    "|call by value | call by reference |\n",
    "|:----|:----|\n",
    "| - der Funktion wird ein Wert übergeben, der zwar von der Funktion verarbeitet wird, jedoch ohne dass es Auswirkungen auf das Originalobjekt hat| - Funktion wird eine Referenz (Zeiger) übergeben. Damit wird das Objekt selber verarbeitet und Änderungen daran bleiben bestehen. |"
   ]
  },
  {
   "cell_type": "markdown",
   "metadata": {
    "slideshow": {
     "slide_type": "fragment"
    }
   },
   "source": [
    "Beides gibt es bei Python nicht mehr, sondern nur noch:\n",
    "\n",
    "| call by object |\n",
    "|:---|\n",
    "|- es werden mit einer Funktion immer Objekte (oder deren Namen) übergeben. Ob Änderungen an diesen bestehen bleiben, hängt letztendlich vom Typ des Objekts ab. Es gibt veränderbare wie auch unveränderbare Objekte (*mutable* und *immutable*)"
   ]
  },
  {
   "cell_type": "markdown",
   "metadata": {
    "slideshow": {
     "slide_type": "slide"
    }
   },
   "source": [
    "### 3.1 Definition von Funktionen"
   ]
  },
  {
   "cell_type": "markdown",
   "metadata": {
    "slideshow": {
     "slide_type": "fragment"
    }
   },
   "source": [
    "Die Definition einer Funktion muss folgendem Format entsprechen:\n",
    "\n",
    "```python\n",
    "def funktionsname (parameterliste):\n",
    "    anweisungsblock\n",
    "```"
   ]
  },
  {
   "cell_type": "code",
   "execution_count": null,
   "metadata": {
    "slideshow": {
     "slide_type": "fragment"
    }
   },
   "outputs": [],
   "source": [
    "# TODO Beispiel einer einfachen Funktion\n"
   ]
  },
  {
   "cell_type": "code",
   "execution_count": null,
   "metadata": {
    "slideshow": {
     "slide_type": "fragment"
    }
   },
   "outputs": [],
   "source": [
    "# Programmbeispiel zur Primzahlermittlung\n",
    "def primzahl (zahl):\n",
    "    if zahl <= 1:\n",
    "        prim = False\n",
    "    elif zahl == 2:\n",
    "        prim = True\n",
    "    else:\n",
    "        for i in range(2, zahl//2 +1):\n",
    "            if zahl % i == 0:   # Teiler gefunden\n",
    "                prim = False\n",
    "                break\n",
    "        else: prim = True       # kein Teiler gefunden\n",
    "    return prim\n",
    "\n",
    "primzahl(3)"
   ]
  },
  {
   "cell_type": "markdown",
   "metadata": {
    "slideshow": {
     "slide_type": "fragment"
    }
   },
   "source": [
    "Besser:"
   ]
  },
  {
   "cell_type": "code",
   "execution_count": null,
   "metadata": {
    "slideshow": {
     "slide_type": "fragment"
    }
   },
   "outputs": [],
   "source": [
    "# Programmbeispiel zur Primzahlermittlung\n",
    "def primzahl (zahl):\n",
    "    if zahl <= 1:\n",
    "        return False\n",
    "    elif zahl == 2:\n",
    "        return True\n",
    "    else:\n",
    "        for i in range(2, zahl//2 +1):\n",
    "            if zahl % i == 0:   # Teiler gefunden\n",
    "                return False\n",
    "        return True             # kein Teiler gefunden\n",
    "\n",
    "primzahl(3)"
   ]
  },
  {
   "cell_type": "markdown",
   "metadata": {
    "slideshow": {
     "slide_type": "slide"
    }
   },
   "source": [
    "### 3.2 Ausführung von Funktionen\n",
    "#### 3.2.1 Globale und lokale Namen "
   ]
  },
  {
   "cell_type": "code",
   "execution_count": null,
   "metadata": {
    "slideshow": {
     "slide_type": "fragment"
    }
   },
   "outputs": [],
   "source": [
    "# Beispiel zu \"Call by object\"\n",
    "def f(y) :\n",
    "    print(\"1. print in Funktion: id(y):\",id(y), \"y = \", y)\n",
    "    y = 3\n",
    "    print(\"2. print in Funktion: id(y):\",id(y), \"y = \", y)\n",
    "\n",
    "print(\"Call by Object Reference\")\n",
    "y = 17\n",
    "print (\"1. print im Hauptprogramm: id(y): \", id(y), \"y = \", y)\n",
    "f(y)\n",
    "print (\"2. print im Hauptprogramm: id(y): \", id(y), \"y = \", y)"
   ]
  },
  {
   "cell_type": "markdown",
   "metadata": {
    "slideshow": {
     "slide_type": "fragment"
    }
   },
   "source": [
    "Wieso wird in der letzten print-Ausgabe nicht `y = 3` ausgegeben?"
   ]
  },
  {
   "cell_type": "markdown",
   "metadata": {
    "slideshow": {
     "slide_type": "subslide"
    }
   },
   "source": [
    "Funktionen verfügen über einen eigenen *Namensraum*. Das bedeutet, dass jede Variable, die man innerhalb einer Funktion definiert, automatisch einen **lokalen** Gültigkeitsbereich hat. Das bedeutet wiederum, dass egal was man mit dieser Variable innerhalb der Funktion anstellt, dies keinen Einfluss auf andere (**globale**) Variablen außerhalb der Funktion hat, auch wenn diese den  gleichen Namen haben. Der Funktionsrumpf/Anweisungsblock ist also der Gültigkeitsbereich einer solchen Variablen."
   ]
  },
  {
   "cell_type": "code",
   "execution_count": null,
   "metadata": {
    "slideshow": {
     "slide_type": "fragment"
    }
   },
   "outputs": [],
   "source": [
    "# TODO Beispiel für einen häufigen Fehler\n",
    "# Restarten Sie den Kernel, damit Sie die Fehlermeldung auch sicher sehen \n"
   ]
  },
  {
   "cell_type": "markdown",
   "metadata": {
    "slideshow": {
     "slide_type": "fragment"
    }
   },
   "source": [
    "Um einen Einblick in die vom Python-Interpreter erzeugten Namensräume zu gewinnen, gibt es die Funktionen `globals()` und `locals()`:"
   ]
  },
  {
   "cell_type": "code",
   "execution_count": null,
   "metadata": {
    "slideshow": {
     "slide_type": "fragment"
    }
   },
   "outputs": [],
   "source": [
    "# TODO Beispiel ohne Fehler mit Ausgabe der Namensräume\n"
   ]
  },
  {
   "cell_type": "markdown",
   "metadata": {
    "slideshow": {
     "slide_type": "fragment"
    }
   },
   "source": [
    "Die Ausgabe ist leider etwas unübersichtlich, trotzdem lässt sich Folgendes erkennen:\n",
    "- Beim Hauptprogramm sind lokaler und globaler Namensraum (immer) identisch\n",
    "- Die globalen Namensräume der Funktionen entsprechen denen des Hauptprogramms\n",
    "- Die lokalen Namensräume der Funktionen enthalten lediglich die lokal definierten Informationen "
   ]
  },
  {
   "cell_type": "markdown",
   "metadata": {
    "slideshow": {
     "slide_type": "subslide"
    }
   },
   "source": [
    "#### 3.2.2 Die global-Anweisung - Seiteneffekte\n",
    "\n"
   ]
  },
  {
   "cell_type": "code",
   "execution_count": null,
   "metadata": {
    "slideshow": {
     "slide_type": "fragment"
    }
   },
   "outputs": [],
   "source": [
    "# Einfache Verdopplungsfunktion\n",
    "# TODO Fehler beheben\n",
    "def verdopple():   \n",
    "    x = x*2     \n",
    "x = 2\n",
    "verdopple()\n",
    "x"
   ]
  },
  {
   "cell_type": "markdown",
   "metadata": {
    "slideshow": {
     "slide_type": "fragment"
    }
   },
   "source": [
    "Durch die `global`-Anweisung wird die Variable in den globalen Namensraum eingetragen. Eine Zuweisung wirkt sich damit auf die betreffende Variable des Hauptprogramms aus. Dieses nennt man **Seiteneffekt**.\n",
    "\n",
    "Sollen mehrere Variablen global sein, schreibt man z.B. `global x, y, z`."
   ]
  },
  {
   "cell_type": "markdown",
   "metadata": {
    "slideshow": {
     "slide_type": "subslide"
    }
   },
   "source": [
    "#### 3.2.3 Parameterübergabe"
   ]
  },
  {
   "cell_type": "markdown",
   "metadata": {
    "slideshow": {
     "slide_type": "fragment"
    }
   },
   "source": [
    "Der Grund, warum die Deklarierung einer globalen Variablen in Python nicht automatisch, sondern explizit stattfinden muss, liegt daran, dass die Benutzung von globalen Variablen generell als schlechter Propgrammierstil betrachtet wird.\n",
    "\n",
    "Besser ist daher das verwenden von Funktionsparametern und/oder der Rückgabe eines Werts durch die `return`-Anweisung.\n",
    "\n",
    "Man könnte an dieser Stelle erneut sagen, dass durch das Design von Python gewissermaßen ein guter Programmierstil erzwungen wird."
   ]
  },
  {
   "cell_type": "markdown",
   "metadata": {
    "slideshow": {
     "slide_type": "fragment"
    }
   },
   "source": [
    "Man sagt beim Aufruf einer Funktion mit Parametern: Das Argument bzw. der Parameter x wird der Funktion übergeben. Die übergebenen Parameter werden hierbei wie **lokale** Variablen behandelt. Das bedeutet, dass alle Operationen innerhalb der Funktion *keine Auswirkungen* auf den aktuellen Parameter im Hauptprogramm haben.\n",
    "\n",
    "**Ausnahme**: Es handelt sich um ein veränderbares (*mutable*) Objekt (z.B. Listen, Sets, Bytearrays)"
   ]
  },
  {
   "cell_type": "code",
   "execution_count": null,
   "metadata": {
    "slideshow": {
     "slide_type": "fragment"
    }
   },
   "outputs": [],
   "source": [
    "# Einfache Verdopplungsfunktion mit Parameterübergabe\n",
    "# TODO dafür sorgen, dass es funktioniert\n",
    "def verdopple(x):\n",
    "    x = x*2            \n",
    "x = 2\n",
    "verdopple(x)    \n",
    "x"
   ]
  },
  {
   "cell_type": "markdown",
   "metadata": {
    "slideshow": {
     "slide_type": "slide"
    }
   },
   "source": [
    "### 3.3 Voreingestelle Parameterwerte\n",
    "\n",
    "Für manche Funktionen benötigt man optionale Argumente, die bei Aufruf auch weggelassen werden können, ohne dass eine Fehlermeldung erscheint. Dafür müssen jedoch bestimmte Default-Werte voreingestellt werden:\n",
    "\n",
    "```python\n",
    "def funktion (arg1=wert1, arg2=wert2, ...):\n",
    "```"
   ]
  },
  {
   "cell_type": "code",
   "execution_count": null,
   "metadata": {
    "slideshow": {
     "slide_type": "fragment"
    }
   },
   "outputs": [],
   "source": [
    "# Beispiel zur Berechnung des Umfangs eines Rechtecks\n",
    "# TODO optionale Parameter\n"
   ]
  },
  {
   "cell_type": "markdown",
   "metadata": {
    "slideshow": {
     "slide_type": "fragment"
    }
   },
   "source": [
    "Wie sieht es aus, wenn ich der Funktion `umfang()` nur die Breite übergeben möchte und für Länge der Default-Wert verwendet werden soll?"
   ]
  },
  {
   "cell_type": "markdown",
   "metadata": {
    "slideshow": {
     "slide_type": "subslide"
    }
   },
   "source": [
    "#### 3.3.1 Schlüsselwortparameter\n",
    "\n",
    "Bisher wurden die Argumente in exakt der Reihenfolge, die im Funktionskopf vorgegeben war, übergeben. Man spricht hierbei von *Positionsargumenten*, weil sich die Zuordnung eines Arguments aus der Position in der Argumentliste ergibt.\n",
    "\n",
    "*Positionsargumente* sind jedoch eine potenzielle Quelle für semantische Fehler. In komplexen Programmen kann das Vertauschen der Reihenfolge zu unbeschreiblichen Fehlern führen, ohne dass dies zu einer Fehlermeldung des Systems führt.\n",
    "\n",
    "Deshalb ist es sinnvoll, beim Funktionsaufruf *Schlüsselargumente* (*keyword arguments*) in der Form `Schlüsselwort=Wert` zu verwenden."
   ]
  },
  {
   "cell_type": "code",
   "execution_count": null,
   "metadata": {
    "slideshow": {
     "slide_type": "fragment"
    }
   },
   "outputs": [],
   "source": [
    "# Beispiel zur Berechnung des Umfangs eines Rechtecks\n",
    "# TODO Schlüsselwortparameter verwenden\n"
   ]
  },
  {
   "cell_type": "markdown",
   "metadata": {
    "slideshow": {
     "slide_type": "subslide"
    }
   },
   "source": [
    "#### 3.3.2 Beliebige Anzahl von Parametern\n",
    "\n",
    "Häufig hat man den Fall, dass die Anzahl der beim Aufruf nötigen Parameter im Vorhinein nicht bekannt sind. Dafür gibt es in der Informatik folgende wichtige Begriffe:\n",
    "\n",
    "- *Arität*: Parameteranzahl von Funktionen, Prozeduren oder Methoden\n",
    "- *variadische Funktion*: Funktionen mit unbestimmter Arität\n",
    "\n",
    "In Python werden variadische Funktionen mittels des `*`- Operator vor einem Parameter definiert."
   ]
  },
  {
   "cell_type": "code",
   "execution_count": null,
   "metadata": {
    "slideshow": {
     "slide_type": "fragment"
    }
   },
   "outputs": [],
   "source": [
    "# TODO Beispiel einer variadischen Funktion\n"
   ]
  },
  {
   "cell_type": "markdown",
   "metadata": {
    "slideshow": {
     "slide_type": "subslide"
    }
   },
   "source": [
    "#### 3.3.3 Beliebige Schlüsselwortparameter\n",
    "\n",
    "Es gibt auch einen Mechanismus für eine beliebige Anzahl von Schlüsselwortparametern. In Python wird dafür der `**`-Operator vor einen Parameter geschrieben"
   ]
  },
  {
   "cell_type": "code",
   "execution_count": null,
   "metadata": {
    "slideshow": {
     "slide_type": "fragment"
    }
   },
   "outputs": [],
   "source": [
    "# TODO Beispiel für beliebige Schlüsselwortparameter\n"
   ]
  },
  {
   "cell_type": "markdown",
   "metadata": {
    "slideshow": {
     "slide_type": "slide"
    }
   },
   "source": [
    "### 3.4 Rekursion\n",
    "\n",
    "> *Recursion is an order of magnitude more complicated than repitition.* - Dijkstra"
   ]
  },
  {
   "cell_type": "markdown",
   "metadata": {
    "slideshow": {
     "slide_type": "subslide"
    }
   },
   "source": [
    "#### 3.4.1 Experimente zur Rekursion\n"
   ]
  },
  {
   "cell_type": "code",
   "execution_count": null,
   "metadata": {
    "slideshow": {
     "slide_type": "fragment"
    }
   },
   "outputs": [],
   "source": [
    "# Eine rekursive Spirale\n",
    "from turtle import *\n",
    "\n",
    "def spirale(x):\n",
    "    if x < 5:       # Abbruchbedingung (notwendig!)\n",
    "        return\n",
    "    else:\n",
    "        forward(x)\n",
    "        right(90)\n",
    "        spirale(x*0.9)\n",
    "        return\n",
    "    \n",
    "\n",
    "spirale(200)\n"
   ]
  },
  {
   "cell_type": "code",
   "execution_count": null,
   "metadata": {
    "slideshow": {
     "slide_type": "fragment"
    }
   },
   "outputs": [],
   "source": [
    "# Führen Sie diese Zelle aus, um das Turtle-Fenster zu schließen\n",
    "from turtle import * \n",
    "bye()"
   ]
  },
  {
   "cell_type": "code",
   "execution_count": null,
   "metadata": {
    "scrolled": true,
    "slideshow": {
     "slide_type": "fragment"
    }
   },
   "outputs": [],
   "source": [
    "# Sierpinski-Dreieck\n",
    "from turtle import *\n",
    "def sierpinski(x):\n",
    "    if x < 5:\n",
    "        return\n",
    "    else:\n",
    "        fd(x)\n",
    "        right(120)\n",
    "        fd(x)\n",
    "        right(120)\n",
    "        fd(x)\n",
    "        right(120)\n",
    "        sierpinski(x/2)\n",
    "        fd(x/2)\n",
    "        sierpinski(x/2)\n",
    "        back(x/2)\n",
    "        right(60)\n",
    "        fd(x/2)\n",
    "        left(60)\n",
    "        sierpinski(x/2)\n",
    "        right(60)\n",
    "        back(x/2)\n",
    "        left(60)\n",
    "        return\n",
    "\n",
    "speed(0)\n",
    "left(60)\n",
    "sierpinski(200)\n",
    "hideturtle()"
   ]
  },
  {
   "cell_type": "markdown",
   "metadata": {
    "slideshow": {
     "slide_type": "subslide"
    }
   },
   "source": [
    "#### 3.4.2 Rekursive Zahlenfunktionen\n",
    "\n",
    "Als klassisches Beispiel aus der Mathematik wäre eine rekursive Definition der Fakultät:\n",
    "```python\n",
    "1! = 1        # Abbruchbedingung\n",
    "n! = n*(n-1)! # rekursive Anweisung für alle natürlichen Zahlen n > 1\n",
    "```"
   ]
  },
  {
   "cell_type": "markdown",
   "metadata": {
    "slideshow": {
     "slide_type": "fragment"
    }
   },
   "source": [
    "Am Beispiel `4!`\n",
    "```python\n",
    "= 4*3!\n",
    "= 4*3*2!\n",
    "= 4*3*2*1!\n",
    "= 4*3*2*1\n",
    "= 24\n",
    "```"
   ]
  },
  {
   "cell_type": "code",
   "execution_count": null,
   "metadata": {
    "slideshow": {
     "slide_type": "fragment"
    }
   },
   "outputs": [],
   "source": [
    "# TODO Python-Funktion zur Berechnung der Fakultät\n"
   ]
  },
  {
   "cell_type": "markdown",
   "metadata": {
    "slideshow": {
     "slide_type": "fragment"
    }
   },
   "source": [
    "**Wichtig**: Eine rekursive Funktion muss eine bedingte Anweisung enthalten, die den Abbruch der Rekursion ermöglicht.\\\n",
    "**Aber**: Die bloße Existenz einer Abbruchbedingung ist natürlich noch keine Garantie, dass diese irgendwann erfüllt sind. Die Folge einer fehlerhaften Abbruchbedingung wäre eine *Endlosrekursion*."
   ]
  },
  {
   "cell_type": "markdown",
   "metadata": {
    "slideshow": {
     "slide_type": "subslide"
    }
   },
   "source": [
    "#### 3.4.3 Rekursionstiefe\n",
    "\n",
    "Die Anzahl der rekursiven Aufrufe nennt man *Rekursionstiefe*. Bei vielen Aufrufen kann also die Rekursionstiefe sehr groß werden, was dazuführen kann, dass der Arbeitsspeicher eines Computers nicht mehr ausreicht. \\\n",
    "Der Python-Interpreter beachtet hierbei eine voreingestelle Obergrenze."
   ]
  },
  {
   "cell_type": "code",
   "execution_count": null,
   "metadata": {
    "slideshow": {
     "slide_type": "fragment"
    }
   },
   "outputs": [],
   "source": [
    "# Austesten der Rekursionstiefe und ihrer Grenzen\n",
    "i = 0\n",
    "def f():\n",
    "    global i \n",
    "    i += 1\n",
    "    f()     # Rekursionsaufruf\n",
    "f()\n"
   ]
  },
  {
   "cell_type": "code",
   "execution_count": null,
   "metadata": {
    "slideshow": {
     "slide_type": "fragment"
    }
   },
   "outputs": [],
   "source": [
    "# Code zum Ermitteln der maximalen Rekursionstiefe\n",
    "import sys\n",
    "print(\"Maximale Rekursionstiefe: \",sys.getrecursionlimit())"
   ]
  },
  {
   "cell_type": "markdown",
   "metadata": {
    "slideshow": {
     "slide_type": "fragment"
    }
   },
   "source": [
    "**Fazit zur Rekursion in Python**:\n",
    "\n",
    "| Vorteile | Nachteile |\n",
    "|:---|:---|\n",
    "| - kurze und elegante Formulierungen für Problemlösungen| - benötigen viel Speicherplatz| \n",
    "|- besseres Verständis der Lösung | - arbeiten häufig ineffizient, was sich durch lange Laufzeiten ausdrückt"
   ]
  },
  {
   "cell_type": "markdown",
   "metadata": {
    "slideshow": {
     "slide_type": "slide"
    }
   },
   "source": [
    "### 3.5 Funktionen als Objekte\n",
    "\n",
    "In der Standard-Typ-Hierarchie von Python werden Funktionen als aufrufbare Objekte (*callable objects*) bezeichnet. Sie werden sozusagen \"gleich behandelt\" wie Variablen. Funktionen besitzen daher auch eine **Identität**, einen **Typ** und einen **Wert** (siehe auch 2.2.1 Daten als Objekte)."
   ]
  },
  {
   "cell_type": "code",
   "execution_count": null,
   "metadata": {
    "slideshow": {
     "slide_type": "fragment"
    }
   },
   "outputs": [],
   "source": [
    "# TODO Beispiel an der Standardfunktion len()\n"
   ]
  },
  {
   "cell_type": "code",
   "execution_count": null,
   "metadata": {
    "slideshow": {
     "slide_type": "fragment"
    }
   },
   "outputs": [],
   "source": [
    "# TODO praktisches Beispiel eines Funktionsobjekts\n"
   ]
  },
  {
   "cell_type": "markdown",
   "metadata": {
    "slideshow": {
     "slide_type": "fragment"
    }
   },
   "source": [
    "&rarr; kann bei häufig verwendeten, langen Funktionsnamen praktisch sein"
   ]
  },
  {
   "cell_type": "markdown",
   "metadata": {
    "slideshow": {
     "slide_type": "subslide"
    }
   },
   "source": [
    "**Hintergrund: Typen sind *keine* Funktionen**\n",
    "\n",
    "Ein paar der sog. *built-in functions*, wie `int()`,`float()`, `str()`, `bool()`, usw. sind streng genommen **keine** Funktionen, sondern Typen (*typecasting*). Python macht diesen feinsinnigen Unterschied, dennoch sind sie wie Funktionen aufrufbare Objekte (*callable objects*):"
   ]
  },
  {
   "cell_type": "code",
   "execution_count": null,
   "metadata": {
    "slideshow": {
     "slide_type": "fragment"
    }
   },
   "outputs": [],
   "source": [
    "# Bestimmung des Funktions-\"Typen\"\n",
    "print(type(bool))\n",
    "print(type(str))\n",
    "print(type(abs))\n",
    "print(type(len))"
   ]
  },
  {
   "cell_type": "markdown",
   "metadata": {
    "slideshow": {
     "slide_type": "slide"
    }
   },
   "source": [
    "### 3.6 Lambda-Formen\n",
    "\n",
    "Der lambda-Operator bietet eine Möglichkeit, anonyme Funktionen, also Funktionen ohne Namen, zu schreiben und zu benutzen. Mit der Verwendung von Lambda-Funktionen entfernt man sich von der objektorientieren Programmierung (OOP) und nähert sich der funktionalen Programmierung (FP). FP wird hauptsächlich im technischen und mathematischen Bereich eingesetzt. Python unterstützt und ermöglicht in hohem Maße eine FP, auch wenn Erfinder Guido van Rossum sie am liebsten mit Python 3 wieder entfernt hätte. `lambda`, `map`, `filter` und `reduce` sind Codeerweiterungen der FP.\\\n",
    "Die Lambda-Funktion hat folgenden Syntax: \n",
    "\n",
    "```python\n",
    "\"lambda\" [parameter_list]: expression\n",
    "```"
   ]
  },
  {
   "cell_type": "markdown",
   "metadata": {
    "slideshow": {
     "slide_type": "fragment"
    }
   },
   "source": [
    "`lambda` ist hierbei ein Schlüsselwort"
   ]
  },
  {
   "cell_type": "code",
   "execution_count": null,
   "metadata": {
    "slideshow": {
     "slide_type": "fragment"
    }
   },
   "outputs": [],
   "source": [
    "# TODO Lambda-Beispiele\n"
   ]
  },
  {
   "cell_type": "markdown",
   "metadata": {
    "slideshow": {
     "slide_type": "subslide"
    }
   },
   "source": [
    "##### Benutzung von if-else Anweisungen in Lambda-Funktionen\n",
    "\n",
    "Syntax:\n",
    "\n",
    "```python\n",
    "\"lambda\" [parameter_list]: expression1 if condition else expression2\n",
    "```"
   ]
  },
  {
   "cell_type": "code",
   "execution_count": null,
   "metadata": {
    "slideshow": {
     "slide_type": "fragment"
    }
   },
   "outputs": [],
   "source": [
    "# TODO Beispiel\n"
   ]
  },
  {
   "cell_type": "markdown",
   "metadata": {
    "slideshow": {
     "slide_type": "subslide"
    }
   },
   "source": [
    "##### Lambda-Funktionen innerhalb einer Funktion\n",
    "\n",
    "Syntax:\n",
    "```python\n",
    "def funktion(y):\n",
    "    return lambda x: f(x,y) # gibt als Funktionswert eine Lambda-Funktion zurück\n",
    "```"
   ]
  },
  {
   "cell_type": "code",
   "execution_count": null,
   "metadata": {
    "slideshow": {
     "slide_type": "fragment"
    }
   },
   "outputs": [],
   "source": [
    "# TODO Beispiel \"y-Fach-Funktion\"\n"
   ]
  },
  {
   "cell_type": "markdown",
   "metadata": {
    "slideshow": {
     "slide_type": "fragment"
    }
   },
   "source": [
    "&rarr; wie nützlich die Lambda-Funktionen gerade in Verbindung mit Listen sein können, sehen Sie nächste Woche"
   ]
  },
  {
   "cell_type": "markdown",
   "metadata": {
    "slideshow": {
     "slide_type": "slide"
    }
   },
   "source": [
    "### 3.7 Hinweise zum Programmierstil\n",
    "\n",
    "#### 3.7.1 Allgemeines\n",
    "\n",
    "- Iterative Funktionen (mit Schleifen) sind in der Regel rekursiven Funktionen vorzuziehen, weil sie meist weniger Rechenzeit und Arbeitsspeicher benötigen.\n",
    "\n"
   ]
  },
  {
   "cell_type": "markdown",
   "metadata": {
    "slideshow": {
     "slide_type": "subslide"
    }
   },
   "source": [
    "#### 3.7.2 Funktionsnamen\n",
    "\n",
    "Wie bei Variablennamen sollten Funktionsnamen sprechend sein, damit man erkennen kann, was die Funktion leistet. Üblicherweise beginnen diese mit einem kleinen Buchstaben. Man verwendet zudem Verben im Imperativ oder der Funktionsname ist ein Substantiv, das zum Ausdruck bringt, welches Ergebnis die Funktion zurückgibt:\n",
    "\n",
    "```python\n",
    "# Verben im Imperativ\n",
    "berechneSumme\n",
    "getRecursionLimit\n",
    "anwenden\n",
    "# Substantive\n",
    "summe\n",
    "quadratsumme\n",
    "min\n",
    "file\n",
    "globals\n",
    "locals\n",
    "```"
   ]
  },
  {
   "cell_type": "markdown",
   "metadata": {
    "slideshow": {
     "slide_type": "subslide"
    }
   },
   "source": [
    "#### 3.7.3 Kommentierte Parameter \n",
    "\n",
    "Zu einer professionellen Dokumentation gehört, dass Sie im Funktionskopf die einzelnen Parameter kommentieren und erklären. Sie schreiben dabei jeden Parameter in verschiedene physische Zeilen, der Python-Interpreter sieht diese dann als eine einzige logische Zeile an\n",
    "\n"
   ]
  },
  {
   "cell_type": "code",
   "execution_count": null,
   "metadata": {
    "slideshow": {
     "slide_type": "fragment"
    }
   },
   "outputs": [],
   "source": [
    "def druckeEtikett(  name,           # chemische Bezeichnung (String)\n",
    "                    formel,         # chemische Formel (String)\n",
    "                    r_saetze,       # Tupel von Nummern\n",
    "                    s_saetze,       # Tupel von Nummern\n",
    "                    gefahrenhinweis,# z.B. \"aetzend\" (String)\n",
    "                    fuellmenge      # Füllmenge in g (Integer)\n",
    "                    ):\n",
    "    print(name, formel, r_saetze, s_saetze, gefahrenhinweis, fuellmenge)\n",
    "\n",
    "druckeEtikett(\"Salzsäure\", \"HCl\", (1,2,3), (4,5,6), \"aetzend\", 200)"
   ]
  },
  {
   "cell_type": "markdown",
   "metadata": {
    "slideshow": {
     "slide_type": "subslide"
    }
   },
   "source": [
    "#### 3.7.4 Docstrings\n",
    "\n",
    "Ein Docstring wird direkt unter den Funktionskopf eingefügt und in dreifache Anführungszeichen `\"\"\"`gesetzt. In der ersten Zeile wird die Aufgabe der Funktion beschrieben, die zweite Zeile bleibt leer und die folgenden Zeilen können Angaben zu folgenden Punkten enthalten:\n",
    "- Vorbedingungen:  Welche Eigenschaften müssen die übergebenen Parameter besitzen?\n",
    "- Nachbedingungen: Welche Objekte gibt die Funktion zurück?\n",
    "- Welche globalen Variablen werden verwendet? Welche Seiteneffekte werden verursacht?\n",
    "- Name des Autors und Datum der letzten Änderung"
   ]
  },
  {
   "cell_type": "code",
   "execution_count": null,
   "metadata": {
    "slideshow": {
     "slide_type": "fragment"
    }
   },
   "outputs": [],
   "source": [
    "# Beispiel zur Verwendung eines Docstrings\n",
    "def tueNichts():\n",
    "    \"\"\" Diese Funktion macht nichts\n",
    "    \n",
    "    Sie verwendet keine Parameter,\n",
    "    hat keine Seiteneffekte und\n",
    "    gibt nichts zurück\n",
    "    F. Hillitzer 18.03.2024\n",
    "    \"\"\"\n",
    "    pass"
   ]
  },
  {
   "cell_type": "markdown",
   "metadata": {
    "slideshow": {
     "slide_type": "fragment"
    }
   },
   "source": [
    "Der Docstring einer Funktion kann mit der `help()`-Funktion zum Vorschein gebracht werden:"
   ]
  },
  {
   "cell_type": "code",
   "execution_count": null,
   "metadata": {
    "slideshow": {
     "slide_type": "fragment"
    }
   },
   "outputs": [],
   "source": [
    "help(tueNichts)"
   ]
  }
 ],
 "metadata": {
  "celltoolbar": "Slideshow",
  "kernelspec": {
   "display_name": "Python 3 (ipykernel)",
   "language": "python",
   "name": "python3"
  },
  "language_info": {
   "codemirror_mode": {
    "name": "ipython",
    "version": 3
   },
   "file_extension": ".py",
   "mimetype": "text/x-python",
   "name": "python",
   "nbconvert_exporter": "python",
   "pygments_lexer": "ipython3",
   "version": "3.11.7"
  },
  "varInspector": {
   "cols": {
    "lenName": 16,
    "lenType": 16,
    "lenVar": 40
   },
   "kernels_config": {
    "python": {
     "delete_cmd_postfix": "",
     "delete_cmd_prefix": "del ",
     "library": "var_list.py",
     "varRefreshCmd": "print(var_dic_list())"
    },
    "r": {
     "delete_cmd_postfix": ") ",
     "delete_cmd_prefix": "rm(",
     "library": "var_list.r",
     "varRefreshCmd": "cat(var_dic_list()) "
    }
   },
   "types_to_exclude": [
    "module",
    "function",
    "builtin_function_or_method",
    "instance",
    "_Feature"
   ],
   "window_display": false
  }
 },
 "nbformat": 4,
 "nbformat_minor": 2
}
