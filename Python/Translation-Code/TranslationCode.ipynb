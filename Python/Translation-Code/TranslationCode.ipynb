{
 "cells": [
  {
   "cell_type": "code",
   "execution_count": 3,
   "metadata": {},
   "outputs": [
    {
     "name": "stdout",
     "output_type": "stream",
     "text": [
      "Translated Uebungsblatt07.ipynb to English_Version_Uebungsblatt07.ipynb\n"
     ]
    }
   ],
   "source": [
    "import os\n",
    "import nbformat\n",
    "from deep_translator import GoogleTranslator\n",
    "from nbformat import NotebookNode\n",
    "\n",
    "def translate_cell(cell: NotebookNode) -> None:\n",
    "    \"\"\"\n",
    "    Translates the content of a Jupyter notebook cell from German to English.\n",
    "    It modifies the cell content in-place.\n",
    "    \"\"\"\n",
    "    if cell.cell_type == 'markdown' or (cell.cell_type == 'code' and '# ' in cell.source):\n",
    "        # Translate cell content using Deep Translator\n",
    "        # Only translating comments in code cells\n",
    "        if cell.cell_type == 'code':\n",
    "            lines = cell.source.split('\\n')\n",
    "            translated_lines = [\n",
    "                GoogleTranslator(source='auto', target='en').translate(line) if line.strip().startswith('#') else line\n",
    "                for line in lines\n",
    "            ]\n",
    "            cell.source = '\\n'.join(translated_lines)\n",
    "        else:\n",
    "            translated_text = GoogleTranslator(source='auto', target='en').translate(cell.source)\n",
    "            cell.source = translated_text\n",
    "\n",
    "def translate_notebook(input_path: str, output_path: str) -> None:\n",
    "    \"\"\"\n",
    "    Translates the entire content of a Jupyter notebook from German to English.\n",
    "    It saves the translated notebook to a new file.\n",
    "    \n",
    "    :param input_path: Path to the input notebook.\n",
    "    :param output_path: Path to save the translated notebook.\n",
    "    \"\"\"\n",
    "    # Load the notebook\n",
    "    with open(input_path, 'r', encoding='utf-8') as f:\n",
    "        nb = nbformat.read(f, as_version=4)\n",
    "\n",
    "    # Translate each cell\n",
    "    for cell in nb.cells:\n",
    "        translate_cell(cell)\n",
    "\n",
    "    # Save the translated notebook\n",
    "    with open(output_path, 'w', encoding='utf-8') as f:\n",
    "        nbformat.write(nb, f)\n",
    "\n",
    "def translate_notebooks_in_directory(input_dir: str, output_dir: str) -> None:\n",
    "    \"\"\"\n",
    "    Translates all Jupyter notebooks in a given directory from German to English.\n",
    "    \n",
    "    :param input_dir: Directory containing the original notebooks.\n",
    "    :param output_dir: Directory where the translated notebooks will be saved.\n",
    "    \"\"\"\n",
    "    # Create the output directory if it doesn't exist\n",
    "    os.makedirs(output_dir, exist_ok=True)\n",
    "\n",
    "    # Iterate over each file in the input directory\n",
    "    for filename in os.listdir(input_dir):\n",
    "        if filename.endswith('.ipynb'):\n",
    "            # Construct the full file paths\n",
    "            input_path = os.path.join(input_dir, filename)\n",
    "            output_filename = 'English_Version_' + filename\n",
    "            output_path = os.path.join(output_dir, output_filename)\n",
    "            \n",
    "            # Translate the notebook\n",
    "            translate_notebook(input_path, output_path)\n",
    "            print(f\"Translated {filename} to {output_filename}\")\n",
    "\n",
    "# Set the directories\n",
    "input_directory = 'C:\\\\programming\\\\Unversity-ComputerScience\\\\Python\\\\Translation-Code\\\\German - Jupyter-Notebooks\\\\Übung 7-20240424'\n",
    "output_directory = 'C:\\\\programming\\\\Unversity-ComputerScience\\\\Python\\\\Translation-Code\\\\German To English\\\\Task7'\n",
    "\n",
    "# Translate all notebooks in the directory\n",
    "translate_notebooks_in_directory(input_directory, output_directory)\n"
   ]
  },
  {
   "cell_type": "code",
   "execution_count": null,
   "metadata": {},
   "outputs": [],
   "source": []
  }
 ],
 "metadata": {
  "kernelspec": {
   "display_name": "Python 3 (ipykernel)",
   "language": "python",
   "name": "python3"
  },
  "language_info": {
   "codemirror_mode": {
    "name": "ipython",
    "version": 3
   },
   "file_extension": ".py",
   "mimetype": "text/x-python",
   "name": "python",
   "nbconvert_exporter": "python",
   "pygments_lexer": "ipython3",
   "version": "3.11.3"
  }
 },
 "nbformat": 4,
 "nbformat_minor": 4
}
