{
 "cells": [
  {
   "cell_type": "markdown",
   "metadata": {
    "slideshow": {
     "slide_type": "slide"
    }
   },
   "source": [
    "## 6. Ausnahmebehandlung (*exception handling*)"
   ]
  },
  {
   "cell_type": "markdown",
   "metadata": {
    "slideshow": {
     "slide_type": "fragment"
    }
   },
   "source": [
    "Mit dem Begriff \"Ausnahme\" (*exception*) meint man häufig den Zustand eines Programms, der zu einem Fehler und damit zum Programmabstürz führt. \n",
    "\n",
    "Die Ausnahmebehandlung (*exception handling*) ist ein Verfahren, um Fehlerzustände an andere Programmebenen weiterzuleiten.\n",
    "\n",
    "Programmabstürze sind Katastrophen, die sogar zerstörerische Folgen haben können!"
   ]
  },
  {
   "cell_type": "code",
   "execution_count": null,
   "metadata": {
    "slideshow": {
     "slide_type": "fragment"
    }
   },
   "outputs": [],
   "source": [
    "# TODO Beispiel 1\n"
   ]
  },
  {
   "cell_type": "code",
   "execution_count": null,
   "metadata": {
    "slideshow": {
     "slide_type": "fragment"
    }
   },
   "outputs": [],
   "source": [
    "# TODO Beispiel 2\n"
   ]
  },
  {
   "cell_type": "code",
   "execution_count": null,
   "metadata": {
    "slideshow": {
     "slide_type": "fragment"
    }
   },
   "outputs": [],
   "source": [
    "# TODO Beispiel 3\n"
   ]
  },
  {
   "cell_type": "markdown",
   "metadata": {
    "slideshow": {
     "slide_type": "subslide"
    }
   },
   "source": [
    "Im Folgenden ist die Hierarchie der am häufigsten und allgemeinen Ausnahmen aufgeführt (s. auch in der [Dokumentation](https://docs.python.org/3/library/exceptions.html#exception-hierarchy)):\n",
    "\n",
    "- `Exception` (Generelle Fehlermeldung)\n",
    "    - `StopIteration` (wird von *iterierbaren* Objekten (*Iterables*) ausgelöst, um z.B. `for`-Schleifen mitzuteilen, dass sie fertig durchlaufen sind)\n",
    "    - `ArithmeticError` (Fehler bei Berechnungen)\n",
    "        - `FloatingPointError` (Fehler spezifisch für Fließkommaberechnungen)\n",
    "        - `OverflowError` (Ergebnis zu groß für den bereitgestellten Speicher)\n",
    "        - `ZeroDivisionError` (Division durch Null)\n",
    "    - `EOFError` (Lesezugriff nach Dateiende (*end of file*))\n",
    "    - `ImportError` (Fehler bei Bearbeitung einer `import`-Zeile)\n",
    "        - `ModuleNotFoundError` (Angegebenes Modul wurde nicht gefunden)\n",
    "    - `LookupError` (Fehler bei Zugriff auf eine Datenstruktur oder -objekt)\n",
    "        - `IndexError` (Ungültiger Index)\n",
    "        - `KeyError` (Ungültiger Schlüssel bei `dictionary`)\n",
    "    - `NameError` (Symbol mit diesem Namen existiert nicht)\n",
    "    - `OSError` (Fehler bei Nutzung von Funktionen des Betriebsystems)\n",
    "        - `FileExistsError` (Datei existiert bereits)\n",
    "        - `FileNotFoundError` (Datei kann nicht gefunden werden)\n",
    "    - `RuntimeError`\n",
    "        - `NotImplementedError` (Methode/Variante einer Methode/Klasse wurde nicht implementiert)\n",
    "        - `RecursionError`\n",
    "    - `SyntaxError`\n",
    "        - `IndentationError`\n",
    "    - `TypeError` (Datentyp kann nicht verarbeitet werden)\n",
    "    - `ValueError` (Unzulässiger Wert bei Funktionsaufruf)\n",
    "\n",
    "\n"
   ]
  },
  {
   "cell_type": "markdown",
   "metadata": {
    "slideshow": {
     "slide_type": "subslide"
    }
   },
   "source": [
    "### 6.1 Abfangen von Ausnahmen mit `try`"
   ]
  },
  {
   "cell_type": "markdown",
   "metadata": {
    "slideshow": {
     "slide_type": "fragment"
    }
   },
   "source": [
    "#### 6.1.1 `try-except`-Blöcke"
   ]
  },
  {
   "cell_type": "markdown",
   "metadata": {
    "slideshow": {
     "slide_type": "fragment"
    }
   },
   "source": [
    "Syntax in Python:\n",
    "```python\n",
    "try:\n",
    "    Code der eine Ausnahme auslösen könnte\n",
    "except [ExceptionClass [as variable]]:\n",
    "    Code zur Fehlerbehandlung\n",
    "```"
   ]
  },
  {
   "cell_type": "markdown",
   "metadata": {
    "slideshow": {
     "slide_type": "fragment"
    }
   },
   "source": [
    "Mit `ExceptionClass` ist dabei der \"Typ der Ausnahme\" gemeint, also welche Fehlerklasse angezeigt wird bei Programmabbruch. Die Angabe ist optional genauso wie der Variablenname `variable`, mit dem man auf die Daten der Instanz `ExceptionClass` zugreifen kann."
   ]
  },
  {
   "cell_type": "code",
   "execution_count": null,
   "metadata": {
    "slideshow": {
     "slide_type": "fragment"
    }
   },
   "outputs": [],
   "source": [
    "# TODO Beispiel 1 try-except-Block\n"
   ]
  },
  {
   "cell_type": "code",
   "execution_count": null,
   "metadata": {
    "slideshow": {
     "slide_type": "fragment"
    }
   },
   "outputs": [],
   "source": [
    "# TODO Beispiel 2 try-except-Block\n"
   ]
  },
  {
   "cell_type": "markdown",
   "metadata": {
    "slideshow": {
     "slide_type": "fragment"
    }
   },
   "source": [
    "Ablauf der `try`-Anweisung:\n",
    "\n",
    "- `try`-Anweisungsblock wird ausgeführt (oder zumindest versucht)\n",
    "- Wenn **kein** Laufzeitfehler auftritt, wird die `except`-Klausel übersprungen\n",
    "- falls ein Fehler auftritt, wird der `try`-Anweisungsblock sofort abgebrochen (und der Rest übersprungen), und stattdessen der `except`-Anweisungsblock ausgeführt"
   ]
  },
  {
   "cell_type": "markdown",
   "metadata": {
    "slideshow": {
     "slide_type": "fragment"
    }
   },
   "source": [
    "Eine `try`-Anweisung muss immer **mindestens** eine `except` (oder die `finally`)-Klausel besitzen. Wenn im Fehlerfall nichts passieren soll, schreibt man in den `except`-Block die Anweisung `pass`."
   ]
  },
  {
   "cell_type": "markdown",
   "metadata": {
    "slideshow": {
     "slide_type": "subslide"
    }
   },
   "source": [
    "#### 6.1.2 Mehrteilige `except`-Blöcke"
   ]
  },
  {
   "cell_type": "markdown",
   "metadata": {
    "slideshow": {
     "slide_type": "fragment"
    }
   },
   "source": [
    "Hinter `except` darf auch ein `tuple` von Fehlerklassen stehen, die dann jeweils mit dem gleichen Code behandelt werden. Der Syntax lautet z.B.:\n",
    "\n",
    "```python\n",
    "except(ZeroDivisionError, ValueError) as e:\n",
    "```"
   ]
  },
  {
   "cell_type": "markdown",
   "metadata": {
    "slideshow": {
     "slide_type": "fragment"
    }
   },
   "source": [
    "Wenn für verschiedene Fehlerklassen auch unterschiedlicher Code ausgeführt werden soll, können mehrere `except`-Blöcke hintereinander gesetzt werden. Dabei wir allerdings nur der **erste `except`-Block**, der zur ausgelösten Ausnahme passt, abgearbeitet."
   ]
  },
  {
   "cell_type": "code",
   "execution_count": null,
   "metadata": {
    "slideshow": {
     "slide_type": "fragment"
    }
   },
   "outputs": [],
   "source": [
    "# TODO mehrere except Blöcke\n"
   ]
  },
  {
   "cell_type": "markdown",
   "metadata": {
    "slideshow": {
     "slide_type": "subslide"
    }
   },
   "source": [
    "#### 6.1.3 optionale `else`-Klausel"
   ]
  },
  {
   "cell_type": "markdown",
   "metadata": {
    "slideshow": {
     "slide_type": "fragment"
    }
   },
   "source": [
    "Wollen Sie Code nur ausführen, wenn im `try`-Block **kein** Fehler aufgetreten ist, kann dies mit einem zusätzlichen `else`-Block realisiert werden. Dieser steht syntaktisch hinter den `except`-Blöcken und wird nur ausgeführt, nachdem die Behandlung des `try`-Blocks ohne Fehler abgeschlossen wurde."
   ]
  },
  {
   "cell_type": "code",
   "execution_count": null,
   "metadata": {
    "slideshow": {
     "slide_type": "fragment"
    }
   },
   "outputs": [],
   "source": [
    "# TODO else-Block für try-Anweisung\n",
    "with open(\"neu.txt\", \"w\") as neu:\n",
    "    neu.write(\"eins\\nzwei\\ndrei\")\n",
    "\n",
    "filename = input(\"Dateiname: \")\n",
    "\n"
   ]
  },
  {
   "cell_type": "markdown",
   "metadata": {
    "slideshow": {
     "slide_type": "subslide"
    }
   },
   "source": [
    "#### 6.1.4 optionale `finally`-Klausel"
   ]
  },
  {
   "cell_type": "markdown",
   "metadata": {
    "slideshow": {
     "slide_type": "fragment"
    }
   },
   "source": [
    "Das Schlüsselwort `finally` leitet einen weiteren Anweisungblock ein, der *in jedem Fall* ausgeführt wird, auch wenn zuvor ein Laufzeitfehler aufgetreten ist. Man verwendet diese Kontrollstruktur beispielweise für Aufräumarbeiten bei Programmabbrüchen, wie Schließen und Speichern von Dateien, Trennen von Netzwerkverbindungen, usw.\n",
    "\n",
    "Syntax:\n",
    "```python\n",
    "try:\n",
    "    anweisungsblock1\n",
    "finally:\n",
    "    anweisungsblock2\n",
    "```"
   ]
  },
  {
   "cell_type": "markdown",
   "metadata": {
    "slideshow": {
     "slide_type": "fragment"
    }
   },
   "source": [
    "- `try`-Anweisungsblock wird ausgeführt (oder zumindest versucht)\n",
    "- wenn ein Fehler auftritt, merkt sich das System die Ausnahme und führt zuerst noch die `finally`-Anweisung aus (diese wird auch ausgeführt, wenn *kein* Fehler auftritt)\n",
    "- Im Fehlerfall folgen dann schließlich der Programmabbruch und die Meldung der Ausnahme"
   ]
  },
  {
   "cell_type": "code",
   "execution_count": null,
   "metadata": {
    "slideshow": {
     "slide_type": "fragment"
    }
   },
   "outputs": [],
   "source": [
    "# TODO Beispiel\n"
   ]
  },
  {
   "cell_type": "markdown",
   "metadata": {
    "slideshow": {
     "slide_type": "subslide"
    }
   },
   "source": [
    "### 6.2 Ausnahmen generieren"
   ]
  },
  {
   "cell_type": "markdown",
   "metadata": {
    "slideshow": {
     "slide_type": "fragment"
    }
   },
   "source": [
    "#### 6.2.1 Die `raise`-Klausel"
   ]
  },
  {
   "cell_type": "markdown",
   "metadata": {
    "slideshow": {
     "slide_type": "fragment"
    }
   },
   "source": [
    "Mit einer `raise`-Anweisung können sie gezielt Ausnahme-Ereignisse auslösen. Der Syntax lautet:\n",
    "\n",
    "```python\n",
    "raise ExceptionClass (assoziierter Wert)\n",
    "```\n",
    "\n",
    "wobei `assoziierter Wert` ein String ist, der den Fehler näher erläutert und in der Fehlermeldung auftauchen soll."
   ]
  },
  {
   "cell_type": "code",
   "execution_count": null,
   "metadata": {
    "slideshow": {
     "slide_type": "fragment"
    }
   },
   "outputs": [],
   "source": [
    "# TODO raise-Anweisung\n"
   ]
  },
  {
   "cell_type": "markdown",
   "metadata": {
    "slideshow": {
     "slide_type": "fragment"
    }
   },
   "source": [
    "Ausnahmen können nach der Verarbeitung \"re-raised\" werden. Wollen Sie beispielsweise eine detaillierte Fehlerbeschreibung ausgeben, aber dennoch ein Programmabbruch auslösen, können Sie dies realisieren, indem Sie im `except`-Block erneut `raise` (ohne weitere Argumente) ausführen:"
   ]
  },
  {
   "cell_type": "code",
   "execution_count": null,
   "metadata": {
    "slideshow": {
     "slide_type": "fragment"
    }
   },
   "outputs": [],
   "source": [
    "# Detaillierte Fehlerbeschreibung\n",
    "try:\n",
    "    x = 7\n",
    "    y = 0\n",
    "    print(x/y)\n",
    "except ZeroDivisionError as e:\n",
    "    print(\"Division durch 0 aufgetreten\")\n",
    "    print(\"Fehlerbeschreibung: \", e)\n",
    "    print(\"x = \", x)\n",
    "    print(\"y = \", y)\n",
    "    raise #ZeroDivisionError\n",
    "\n",
    "print(\"Wird nie ausgeführt\")"
   ]
  },
  {
   "cell_type": "markdown",
   "metadata": {
    "slideshow": {
     "slide_type": "fragment"
    }
   },
   "source": [
    "Eine solche `raise`-Anweisung verlässt den gesamten `try-except`-Block, d.h. auch nachgelagerte, passende `except`-Blöcke werden ignoriert. Ein äußerer `try`-Block dagegen kann die \"re-raised\"-Anweisung immernoch auffangen:"
   ]
  },
  {
   "cell_type": "code",
   "execution_count": null,
   "metadata": {
    "slideshow": {
     "slide_type": "fragment"
    }
   },
   "outputs": [],
   "source": [
    "# Re-Raise auffangen\n",
    "try: \n",
    "    try:\n",
    "        print(1/0)\n",
    "    except ArithmeticError as ae:\n",
    "        print(\"Arithmetic Unit Error\")\n",
    "        raise       # verlässt die gesamte innere Struktur\n",
    "    except ZeroDivisionError as zde:\n",
    "        print(\"Innerer Block wird übersprungen\")\n",
    "except ZeroDivisionError as zde:\n",
    "    print(\"Äußerer Block wird behandelt\")"
   ]
  },
  {
   "cell_type": "markdown",
   "metadata": {
    "slideshow": {
     "slide_type": "subslide"
    }
   },
   "source": [
    "#### 6.2.2 Eigene Ausnahmen"
   ]
  },
  {
   "cell_type": "markdown",
   "metadata": {
    "slideshow": {
     "slide_type": "fragment"
    }
   },
   "source": [
    "Man kann auch eigene Exception-Klassen definieren. (Klassen werden jedoch erst später behandelt)"
   ]
  },
  {
   "cell_type": "code",
   "execution_count": null,
   "metadata": {
    "slideshow": {
     "slide_type": "fragment"
    }
   },
   "outputs": [],
   "source": [
    "# TODO Eigene Exception-Klasse\n"
   ]
  },
  {
   "cell_type": "markdown",
   "metadata": {
    "slideshow": {
     "slide_type": "subslide"
    }
   },
   "source": [
    "#### 6.2.3 Testen von Vor- und Nachbedingungen"
   ]
  },
  {
   "cell_type": "markdown",
   "metadata": {
    "slideshow": {
     "slide_type": "fragment"
    }
   },
   "source": [
    "Eine weitere Technik, um das Fehlerrisiko bei Python-Programmen zu reduzieren, nennt man *Testen von Vor- und Nachbedingungen*. Eine Funktion arbeit in der Regel nur dann korrekt, wenn die übergebenen Argumente bestimmte Bedingungen erfüllen. Die Konjunktion (*und*-Verknüpfung)  nennt man *Vorbedingung*.\n",
    "\n",
    "Entsprechend gibt es auch *Nachbedingungen*. Sie definieren das, was die Funktion leisten soll. Ist die Nachbedingung bei erfüllter Vorbedingung ebenfalls erfüllt, arbeitet die Funktion korrekt."
   ]
  },
  {
   "cell_type": "markdown",
   "metadata": {
    "slideshow": {
     "slide_type": "fragment"
    }
   },
   "source": [
    "In Python lassen sich Vor- und Nachbedingungen mithilfe der `assert`-Anweisung testen. Diese sichert zu, dass eine bestimmte Bedingung erfüllt ist.\n",
    "\n",
    "```python\n",
    "assert bedingung [, fehlermeldung]\n",
    "```\n",
    "\n",
    "dies entspricht in etwa folgendem Syntax:\n",
    "\n",
    "```python\n",
    "if not bedingung:\n",
    "    raise AssertionError(fehlermeldung)\n",
    "```\n",
    "\n",
    "Damit ist die `assert`-Anweisung quasi eine bedingte `raise`-Anweisung. Sie sollte nicht zum Auffangen von Programmfehlern wie `x / 0` verwendet werden, weil Python diese selbst erkennt, sondern um benutzerdefinierte und semantische Einschränkungen aufzufangen."
   ]
  },
  {
   "cell_type": "code",
   "execution_count": null,
   "metadata": {
    "slideshow": {
     "slide_type": "fragment"
    }
   },
   "outputs": [],
   "source": [
    "# TODO Testen auf Vor- und Nachbedinungen anhand fiblist()\n",
    "# gibt eine Liste der erste n Fibonacci-Zahlen\n",
    "def fiblist(n):\n",
    "    # Prüfe Vorbedindung\n",
    "    # TODO\n",
    "    fib = [0, 1]\n",
    "    for i in range(1, n):\n",
    "        fib += [fib[-1] + fib[-2]]\n",
    "    # Prüfe Nachbedinung\n",
    "    # TODO\n",
    "    return fib\n",
    "\n",
    "try:\n",
    "    print(fiblist(4))\n",
    "except Exception as e:\n",
    "    print(type(e),e)"
   ]
  },
  {
   "cell_type": "markdown",
   "metadata": {
    "slideshow": {
     "slide_type": "slide"
    }
   },
   "source": [
    "### 6.3 Fehlerinformationen"
   ]
  },
  {
   "cell_type": "markdown",
   "metadata": {
    "slideshow": {
     "slide_type": "fragment"
    }
   },
   "source": [
    "Die genauen Fehlerinformationen kann man sich mit der Methode `exc_info()` des `sys`-Moduls anzeigen lassen:"
   ]
  },
  {
   "cell_type": "code",
   "execution_count": null,
   "metadata": {
    "slideshow": {
     "slide_type": "fragment"
    }
   },
   "outputs": [],
   "source": [
    "# Fehlerinformationen anzeigen lassen\n",
    "import sys\n",
    "\n",
    "try: \n",
    "    i = int(\"Hello\")\n",
    "except Exception:\n",
    "    (type, value, traceback) = sys.exc_info()\n",
    "    print(\"Unexpected Error:\")\n",
    "    print(\"Type: \", type)\n",
    "    print(\"Value: \", value)\n",
    "    print(\"Traceback: \", traceback)"
   ]
  },
  {
   "cell_type": "markdown",
   "metadata": {
    "slideshow": {
     "slide_type": "slide"
    }
   },
   "source": [
    "## 7. Modularisierung"
   ]
  },
  {
   "cell_type": "markdown",
   "metadata": {
    "slideshow": {
     "slide_type": "fragment"
    }
   },
   "source": [
    "Modulare Programmierung ist eine Software-Designtechnik. Unter modularem Design versteht man, ein komplexes System in kleinere selbständige Einheiten und Komponenten zu zerlegen. Diese Komponenten bezeichnet man als *Module.* Ein Modul kann unabhängig vom Gesamtsystem erzeugt und getestet werden, und in den meisten Fällen auch in anderen Systemen verwendet werden."
   ]
  },
  {
   "cell_type": "markdown",
   "metadata": {
    "slideshow": {
     "slide_type": "fragment"
    }
   },
   "source": [
    "In Python unterscheidet man zwei Arten von Modulen:\n",
    "\n",
    "- Bibliotheken (*Libraries*): Stellen Datentypen oder Funktionen für alle Python-Programme bereit, hierbei gibt es:\n",
    "    - die umfangreiche Standardbibliothek\n",
    "    - eigene Module\n",
    "    - Module von Drittanbietern\n",
    "- lokale Module: nur für ein Programm verfügbar"
   ]
  },
  {
   "cell_type": "markdown",
   "metadata": {
    "slideshow": {
     "slide_type": "subslide"
    }
   },
   "source": [
    "### 7.1 Modularten"
   ]
  },
  {
   "cell_type": "markdown",
   "metadata": {
    "slideshow": {
     "slide_type": "fragment"
    }
   },
   "source": [
    "Beim Einbinden eines Moduls sucht Python nach allen Dateien, die für Python importierbar sind (&rarr; `sys.path`). Importiert werden können folgende Dateitypen: \n",
    "- In Python geschriebene Module: `.py` (normaler Quellcode), `.pyc` (Bytecode), `.pyo` (optimierter Bytecode)\n",
    "- dynamisch geladene C-Module: `.pyd`, `.dll` (DLLs unter Windows) und `.so` (dynamische Bibliotheken unter Linux/Unix-Systemen). \n",
    "\n",
    "Weiterhin können *Packages*, die aus einem Ordner bestehen und importierbare Dateien enthalten, eingebunden werden. Diese Pakete kann man allgemein in der Form `import ordnername` ansprechen."
   ]
  },
  {
   "cell_type": "markdown",
   "metadata": {
    "slideshow": {
     "slide_type": "subslide"
    }
   },
   "source": [
    "### 7.2 Einbinden von Modulen"
   ]
  },
  {
   "cell_type": "markdown",
   "metadata": {
    "slideshow": {
     "slide_type": "fragment"
    }
   },
   "source": [
    "Das Einbinden von Modulen spielt eine wichtige Rolle in Python. Man hat mehrere Möglichkeiten, Module zu importieren, wobei man ziemlich genau festlegen kann, was man genau importieren möchte. "
   ]
  },
  {
   "cell_type": "markdown",
   "metadata": {
    "slideshow": {
     "slide_type": "fragment"
    }
   },
   "source": [
    "- `import modul`: Das angegebene Modul wird vollständig in den aktuellen Namensraum aufgenommen und kann unter dem vollen Namen (*fully qualified*) „modul“ angesprochen werden. "
   ]
  },
  {
   "cell_type": "code",
   "execution_count": null,
   "metadata": {
    "slideshow": {
     "slide_type": "fragment"
    }
   },
   "outputs": [],
   "source": [
    "# TODO Beispiel 1\n",
    "\n"
   ]
  },
  {
   "cell_type": "markdown",
   "metadata": {
    "slideshow": {
     "slide_type": "fragment"
    }
   },
   "source": [
    "- `import modul as neuername`: Das angegebene Modul wird vollständig in den aktuellen Namensraum aufgenommen. Das Modul ist aber nicht mehr unter dem Namen „modul“ ansprechbar, sondern als „neuername“. Damit wird also das Modul für den internen Gebrauch umbenannt. Das eignet sich besonders, wenn man sich Schreibarbeit ersparen möchte."
   ]
  },
  {
   "cell_type": "code",
   "execution_count": null,
   "metadata": {
    "slideshow": {
     "slide_type": "fragment"
    }
   },
   "outputs": [],
   "source": [
    "# TODO Beispiel 2\n"
   ]
  },
  {
   "cell_type": "markdown",
   "metadata": {
    "slideshow": {
     "slide_type": "fragment"
    }
   },
   "source": [
    "- `from modul import name`: Mit diesem Aufruf wird aus dem Modul „modul“ der Teil „name“ importiert.  Danach kann auch nur das Importierte als „name“ angesprochen werden."
   ]
  },
  {
   "cell_type": "code",
   "execution_count": null,
   "metadata": {
    "slideshow": {
     "slide_type": "fragment"
    }
   },
   "outputs": [],
   "source": [
    "# TODO Beispiel 3\n"
   ]
  },
  {
   "cell_type": "markdown",
   "metadata": {
    "slideshow": {
     "slide_type": "fragment"
    }
   },
   "source": [
    "- `from modul import name as neuername`: Mit diesem Aufruf wird aus dem Modul „modul“ der Teil „name“ unter „neuername“ importiert. Danach kann es mit „neuername“ angesprochen werden."
   ]
  },
  {
   "cell_type": "code",
   "execution_count": null,
   "metadata": {
    "slideshow": {
     "slide_type": "fragment"
    }
   },
   "outputs": [],
   "source": [
    "# TODO Beispiel 4\n"
   ]
  },
  {
   "cell_type": "markdown",
   "metadata": {
    "slideshow": {
     "slide_type": "fragment"
    }
   },
   "source": [
    "- `from modul import *`: Die letzte Option ist ein Stern-Import. Der Stern dient als Platzhalter und signalisiert, dass das betreffende Modul vollständig importiert werden soll. Auf den ersten Blick ist das zwar bequem, weil man den Modulnamen nicht mehr vor die Funktionen usw. schreiben muss. Nachteilig ist dabei, dass bestehende Objekte (Funktionen, Klassen etc.) unbemerkt überschrieben werden können."
   ]
  },
  {
   "cell_type": "code",
   "execution_count": null,
   "metadata": {
    "slideshow": {
     "slide_type": "fragment"
    }
   },
   "outputs": [],
   "source": [
    "# TODO Beispiel 5\n"
   ]
  },
  {
   "cell_type": "markdown",
   "metadata": {
    "slideshow": {
     "slide_type": "subslide"
    }
   },
   "source": [
    "### 7.3 Inhalt eines Moduls"
   ]
  },
  {
   "cell_type": "markdown",
   "metadata": {
    "slideshow": {
     "slide_type": "fragment"
    }
   },
   "source": [
    "Mit der built-in Funktion `dir()` kann man sich die in einem Modul definierten Namen anzeigen lassen:"
   ]
  },
  {
   "cell_type": "code",
   "execution_count": null,
   "metadata": {
    "slideshow": {
     "slide_type": "fragment"
    }
   },
   "outputs": [],
   "source": [
    "import math\n",
    "dir(math)"
   ]
  },
  {
   "cell_type": "markdown",
   "metadata": {
    "slideshow": {
     "slide_type": "fragment"
    }
   },
   "source": [
    "Ohne Argumente liefert `dir()` die Namen, die in den Namensraum geladen wurden. Je nachdem kann die Ausgabe dieser Methode variieren."
   ]
  },
  {
   "cell_type": "code",
   "execution_count": null,
   "metadata": {
    "slideshow": {
     "slide_type": "fragment"
    }
   },
   "outputs": [],
   "source": [
    "# zuerst Kernel restarten\n",
    "#import math\n",
    "dir()"
   ]
  },
  {
   "cell_type": "markdown",
   "metadata": {
    "slideshow": {
     "slide_type": "subslide"
    }
   },
   "source": [
    "### 7.4 Eigene Module"
   ]
  },
  {
   "cell_type": "markdown",
   "metadata": {
    "slideshow": {
     "slide_type": "fragment"
    }
   },
   "source": [
    "In Python ist es extrem einfach, eigene Module zu schreiben. Viele tun es, ohne es zu wissen, denn jedes Python-Programm ist automatisch auch ein Modul."
   ]
  },
  {
   "cell_type": "markdown",
   "metadata": {
    "slideshow": {
     "slide_type": "fragment"
    }
   },
   "source": [
    "In dem Python-File `fibonacci.py` befinden sich folgende Funktionen:\n",
    "\n",
    "```python\n",
    "def fib(n):\n",
    "    a, b = 0, 1\n",
    "    for i in range(n):\n",
    "        a, b = b, a + b\n",
    "    return a\n",
    "    \n",
    "def fiblist(n):\n",
    "    fib = [0, 1]\n",
    "    for i in range(1, n):\n",
    "        fib += [fib[-1] + fib[-2]]\n",
    "    return fib\n",
    "```"
   ]
  },
  {
   "cell_type": "code",
   "execution_count": null,
   "metadata": {
    "slideshow": {
     "slide_type": "fragment"
    }
   },
   "outputs": [],
   "source": [
    "# TODO eigenes Modul fibonacci.py importieren\n"
   ]
  },
  {
   "cell_type": "code",
   "execution_count": null,
   "metadata": {
    "slideshow": {
     "slide_type": "fragment"
    }
   },
   "outputs": [],
   "source": [
    "# Code um Module zu reloaden\n",
    "import importlib as imp\n",
    "imp.reload(fibonacci)"
   ]
  },
  {
   "cell_type": "markdown",
   "metadata": {
    "slideshow": {
     "slide_type": "fragment"
    }
   },
   "source": [
    "#### Dokumentation eigener Module"
   ]
  },
  {
   "cell_type": "code",
   "execution_count": null,
   "metadata": {
    "slideshow": {
     "slide_type": "fragment"
    }
   },
   "outputs": [],
   "source": [
    "# Aufruf des pydoc-Moduls\n",
    "help(fibonacci)"
   ]
  },
  {
   "cell_type": "markdown",
   "metadata": {
    "slideshow": {
     "slide_type": "subslide"
    }
   },
   "source": [
    "### 7.5 Pakete (*Packages*)"
   ]
  },
  {
   "cell_type": "markdown",
   "metadata": {
    "slideshow": {
     "slide_type": "fragment"
    }
   },
   "source": [
    "Um Programme, die aus mehreren Modulen bestehen, weiterhin nachvollziehbar zu gestalten, stellt Python das Paketkonzept bereit. Damit kann man beliebig viele Module zu einem Paket \"schnüren\". Der dazu erforderliche Mechanismus ist denkbar einfach gelöst:"
   ]
  },
  {
   "cell_type": "markdown",
   "metadata": {
    "slideshow": {
     "slide_type": "fragment"
    }
   },
   "source": [
    "- Zuerst erzeugt man einen Unterordner in einem Verzeichnis, in dem der Python-Interpreter auch Module erwartet bzw. danach sucht. \n",
    "\n",
    "- Im angelegten Ordner muss nun eine Datei mit dem Namen `__init__.py` angelegt werden. Diese Datei kann leer sein oder Initialisierungscode enthalten, der beim Einbinden des Pakets einmalig ausgeführt wird. \n",
    "\n"
   ]
  },
  {
   "cell_type": "code",
   "execution_count": null,
   "metadata": {},
   "outputs": [],
   "source": [
    "# Neuen Unterordner erzeugen\n",
    "import os\n",
    "try:\n",
    "    os.mkdir(\"simple_package\")\n",
    "except:\n",
    "    print(\"Bereits vorhanden\")\n"
   ]
  },
  {
   "cell_type": "code",
   "execution_count": null,
   "metadata": {},
   "outputs": [],
   "source": [
    "# Erzeugen der init.py Datei\n",
    "try:\n",
    "    with open(\"simple_package/__init__.py\", \"w\") as d:\n",
    "        d.write(\"from simple_package import a, b\")\n",
    "        #pass\n",
    "\n",
    "except:\n",
    "    print(\"Konnte nicht erzeugt werden\")"
   ]
  },
  {
   "cell_type": "code",
   "execution_count": null,
   "metadata": {},
   "outputs": [],
   "source": [
    "# Erzeugen zwei einfacher Module\n",
    "try:\n",
    "    with open(\"simple_package/a.py\", \"w\") as a:\n",
    "        a.write(\"def f1():\\n\\t\")\n",
    "        a.write(\"print('Hallo, hier ist f1 von Modul a ')\")\n",
    "except:\n",
    "    print(\"Modul a.py konnte nicht angelegt werden\")\n",
    "\n",
    "try:\n",
    "    with open(\"simple_package/b.py\", \"w\") as b:\n",
    "        b.write(\"def foo():\\n\\t\")\n",
    "        b.write(\"print('Hallo, hier ist foo von Modul b ')\")\n",
    "except:\n",
    "    print(\"Modul b.py konnte nicht angelegt werden\")"
   ]
  },
  {
   "cell_type": "code",
   "execution_count": null,
   "metadata": {
    "slideshow": {
     "slide_type": "fragment"
    }
   },
   "outputs": [],
   "source": [
    "# TODO Was nicht funktioniert\n",
    ")"
   ]
  },
  {
   "cell_type": "code",
   "execution_count": null,
   "metadata": {
    "slideshow": {
     "slide_type": "fragment"
    }
   },
   "outputs": [],
   "source": [
    "# TODO Module aus Paket aufrufen\n"
   ]
  },
  {
   "cell_type": "code",
   "execution_count": null,
   "metadata": {
    "slideshow": {
     "slide_type": "fragment"
    }
   },
   "outputs": [],
   "source": [
    "# TODO nachdem die __init__.py angepasst wurde\n",
    "imp.reload(simple_package)\n"
   ]
  }
 ],
 "metadata": {
  "celltoolbar": "Slideshow",
  "kernelspec": {
   "display_name": "Python 3 (ipykernel)",
   "language": "python",
   "name": "python3"
  },
  "language_info": {
   "codemirror_mode": {
    "name": "ipython",
    "version": 3
   },
   "file_extension": ".py",
   "mimetype": "text/x-python",
   "name": "python",
   "nbconvert_exporter": "python",
   "pygments_lexer": "ipython3",
   "version": "3.11.7"
  },
  "varInspector": {
   "cols": {
    "lenName": 16,
    "lenType": 16,
    "lenVar": 40
   },
   "kernels_config": {
    "python": {
     "delete_cmd_postfix": "",
     "delete_cmd_prefix": "del ",
     "library": "var_list.py",
     "varRefreshCmd": "print(var_dic_list())"
    },
    "r": {
     "delete_cmd_postfix": ") ",
     "delete_cmd_prefix": "rm(",
     "library": "var_list.r",
     "varRefreshCmd": "cat(var_dic_list()) "
    }
   },
   "types_to_exclude": [
    "module",
    "function",
    "builtin_function_or_method",
    "instance",
    "_Feature"
   ],
   "window_display": false
  }
 },
 "nbformat": 4,
 "nbformat_minor": 2
}
