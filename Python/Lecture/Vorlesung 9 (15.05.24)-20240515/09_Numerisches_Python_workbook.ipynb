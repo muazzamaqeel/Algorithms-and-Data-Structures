{
 "cells": [
  {
   "cell_type": "markdown",
   "metadata": {
    "slideshow": {
     "slide_type": "slide"
    }
   },
   "source": [
    "# Numerisches Python"
   ]
  },
  {
   "cell_type": "markdown",
   "metadata": {
    "slideshow": {
     "slide_type": "fragment"
    }
   },
   "source": [
    "Numerisches Python (engl. *Numeric Python*) soll eine Andeutung auf numerisches Programmieren und das python-spezifische Modul `NumPy` sein. Python ist in Wissenschaft und Forschung weit verbreitet, was nicht zuletzt an den hervorragenden Möglichkeiten liegt, mit Python große Datenmengen elegant und *effizient* zu verarbeiten. "
   ]
  },
  {
   "cell_type": "markdown",
   "metadata": {
    "slideshow": {
     "slide_type": "fragment"
    }
   },
   "source": [
    "Sobald es um die Lösung numerischer Probleme geht, ist die Leistungsfähigkeit von Algorithmen von höchster Wichtigkeit, sowohl was die Geschwindigkeit als auch den Speicherverbrauch betrifft. Reines Python - also wie bisher, ohne den Einsatz irgendwelcher Spezialmodule - würde sich nicht eignen für Aufgaben, für die z.B. MATLAB gemacht ist.\n",
    "\n",
    "Nutzen Sie Python in Kombination mit den Modulen `NumPy`,`SciPy`, `Matplotlib` und `Pandas`, dann gehört die Programmiersprache zu den führenden numerischen Programmiersprachen und ist mindestens so effizient wie MATLAB."
   ]
  },
  {
   "cell_type": "markdown",
   "metadata": {
    "slideshow": {
     "slide_type": "fragment"
    }
   },
   "source": [
    "- `NumPy` ist ein Modul, das grundlegende Datenstrukturen zur Verfügung stellt, die auch von `Matplotlib`, `SciPy` und `Pandas` benutzt werden. Es implementiert mehrdimensionale Arrays und Matrizen, und gibt wesentliche Funktionalitäten an die Hand, mit denen sich diese Datenstrukturen erzeugen und verändern lassen."
   ]
  },
  {
   "cell_type": "markdown",
   "metadata": {
    "slideshow": {
     "slide_type": "fragment"
    }
   },
   "source": [
    "- `SciPy` baut auf `NumPy` auf, d.h. es baut auf den Datenstrukturen auf. Es erweitert die Leistungsfähigkeit mit weiteren Funktionalitäten wie beispielsweise Regression, Fourier-Transformation, Lösen von LGS und viele weitere."
   ]
  },
  {
   "cell_type": "markdown",
   "metadata": {
    "slideshow": {
     "slide_type": "fragment"
    }
   },
   "source": [
    "- `Pandas` ist das \"jüngste Kind\" in dieser Modulfamilie. Es benutzt alle bisher genannten Module und baut auf diesen auf. Der Fokus besteht darin, Datenstrukturen und Operationen zur Verarbeitung von Tabellen und Zeitreihen bereitzustellen. Der Name ist von \"Panel data\" abgeleitet. Es eignet sich daher z.B. bestens, um mit Tabellendaten, wie sie von Excel erzeugt werden, zu arbeiten."
   ]
  },
  {
   "cell_type": "markdown",
   "metadata": {
    "slideshow": {
     "slide_type": "fragment"
    }
   },
   "source": [
    "- Menschen sind unheimlich gut darin, Bilder zu interpretieren, Computer haben ihre Stärke in der Auswertung von Zahlen. Um nun die Früchte der Datenverarbeitung mit Python zu ernten, will man oft die Daten als graphische Plots ausgeben. Am einfachsten lässt sich dies in Python mit dem Modul `Matplotlib` bzw. dessen Untermodul `PyPlot` realisieren. "
   ]
  },
  {
   "cell_type": "markdown",
   "metadata": {
    "slideshow": {
     "slide_type": "fragment"
    }
   },
   "source": [
    "**Python als Alternative zu MATLAB**\n",
    "\n",
    "Ein wesentlicher Nachteil von MATLAB gegenüber Python sind die Kosten. Python mit all seinen Modulen ist kostenlos, wohingegen MATLAB recht teuer ist und je nach Toolbox noch viel teurer werden kann. Bei Python handelt es sich aber nicht nur um *kostenlose*, sondern auch um *freie* Software, d.h. ihr Einsatz ist nicht durch irgendwelche Lizenzmodelle eingeschränkt.\n",
    "\n",
    "![](anhang/pythonVSmatlab.png)\n",
    "\n",
    "<sub>Quelle: B. Klein, „Numerisches Python“, Carl Hanser Verlag GmbH & Co. KG, 2023, S. 5 </sub>"
   ]
  },
  {
   "cell_type": "markdown",
   "metadata": {
    "slideshow": {
     "slide_type": "slide"
    }
   },
   "source": [
    "## 9. NumPy\n",
    "\n",
    "### 9.1 Einführung"
   ]
  },
  {
   "cell_type": "markdown",
   "metadata": {
    "slideshow": {
     "slide_type": "fragment"
    }
   },
   "source": [
    "**Zusammenfassung und Vergleich von NumPy-Datenstrukturen und Python**\n",
    "\n",
    "generelle Vorteile von Python-Datenstrukturen:\n",
    "\n",
    "- `int` und `float` sind als mächtige Klassen implementiert. Daher können z.B. `int`-Zahlen beinnahe \"unendlich\" groß oder klein werden.\n",
    "- Mit `list` hat man effiziente Methoden zum Einfügen, Anhängen und Löschen von Elementen\n",
    "- `dict` bieten einen schnellen *Lookup* \n",
    "\n",
    "Vorteile von NumPy-Datenstrukturen gegenüber Python:\n",
    "\n",
    "- Array-basierte Berechnungen\n",
    "- effizient implementierte mehrdimensionale Arrays\n",
    "- gemacht für wissenschaftliche Berechnungen"
   ]
  },
  {
   "cell_type": "markdown",
   "metadata": {
    "slideshow": {
     "slide_type": "fragment"
    }
   },
   "source": [
    "**Ein einfaches Beispiel**\n",
    "\n",
    "Zuerst muss das Modul `numpy` mit dem Befehl `import numpy as np` importiert werden. Dabei hat sich der Alias `np` als Konvention durchgesetzt. **Vermeiden** Sie `from numpy import *`."
   ]
  },
  {
   "cell_type": "code",
   "execution_count": null,
   "metadata": {
    "slideshow": {
     "slide_type": "fragment"
    }
   },
   "outputs": [],
   "source": [
    "# einfache Beispiele\n",
    "# TODO Modul importieren\n",
    "\n",
    "# Temperaturwerte in Grad Celsius\n",
    "cvalues = [20.8, 21.9, 22.5, 22.7, 22.3, 21.0, 21.2, 20.9, 20.1]\n",
    "\n",
    "# TODO Erzeugen eines eindimensionalen NumPy-Arrays\n",
    "\n",
    "\n",
    "# TODO Temperaturwerte in Grad Fahrenheit umrechnen\n",
    "\n",
    "\n",
    "# TODO Umrechnung mit reiner Python-Lösung\n",
    "\n",
    "\n",
    "# TODO Ausgabe des NumPy-Typs\n",
    "\n"
   ]
  },
  {
   "cell_type": "markdown",
   "metadata": {
    "slideshow": {
     "slide_type": "fragment"
    }
   },
   "source": [
    "`ndarray` steht für *n-dimensional array* und wird synonym zur Bezeichnung *Array* verwendet."
   ]
  },
  {
   "cell_type": "markdown",
   "metadata": {
    "slideshow": {
     "slide_type": "fragment"
    }
   },
   "source": [
    "**Einfache Visualisierung von Werten**\n",
    "\n",
    "Auch wenn das Modul `Matplotlib` erst später im Detail besprochen wird, soll die einfachste Anwendung des Moduls - die zum Plotten der obigen Werte - an dieser Stelle bereits gezeigt werden. Dazu wir das Paket `pyplot` aus `matplotlib` benötigt. Speziell in Jupyter Notebook (oder in der ipyhton-Shell) sollte man zusätzlich `%matplotlib inline` schreiben. `inline` impliziert, dass der Plot im Notebook selber erscheint. Ein reines `%matplotlib` erzeugt ein neues Fenster mithilfe des jeweils konfigurierten GUI-Backend. "
   ]
  },
  {
   "cell_type": "code",
   "execution_count": null,
   "metadata": {
    "slideshow": {
     "slide_type": "fragment"
    }
   },
   "outputs": [],
   "source": [
    "# TODO Temperaturwerte plotten\n",
    "\n"
   ]
  },
  {
   "cell_type": "markdown",
   "metadata": {
    "slideshow": {
     "slide_type": "fragment"
    }
   },
   "source": [
    "Die Funktion `plot()` benutzt das Array `C` als Werte für die y-Achse. Als Werte für die x-Achse wurden die Indizes des Arrays `C` verwendet."
   ]
  },
  {
   "cell_type": "markdown",
   "metadata": {
    "slideshow": {
     "slide_type": "slide"
    }
   },
   "source": [
    "### 9.2 Arrays in NumPy"
   ]
  },
  {
   "cell_type": "markdown",
   "metadata": {
    "slideshow": {
     "slide_type": "fragment"
    }
   },
   "source": [
    "Wie in [9.1](#91-einführung) gesehen, kann man mit der Funktion `array()` ein Array-Objekt aus einer beliebigen Zahlenfolge (z.B. Liste oder Tupel) erzeugen. Bei der Ausgabe mit der Standard-`print()`-Funktion liefert Python eine Darstellung, die der mathematischen Schreibweise für Matrizen sehr ähnelt. Beachten Sie: Zwischen den Zahlen sind keine Kommas.\n",
    "\n",
    "Mehrdimensionale Arrays lassen sich beispielsweise mit verschachtelten Listen erzeugen:"
   ]
  },
  {
   "cell_type": "code",
   "execution_count": null,
   "metadata": {
    "slideshow": {
     "slide_type": "fragment"
    }
   },
   "outputs": [],
   "source": [
    "# TODO mehrdimensionale Arrays\n",
    "\n",
    "# das zweite Argument gibt den Datentyp vor\n"
   ]
  },
  {
   "cell_type": "markdown",
   "metadata": {
    "slideshow": {
     "slide_type": "fragment"
    }
   },
   "source": [
    "Neben mehrdimensionalen Arrays lassen sich auch \"0-dimensionale\" erzeugen. Man spricht dann auch von Skalaren. "
   ]
  },
  {
   "cell_type": "code",
   "execution_count": null,
   "metadata": {
    "slideshow": {
     "slide_type": "fragment"
    }
   },
   "outputs": [],
   "source": [
    "# TODO 0-dimensionales Array\n"
   ]
  },
  {
   "cell_type": "markdown",
   "metadata": {
    "slideshow": {
     "slide_type": "fragment"
    }
   },
   "source": [
    "Die Dimension lässt sich entweder über das Attribut `ndim` oder über die Methode `np.ndim()` bestimmen. Diese ist gleichbedeutend mit der Anzahl der Achsen."
   ]
  },
  {
   "cell_type": "markdown",
   "metadata": {
    "slideshow": {
     "slide_type": "fragment"
    }
   },
   "source": [
    "**Spezielle Arrays**:"
   ]
  },
  {
   "cell_type": "code",
   "execution_count": null,
   "metadata": {
    "slideshow": {
     "slide_type": "fragment"
    }
   },
   "outputs": [],
   "source": [
    "# Arrays aus Nullen oder Einsen\n",
    "print(np.ones((2,3), int))\n",
    "print(np.zeros((4,5) ,int))\n",
    "\n"
   ]
  },
  {
   "cell_type": "markdown",
   "metadata": {
    "slideshow": {
     "slide_type": "subslide"
    }
   },
   "source": [
    "#### 9.2.1 Arrays erzeugen mit `arange()`"
   ]
  },
  {
   "cell_type": "markdown",
   "metadata": {
    "slideshow": {
     "slide_type": "fragment"
    }
   },
   "source": [
    "Der Syntax von `arange()` lautet:\n",
    "\n",
    "```python\n",
    "arange([start=0,] stop[, step=1][, dtype = None])\n",
    "```\n",
    "\n",
    "wobei:\n",
    "\n",
    "- *gleichmäßig verteilte* Werte innerhalb der halb-offenen Intervalls `[start, stop)` generiert werden\n",
    "- als Argumente sowohl `int` als auch `float` Werte übergeben werden können\n",
    "- mit `dtype` der Type des Arrays bestimmt werden kann, wird nichts angegeben, wird der Type anhand der Eingabewerte ermittelt"
   ]
  },
  {
   "cell_type": "markdown",
   "metadata": {
    "slideshow": {
     "slide_type": "fragment"
    }
   },
   "source": [
    "Wird `dtype = int` gesetzt, ist die Funktion `arange()` beinahe äquivalent zur built-in Funktion `range()`. Der Unterschied liegt im Rückgabeobjekt. `arange()` liefert ein `ndarry` zurück, während `range()` ein `range`-Objekt, welches ein *Iterator* ist, zurückliefert."
   ]
  },
  {
   "cell_type": "code",
   "execution_count": null,
   "metadata": {
    "slideshow": {
     "slide_type": "fragment"
    }
   },
   "outputs": [],
   "source": [
    "# TODO Beispiel zu arange()\n",
    "\n",
    "\n",
    "# im Vergleich dazu range():\n",
    "x = range(1,7)\n",
    "print(x)\n",
    "print(list(x))\n",
    "\n",
    "# TODO weitere arange-Beispiele\n",
    "\n",
    "\n",
    "# seltsame Beispiele\n",
    "print(\"\\nSeltsame Beispiel\")\n",
    "b = np.arange(12.04, 12.84, 0.08)\n",
    "print(\"b, \",b)\n",
    "c = np.arange(0.6, 10.4, 0.71, int)\n",
    "print(\"c: \",c)\n",
    "d = np.arange(0.28, 5, 0.71, int)\n",
    "print(\"d: \",d)\n",
    "#help(np.arange)"
   ]
  },
  {
   "cell_type": "markdown",
   "metadata": {
    "slideshow": {
     "slide_type": "subslide"
    }
   },
   "source": [
    "#### 9.2.2 Arrays erzeugen mit `linspace()`"
   ]
  },
  {
   "cell_type": "markdown",
   "metadata": {
    "slideshow": {
     "slide_type": "fragment"
    }
   },
   "source": [
    "Der Syntax von `linspace()` lautet:\n",
    "\n",
    "```python\n",
    "linspace(start, stop[, num=50][, endpoint = True][, retstep=False])\n",
    "```\n",
    "\n",
    "wobei:\n",
    "\n",
    "- `endpoint` vorgibt, ob der Wert `stop` noch mitausgegeben wird oder nicht. Default = `True`\n",
    "- `num` die Anzahl der *gleichmäßig verteilten* Werte aus dem Intervall `[start, stop]`vorgibt. Default = `50`\n",
    "- für `retstep=True` noch zusätzlich der Abstand der zurückgegebenen Werte des Arrays mit zurückgegeben wird. Default = `False`"
   ]
  },
  {
   "cell_type": "code",
   "execution_count": null,
   "metadata": {
    "slideshow": {
     "slide_type": "fragment"
    }
   },
   "outputs": [],
   "source": [
    "# TODO Beispiele zu linspace()\n",
    "# optional zur \"Verschönerung\"\n",
    "np.set_printoptions(linewidth=65, precision=3)\n",
    "\n"
   ]
  },
  {
   "cell_type": "markdown",
   "metadata": {
    "slideshow": {
     "slide_type": "fragment"
    }
   },
   "source": [
    "Wofür braucht es den Parameter `retstep` überhaupt? Kann man nicht einfach die Differenz zweier benachbarten Werte berechnen?"
   ]
  },
  {
   "cell_type": "code",
   "execution_count": null,
   "metadata": {
    "slideshow": {
     "slide_type": "fragment"
    }
   },
   "outputs": [],
   "source": [
    "# Beispiel, warum retstep Sinn macht\n",
    "a, spacing = np.linspace(4, 23, endpoint=False, retstep=True)\n",
    "print(a[:6])\n",
    "# Abstände zwischen den ersten 6 Array-Elementen:\n",
    "for i in range(6):\n",
    "    print(a[i + 1] - a[i])\n",
    "print(f\"{spacing=}\")"
   ]
  },
  {
   "cell_type": "markdown",
   "metadata": {
    "slideshow": {
     "slide_type": "fragment"
    }
   },
   "source": [
    "##### Vergleich von  `arange()` und `linspace()`"
   ]
  },
  {
   "cell_type": "markdown",
   "metadata": {
    "slideshow": {
     "slide_type": "fragment"
    }
   },
   "source": [
    "Laufzeitvergleich:"
   ]
  },
  {
   "cell_type": "code",
   "execution_count": null,
   "metadata": {
    "slideshow": {
     "slide_type": "fragment"
    }
   },
   "outputs": [],
   "source": [
    "#import laufzeitvergleich\n",
    "%run laufzeitvergleich.py"
   ]
  },
  {
   "cell_type": "markdown",
   "metadata": {
    "slideshow": {
     "slide_type": "fragment"
    }
   },
   "source": [
    "Attribute (*flags*) geben Informationen über das *Memory Layout* des Arrays:"
   ]
  },
  {
   "cell_type": "code",
   "execution_count": null,
   "metadata": {
    "slideshow": {
     "slide_type": "fragment"
    }
   },
   "outputs": [],
   "source": [
    "# Attributvergleich \n",
    "arr = np.arange(20, 30)\n",
    "linsp = np.linspace(20, 30, 10, endpoint=False)\n",
    "\n",
    "print(arr)\n",
    "print(linsp)\n",
    "\n",
    "print(\"Flags von arange():\\n\", arr.flags)\n",
    "print(\"Flags von linspace():\\n\", linsp.flags)"
   ]
  },
  {
   "cell_type": "markdown",
   "metadata": {
    "slideshow": {
     "slide_type": "fragment"
    }
   },
   "source": [
    "Interessant ist hierbei das Attribut `OWNDATA` (s. später in [9.2.4](#924-form-eines-arrays-verändern)):\n",
    "\n",
    "> The array owns the memory it uses (True) or borrows it from another object (False)."
   ]
  },
  {
   "cell_type": "markdown",
   "metadata": {
    "slideshow": {
     "slide_type": "subslide"
    }
   },
   "source": [
    "#### 9.2.3 Form eines Arrays ermitteln"
   ]
  },
  {
   "cell_type": "markdown",
   "metadata": {
    "slideshow": {
     "slide_type": "fragment"
    }
   },
   "source": [
    "Neben der Methode `np.dim()` gibt es zur Bestimmung der Größe bzw. Gestalt eines Arrays die Methoden `shape()` und `size()`. Die erste Methode liefert ein Tupel mit der Anzahl der Elemente pro Achse (Dimension). Es gibt auch eine äquivalente Array-Property `shape`. Die zweite gibt die absolute Anzahl der Elemente eines Arrays zurück.\n",
    "\n",
    "![](https://predictivehacks.com/wp-content/uploads/2020/08/numpy_arrays.png)\n",
    "<sub>Quelle: F. Neumann. \"Introduction to numpy and matplotlib\". TU Berlin. [fneum.github.io](https://fneum.github.io/data-science-for-esm/02-workshop-numpy.html)</sub>"
   ]
  },
  {
   "cell_type": "code",
   "execution_count": null,
   "metadata": {
    "slideshow": {
     "slide_type": "fragment"
    }
   },
   "outputs": [],
   "source": [
    "# Beispiel zu shape()\n",
    "x = np.array([[67, 63, 87], \n",
    "              [77, 69, 59], \n",
    "              [85, 87, 99], \n",
    "              [79, 72, 71], \n",
    "              [63, 89, 93], \n",
    "              [68, 92, 78]])\n",
    "\n",
    "y = np.array([[[111, 112], [121, 122]], \n",
    "              [[211, 212], [221, 222]], \n",
    "              [[311, 312], [321, 322]]]) \n",
    "\n",
    "z = np.array([1, 2, 3, 4, 5])\n",
    "\n",
    "# TODO Form ermitteln\n"
   ]
  },
  {
   "cell_type": "markdown",
   "metadata": {
    "slideshow": {
     "slide_type": "subslide"
    }
   },
   "source": [
    "#### 9.2.4 Form eines Arrays verändern"
   ]
  },
  {
   "cell_type": "markdown",
   "metadata": {
    "slideshow": {
     "slide_type": "fragment"
    }
   },
   "source": [
    "`numpy` Arrays besitzen Methoden, die eine *Sicht* (*view*) mit neuer Form kontruieren: `reshape()` und `ravel()`. Dabei ist die neue Form kein eigenes unabhängiges Objekt, sonder eine *Sicht*, die mit dem Original-Array verbunden bleibt. Wenn das Original-Array verändert wird, ändert sich auch die *Sicht*."
   ]
  },
  {
   "cell_type": "markdown",
   "metadata": {
    "slideshow": {
     "slide_type": "fragment"
    }
   },
   "source": [
    "- Beim Aufruf von `reshape()` werden natürliche Zahlen übergeben, die die Form der gewünschten Sicht beschreiben"
   ]
  },
  {
   "cell_type": "markdown",
   "metadata": {
    "slideshow": {
     "slide_type": "fragment"
    }
   },
   "source": [
    "- `ravel()` liefert eine *verflachte* Sicht, ein eindimensionales Array, in dem alle Elemente des Original-Arrays hintereinander geschrieben sind."
   ]
  },
  {
   "cell_type": "code",
   "execution_count": null,
   "metadata": {
    "slideshow": {
     "slide_type": "fragment"
    }
   },
   "outputs": [],
   "source": [
    "# TODO Beispiel zu reshape() und ravel()\n"
   ]
  },
  {
   "cell_type": "markdown",
   "metadata": {
    "slideshow": {
     "slide_type": "fragment"
    }
   },
   "source": [
    "Mit der Methode `resize()` wird das Array (und dessen Größe) verändert. Die Argumente sind Zahlen, die die gewünschte Form beschreiben. Wenn die neue Form größer ist, werden Nullen ergänzt. Allerdings wird empfohlen, die Methode über `np.resize(array, (newsize))`, anstatt es über das `ndarray` direkt über `ndarray.resize((newsize))` aufzurufen. Vor allem bei über `linspace()` erzeugte Arrays kann es sonst zu Fehlermeldungen führen. Hierbei wird solange mit wiederholten Kopien des Arrays aufgefüllt, bis die gewünschte Größe erreicht ist (s. auch [Dokumentation](https://numpy.org/doc/stable/reference/generated/numpy.resize.html#numpy-resize))"
   ]
  },
  {
   "cell_type": "code",
   "execution_count": null,
   "metadata": {
    "slideshow": {
     "slide_type": "fragment"
    }
   },
   "outputs": [],
   "source": [
    "# TODO Array verändern\n",
    "\n"
   ]
  },
  {
   "cell_type": "markdown",
   "metadata": {
    "slideshow": {
     "slide_type": "subslide"
    }
   },
   "source": [
    "#### 9.2.5 Indizierung und Slicing"
   ]
  },
  {
   "cell_type": "markdown",
   "metadata": {
    "slideshow": {
     "slide_type": "fragment"
    }
   },
   "source": [
    "Um auf einzelne Elemente zuzugreifen, verwendet man wie bei *Sequenzen* den `[]`-Operator:"
   ]
  },
  {
   "cell_type": "code",
   "execution_count": null,
   "metadata": {
    "slideshow": {
     "slide_type": "fragment"
    }
   },
   "outputs": [],
   "source": [
    "# Zugriff auf Elemente eines Arrays\n",
    "f = np.array([1, 7, 2, 3, 5, 8, 13, 21])\n",
    "print(f[0]) # erstes Element\n",
    "print(f[1]) # zweites Element\n",
    "print(f[-1])# letztes Element"
   ]
  },
  {
   "cell_type": "code",
   "execution_count": null,
   "metadata": {
    "slideshow": {
     "slide_type": "fragment"
    }
   },
   "outputs": [],
   "source": [
    "# Mehrdimensionale Arrays indizieren\n",
    "y = np.array([[[111, 112], [121, 122]], \n",
    "              [[211, 212], [221, 222]], \n",
    "              [[311, 312], [321, 322]]]) \n",
    "\n",
    "print(y[0][1][0])   # wie bei verschachtelten Listen\n",
    "print(y[0, 1, 0])   # funktioniert genauso"
   ]
  },
  {
   "cell_type": "markdown",
   "metadata": {
    "slideshow": {
     "slide_type": "fragment"
    }
   },
   "source": [
    "Auch das *Slicing* funktioniert ähnlich wie bei normalen Python-Sequenzen nach dem Syntax `[start:stop:step]`. **Achtung**: Während bei Listen und Tupel neue Objekte erzeugt werden, generiert der Teilsbereichtoperator bei NumPy nur eine *Sicht* auf das Original-Array. Um ein Array zu kopieren, benötigt man die Methode `copy()`."
   ]
  },
  {
   "cell_type": "code",
   "execution_count": null,
   "metadata": {
    "slideshow": {
     "slide_type": "fragment"
    }
   },
   "outputs": [],
   "source": [
    "# Einige Beispiele\n",
    "a = np.arange(9)\n",
    "print(a)\n",
    "print(a[1:4])\n",
    "print(a[:4])\n",
    "print(a[4:])\n",
    "print(a[::2])\n",
    "b = a[:]    # Sicht auf a\n",
    "print(b)\n",
    "b[0] = 99\n",
    "print(a)\n",
    "\n",
    "# TODO (Teil-)Array kopieren\n"
   ]
  },
  {
   "cell_type": "code",
   "execution_count": null,
   "metadata": {
    "slideshow": {
     "slide_type": "fragment"
    }
   },
   "outputs": [],
   "source": [
    "# Gleiche Operationen bei einer Liste\n",
    "lst = [0, 1, 2, 3, 4, 5, 6, 7, 8]\n",
    "print(lst)\n",
    "print(lst[1:4])\n",
    "print(lst[:4])\n",
    "print(lst[4:])\n",
    "print(lst[::2])\n",
    "lst2 = lst[:]   # flache Kopie \n",
    "lst2[0] = 99\n",
    "print(lst)"
   ]
  },
  {
   "cell_type": "markdown",
   "metadata": {
    "slideshow": {
     "slide_type": "fragment"
    }
   },
   "source": [
    "Im Zweifel kann man mithilfe der Methode `np.may_share_memory()` prüfen, ob zwei Arrays auf den gleichen Speicherbereich zugreifen."
   ]
  },
  {
   "cell_type": "code",
   "execution_count": null,
   "metadata": {
    "slideshow": {
     "slide_type": "fragment"
    }
   },
   "outputs": [],
   "source": [
    "# Prüfe Speicherbereich\n",
    "print(np.may_share_memory(a, b))\n",
    "print(np.may_share_memory(a, c))"
   ]
  },
  {
   "cell_type": "markdown",
   "metadata": {
    "slideshow": {
     "slide_type": "fragment"
    }
   },
   "source": [
    "Bei dreidimensionalen Arrays ist der Zugriff etwas schwerer vorstellbar. Aus diesem Grund soll folgendes Beispiel genauer betrachtet werden"
   ]
  },
  {
   "cell_type": "code",
   "execution_count": null,
   "metadata": {
    "slideshow": {
     "slide_type": "fragment"
    }
   },
   "outputs": [],
   "source": [
    "# dreidimensionales Array\n",
    "X = np.array([[[3, 1, 2],\n",
    "               [4, 2, 2]],\n",
    "               \n",
    "               [[-1, 0, 1],\n",
    "                [1, -1, -2]],\n",
    "                \n",
    "                [[3, 2, 2],\n",
    "                 [4, 4, 3]],\n",
    "                 \n",
    "                 [[2, 2, 1],\n",
    "                  [3, 1, 3]]])\n",
    "\n",
    "# zuerst selber überlegen\n",
    "print(X.shape)"
   ]
  },
  {
   "cell_type": "markdown",
   "metadata": {
    "slideshow": {
     "slide_type": "fragment"
    }
   },
   "source": [
    "![](anhang/mehrdimensional.png)\n",
    "\n",
    "<sub>Quelle: B. Klein, „Numerisches Python“, Carl Hanser Verlag GmbH & Co. KG, 2023, S. 30 </sub>"
   ]
  },
  {
   "cell_type": "markdown",
   "metadata": {
    "slideshow": {
     "slide_type": "subslide"
    }
   },
   "source": [
    "#### 9.2.6 Darstellung von Matrizen und Vektoren"
   ]
  },
  {
   "cell_type": "markdown",
   "metadata": {
    "slideshow": {
     "slide_type": "fragment"
    }
   },
   "source": [
    "Zur Darstellung von Matrizen und Vektoren werden zweidimensionale Arrays genutzt.\n",
    "\n",
    "Beispiel zu Vektoren:"
   ]
  },
  {
   "cell_type": "code",
   "execution_count": null,
   "metadata": {
    "slideshow": {
     "slide_type": "fragment"
    }
   },
   "outputs": [],
   "source": [
    "# TODO Vektoren mit numpy realisieren\n"
   ]
  },
  {
   "cell_type": "markdown",
   "metadata": {
    "slideshow": {
     "slide_type": "fragment"
    }
   },
   "source": [
    "Für Matrizen bietet sich die Kombination aus der Erstellung einer Zahlenfolge und der Methode `reshape()` an:\n"
   ]
  },
  {
   "cell_type": "code",
   "execution_count": null,
   "metadata": {
    "slideshow": {
     "slide_type": "fragment"
    }
   },
   "outputs": [],
   "source": [
    "# TODO Möglichkeit, Matrix darzustellen\n"
   ]
  },
  {
   "cell_type": "markdown",
   "metadata": {
    "slideshow": {
     "slide_type": "fragment"
    }
   },
   "source": [
    "Zur Erzeugung einer Einheitsmatrix gibt es zwei Möglichkeiten:\n",
    "\n",
    "1. `eye(n[, m[, k[, dtype]]])`: `n`: Anzahl der $1$ er auf der Hauptdiagonalen; `m`: Optional. Anzahl der Spalten, falls Matrix nicht quadratisch; `k`: Optional. Anzahl der $0$ er Spalten *vor* der Diagonalen aus $1$.\n",
    "2. `identity(n[, dtype])`: liefert quadratische Einheitsmatrix der Form n x n."
   ]
  },
  {
   "cell_type": "code",
   "execution_count": null,
   "metadata": {
    "slideshow": {
     "slide_type": "fragment"
    }
   },
   "outputs": [],
   "source": [
    "# TODO Einheitsmatrix\n",
    "i = np.identity(3, dtype = int)\n",
    "print(i)\n",
    "\n",
    "e =np.eye(3, 7, 1, dtype = int)\n",
    "print(e)"
   ]
  },
  {
   "cell_type": "markdown",
   "metadata": {
    "slideshow": {
     "slide_type": "fragment"
    }
   },
   "source": [
    "Die Methode `transpose()` liefert eine transponierte Darstellung als *Sicht*. Arrays besitzen alternativ auch das Attribut `T`, das ebenfalls eine *Sicht* auf die transponierte Darstellung enthält."
   ]
  },
  {
   "cell_type": "code",
   "execution_count": null,
   "metadata": {
    "slideshow": {
     "slide_type": "fragment"
    }
   },
   "outputs": [],
   "source": [
    "# TODO mit Beispielen von oben\n",
    "\n",
    "\n",
    "# transponierter Vektor\n"
   ]
  },
  {
   "cell_type": "markdown",
   "metadata": {
    "slideshow": {
     "slide_type": "subslide"
    }
   },
   "source": [
    "#### 9.2.7 Konkatenation von Arrays"
   ]
  },
  {
   "cell_type": "markdown",
   "metadata": {
    "slideshow": {
     "slide_type": "fragment"
    }
   },
   "source": [
    "Syntax der Funktion `concatenate`:\n",
    "\n",
    "```python\n",
    "concatenate((a1, a2, ...), axis=0,\n",
    "            out=None, dtype=None)\n",
    "```"
   ]
  },
  {
   "cell_type": "code",
   "execution_count": null,
   "metadata": {
    "slideshow": {
     "slide_type": "fragment"
    }
   },
   "outputs": [],
   "source": [
    "# Beispiel zur Konkatenation\n",
    "# eindimensionale Arrays\n",
    "x = np.array([11, 22])\n",
    "y = np.array([18, 7, 6])\n",
    "z = np.array([1, 3, 5])\n",
    "c = np.concatenate((x, y, z))\n",
    "print(c)"
   ]
  },
  {
   "cell_type": "code",
   "execution_count": null,
   "metadata": {
    "slideshow": {
     "slide_type": "fragment"
    }
   },
   "outputs": [],
   "source": [
    "# mehrdimensionale Arrays, axis=0\n",
    "x = np.array(range(8))\n",
    "x = x.reshape((2, 4))\n",
    "y = np.array(range(100, 112))\n",
    "y = y.reshape((3, 4))\n",
    "z = np.concatenate((x, y)) # axis=1 geht nicht\n",
    "print(f'x:\\n{x}\\n\\ny:\\n{y}\\n\\nz:\\n{z}')"
   ]
  },
  {
   "cell_type": "code",
   "execution_count": null,
   "metadata": {
    "slideshow": {
     "slide_type": "fragment"
    }
   },
   "outputs": [],
   "source": [
    "# mehrdimensionale Arrays, axis=1\n",
    "x = np.array(range(8)).reshape((4, 2))\n",
    "y = np.array(range(100, 112)).reshape((4, 3))\n",
    "z = np.concatenate((x, y), axis=1)\n",
    "print(f'x:\\n{x}\\n\\ny:\\n{y}\\n\\nz:\\n{z}')"
   ]
  },
  {
   "cell_type": "markdown",
   "metadata": {
    "slideshow": {
     "slide_type": "fragment"
    }
   },
   "source": [
    "&rarr; bei der Konkatenation mehrdimensionaler Arrays entlang einer bestimmten Achse muss sichergestellt sein, dass die *shape* **aller anderen Dimensionen** gleich sind. "
   ]
  },
  {
   "cell_type": "code",
   "execution_count": null,
   "metadata": {
    "slideshow": {
     "slide_type": "fragment"
    }
   },
   "outputs": [],
   "source": [
    "# dreidimensionales Beispiel\n",
    "x = np.array(range(24)).reshape((2, 3, 4))\n",
    "y = np.array(range(100, 116)).reshape((2, 2, 4))\n",
    "z = np.concatenate((x, y), axis=1)\n",
    "print(f'x:\\n{x}\\n\\ny:\\n{y}\\n\\nz:\\n{z}')"
   ]
  },
  {
   "cell_type": "markdown",
   "metadata": {
    "slideshow": {
     "slide_type": "subslide"
    }
   },
   "source": [
    "#### 9.2.8 Vergleiche"
   ]
  },
  {
   "cell_type": "markdown",
   "metadata": {
    "slideshow": {
     "slide_type": "fragment"
    }
   },
   "source": [
    "Zwei Arrays können mit den üblichen Vergleichsoperatoren (`<, <=, >, >=, ==, !=`) elementweise verglichen werden. Das Ergebnis ist ein Array mit Wahrheitswerten:"
   ]
  },
  {
   "cell_type": "code",
   "execution_count": null,
   "metadata": {
    "slideshow": {
     "slide_type": "fragment"
    }
   },
   "outputs": [],
   "source": [
    "# TODO Arrays vergleichen\n",
    "a = np.array([[1, 2], [2, 0]])\n",
    "b = np.array([[1, 2], [2, 3]])\n"
   ]
  },
  {
   "cell_type": "markdown",
   "metadata": {
    "slideshow": {
     "slide_type": "fragment"
    }
   },
   "source": [
    "Mit den Methoden `logical_or()` und `logical_and()` können Sie zusammengesetzte Bedingungen konstruieren. Die normalen logischen Operatoren wie `&` oder `|` können nicht verwendet werden:"
   ]
  },
  {
   "cell_type": "code",
   "execution_count": null,
   "metadata": {
    "slideshow": {
     "slide_type": "fragment"
    }
   },
   "outputs": [],
   "source": [
    "# Bedingungen verknüpfen\n",
    "a = np.arange(8)\n",
    "b = np.logical_and(a >= 3, a <= 5)\n",
    "print(b)"
   ]
  },
  {
   "cell_type": "markdown",
   "metadata": {
    "slideshow": {
     "slide_type": "subslide"
    }
   },
   "source": [
    "#### 9.2.9 weitere Methoden und Attribute"
   ]
  },
  {
   "cell_type": "markdown",
   "metadata": {
    "slideshow": {
     "slide_type": "fragment"
    }
   },
   "source": [
    "Allgemein:\n",
    "\n",
    "|Attribut oder Methode|Erklärung|\n",
    "|:----|:----|\n",
    "|`dtype`| Datentyp der Elemente des Arrays|\n",
    "|`fill(x)`| Das gesamte Array wird mit dem Skalar *x* gefüllt|\n",
    "|`round([decimals])`| Alle Zahlen im Array werden gerundet. Das optionale Argument gibt die Anzahl der Nachkommastellen an|\n",
    "|`sort()`| In-Place-Sortierung der Elemente des Arrays|\n",
    "|`tolist()`|Liefert eine (eventuell verschachtelte) Liste, die das Array repräsentiert|"
   ]
  },
  {
   "cell_type": "markdown",
   "metadata": {
    "slideshow": {
     "slide_type": "fragment"
    }
   },
   "source": [
    "Aus dem Modul `numpy.random`:\n",
    "\n",
    "|Attribut oder Methode|Erklärung|\n",
    "|:----|:----|\n",
    "|`rand(...)`|Liefert ein Array mit gleichverteilten Zufallszahlen zwischen $0$ und $1$. Im Argument wird die Form übergeben.\n",
    "|`randint(low, high, shape)`|Liefert ein Array mit ganzen Zufallszahlen zwischen *low* (einschließlich) und *high* (ausschließlich). Das Argument *shape* gibt die Form des Arrays an.|\n",
    "|`randn(...)`|Liefert eine Matrix mit Zufallszahlen in gaußscher Normalverteilung mit Mittelwert $0$ und Varianz $1$.|\n",
    "|`seed(n)`|*Seed* der Zufallsroutine wird auf *n* gesetzt|"
   ]
  },
  {
   "cell_type": "code",
   "execution_count": null,
   "metadata": {
    "slideshow": {
     "slide_type": "fragment"
    }
   },
   "outputs": [],
   "source": [
    "# TODO Beispiel zu seed()\n"
   ]
  },
  {
   "cell_type": "markdown",
   "metadata": {
    "slideshow": {
     "slide_type": "subslide"
    }
   },
   "source": [
    "#### 9.2.10 Datentypen"
   ]
  },
  {
   "cell_type": "markdown",
   "metadata": {
    "slideshow": {
     "slide_type": "fragment"
    }
   },
   "source": [
    "|Datentyp| Beschreibung|\n",
    "|:----|:----|\n",
    "|`int8`| Byte (-128 … 127), 1 Byte\n",
    "|`int16`| Integer (-32768 … 32767), 2 Bytes\n",
    "|`int32`| Integer (-2147483648 … 2147483647), 4 Bytes\n",
    "|`int64` |Integer (-9223372036854775808 … 9223372036854775807), 8 Bytes\n",
    "|`uint8` |Unsigned integer (0 … 255), 1 Byte\n",
    "|`uint16` |Unsigned integer (0 … 65535), 2 Bytes\n",
    "|`uint32` |Unsigned integer (0 … 4294967295), 4 Bytes\n",
    "|`uint64` |Unsigned integer (0 … 18446744073709551615), 8 Bytes\n",
    "|`float16` |Half precision float: Vorzeichenbit, 5 Exponentenbits, 10 Mantissenbits\n",
    "|`float32` |Single precision float: Vorzeichenbit, 8 Exponentenbits, 23 Mantissenbits\n",
    "|`float64` |Double precision float: Vorzeichenbit, 11 Exponentenbits, 52 Mantissenbits\n",
    "|`complex64` |Komplexe Zahl, Real- und Imaginärteil sind jeweils 32-bit floats\n",
    "|`complex128` |Komplexe Zahl, Real- und Imaginärteil sind jeweils 64-bit floats"
   ]
  },
  {
   "cell_type": "code",
   "execution_count": null,
   "metadata": {
    "slideshow": {
     "slide_type": "fragment"
    }
   },
   "outputs": [],
   "source": [
    "# Nähere Informationen über Datentypen\n",
    "print(np.finfo(np.float16))\n",
    "print(np.finfo(np.float32))\n",
    "print(np.finfo(np.float64))"
   ]
  }
 ],
 "metadata": {
  "celltoolbar": "Slideshow",
  "kernelspec": {
   "display_name": "Python 3 (ipykernel)",
   "language": "python",
   "name": "python3"
  },
  "language_info": {
   "codemirror_mode": {
    "name": "ipython",
    "version": 3
   },
   "file_extension": ".py",
   "mimetype": "text/x-python",
   "name": "python",
   "nbconvert_exporter": "python",
   "pygments_lexer": "ipython3",
   "version": "3.11.7"
  },
  "varInspector": {
   "cols": {
    "lenName": 16,
    "lenType": 16,
    "lenVar": 40
   },
   "kernels_config": {
    "python": {
     "delete_cmd_postfix": "",
     "delete_cmd_prefix": "del ",
     "library": "var_list.py",
     "varRefreshCmd": "print(var_dic_list())"
    },
    "r": {
     "delete_cmd_postfix": ") ",
     "delete_cmd_prefix": "rm(",
     "library": "var_list.r",
     "varRefreshCmd": "cat(var_dic_list()) "
    }
   },
   "types_to_exclude": [
    "module",
    "function",
    "builtin_function_or_method",
    "instance",
    "_Feature"
   ],
   "window_display": false
  }
 },
 "nbformat": 4,
 "nbformat_minor": 2
}
